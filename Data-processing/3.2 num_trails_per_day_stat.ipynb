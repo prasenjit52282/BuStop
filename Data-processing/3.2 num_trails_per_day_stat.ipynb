{
 "cells": [
  {
   "cell_type": "code",
   "execution_count": 1,
   "metadata": {},
   "outputs": [],
   "source": [
    "import glob\n",
    "import numpy as np\n",
    "import pandas as pd\n",
    "import matplotlib.pyplot as plt"
   ]
  },
  {
   "cell_type": "code",
   "execution_count": 2,
   "metadata": {},
   "outputs": [],
   "source": [
    "folders=glob.glob(\"./Trails/*/*\")\n",
    "get_date=lambda f_name:f_name.split(\"\\\\\")[-1].split(\"_\")[0]"
   ]
  },
  {
   "cell_type": "code",
   "execution_count": 3,
   "metadata": {},
   "outputs": [
    {
     "name": "stdout",
     "output_type": "stream",
     "text": [
      "number of trails(down:52+ up:50)= 102\n",
      "trail per day:mean=5.10, std=3.04\n"
     ]
    }
   ],
   "source": [
    "print(\"number of trails(down:52+ up:50)=\",len(folders))\n",
    "\n",
    "dates=list(map(get_date,folders))\n",
    "trail_count_per_date=pd.DataFrame({\"date\":dates,\"folder\":folders}).groupby(\"date\")[\"folder\"].count()#.mean()\n",
    "\n",
    "print(f\"trail per day:mean={trail_count_per_date.mean():.2f}, std={trail_count_per_date.std():.2f}\")"
   ]
  },
  {
   "cell_type": "code",
   "execution_count": 4,
   "metadata": {},
   "outputs": [
    {
     "data": {
      "image/png": "[encoded data removed]",
      "text/plain": [
       "<Figure size 792x504 with 1 Axes>"
      ]
     },
     "metadata": {
      "needs_background": "light"
     },
     "output_type": "display_data"
    }
   ],
   "source": [
    "fig, ax = plt.subplots(figsize=(11,7))\n",
    "\n",
    "bp1=\\\n",
    "ax.boxplot([trail_count_per_date.values],\n",
    "        positions=[0],\n",
    "        showfliers=True,notch=False,patch_artist=True, boxprops=dict(linewidth=3.0,color='black',facecolor=\"lightgrey\"),\n",
    "        whiskerprops = dict(linestyle='-',linewidth=3.0, color='black'),\n",
    "        capprops=dict(linestyle='-',linewidth=3.0, color='black'),\n",
    "        medianprops=dict(linestyle='-',linewidth=3.0, color='orange'),\n",
    "        flierprops=dict(marker='x', markerfacecolor='green', markersize=10,linestyle='')\n",
    "        )\n",
    "\n",
    "ax.set_xlabel(\"Day wise\",fontsize=22, fontweight='bold')\n",
    "ax.set_ylabel(\"# Trails\",fontsize=22, fontweight='bold')\n",
    "\n",
    "ax.set_xticks([])\n",
    "#ax.set_xticklabels(['Bus Stop','Turn','Signal','Congestion','Ad-hoc'],fontsize=22, fontweight='bold')\n",
    "plt.yticks(fontsize=22, fontweight='bold')\n",
    "plt.tight_layout()\n",
    "plt.grid()\n",
    "fig.savefig(\"day_wise_trail_box.png\")"
   ]
  },
  {
   "cell_type": "code",
   "execution_count": 5,
   "metadata": {},
   "outputs": [],
   "source": [
    "#NICE"
   ]
  }
 ],
 "metadata": {
  "interpreter": {
   "hash": "420e4fbe13fa7f1391f913b85aaaf957690a692c93eff5611bf667c3aea2d66c"
  },
  "kernelspec": {
   "display_name": "Python 3 (ipykernel)",
   "language": "python",
   "name": "python3"
  },
  "language_info": {
   "codemirror_mode": {
    "name": "ipython",
    "version": 3
   },
   "file_extension": ".py",
   "mimetype": "text/x-python",
   "name": "python",
   "nbconvert_exporter": "python",
   "pygments_lexer": "ipython3",
   "version": "3.8.12"
  }
 },
 "nbformat": 4,
 "nbformat_minor": 2
}
