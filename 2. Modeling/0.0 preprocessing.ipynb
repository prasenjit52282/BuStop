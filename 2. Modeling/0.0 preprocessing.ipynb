{
 "cells": [
  {
   "cell_type": "markdown",
   "metadata": {},
   "source": [
    "# Preprocessing"
   ]
  },
  {
   "cell_type": "code",
   "execution_count": 1,
   "metadata": {},
   "outputs": [],
   "source": [
    "import numpy as np\n",
    "import pandas as pd\n",
    "from math import cos, asin, sqrt, pi"
   ]
  },
  {
   "cell_type": "code",
   "execution_count": 2,
   "metadata": {},
   "outputs": [],
   "source": [
    "#helper functions\n",
    "def distance(lat1, lon1, lat2, lon2):\n",
    "    p = pi/180\n",
    "    a = 0.5 - cos((lat2-lat1)*p)/2 + cos(lat1*p) * cos(lat2*p) * (1-cos((lon2-lon1)*p))/2\n",
    "    return 12742000 * asin(sqrt(a))\n",
    "\n",
    "def cumulative_distance(lat_longs):\n",
    "    l=[]\n",
    "    prev_lat,prev_long=lat_longs[0]\n",
    "\n",
    "    for lat,long in lat_longs:\n",
    "        l.append(distance(lat,long,prev_lat,prev_long)+1e-7)\n",
    "        prev_lat=lat\n",
    "        prev_long=long\n",
    "        \n",
    "    return l\n",
    "\n",
    "def time_zone_cal(s):\n",
    "    hour=int(s.split(':')[0])\n",
    "\n",
    "    if 6<hour<=9:\n",
    "        time_zone='Early_Morning'\n",
    "    elif 9<hour<=12:\n",
    "        time_zone='Morning'\n",
    "    elif 12<hour<=17:\n",
    "        time_zone='Afternoon'\n",
    "    elif 17<hour<=23:\n",
    "        time_zone='Evening'\n",
    "    return time_zone"
   ]
  },
  {
   "cell_type": "code",
   "execution_count": 3,
   "metadata": {},
   "outputs": [],
   "source": [
    "def new_Processing_before_journal(location):\n",
    "    #reading Data\n",
    "    df=pd.read_csv(location)\n",
    "\n",
    "    #Normalizing edge values with edge distance\n",
    "    df['next_hop_distance']=cumulative_distance(df[['lat','long']].values)\n",
    "\n",
    "    df['edge_wifi_count']=df.edge_wifi_count/df.next_hop_distance\n",
    "    df['d_edge_wifi_count']=df.d_edge_wifi_count/df.next_hop_distance\n",
    "\n",
    "    df['edge_honk_duration']=df.edge_honk_duration/df.next_hop_distance\n",
    "    df['d_edge_honk_duration']=df.d_edge_honk_duration/df.next_hop_distance\n",
    "\n",
    "    #calculating timeZone\n",
    "    df['time_zone']=df.start_time.apply(time_zone_cal)\n",
    "    df=pd.get_dummies(df, columns=[\"time_zone\"], prefix=[\"Is\"])\n",
    "\n",
    "    #Rebuilding meaning full features from sparse features\n",
    "    df['highly_populated_poi_exist']=(df.school+df.medical+df.other_poi+df.park).apply(np.ceil)\n",
    "    df['road_exist_percent']=df.high_way+df.two_way+df.one_way\n",
    "\n",
    "    #Processing labels\n",
    "    df['Is_Bus_stop']=df.Is_Bus_stop.map({'Bus_stop':1,'Not Bus_stop':0})\n",
    "    df['Is_Turn']=df.Is_Turn.map({'Turn':1,'Not Turn':0})\n",
    "    df['Is_Signal']=df.Is_Signal.map({'Signal':1,'Not Signal':0})\n",
    "    df['Is_Congestion']=df.Is_Congestion.map({'Congestion':1,'Not Congestion':0})\n",
    "    df['Is_Adhoc']=df.Is_Adhoc.map({'Adhoc':1,'Not Adhoc':0})\n",
    "\n",
    "    #Selected Columns\n",
    "    features=\\\n",
    "    [\n",
    "     'stay_duration', #f1\n",
    "     'mfcc0','mfcc1','mfcc2','mfcc3','mfcc4', #f2,f3,f4,f5,f6\n",
    "     'wifi_count', 'edge_wifi_count', #f7,f8\n",
    "     'RSI', #f9\n",
    "     'human_made', 'natural_land','road_exist_percent','highly_populated_poi_exist'#f10,f11,f12,f13\n",
    "     ]\n",
    "\n",
    "    labels=['Is_Bus_stop','Is_Turn', 'Is_Signal','Is_Congestion', 'Is_Adhoc']\n",
    "\n",
    "    #New dataFrame is returned\n",
    "    return df[['start_date','lat','long']+features+labels].copy()"
   ]
  },
  {
   "cell_type": "code",
   "execution_count": 4,
   "metadata": {},
   "outputs": [],
   "source": [
    "df=new_Processing_before_journal(\"./Datasets/Processed_Bus_Trail_data_54F_with_mfcc.csv\")#Raw data is processed"
   ]
  },
  {
   "cell_type": "code",
   "execution_count": 5,
   "metadata": {},
   "outputs": [
    {
     "output_type": "execute_result",
     "data": {
      "text/plain": [
       "   start_date        lat       long  stay_duration      mfcc0      mfcc1  \\\n",
       "0  07/01/2019  23.493971  87.316881            488  67.818039   1.263919   \n",
       "1  07/01/2019  23.494337  87.315492              5  44.754398  37.003323   \n",
       "2  07/01/2019  23.495549  87.314790              6  56.725891  52.627785   \n",
       "3  07/01/2019  23.496365  87.313693             15  59.861256  22.330914   \n",
       "4  07/01/2019  23.500254  87.305777             26  80.373077   5.503228   \n",
       "\n",
       "       mfcc2     mfcc3     mfcc4  wifi_count  ...       RSI  human_made  \\\n",
       "0  -0.591836 -3.507530 -4.134767          13  ...  0.000000    0.171148   \n",
       "1  21.799101  3.421882 -2.868409           0  ...  1.762508    0.175362   \n",
       "2  49.275581 -0.484674 -6.185000           0  ...  1.582408    0.103336   \n",
       "3  11.357491 -4.456223 -5.438293           0  ...  1.751993    0.073111   \n",
       "4   1.224433 -3.511852 -5.155401           2  ...  2.459421    0.057776   \n",
       "\n",
       "   natural_land  road_exist_percent  highly_populated_poi_exist  Is_Bus_stop  \\\n",
       "0      0.657088            0.171764                         0.0            0   \n",
       "1      0.642954            0.181684                         0.0            0   \n",
       "2      0.769924            0.126740                         0.0            0   \n",
       "3      0.781930            0.144959                         0.0            1   \n",
       "4      0.773580            0.158518                         1.0            1   \n",
       "\n",
       "   Is_Turn  Is_Signal  Is_Congestion  Is_Adhoc  \n",
       "0        0          0              0         1  \n",
       "1        0          0              0         1  \n",
       "2        0          0              0         1  \n",
       "3        0          0              0         0  \n",
       "4        0          0              0         0  \n",
       "\n",
       "[5 rows x 21 columns]"
      ],
      "text/html": "<div>\n<style scoped>\n    .dataframe tbody tr th:only-of-type {\n        vertical-align: middle;\n    }\n\n    .dataframe tbody tr th {\n        vertical-align: top;\n    }\n\n    .dataframe thead th {\n        text-align: right;\n    }\n</style>\n<table border=\"1\" class=\"dataframe\">\n  <thead>\n    <tr style=\"text-align: right;\">\n      <th></th>\n      <th>start_date</th>\n      <th>lat</th>\n      <th>long</th>\n      <th>stay_duration</th>\n      <th>mfcc0</th>\n      <th>mfcc1</th>\n      <th>mfcc2</th>\n      <th>mfcc3</th>\n      <th>mfcc4</th>\n      <th>wifi_count</th>\n      <th>...</th>\n      <th>RSI</th>\n      <th>human_made</th>\n      <th>natural_land</th>\n      <th>road_exist_percent</th>\n      <th>highly_populated_poi_exist</th>\n      <th>Is_Bus_stop</th>\n      <th>Is_Turn</th>\n      <th>Is_Signal</th>\n      <th>Is_Congestion</th>\n      <th>Is_Adhoc</th>\n    </tr>\n  </thead>\n  <tbody>\n    <tr>\n      <td>0</td>\n      <td>07/01/2019</td>\n      <td>23.493971</td>\n      <td>87.316881</td>\n      <td>488</td>\n      <td>67.818039</td>\n      <td>1.263919</td>\n      <td>-0.591836</td>\n      <td>-3.507530</td>\n      <td>-4.134767</td>\n      <td>13</td>\n      <td>...</td>\n      <td>0.000000</td>\n      <td>0.171148</td>\n      <td>0.657088</td>\n      <td>0.171764</td>\n      <td>0.0</td>\n      <td>0</td>\n      <td>0</td>\n      <td>0</td>\n      <td>0</td>\n      <td>1</td>\n    </tr>\n    <tr>\n      <td>1</td>\n      <td>07/01/2019</td>\n      <td>23.494337</td>\n      <td>87.315492</td>\n      <td>5</td>\n      <td>44.754398</td>\n      <td>37.003323</td>\n      <td>21.799101</td>\n      <td>3.421882</td>\n      <td>-2.868409</td>\n      <td>0</td>\n      <td>...</td>\n      <td>1.762508</td>\n      <td>0.175362</td>\n      <td>0.642954</td>\n      <td>0.181684</td>\n      <td>0.0</td>\n      <td>0</td>\n      <td>0</td>\n      <td>0</td>\n      <td>0</td>\n      <td>1</td>\n    </tr>\n    <tr>\n      <td>2</td>\n      <td>07/01/2019</td>\n      <td>23.495549</td>\n      <td>87.314790</td>\n      <td>6</td>\n      <td>56.725891</td>\n      <td>52.627785</td>\n      <td>49.275581</td>\n      <td>-0.484674</td>\n      <td>-6.185000</td>\n      <td>0</td>\n      <td>...</td>\n      <td>1.582408</td>\n      <td>0.103336</td>\n      <td>0.769924</td>\n      <td>0.126740</td>\n      <td>0.0</td>\n      <td>0</td>\n      <td>0</td>\n      <td>0</td>\n      <td>0</td>\n      <td>1</td>\n    </tr>\n    <tr>\n      <td>3</td>\n      <td>07/01/2019</td>\n      <td>23.496365</td>\n      <td>87.313693</td>\n      <td>15</td>\n      <td>59.861256</td>\n      <td>22.330914</td>\n      <td>11.357491</td>\n      <td>-4.456223</td>\n      <td>-5.438293</td>\n      <td>0</td>\n      <td>...</td>\n      <td>1.751993</td>\n      <td>0.073111</td>\n      <td>0.781930</td>\n      <td>0.144959</td>\n      <td>0.0</td>\n      <td>1</td>\n      <td>0</td>\n      <td>0</td>\n      <td>0</td>\n      <td>0</td>\n    </tr>\n    <tr>\n      <td>4</td>\n      <td>07/01/2019</td>\n      <td>23.500254</td>\n      <td>87.305777</td>\n      <td>26</td>\n      <td>80.373077</td>\n      <td>5.503228</td>\n      <td>1.224433</td>\n      <td>-3.511852</td>\n      <td>-5.155401</td>\n      <td>2</td>\n      <td>...</td>\n      <td>2.459421</td>\n      <td>0.057776</td>\n      <td>0.773580</td>\n      <td>0.158518</td>\n      <td>1.0</td>\n      <td>1</td>\n      <td>0</td>\n      <td>0</td>\n      <td>0</td>\n      <td>0</td>\n    </tr>\n  </tbody>\n</table>\n<p>5 rows × 21 columns</p>\n</div>"
     },
     "metadata": {},
     "execution_count": 5
    }
   ],
   "source": [
    "df.head()"
   ]
  },
  {
   "cell_type": "code",
   "execution_count": 6,
   "metadata": {},
   "outputs": [],
   "source": [
    "df.to_csv('./Datasets/DataSet_54F_mfcc.csv',index=False)"
   ]
  },
  {
   "source": [
    "# NICE"
   ],
   "cell_type": "markdown",
   "metadata": {}
  }
 ],
 "metadata": {
  "kernelspec": {
   "display_name": "Python 3",
   "language": "python",
   "name": "python3"
  },
  "language_info": {
   "codemirror_mode": {
    "name": "ipython",
    "version": 3
   },
   "file_extension": ".py",
   "mimetype": "text/x-python",
   "name": "python",
   "nbconvert_exporter": "python",
   "pygments_lexer": "ipython3",
   "version": "3.7.4-final"
  }
 },
 "nbformat": 4,
 "nbformat_minor": 4
}