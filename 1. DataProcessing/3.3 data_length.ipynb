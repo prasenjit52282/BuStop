{
 "cells": [
  {
   "cell_type": "code",
   "execution_count": 1,
   "id": "5fec8551",
   "metadata": {},
   "outputs": [],
   "source": [
    "import glob\n",
    "import numpy as np\n",
    "import pandas as pd\n",
    "from tqdm import tqdm\n",
    "from geopy.distance import geodesic"
   ]
  },
  {
   "cell_type": "code",
   "execution_count": 2,
   "id": "9a4e7eca",
   "metadata": {},
   "outputs": [],
   "source": [
    "gps_files=glob.glob(\"./Bus_Trails/*/*/*/*_GPS_*\")"
   ]
  },
  {
   "cell_type": "code",
   "execution_count": 3,
   "id": "c0f5556e",
   "metadata": {},
   "outputs": [],
   "source": [
    "def get_length_of_route(gps_file):\n",
    "    df=pd.read_csv(gps_file).reset_index()\n",
    "    df.columns=['lat','long','speed','aultitude','time','remark']\n",
    "\n",
    "    dis=0\n",
    "    start_lat,start_long=df[['lat','long']].iloc[0]\n",
    "    for lat,long in df[['lat','long']].values:\n",
    "        dis+=geodesic((start_lat,start_long),(lat,long)).m\n",
    "        start_lat,start_long=lat,long\n",
    "        \n",
    "    #print(gps_file,dis)\n",
    "    return dis"
   ]
  },
  {
   "cell_type": "code",
   "execution_count": 4,
   "id": "978bac6b",
   "metadata": {
    "scrolled": true
   },
   "outputs": [
    {
     "name": "stderr",
     "output_type": "stream",
     "text": [
      "100%|████████████████████████████████████████████████████████████████████████████████| 102/102 [02:08<00:00,  1.26s/it]\n"
     ]
    }
   ],
   "source": [
    "dis=0\n",
    "for trail in tqdm(gps_files):\n",
    "    dis+=get_length_of_route(trail)"
   ]
  },
  {
   "cell_type": "code",
   "execution_count": 6,
   "id": "781e4799",
   "metadata": {},
   "outputs": [
    {
     "data": {
      "text/plain": [
       "1335.36514119713"
      ]
     },
     "execution_count": 6,
     "metadata": {},
     "output_type": "execute_result"
    }
   ],
   "source": [
    "dis/1000"
   ]
  },
  {
   "cell_type": "code",
   "execution_count": 4,
   "id": "8ba89ec0",
   "metadata": {},
   "outputs": [],
   "source": [
    "#NICE"
   ]
  }
 ],
 "metadata": {
  "kernelspec": {
   "display_name": "Python 3 (ipykernel)",
   "language": "python",
   "name": "python3"
  },
  "language_info": {
   "codemirror_mode": {
    "name": "ipython",
    "version": 3
   },
   "file_extension": ".py",
   "mimetype": "text/x-python",
   "name": "python",
   "nbconvert_exporter": "python",
   "pygments_lexer": "ipython3",
   "version": "3.8.12"
  }
 },
 "nbformat": 4,
 "nbformat_minor": 5
}
