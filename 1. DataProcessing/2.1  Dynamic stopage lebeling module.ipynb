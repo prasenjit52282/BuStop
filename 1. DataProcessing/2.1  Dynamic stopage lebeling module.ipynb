{
 "cells": [
  {
   "cell_type": "markdown",
   "metadata": {},
   "source": [
    "# dynamic_stopages.csv Generator"
   ]
  },
  {
   "cell_type": "code",
   "execution_count": 1,
   "metadata": {},
   "outputs": [],
   "source": [
    "import glob\n",
    "import numpy as np\n",
    "import pandas as pd\n",
    "from math import cos, asin, sqrt, pi\n",
    "\n",
    "def distance(lat1, lon1, lat2, lon2):\n",
    "    p = pi/180\n",
    "    a = 0.5 - cos((lat2-lat1)*p)/2 + cos(lat1*p) * cos(lat2*p) * (1-cos((lon2-lon1)*p))/2\n",
    "    return 12742000 * asin(sqrt(a))"
   ]
  },
  {
   "cell_type": "markdown",
   "metadata": {},
   "source": [
    "# Helpers"
   ]
  },
  {
   "cell_type": "code",
   "execution_count": 2,
   "metadata": {},
   "outputs": [],
   "source": [
    "def get_dynamic_tags(folder):\n",
    "    df=pd.read_csv(folder+'GPS.csv')\n",
    "    \n",
    "    #Only congestion is taken into account...as others are given as ground truth...(checked!!)\n",
    "    tags=\\\n",
    "    dict([('Congestion',df[[True if ('Busy' in str(desc)) else False for desc in df.desc.values]][['#lat','long']])\n",
    "         ])\n",
    "    return tags\n",
    "\n",
    "\n",
    "def if_in_range_of_tag_df(lat1,long1,dis,tag_df,tag_name):\n",
    "    for lat,long in tag_df.values:\n",
    "        if distance(lat1,long1,lat,long)<=dis:\n",
    "            return tag_name\n",
    "    else:\n",
    "        return 'Not '+tag_name\n",
    "\n",
    "    \n",
    "def label_dataframe_with_tags(df,tags,stopage_distance=50):\n",
    "    label={}\n",
    "    for tag_name in tags.keys():\n",
    "        l=[]\n",
    "        for lat,long in df[['lat','long']].values:\n",
    "            l.append(if_in_range_of_tag_df(lat,long,stopage_distance,tags[tag_name],tag_name))\n",
    "        label['Is_'+tag_name]=l\n",
    "        \n",
    "    return pd.DataFrame(label)"
   ]
  },
  {
   "cell_type": "markdown",
   "metadata": {},
   "source": [
    "# Tagging"
   ]
  },
  {
   "cell_type": "code",
   "execution_count": 3,
   "metadata": {},
   "outputs": [],
   "source": [
    "stopage_distance=30"
   ]
  },
  {
   "cell_type": "code",
   "execution_count": 4,
   "metadata": {},
   "outputs": [
    {
     "name": "stdout",
     "output_type": "stream",
     "text": [
      "Labeled trail at folder: ./Trails\\down\\01-07-2019\\\n",
      "Labeled trail at folder: ./Trails\\down\\01-07-2019_DATA_17_03_44\\\n",
      "Labeled trail at folder: ./Trails\\down\\02-07-2019\\\n",
      "Labeled trail at folder: ./Trails\\down\\02-07-2019_DATA_09_52_39\\\n",
      "Labeled trail at folder: ./Trails\\down\\02-07-2019_DATA_11_11_23\\\n",
      "Labeled trail at folder: ./Trails\\down\\02-07-2019_DATA_12_06_05\\\n",
      "Labeled trail at folder: ./Trails\\down\\03-07-2019\\\n",
      "Labeled trail at folder: ./Trails\\down\\03-07-2019_DATA_09_56_40\\\n",
      "Labeled trail at folder: ./Trails\\down\\03-07-2019_DATA_11_52_11\\\n",
      "Labeled trail at folder: ./Trails\\down\\03-07-2019_DATA_18_04_00\\\n",
      "Labeled trail at folder: ./Trails\\down\\03-09-2019\\\n",
      "Labeled trail at folder: ./Trails\\down\\03-09-2019_DATA_18_38_56\\\n",
      "Labeled trail at folder: ./Trails\\down\\04-07-2019\\\n",
      "Labeled trail at folder: ./Trails\\down\\04-07-2019_DATA_19_23_45\\\n",
      "Labeled trail at folder: ./Trails\\down\\04-09-2019\\\n",
      "Labeled trail at folder: ./Trails\\down\\04-09-2019_DATA_18_29_36\\\n",
      "Labeled trail at folder: ./Trails\\down\\05-07-2019\\\n",
      "Labeled trail at folder: ./Trails\\down\\05-07-2019_DATA_09_21_15\\\n",
      "Labeled trail at folder: ./Trails\\down\\05-07-2019_DATA_10_56_28\\\n",
      "Labeled trail at folder: ./Trails\\down\\05-07-2019_DATA_11_49_44\\\n",
      "Labeled trail at folder: ./Trails\\down\\05-07-2019_DATA_17_01_55\\\n",
      "Labeled trail at folder: ./Trails\\down\\05-07-2019_DATA_18_56_42\\\n",
      "Labeled trail at folder: ./Trails\\down\\05-09-2019\\\n",
      "Labeled trail at folder: ./Trails\\down\\06-07-2019\\\n",
      "Labeled trail at folder: ./Trails\\down\\06-07-2019_DATA_09_23_17\\\n",
      "Labeled trail at folder: ./Trails\\down\\06-07-2019_DATA_09_48_06\\\n",
      "Labeled trail at folder: ./Trails\\down\\06-07-2019_DATA_10_58_09\\\n",
      "Labeled trail at folder: ./Trails\\down\\06-07-2019_DATA_11_51_02\\\n",
      "Labeled trail at folder: ./Trails\\down\\06-07-2019_DATA_18_03_58\\\n",
      "Labeled trail at folder: ./Trails\\down\\12-09-2019\\\n",
      "Labeled trail at folder: ./Trails\\down\\13-09-2019\\\n",
      "Labeled trail at folder: ./Trails\\down\\13-09-2019_DATA_14_17_30\\\n",
      "Labeled trail at folder: ./Trails\\down\\13-09-2019_DATA_17_29_15\\\n",
      "Labeled trail at folder: ./Trails\\down\\14-09-2019\\\n",
      "Labeled trail at folder: ./Trails\\down\\14-09-2019_DATA_16_39_11\\\n",
      "Labeled trail at folder: ./Trails\\down\\15-09-2019\\\n",
      "Labeled trail at folder: ./Trails\\down\\15-09-2019_DATA_18_22_14\\\n",
      "Labeled trail at folder: ./Trails\\down\\16-09-2019\\\n",
      "Labeled trail at folder: ./Trails\\down\\16-09-2019_DATA_16_44_26\\\n",
      "Labeled trail at folder: ./Trails\\down\\16-09-2019_DATA_18_35_49\\\n",
      "Labeled trail at folder: ./Trails\\down\\17-09-2019\\\n",
      "Labeled trail at folder: ./Trails\\down\\17-09-2019_DATA_15_52_39\\\n",
      "Labeled trail at folder: ./Trails\\down\\17-09-2019_DATA_17_52_13\\\n",
      "Labeled trail at folder: ./Trails\\down\\20-09-2019\\\n",
      "Labeled trail at folder: ./Trails\\down\\20-09-2019_DATA_18_33_50\\\n",
      "Labeled trail at folder: ./Trails\\down\\21-09-2019\\\n",
      "Labeled trail at folder: ./Trails\\down\\21-09-2019_DATA_16_42_58\\\n",
      "Labeled trail at folder: ./Trails\\down\\21-09-2019_DATA_18_38_04\\\n",
      "Labeled trail at folder: ./Trails\\down\\23-09-2019\\\n",
      "Labeled trail at folder: ./Trails\\down\\23-09-2019_DATA_16_00_03\\\n",
      "Labeled trail at folder: ./Trails\\down\\23-09-2019_DATA_18_05_16\\\n",
      "Labeled trail at folder: ./Trails\\down\\30-06-2019\\\n",
      "Labeled trail at folder: ./Trails\\up\\01-07-2019\\\n",
      "Labeled trail at folder: ./Trails\\up\\01-07-2019_DATA_15_59_01\\\n",
      "Labeled trail at folder: ./Trails\\up\\02-07-2019\\\n",
      "Labeled trail at folder: ./Trails\\up\\02-07-2019_DATA_08_59_55\\\n",
      "Labeled trail at folder: ./Trails\\up\\02-07-2019_DATA_10_58_35\\\n",
      "Labeled trail at folder: ./Trails\\up\\03-07-2019\\\n",
      "Labeled trail at folder: ./Trails\\up\\03-07-2019_DATA_08_46_57\\\n",
      "Labeled trail at folder: ./Trails\\up\\03-07-2019_DATA_10_58_15\\\n",
      "Labeled trail at folder: ./Trails\\up\\03-07-2019_DATA_17_00_17\\\n",
      "Labeled trail at folder: ./Trails\\up\\03-09-2019\\\n",
      "Labeled trail at folder: ./Trails\\up\\04-07-2019\\\n",
      "Labeled trail at folder: ./Trails\\up\\04-07-2019_DATA_18_39_02\\\n",
      "Labeled trail at folder: ./Trails\\up\\04-09-2019\\\n",
      "Labeled trail at folder: ./Trails\\up\\04-09-2019_DATA_17_21_38\\\n",
      "Labeled trail at folder: ./Trails\\up\\05-07-2019\\\n",
      "Labeled trail at folder: ./Trails\\up\\05-07-2019_DATA_08_28_46\\\n",
      "Labeled trail at folder: ./Trails\\up\\05-07-2019_DATA_10_09_30\\\n",
      "Labeled trail at folder: ./Trails\\up\\05-07-2019_DATA_10_46_37\\\n",
      "Labeled trail at folder: ./Trails\\up\\05-07-2019_DATA_16_16_42\\\n",
      "Labeled trail at folder: ./Trails\\up\\05-07-2019_DATA_18_03_49\\\n",
      "Labeled trail at folder: ./Trails\\up\\05-09-2019\\\n",
      "Labeled trail at folder: ./Trails\\up\\06-07-2019\\\n",
      "Labeled trail at folder: ./Trails\\up\\06-07-2019_DATA_08_40_03\\\n",
      "Labeled trail at folder: ./Trails\\up\\06-07-2019_DATA_08_57_09\\\n",
      "Labeled trail at folder: ./Trails\\up\\06-07-2019_DATA_10_07_40\\\n",
      "Labeled trail at folder: ./Trails\\up\\06-07-2019_DATA_11_00_08\\\n",
      "Labeled trail at folder: ./Trails\\up\\06-07-2019_DATA_16_58_00\\\n",
      "Labeled trail at folder: ./Trails\\up\\12-09-2019\\\n",
      "Labeled trail at folder: ./Trails\\up\\13-09-2019\\\n",
      "Labeled trail at folder: ./Trails\\up\\13-09-2019_DATA_12_58_59\\\n",
      "Labeled trail at folder: ./Trails\\up\\13-09-2019_DATA_16_29_45\\\n",
      "Labeled trail at folder: ./Trails\\up\\14-09-2019\\\n",
      "Labeled trail at folder: ./Trails\\up\\14-09-2019_DATA_15_40_40\\\n",
      "Labeled trail at folder: ./Trails\\up\\15-09-2019\\\n",
      "Labeled trail at folder: ./Trails\\up\\15-09-2019_DATA_17_25_36\\\n",
      "Labeled trail at folder: ./Trails\\up\\16-09-2019\\\n",
      "Labeled trail at folder: ./Trails\\up\\16-09-2019_DATA_15_39_29\\\n",
      "Labeled trail at folder: ./Trails\\up\\16-09-2019_DATA_17_40_21\\\n",
      "Labeled trail at folder: ./Trails\\up\\17-09-2019\\\n",
      "Labeled trail at folder: ./Trails\\up\\17-09-2019_DATA_14_57_00\\\n",
      "Labeled trail at folder: ./Trails\\up\\17-09-2019_DATA_16_45_23\\\n",
      "Labeled trail at folder: ./Trails\\up\\20-09-2019\\\n",
      "Labeled trail at folder: ./Trails\\up\\20-09-2019_DATA_17_32_37\\\n",
      "Labeled trail at folder: ./Trails\\up\\21-09-2019\\\n",
      "Labeled trail at folder: ./Trails\\up\\21-09-2019_DATA_15_38_33\\\n",
      "Labeled trail at folder: ./Trails\\up\\21-09-2019_DATA_17_38_40\\\n",
      "Labeled trail at folder: ./Trails\\up\\23-09-2019\\\n",
      "Labeled trail at folder: ./Trails\\up\\23-09-2019_DATA_14_56_21\\\n",
      "Labeled trail at folder: ./Trails\\up\\23-09-2019_DATA_16_55_35\\\n",
      "Labeled trail at folder: ./Trails\\up\\28-06-2019\\\n"
     ]
    }
   ],
   "source": [
    "folders=glob.glob('./Trails/*/*/')\n",
    "\n",
    "for folder in folders:\n",
    "    tags=get_dynamic_tags(folder)\n",
    "    df=pd.read_csv(folder+'Analysis_GPS.csv')\n",
    "\n",
    "    label=label_dataframe_with_tags(df,tags,stopage_distance)\n",
    "    label.to_csv(folder+'dynamic_stopages.csv',index=False)\n",
    "    print(f'Labeled trail at folder: {folder}')"
   ]
  },
  {
   "cell_type": "code",
   "execution_count": 5,
   "metadata": {},
   "outputs": [],
   "source": [
    "#NICE"
   ]
  }
 ],
 "metadata": {
  "kernelspec": {
   "display_name": "Python 3",
   "language": "python",
   "name": "python3"
  },
  "language_info": {
   "codemirror_mode": {
    "name": "ipython",
    "version": 3
   },
   "file_extension": ".py",
   "mimetype": "text/x-python",
   "name": "python",
   "nbconvert_exporter": "python",
   "pygments_lexer": "ipython3",
   "version": "3.8.8"
  }
 },
 "nbformat": 4,
 "nbformat_minor": 4
}
