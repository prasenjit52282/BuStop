{
 "cells": [
  {
   "cell_type": "markdown",
   "metadata": {},
   "source": [
    "# Imports"
   ]
  },
  {
   "cell_type": "code",
   "execution_count": 1,
   "metadata": {},
   "outputs": [],
   "source": [
    "from library.dataPreprocessLib import *\n",
    "from library.resultsLib import *\n",
    "from sklearn.ensemble import RandomForestClassifier\n",
    "from imblearn.over_sampling import SMOTENC\n",
    "import os"
   ]
  },
  {
   "cell_type": "markdown",
   "metadata": {},
   "source": [
    "# Data Preprocessing"
   ]
  },
  {
   "cell_type": "markdown",
   "metadata": {},
   "source": [
    "## Feature Selection and Loading Data"
   ]
  },
  {
   "cell_type": "code",
   "execution_count": 2,
   "metadata": {},
   "outputs": [],
   "source": [
    "# name = \"prantika_bus_stand\"\n",
    "# name = \"junction_mall\"\n",
    "# name = \"54ft_road\"\n",
    "# name = \"dvc_more\"\n",
    "name = \"station\""
   ]
  },
  {
   "cell_type": "code",
   "execution_count": 3,
   "metadata": {},
   "outputs": [],
   "source": [
    "parent_dir = r\"../data/54ft/\"\n",
    "train_df_name = r\"54ft_train.csv\"\n",
    "test_df_name = f\"{name}_test_split.csv\""
   ]
  },
  {
   "cell_type": "code",
   "execution_count": 4,
   "metadata": {},
   "outputs": [],
   "source": [
    "poi_column = 'Is_Bus_stop'\n",
    "output_result_filename = f\"{poi_column}_test_result_{name}_zone.csv\""
   ]
  },
  {
   "cell_type": "code",
   "execution_count": 5,
   "metadata": {},
   "outputs": [],
   "source": [
    "feature_names=['time_zone','stay_duration','wifi_count', 'edge_wifi_count', 'honk_duration',\\\n",
    "               'edge_honk_duration', 'd_wifi_count','d_edge_wifi_count','d_honk_duration',\\\n",
    "               'd_edge_honk_duration', 'human_made','natural_land','road_exist_percent',\\\n",
    "               'highly_populated_poi_exist', 'RSI']\n",
    "\n",
    "categorical_features=[0,13]"
   ]
  },
  {
   "cell_type": "markdown",
   "metadata": {},
   "source": [
    "### Training Data"
   ]
  },
  {
   "cell_type": "code",
   "execution_count": 6,
   "metadata": {},
   "outputs": [
    {
     "data": {
      "text/html": [
       "<div>\n",
       "<style scoped>\n",
       "    .dataframe tbody tr th:only-of-type {\n",
       "        vertical-align: middle;\n",
       "    }\n",
       "\n",
       "    .dataframe tbody tr th {\n",
       "        vertical-align: top;\n",
       "    }\n",
       "\n",
       "    .dataframe thead th {\n",
       "        text-align: right;\n",
       "    }\n",
       "</style>\n",
       "<table border=\"1\" class=\"dataframe\">\n",
       "  <thead>\n",
       "    <tr style=\"text-align: right;\">\n",
       "      <th></th>\n",
       "      <th>time_zone</th>\n",
       "      <th>stay_duration</th>\n",
       "      <th>wifi_count</th>\n",
       "      <th>edge_wifi_count</th>\n",
       "      <th>honk_duration</th>\n",
       "      <th>edge_honk_duration</th>\n",
       "      <th>d_wifi_count</th>\n",
       "      <th>d_edge_wifi_count</th>\n",
       "      <th>d_honk_duration</th>\n",
       "      <th>d_edge_honk_duration</th>\n",
       "      <th>human_made</th>\n",
       "      <th>natural_land</th>\n",
       "      <th>road_exist_percent</th>\n",
       "      <th>highly_populated_poi_exist</th>\n",
       "      <th>RSI</th>\n",
       "      <th>Is_Bus_stop</th>\n",
       "      <th>Is_Turn</th>\n",
       "      <th>Is_Signal</th>\n",
       "      <th>Is_Congestion</th>\n",
       "      <th>Is_Adhoc</th>\n",
       "    </tr>\n",
       "  </thead>\n",
       "  <tbody>\n",
       "    <tr>\n",
       "      <th>0</th>\n",
       "      <td>Afternoon</td>\n",
       "      <td>6</td>\n",
       "      <td>0</td>\n",
       "      <td>0.000000</td>\n",
       "      <td>0.0</td>\n",
       "      <td>0.000000</td>\n",
       "      <td>0</td>\n",
       "      <td>0.000000</td>\n",
       "      <td>0.0</td>\n",
       "      <td>0.000000</td>\n",
       "      <td>0.111232</td>\n",
       "      <td>0.636805</td>\n",
       "      <td>0.251963</td>\n",
       "      <td>No</td>\n",
       "      <td>0.000000</td>\n",
       "      <td>Not Bus_stop</td>\n",
       "      <td>Not Turn</td>\n",
       "      <td>Not Signal</td>\n",
       "      <td>Not Congestion</td>\n",
       "      <td>Adhoc</td>\n",
       "    </tr>\n",
       "    <tr>\n",
       "      <th>1</th>\n",
       "      <td>Afternoon</td>\n",
       "      <td>10</td>\n",
       "      <td>3</td>\n",
       "      <td>0.015468</td>\n",
       "      <td>1.0</td>\n",
       "      <td>0.015468</td>\n",
       "      <td>3</td>\n",
       "      <td>0.015468</td>\n",
       "      <td>1.0</td>\n",
       "      <td>0.015468</td>\n",
       "      <td>0.124869</td>\n",
       "      <td>0.666587</td>\n",
       "      <td>0.208544</td>\n",
       "      <td>No</td>\n",
       "      <td>2.715045</td>\n",
       "      <td>Bus_stop</td>\n",
       "      <td>Not Turn</td>\n",
       "      <td>Not Signal</td>\n",
       "      <td>Not Congestion</td>\n",
       "      <td>Not Adhoc</td>\n",
       "    </tr>\n",
       "    <tr>\n",
       "      <th>2</th>\n",
       "      <td>Afternoon</td>\n",
       "      <td>130</td>\n",
       "      <td>2</td>\n",
       "      <td>0.027800</td>\n",
       "      <td>5.0</td>\n",
       "      <td>0.000000</td>\n",
       "      <td>4</td>\n",
       "      <td>0.018533</td>\n",
       "      <td>5.0</td>\n",
       "      <td>0.000000</td>\n",
       "      <td>0.100360</td>\n",
       "      <td>0.743668</td>\n",
       "      <td>0.155972</td>\n",
       "      <td>No</td>\n",
       "      <td>2.422751</td>\n",
       "      <td>Bus_stop</td>\n",
       "      <td>Turn</td>\n",
       "      <td>Not Signal</td>\n",
       "      <td>Not Congestion</td>\n",
       "      <td>Not Adhoc</td>\n",
       "    </tr>\n",
       "    <tr>\n",
       "      <th>3</th>\n",
       "      <td>Afternoon</td>\n",
       "      <td>13</td>\n",
       "      <td>0</td>\n",
       "      <td>0.000000</td>\n",
       "      <td>2.0</td>\n",
       "      <td>0.000000</td>\n",
       "      <td>0</td>\n",
       "      <td>0.000000</td>\n",
       "      <td>2.0</td>\n",
       "      <td>0.000000</td>\n",
       "      <td>0.100911</td>\n",
       "      <td>0.730013</td>\n",
       "      <td>0.169076</td>\n",
       "      <td>No</td>\n",
       "      <td>3.040420</td>\n",
       "      <td>Not Bus_stop</td>\n",
       "      <td>Not Turn</td>\n",
       "      <td>Not Signal</td>\n",
       "      <td>Not Congestion</td>\n",
       "      <td>Adhoc</td>\n",
       "    </tr>\n",
       "    <tr>\n",
       "      <th>4</th>\n",
       "      <td>Afternoon</td>\n",
       "      <td>9</td>\n",
       "      <td>0</td>\n",
       "      <td>0.002818</td>\n",
       "      <td>2.0</td>\n",
       "      <td>0.005635</td>\n",
       "      <td>0</td>\n",
       "      <td>0.002818</td>\n",
       "      <td>2.0</td>\n",
       "      <td>0.005635</td>\n",
       "      <td>0.117394</td>\n",
       "      <td>0.487688</td>\n",
       "      <td>0.183064</td>\n",
       "      <td>Yes</td>\n",
       "      <td>1.780860</td>\n",
       "      <td>Bus_stop</td>\n",
       "      <td>Turn</td>\n",
       "      <td>Not Signal</td>\n",
       "      <td>Not Congestion</td>\n",
       "      <td>Not Adhoc</td>\n",
       "    </tr>\n",
       "  </tbody>\n",
       "</table>\n",
       "</div>"
      ],
      "text/plain": [
       "   time_zone  stay_duration  wifi_count  edge_wifi_count  honk_duration  \\\n",
       "0  Afternoon              6           0         0.000000            0.0   \n",
       "1  Afternoon             10           3         0.015468            1.0   \n",
       "2  Afternoon            130           2         0.027800            5.0   \n",
       "3  Afternoon             13           0         0.000000            2.0   \n",
       "4  Afternoon              9           0         0.002818            2.0   \n",
       "\n",
       "   edge_honk_duration  d_wifi_count  d_edge_wifi_count  d_honk_duration  \\\n",
       "0            0.000000             0           0.000000              0.0   \n",
       "1            0.015468             3           0.015468              1.0   \n",
       "2            0.000000             4           0.018533              5.0   \n",
       "3            0.000000             0           0.000000              2.0   \n",
       "4            0.005635             0           0.002818              2.0   \n",
       "\n",
       "   d_edge_honk_duration  human_made  natural_land  road_exist_percent  \\\n",
       "0              0.000000    0.111232      0.636805            0.251963   \n",
       "1              0.015468    0.124869      0.666587            0.208544   \n",
       "2              0.000000    0.100360      0.743668            0.155972   \n",
       "3              0.000000    0.100911      0.730013            0.169076   \n",
       "4              0.005635    0.117394      0.487688            0.183064   \n",
       "\n",
       "  highly_populated_poi_exist       RSI   Is_Bus_stop   Is_Turn   Is_Signal  \\\n",
       "0                         No  0.000000  Not Bus_stop  Not Turn  Not Signal   \n",
       "1                         No  2.715045      Bus_stop  Not Turn  Not Signal   \n",
       "2                         No  2.422751      Bus_stop      Turn  Not Signal   \n",
       "3                         No  3.040420  Not Bus_stop  Not Turn  Not Signal   \n",
       "4                        Yes  1.780860      Bus_stop      Turn  Not Signal   \n",
       "\n",
       "    Is_Congestion   Is_Adhoc  \n",
       "0  Not Congestion      Adhoc  \n",
       "1  Not Congestion  Not Adhoc  \n",
       "2  Not Congestion  Not Adhoc  \n",
       "3  Not Congestion      Adhoc  \n",
       "4  Not Congestion  Not Adhoc  "
      ]
     },
     "execution_count": 6,
     "metadata": {},
     "output_type": "execute_result"
    }
   ],
   "source": [
    "train_csv_df = pd.read_csv(os.path.join(parent_dir, train_df_name))\n",
    "train_df = get_processed_df(train_csv_df)\n",
    "train_df.head()"
   ]
  },
  {
   "cell_type": "markdown",
   "metadata": {},
   "source": [
    "### Testing Data"
   ]
  },
  {
   "cell_type": "code",
   "execution_count": 7,
   "metadata": {},
   "outputs": [
    {
     "data": {
      "text/html": [
       "<div>\n",
       "<style scoped>\n",
       "    .dataframe tbody tr th:only-of-type {\n",
       "        vertical-align: middle;\n",
       "    }\n",
       "\n",
       "    .dataframe tbody tr th {\n",
       "        vertical-align: top;\n",
       "    }\n",
       "\n",
       "    .dataframe thead th {\n",
       "        text-align: right;\n",
       "    }\n",
       "</style>\n",
       "<table border=\"1\" class=\"dataframe\">\n",
       "  <thead>\n",
       "    <tr style=\"text-align: right;\">\n",
       "      <th></th>\n",
       "      <th>time_zone</th>\n",
       "      <th>stay_duration</th>\n",
       "      <th>wifi_count</th>\n",
       "      <th>edge_wifi_count</th>\n",
       "      <th>honk_duration</th>\n",
       "      <th>edge_honk_duration</th>\n",
       "      <th>d_wifi_count</th>\n",
       "      <th>d_edge_wifi_count</th>\n",
       "      <th>d_honk_duration</th>\n",
       "      <th>d_edge_honk_duration</th>\n",
       "      <th>human_made</th>\n",
       "      <th>natural_land</th>\n",
       "      <th>road_exist_percent</th>\n",
       "      <th>highly_populated_poi_exist</th>\n",
       "      <th>RSI</th>\n",
       "      <th>Is_Bus_stop</th>\n",
       "      <th>Is_Turn</th>\n",
       "      <th>Is_Signal</th>\n",
       "      <th>Is_Congestion</th>\n",
       "      <th>Is_Adhoc</th>\n",
       "    </tr>\n",
       "  </thead>\n",
       "  <tbody>\n",
       "    <tr>\n",
       "      <th>0</th>\n",
       "      <td>Morning</td>\n",
       "      <td>105</td>\n",
       "      <td>7</td>\n",
       "      <td>0.000000</td>\n",
       "      <td>69.0</td>\n",
       "      <td>0.000000</td>\n",
       "      <td>7</td>\n",
       "      <td>0.000000</td>\n",
       "      <td>69.0</td>\n",
       "      <td>0.000000</td>\n",
       "      <td>0.122769</td>\n",
       "      <td>0.692291</td>\n",
       "      <td>0.182053</td>\n",
       "      <td>Yes</td>\n",
       "      <td>0.000000</td>\n",
       "      <td>Bus_stop</td>\n",
       "      <td>Turn</td>\n",
       "      <td>Not Signal</td>\n",
       "      <td>Congestion</td>\n",
       "      <td>Not Adhoc</td>\n",
       "    </tr>\n",
       "    <tr>\n",
       "      <th>1</th>\n",
       "      <td>Morning</td>\n",
       "      <td>12</td>\n",
       "      <td>2</td>\n",
       "      <td>0.024291</td>\n",
       "      <td>9.0</td>\n",
       "      <td>0.083285</td>\n",
       "      <td>2</td>\n",
       "      <td>0.024291</td>\n",
       "      <td>11.0</td>\n",
       "      <td>0.076344</td>\n",
       "      <td>0.107162</td>\n",
       "      <td>0.766882</td>\n",
       "      <td>0.125955</td>\n",
       "      <td>No</td>\n",
       "      <td>1.289747</td>\n",
       "      <td>Not Bus_stop</td>\n",
       "      <td>Not Turn</td>\n",
       "      <td>Not Signal</td>\n",
       "      <td>Congestion</td>\n",
       "      <td>Not Adhoc</td>\n",
       "    </tr>\n",
       "    <tr>\n",
       "      <th>2</th>\n",
       "      <td>Afternoon</td>\n",
       "      <td>95</td>\n",
       "      <td>6</td>\n",
       "      <td>0.000000</td>\n",
       "      <td>4.0</td>\n",
       "      <td>0.000000</td>\n",
       "      <td>6</td>\n",
       "      <td>0.000000</td>\n",
       "      <td>4.0</td>\n",
       "      <td>0.000000</td>\n",
       "      <td>0.160116</td>\n",
       "      <td>0.697338</td>\n",
       "      <td>0.142546</td>\n",
       "      <td>No</td>\n",
       "      <td>32.959722</td>\n",
       "      <td>Bus_stop</td>\n",
       "      <td>Not Turn</td>\n",
       "      <td>Not Signal</td>\n",
       "      <td>Congestion</td>\n",
       "      <td>Not Adhoc</td>\n",
       "    </tr>\n",
       "    <tr>\n",
       "      <th>3</th>\n",
       "      <td>Afternoon</td>\n",
       "      <td>102</td>\n",
       "      <td>2</td>\n",
       "      <td>0.012752</td>\n",
       "      <td>23.0</td>\n",
       "      <td>0.261420</td>\n",
       "      <td>4</td>\n",
       "      <td>0.000000</td>\n",
       "      <td>23.0</td>\n",
       "      <td>0.261420</td>\n",
       "      <td>0.112501</td>\n",
       "      <td>0.700820</td>\n",
       "      <td>0.175124</td>\n",
       "      <td>Yes</td>\n",
       "      <td>4.292388</td>\n",
       "      <td>Bus_stop</td>\n",
       "      <td>Turn</td>\n",
       "      <td>Not Signal</td>\n",
       "      <td>Congestion</td>\n",
       "      <td>Not Adhoc</td>\n",
       "    </tr>\n",
       "    <tr>\n",
       "      <th>4</th>\n",
       "      <td>Morning</td>\n",
       "      <td>4</td>\n",
       "      <td>0</td>\n",
       "      <td>0.030862</td>\n",
       "      <td>0.0</td>\n",
       "      <td>0.069439</td>\n",
       "      <td>0</td>\n",
       "      <td>0.030862</td>\n",
       "      <td>0.0</td>\n",
       "      <td>0.069439</td>\n",
       "      <td>0.124594</td>\n",
       "      <td>0.730924</td>\n",
       "      <td>0.144481</td>\n",
       "      <td>No</td>\n",
       "      <td>1.737973</td>\n",
       "      <td>Not Bus_stop</td>\n",
       "      <td>Not Turn</td>\n",
       "      <td>Signal</td>\n",
       "      <td>Congestion</td>\n",
       "      <td>Not Adhoc</td>\n",
       "    </tr>\n",
       "  </tbody>\n",
       "</table>\n",
       "</div>"
      ],
      "text/plain": [
       "   time_zone  stay_duration  wifi_count  edge_wifi_count  honk_duration  \\\n",
       "0    Morning            105           7         0.000000           69.0   \n",
       "1    Morning             12           2         0.024291            9.0   \n",
       "2  Afternoon             95           6         0.000000            4.0   \n",
       "3  Afternoon            102           2         0.012752           23.0   \n",
       "4    Morning              4           0         0.030862            0.0   \n",
       "\n",
       "   edge_honk_duration  d_wifi_count  d_edge_wifi_count  d_honk_duration  \\\n",
       "0            0.000000             7           0.000000             69.0   \n",
       "1            0.083285             2           0.024291             11.0   \n",
       "2            0.000000             6           0.000000              4.0   \n",
       "3            0.261420             4           0.000000             23.0   \n",
       "4            0.069439             0           0.030862              0.0   \n",
       "\n",
       "   d_edge_honk_duration  human_made  natural_land  road_exist_percent  \\\n",
       "0              0.000000    0.122769      0.692291            0.182053   \n",
       "1              0.076344    0.107162      0.766882            0.125955   \n",
       "2              0.000000    0.160116      0.697338            0.142546   \n",
       "3              0.261420    0.112501      0.700820            0.175124   \n",
       "4              0.069439    0.124594      0.730924            0.144481   \n",
       "\n",
       "  highly_populated_poi_exist        RSI   Is_Bus_stop   Is_Turn   Is_Signal  \\\n",
       "0                        Yes   0.000000      Bus_stop      Turn  Not Signal   \n",
       "1                         No   1.289747  Not Bus_stop  Not Turn  Not Signal   \n",
       "2                         No  32.959722      Bus_stop  Not Turn  Not Signal   \n",
       "3                        Yes   4.292388      Bus_stop      Turn  Not Signal   \n",
       "4                         No   1.737973  Not Bus_stop  Not Turn      Signal   \n",
       "\n",
       "  Is_Congestion   Is_Adhoc  \n",
       "0    Congestion  Not Adhoc  \n",
       "1    Congestion  Not Adhoc  \n",
       "2    Congestion  Not Adhoc  \n",
       "3    Congestion  Not Adhoc  \n",
       "4    Congestion  Not Adhoc  "
      ]
     },
     "execution_count": 7,
     "metadata": {},
     "output_type": "execute_result"
    }
   ],
   "source": [
    "test_csv_df = pd.read_csv(os.path.join(parent_dir, test_df_name))\n",
    "test_df = get_processed_df(test_csv_df)\n",
    "test_df.head()"
   ]
  },
  {
   "cell_type": "markdown",
   "metadata": {},
   "source": [
    "### Seperating target column and input columns"
   ]
  },
  {
   "cell_type": "code",
   "execution_count": 8,
   "metadata": {},
   "outputs": [],
   "source": [
    "X = train_df[feature_names].copy()\n",
    "y = train_df[poi_column].copy()"
   ]
  },
  {
   "cell_type": "markdown",
   "metadata": {},
   "source": [
    "## Using SMOTE"
   ]
  },
  {
   "cell_type": "code",
   "execution_count": 9,
   "metadata": {},
   "outputs": [
    {
     "data": {
      "text/plain": [
       "SMOTENC(categorical_features=[0, 13])"
      ]
     },
     "execution_count": 9,
     "metadata": {},
     "output_type": "execute_result"
    }
   ],
   "source": [
    "smote = SMOTENC(categorical_features=categorical_features)\n",
    "smote"
   ]
  },
  {
   "cell_type": "code",
   "execution_count": 10,
   "metadata": {},
   "outputs": [
    {
     "name": "stderr",
     "output_type": "stream",
     "text": [
      "C:\\ProgramData\\Anaconda3\\lib\\site-packages\\scipy\\sparse\\lil.py:512: FutureWarning: future versions will not create a writeable array from broadcast_array. Set the writable flag explicitly to avoid this warning.\n",
      "  if not i.flags.writeable or i.dtype not in (np.int32, np.int64):\n",
      "C:\\ProgramData\\Anaconda3\\lib\\site-packages\\scipy\\sparse\\lil.py:514: FutureWarning: future versions will not create a writeable array from broadcast_array. Set the writable flag explicitly to avoid this warning.\n",
      "  if not j.flags.writeable or j.dtype not in (np.int32, np.int64):\n",
      "C:\\ProgramData\\Anaconda3\\lib\\site-packages\\scipy\\sparse\\lil.py:518: FutureWarning: future versions will not create a writeable array from broadcast_array. Set the writable flag explicitly to avoid this warning.\n",
      "  if not x.flags.writeable:\n"
     ]
    },
    {
     "name": "stdout",
     "output_type": "stream",
     "text": [
      "(2480, 15)\n",
      "(2480,)\n",
      "(3036, 15)\n",
      "(3036,)\n"
     ]
    }
   ],
   "source": [
    "X_resampled, y_resampled = smote.fit_sample(X, y)\n",
    "print(X.shape)\n",
    "print(y.shape)\n",
    "print(X_resampled.shape)\n",
    "print(y_resampled.shape)"
   ]
  },
  {
   "cell_type": "markdown",
   "metadata": {},
   "source": [
    "## Categorical data Transformation"
   ]
  },
  {
   "cell_type": "markdown",
   "metadata": {},
   "source": [
    "### For train data"
   ]
  },
  {
   "cell_type": "code",
   "execution_count": 11,
   "metadata": {},
   "outputs": [],
   "source": [
    "train_array = X_resampled.values\n",
    "les = [get_label_encoder(train_array[:, feature]) for feature in categorical_features]"
   ]
  },
  {
   "cell_type": "code",
   "execution_count": 12,
   "metadata": {},
   "outputs": [],
   "source": [
    "encoder = get_one_hot_encoder(train_array, categorical_features)\n",
    "label_encoder = get_label_encoder(y_resampled)"
   ]
  },
  {
   "cell_type": "code",
   "execution_count": 13,
   "metadata": {},
   "outputs": [],
   "source": [
    "train_data = transform_categorical_features(train_array, encoder, les, categorical_features, for_train=True)\n",
    "train_labels = get_labels_for(poi_column, pd.DataFrame(y_resampled), label_encoder)"
   ]
  },
  {
   "cell_type": "markdown",
   "metadata": {},
   "source": [
    "### For test data"
   ]
  },
  {
   "cell_type": "code",
   "execution_count": 14,
   "metadata": {},
   "outputs": [],
   "source": [
    "test_array = test_df[feature_names].values"
   ]
  },
  {
   "cell_type": "code",
   "execution_count": 15,
   "metadata": {},
   "outputs": [],
   "source": [
    "test_data = transform_categorical_features(test_array, encoder, les, categorical_features)\n",
    "test_labels = get_labels_for(poi_column, test_df, label_encoder)"
   ]
  },
  {
   "cell_type": "markdown",
   "metadata": {},
   "source": [
    "# Training"
   ]
  },
  {
   "cell_type": "code",
   "execution_count": 16,
   "metadata": {},
   "outputs": [],
   "source": [
    "model = RandomForestClassifier(n_estimators=20,max_depth=8)\n",
    "model.fit(train_data, train_labels)\n",
    "train_predictions = model.predict(train_data) # for training performance stat"
   ]
  },
  {
   "cell_type": "markdown",
   "metadata": {},
   "source": [
    "# Testing"
   ]
  },
  {
   "cell_type": "code",
   "execution_count": 17,
   "metadata": {},
   "outputs": [],
   "source": [
    "assert test_data.shape[1] == train_data.shape[1]\n",
    "test_predictions = model.predict(test_data)"
   ]
  },
  {
   "cell_type": "markdown",
   "metadata": {},
   "source": [
    "# Performance Stat"
   ]
  },
  {
   "cell_type": "markdown",
   "metadata": {},
   "source": [
    "## Training Performance"
   ]
  },
  {
   "cell_type": "code",
   "execution_count": 18,
   "metadata": {},
   "outputs": [
    {
     "name": "stdout",
     "output_type": "stream",
     "text": [
      "For train: \n",
      "\tAccuracy: 0.8909749670619236\n",
      "\tPrecision: 0.8923235599326423\n",
      "\tRecall: 0.8909749670619236\n",
      "\tF1 score: 0.8908811944350186\n",
      "              precision    recall  f1-score   support\n",
      "\n",
      "           0       0.87      0.92      0.89      1518\n",
      "           1       0.92      0.86      0.89      1518\n",
      "\n",
      "    accuracy                           0.89      3036\n",
      "   macro avg       0.89      0.89      0.89      3036\n",
      "weighted avg       0.89      0.89      0.89      3036\n",
      "\n"
     ]
    }
   ],
   "source": [
    "get_performance_stats(\"train\", train_labels, train_predictions)"
   ]
  },
  {
   "cell_type": "markdown",
   "metadata": {},
   "source": [
    "## Testing Performance"
   ]
  },
  {
   "cell_type": "code",
   "execution_count": 19,
   "metadata": {},
   "outputs": [
    {
     "name": "stdout",
     "output_type": "stream",
     "text": [
      "For test: \n",
      "\tAccuracy: 0.7777777777777778\n",
      "\tPrecision: 0.7722608407811983\n",
      "\tRecall: 0.7777777777777778\n",
      "\tF1 score: 0.7743589743589744\n",
      "              precision    recall  f1-score   support\n",
      "\n",
      "           0       0.63      0.57      0.60        21\n",
      "           1       0.83      0.86      0.85        51\n",
      "\n",
      "    accuracy                           0.78        72\n",
      "   macro avg       0.73      0.72      0.72        72\n",
      "weighted avg       0.77      0.78      0.77        72\n",
      "\n"
     ]
    }
   ],
   "source": [
    "get_performance_stats(\"test\", test_labels, test_predictions)"
   ]
  },
  {
   "cell_type": "markdown",
   "metadata": {},
   "source": [
    "### Confusion Matrix"
   ]
  },
  {
   "cell_type": "code",
   "execution_count": 20,
   "metadata": {},
   "outputs": [
    {
     "data": {
      "image/png": "[encoded data removed]",
      "text/plain": [
       "<Figure size 432x288 with 2 Axes>"
      ]
     },
     "metadata": {
      "needs_background": "light"
     },
     "output_type": "display_data"
    }
   ],
   "source": [
    "from sklearn.metrics import plot_confusion_matrix\n",
    "import matplotlib.pyplot as plt\n",
    "disp = plot_confusion_matrix(model, test_data, test_labels, display_labels=label_encoder.classes_, cmap=plt.cm.Blues)\n",
    "disp.ax_.set_title(f'total: {len(test_data)}')\n",
    "plt.show()"
   ]
  },
  {
   "cell_type": "markdown",
   "metadata": {},
   "source": [
    "### Check & Save Predicitons"
   ]
  },
  {
   "cell_type": "code",
   "execution_count": 21,
   "metadata": {},
   "outputs": [
    {
     "data": {
      "text/html": [
       "<div>\n",
       "<style scoped>\n",
       "    .dataframe tbody tr th:only-of-type {\n",
       "        vertical-align: middle;\n",
       "    }\n",
       "\n",
       "    .dataframe tbody tr th {\n",
       "        vertical-align: top;\n",
       "    }\n",
       "\n",
       "    .dataframe thead th {\n",
       "        text-align: right;\n",
       "    }\n",
       "</style>\n",
       "<table border=\"1\" class=\"dataframe\">\n",
       "  <thead>\n",
       "    <tr style=\"text-align: right;\">\n",
       "      <th></th>\n",
       "      <th>instance_date</th>\n",
       "      <th>instance_start_time</th>\n",
       "      <th>instance_end_time</th>\n",
       "      <th>Prediction Is_Bus_stop</th>\n",
       "    </tr>\n",
       "  </thead>\n",
       "  <tbody>\n",
       "    <tr>\n",
       "      <th>0</th>\n",
       "      <td>09/14/2019</td>\n",
       "      <td>12:04:16</td>\n",
       "      <td>12:06:01</td>\n",
       "      <td>Not Bus_stop</td>\n",
       "    </tr>\n",
       "    <tr>\n",
       "      <th>1</th>\n",
       "      <td>09/14/2019</td>\n",
       "      <td>12:06:36</td>\n",
       "      <td>12:06:47</td>\n",
       "      <td>Bus_stop</td>\n",
       "    </tr>\n",
       "    <tr>\n",
       "      <th>2</th>\n",
       "      <td>09/14/2019</td>\n",
       "      <td>16:39:20</td>\n",
       "      <td>16:40:54</td>\n",
       "      <td>Not Bus_stop</td>\n",
       "    </tr>\n",
       "    <tr>\n",
       "      <th>3</th>\n",
       "      <td>09/14/2019</td>\n",
       "      <td>16:45:03</td>\n",
       "      <td>16:46:45</td>\n",
       "      <td>Bus_stop</td>\n",
       "    </tr>\n",
       "    <tr>\n",
       "      <th>4</th>\n",
       "      <td>09/14/2019</td>\n",
       "      <td>11:39:46</td>\n",
       "      <td>11:39:49</td>\n",
       "      <td>Not Bus_stop</td>\n",
       "    </tr>\n",
       "  </tbody>\n",
       "</table>\n",
       "</div>"
      ],
      "text/plain": [
       "  instance_date instance_start_time instance_end_time Prediction Is_Bus_stop\n",
       "0    09/14/2019            12:04:16          12:06:01           Not Bus_stop\n",
       "1    09/14/2019            12:06:36          12:06:47               Bus_stop\n",
       "2    09/14/2019            16:39:20          16:40:54           Not Bus_stop\n",
       "3    09/14/2019            16:45:03          16:46:45               Bus_stop\n",
       "4    09/14/2019            11:39:46          11:39:49           Not Bus_stop"
      ]
     },
     "execution_count": 21,
     "metadata": {},
     "output_type": "execute_result"
    }
   ],
   "source": [
    "result_df = form_result_df(test_csv_df, label_encoder.inverse_transform(test_predictions), poi_column)\n",
    "result_df.head()"
   ]
  },
  {
   "cell_type": "code",
   "execution_count": 22,
   "metadata": {},
   "outputs": [],
   "source": [
    "result_df.to_csv(os.path.join(parent_dir, output_result_filename), index=False)"
   ]
  },
  {
   "cell_type": "code",
   "execution_count": 23,
   "metadata": {
    "scrolled": true
   },
   "outputs": [
    {
     "data": {
      "text/plain": [
       "array([0, 1, 0, 0, 1, 0, 1, 1, 1, 0, 1, 1, 1, 0, 1, 1, 0, 1, 0, 1, 1, 1,\n",
       "       1, 1, 1, 0, 1, 1, 0, 1, 1, 1, 1, 1, 1, 1, 1, 0, 0, 1, 0, 1, 1, 1,\n",
       "       1, 0, 0, 1, 1, 1, 0, 1, 0, 1, 1, 1, 1, 1, 1, 0, 1, 0, 0, 1, 0, 1,\n",
       "       1, 1, 1, 1, 1, 1])"
      ]
     },
     "execution_count": 23,
     "metadata": {},
     "output_type": "execute_result"
    }
   ],
   "source": [
    "test_labels"
   ]
  },
  {
   "cell_type": "code",
   "execution_count": 24,
   "metadata": {
    "scrolled": true
   },
   "outputs": [
    {
     "data": {
      "text/plain": [
       "array([1, 0, 1, 0, 1, 1, 1, 1, 1, 0, 1, 0, 1, 1, 1, 1, 0, 1, 1, 1, 1, 1,\n",
       "       0, 1, 1, 1, 1, 1, 0, 1, 1, 1, 1, 1, 1, 1, 1, 1, 0, 1, 0, 0, 1, 1,\n",
       "       1, 0, 1, 1, 1, 0, 0, 1, 0, 1, 1, 1, 0, 0, 1, 0, 1, 0, 1, 1, 0, 1,\n",
       "       1, 1, 1, 1, 1, 1])"
      ]
     },
     "execution_count": 24,
     "metadata": {},
     "output_type": "execute_result"
    }
   ],
   "source": [
    "test_predictions"
   ]
  }
 ],
 "metadata": {
  "kernelspec": {
   "display_name": "Python 3",
   "language": "python",
   "name": "python3"
  },
  "language_info": {
   "codemirror_mode": {
    "name": "ipython",
    "version": 3
   },
   "file_extension": ".py",
   "mimetype": "text/x-python",
   "name": "python",
   "nbconvert_exporter": "python",
   "pygments_lexer": "ipython3",
   "version": "3.7.4"
  }
 },
 "nbformat": 4,
 "nbformat_minor": 4
}
