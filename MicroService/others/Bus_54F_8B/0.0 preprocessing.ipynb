{
 "cells": [
  {
   "cell_type": "markdown",
   "metadata": {},
   "source": [
    "# Preprocessing"
   ]
  },
  {
   "cell_type": "code",
   "execution_count": 1,
   "metadata": {},
   "outputs": [],
   "source": [
    "import numpy as np\n",
    "import pandas as pd\n",
    "#from imblearn.over_sampling import SMOTE\n",
    "from math import cos, asin, sqrt, pi"
   ]
  },
  {
   "cell_type": "code",
   "execution_count": 2,
   "metadata": {},
   "outputs": [],
   "source": [
    "#helper functions\n",
    "def distance(lat1, lon1, lat2, lon2):\n",
    "    p = pi/180\n",
    "    a = 0.5 - cos((lat2-lat1)*p)/2 + cos(lat1*p) * cos(lat2*p) * (1-cos((lon2-lon1)*p))/2\n",
    "    return 12742000 * asin(sqrt(a))\n",
    "\n",
    "def cumulative_distance(lat_longs):\n",
    "    l=[]\n",
    "    prev_lat,prev_long=lat_longs[0]\n",
    "\n",
    "    for lat,long in lat_longs:\n",
    "        l.append(distance(lat,long,prev_lat,prev_long)+1e-7)\n",
    "        prev_lat=lat\n",
    "        prev_long=long\n",
    "        \n",
    "    return l\n",
    "\n",
    "def time_zone_cal(s):\n",
    "    hour=int(s.split(':')[0])\n",
    "\n",
    "    if 6<hour<=9:\n",
    "        time_zone='Early_Morning'\n",
    "    elif 9<hour<=12:\n",
    "        time_zone='Morning'\n",
    "    elif 12<hour<=17:\n",
    "        time_zone='Afternoon'\n",
    "    elif 17<hour<=23:\n",
    "        time_zone='Evening'\n",
    "    return time_zone"
   ]
  },
  {
   "cell_type": "code",
   "execution_count": 3,
   "metadata": {},
   "outputs": [],
   "source": [
    "#reading Data\n",
    "df=pd.read_csv('Processed_Bus_Trail_data_54F.csv')\n",
    "\n",
    "#Normalizing edge values with edge distance\n",
    "df['next_hop_distance']=cumulative_distance(df[['lat','long']].values)\n",
    "\n",
    "df['edge_wifi_count']=df.edge_wifi_count/df.next_hop_distance\n",
    "df['d_edge_wifi_count']=df.d_edge_wifi_count/df.next_hop_distance\n",
    "\n",
    "df['edge_honk_duration']=df.edge_honk_duration/df.next_hop_distance\n",
    "df['d_edge_honk_duration']=df.d_edge_honk_duration/df.next_hop_distance\n",
    "\n",
    "#calculating timeZone\n",
    "df['time_zone']=df.start_time.apply(time_zone_cal)\n",
    "df=pd.get_dummies(df, columns=[\"time_zone\"], prefix=[\"Is\"])\n",
    "\n",
    "#Rebuilding meaning full features from sparse features\n",
    "df['highly_populated_poi_exist']=(df.school+df.medical+df.other_poi+df.park).apply(np.ceil)\n",
    "df['road_exist_percent']=df.high_way+df.two_way+df.one_way\n",
    "\n",
    "#Selected Columns\n",
    "columns=\\\n",
    "['Is_Early_Morning','Is_Morning','Is_Afternoon','Is_Evening','stay_duration',\n",
    " 'wifi_count', 'edge_wifi_count', 'honk_duration',\n",
    " 'edge_honk_duration', 'd_wifi_count', 'd_edge_wifi_count','d_honk_duration', \n",
    " 'd_edge_honk_duration', 'human_made', 'natural_land','road_exist_percent',\n",
    " 'highly_populated_poi_exist', 'RSI', 'Is_Bus_stop','Is_Turn', 'Is_Signal',\n",
    " 'Is_Congestion', 'Is_Adhoc']\n",
    "\n",
    "#New dataFrame is returned\n",
    "new_df=df[columns].copy()"
   ]
  },
  {
   "cell_type": "code",
   "execution_count": 4,
   "metadata": {},
   "outputs": [],
   "source": [
    "#Processing labels\n",
    "new_df['Is_Bus_stop']=new_df.Is_Bus_stop.map({'Bus_stop':1,'Not Bus_stop':0})\n",
    "new_df['Is_Turn']=new_df.Is_Turn.map({'Turn':1,'Not Turn':0})\n",
    "new_df['Is_Signal']=new_df.Is_Signal.map({'Signal':1,'Not Signal':0})\n",
    "new_df['Is_Congestion']=new_df.Is_Congestion.map({'Congestion':1,'Not Congestion':0})\n",
    "new_df['Is_Adhoc']=new_df.Is_Adhoc.map({'Adhoc':1,'Not Adhoc':0})"
   ]
  },
  {
   "cell_type": "code",
   "execution_count": 6,
   "metadata": {},
   "outputs": [],
   "source": [
    "new_df.to_csv('DataSet_54F.csv',index=False)"
   ]
  },
  {
   "cell_type": "code",
   "execution_count": 6,
   "metadata": {},
   "outputs": [],
   "source": [
    "#NICE"
   ]
  }
 ],
 "metadata": {
  "kernelspec": {
   "display_name": "Python 3",
   "language": "python",
   "name": "python3"
  },
  "language_info": {
   "codemirror_mode": {
    "name": "ipython",
    "version": 3
   },
   "file_extension": ".py",
   "mimetype": "text/x-python",
   "name": "python",
   "nbconvert_exporter": "python",
   "pygments_lexer": "ipython3",
   "version": "3.7.3"
  }
 },
 "nbformat": 4,
 "nbformat_minor": 4
}
