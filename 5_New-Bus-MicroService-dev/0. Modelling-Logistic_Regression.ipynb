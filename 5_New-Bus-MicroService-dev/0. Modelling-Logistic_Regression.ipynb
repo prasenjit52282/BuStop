{
 "cells": [
  {
   "cell_type": "code",
   "execution_count": 1,
   "metadata": {},
   "outputs": [],
   "source": [
    "import glob\n",
    "import pickle\n",
    "import numpy as np\n",
    "import pandas as pd\n",
    "from sklearn.linear_model import LogisticRegression\n",
    "from sklearn.metrics import *\n",
    "from imblearn.over_sampling import SMOTE\n",
    "from library.preprocessing import new_Processing_before_journal"
   ]
  },
  {
   "cell_type": "code",
   "execution_count": 2,
   "metadata": {},
   "outputs": [],
   "source": [
    "all_folders=glob.glob(\"./Trails/*/*/\")"
   ]
  },
  {
   "cell_type": "code",
   "execution_count": 3,
   "metadata": {},
   "outputs": [],
   "source": [
    "test_dates=['2019-06-28','2019-06-30','2019-07-01','2019-07-02','2019-07-03','2019-07-04','2019-07-05']\n",
    "formatted_test_dates=['-'.join(d.split(\"-\")[::-1]) for d in test_dates] #reversing order"
   ]
  },
  {
   "cell_type": "code",
   "execution_count": 4,
   "metadata": {},
   "outputs": [],
   "source": [
    "#train folders\n",
    "train_folders=[f for f in all_folders if f.split(\"\\\\\")[-2].split(\"_\")[0] not in formatted_test_dates]\n",
    "\n",
    "#test folders\n",
    "test_folders=[f for f in all_folders if f.split(\"\\\\\")[-2].split(\"_\")[0] in formatted_test_dates]"
   ]
  },
  {
   "cell_type": "markdown",
   "metadata": {},
   "source": [
    "# Modelling"
   ]
  },
  {
   "cell_type": "code",
   "execution_count": 5,
   "metadata": {},
   "outputs": [],
   "source": [
    "#trqining_data\n",
    "train_df=pd.concat([new_Processing_before_journal(e+\"ALL_DATA.csv\") for e in train_folders])#Raw data is processed\n",
    "\n",
    "#testing_data\n",
    "test_df=pd.concat([new_Processing_before_journal(e+\"ALL_DATA.csv\") for e in test_folders])#Raw data is processed\n"
   ]
  },
  {
   "cell_type": "code",
   "execution_count": 6,
   "metadata": {},
   "outputs": [],
   "source": [
    "#feature # binding\n",
    "F=\\\n",
    "    {1:'stay_duration', #f1\n",
    "     2:'mfcc0',3:'mfcc1',4:'mfcc2',5:'mfcc3',6:'mfcc4', #f2,f3,f4,f5,f6\n",
    "     7:'wifi_count', 8:'edge_wifi_count', #f7,f8\n",
    "     9:'RSI', #f9\n",
    "     10:'human_made', 11:'natural_land',12:'road_exist_percent',13:'highly_populated_poi_exist'#f10,f11,f12,f13\n",
    "    }\n",
    "\n",
    "selected_feat=\\\n",
    "    {\n",
    "        'Is_Bus_stop':[F[e] for e in [10,12,11,1,8]],\n",
    "        'Is_Turn':[F[e] for e in [10,12,11,1,8,9]],\n",
    "        'Is_Signal':[F[e] for e in [12,11,10,8,9]],\n",
    "        'Is_Congestion':[F[e] for e in [2,11,10,9,12,8,6,1]],\n",
    "        'Is_Adhoc':[F[e] for e in [10,11,1,12,2]]\n",
    "    }"
   ]
  },
  {
   "cell_type": "code",
   "execution_count": 7,
   "metadata": {},
   "outputs": [],
   "source": [
    "#Modeling function\n",
    "def get_metrics_from_the_model(train,labels_train,test,labels_test,poi):\n",
    "    rf=LogisticRegression(random_state=42)\n",
    "    #print(labels_train)\n",
    "    rf.fit(train, labels_train)\n",
    "\n",
    "    pred_train= rf.predict(train)\n",
    "    pred_test= rf.predict(test)\n",
    "    \n",
    "    performance={'poi':poi,\n",
    "                 'tr_acc':accuracy_score(labels_train,pred_train),\n",
    "                 'tr_precision':precision_score(labels_train,pred_train,average='weighted'),\n",
    "                 'tr_recall':recall_score(labels_train,pred_train,average='weighted'),\n",
    "                 'tr_f1-score':f1_score(labels_train,pred_train,average='weighted'),\n",
    "\n",
    "                 'te_acc':accuracy_score(labels_test,pred_test),\n",
    "                 'te_precision':precision_score(labels_test, pred_test,average='weighted'),\n",
    "                 'te_recall':recall_score(labels_test, pred_test,average='weighted'),\n",
    "                 'te_f1-score':f1_score(labels_test, pred_test,average='weighted')}\n",
    "    return performance,rf"
   ]
  },
  {
   "cell_type": "code",
   "execution_count": 8,
   "metadata": {},
   "outputs": [
    {
     "name": "stderr",
     "output_type": "stream",
     "text": [
      "C:\\Users\\WER\\anaconda3\\envs\\myenv\\lib\\site-packages\\sklearn\\base.py:445: UserWarning: X does not have valid feature names, but LogisticRegression was fitted with feature names\n",
      "  warnings.warn(\n",
      "C:\\Users\\WER\\anaconda3\\envs\\myenv\\lib\\site-packages\\sklearn\\base.py:445: UserWarning: X does not have valid feature names, but LogisticRegression was fitted with feature names\n",
      "  warnings.warn(\n",
      "C:\\Users\\WER\\anaconda3\\envs\\myenv\\lib\\site-packages\\sklearn\\base.py:445: UserWarning: X does not have valid feature names, but LogisticRegression was fitted with feature names\n",
      "  warnings.warn(\n"
     ]
    },
    {
     "name": "stdout",
     "output_type": "stream",
     "text": [
      "Completed for POI:Is_Bus_stop\n",
      "Completed for POI:Is_Turn\n",
      "Completed for POI:Is_Signal\n",
      "Completed for POI:Is_Congestion\n",
      "Completed for POI:Is_Adhoc\n"
     ]
    },
    {
     "name": "stderr",
     "output_type": "stream",
     "text": [
      "C:\\Users\\WER\\anaconda3\\envs\\myenv\\lib\\site-packages\\sklearn\\linear_model\\_logistic.py:814: ConvergenceWarning: lbfgs failed to converge (status=1):\n",
      "STOP: TOTAL NO. of ITERATIONS REACHED LIMIT.\n",
      "\n",
      "Increase the number of iterations (max_iter) or scale the data as shown in:\n",
      "    https://scikit-learn.org/stable/modules/preprocessing.html\n",
      "Please also refer to the documentation for alternative solver options:\n",
      "    https://scikit-learn.org/stable/modules/linear_model.html#logistic-regression\n",
      "  n_iter_i = _check_optimize_result(\n",
      "C:\\Users\\WER\\anaconda3\\envs\\myenv\\lib\\site-packages\\sklearn\\base.py:445: UserWarning: X does not have valid feature names, but LogisticRegression was fitted with feature names\n",
      "  warnings.warn(\n",
      "C:\\Users\\WER\\anaconda3\\envs\\myenv\\lib\\site-packages\\sklearn\\base.py:445: UserWarning: X does not have valid feature names, but LogisticRegression was fitted with feature names\n",
      "  warnings.warn(\n"
     ]
    }
   ],
   "source": [
    "perf=[] #performance list\n",
    "rfs={} #rf dict\n",
    "\n",
    "\n",
    "for poi_column in ['Is_Bus_stop','Is_Turn','Is_Signal','Is_Congestion','Is_Adhoc']:\n",
    "    feature_names=selected_feat[poi_column] #feature selection\n",
    "\n",
    "\n",
    "\n",
    "    #SMOTE on training data & get features ,labels\n",
    "    X = train_df[feature_names].copy()\n",
    "    y = train_df[poi_column].copy()\n",
    "\n",
    "    smote = SMOTE(random_state=42)\n",
    "    X_resampled, y_resampled = smote.fit_resample(X, y)\n",
    "    train_data = X_resampled.copy()\n",
    "    train_labels = y_resampled.copy()\n",
    "\n",
    "    #Test set get features & labels\n",
    "    test_data = test_df[feature_names].values\n",
    "    test_labels = test_df[poi_column].values\n",
    "\n",
    "    #Training with Random Forest\n",
    "    performance,rf=get_metrics_from_the_model(train_data,train_labels,test_data,test_labels,poi_column)\n",
    "\n",
    "    #adding to performance list\n",
    "    perf.append(performance)\n",
    "    rfs[poi_column]=rf\n",
    "\n",
    "    print(f'Completed for POI:{poi_column}')"
   ]
  },
  {
   "cell_type": "code",
   "execution_count": 9,
   "metadata": {},
   "outputs": [
    {
     "data": {
      "text/html": [
       "<div>\n",
       "<style scoped>\n",
       "    .dataframe tbody tr th:only-of-type {\n",
       "        vertical-align: middle;\n",
       "    }\n",
       "\n",
       "    .dataframe tbody tr th {\n",
       "        vertical-align: top;\n",
       "    }\n",
       "\n",
       "    .dataframe thead th {\n",
       "        text-align: right;\n",
       "    }\n",
       "</style>\n",
       "<table border=\"1\" class=\"dataframe\">\n",
       "  <thead>\n",
       "    <tr style=\"text-align: right;\">\n",
       "      <th></th>\n",
       "      <th>poi</th>\n",
       "      <th>tr_acc</th>\n",
       "      <th>tr_precision</th>\n",
       "      <th>tr_recall</th>\n",
       "      <th>tr_f1-score</th>\n",
       "      <th>te_acc</th>\n",
       "      <th>te_precision</th>\n",
       "      <th>te_recall</th>\n",
       "      <th>te_f1-score</th>\n",
       "    </tr>\n",
       "  </thead>\n",
       "  <tbody>\n",
       "    <tr>\n",
       "      <th>0</th>\n",
       "      <td>Is_Bus_stop</td>\n",
       "      <td>0.637333</td>\n",
       "      <td>0.637765</td>\n",
       "      <td>0.637333</td>\n",
       "      <td>0.637049</td>\n",
       "      <td>0.618663</td>\n",
       "      <td>0.626555</td>\n",
       "      <td>0.618663</td>\n",
       "      <td>0.621617</td>\n",
       "    </tr>\n",
       "    <tr>\n",
       "      <th>1</th>\n",
       "      <td>Is_Turn</td>\n",
       "      <td>0.589814</td>\n",
       "      <td>0.591586</td>\n",
       "      <td>0.589814</td>\n",
       "      <td>0.587820</td>\n",
       "      <td>0.637766</td>\n",
       "      <td>0.678365</td>\n",
       "      <td>0.637766</td>\n",
       "      <td>0.652486</td>\n",
       "    </tr>\n",
       "    <tr>\n",
       "      <th>2</th>\n",
       "      <td>Is_Signal</td>\n",
       "      <td>0.726542</td>\n",
       "      <td>0.731747</td>\n",
       "      <td>0.726542</td>\n",
       "      <td>0.724998</td>\n",
       "      <td>0.703894</td>\n",
       "      <td>0.919675</td>\n",
       "      <td>0.703894</td>\n",
       "      <td>0.779254</td>\n",
       "    </tr>\n",
       "    <tr>\n",
       "      <th>3</th>\n",
       "      <td>Is_Congestion</td>\n",
       "      <td>0.628112</td>\n",
       "      <td>0.628137</td>\n",
       "      <td>0.628112</td>\n",
       "      <td>0.628094</td>\n",
       "      <td>0.821455</td>\n",
       "      <td>0.950524</td>\n",
       "      <td>0.821455</td>\n",
       "      <td>0.880459</td>\n",
       "    </tr>\n",
       "    <tr>\n",
       "      <th>4</th>\n",
       "      <td>Is_Adhoc</td>\n",
       "      <td>0.614489</td>\n",
       "      <td>0.622688</td>\n",
       "      <td>0.614489</td>\n",
       "      <td>0.607938</td>\n",
       "      <td>0.565760</td>\n",
       "      <td>0.574021</td>\n",
       "      <td>0.565760</td>\n",
       "      <td>0.567478</td>\n",
       "    </tr>\n",
       "  </tbody>\n",
       "</table>\n",
       "</div>"
      ],
      "text/plain": [
       "             poi    tr_acc  tr_precision  tr_recall  tr_f1-score    te_acc  \\\n",
       "0    Is_Bus_stop  0.637333      0.637765   0.637333     0.637049  0.618663   \n",
       "1        Is_Turn  0.589814      0.591586   0.589814     0.587820  0.637766   \n",
       "2      Is_Signal  0.726542      0.731747   0.726542     0.724998  0.703894   \n",
       "3  Is_Congestion  0.628112      0.628137   0.628112     0.628094  0.821455   \n",
       "4       Is_Adhoc  0.614489      0.622688   0.614489     0.607938  0.565760   \n",
       "\n",
       "   te_precision  te_recall  te_f1-score  \n",
       "0      0.626555   0.618663     0.621617  \n",
       "1      0.678365   0.637766     0.652486  \n",
       "2      0.919675   0.703894     0.779254  \n",
       "3      0.950524   0.821455     0.880459  \n",
       "4      0.574021   0.565760     0.567478  "
      ]
     },
     "execution_count": 9,
     "metadata": {},
     "output_type": "execute_result"
    }
   ],
   "source": [
    "df=pd.DataFrame(perf)\n",
    "df.to_csv(\"./logs/model_performace_logreg.csv\",index=False)\n",
    "df"
   ]
  },
  {
   "cell_type": "code",
   "execution_count": 10,
   "metadata": {},
   "outputs": [],
   "source": [
    "#Saving Models\n",
    "with open('./logs/logreg.pickle', 'wb') as handle:\n",
    "    pickle.dump(rfs, handle, protocol=pickle.HIGHEST_PROTOCOL)"
   ]
  },
  {
   "cell_type": "code",
   "execution_count": 11,
   "metadata": {},
   "outputs": [],
   "source": [
    "coefficient=[]\n",
    "for poi_column in rfs.keys():\n",
    "    coefficient.append(dict(zip(selected_feat[poi_column]+['bias'],[*rfs[poi_column].coef_[0], *rfs[poi_column].intercept_])))\n",
    "\n",
    "df=pd.DataFrame(coefficient,index=rfs.keys())"
   ]
  },
  {
   "cell_type": "code",
   "execution_count": 12,
   "metadata": {},
   "outputs": [],
   "source": [
    "l=\\\n",
    "list(zip(['human_made','road_exist_percent', 'natural_land',\n",
    "'stay_duration','edge_wifi_count', 'RSI', 'mfcc0', 'mfcc4'],\n",
    "         \n",
    "['coef_f10', 'coef_f12', 'coef_f11', 'coef_f1', \n",
    "'coef_f8', 'coef_f9', 'coef_f2', 'coef_f6']))\n",
    "\n",
    "l.sort(key=lambda e:int(e[1][6:]))\n",
    "\n",
    "dic=dict(l)\n",
    "\n",
    "columns=list(dic.keys())+['bias']\n",
    "rename_columns=list(dic.values())+['bias']"
   ]
  },
  {
   "cell_type": "code",
   "execution_count": 13,
   "metadata": {},
   "outputs": [],
   "source": [
    "df1=df[columns].copy()\n",
    "df1.columns=rename_columns"
   ]
  },
  {
   "cell_type": "code",
   "execution_count": 18,
   "metadata": {},
   "outputs": [
    {
     "data": {
      "text/html": [
       "<div>\n",
       "<style scoped>\n",
       "    .dataframe tbody tr th:only-of-type {\n",
       "        vertical-align: middle;\n",
       "    }\n",
       "\n",
       "    .dataframe tbody tr th {\n",
       "        vertical-align: top;\n",
       "    }\n",
       "\n",
       "    .dataframe thead th {\n",
       "        text-align: right;\n",
       "    }\n",
       "</style>\n",
       "<table border=\"1\" class=\"dataframe\">\n",
       "  <thead>\n",
       "    <tr style=\"text-align: right;\">\n",
       "      <th></th>\n",
       "      <th>coef_f1</th>\n",
       "      <th>coef_f2</th>\n",
       "      <th>coef_f6</th>\n",
       "      <th>coef_f8</th>\n",
       "      <th>coef_f9</th>\n",
       "      <th>coef_f10</th>\n",
       "      <th>coef_f11</th>\n",
       "      <th>coef_f12</th>\n",
       "      <th>bias</th>\n",
       "    </tr>\n",
       "  </thead>\n",
       "  <tbody>\n",
       "    <tr>\n",
       "      <th>Is_Bus_stop</th>\n",
       "      <td>0.0079</td>\n",
       "      <td>NaN</td>\n",
       "      <td>NaN</td>\n",
       "      <td>2.0685</td>\n",
       "      <td>NaN</td>\n",
       "      <td>6.1855</td>\n",
       "      <td>0.8604</td>\n",
       "      <td>-3.8805</td>\n",
       "      <td>-0.7780</td>\n",
       "    </tr>\n",
       "    <tr>\n",
       "      <th>Is_Turn</th>\n",
       "      <td>0.0039</td>\n",
       "      <td>NaN</td>\n",
       "      <td>NaN</td>\n",
       "      <td>3.6678</td>\n",
       "      <td>0.0002</td>\n",
       "      <td>-3.1079</td>\n",
       "      <td>-1.1234</td>\n",
       "      <td>-0.4826</td>\n",
       "      <td>0.9781</td>\n",
       "    </tr>\n",
       "    <tr>\n",
       "      <th>Is_Signal</th>\n",
       "      <td>NaN</td>\n",
       "      <td>NaN</td>\n",
       "      <td>NaN</td>\n",
       "      <td>9.8328</td>\n",
       "      <td>0.0270</td>\n",
       "      <td>2.1746</td>\n",
       "      <td>9.2393</td>\n",
       "      <td>6.7665</td>\n",
       "      <td>-8.0492</td>\n",
       "    </tr>\n",
       "    <tr>\n",
       "      <th>Is_Congestion</th>\n",
       "      <td>0.0066</td>\n",
       "      <td>0.0111</td>\n",
       "      <td>-0.0893</td>\n",
       "      <td>3.9221</td>\n",
       "      <td>0.0634</td>\n",
       "      <td>-0.1316</td>\n",
       "      <td>-1.0080</td>\n",
       "      <td>-0.1918</td>\n",
       "      <td>-0.7179</td>\n",
       "    </tr>\n",
       "    <tr>\n",
       "      <th>Is_Adhoc</th>\n",
       "      <td>-0.0075</td>\n",
       "      <td>0.0010</td>\n",
       "      <td>NaN</td>\n",
       "      <td>NaN</td>\n",
       "      <td>NaN</td>\n",
       "      <td>-1.1121</td>\n",
       "      <td>0.2917</td>\n",
       "      <td>0.5945</td>\n",
       "      <td>-0.0780</td>\n",
       "    </tr>\n",
       "  </tbody>\n",
       "</table>\n",
       "</div>"
      ],
      "text/plain": [
       "               coef_f1  coef_f2  coef_f6  coef_f8  coef_f9  coef_f10  \\\n",
       "Is_Bus_stop     0.0079      NaN      NaN   2.0685      NaN    6.1855   \n",
       "Is_Turn         0.0039      NaN      NaN   3.6678   0.0002   -3.1079   \n",
       "Is_Signal          NaN      NaN      NaN   9.8328   0.0270    2.1746   \n",
       "Is_Congestion   0.0066   0.0111  -0.0893   3.9221   0.0634   -0.1316   \n",
       "Is_Adhoc       -0.0075   0.0010      NaN      NaN      NaN   -1.1121   \n",
       "\n",
       "               coef_f11  coef_f12    bias  \n",
       "Is_Bus_stop      0.8604   -3.8805 -0.7780  \n",
       "Is_Turn         -1.1234   -0.4826  0.9781  \n",
       "Is_Signal        9.2393    6.7665 -8.0492  \n",
       "Is_Congestion   -1.0080   -0.1918 -0.7179  \n",
       "Is_Adhoc         0.2917    0.5945 -0.0780  "
      ]
     },
     "execution_count": 18,
     "metadata": {},
     "output_type": "execute_result"
    }
   ],
   "source": [
    "df1.round(4).to_csv(\"./logs/logreg_coef.csv\")\n",
    "df1.round(4)"
   ]
  },
  {
   "cell_type": "code",
   "execution_count": 15,
   "metadata": {},
   "outputs": [],
   "source": [
    "#NICE"
   ]
  }
 ],
 "metadata": {
  "kernelspec": {
   "display_name": "Python 3 (ipykernel)",
   "language": "python",
   "name": "python3"
  },
  "language_info": {
   "codemirror_mode": {
    "name": "ipython",
    "version": 3
   },
   "file_extension": ".py",
   "mimetype": "text/x-python",
   "name": "python",
   "nbconvert_exporter": "python",
   "pygments_lexer": "ipython3",
   "version": "3.8.12"
  }
 },
 "nbformat": 4,
 "nbformat_minor": 2
}
