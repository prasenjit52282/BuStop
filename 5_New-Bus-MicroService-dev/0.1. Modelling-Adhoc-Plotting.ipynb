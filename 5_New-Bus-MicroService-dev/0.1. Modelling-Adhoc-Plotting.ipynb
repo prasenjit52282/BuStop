{
 "cells": [
  {
   "cell_type": "code",
   "execution_count": 1,
   "metadata": {},
   "outputs": [],
   "source": [
    "import glob\n",
    "import pickle\n",
    "import numpy as np\n",
    "import pandas as pd\n",
    "import seaborn as sns\n",
    "from sklearn.metrics import f1_score\n",
    "import matplotlib.pyplot as plt\n",
    "from sklearn.metrics import roc_curve\n",
    "from sklearn.metrics import roc_auc_score\n",
    "from library.preprocessing import new_Processing_before_journal"
   ]
  },
  {
   "cell_type": "markdown",
   "metadata": {},
   "source": [
    "# Getting Folders"
   ]
  },
  {
   "cell_type": "code",
   "execution_count": 2,
   "metadata": {},
   "outputs": [],
   "source": [
    "all_folders=glob.glob(\"./Trails/*/*/\")\n",
    "\n",
    "test_dates=['2019-06-28','2019-06-30','2019-07-01','2019-07-02','2019-07-03','2019-07-04','2019-07-05']\n",
    "formatted_test_dates=['-'.join(d.split(\"-\")[::-1]) for d in test_dates] #reversing order\n",
    "\n",
    "#train folders\n",
    "train_folders=[f for f in all_folders if f.split(\"/\")[-2].split(\"_\")[0] not in formatted_test_dates]\n",
    "\n",
    "#test folders\n",
    "test_folders=[f for f in all_folders if f.split(\"/\")[-2].split(\"_\")[0] in formatted_test_dates]"
   ]
  },
  {
   "cell_type": "markdown",
   "metadata": {},
   "source": [
    "# Loading Models"
   ]
  },
  {
   "cell_type": "code",
   "execution_count": 3,
   "metadata": {},
   "outputs": [
    {
     "name": "stderr",
     "output_type": "stream",
     "text": [
      "/home/prasenjit/anaconda3/lib/python3.9/site-packages/sklearn/base.py:329: UserWarning: Trying to unpickle estimator DecisionTreeClassifier from version 0.23.2 when using version 1.0.2. This might lead to breaking code or invalid results. Use at your own risk. For more info please refer to:\n",
      "https://scikit-learn.org/stable/modules/model_persistence.html#security-maintainability-limitations\n",
      "  warnings.warn(\n",
      "/home/prasenjit/anaconda3/lib/python3.9/site-packages/sklearn/base.py:329: UserWarning: Trying to unpickle estimator RandomForestClassifier from version 0.23.2 when using version 1.0.2. This might lead to breaking code or invalid results. Use at your own risk. For more info please refer to:\n",
      "https://scikit-learn.org/stable/modules/model_persistence.html#security-maintainability-limitations\n",
      "  warnings.warn(\n"
     ]
    }
   ],
   "source": [
    "with open('./logs/rfs.pickle', 'rb') as handle:\n",
    "    rfs = pickle.load(handle)"
   ]
  },
  {
   "cell_type": "markdown",
   "metadata": {},
   "source": [
    "# Features"
   ]
  },
  {
   "cell_type": "code",
   "execution_count": 4,
   "metadata": {},
   "outputs": [],
   "source": [
    "#feature # binding\n",
    "F=\\\n",
    "    {1:'stay_duration', #f1\n",
    "     2:'mfcc0',3:'mfcc1',4:'mfcc2',5:'mfcc3',6:'mfcc4', #f2,f3,f4,f5,f6\n",
    "     7:'wifi_count', 8:'edge_wifi_count', #f7,f8\n",
    "     9:'RSI', #f9\n",
    "     10:'human_made', 11:'natural_land',12:'road_exist_percent',13:'highly_populated_poi_exist'#f10,f11,f12,f13\n",
    "    }\n",
    "\n",
    "selected_feat=\\\n",
    "    {\n",
    "        'Is_Bus_stop':[F[e] for e in [10,12,11,1,8]],\n",
    "        'Is_Turn':[F[e] for e in [10,12,11,1,8,9]],\n",
    "        'Is_Signal':[F[e] for e in [12,11,10,8,9]],\n",
    "        'Is_Congestion':[F[e] for e in [2,11,10,9,12,8,6,1]],\n",
    "        'Is_Adhoc':[F[e] for e in [10,11,1,12,2]]\n",
    "    }"
   ]
  },
  {
   "cell_type": "markdown",
   "metadata": {},
   "source": [
    "# Processing Testing DATA"
   ]
  },
  {
   "cell_type": "code",
   "execution_count": 5,
   "metadata": {},
   "outputs": [],
   "source": [
    "def time_zone_cal(s):\n",
    "    hour=int(s.split(':')[0])\n",
    "    if 6<hour<=9:\n",
    "        time_zone='Early_Morning'\n",
    "    elif 9<hour<=12:\n",
    "        time_zone='Morning'\n",
    "    elif 12<hour<=17:\n",
    "        time_zone='Afternoon'\n",
    "    elif 17<hour<=23:\n",
    "        time_zone='Evening'\n",
    "    return time_zone\n",
    "\n",
    "def read_trails(idx,file_path):\n",
    "    trail_type='down' if 'down' in file_path else 'up'\n",
    "    df=pd.read_csv(file_path)\n",
    "    df['trail_type']=trail_type\n",
    "    df['TZ']=df['start_time'].apply(time_zone_cal)\n",
    "    df['trail_id']=idx\n",
    "    return df"
   ]
  },
  {
   "cell_type": "code",
   "execution_count": 6,
   "metadata": {},
   "outputs": [
    {
     "name": "stdout",
     "output_type": "stream",
     "text": [
      "f1_score: Is_Bus_stop 0.8494750441983406\n",
      "f1_score: Is_Turn 0.8242587608280021\n",
      "f1_score: Is_Signal 0.9318570674719782\n",
      "f1_score: Is_Congestion 0.8487339766384451\n",
      "f1_score: Is_Adhoc 0.7181938333221106\n"
     ]
    }
   ],
   "source": [
    "we_need=['trail_type','TZ','trail_id','lat','long','medical','other_poi', 'park', 'school', 'Is_Adhoc_pred']\n",
    "\n",
    "df_raw= pd.concat([read_trails(idx,folder+\"All_DATA.csv\") for idx,folder in enumerate(test_folders)])\\\n",
    "                .reset_index(drop=True)\n",
    "df_processed = new_Processing_before_journal(dataframe=df_raw)\n",
    "\n",
    "for poi_column in rfs.keys():\n",
    "    feature_names=selected_feat[poi_column]\n",
    "    test_data = df_processed[feature_names].values\n",
    "    prediction=rfs[poi_column].predict(test_data)\n",
    "    print('f1_score:',poi_column,f1_score(df_processed[poi_column].values,prediction,average='weighted'))\n",
    "    df_raw[poi_column+'_pred']=prediction\n",
    "\n",
    "df=df_raw[we_need].copy()\n",
    "df.columns=['trail_type', 'TZ', 'trail_id', 'lat', 'long', 'medical', 'other_poi',\n",
    "            'park', 'school', 'Is_Adhoc']"
   ]
  },
  {
   "cell_type": "code",
   "execution_count": 7,
   "metadata": {},
   "outputs": [],
   "source": [
    "#Markets\n",
    "from geopy.distance import geodesic\n",
    "\n",
    "# Params should be tuples of format: (lattitude, longitude)\n",
    "def distance(pointA, pointB):\n",
    "    return geodesic(pointA, pointB).meters\n",
    "\n",
    "markets=pd.read_csv(\"../1. DataProcessing/markets.csv\")[['lat','long']].values\n",
    "\n",
    "def inMarket(cord,within=300):\n",
    "    for lat,long in markets:\n",
    "        if distance((cord[0],cord[1]),(lat,long))<within:\n",
    "            return 1\n",
    "    return 0\n",
    "\n",
    "#Making all PoIs as boolean variables (1- exist 0- does not exist)\n",
    "df['inMarket']=df[['lat','long']].apply(lambda cord: inMarket(cord),axis=1)\n",
    "df['medical']=df['medical'].apply(lambda e: 1 if e>0 else 0)\n",
    "df['school']=df['school'].apply(lambda e: 1 if e>0 else 0)\n",
    "df['park']=df['park'].apply(lambda e: 1 if e>0 else 0)\n",
    "#Other_PoI=>  attraction,business,government,place_of_worship,sports_complex\n",
    "df['other_poi']=df['other_poi'].apply(lambda e: 1 if e>0 else 0)\n",
    "df['noPoI']=((df['inMarket']!=1) & (df['medical']!=1) & (df['school']!=1) & (df['park']!=1) & (df['other_poi']!=1)).apply(np.int32)\n",
    "# #New dataframe\n",
    "df_new=df[['inMarket','medical','school','park','other_poi','noPoI','Is_Adhoc']].copy()\n",
    "df_need=df_new.copy()\n",
    "df_new=df_new[df_new.Is_Adhoc==1].copy()\n",
    "df_new['Is_Adhoc']=df_new.Is_Adhoc.cumsum().apply(lambda e:f'adhoc_{e}')"
   ]
  },
  {
   "cell_type": "code",
   "execution_count": 8,
   "metadata": {},
   "outputs": [
    {
     "data": {
      "text/plain": [
       "<AxesSubplot:>"
      ]
     },
     "execution_count": 8,
     "metadata": {},
     "output_type": "execute_result"
    },
    {
     "data": {
      "image/png": "[encoded data removed]",
      "text/plain": [
       "<Figure size 792x504 with 1 Axes>"
      ]
     },
     "metadata": {},
     "output_type": "display_data"
    }
   ],
   "source": [
    "from itertools import product\n",
    "\n",
    "num_elem=[]\n",
    "setA=[];setB=[];setC=[];setD=[];setE=[];setF=[]\n",
    "for A,B,C,D,E,F in product([0,1],repeat=6):\n",
    "    setA.append(A);setB.append(B);setC.append(C);setD.append(D);setE.append(E);setF.append(F)\n",
    "    filter=\\\n",
    "        (df_new['inMarket']==A) & (df_new['medical']==B) & (df_new['school']==C) & \\\n",
    "        (df_new['park']==D) & (df_new['other_poi']==E) & (df_new['noPoI']==F)\n",
    "    count=df_new[filter].shape[0]\n",
    "    num_elem.append(count)\n",
    "\n",
    "df_set=pd.DataFrame({'Market':setA,'Medical':setB,'School':setC,'Park':setD,'Other PoI':setE,'Road':setF,'numElem':num_elem})\n",
    "df_set=df_set[df_set.numElem>0].copy()\n",
    "\n",
    "from collections import Counter\n",
    "sets = Counter()\n",
    "for A,B,C,D,E,F,N in df_set.values:\n",
    "    sets[f'{A}{B}{C}{D}{E}{F}']=N\n",
    "    \n",
    "labels=list(df_set.columns)[:-1]\n",
    "\n",
    "from venn import draw_venn, generate_colors\n",
    "fig=plt.figure(figsize=(11,7))\n",
    "ax=fig.add_subplot(111)\n",
    "draw_venn(\n",
    "    petal_labels=sets, dataset_labels=labels,\n",
    "    hint_hidden=False, colors=generate_colors(n_colors=6),figsize=None,\n",
    "    fontsize=14, legend_loc=\"best\", ax=ax)\n",
    "\n",
    "#fig.savefig(\"../4. MotivationPlots/plots/num_adloc_vs_poi_venn.png\")"
   ]
  },
  {
   "cell_type": "code",
   "execution_count": 9,
   "metadata": {},
   "outputs": [
    {
     "data": {
      "text/html": [
       "<div>\n",
       "<style scoped>\n",
       "    .dataframe tbody tr th:only-of-type {\n",
       "        vertical-align: middle;\n",
       "    }\n",
       "\n",
       "    .dataframe tbody tr th {\n",
       "        vertical-align: top;\n",
       "    }\n",
       "\n",
       "    .dataframe thead th {\n",
       "        text-align: right;\n",
       "    }\n",
       "</style>\n",
       "<table border=\"1\" class=\"dataframe\">\n",
       "  <thead>\n",
       "    <tr style=\"text-align: right;\">\n",
       "      <th></th>\n",
       "      <th>Market</th>\n",
       "      <th>Medical</th>\n",
       "      <th>School</th>\n",
       "      <th>Park</th>\n",
       "      <th>Other PoI</th>\n",
       "      <th>Road</th>\n",
       "      <th>numElem</th>\n",
       "      <th>Percentage</th>\n",
       "    </tr>\n",
       "  </thead>\n",
       "  <tbody>\n",
       "    <tr>\n",
       "      <th>1</th>\n",
       "      <td>0</td>\n",
       "      <td>0</td>\n",
       "      <td>0</td>\n",
       "      <td>0</td>\n",
       "      <td>0</td>\n",
       "      <td>1</td>\n",
       "      <td>210</td>\n",
       "      <td>34.482759</td>\n",
       "    </tr>\n",
       "    <tr>\n",
       "      <th>2</th>\n",
       "      <td>0</td>\n",
       "      <td>0</td>\n",
       "      <td>0</td>\n",
       "      <td>0</td>\n",
       "      <td>1</td>\n",
       "      <td>0</td>\n",
       "      <td>3</td>\n",
       "      <td>0.492611</td>\n",
       "    </tr>\n",
       "    <tr>\n",
       "      <th>4</th>\n",
       "      <td>0</td>\n",
       "      <td>0</td>\n",
       "      <td>0</td>\n",
       "      <td>1</td>\n",
       "      <td>0</td>\n",
       "      <td>0</td>\n",
       "      <td>19</td>\n",
       "      <td>3.119869</td>\n",
       "    </tr>\n",
       "    <tr>\n",
       "      <th>8</th>\n",
       "      <td>0</td>\n",
       "      <td>0</td>\n",
       "      <td>1</td>\n",
       "      <td>0</td>\n",
       "      <td>0</td>\n",
       "      <td>0</td>\n",
       "      <td>179</td>\n",
       "      <td>29.392447</td>\n",
       "    </tr>\n",
       "    <tr>\n",
       "      <th>10</th>\n",
       "      <td>0</td>\n",
       "      <td>0</td>\n",
       "      <td>1</td>\n",
       "      <td>0</td>\n",
       "      <td>1</td>\n",
       "      <td>0</td>\n",
       "      <td>10</td>\n",
       "      <td>1.642036</td>\n",
       "    </tr>\n",
       "    <tr>\n",
       "      <th>12</th>\n",
       "      <td>0</td>\n",
       "      <td>0</td>\n",
       "      <td>1</td>\n",
       "      <td>1</td>\n",
       "      <td>0</td>\n",
       "      <td>0</td>\n",
       "      <td>49</td>\n",
       "      <td>8.045977</td>\n",
       "    </tr>\n",
       "    <tr>\n",
       "      <th>16</th>\n",
       "      <td>0</td>\n",
       "      <td>1</td>\n",
       "      <td>0</td>\n",
       "      <td>0</td>\n",
       "      <td>0</td>\n",
       "      <td>0</td>\n",
       "      <td>2</td>\n",
       "      <td>0.328407</td>\n",
       "    </tr>\n",
       "    <tr>\n",
       "      <th>32</th>\n",
       "      <td>1</td>\n",
       "      <td>0</td>\n",
       "      <td>0</td>\n",
       "      <td>0</td>\n",
       "      <td>0</td>\n",
       "      <td>0</td>\n",
       "      <td>69</td>\n",
       "      <td>11.330049</td>\n",
       "    </tr>\n",
       "    <tr>\n",
       "      <th>36</th>\n",
       "      <td>1</td>\n",
       "      <td>0</td>\n",
       "      <td>0</td>\n",
       "      <td>1</td>\n",
       "      <td>0</td>\n",
       "      <td>0</td>\n",
       "      <td>41</td>\n",
       "      <td>6.732348</td>\n",
       "    </tr>\n",
       "    <tr>\n",
       "      <th>40</th>\n",
       "      <td>1</td>\n",
       "      <td>0</td>\n",
       "      <td>1</td>\n",
       "      <td>0</td>\n",
       "      <td>0</td>\n",
       "      <td>0</td>\n",
       "      <td>7</td>\n",
       "      <td>1.149425</td>\n",
       "    </tr>\n",
       "    <tr>\n",
       "      <th>48</th>\n",
       "      <td>1</td>\n",
       "      <td>1</td>\n",
       "      <td>0</td>\n",
       "      <td>0</td>\n",
       "      <td>0</td>\n",
       "      <td>0</td>\n",
       "      <td>20</td>\n",
       "      <td>3.284072</td>\n",
       "    </tr>\n",
       "  </tbody>\n",
       "</table>\n",
       "</div>"
      ],
      "text/plain": [
       "    Market  Medical  School  Park  Other PoI  Road  numElem  Percentage\n",
       "1        0        0       0     0          0     1      210   34.482759\n",
       "2        0        0       0     0          1     0        3    0.492611\n",
       "4        0        0       0     1          0     0       19    3.119869\n",
       "8        0        0       1     0          0     0      179   29.392447\n",
       "10       0        0       1     0          1     0       10    1.642036\n",
       "12       0        0       1     1          0     0       49    8.045977\n",
       "16       0        1       0     0          0     0        2    0.328407\n",
       "32       1        0       0     0          0     0       69   11.330049\n",
       "36       1        0       0     1          0     0       41    6.732348\n",
       "40       1        0       1     0          0     0        7    1.149425\n",
       "48       1        1       0     0          0     0       20    3.284072"
      ]
     },
     "execution_count": 9,
     "metadata": {},
     "output_type": "execute_result"
    }
   ],
   "source": [
    "df_set['Percentage']=(df_set.numElem/df_set.numElem.sum())*100\n",
    "#df_set.to_csv(\"Adhoc_venn_test_data.csv\",index=False)\n",
    "df_set"
   ]
  },
  {
   "cell_type": "code",
   "execution_count": 10,
   "metadata": {},
   "outputs": [
    {
     "data": {
      "text/plain": [
       "99.99"
      ]
     },
     "execution_count": 10,
     "metadata": {},
     "output_type": "execute_result"
    }
   ],
   "source": [
    "34.48+0.49+3.12+29.39+1.64+8.05+0.33+11.33+6.73+1.15+3.28"
   ]
  },
  {
   "cell_type": "code",
   "execution_count": 11,
   "metadata": {},
   "outputs": [
    {
     "data": {
      "image/png": "[encoded data removed]",
      "text/plain": [
       "<Figure size 792x504 with 1 Axes>"
      ]
     },
     "metadata": {
      "needs_background": "light"
     },
     "output_type": "display_data"
    }
   ],
   "source": [
    "fig, ax = plt.subplots(figsize=(11,7))\n",
    "\n",
    "pos=[1,3,5,7]\n",
    "sep=0.7\n",
    "\n",
    "adhoc_up=df[df['trail_type']=='up'].groupby(['TZ','trail_id'])['Is_Adhoc'].sum()\n",
    "bp1=\\\n",
    "ax.boxplot([adhoc_up['Early_Morning'],adhoc_up['Morning'],adhoc_up['Afternoon'],adhoc_up['Evening']],\n",
    "            positions=pos,\n",
    "            showfliers=False,notch=False,patch_artist=True, \n",
    "            boxprops=dict(linewidth=3.0,color='black',facecolor=\"C0\"),\n",
    "            whiskerprops = dict(linestyle='-',linewidth=3.0, color='black'),\n",
    "            capprops=dict(linestyle='-',linewidth=3.0, color='black'),\n",
    "            medianprops=dict(linestyle='-',linewidth=3.0, color='orange')\n",
    "          )\n",
    "\n",
    "adhoc_down=df[df['trail_type']=='down'].groupby(['TZ','trail_id'])['Is_Adhoc'].sum()\n",
    "bp2=\\\n",
    "ax.boxplot([adhoc_down['Early_Morning'],adhoc_down['Morning'],adhoc_down['Afternoon'],adhoc_down['Evening']],\n",
    "            positions=[e+sep for e in pos],\n",
    "            showfliers=False,notch=False,patch_artist=True, \n",
    "            boxprops=dict(linewidth=3.0,color='black',facecolor=\"C2\"),\n",
    "            whiskerprops = dict(linestyle='-',linewidth=3.0, color='black'),\n",
    "            capprops=dict(linestyle='-',linewidth=3.0, color='black'),\n",
    "            medianprops=dict(linestyle='-',linewidth=3.0, color='orange')\n",
    "          )\n",
    "\n",
    "ax.legend([bp1[\"boxes\"][0], bp2[\"boxes\"][0]], ['Up trails', 'Down trails'],\n",
    "          prop={'size':22,'weight':'bold'},loc='upper right')\n",
    "\n",
    "ax.set_xlabel(\"Timezones\",fontsize=22, fontweight='bold')\n",
    "ax.set_ylabel(\"# Ad-hoc Stops\",fontsize=22, fontweight='bold')\n",
    "\n",
    "ax.set_xticks([1.35,3.35,5.35,7.35])\n",
    "ax.set_ylim(-1,30)\n",
    "ax.set_xticklabels(['Early Morning','Morning','Afternoon','Evening'],fontsize=22, fontweight='bold')\n",
    "plt.yticks(fontsize=22, fontweight='bold')\n",
    "plt.tight_layout()\n",
    "plt.grid()\n",
    "fig.savefig(\"../4. MotivationPlots/plots/adloc_tz_trail_box_test.png\")"
   ]
  },
  {
   "cell_type": "code",
   "execution_count": 9,
   "metadata": {},
   "outputs": [],
   "source": [
    "#NICE"
   ]
  }
 ],
 "metadata": {
  "kernelspec": {
   "display_name": "Python 3 (ipykernel)",
   "language": "python",
   "name": "python3"
  },
  "language_info": {
   "codemirror_mode": {
    "name": "ipython",
    "version": 3
   },
   "file_extension": ".py",
   "mimetype": "text/x-python",
   "name": "python",
   "nbconvert_exporter": "python",
   "pygments_lexer": "ipython3",
   "version": "3.9.12"
  }
 },
 "nbformat": 4,
 "nbformat_minor": 2
}
