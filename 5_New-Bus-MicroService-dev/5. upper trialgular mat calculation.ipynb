{
 "cells": [
  {
   "cell_type": "code",
   "execution_count": 1,
   "metadata": {},
   "outputs": [],
   "source": [
    "import os\n",
    "import glob\n",
    "import numpy as np\n",
    "import pandas as pd\n",
    "import datetime\n",
    "from library.preprocessing import distance\n",
    "import matplotlib.pyplot as plt\n",
    "%matplotlib inline"
   ]
  },
  {
   "cell_type": "markdown",
   "metadata": {},
   "source": [
    "# Reading the File"
   ]
  },
  {
   "cell_type": "code",
   "execution_count": 2,
   "metadata": {},
   "outputs": [],
   "source": [
    "def read_test_file_on_BS(fname):\n",
    "    df=pd.read_csv(fname)\n",
    "\n",
    "    if 'down' in fname:\n",
    "        bs=pd.read_csv(\"./Labels/down/Bus_stop_down.csv\",header=None).values.tolist()\n",
    "    elif 'up' in fname:\n",
    "        bs=pd.read_csv(\"./Labels/up/Bus_stop_up.csv\",header=None).values.tolist()\n",
    "\n",
    "    def find_by_stop_name(lat,long):\n",
    "        for blat,blong,bsname in bs:\n",
    "            if distance(lat,long,blat,blong)<30:\n",
    "                return bsname\n",
    "        return np.nan\n",
    "\n",
    "    df['BS_name']=df[['lat','long']].apply(lambda e:find_by_stop_name(e[0],e[1]),axis=1)\n",
    "\n",
    "    df=df.dropna().reset_index(drop='index')\n",
    "\n",
    "    return df"
   ]
  },
  {
   "cell_type": "markdown",
   "metadata": {},
   "source": [
    "# Helper functions"
   ]
  },
  {
   "cell_type": "code",
   "execution_count": 3,
   "metadata": {},
   "outputs": [],
   "source": [
    "def get_time_plus_delta(TIME,DELTA):\n",
    "    return str((pd.to_datetime(TIME)+datetime.timedelta(seconds=DELTA)).time())\n",
    "\n",
    "def get_upper_triangular_matrix_df(dataframe):\n",
    "    speed_dict={'Afternoon': 7.8311055934586244,'Early_Morning': 7.939567834568437,\n",
    "                'Evening': 7.526067233283224,'Morning': 7.979809998838039}\n",
    "    df=dataframe.copy()\n",
    "    error_matrix=[]\n",
    "    for start_bs in range(1,df.shape[0]+1): #1st bus stop\n",
    "\n",
    "        start_time=df.iloc[start_bs-1].start_time\n",
    "        stay_duration=df.iloc[start_bs-1].estimated_stay_duration\n",
    "\n",
    "        error=[np.nan]*start_bs\n",
    "\n",
    "        for tz,next_start_time,estimated_stay_duration,prevDist in df[['time_zone','start_time',\n",
    "                                                                    'estimated_stay_duration',\n",
    "                                                                    'distance_from_prev']].iloc[start_bs:].values.tolist():\n",
    "\n",
    "            travel_speed=speed_dict[tz]#17 #m/sec\n",
    "            travel_time=round(prevDist/travel_speed) #sec\n",
    "            estimated_reach_time=get_time_plus_delta(start_time,round(stay_duration+travel_time)) #timestamp\n",
    "\n",
    "            c_error=round((pd.to_datetime(estimated_reach_time).timestamp()-pd.to_datetime(next_start_time).timestamp())/60,2)\n",
    "            error.append(c_error)\n",
    "\n",
    "            start_time=estimated_reach_time #start time fr next hope is estimated\n",
    "            stay_duration=estimated_stay_duration # estimated stay will be added to compute the next\n",
    "\n",
    "        error_matrix.append(error)\n",
    "\n",
    "    return pd.DataFrame(error_matrix,index=df.BS_name.values,columns=df.BS_name.values)"
   ]
  },
  {
   "cell_type": "code",
   "execution_count": 4,
   "metadata": {},
   "outputs": [],
   "source": [
    "def get_upper_triangular_matrix_from_fname(fname):\n",
    "    df=read_test_file_on_BS(fname)\n",
    "    return get_upper_triangular_matrix_df(df)"
   ]
  },
  {
   "cell_type": "markdown",
   "metadata": {},
   "source": [
    "# Looping for all test CSVs"
   ]
  },
  {
   "cell_type": "code",
   "execution_count": 5,
   "metadata": {},
   "outputs": [
    {
     "name": "stdout",
     "output_type": "stream",
     "text": [
      "Saved for  down_Afternoon_pred_time_from_prev_10_2019-07-04.csv\n",
      "Saved for  down_Afternoon_pred_time_from_prev_16_2019-07-05.csv\n",
      "Saved for  down_Afternoon_pred_time_from_prev_1_2019-07-01.csv\n",
      "Saved for  down_Early_Morning_pred_time_from_prev_0_2019-07-01.csv\n",
      "Saved for  down_Early_Morning_pred_time_from_prev_12_2019-07-05.csv\n",
      "Saved for  down_Early_Morning_pred_time_from_prev_13_2019-07-05.csv\n",
      "Saved for  down_Early_Morning_pred_time_from_prev_2_2019-07-02.csv\n",
      "Saved for  down_Early_Morning_pred_time_from_prev_3_2019-07-02.csv\n",
      "Saved for  down_Early_Morning_pred_time_from_prev_6_2019-07-03.csv\n",
      "Saved for  down_Early_Morning_pred_time_from_prev_7_2019-07-03.csv\n",
      "Saved for  down_Evening_pred_time_from_prev_11_2019-07-04.csv\n",
      "Saved for  down_Evening_pred_time_from_prev_17_2019-07-05.csv\n",
      "Saved for  down_Evening_pred_time_from_prev_9_2019-07-03.csv\n",
      "Saved for  down_Morning_pred_time_from_prev_14_2019-07-05.csv\n",
      "Saved for  down_Morning_pred_time_from_prev_15_2019-07-05.csv\n",
      "Saved for  down_Morning_pred_time_from_prev_18_2019-06-30.csv\n",
      "Saved for  down_Morning_pred_time_from_prev_4_2019-07-02.csv\n",
      "Saved for  down_Morning_pred_time_from_prev_5_2019-07-02.csv\n",
      "Saved for  down_Morning_pred_time_from_prev_8_2019-07-03.csv\n",
      "Saved for  up_Afternoon_pred_time_from_prev_20_2019-07-01.csv\n",
      "Saved for  up_Afternoon_pred_time_from_prev_27_2019-07-03.csv\n",
      "Saved for  up_Afternoon_pred_time_from_prev_28_2019-07-04.csv\n",
      "Saved for  up_Afternoon_pred_time_from_prev_34_2019-07-05.csv\n",
      "Saved for  up_Afternoon_pred_time_from_prev_36_2019-06-28.csv\n",
      "Saved for  up_Early_Morning_pred_time_from_prev_19_2019-07-01.csv\n",
      "Saved for  up_Early_Morning_pred_time_from_prev_21_2019-07-02.csv\n",
      "Saved for  up_Early_Morning_pred_time_from_prev_22_2019-07-02.csv\n",
      "Saved for  up_Early_Morning_pred_time_from_prev_24_2019-07-03.csv\n",
      "Saved for  up_Early_Morning_pred_time_from_prev_25_2019-07-03.csv\n",
      "Saved for  up_Early_Morning_pred_time_from_prev_30_2019-07-05.csv\n",
      "Saved for  up_Early_Morning_pred_time_from_prev_31_2019-07-05.csv\n",
      "Saved for  up_Evening_pred_time_from_prev_29_2019-07-04.csv\n",
      "Saved for  up_Evening_pred_time_from_prev_35_2019-07-05.csv\n",
      "Saved for  up_Morning_pred_time_from_prev_23_2019-07-02.csv\n",
      "Saved for  up_Morning_pred_time_from_prev_26_2019-07-03.csv\n",
      "Saved for  up_Morning_pred_time_from_prev_32_2019-07-05.csv\n",
      "Saved for  up_Morning_pred_time_from_prev_33_2019-07-05.csv\n"
     ]
    }
   ],
   "source": [
    "test_files=os.listdir(\"./report/test_files\")\n",
    "\n",
    "for tf in test_files:\n",
    "    df=get_upper_triangular_matrix_from_fname(f'./report/test_files/{tf}')\n",
    "    df.to_csv(f\"./report/BS_Matrices/{tf}\")\n",
    "    print(\"Saved for \",tf)"
   ]
  },
  {
   "cell_type": "code",
   "execution_count": 6,
   "metadata": {},
   "outputs": [],
   "source": [
    "#NICE"
   ]
  }
 ],
 "metadata": {
  "interpreter": {
   "hash": "b496de04c6665edfa1cca11f385086828f468dbd980bacdf8bad1da56efd0634"
  },
  "kernelspec": {
   "display_name": "Python 3",
   "language": "python",
   "name": "python3"
  },
  "language_info": {
   "codemirror_mode": {
    "name": "ipython",
    "version": 3
   },
   "file_extension": ".py",
   "mimetype": "text/x-python",
   "name": "python",
   "nbconvert_exporter": "python",
   "pygments_lexer": "ipython3",
   "version": "3.8.8"
  }
 },
 "nbformat": 4,
 "nbformat_minor": 2
}
