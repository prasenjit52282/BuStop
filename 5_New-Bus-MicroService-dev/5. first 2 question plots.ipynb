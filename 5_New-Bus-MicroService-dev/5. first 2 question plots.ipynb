{
 "cells": [
  {
   "cell_type": "code",
   "execution_count": 1,
   "source": [
    "import glob\r\n",
    "import numpy as np\r\n",
    "import pandas as pd\r\n",
    "from library.preprocessing import distance\r\n",
    "import matplotlib.pyplot as plt\r\n",
    "%matplotlib inline"
   ],
   "outputs": [],
   "metadata": {}
  },
  {
   "cell_type": "code",
   "execution_count": 2,
   "source": [
    "def get_BS_pred_deviations(fname):\r\n",
    "    df=pd.read_csv(fname)\r\n",
    "\r\n",
    "    if 'down' in fname:\r\n",
    "        bs=pd.read_csv(\"./Labels/down/Bus_stop_down.csv\",header=None).values.tolist()\r\n",
    "    elif 'up' in fname:\r\n",
    "        bs=pd.read_csv(\"./Labels/up/Bus_stop_up.csv\",header=None).values.tolist()\r\n",
    "\r\n",
    "    def find_by_stop_name(lat,long):\r\n",
    "        for blat,blong,bsname in bs:\r\n",
    "            if distance(lat,long,blat,blong)<30:\r\n",
    "                return bsname\r\n",
    "        return np.nan\r\n",
    "\r\n",
    "    df['BS_name']=df[['lat','long']].apply(lambda e:find_by_stop_name(e[0],e[1]),axis=1)\r\n",
    "\r\n",
    "    df=df.dropna().reset_index(drop='index')[['pred_minus_start_time(min)','BS_name','Is_Bus_stop']]\r\n",
    "\r\n",
    "    return df"
   ],
   "outputs": [],
   "metadata": {}
  },
  {
   "cell_type": "markdown",
   "source": [
    "# 1. choose 4 trails 1 from each timezone. Give bar plots for the time deviation."
   ],
   "metadata": {}
  },
  {
   "cell_type": "code",
   "execution_count": 3,
   "source": [
    "def plot_and_save(df1,save_name=None):\r\n",
    "    fig, ax = plt.subplots(figsize=(11,7))\r\n",
    "\r\n",
    "    ax.bar(x=np.arange(len(df1.BS_name)),height=df1['pred_minus_start_time(min)'],align='center', alpha=1,\r\n",
    "           color=['grey' if case==1 else 'darkblue' for case in df1.Is_Bus_stop])\r\n",
    "\r\n",
    "    ax.set_xlabel(\"Bus-stops\",fontsize=26, fontweight='bold')\r\n",
    "    ax.set_ylabel(\"Error (Min)\",fontsize=26, fontweight='bold')\r\n",
    "\r\n",
    "    ax.set_xticks(np.arange(len(df1.BS_name)))\r\n",
    "    ax.set_xticklabels(df1.BS_name,fontsize=26, fontweight='bold',rotation=45)\r\n",
    "    plt.yticks(fontsize=26, fontweight='bold')\r\n",
    "    plt.tight_layout()\r\n",
    "    plt.grid()\r\n",
    "    plt.close()\r\n",
    "    fig.savefig(\"./report/plots/\"+save_name)"
   ],
   "outputs": [],
   "metadata": {}
  },
  {
   "cell_type": "markdown",
   "source": [
    "# Down"
   ],
   "metadata": {}
  },
  {
   "cell_type": "code",
   "execution_count": 4,
   "source": [
    "df1=get_BS_pred_deviations(\"./report/test_files/down_Early_Morning_pred_time_from_prev_12_2019-07-05.csv\")\r\n",
    "plot_and_save(df1,'down_Early_Morning_error.png')\r\n",
    "\r\n",
    "df1=get_BS_pred_deviations(\"./report/test_files/down_Morning_pred_time_from_prev_14_2019-07-05.csv\")\r\n",
    "plot_and_save(df1,'down_Morning_error.png')\r\n",
    "\r\n",
    "df1=get_BS_pred_deviations(\"./report/test_files/down_Afternoon_pred_time_from_prev_16_2019-07-05.csv\")\r\n",
    "plot_and_save(df1,'down_Afternoon_error.png')\r\n",
    "\r\n",
    "df1=get_BS_pred_deviations(\"./report/test_files/down_Evening_pred_time_from_prev_17_2019-07-05.csv\")\r\n",
    "plot_and_save(df1,'down_Evening_error.png')"
   ],
   "outputs": [],
   "metadata": {}
  },
  {
   "cell_type": "markdown",
   "source": [
    "# up"
   ],
   "metadata": {}
  },
  {
   "cell_type": "code",
   "execution_count": 5,
   "source": [
    "df1=get_BS_pred_deviations(\"./report/test_files/up_Early_Morning_pred_time_from_prev_31_2019-07-05.csv\")\r\n",
    "plot_and_save(df1,'up_Early_Morning_error.png')\r\n",
    "\r\n",
    "df1=get_BS_pred_deviations(\"./report/test_files/up_Morning_pred_time_from_prev_32_2019-07-05.csv\")\r\n",
    "plot_and_save(df1,'up_Morning_error.png')\r\n",
    "\r\n",
    "df1=get_BS_pred_deviations(\"./report/test_files/up_Afternoon_pred_time_from_prev_34_2019-07-05.csv\")\r\n",
    "plot_and_save(df1,'up_Afternoon_error.png')\r\n",
    "\r\n",
    "df1=get_BS_pred_deviations(\"./report/test_files/up_Evening_pred_time_from_prev_35_2019-07-05.csv\")\r\n",
    "plot_and_save(df1,'up_Evening_error.png')"
   ],
   "outputs": [],
   "metadata": {}
  },
  {
   "cell_type": "markdown",
   "source": [
    "# 2. Box plot for daywise time deviation."
   ],
   "metadata": {}
  },
  {
   "cell_type": "code",
   "execution_count": 6,
   "source": [
    "def get_error_list_for_the_day(date):\r\n",
    "    df=pd.concat([get_BS_pred_deviations(f) for f in glob.glob(f\"./report/test_files/*_{date}.csv\")])\r\n",
    "    return df['pred_minus_start_time(min)'].values"
   ],
   "outputs": [],
   "metadata": {}
  },
  {
   "cell_type": "code",
   "execution_count": 7,
   "source": [
    "test_dates=['2019-06-28','2019-06-30','2019-07-01','2019-07-02','2019-07-03','2019-07-04','2019-07-05']\r\n",
    "error_lists=[get_error_list_for_the_day(date) for date in test_dates]"
   ],
   "outputs": [],
   "metadata": {}
  },
  {
   "cell_type": "code",
   "execution_count": 8,
   "source": [
    "fig, ax = plt.subplots(figsize=(11,7))\r\n",
    "\r\n",
    "pos=[1,2,3,4,5,6,7]\r\n",
    "sep=0.7\r\n",
    "\r\n",
    "bp1=\\\r\n",
    "ax.boxplot( error_lists,\r\n",
    "            positions=pos,\r\n",
    "            showfliers=True,notch=False,patch_artist=True, boxprops=dict(linewidth=3.0,color='black',facecolor=\"lightgrey\"),\r\n",
    "            whiskerprops = dict(linestyle='-',linewidth=3.0, color='black'),\r\n",
    "            flierprops=dict(marker='o', markerfacecolor='green', markersize=10,linestyle='-'),\r\n",
    "            capprops=dict(linestyle='-',linewidth=3.0, color='black'),\r\n",
    "            medianprops=dict(linestyle='-',linewidth=3.0, color='orange')\r\n",
    "          )\r\n",
    "\r\n",
    "ax.set_xlabel(\"Days\",fontsize=22, fontweight='bold')\r\n",
    "ax.set_ylabel(\"Error (Min)\",fontsize=22, fontweight='bold')\r\n",
    "\r\n",
    "ax.set_xticks(pos)\r\n",
    "ax.set_xticklabels([f'Day{d}' for d in pos],fontsize=22, fontweight='bold')\r\n",
    "plt.yticks(fontsize=22, fontweight='bold')\r\n",
    "plt.tight_layout()\r\n",
    "plt.grid()\r\n",
    "fig.savefig(\"./report/plots/daywise_error_boxplot.png\")"
   ],
   "outputs": [
    {
     "output_type": "display_data",
     "data": {
      "image/png": "[encoded data removed]",
      "text/plain": [
       "<Figure size 792x504 with 1 Axes>"
      ]
     },
     "metadata": {
      "needs_background": "light"
     }
    }
   ],
   "metadata": {}
  },
  {
   "cell_type": "code",
   "execution_count": 11,
   "source": [
    "#NICE"
   ],
   "outputs": [],
   "metadata": {}
  }
 ],
 "metadata": {
  "kernelspec": {
   "name": "python3",
   "display_name": "Python 3.8.8 64-bit ('base': conda)"
  },
  "language_info": {
   "codemirror_mode": {
    "name": "ipython",
    "version": 3
   },
   "file_extension": ".py",
   "mimetype": "text/x-python",
   "name": "python",
   "nbconvert_exporter": "python",
   "pygments_lexer": "ipython3",
   "version": "3.8.8"
  },
  "interpreter": {
   "hash": "b496de04c6665edfa1cca11f385086828f468dbd980bacdf8bad1da56efd0634"
  }
 },
 "nbformat": 4,
 "nbformat_minor": 2
}