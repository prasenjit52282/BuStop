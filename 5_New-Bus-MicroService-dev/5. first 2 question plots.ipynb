{
 "cells": [
  {
   "cell_type": "code",
   "execution_count": 1,
   "metadata": {},
   "outputs": [],
   "source": [
    "import glob\n",
    "import numpy as np\n",
    "import pandas as pd\n",
    "from library.preprocessing import distance\n",
    "import matplotlib.pyplot as plt\n",
    "%matplotlib inline"
   ]
  },
  {
   "cell_type": "code",
   "execution_count": 2,
   "metadata": {},
   "outputs": [],
   "source": [
    "def get_BS_pred_deviations(fname):\n",
    "    df=pd.read_csv(fname)\n",
    "\n",
    "    if 'down' in fname:\n",
    "        bs=pd.read_csv(\"./Labels/down/Bus_stop_down.csv\",header=None).values.tolist()\n",
    "    elif 'up' in fname:\n",
    "        bs=pd.read_csv(\"./Labels/up/Bus_stop_up.csv\",header=None).values.tolist()\n",
    "\n",
    "    def find_by_stop_name(lat,long):\n",
    "        for blat,blong,bsname in bs:\n",
    "            if distance(lat,long,blat,blong)<30:\n",
    "                return bsname\n",
    "        return np.nan\n",
    "\n",
    "    df['BS_name']=df[['lat','long']].apply(lambda e:find_by_stop_name(e[0],e[1]),axis=1)\n",
    "\n",
    "    df=df.dropna().reset_index(drop='index')[['pred_minus_start_time(min)','BS_name','Is_Bus_stop']]\n",
    "\n",
    "    return df"
   ]
  },
  {
   "cell_type": "markdown",
   "metadata": {},
   "source": [
    "# 1. choose 4 trails 1 from each timezone. Give bar plots for the time deviation."
   ]
  },
  {
   "cell_type": "code",
   "execution_count": 3,
   "metadata": {},
   "outputs": [],
   "source": [
    "def plot_and_save(df1,save_name=None):\n",
    "    fig, ax = plt.subplots(figsize=(11,7))\n",
    "\n",
    "    ax.bar(x=np.arange(len(df1.BS_name)),height=df1['pred_minus_start_time(min)'],align='center', alpha=1,\n",
    "           color=['grey' if case==1 else 'darkblue' for case in df1.Is_Bus_stop])\n",
    "\n",
    "    ax.set_xlabel(\"Bus-stops\",fontsize=26, fontweight='bold')\n",
    "    ax.set_ylabel(\"Error (Min)\",fontsize=26, fontweight='bold')\n",
    "\n",
    "    ax.set_xticks(np.arange(len(df1.BS_name)))\n",
    "    ax.set_xticklabels(df1.BS_name,fontsize=26, fontweight='bold',rotation=45)\n",
    "    plt.yticks(fontsize=26, fontweight='bold')\n",
    "    plt.tight_layout()\n",
    "    plt.grid()\n",
    "    plt.close()\n",
    "    fig.savefig(\"./report/plots/\"+save_name)"
   ]
  },
  {
   "cell_type": "markdown",
   "metadata": {},
   "source": [
    "# Down"
   ]
  },
  {
   "cell_type": "code",
   "execution_count": 4,
   "metadata": {},
   "outputs": [],
   "source": [
    "df1=get_BS_pred_deviations(\"./report/test_files/down_Early_Morning_pred_time_from_prev_12_2019-07-05.csv\")\n",
    "plot_and_save(df1,'down_Early_Morning_error.png')\n",
    "\n",
    "df1=get_BS_pred_deviations(\"./report/test_files/down_Morning_pred_time_from_prev_14_2019-07-05.csv\")\n",
    "plot_and_save(df1,'down_Morning_error.png')\n",
    "\n",
    "df1=get_BS_pred_deviations(\"./report/test_files/down_Afternoon_pred_time_from_prev_16_2019-07-05.csv\")\n",
    "plot_and_save(df1,'down_Afternoon_error.png')\n",
    "\n",
    "df1=get_BS_pred_deviations(\"./report/test_files/down_Evening_pred_time_from_prev_17_2019-07-05.csv\")\n",
    "plot_and_save(df1,'down_Evening_error.png')"
   ]
  },
  {
   "cell_type": "markdown",
   "metadata": {},
   "source": [
    "# up"
   ]
  },
  {
   "cell_type": "code",
   "execution_count": 5,
   "metadata": {},
   "outputs": [],
   "source": [
    "df1=get_BS_pred_deviations(\"./report/test_files/up_Early_Morning_pred_time_from_prev_31_2019-07-05.csv\")\n",
    "plot_and_save(df1,'up_Early_Morning_error.png')\n",
    "\n",
    "df1=get_BS_pred_deviations(\"./report/test_files/up_Morning_pred_time_from_prev_32_2019-07-05.csv\")\n",
    "plot_and_save(df1,'up_Morning_error.png')\n",
    "\n",
    "df1=get_BS_pred_deviations(\"./report/test_files/up_Afternoon_pred_time_from_prev_34_2019-07-05.csv\")\n",
    "plot_and_save(df1,'up_Afternoon_error.png')\n",
    "\n",
    "df1=get_BS_pred_deviations(\"./report/test_files/up_Evening_pred_time_from_prev_35_2019-07-05.csv\")\n",
    "plot_and_save(df1,'up_Evening_error.png')"
   ]
  },
  {
   "cell_type": "markdown",
   "metadata": {},
   "source": [
    "# 2. Box plot for daywise time deviation."
   ]
  },
  {
   "cell_type": "code",
   "execution_count": 6,
   "metadata": {},
   "outputs": [],
   "source": [
    "def get_error_list_for_the_day(date):\n",
    "    df=pd.concat([get_BS_pred_deviations(f) for f in glob.glob(f\"./report/test_files/*_{date}.csv\")])\n",
    "    return df['pred_minus_start_time(min)'].values"
   ]
  },
  {
   "cell_type": "code",
   "execution_count": 7,
   "metadata": {},
   "outputs": [],
   "source": [
    "test_dates=['2019-06-28','2019-06-30','2019-07-01','2019-07-02','2019-07-03','2019-07-04','2019-07-05']\n",
    "error_lists=[get_error_list_for_the_day(date) for date in test_dates]"
   ]
  },
  {
   "cell_type": "code",
   "execution_count": 8,
   "metadata": {},
   "outputs": [
    {
     "data": {
      "image/png": "[encoded data removed]",
      "text/plain": [
       "<Figure size 792x504 with 1 Axes>"
      ]
     },
     "metadata": {
      "needs_background": "light"
     },
     "output_type": "display_data"
    }
   ],
   "source": [
    "fig, ax = plt.subplots(figsize=(11,7))\n",
    "\n",
    "pos=[1,2,3,4,5,6,7]\n",
    "sep=0.7\n",
    "\n",
    "bp1=\\\n",
    "ax.boxplot( error_lists,\n",
    "            positions=pos,\n",
    "            showfliers=True,notch=False,patch_artist=True, boxprops=dict(linewidth=3.0,color='black',facecolor=\"lightgrey\"),\n",
    "            whiskerprops = dict(linestyle='-',linewidth=3.0, color='black'),\n",
    "            flierprops=dict(marker='o', markerfacecolor='green', markersize=10,linestyle='-'),\n",
    "            capprops=dict(linestyle='-',linewidth=3.0, color='black'),\n",
    "            medianprops=dict(linestyle='-',linewidth=3.0, color='orange')\n",
    "          )\n",
    "\n",
    "ax.set_xlabel(\"Days\",fontsize=22, fontweight='bold')\n",
    "ax.set_ylabel(\"Error (Min)\",fontsize=22, fontweight='bold')\n",
    "\n",
    "ax.set_xticks(pos)\n",
    "ax.set_xticklabels([f'Day{d}' for d in pos],fontsize=22, fontweight='bold')\n",
    "plt.yticks(fontsize=22, fontweight='bold')\n",
    "plt.tight_layout()\n",
    "plt.grid()\n",
    "fig.savefig(\"./report/plots/daywise_error_boxplot.png\")"
   ]
  },
  {
   "cell_type": "code",
   "execution_count": 11,
   "metadata": {},
   "outputs": [],
   "source": [
    "#NICE"
   ]
  }
 ],
 "metadata": {
  "kernelspec": {
   "display_name": "Python 3",
   "language": "python",
   "name": "python3"
  },
  "language_info": {
   "codemirror_mode": {
    "name": "ipython",
    "version": 3
   },
   "file_extension": ".py",
   "mimetype": "text/x-python",
   "name": "python",
   "nbconvert_exporter": "python",
   "pygments_lexer": "ipython3",
   "version": "3.7.4"
  }
 },
 "nbformat": 4,
 "nbformat_minor": 2
}
