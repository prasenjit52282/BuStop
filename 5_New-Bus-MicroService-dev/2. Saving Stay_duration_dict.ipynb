{
 "cells": [
  {
   "cell_type": "code",
   "execution_count": 1,
   "metadata": {},
   "outputs": [],
   "source": [
    "import glob\n",
    "import pickle\n",
    "import numpy as np\n",
    "import pandas as pd"
   ]
  },
  {
   "cell_type": "code",
   "execution_count": 2,
   "metadata": {},
   "outputs": [],
   "source": [
    "all_files=glob.glob(\"../1. DataProcessing/Trails/*/*/mu_serv_*.csv\")\n",
    "\n",
    "test_dates=['2019-06-28','2019-06-30','2019-07-01','2019-07-02','2019-07-03','2019-07-04','2019-07-05']"
   ]
  },
  {
   "cell_type": "code",
   "execution_count": 3,
   "metadata": {},
   "outputs": [],
   "source": [
    "#train files\n",
    "train_files=[f for f in all_files if f.split('_')[-1].split(\".\")[0] not in test_dates]\n",
    "\n",
    "#test files\n",
    "test_files=[f for f in all_files if f.split('_')[-1].split(\".\")[0] in test_dates]"
   ]
  },
  {
   "cell_type": "markdown",
   "metadata": {},
   "source": [
    "# Training Data"
   ]
  },
  {
   "cell_type": "code",
   "execution_count": 4,
   "metadata": {},
   "outputs": [],
   "source": [
    "df=pd.concat([pd.read_csv(f) for f in train_files])"
   ]
  },
  {
   "cell_type": "code",
   "execution_count": 5,
   "metadata": {},
   "outputs": [],
   "source": [
    "dic={}\n",
    "for poi_column in ['Is_Bus_stop', 'Is_Turn', 'Is_Signal', 'Is_Congestion', 'Is_Adhoc']:\n",
    "    dic[poi_column]=dict(df[df[poi_column]==1].groupby('time_zone')['stay_duration'].mean())"
   ]
  },
  {
   "cell_type": "code",
   "execution_count": 6,
   "metadata": {},
   "outputs": [
    {
     "data": {
      "text/plain": [
       "{'Is_Bus_stop': {'Afternoon': 24.16631130063966,\n",
       "  'Early_Morning': 35.38961038961039,\n",
       "  'Evening': 22.97979797979798,\n",
       "  'Morning': 30.336734693877553},\n",
       " 'Is_Turn': {'Afternoon': 21.441935483870967,\n",
       "  'Early_Morning': 30.41860465116279,\n",
       "  'Evening': 20.887417218543046,\n",
       "  'Morning': 23.87272727272727},\n",
       " 'Is_Signal': {'Afternoon': 19.741935483870968,\n",
       "  'Early_Morning': 13.933333333333334,\n",
       "  'Evening': 14.583333333333334,\n",
       "  'Morning': 19.75},\n",
       " 'Is_Congestion': {'Afternoon': 23.918650793650794,\n",
       "  'Early_Morning': 9.0,\n",
       "  'Evening': 21.12562814070352,\n",
       "  'Morning': 26.703557312252965},\n",
       " 'Is_Adhoc': {'Afternoon': 10.388739946380698,\n",
       "  'Early_Morning': 23.5,\n",
       "  'Evening': 12.193717277486911,\n",
       "  'Morning': 10.406976744186046}}"
      ]
     },
     "execution_count": 6,
     "metadata": {},
     "output_type": "execute_result"
    }
   ],
   "source": [
    "dic"
   ]
  },
  {
   "cell_type": "code",
   "execution_count": 7,
   "metadata": {},
   "outputs": [],
   "source": [
    "#Saving stay_duration_dict\n",
    "with open('./logs/stay_duration.pickle', 'wb') as handle:\n",
    "    pickle.dump(dic, handle, protocol=pickle.HIGHEST_PROTOCOL)"
   ]
  },
  {
   "cell_type": "code",
   "execution_count": 8,
   "metadata": {},
   "outputs": [],
   "source": [
    "#NICE"
   ]
  }
 ],
 "metadata": {
  "kernelspec": {
   "display_name": "Python 3",
   "language": "python",
   "name": "python3"
  },
  "language_info": {
   "codemirror_mode": {
    "name": "ipython",
    "version": 3
   },
   "file_extension": ".py",
   "mimetype": "text/x-python",
   "name": "python",
   "nbconvert_exporter": "python",
   "pygments_lexer": "ipython3",
   "version": "3.8.8"
  }
 },
 "nbformat": 4,
 "nbformat_minor": 2
}
