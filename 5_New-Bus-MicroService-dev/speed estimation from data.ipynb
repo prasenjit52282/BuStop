{
 "cells": [
  {
   "cell_type": "code",
   "execution_count": 1,
   "metadata": {},
   "outputs": [],
   "source": [
    "import glob\n",
    "import datetime\n",
    "import numpy as np\n",
    "import pandas as pd\n",
    "from library.preprocessing import distance"
   ]
  },
  {
   "cell_type": "code",
   "execution_count": 18,
   "metadata": {},
   "outputs": [],
   "source": [
    "all_folders=glob.glob(\"./Trails/*/*/\")\n",
    "\n",
    "test_dates=['2019-06-28','2019-06-30','2019-07-01','2019-07-02','2019-07-03','2019-07-04','2019-07-05']\n",
    "formatted_test_dates=['-'.join(d.split(\"-\")[::-1]) for d in test_dates] #reversing order\n",
    "\n",
    "get_date=lambda fname:fname.split(\"\\\\\")[-2].split(\"_\")[0]\n",
    "get_format_date=lambda fname: '-'.join(get_date(fname).split(\"-\")[::-1])\n",
    "\n",
    "#train folders\n",
    "train_file_pairs=\\\n",
    "[(f+\"GPS.csv\",\n",
    " f+\"mu_serv_{}.csv\".format(get_format_date(f))) for f in all_folders if get_date(f) in formatted_test_dates]"
   ]
  },
  {
   "cell_type": "code",
   "execution_count": 19,
   "metadata": {},
   "outputs": [],
   "source": [
    "def get_average_speed_in_trail_with_tz(gps,mu):\n",
    "    total_distance=0\n",
    "    latlong=gps[['#lat','long']]\n",
    "    for i in range(latlong.shape[0]-1):\n",
    "        total_distance+=distance(*latlong.iloc[i].values.tolist(),*latlong.iloc[i+1].values.tolist())\n",
    "\n",
    "    travel_time=\\\n",
    "    (pd.to_datetime(gps.iloc[-1].time).timestamp()-pd.to_datetime(gps.iloc[0].time).timestamp())-mu.stay_duration.sum()\n",
    "\n",
    "    avg_speed=total_distance/travel_time\n",
    "    return [avg_speed,mu.time_zone[0]]"
   ]
  },
  {
   "cell_type": "markdown",
   "metadata": {},
   "source": [
    "# Loop through training set"
   ]
  },
  {
   "cell_type": "code",
   "execution_count": 20,
   "metadata": {},
   "outputs": [
    {
     "name": "stdout",
     "output_type": "stream",
     "text": [
      "ON file  ./Trails\\down\\01-07-2019\\GPS.csv\n",
      "ON file  ./Trails\\down\\01-07-2019_DATA_17_03_44\\GPS.csv\n",
      "ON file  ./Trails\\down\\02-07-2019\\GPS.csv\n",
      "ON file  ./Trails\\down\\02-07-2019_DATA_09_52_39\\GPS.csv\n",
      "ON file  ./Trails\\down\\02-07-2019_DATA_11_11_23\\GPS.csv\n",
      "ON file  ./Trails\\down\\02-07-2019_DATA_12_06_05\\GPS.csv\n",
      "ON file  ./Trails\\down\\03-07-2019\\GPS.csv\n",
      "ON file  ./Trails\\down\\03-07-2019_DATA_09_56_40\\GPS.csv\n",
      "ON file  ./Trails\\down\\03-07-2019_DATA_11_52_11\\GPS.csv\n",
      "ON file  ./Trails\\down\\03-07-2019_DATA_18_04_00\\GPS.csv\n",
      "ON file  ./Trails\\down\\04-07-2019\\GPS.csv\n",
      "ON file  ./Trails\\down\\04-07-2019_DATA_19_23_45\\GPS.csv\n",
      "ON file  ./Trails\\down\\05-07-2019\\GPS.csv\n",
      "ON file  ./Trails\\down\\05-07-2019_DATA_09_21_15\\GPS.csv\n",
      "ON file  ./Trails\\down\\05-07-2019_DATA_10_56_28\\GPS.csv\n",
      "ON file  ./Trails\\down\\05-07-2019_DATA_11_49_44\\GPS.csv\n",
      "ON file  ./Trails\\down\\05-07-2019_DATA_17_01_55\\GPS.csv\n",
      "ON file  ./Trails\\down\\05-07-2019_DATA_18_56_42\\GPS.csv\n",
      "ON file  ./Trails\\down\\30-06-2019\\GPS.csv\n",
      "ON file  ./Trails\\up\\01-07-2019\\GPS.csv\n",
      "ON file  ./Trails\\up\\01-07-2019_DATA_15_59_01\\GPS.csv\n",
      "ON file  ./Trails\\up\\02-07-2019\\GPS.csv\n",
      "ON file  ./Trails\\up\\02-07-2019_DATA_08_59_55\\GPS.csv\n",
      "ON file  ./Trails\\up\\02-07-2019_DATA_10_58_35\\GPS.csv\n",
      "ON file  ./Trails\\up\\03-07-2019\\GPS.csv\n",
      "ON file  ./Trails\\up\\03-07-2019_DATA_08_46_57\\GPS.csv\n",
      "ON file  ./Trails\\up\\03-07-2019_DATA_10_58_15\\GPS.csv\n",
      "ON file  ./Trails\\up\\03-07-2019_DATA_17_00_17\\GPS.csv\n",
      "ON file  ./Trails\\up\\04-07-2019\\GPS.csv\n",
      "ON file  ./Trails\\up\\04-07-2019_DATA_18_39_02\\GPS.csv\n",
      "ON file  ./Trails\\up\\05-07-2019\\GPS.csv\n",
      "ON file  ./Trails\\up\\05-07-2019_DATA_08_28_46\\GPS.csv\n",
      "ON file  ./Trails\\up\\05-07-2019_DATA_10_09_30\\GPS.csv\n",
      "ON file  ./Trails\\up\\05-07-2019_DATA_10_46_37\\GPS.csv\n",
      "ON file  ./Trails\\up\\05-07-2019_DATA_16_16_42\\GPS.csv\n",
      "ON file  ./Trails\\up\\05-07-2019_DATA_18_03_49\\GPS.csv\n",
      "ON file  ./Trails\\up\\28-06-2019\\GPS.csv\n"
     ]
    }
   ],
   "source": [
    "speed_with_tz=[]\n",
    "\n",
    "for gps_file,mu_file in train_file_pairs:\n",
    "    gps=pd.read_csv(gps_file)\n",
    "    mu=pd.read_csv(mu_file)\n",
    "    speed_with_tz.append(get_average_speed_in_trail_with_tz(gps,mu))\n",
    "    print(\"ON file \",gps_file)"
   ]
  },
  {
   "cell_type": "code",
   "execution_count": 21,
   "metadata": {},
   "outputs": [],
   "source": [
    "df=pd.DataFrame(speed_with_tz,columns=['speed','tz'])"
   ]
  },
  {
   "cell_type": "code",
   "execution_count": 24,
   "metadata": {},
   "outputs": [
    {
     "data": {
      "text/plain": [
       "7.819137665037081"
      ]
     },
     "execution_count": 24,
     "metadata": {},
     "output_type": "execute_result"
    }
   ],
   "source": [
    "df.groupby('tz')['speed'].median().mean()"
   ]
  },
  {
   "cell_type": "code",
   "execution_count": null,
   "metadata": {},
   "outputs": [],
   "source": []
  }
 ],
 "metadata": {
  "kernelspec": {
   "display_name": "Python 3",
   "language": "python",
   "name": "python3"
  },
  "language_info": {
   "codemirror_mode": {
    "name": "ipython",
    "version": 3
   },
   "file_extension": ".py",
   "mimetype": "text/x-python",
   "name": "python",
   "nbconvert_exporter": "python",
   "pygments_lexer": "ipython3",
   "version": "3.7.4"
  }
 },
 "nbformat": 4,
 "nbformat_minor": 2
}
