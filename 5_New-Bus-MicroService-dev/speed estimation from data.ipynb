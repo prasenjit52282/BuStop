{
 "cells": [
  {
   "cell_type": "code",
   "execution_count": 1,
   "source": [
    "import glob\r\n",
    "import datetime\r\n",
    "import numpy as np\r\n",
    "import pandas as pd\r\n",
    "from library.preprocessing import distance"
   ],
   "outputs": [],
   "metadata": {}
  },
  {
   "cell_type": "code",
   "execution_count": 2,
   "source": [
    "all_folders=glob.glob(\"./Trails/*/*/\")\r\n",
    "\r\n",
    "test_dates=['2019-06-28','2019-06-30','2019-07-01','2019-07-02','2019-07-03','2019-07-04','2019-07-05']\r\n",
    "formatted_test_dates=['-'.join(d.split(\"-\")[::-1]) for d in test_dates] #reversing order\r\n",
    "\r\n",
    "get_date=lambda fname:fname.split(\"\\\\\")[-2].split(\"_\")[0]\r\n",
    "get_format_date=lambda fname: '-'.join(get_date(fname).split(\"-\")[::-1])\r\n",
    "\r\n",
    "#train folders\r\n",
    "train_file_pairs=\\\r\n",
    "[(f+\"GPS.csv\",\r\n",
    " f+\"mu_serv_{}.csv\".format(get_format_date(f))) for f in all_folders if get_date(f) in formatted_test_dates]"
   ],
   "outputs": [],
   "metadata": {}
  },
  {
   "cell_type": "code",
   "execution_count": 3,
   "source": [
    "def get_average_speed_in_trail_with_tz(gps,mu):\r\n",
    "    total_distance=0\r\n",
    "    latlong=gps[['#lat','long']]\r\n",
    "    for i in range(latlong.shape[0]-1):\r\n",
    "        total_distance+=distance(*latlong.iloc[i].values.tolist(),*latlong.iloc[i+1].values.tolist())\r\n",
    "\r\n",
    "    travel_time=\\\r\n",
    "    (pd.to_datetime(gps.iloc[-1].time).timestamp()-pd.to_datetime(gps.iloc[0].time).timestamp())-mu.stay_duration.sum()\r\n",
    "\r\n",
    "    avg_speed=total_distance/travel_time\r\n",
    "    return [avg_speed,mu.time_zone[0]]"
   ],
   "outputs": [],
   "metadata": {}
  },
  {
   "cell_type": "markdown",
   "source": [
    "# Loop through training set"
   ],
   "metadata": {}
  },
  {
   "cell_type": "code",
   "execution_count": 4,
   "source": [
    "speed_with_tz=[]\r\n",
    "\r\n",
    "for gps_file,mu_file in train_file_pairs:\r\n",
    "    gps=pd.read_csv(gps_file)\r\n",
    "    mu=pd.read_csv(mu_file)\r\n",
    "    speed_with_tz.append(get_average_speed_in_trail_with_tz(gps,mu))\r\n",
    "    print(\"ON file \",gps_file)"
   ],
   "outputs": [
    {
     "output_type": "stream",
     "name": "stdout",
     "text": [
      "ON file  ./Trails\\down\\01-07-2019\\GPS.csv\n",
      "ON file  ./Trails\\down\\01-07-2019_DATA_17_03_44\\GPS.csv\n",
      "ON file  ./Trails\\down\\02-07-2019\\GPS.csv\n",
      "ON file  ./Trails\\down\\02-07-2019_DATA_09_52_39\\GPS.csv\n",
      "ON file  ./Trails\\down\\02-07-2019_DATA_11_11_23\\GPS.csv\n",
      "ON file  ./Trails\\down\\02-07-2019_DATA_12_06_05\\GPS.csv\n",
      "ON file  ./Trails\\down\\03-07-2019\\GPS.csv\n",
      "ON file  ./Trails\\down\\03-07-2019_DATA_09_56_40\\GPS.csv\n",
      "ON file  ./Trails\\down\\03-07-2019_DATA_11_52_11\\GPS.csv\n",
      "ON file  ./Trails\\down\\03-07-2019_DATA_18_04_00\\GPS.csv\n",
      "ON file  ./Trails\\down\\04-07-2019\\GPS.csv\n",
      "ON file  ./Trails\\down\\04-07-2019_DATA_19_23_45\\GPS.csv\n",
      "ON file  ./Trails\\down\\05-07-2019\\GPS.csv\n",
      "ON file  ./Trails\\down\\05-07-2019_DATA_09_21_15\\GPS.csv\n",
      "ON file  ./Trails\\down\\05-07-2019_DATA_10_56_28\\GPS.csv\n",
      "ON file  ./Trails\\down\\05-07-2019_DATA_11_49_44\\GPS.csv\n",
      "ON file  ./Trails\\down\\05-07-2019_DATA_17_01_55\\GPS.csv\n",
      "ON file  ./Trails\\down\\05-07-2019_DATA_18_56_42\\GPS.csv\n",
      "ON file  ./Trails\\down\\30-06-2019\\GPS.csv\n",
      "ON file  ./Trails\\up\\01-07-2019\\GPS.csv\n",
      "ON file  ./Trails\\up\\01-07-2019_DATA_15_59_01\\GPS.csv\n",
      "ON file  ./Trails\\up\\02-07-2019\\GPS.csv\n",
      "ON file  ./Trails\\up\\02-07-2019_DATA_08_59_55\\GPS.csv\n",
      "ON file  ./Trails\\up\\02-07-2019_DATA_10_58_35\\GPS.csv\n",
      "ON file  ./Trails\\up\\03-07-2019\\GPS.csv\n",
      "ON file  ./Trails\\up\\03-07-2019_DATA_08_46_57\\GPS.csv\n",
      "ON file  ./Trails\\up\\03-07-2019_DATA_10_58_15\\GPS.csv\n",
      "ON file  ./Trails\\up\\03-07-2019_DATA_17_00_17\\GPS.csv\n",
      "ON file  ./Trails\\up\\04-07-2019\\GPS.csv\n",
      "ON file  ./Trails\\up\\04-07-2019_DATA_18_39_02\\GPS.csv\n",
      "ON file  ./Trails\\up\\05-07-2019\\GPS.csv\n",
      "ON file  ./Trails\\up\\05-07-2019_DATA_08_28_46\\GPS.csv\n",
      "ON file  ./Trails\\up\\05-07-2019_DATA_10_09_30\\GPS.csv\n",
      "ON file  ./Trails\\up\\05-07-2019_DATA_10_46_37\\GPS.csv\n",
      "ON file  ./Trails\\up\\05-07-2019_DATA_16_16_42\\GPS.csv\n",
      "ON file  ./Trails\\up\\05-07-2019_DATA_18_03_49\\GPS.csv\n",
      "ON file  ./Trails\\up\\28-06-2019\\GPS.csv\n"
     ]
    }
   ],
   "metadata": {}
  },
  {
   "cell_type": "code",
   "execution_count": 5,
   "source": [
    "df=pd.DataFrame(speed_with_tz,columns=['speed','tz'])"
   ],
   "outputs": [],
   "metadata": {}
  },
  {
   "cell_type": "code",
   "execution_count": 7,
   "source": [
    "dict(df.groupby('tz')['speed'].median())#.mean()"
   ],
   "outputs": [
    {
     "output_type": "execute_result",
     "data": {
      "text/plain": [
       "{'Afternoon': 7.8311055934586244,\n",
       " 'Early_Morning': 7.939567834568437,\n",
       " 'Evening': 7.526067233283224,\n",
       " 'Morning': 7.979809998838039}"
      ]
     },
     "metadata": {},
     "execution_count": 7
    }
   ],
   "metadata": {}
  },
  {
   "cell_type": "code",
   "execution_count": null,
   "source": [],
   "outputs": [],
   "metadata": {}
  }
 ],
 "metadata": {
  "kernelspec": {
   "name": "python3",
   "display_name": "Python 3.8.8 64-bit ('base': conda)"
  },
  "language_info": {
   "codemirror_mode": {
    "name": "ipython",
    "version": 3
   },
   "file_extension": ".py",
   "mimetype": "text/x-python",
   "name": "python",
   "nbconvert_exporter": "python",
   "pygments_lexer": "ipython3",
   "version": "3.8.8"
  },
  "interpreter": {
   "hash": "b496de04c6665edfa1cca11f385086828f468dbd980bacdf8bad1da56efd0634"
  }
 },
 "nbformat": 4,
 "nbformat_minor": 2
}