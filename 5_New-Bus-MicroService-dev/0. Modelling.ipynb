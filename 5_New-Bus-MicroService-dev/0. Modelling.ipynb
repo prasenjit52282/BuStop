{
 "cells": [
  {
   "cell_type": "code",
   "execution_count": 1,
   "metadata": {},
   "outputs": [],
   "source": [
    "import glob\n",
    "import pickle\n",
    "import numpy as np\n",
    "import pandas as pd\n",
    "from sklearn.ensemble import RandomForestClassifier\n",
    "from sklearn.metrics import *\n",
    "from imblearn.over_sampling import SMOTE\n",
    "from library.preprocessing import new_Processing_before_journal"
   ]
  },
  {
   "cell_type": "code",
   "execution_count": 2,
   "metadata": {},
   "outputs": [],
   "source": [
    "all_folders=glob.glob(\"../1. DataProcessing/Trails/*/*/\")"
   ]
  },
  {
   "cell_type": "code",
   "execution_count": 3,
   "metadata": {},
   "outputs": [],
   "source": [
    "test_dates=['2019-06-28','2019-06-30','2019-07-01','2019-07-02','2019-07-03','2019-07-04','2019-07-05']\n",
    "formatted_test_dates=['-'.join(d.split(\"-\")[::-1]) for d in test_dates] #reversing order"
   ]
  },
  {
   "cell_type": "code",
   "execution_count": 4,
   "metadata": {},
   "outputs": [],
   "source": [
    "#train folders\n",
    "train_folders=[f for f in all_folders if f.split(\"\\\\\")[-2].split(\"_\")[0] not in formatted_test_dates]\n",
    "\n",
    "#test folders\n",
    "test_folders=[f for f in all_folders if f.split(\"\\\\\")[-2].split(\"_\")[0] in formatted_test_dates]"
   ]
  },
  {
   "cell_type": "markdown",
   "metadata": {},
   "source": [
    "# Modelling"
   ]
  },
  {
   "cell_type": "code",
   "execution_count": 5,
   "metadata": {},
   "outputs": [],
   "source": [
    "#trqining_data\n",
    "train_df=pd.concat([new_Processing_before_journal(e+\"ALL_DATA.csv\") for e in train_folders])#Raw data is processed\n",
    "\n",
    "#testing_data\n",
    "test_df=pd.concat([new_Processing_before_journal(e+\"ALL_DATA.csv\") for e in test_folders])#Raw data is processed\n"
   ]
  },
  {
   "cell_type": "code",
   "execution_count": 6,
   "metadata": {},
   "outputs": [],
   "source": [
    "#feature # binding\n",
    "F=\\\n",
    "    {1:'stay_duration', #f1\n",
    "     2:'mfcc0',3:'mfcc1',4:'mfcc2',5:'mfcc3',6:'mfcc4', #f2,f3,f4,f5,f6\n",
    "     7:'wifi_count', 8:'edge_wifi_count', #f7,f8\n",
    "     9:'RSI', #f9\n",
    "     10:'human_made', 11:'natural_land',12:'road_exist_percent',13:'highly_populated_poi_exist'#f10,f11,f12,f13\n",
    "    }\n",
    "\n",
    "selected_feat=\\\n",
    "    {\n",
    "        'Is_Bus_stop':[F[e] for e in [10,12,11,1,8]],\n",
    "        'Is_Turn':[F[e] for e in [10,12,11,1,8,9]],\n",
    "        'Is_Signal':[F[e] for e in [12,11,10,8,9]],\n",
    "        'Is_Congestion':[F[e] for e in [2,11,10,9,12,8,6,5]], #1 replace with 5\n",
    "        'Is_Adhoc':[F[e] for e in [10,11,1,12,2]]\n",
    "    }"
   ]
  },
  {
   "cell_type": "code",
   "execution_count": 7,
   "metadata": {},
   "outputs": [],
   "source": [
    "#Modeling function\n",
    "def get_metrics_from_the_model(train,labels_train,test,labels_test,poi):\n",
    "    rf=RandomForestClassifier(n_estimators=100,max_depth=8,random_state=42)\n",
    "    rf.fit(train, labels_train)\n",
    "\n",
    "    pred_train= rf.predict(train)\n",
    "    pred_test= rf.predict(test)\n",
    "    \n",
    "    performance={'poi':poi,\n",
    "                 'tr_acc':accuracy_score(labels_train,pred_train),\n",
    "                 'tr_precision':precision_score(labels_train,pred_train,average='weighted'),\n",
    "                 'tr_recall':recall_score(labels_train,pred_train,average='weighted'),\n",
    "                 'tr_f1-score':f1_score(labels_train,pred_train,average='weighted'),\n",
    "\n",
    "                 'te_acc':accuracy_score(labels_test,pred_test),\n",
    "                 'te_precision':precision_score(labels_test, pred_test,average='weighted'),\n",
    "                 'te_recall':recall_score(labels_test, pred_test,average='weighted'),\n",
    "                 'te_f1-score':f1_score(labels_test, pred_test,average='weighted')}\n",
    "    return performance,rf"
   ]
  },
  {
   "cell_type": "code",
   "execution_count": 8,
   "metadata": {},
   "outputs": [
    {
     "name": "stdout",
     "output_type": "stream",
     "text": [
      "Completed for POI:Is_Bus_stop\n",
      "Completed for POI:Is_Turn\n",
      "Completed for POI:Is_Signal\n",
      "Completed for POI:Is_Congestion\n",
      "Completed for POI:Is_Adhoc\n"
     ]
    }
   ],
   "source": [
    "perf=[] #performance list\n",
    "rfs={} #rf dict\n",
    "\n",
    "\n",
    "for poi_column in ['Is_Bus_stop','Is_Turn','Is_Signal','Is_Congestion','Is_Adhoc']:\n",
    "    feature_names=selected_feat[poi_column] #feature selection\n",
    "\n",
    "\n",
    "\n",
    "    #SMOTE on training data & get features ,labels\n",
    "    X = train_df[feature_names].copy()\n",
    "    y = train_df[poi_column].copy()\n",
    "\n",
    "    smote = SMOTE()\n",
    "    X_resampled, y_resampled = smote.fit_resample(X, y)\n",
    "    train_data = X_resampled.copy()\n",
    "    train_labels = y_resampled.copy()\n",
    "\n",
    "    #Test set get features & labels\n",
    "    test_data = test_df[feature_names].values\n",
    "    test_labels = test_df[poi_column].values\n",
    "\n",
    "    #Training with Random Forest\n",
    "    performance,rf=get_metrics_from_the_model(train_data,train_labels,test_data,test_labels,poi_column)\n",
    "\n",
    "    #adding to performance list\n",
    "    perf.append(performance)\n",
    "    rfs[poi_column]=rf\n",
    "\n",
    "    print(f'Completed for POI:{poi_column}')"
   ]
  },
  {
   "cell_type": "code",
   "execution_count": 9,
   "metadata": {},
   "outputs": [
    {
     "data": {
      "text/html": [
       "<div>\n",
       "<style scoped>\n",
       "    .dataframe tbody tr th:only-of-type {\n",
       "        vertical-align: middle;\n",
       "    }\n",
       "\n",
       "    .dataframe tbody tr th {\n",
       "        vertical-align: top;\n",
       "    }\n",
       "\n",
       "    .dataframe thead th {\n",
       "        text-align: right;\n",
       "    }\n",
       "</style>\n",
       "<table border=\"1\" class=\"dataframe\">\n",
       "  <thead>\n",
       "    <tr style=\"text-align: right;\">\n",
       "      <th></th>\n",
       "      <th>poi</th>\n",
       "      <th>tr_acc</th>\n",
       "      <th>tr_precision</th>\n",
       "      <th>tr_recall</th>\n",
       "      <th>tr_f1-score</th>\n",
       "      <th>te_acc</th>\n",
       "      <th>te_precision</th>\n",
       "      <th>te_recall</th>\n",
       "      <th>te_f1-score</th>\n",
       "    </tr>\n",
       "  </thead>\n",
       "  <tbody>\n",
       "    <tr>\n",
       "      <th>0</th>\n",
       "      <td>Is_Bus_stop</td>\n",
       "      <td>0.910082</td>\n",
       "      <td>0.910613</td>\n",
       "      <td>0.910082</td>\n",
       "      <td>0.910053</td>\n",
       "      <td>0.834537</td>\n",
       "      <td>0.845267</td>\n",
       "      <td>0.834537</td>\n",
       "      <td>0.836832</td>\n",
       "    </tr>\n",
       "    <tr>\n",
       "      <th>1</th>\n",
       "      <td>Is_Turn</td>\n",
       "      <td>0.874826</td>\n",
       "      <td>0.877130</td>\n",
       "      <td>0.874826</td>\n",
       "      <td>0.874634</td>\n",
       "      <td>0.778070</td>\n",
       "      <td>0.812607</td>\n",
       "      <td>0.778070</td>\n",
       "      <td>0.787828</td>\n",
       "    </tr>\n",
       "    <tr>\n",
       "      <th>2</th>\n",
       "      <td>Is_Signal</td>\n",
       "      <td>0.961954</td>\n",
       "      <td>0.962733</td>\n",
       "      <td>0.961954</td>\n",
       "      <td>0.961938</td>\n",
       "      <td>0.938280</td>\n",
       "      <td>0.958158</td>\n",
       "      <td>0.938280</td>\n",
       "      <td>0.945249</td>\n",
       "    </tr>\n",
       "    <tr>\n",
       "      <th>3</th>\n",
       "      <td>Is_Congestion</td>\n",
       "      <td>0.837082</td>\n",
       "      <td>0.841646</td>\n",
       "      <td>0.837082</td>\n",
       "      <td>0.836536</td>\n",
       "      <td>0.730794</td>\n",
       "      <td>0.946900</td>\n",
       "      <td>0.730794</td>\n",
       "      <td>0.823950</td>\n",
       "    </tr>\n",
       "    <tr>\n",
       "      <th>4</th>\n",
       "      <td>Is_Adhoc</td>\n",
       "      <td>0.833756</td>\n",
       "      <td>0.836880</td>\n",
       "      <td>0.833756</td>\n",
       "      <td>0.833369</td>\n",
       "      <td>0.717006</td>\n",
       "      <td>0.716629</td>\n",
       "      <td>0.717006</td>\n",
       "      <td>0.716681</td>\n",
       "    </tr>\n",
       "  </tbody>\n",
       "</table>\n",
       "</div>"
      ],
      "text/plain": [
       "             poi    tr_acc  tr_precision  tr_recall  tr_f1-score    te_acc  \\\n",
       "0    Is_Bus_stop  0.910082      0.910613   0.910082     0.910053  0.834537   \n",
       "1        Is_Turn  0.874826      0.877130   0.874826     0.874634  0.778070   \n",
       "2      Is_Signal  0.961954      0.962733   0.961954     0.961938  0.938280   \n",
       "3  Is_Congestion  0.837082      0.841646   0.837082     0.836536  0.730794   \n",
       "4       Is_Adhoc  0.833756      0.836880   0.833756     0.833369  0.717006   \n",
       "\n",
       "   te_precision  te_recall  te_f1-score  \n",
       "0      0.845267   0.834537     0.836832  \n",
       "1      0.812607   0.778070     0.787828  \n",
       "2      0.958158   0.938280     0.945249  \n",
       "3      0.946900   0.730794     0.823950  \n",
       "4      0.716629   0.717006     0.716681  "
      ]
     },
     "execution_count": 9,
     "metadata": {},
     "output_type": "execute_result"
    }
   ],
   "source": [
    "df=pd.DataFrame(perf)\n",
    "df.to_csv(\"./logs/model_performace.csv\",index=False)\n",
    "df"
   ]
  },
  {
   "cell_type": "code",
   "execution_count": 10,
   "metadata": {},
   "outputs": [],
   "source": [
    "#Saving Models\n",
    "with open('./logs/rfs.pickle', 'wb') as handle:\n",
    "    pickle.dump(rfs, handle, protocol=pickle.HIGHEST_PROTOCOL)"
   ]
  },
  {
   "cell_type": "code",
   "execution_count": 11,
   "metadata": {},
   "outputs": [],
   "source": [
    "#NICE"
   ]
  }
 ],
 "metadata": {
  "kernelspec": {
   "display_name": "Python 3",
   "language": "python",
   "name": "python3"
  },
  "language_info": {
   "codemirror_mode": {
    "name": "ipython",
    "version": 3
   },
   "file_extension": ".py",
   "mimetype": "text/x-python",
   "name": "python",
   "nbconvert_exporter": "python",
   "pygments_lexer": "ipython3",
   "version": "3.8.8"
  }
 },
 "nbformat": 4,
 "nbformat_minor": 2
}
