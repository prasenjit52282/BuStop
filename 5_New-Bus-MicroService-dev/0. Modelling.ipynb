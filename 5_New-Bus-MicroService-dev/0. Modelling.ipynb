{
 "cells": [
  {
   "cell_type": "code",
   "execution_count": 23,
   "metadata": {},
   "outputs": [],
   "source": [
    "import glob\n",
    "import pickle\n",
    "import numpy as np\n",
    "import pandas as pd\n",
    "from sklearn.ensemble import RandomForestClassifier\n",
    "from sklearn.metrics import *\n",
    "from imblearn.over_sampling import SMOTE\n",
    "from library.preprocessing import new_Processing_before_journal"
   ]
  },
  {
   "cell_type": "code",
   "execution_count": 24,
   "metadata": {},
   "outputs": [],
   "source": [
    "all_folders=glob.glob(\"../1. DataProcessing/Trails/*/*/\")"
   ]
  },
  {
   "cell_type": "code",
   "execution_count": 25,
   "metadata": {},
   "outputs": [],
   "source": [
    "test_dates=['2019-06-28','2019-06-30','2019-07-01','2019-07-02','2019-07-03','2019-07-04','2019-07-05']\n",
    "formatted_test_dates=['-'.join(d.split(\"-\")[::-1]) for d in test_dates] #reversing order"
   ]
  },
  {
   "cell_type": "code",
   "execution_count": 26,
   "metadata": {},
   "outputs": [],
   "source": [
    "#train folders\n",
    "train_folders=[f for f in all_folders if f.split(\"\\\\\")[-2].split(\"_\")[0] not in formatted_test_dates]\n",
    "\n",
    "#test folders\n",
    "test_folders=[f for f in all_folders if f.split(\"\\\\\")[-2].split(\"_\")[0] in formatted_test_dates]"
   ]
  },
  {
   "cell_type": "markdown",
   "metadata": {},
   "source": [
    "# Modelling"
   ]
  },
  {
   "cell_type": "code",
   "execution_count": 27,
   "metadata": {},
   "outputs": [],
   "source": [
    "#trqining_data\n",
    "l=[]\n",
    "for e in train_folders:\n",
    "    try:\n",
    "        data=new_Processing_before_journal(e+\"ALL_DATA.csv\")\n",
    "        l.append(data)\n",
    "    except:\n",
    "        pass\n",
    "    \n",
    "train_df=pd.concat(l)#Raw data is processed\n",
    "\n",
    "#testing_data\n",
    "test_df=pd.concat([new_Processing_before_journal(e+\"ALL_DATA.csv\") for e in test_folders])#Raw data is processed\n"
   ]
  },
  {
   "cell_type": "code",
   "execution_count": 28,
   "metadata": {},
   "outputs": [],
   "source": [
    "#feature # binding\n",
    "F=\\\n",
    "    {1:'stay_duration', #f1\n",
    "     2:'mfcc0',3:'mfcc1',4:'mfcc2',5:'mfcc3',6:'mfcc4', #f2,f3,f4,f5,f6\n",
    "     7:'wifi_count', 8:'edge_wifi_count', #f7,f8\n",
    "     9:'RSI', #f9\n",
    "     10:'human_made', 11:'natural_land',12:'road_exist_percent',13:'highly_populated_poi_exist'#f10,f11,f12,f13\n",
    "    }\n",
    "\n",
    "selected_feat=\\\n",
    "    {\n",
    "        'Is_Bus_stop':[F[e] for e in [10,12,11,1,8]],\n",
    "        'Is_Turn':[F[e] for e in [10,12,11,1,8,9]],\n",
    "        'Is_Signal':[F[e] for e in [12,11,10,8,9]],\n",
    "        'Is_Congestion':[F[e] for e in [2,11,10,9,12,8,6,1]],\n",
    "        'Is_Adhoc':[F[e] for e in [10,11,1,12,2]]\n",
    "    }"
   ]
  },
  {
   "cell_type": "code",
   "execution_count": 29,
   "metadata": {},
   "outputs": [],
   "source": [
    "#Modeling function\n",
    "def get_metrics_from_the_model(train,labels_train,test,labels_test,poi):\n",
    "    rf=RandomForestClassifier(n_estimators=100,max_depth=8,random_state=42)\n",
    "    rf.fit(train, labels_train)\n",
    "\n",
    "    pred_train= rf.predict(train)\n",
    "    pred_test= rf.predict(test)\n",
    "    \n",
    "    performance={'poi':poi,\n",
    "                 'tr_acc':accuracy_score(labels_train,pred_train),\n",
    "                 'tr_precision':precision_score(labels_train,pred_train,average='weighted'),\n",
    "                 'tr_recall':recall_score(labels_train,pred_train,average='weighted'),\n",
    "                 'tr_f1-score':f1_score(labels_train,pred_train,average='weighted'),\n",
    "\n",
    "                 'te_acc':accuracy_score(labels_test,pred_test),\n",
    "                 'te_precision':precision_score(labels_test, pred_test,average='weighted'),\n",
    "                 'te_recall':recall_score(labels_test, pred_test,average='weighted'),\n",
    "                 'te_f1-score':f1_score(labels_test, pred_test,average='weighted')}\n",
    "    return performance,rf"
   ]
  },
  {
   "cell_type": "code",
   "execution_count": 30,
   "metadata": {},
   "outputs": [
    {
     "name": "stdout",
     "output_type": "stream",
     "text": [
      "Completed for POI:Is_Bus_stop\n",
      "Completed for POI:Is_Turn\n",
      "Completed for POI:Is_Signal\n",
      "Completed for POI:Is_Congestion\n",
      "Completed for POI:Is_Adhoc\n"
     ]
    }
   ],
   "source": [
    "perf=[] #performance list\n",
    "rfs={} #rf dict\n",
    "\n",
    "\n",
    "for poi_column in ['Is_Bus_stop','Is_Turn','Is_Signal','Is_Congestion','Is_Adhoc']:\n",
    "    feature_names=selected_feat[poi_column] #feature selection\n",
    "\n",
    "\n",
    "\n",
    "    #SMOTE on training data & get features ,labels\n",
    "    X = train_df[feature_names].copy()\n",
    "    y = train_df[poi_column].copy()\n",
    "\n",
    "    smote = SMOTE(random_state=42)\n",
    "    X_resampled, y_resampled = smote.fit_resample(X, y)\n",
    "    train_data = X_resampled.copy()\n",
    "    train_labels = y_resampled.copy()\n",
    "\n",
    "    #Test set get features & labels\n",
    "    test_data = test_df[feature_names].values\n",
    "    test_labels = test_df[poi_column].values\n",
    "\n",
    "    #Training with Random Forest\n",
    "    performance,rf=get_metrics_from_the_model(train_data,train_labels,test_data,test_labels,poi_column)\n",
    "\n",
    "    #adding to performance list\n",
    "    perf.append(performance)\n",
    "    rfs[poi_column]=rf\n",
    "\n",
    "    print(f'Completed for POI:{poi_column}')"
   ]
  },
  {
   "cell_type": "code",
   "execution_count": 32,
   "metadata": {},
   "outputs": [
    {
     "data": {
      "text/html": [
       "<div>\n",
       "<style scoped>\n",
       "    .dataframe tbody tr th:only-of-type {\n",
       "        vertical-align: middle;\n",
       "    }\n",
       "\n",
       "    .dataframe tbody tr th {\n",
       "        vertical-align: top;\n",
       "    }\n",
       "\n",
       "    .dataframe thead th {\n",
       "        text-align: right;\n",
       "    }\n",
       "</style>\n",
       "<table border=\"1\" class=\"dataframe\">\n",
       "  <thead>\n",
       "    <tr style=\"text-align: right;\">\n",
       "      <th></th>\n",
       "      <th>poi</th>\n",
       "      <th>tr_acc</th>\n",
       "      <th>tr_precision</th>\n",
       "      <th>tr_recall</th>\n",
       "      <th>tr_f1-score</th>\n",
       "      <th>te_acc</th>\n",
       "      <th>te_precision</th>\n",
       "      <th>te_recall</th>\n",
       "      <th>te_f1-score</th>\n",
       "    </tr>\n",
       "  </thead>\n",
       "  <tbody>\n",
       "    <tr>\n",
       "      <th>0</th>\n",
       "      <td>Is_Bus_stop</td>\n",
       "      <td>0.908000</td>\n",
       "      <td>0.908840</td>\n",
       "      <td>0.908000</td>\n",
       "      <td>0.907953</td>\n",
       "      <td>0.834680</td>\n",
       "      <td>0.845378</td>\n",
       "      <td>0.834680</td>\n",
       "      <td>0.836458</td>\n",
       "    </tr>\n",
       "    <tr>\n",
       "      <th>1</th>\n",
       "      <td>Is_Turn</td>\n",
       "      <td>0.903067</td>\n",
       "      <td>0.905589</td>\n",
       "      <td>0.903067</td>\n",
       "      <td>0.902916</td>\n",
       "      <td>0.826598</td>\n",
       "      <td>0.854060</td>\n",
       "      <td>0.826598</td>\n",
       "      <td>0.833325</td>\n",
       "    </tr>\n",
       "    <tr>\n",
       "      <th>2</th>\n",
       "      <td>Is_Signal</td>\n",
       "      <td>0.968940</td>\n",
       "      <td>0.969707</td>\n",
       "      <td>0.968940</td>\n",
       "      <td>0.968927</td>\n",
       "      <td>0.939015</td>\n",
       "      <td>0.959669</td>\n",
       "      <td>0.939015</td>\n",
       "      <td>0.946014</td>\n",
       "    </tr>\n",
       "    <tr>\n",
       "      <th>3</th>\n",
       "      <td>Is_Congestion</td>\n",
       "      <td>0.860352</td>\n",
       "      <td>0.865007</td>\n",
       "      <td>0.860352</td>\n",
       "      <td>0.859905</td>\n",
       "      <td>0.767083</td>\n",
       "      <td>0.949615</td>\n",
       "      <td>0.767083</td>\n",
       "      <td>0.847308</td>\n",
       "    </tr>\n",
       "    <tr>\n",
       "      <th>4</th>\n",
       "      <td>Is_Adhoc</td>\n",
       "      <td>0.825852</td>\n",
       "      <td>0.828018</td>\n",
       "      <td>0.825852</td>\n",
       "      <td>0.825564</td>\n",
       "      <td>0.722263</td>\n",
       "      <td>0.721626</td>\n",
       "      <td>0.722263</td>\n",
       "      <td>0.721867</td>\n",
       "    </tr>\n",
       "  </tbody>\n",
       "</table>\n",
       "</div>"
      ],
      "text/plain": [
       "             poi    tr_acc  tr_precision  tr_recall  tr_f1-score    te_acc  \\\n",
       "0    Is_Bus_stop  0.908000      0.908840   0.908000     0.907953  0.834680   \n",
       "1        Is_Turn  0.903067      0.905589   0.903067     0.902916  0.826598   \n",
       "2      Is_Signal  0.968940      0.969707   0.968940     0.968927  0.939015   \n",
       "3  Is_Congestion  0.860352      0.865007   0.860352     0.859905  0.767083   \n",
       "4       Is_Adhoc  0.825852      0.828018   0.825852     0.825564  0.722263   \n",
       "\n",
       "   te_precision  te_recall  te_f1-score  \n",
       "0      0.845378   0.834680     0.836458  \n",
       "1      0.854060   0.826598     0.833325  \n",
       "2      0.959669   0.939015     0.946014  \n",
       "3      0.949615   0.767083     0.847308  \n",
       "4      0.721626   0.722263     0.721867  "
      ]
     },
     "execution_count": 32,
     "metadata": {},
     "output_type": "execute_result"
    }
   ],
   "source": [
    "df=pd.DataFrame(perf)\n",
    "df.to_csv(\"./logs/model_performace.csv\",index=False)\n",
    "df"
   ]
  },
  {
   "cell_type": "code",
   "execution_count": 33,
   "metadata": {},
   "outputs": [],
   "source": [
    "#Saving Models\n",
    "with open('./logs/rfs.pickle', 'wb') as handle:\n",
    "    pickle.dump(rfs, handle, protocol=pickle.HIGHEST_PROTOCOL)"
   ]
  },
  {
   "cell_type": "code",
   "execution_count": 34,
   "metadata": {},
   "outputs": [],
   "source": [
    "#NICE"
   ]
  }
 ],
 "metadata": {
  "kernelspec": {
   "display_name": "Python 3 (ipykernel)",
   "language": "python",
   "name": "python3"
  },
  "language_info": {
   "codemirror_mode": {
    "name": "ipython",
    "version": 3
   },
   "file_extension": ".py",
   "mimetype": "text/x-python",
   "name": "python",
   "nbconvert_exporter": "python",
   "pygments_lexer": "ipython3",
   "version": "3.8.12"
  }
 },
 "nbformat": 4,
 "nbformat_minor": 2
}
