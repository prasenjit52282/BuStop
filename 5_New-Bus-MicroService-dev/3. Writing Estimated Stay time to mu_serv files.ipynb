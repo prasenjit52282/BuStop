{
 "cells": [
  {
   "cell_type": "code",
   "execution_count": 1,
   "metadata": {},
   "outputs": [],
   "source": [
    "import glob\n",
    "import pickle\n",
    "import numpy as np\n",
    "import pandas as pd"
   ]
  },
  {
   "cell_type": "code",
   "execution_count": 2,
   "metadata": {},
   "outputs": [],
   "source": [
    "all_files=glob.glob(\"../1. DataProcessing/Trails/*/*/mu_serv_*.csv\")\n",
    "\n",
    "#loading stay_duration_dict\n",
    "with open('./logs/stay_duration.pickle', 'rb') as handle:\n",
    "    dic= pickle.load(handle)"
   ]
  },
  {
   "cell_type": "code",
   "execution_count": 3,
   "metadata": {},
   "outputs": [
    {
     "data": {
      "text/plain": [
       "{'Is_Bus_stop': {'Afternoon': 24.16631130063966,\n",
       "  'Early_Morning': 35.38961038961039,\n",
       "  'Evening': 22.97979797979798,\n",
       "  'Morning': 30.336734693877553},\n",
       " 'Is_Turn': {'Afternoon': 21.441935483870967,\n",
       "  'Early_Morning': 30.41860465116279,\n",
       "  'Evening': 20.887417218543046,\n",
       "  'Morning': 23.87272727272727},\n",
       " 'Is_Signal': {'Afternoon': 19.741935483870968,\n",
       "  'Early_Morning': 13.933333333333334,\n",
       "  'Evening': 14.583333333333334,\n",
       "  'Morning': 19.75},\n",
       " 'Is_Congestion': {'Afternoon': 23.918650793650794,\n",
       "  'Early_Morning': 9.0,\n",
       "  'Evening': 21.12562814070352,\n",
       "  'Morning': 26.703557312252965},\n",
       " 'Is_Adhoc': {'Afternoon': 10.388739946380698,\n",
       "  'Early_Morning': 23.5,\n",
       "  'Evening': 12.193717277486911,\n",
       "  'Morning': 10.406976744186046}}"
      ]
     },
     "execution_count": 3,
     "metadata": {},
     "output_type": "execute_result"
    }
   ],
   "source": [
    "dic"
   ]
  },
  {
   "cell_type": "markdown",
   "metadata": {},
   "source": [
    "# Writing Estimated stay Time"
   ]
  },
  {
   "cell_type": "code",
   "execution_count": 4,
   "metadata": {},
   "outputs": [],
   "source": [
    "def get_estimated_stay_duration(time_zone,is_bus,is_turn,is_signal,is_congestion,is_adhoc):\n",
    "    l=[]\n",
    "    if is_bus==1:\n",
    "        l.append(dic['Is_Bus_stop'][time_zone])\n",
    "    if is_turn==1:\n",
    "        l.append(dic['Is_Turn'][time_zone])\n",
    "    if is_signal==1:\n",
    "        l.append(dic['Is_Signal'][time_zone])\n",
    "    if is_congestion==1:\n",
    "        l.append(dic['Is_Congestion'][time_zone])\n",
    "    if is_adhoc==1 or len(l)==0:\n",
    "        l.append(dic['Is_Adhoc'][time_zone])\n",
    "    return max(l)"
   ]
  },
  {
   "cell_type": "code",
   "execution_count": 5,
   "metadata": {},
   "outputs": [],
   "source": [
    "for f in all_files:\n",
    "    df=pd.read_csv(f)\n",
    "    df['estimated_stay_duration']=df[['time_zone']+list(dic.keys())].apply(lambda tup:get_estimated_stay_duration(*tup),axis=1)\n",
    "    df.to_csv(f,index=False)"
   ]
  },
  {
   "cell_type": "code",
   "execution_count": 6,
   "metadata": {},
   "outputs": [],
   "source": [
    "#NICE"
   ]
  }
 ],
 "metadata": {
  "kernelspec": {
   "display_name": "Python 3",
   "language": "python",
   "name": "python3"
  },
  "language_info": {
   "codemirror_mode": {
    "name": "ipython",
    "version": 3
   },
   "file_extension": ".py",
   "mimetype": "text/x-python",
   "name": "python",
   "nbconvert_exporter": "python",
   "pygments_lexer": "ipython3",
   "version": "3.8.8"
  }
 },
 "nbformat": 4,
 "nbformat_minor": 2
}
