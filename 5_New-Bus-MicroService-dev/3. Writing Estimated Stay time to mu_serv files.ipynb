{
 "cells": [
  {
   "cell_type": "code",
   "execution_count": 1,
   "metadata": {},
   "outputs": [],
   "source": [
    "import glob\n",
    "import pickle\n",
    "import numpy as np\n",
    "import pandas as pd"
   ]
  },
  {
   "cell_type": "code",
   "execution_count": 2,
   "metadata": {},
   "outputs": [],
   "source": [
    "all_files=glob.glob(\"./Trails/*/*/mu_serv_*.csv\")\n",
    "\n",
    "#loading stay_duration_dict\n",
    "with open('./logs/stay_duration.pickle', 'rb') as handle:\n",
    "    dic= pickle.load(handle)"
   ]
  },
  {
   "cell_type": "code",
   "execution_count": 3,
   "metadata": {},
   "outputs": [
    {
     "data": {
      "text/plain": [
       "{'Is_Bus_stop': {'Afternoon': 27.2903981264637,\n",
       "  'Early_Morning': 33.34285714285714,\n",
       "  'Evening': 25.338541666666668,\n",
       "  'Morning': 32.07241379310345},\n",
       " 'Is_Turn': {'Afternoon': 25.761029411764707,\n",
       "  'Early_Morning': 26.21951219512195,\n",
       "  'Evening': 22.125925925925927,\n",
       "  'Morning': 27.629268292682926},\n",
       " 'Is_Signal': {'Afternoon': 22.457831325301203,\n",
       "  'Early_Morning': 15.666666666666666,\n",
       "  'Evening': 17.636363636363637,\n",
       "  'Morning': 22.54385964912281},\n",
       " 'Is_Congestion': {'Afternoon': 29.046403712296982,\n",
       "  'Early_Morning': 9.2,\n",
       "  'Evening': 26.878048780487806,\n",
       "  'Morning': 30.95258620689655},\n",
       " 'Is_Adhoc': {'Afternoon': 13.45,\n",
       "  'Early_Morning': 33.25373134328358,\n",
       "  'Evening': 19.68840579710145,\n",
       "  'Morning': 12.682242990654206}}"
      ]
     },
     "execution_count": 3,
     "metadata": {},
     "output_type": "execute_result"
    }
   ],
   "source": [
    "dic"
   ]
  },
  {
   "cell_type": "markdown",
   "metadata": {},
   "source": [
    "# Writing Estimated stay Time"
   ]
  },
  {
   "cell_type": "code",
   "execution_count": 4,
   "metadata": {},
   "outputs": [],
   "source": [
    "def get_estimated_stay_duration(time_zone,is_bus,is_turn,is_signal,is_congestion,is_adhoc):\n",
    "    l=[]\n",
    "    if is_bus==1:\n",
    "        l.append(dic['Is_Bus_stop'][time_zone])\n",
    "    if is_turn==1:\n",
    "        l.append(dic['Is_Turn'][time_zone])\n",
    "    if is_signal==1:\n",
    "        l.append(dic['Is_Signal'][time_zone])\n",
    "    if is_congestion==1:\n",
    "        l.append(dic['Is_Congestion'][time_zone])\n",
    "    if is_adhoc==1 or len(l)==0:\n",
    "        l.append(dic['Is_Adhoc'][time_zone])\n",
    "    return max(l)"
   ]
  },
  {
   "cell_type": "code",
   "execution_count": 5,
   "metadata": {},
   "outputs": [],
   "source": [
    "for f in all_files:\n",
    "    df=pd.read_csv(f)\n",
    "    df['estimated_stay_duration']=df[['time_zone']+list(dic.keys())].apply(lambda tup:get_estimated_stay_duration(*tup),axis=1)\n",
    "    df.to_csv(f,index=False)"
   ]
  },
  {
   "cell_type": "code",
   "execution_count": 6,
   "metadata": {},
   "outputs": [],
   "source": [
    "#NICE"
   ]
  }
 ],
 "metadata": {
  "kernelspec": {
   "display_name": "Python 3",
   "language": "python",
   "name": "python3"
  },
  "language_info": {
   "codemirror_mode": {
    "name": "ipython",
    "version": 3
   },
   "file_extension": ".py",
   "mimetype": "text/x-python",
   "name": "python",
   "nbconvert_exporter": "python",
   "pygments_lexer": "ipython3",
   "version": "3.7.4"
  }
 },
 "nbformat": 4,
 "nbformat_minor": 2
}
