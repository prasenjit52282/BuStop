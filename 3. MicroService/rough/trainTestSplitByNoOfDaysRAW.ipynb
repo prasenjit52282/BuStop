{
 "cells": [
  {
   "cell_type": "code",
   "execution_count": 61,
   "metadata": {},
   "outputs": [],
   "source": [
    "import pandas as pd\n",
    "# from sklearn.model_selection import train_test_split"
   ]
  },
  {
   "cell_type": "code",
   "execution_count": 3,
   "metadata": {},
   "outputs": [],
   "source": [
    "def getSplitDf(keys, groups, columns):\n",
    "    df = pd.DataFrame(columns=columns)\n",
    "    for key in keys:\n",
    "        df = df.append(groups.get_group(key))\n",
    "    return df"
   ]
  },
  {
   "cell_type": "code",
   "execution_count": 4,
   "metadata": {},
   "outputs": [],
   "source": [
    "# Path to Processed_Bs_Trail_data.csv for 54ft\n",
    "path_to_analysed_csv = \"../data/54ft/Processed_Bus_Trail_data.csv\""
   ]
  },
  {
   "cell_type": "code",
   "execution_count": 5,
   "metadata": {},
   "outputs": [],
   "source": [
    "processed_df = pd.read_csv(path_to_analysed_csv)"
   ]
  },
  {
   "cell_type": "code",
   "execution_count": 6,
   "metadata": {},
   "outputs": [
    {
     "name": "stdout",
     "output_type": "stream",
     "text": [
      "Total number of days recorded: 20\n"
     ]
    }
   ],
   "source": [
    "grouped = processed_df.groupby(\"start_date\")\n",
    "unique_dates = list(grouped.groups.keys())\n",
    "print(f\"Total number of days recorded: {len(unique_dates)}\")"
   ]
  },
  {
   "cell_type": "code",
   "execution_count": 22,
   "metadata": {},
   "outputs": [],
   "source": [
    "def get_train_test_split(list_of_dates, train_size):\n",
    "    train = [date for date in list_of_dates[0:math.ceil(int(train_size*len(list_of_dates)))]]\n",
    "    test = [date for date in list_of_dates[math.floor(int(train_size*len(list_of_dates))):]]\n",
    "    return train, test"
   ]
  },
  {
   "cell_type": "code",
   "execution_count": 56,
   "metadata": {},
   "outputs": [
    {
     "name": "stdout",
     "output_type": "stream",
     "text": [
      "Days in training set: 13\n",
      "Days in training set: 7\n"
     ]
    }
   ],
   "source": [
    "train_date, test_date = get_train_test_split(unique_dates, 0.65)\n",
    "print(f\"Days in training set: {len(train_date)}\")\n",
    "print(f\"Days in training set: {len(test_date)}\")"
   ]
  },
  {
   "cell_type": "code",
   "execution_count": 57,
   "metadata": {},
   "outputs": [],
   "source": [
    "columns = processed_df.columns\n",
    "train_df, test_df = getSplitDf(train_date, grouped, columns), getSplitDf(test_date, grouped, columns)"
   ]
  },
  {
   "cell_type": "code",
   "execution_count": 58,
   "metadata": {},
   "outputs": [],
   "source": [
    "assert train_df.shape[0] + test_df.shape[0] == processed_df.shape[0]"
   ]
  },
  {
   "cell_type": "code",
   "execution_count": 59,
   "metadata": {},
   "outputs": [
    {
     "name": "stdout",
     "output_type": "stream",
     "text": [
      "Total instances in processed df: 3840\n",
      "Total instances in training df: 2480\n",
      "Total instances in testing df: 1360\n"
     ]
    }
   ],
   "source": [
    "print(f\"Total instances in processed df: {processed_df.shape[0]}\")\n",
    "print(f\"Total instances in training df: {train_df.shape[0]}\")\n",
    "print(f\"Total instances in testing df: {test_df.shape[0]}\")"
   ]
  },
  {
   "cell_type": "code",
   "execution_count": 60,
   "metadata": {},
   "outputs": [],
   "source": [
    "# train_df.to_csv(\"train_df.csv\")\n",
    "# test_df.to_csv(\"test_df.csv\")"
   ]
  },
  {
   "cell_type": "code",
   "execution_count": null,
   "metadata": {},
   "outputs": [],
   "source": []
  }
 ],
 "metadata": {
  "kernelspec": {
   "display_name": "Python 3",
   "language": "python",
   "name": "python3"
  },
  "language_info": {
   "codemirror_mode": {
    "name": "ipython",
    "version": 3
   },
   "file_extension": ".py",
   "mimetype": "text/x-python",
   "name": "python",
   "nbconvert_exporter": "python",
   "pygments_lexer": "ipython3",
   "version": "3.7.3"
  }
 },
 "nbformat": 4,
 "nbformat_minor": 4
}
