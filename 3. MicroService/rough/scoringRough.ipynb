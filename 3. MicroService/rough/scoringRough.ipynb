{
 "cells": [
  {
   "cell_type": "code",
   "execution_count": 1,
   "metadata": {},
   "outputs": [],
   "source": [
    "from library.scoreCalculatorLibrary import calculate_score"
   ]
  },
  {
   "cell_type": "code",
   "execution_count": 2,
   "metadata": {},
   "outputs": [],
   "source": [
    "import os\n",
    "import pandas as pd"
   ]
  },
  {
   "cell_type": "code",
   "execution_count": 3,
   "metadata": {},
   "outputs": [],
   "source": [
    "parent_dir = r\"../data/54ft/\"\n",
    "results_csv_name = r\"Predictions_merged_54ft.csv\"\n",
    "score_csv_name = r\"Scores_54ft.csv\"\n",
    "\n",
    "column = 'instance_date'"
   ]
  },
  {
   "cell_type": "code",
   "execution_count": 4,
   "metadata": {},
   "outputs": [],
   "source": [
    "result_df = pd.read_csv(os.path.join(parent_dir, results_csv_name))"
   ]
  },
  {
   "cell_type": "code",
   "execution_count": 5,
   "metadata": {},
   "outputs": [],
   "source": [
    "date_group = result_df.groupby(column)"
   ]
  },
  {
   "cell_type": "code",
   "execution_count": 6,
   "metadata": {},
   "outputs": [
    {
     "data": {
      "text/plain": [
       "['09/14/2019',\n",
       " '09/15/2019',\n",
       " '09/16/2019',\n",
       " '09/17/2019',\n",
       " '09/20/2019',\n",
       " '09/21/2019',\n",
       " '09/23/2019']"
      ]
     },
     "execution_count": 6,
     "metadata": {},
     "output_type": "execute_result"
    }
   ],
   "source": [
    "list(date_group.groups.keys())"
   ]
  },
  {
   "cell_type": "code",
   "execution_count": 8,
   "metadata": {},
   "outputs": [
    {
     "data": {
      "text/html": [
       "<div>\n",
       "<style scoped>\n",
       "    .dataframe tbody tr th:only-of-type {\n",
       "        vertical-align: middle;\n",
       "    }\n",
       "\n",
       "    .dataframe tbody tr th {\n",
       "        vertical-align: top;\n",
       "    }\n",
       "\n",
       "    .dataframe thead th {\n",
       "        text-align: right;\n",
       "    }\n",
       "</style>\n",
       "<table border=\"1\" class=\"dataframe\">\n",
       "  <thead>\n",
       "    <tr style=\"text-align: right;\">\n",
       "      <th></th>\n",
       "      <th>instance_date</th>\n",
       "      <th>instance_start_time</th>\n",
       "      <th>instance_end_time</th>\n",
       "      <th>Prediction Is_Adhoc</th>\n",
       "      <th>Prediction Is_Bus_stop</th>\n",
       "      <th>Prediction Is_Congestion</th>\n",
       "      <th>Prediction Is_Signal</th>\n",
       "      <th>Prediction Is_Turn</th>\n",
       "    </tr>\n",
       "  </thead>\n",
       "  <tbody>\n",
       "    <tr>\n",
       "      <th>0</th>\n",
       "      <td>09/14/2019</td>\n",
       "      <td>12:04:16</td>\n",
       "      <td>12:06:01</td>\n",
       "      <td>Not Adhoc</td>\n",
       "      <td>Not Bus_stop</td>\n",
       "      <td>Not Congestion</td>\n",
       "      <td>Not Signal</td>\n",
       "      <td>Turn</td>\n",
       "    </tr>\n",
       "    <tr>\n",
       "      <th>1</th>\n",
       "      <td>09/14/2019</td>\n",
       "      <td>12:06:36</td>\n",
       "      <td>12:06:47</td>\n",
       "      <td>Not Adhoc</td>\n",
       "      <td>Not Bus_stop</td>\n",
       "      <td>Not Congestion</td>\n",
       "      <td>Not Signal</td>\n",
       "      <td>Not Turn</td>\n",
       "    </tr>\n",
       "    <tr>\n",
       "      <th>2</th>\n",
       "      <td>09/14/2019</td>\n",
       "      <td>12:08:09</td>\n",
       "      <td>12:08:12</td>\n",
       "      <td>Adhoc</td>\n",
       "      <td>Not Bus_stop</td>\n",
       "      <td>Not Congestion</td>\n",
       "      <td>Not Signal</td>\n",
       "      <td>Not Turn</td>\n",
       "    </tr>\n",
       "    <tr>\n",
       "      <th>3</th>\n",
       "      <td>09/14/2019</td>\n",
       "      <td>12:09:05</td>\n",
       "      <td>12:09:15</td>\n",
       "      <td>Not Adhoc</td>\n",
       "      <td>Bus_stop</td>\n",
       "      <td>Not Congestion</td>\n",
       "      <td>Not Signal</td>\n",
       "      <td>Not Turn</td>\n",
       "    </tr>\n",
       "    <tr>\n",
       "      <th>4</th>\n",
       "      <td>09/14/2019</td>\n",
       "      <td>12:10:07</td>\n",
       "      <td>12:10:31</td>\n",
       "      <td>Not Adhoc</td>\n",
       "      <td>Bus_stop</td>\n",
       "      <td>Not Congestion</td>\n",
       "      <td>Signal</td>\n",
       "      <td>Not Turn</td>\n",
       "    </tr>\n",
       "  </tbody>\n",
       "</table>\n",
       "</div>"
      ],
      "text/plain": [
       "  instance_date instance_start_time instance_end_time Prediction Is_Adhoc  \\\n",
       "0    09/14/2019            12:04:16          12:06:01           Not Adhoc   \n",
       "1    09/14/2019            12:06:36          12:06:47           Not Adhoc   \n",
       "2    09/14/2019            12:08:09          12:08:12               Adhoc   \n",
       "3    09/14/2019            12:09:05          12:09:15           Not Adhoc   \n",
       "4    09/14/2019            12:10:07          12:10:31           Not Adhoc   \n",
       "\n",
       "  Prediction Is_Bus_stop Prediction Is_Congestion Prediction Is_Signal  \\\n",
       "0           Not Bus_stop           Not Congestion           Not Signal   \n",
       "1           Not Bus_stop           Not Congestion           Not Signal   \n",
       "2           Not Bus_stop           Not Congestion           Not Signal   \n",
       "3               Bus_stop           Not Congestion           Not Signal   \n",
       "4               Bus_stop           Not Congestion               Signal   \n",
       "\n",
       "  Prediction Is_Turn  \n",
       "0               Turn  \n",
       "1           Not Turn  \n",
       "2           Not Turn  \n",
       "3           Not Turn  \n",
       "4           Not Turn  "
      ]
     },
     "execution_count": 8,
     "metadata": {},
     "output_type": "execute_result"
    }
   ],
   "source": [
    "date_group.get_group('09/14/2019').head()"
   ]
  },
  {
   "cell_type": "code",
   "execution_count": 7,
   "metadata": {},
   "outputs": [],
   "source": [
    "# converts hour:minute:seconds to seconds\n",
    "def time_as_int(timestr):\n",
    "    hh, mm, ss = timestr.split(\":\")\n",
    "    time_int = (int(hh)*3600)+(int(mm)*60)+int(ss)\n",
    "    return time_int"
   ]
  },
  {
   "cell_type": "code",
   "execution_count": 9,
   "metadata": {},
   "outputs": [
    {
     "data": {
      "text/plain": [
       "[23.023070033763446,\n",
       " -9.932053166675068,\n",
       " -1.155882488088479,\n",
       " -46.923563685910274,\n",
       " 1.591060781752729,\n",
       " -4.76504432284427,\n",
       " 12.705653367491195]"
      ]
     },
     "execution_count": 9,
     "metadata": {},
     "output_type": "execute_result"
    }
   ],
   "source": [
    "keys = list(date_group.groups.keys())\n",
    "scores = []\n",
    "for key in keys:\n",
    "    df = date_group.get_group(key).copy()\n",
    "    df[\"instance_start_time\"] = df[\"instance_start_time\"].apply(lambda x: time_as_int(x))\n",
    "    df[\"instance_end_time\"] = df[\"instance_end_time\"].apply(lambda x: time_as_int(x))\n",
    "    scores.append(calculate_score(df))\n",
    "\n",
    "scores"
   ]
  },
  {
   "cell_type": "code",
   "execution_count": 10,
   "metadata": {},
   "outputs": [],
   "source": [
    "assert len(scores) == len(keys)"
   ]
  },
  {
   "cell_type": "code",
   "execution_count": 11,
   "metadata": {},
   "outputs": [
    {
     "data": {
      "text/plain": [
       "[110, 153, 239, 263, 148, 223, 224]"
      ]
     },
     "execution_count": 11,
     "metadata": {},
     "output_type": "execute_result"
    }
   ],
   "source": [
    "[len(x) for x in [date_group.get_group(key) for key in keys]]"
   ]
  },
  {
   "cell_type": "code",
   "execution_count": 12,
   "metadata": {},
   "outputs": [
    {
     "data": {
      "text/plain": [
       "{'09/14/2019': 23.023070033763446,\n",
       " '09/15/2019': -9.932053166675068,\n",
       " '09/16/2019': -1.155882488088479,\n",
       " '09/17/2019': -46.923563685910274,\n",
       " '09/20/2019': 1.591060781752729,\n",
       " '09/21/2019': -4.76504432284427,\n",
       " '09/23/2019': 12.705653367491195}"
      ]
     },
     "execution_count": 12,
     "metadata": {},
     "output_type": "execute_result"
    }
   ],
   "source": [
    "all_scores = {}\n",
    "for date, score in zip(keys, scores):\n",
    "    all_scores[date] = score\n",
    "\n",
    "all_scores"
   ]
  },
  {
   "cell_type": "code",
   "execution_count": null,
   "metadata": {},
   "outputs": [],
   "source": []
  }
 ],
 "metadata": {
  "kernelspec": {
   "display_name": "Python 3",
   "language": "python",
   "name": "python3"
  },
  "language_info": {
   "codemirror_mode": {
    "name": "ipython",
    "version": 3
   },
   "file_extension": ".py",
   "mimetype": "text/x-python",
   "name": "python",
   "nbconvert_exporter": "python",
   "pygments_lexer": "ipython3",
   "version": "3.7.3"
  }
 },
 "nbformat": 4,
 "nbformat_minor": 4
}
