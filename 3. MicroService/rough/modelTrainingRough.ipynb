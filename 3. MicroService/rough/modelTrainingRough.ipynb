{
 "cells": [
  {
   "cell_type": "code",
   "execution_count": 1,
   "metadata": {},
   "outputs": [],
   "source": [
    "import numpy as np\n",
    "import pandas as pd\n",
    "import sklearn\n",
    "from sklearn.compose import ColumnTransformer\n",
    "from math import cos, asin, sqrt, pi\n",
    "from sklearn.ensemble import RandomForestClassifier\n",
    "from sklearn.metrics import accuracy_score,precision_score,recall_score,f1_score, classification_report\n",
    "import os"
   ]
  },
  {
   "cell_type": "code",
   "execution_count": 2,
   "metadata": {},
   "outputs": [],
   "source": [
    "#helper functions\n",
    "def distance(lat1, lon1, lat2, lon2):\n",
    "    p = pi/180\n",
    "    a = 0.5 - cos((lat2-lat1)*p)/2 + cos(lat1*p) * cos(lat2*p) * (1-cos((lon2-lon1)*p))/2\n",
    "    return 12742000 * asin(sqrt(a))\n",
    "\n",
    "def cumulative_distance(lat_longs):\n",
    "    l=[]\n",
    "    prev_lat,prev_long=lat_longs[0]\n",
    "\n",
    "    for lat,long in lat_longs:\n",
    "        l.append(distance(lat,long,prev_lat,prev_long)+1e-7)\n",
    "        prev_lat=lat\n",
    "        prev_long=long\n",
    "        \n",
    "    return l\n",
    "\n",
    "def time_zone_cal(s):\n",
    "    hour=int(s.split(':')[0])\n",
    "\n",
    "    if 6<hour<=9:\n",
    "        time_zone='Early_Morning'\n",
    "    elif 9<hour<=12:\n",
    "        time_zone='Morning'\n",
    "    elif 12<hour<=17:\n",
    "        time_zone='Afternoon'\n",
    "    elif 17<hour<=23:\n",
    "        time_zone='Evening'\n",
    "    return time_zone"
   ]
  },
  {
   "cell_type": "code",
   "execution_count": 3,
   "metadata": {},
   "outputs": [],
   "source": [
    "def get_processed_df(df, selection_columns=\\\n",
    "    ['time_zone','stay_duration',\n",
    "     'wifi_count', 'edge_wifi_count', 'honk_duration',\n",
    "     'edge_honk_duration', 'd_wifi_count', 'd_edge_wifi_count','d_honk_duration', \n",
    "     'd_edge_honk_duration', 'human_made', 'natural_land','road_exist_percent',\n",
    "     'highly_populated_poi_exist', 'RSI', 'Is_Bus_stop','Is_Turn', 'Is_Signal',\n",
    "     'Is_Congestion', 'Is_Adhoc']):\n",
    "\n",
    "    #Normalizing edge values with edge distance\n",
    "    df['next_hop_distance']=cumulative_distance(df[['lat','long']].values)\n",
    "\n",
    "    df['edge_wifi_count']=df.edge_wifi_count/df.next_hop_distance\n",
    "    df['d_edge_wifi_count']=df.d_edge_wifi_count/df.next_hop_distance\n",
    "\n",
    "    df['edge_honk_duration']=df.edge_honk_duration.apply(float)/df.next_hop_distance\n",
    "    df['d_edge_honk_duration']=df.d_edge_honk_duration.apply(float)/df.next_hop_distance\n",
    "\n",
    "    df['honk_duration']=df.honk_duration.apply(float)\n",
    "    df['d_honk_duration']=df.d_honk_duration.apply(float)\n",
    "\n",
    "    #calculating timeZone\n",
    "    df['time_zone']=df.start_time.apply(time_zone_cal)\n",
    "\n",
    "    #Rebuilding meaning full features from sparse features\n",
    "    df['highly_populated_poi_exist']=(df.school+df.medical+df.other_poi+df.park).apply(lambda e:'Yes' if np.ceil(e)==1 else 'No')\n",
    "    df['road_exist_percent']=df.high_way+df.two_way+df.one_way\n",
    "\n",
    "    #New dataFrame is returned\n",
    "    new_df=df[selection_columns].copy()\n",
    "    \n",
    "    return new_df"
   ]
  },
  {
   "cell_type": "code",
   "execution_count": 4,
   "metadata": {},
   "outputs": [],
   "source": [
    "def transform_categorical_features(data, one_hot_encoder, label_encoders, categorical_features, for_train=False):\n",
    "    \n",
    "    if len(label_encoders) != len(categorical_features):\n",
    "        raise ValueError(\"Number of Label Encoders must be equal to number of categorical features.\")\n",
    "    \n",
    "    #converting categorical features in to integer encoding....\n",
    "    for le, feature in zip(label_encoders, categorical_features):\n",
    "        data[:, feature] = le.transform(data[:, feature])\n",
    "\n",
    "    # OneHot Encoding Categorical features\n",
    "    if for_train:\n",
    "        data = one_hot_encoder.fit_transform(data)\n",
    "    else:\n",
    "        data = one_hot_encoder.transform(data)\n",
    "    #data=data.toarray()\n",
    "    return data"
   ]
  },
  {
   "cell_type": "code",
   "execution_count": 5,
   "metadata": {},
   "outputs": [],
   "source": [
    "# def transform_categorical_features2():\n",
    "#     train_df[feature_names[0]] = train_df[feature_names[0]].apply(lambda x: le_dicts[0].get(x, x))\n",
    "#     train_df[feature_names[13]] = train_df[feature_names[13]].apply(lambda x: le_dicts[1].get(x, x))"
   ]
  },
  {
   "cell_type": "code",
   "execution_count": 6,
   "metadata": {},
   "outputs": [],
   "source": [
    "def get_label_encoder(data, feature):\n",
    "    le = sklearn.preprocessing.LabelEncoder()\n",
    "    le.fit(data[:, feature])\n",
    "    return le\n",
    "\n",
    "def get_one_hot_encoder(data, categorical_features):\n",
    "    encoder = ColumnTransformer([('encoder',sklearn.preprocessing.OneHotEncoder(),categorical_features)],remainder='passthrough')\n",
    "    encoder.fit(data)\n",
    "    return encoder"
   ]
  },
  {
   "cell_type": "code",
   "execution_count": 7,
   "metadata": {},
   "outputs": [],
   "source": [
    "# def get_le_dict(data, feature):\n",
    "#     le = sklearn.preprocessing.LabelEncoder()\n",
    "#     le.fit(data[:, feature])\n",
    "#     le_dict = dict(zip(le.classes_, le.transform(le.classes_)))\n",
    "#     return le_dict"
   ]
  },
  {
   "cell_type": "code",
   "execution_count": 8,
   "metadata": {},
   "outputs": [],
   "source": [
    "def get_labels_for(poi_column, df):\n",
    "    labels=df[poi_column]\n",
    "    le= sklearn.preprocessing.LabelEncoder()\n",
    "    le.fit(labels)\n",
    "    labels = le.transform(labels)\n",
    "    class_names = le.classes_\n",
    "    return class_names,labels\n",
    "\n",
    "convert_to_class_names = lambda x, class_names: class_names[x]"
   ]
  },
  {
   "cell_type": "code",
   "execution_count": 9,
   "metadata": {},
   "outputs": [],
   "source": [
    "def get_performance_stats(test_or_train, true_values, predicted_values):\n",
    "    print(f\"For {test_or_train}: \")\n",
    "    print(f\"\\tAccuracy: {accuracy_score(true_values, predicted_values)}\")\n",
    "    print(f\"\\tPrecision: {precision_score(true_values, predicted_values,average='weighted')}\")\n",
    "    print(f\"\\tRecall: {recall_score(true_values, predicted_values,average='weighted')}\")\n",
    "    print(f\"\\tF1 score: {f1_score(true_values, predicted_values,average='weighted')}\")\n",
    "    print(classification_report(true_values, predicted_values))"
   ]
  },
  {
   "cell_type": "code",
   "execution_count": 10,
   "metadata": {},
   "outputs": [],
   "source": [
    "def form_result_df(original_df, predictions):\n",
    "    result_df = original_df.copy()\n",
    "    result_df[\"instance_date\"] = result_df.start_date\n",
    "    result_df[\"instance_time\"] = result_df.start_time\n",
    "    result_df[f\"Prediction {poi_column}\"] = predictions\n",
    "    return result_df[[\"instance_date\", \"instance_time\", f\"Prediction {poi_column}\"]]"
   ]
  },
  {
   "cell_type": "code",
   "execution_count": 11,
   "metadata": {},
   "outputs": [],
   "source": [
    "parent_dir = r\"../data/54ft/\"\n",
    "train_df_name = r\"54ft_train.csv\"\n",
    "test_df_name = r\"54ft_test.csv\""
   ]
  },
  {
   "cell_type": "code",
   "execution_count": 12,
   "metadata": {},
   "outputs": [],
   "source": [
    "poi_column = 'Is_Bus_stop'"
   ]
  },
  {
   "cell_type": "code",
   "execution_count": 13,
   "metadata": {},
   "outputs": [],
   "source": [
    "train_csv_df = pd.read_csv(os.path.join(parent_dir, train_df_name))\n",
    "train_df = get_processed_df(train_csv_df)"
   ]
  },
  {
   "cell_type": "code",
   "execution_count": 14,
   "metadata": {},
   "outputs": [
    {
     "data": {
      "text/html": [
       "<div>\n",
       "<style scoped>\n",
       "    .dataframe tbody tr th:only-of-type {\n",
       "        vertical-align: middle;\n",
       "    }\n",
       "\n",
       "    .dataframe tbody tr th {\n",
       "        vertical-align: top;\n",
       "    }\n",
       "\n",
       "    .dataframe thead th {\n",
       "        text-align: right;\n",
       "    }\n",
       "</style>\n",
       "<table border=\"1\" class=\"dataframe\">\n",
       "  <thead>\n",
       "    <tr style=\"text-align: right;\">\n",
       "      <th></th>\n",
       "      <th>time_zone</th>\n",
       "      <th>stay_duration</th>\n",
       "      <th>wifi_count</th>\n",
       "      <th>edge_wifi_count</th>\n",
       "      <th>honk_duration</th>\n",
       "      <th>edge_honk_duration</th>\n",
       "      <th>d_wifi_count</th>\n",
       "      <th>d_edge_wifi_count</th>\n",
       "      <th>d_honk_duration</th>\n",
       "      <th>d_edge_honk_duration</th>\n",
       "      <th>human_made</th>\n",
       "      <th>natural_land</th>\n",
       "      <th>road_exist_percent</th>\n",
       "      <th>highly_populated_poi_exist</th>\n",
       "      <th>RSI</th>\n",
       "      <th>Is_Bus_stop</th>\n",
       "      <th>Is_Turn</th>\n",
       "      <th>Is_Signal</th>\n",
       "      <th>Is_Congestion</th>\n",
       "      <th>Is_Adhoc</th>\n",
       "    </tr>\n",
       "  </thead>\n",
       "  <tbody>\n",
       "    <tr>\n",
       "      <th>0</th>\n",
       "      <td>Afternoon</td>\n",
       "      <td>6</td>\n",
       "      <td>0</td>\n",
       "      <td>0.000000</td>\n",
       "      <td>0.0</td>\n",
       "      <td>0.000000</td>\n",
       "      <td>0</td>\n",
       "      <td>0.000000</td>\n",
       "      <td>0.0</td>\n",
       "      <td>0.000000</td>\n",
       "      <td>0.111232</td>\n",
       "      <td>0.636805</td>\n",
       "      <td>0.251963</td>\n",
       "      <td>No</td>\n",
       "      <td>0.000000</td>\n",
       "      <td>Not Bus_stop</td>\n",
       "      <td>Not Turn</td>\n",
       "      <td>Not Signal</td>\n",
       "      <td>Not Congestion</td>\n",
       "      <td>Adhoc</td>\n",
       "    </tr>\n",
       "    <tr>\n",
       "      <th>1</th>\n",
       "      <td>Afternoon</td>\n",
       "      <td>10</td>\n",
       "      <td>3</td>\n",
       "      <td>0.015468</td>\n",
       "      <td>1.0</td>\n",
       "      <td>0.015468</td>\n",
       "      <td>3</td>\n",
       "      <td>0.015468</td>\n",
       "      <td>1.0</td>\n",
       "      <td>0.015468</td>\n",
       "      <td>0.124869</td>\n",
       "      <td>0.666587</td>\n",
       "      <td>0.208544</td>\n",
       "      <td>No</td>\n",
       "      <td>2.715045</td>\n",
       "      <td>Bus_stop</td>\n",
       "      <td>Not Turn</td>\n",
       "      <td>Not Signal</td>\n",
       "      <td>Not Congestion</td>\n",
       "      <td>Not Adhoc</td>\n",
       "    </tr>\n",
       "    <tr>\n",
       "      <th>2</th>\n",
       "      <td>Afternoon</td>\n",
       "      <td>130</td>\n",
       "      <td>2</td>\n",
       "      <td>0.027800</td>\n",
       "      <td>5.0</td>\n",
       "      <td>0.000000</td>\n",
       "      <td>4</td>\n",
       "      <td>0.018533</td>\n",
       "      <td>5.0</td>\n",
       "      <td>0.000000</td>\n",
       "      <td>0.100360</td>\n",
       "      <td>0.743668</td>\n",
       "      <td>0.155972</td>\n",
       "      <td>No</td>\n",
       "      <td>2.422751</td>\n",
       "      <td>Bus_stop</td>\n",
       "      <td>Turn</td>\n",
       "      <td>Not Signal</td>\n",
       "      <td>Not Congestion</td>\n",
       "      <td>Not Adhoc</td>\n",
       "    </tr>\n",
       "    <tr>\n",
       "      <th>3</th>\n",
       "      <td>Afternoon</td>\n",
       "      <td>13</td>\n",
       "      <td>0</td>\n",
       "      <td>0.000000</td>\n",
       "      <td>2.0</td>\n",
       "      <td>0.000000</td>\n",
       "      <td>0</td>\n",
       "      <td>0.000000</td>\n",
       "      <td>2.0</td>\n",
       "      <td>0.000000</td>\n",
       "      <td>0.100911</td>\n",
       "      <td>0.730013</td>\n",
       "      <td>0.169076</td>\n",
       "      <td>No</td>\n",
       "      <td>3.040420</td>\n",
       "      <td>Not Bus_stop</td>\n",
       "      <td>Not Turn</td>\n",
       "      <td>Not Signal</td>\n",
       "      <td>Not Congestion</td>\n",
       "      <td>Adhoc</td>\n",
       "    </tr>\n",
       "    <tr>\n",
       "      <th>4</th>\n",
       "      <td>Afternoon</td>\n",
       "      <td>9</td>\n",
       "      <td>0</td>\n",
       "      <td>0.002818</td>\n",
       "      <td>2.0</td>\n",
       "      <td>0.005635</td>\n",
       "      <td>0</td>\n",
       "      <td>0.002818</td>\n",
       "      <td>2.0</td>\n",
       "      <td>0.005635</td>\n",
       "      <td>0.117394</td>\n",
       "      <td>0.487688</td>\n",
       "      <td>0.183064</td>\n",
       "      <td>Yes</td>\n",
       "      <td>1.780860</td>\n",
       "      <td>Bus_stop</td>\n",
       "      <td>Turn</td>\n",
       "      <td>Not Signal</td>\n",
       "      <td>Not Congestion</td>\n",
       "      <td>Not Adhoc</td>\n",
       "    </tr>\n",
       "  </tbody>\n",
       "</table>\n",
       "</div>"
      ],
      "text/plain": [
       "   time_zone  stay_duration  wifi_count  edge_wifi_count  honk_duration  \\\n",
       "0  Afternoon              6           0         0.000000            0.0   \n",
       "1  Afternoon             10           3         0.015468            1.0   \n",
       "2  Afternoon            130           2         0.027800            5.0   \n",
       "3  Afternoon             13           0         0.000000            2.0   \n",
       "4  Afternoon              9           0         0.002818            2.0   \n",
       "\n",
       "   edge_honk_duration  d_wifi_count  d_edge_wifi_count  d_honk_duration  \\\n",
       "0            0.000000             0           0.000000              0.0   \n",
       "1            0.015468             3           0.015468              1.0   \n",
       "2            0.000000             4           0.018533              5.0   \n",
       "3            0.000000             0           0.000000              2.0   \n",
       "4            0.005635             0           0.002818              2.0   \n",
       "\n",
       "   d_edge_honk_duration  human_made  natural_land  road_exist_percent  \\\n",
       "0              0.000000    0.111232      0.636805            0.251963   \n",
       "1              0.015468    0.124869      0.666587            0.208544   \n",
       "2              0.000000    0.100360      0.743668            0.155972   \n",
       "3              0.000000    0.100911      0.730013            0.169076   \n",
       "4              0.005635    0.117394      0.487688            0.183064   \n",
       "\n",
       "  highly_populated_poi_exist       RSI   Is_Bus_stop   Is_Turn   Is_Signal  \\\n",
       "0                         No  0.000000  Not Bus_stop  Not Turn  Not Signal   \n",
       "1                         No  2.715045      Bus_stop  Not Turn  Not Signal   \n",
       "2                         No  2.422751      Bus_stop      Turn  Not Signal   \n",
       "3                         No  3.040420  Not Bus_stop  Not Turn  Not Signal   \n",
       "4                        Yes  1.780860      Bus_stop      Turn  Not Signal   \n",
       "\n",
       "    Is_Congestion   Is_Adhoc  \n",
       "0  Not Congestion      Adhoc  \n",
       "1  Not Congestion  Not Adhoc  \n",
       "2  Not Congestion  Not Adhoc  \n",
       "3  Not Congestion      Adhoc  \n",
       "4  Not Congestion  Not Adhoc  "
      ]
     },
     "execution_count": 14,
     "metadata": {},
     "output_type": "execute_result"
    }
   ],
   "source": [
    "train_df.head()"
   ]
  },
  {
   "cell_type": "code",
   "execution_count": 15,
   "metadata": {},
   "outputs": [],
   "source": [
    "feature_names=['time_zone','stay_duration','wifi_count', 'edge_wifi_count', 'honk_duration',\\\n",
    "               'edge_honk_duration', 'd_wifi_count','d_edge_wifi_count','d_honk_duration',\\\n",
    "               'd_edge_honk_duration', 'human_made','natural_land','road_exist_percent',\\\n",
    "               'highly_populated_poi_exist', 'RSI']\n",
    "\n",
    "categorical_features=[0,13]"
   ]
  },
  {
   "cell_type": "code",
   "execution_count": 16,
   "metadata": {},
   "outputs": [],
   "source": [
    "train_array = train_df[feature_names].values\n",
    "les = [get_label_encoder(train_array, feature) for feature in categorical_features]\n",
    "# le_dicts = [get_le_dict(train_array, feature)  for feature in categorical_features]\n",
    "encoder = get_one_hot_encoder(train_array, categorical_features)"
   ]
  },
  {
   "cell_type": "code",
   "execution_count": 31,
   "metadata": {},
   "outputs": [
    {
     "name": "stdout",
     "output_type": "stream",
     "text": [
      "(2480, 15)\n",
      "(2480, 15)\n"
     ]
    }
   ],
   "source": [
    "print(train_df[feature_names].shape)\n",
    "print(train_array.shape)"
   ]
  },
  {
   "cell_type": "code",
   "execution_count": 17,
   "metadata": {},
   "outputs": [],
   "source": [
    "# train_df[feature_names[0]] = train_df[feature_names[0]].apply(lambda x: le_dicts[0].get(x, x))\n",
    "# train_df[feature_names[13]] = train_df[feature_names[13]].apply(lambda x: le_dicts[1].get(x, x))"
   ]
  },
  {
   "cell_type": "code",
   "execution_count": 18,
   "metadata": {},
   "outputs": [],
   "source": [
    "# train_df.head()"
   ]
  },
  {
   "cell_type": "code",
   "execution_count": 19,
   "metadata": {},
   "outputs": [],
   "source": [
    "train_data = transform_categorical_features(train_array, encoder, les, categorical_features, for_train=True)\n",
    "train_class_names,train_labels = get_labels_for(poi_column, train_df)\n",
    "# train_data = train_df[feature_names].values"
   ]
  },
  {
   "cell_type": "code",
   "execution_count": 32,
   "metadata": {},
   "outputs": [
    {
     "name": "stdout",
     "output_type": "stream",
     "text": [
      "(2480, 19)\n"
     ]
    }
   ],
   "source": [
    "print(train_data.shape)"
   ]
  },
  {
   "cell_type": "code",
   "execution_count": 41,
   "metadata": {
    "scrolled": true
   },
   "outputs": [
    {
     "name": "stdout",
     "output_type": "stream",
     "text": [
      "Train Array: [0, 10, 3, 0.015468290768428074, 1.0, 0.015468290768428074, 3, 0.015468290768428074, 1.0, 0.015468290768428074, 0.12486881980167396, 0.6665868845577432, 0.20854429564058288, 0, 2.7150453559430217]\n",
      "Train data: [1.0, 0.0, 0.0, 0.0, 1.0, 0.0, 10, 3, 0.015468290768428074, 1.0, 0.015468290768428074, 3, 0.015468290768428074, 1.0, 0.015468290768428074, 0.12486881980167396, 0.6665868845577432, 0.20854429564058288, 2.7150453559430217]\n"
     ]
    },
    {
     "data": {
      "text/html": [
       "<div>\n",
       "<style scoped>\n",
       "    .dataframe tbody tr th:only-of-type {\n",
       "        vertical-align: middle;\n",
       "    }\n",
       "\n",
       "    .dataframe tbody tr th {\n",
       "        vertical-align: top;\n",
       "    }\n",
       "\n",
       "    .dataframe thead th {\n",
       "        text-align: right;\n",
       "    }\n",
       "</style>\n",
       "<table border=\"1\" class=\"dataframe\">\n",
       "  <thead>\n",
       "    <tr style=\"text-align: right;\">\n",
       "      <th></th>\n",
       "      <th>time_zone</th>\n",
       "      <th>stay_duration</th>\n",
       "      <th>wifi_count</th>\n",
       "      <th>edge_wifi_count</th>\n",
       "      <th>honk_duration</th>\n",
       "      <th>edge_honk_duration</th>\n",
       "      <th>d_wifi_count</th>\n",
       "      <th>d_edge_wifi_count</th>\n",
       "      <th>d_honk_duration</th>\n",
       "      <th>d_edge_honk_duration</th>\n",
       "      <th>human_made</th>\n",
       "      <th>natural_land</th>\n",
       "      <th>road_exist_percent</th>\n",
       "      <th>highly_populated_poi_exist</th>\n",
       "      <th>RSI</th>\n",
       "    </tr>\n",
       "  </thead>\n",
       "  <tbody>\n",
       "    <tr>\n",
       "      <th>1</th>\n",
       "      <td>Afternoon</td>\n",
       "      <td>10</td>\n",
       "      <td>3</td>\n",
       "      <td>0.015468</td>\n",
       "      <td>1.0</td>\n",
       "      <td>0.015468</td>\n",
       "      <td>3</td>\n",
       "      <td>0.015468</td>\n",
       "      <td>1.0</td>\n",
       "      <td>0.015468</td>\n",
       "      <td>0.124869</td>\n",
       "      <td>0.666587</td>\n",
       "      <td>0.208544</td>\n",
       "      <td>No</td>\n",
       "      <td>2.715045</td>\n",
       "    </tr>\n",
       "  </tbody>\n",
       "</table>\n",
       "</div>"
      ],
      "text/plain": [
       "   time_zone  stay_duration  wifi_count  edge_wifi_count  honk_duration  \\\n",
       "1  Afternoon             10           3         0.015468            1.0   \n",
       "\n",
       "   edge_honk_duration  d_wifi_count  d_edge_wifi_count  d_honk_duration  \\\n",
       "1            0.015468             3           0.015468              1.0   \n",
       "\n",
       "   d_edge_honk_duration  human_made  natural_land  road_exist_percent  \\\n",
       "1              0.015468    0.124869      0.666587            0.208544   \n",
       "\n",
       "  highly_populated_poi_exist       RSI  \n",
       "1                         No  2.715045  "
      ]
     },
     "execution_count": 41,
     "metadata": {},
     "output_type": "execute_result"
    }
   ],
   "source": [
    "print(f\"Train Array: {list(train_array[1])}\")\n",
    "print(f\"Train data: {list(train_data[1])}\")\n",
    "train_df[feature_names].iloc[1:2]"
   ]
  },
  {
   "cell_type": "code",
   "execution_count": 43,
   "metadata": {},
   "outputs": [],
   "source": [
    "model = RandomForestClassifier(n_estimators=20,max_depth=8)\n",
    "model.fit(train_data, train_labels)\n",
    "train_predictions = model.predict(train_data) # for training performance stat"
   ]
  },
  {
   "cell_type": "code",
   "execution_count": 44,
   "metadata": {},
   "outputs": [],
   "source": [
    "test_csv_df = pd.read_csv(os.path.join(parent_dir, test_df_name))\n",
    "test_df = get_processed_df(test_csv_df)"
   ]
  },
  {
   "cell_type": "code",
   "execution_count": 45,
   "metadata": {},
   "outputs": [
    {
     "data": {
      "text/html": [
       "<div>\n",
       "<style scoped>\n",
       "    .dataframe tbody tr th:only-of-type {\n",
       "        vertical-align: middle;\n",
       "    }\n",
       "\n",
       "    .dataframe tbody tr th {\n",
       "        vertical-align: top;\n",
       "    }\n",
       "\n",
       "    .dataframe thead th {\n",
       "        text-align: right;\n",
       "    }\n",
       "</style>\n",
       "<table border=\"1\" class=\"dataframe\">\n",
       "  <thead>\n",
       "    <tr style=\"text-align: right;\">\n",
       "      <th></th>\n",
       "      <th>time_zone</th>\n",
       "      <th>stay_duration</th>\n",
       "      <th>wifi_count</th>\n",
       "      <th>edge_wifi_count</th>\n",
       "      <th>honk_duration</th>\n",
       "      <th>edge_honk_duration</th>\n",
       "      <th>d_wifi_count</th>\n",
       "      <th>d_edge_wifi_count</th>\n",
       "      <th>d_honk_duration</th>\n",
       "      <th>d_edge_honk_duration</th>\n",
       "      <th>human_made</th>\n",
       "      <th>natural_land</th>\n",
       "      <th>road_exist_percent</th>\n",
       "      <th>highly_populated_poi_exist</th>\n",
       "      <th>RSI</th>\n",
       "      <th>Is_Bus_stop</th>\n",
       "      <th>Is_Turn</th>\n",
       "      <th>Is_Signal</th>\n",
       "      <th>Is_Congestion</th>\n",
       "      <th>Is_Adhoc</th>\n",
       "    </tr>\n",
       "  </thead>\n",
       "  <tbody>\n",
       "    <tr>\n",
       "      <th>0</th>\n",
       "      <td>Morning</td>\n",
       "      <td>105</td>\n",
       "      <td>7</td>\n",
       "      <td>0.000000</td>\n",
       "      <td>69.0</td>\n",
       "      <td>0.000000</td>\n",
       "      <td>7</td>\n",
       "      <td>0.000000</td>\n",
       "      <td>69.0</td>\n",
       "      <td>0.000000</td>\n",
       "      <td>0.122769</td>\n",
       "      <td>0.692291</td>\n",
       "      <td>0.182053</td>\n",
       "      <td>Yes</td>\n",
       "      <td>0.000000</td>\n",
       "      <td>Bus_stop</td>\n",
       "      <td>Turn</td>\n",
       "      <td>Not Signal</td>\n",
       "      <td>Congestion</td>\n",
       "      <td>Not Adhoc</td>\n",
       "    </tr>\n",
       "    <tr>\n",
       "      <th>1</th>\n",
       "      <td>Morning</td>\n",
       "      <td>12</td>\n",
       "      <td>2</td>\n",
       "      <td>0.024291</td>\n",
       "      <td>9.0</td>\n",
       "      <td>0.083285</td>\n",
       "      <td>2</td>\n",
       "      <td>0.024291</td>\n",
       "      <td>11.0</td>\n",
       "      <td>0.076344</td>\n",
       "      <td>0.107162</td>\n",
       "      <td>0.766882</td>\n",
       "      <td>0.125955</td>\n",
       "      <td>No</td>\n",
       "      <td>1.289747</td>\n",
       "      <td>Not Bus_stop</td>\n",
       "      <td>Not Turn</td>\n",
       "      <td>Not Signal</td>\n",
       "      <td>Congestion</td>\n",
       "      <td>Not Adhoc</td>\n",
       "    </tr>\n",
       "    <tr>\n",
       "      <th>2</th>\n",
       "      <td>Morning</td>\n",
       "      <td>4</td>\n",
       "      <td>0</td>\n",
       "      <td>0.005824</td>\n",
       "      <td>0.0</td>\n",
       "      <td>0.049507</td>\n",
       "      <td>0</td>\n",
       "      <td>0.005824</td>\n",
       "      <td>1.0</td>\n",
       "      <td>0.048051</td>\n",
       "      <td>0.093122</td>\n",
       "      <td>0.709518</td>\n",
       "      <td>0.132148</td>\n",
       "      <td>Yes</td>\n",
       "      <td>1.302277</td>\n",
       "      <td>Not Bus_stop</td>\n",
       "      <td>Not Turn</td>\n",
       "      <td>Not Signal</td>\n",
       "      <td>Congestion</td>\n",
       "      <td>Not Adhoc</td>\n",
       "    </tr>\n",
       "    <tr>\n",
       "      <th>3</th>\n",
       "      <td>Morning</td>\n",
       "      <td>11</td>\n",
       "      <td>1</td>\n",
       "      <td>0.005213</td>\n",
       "      <td>1.0</td>\n",
       "      <td>0.049528</td>\n",
       "      <td>1</td>\n",
       "      <td>0.005213</td>\n",
       "      <td>1.0</td>\n",
       "      <td>0.049528</td>\n",
       "      <td>0.063900</td>\n",
       "      <td>0.770263</td>\n",
       "      <td>0.160132</td>\n",
       "      <td>Yes</td>\n",
       "      <td>2.083196</td>\n",
       "      <td>Bus_stop</td>\n",
       "      <td>Not Turn</td>\n",
       "      <td>Not Signal</td>\n",
       "      <td>Not Congestion</td>\n",
       "      <td>Not Adhoc</td>\n",
       "    </tr>\n",
       "    <tr>\n",
       "      <th>4</th>\n",
       "      <td>Morning</td>\n",
       "      <td>25</td>\n",
       "      <td>3</td>\n",
       "      <td>0.024812</td>\n",
       "      <td>7.0</td>\n",
       "      <td>0.060651</td>\n",
       "      <td>4</td>\n",
       "      <td>0.022055</td>\n",
       "      <td>9.0</td>\n",
       "      <td>0.055137</td>\n",
       "      <td>0.130473</td>\n",
       "      <td>0.646021</td>\n",
       "      <td>0.220993</td>\n",
       "      <td>Yes</td>\n",
       "      <td>1.729536</td>\n",
       "      <td>Bus_stop</td>\n",
       "      <td>Not Turn</td>\n",
       "      <td>Signal</td>\n",
       "      <td>Not Congestion</td>\n",
       "      <td>Not Adhoc</td>\n",
       "    </tr>\n",
       "  </tbody>\n",
       "</table>\n",
       "</div>"
      ],
      "text/plain": [
       "  time_zone  stay_duration  wifi_count  edge_wifi_count  honk_duration  \\\n",
       "0   Morning            105           7         0.000000           69.0   \n",
       "1   Morning             12           2         0.024291            9.0   \n",
       "2   Morning              4           0         0.005824            0.0   \n",
       "3   Morning             11           1         0.005213            1.0   \n",
       "4   Morning             25           3         0.024812            7.0   \n",
       "\n",
       "   edge_honk_duration  d_wifi_count  d_edge_wifi_count  d_honk_duration  \\\n",
       "0            0.000000             7           0.000000             69.0   \n",
       "1            0.083285             2           0.024291             11.0   \n",
       "2            0.049507             0           0.005824              1.0   \n",
       "3            0.049528             1           0.005213              1.0   \n",
       "4            0.060651             4           0.022055              9.0   \n",
       "\n",
       "   d_edge_honk_duration  human_made  natural_land  road_exist_percent  \\\n",
       "0              0.000000    0.122769      0.692291            0.182053   \n",
       "1              0.076344    0.107162      0.766882            0.125955   \n",
       "2              0.048051    0.093122      0.709518            0.132148   \n",
       "3              0.049528    0.063900      0.770263            0.160132   \n",
       "4              0.055137    0.130473      0.646021            0.220993   \n",
       "\n",
       "  highly_populated_poi_exist       RSI   Is_Bus_stop   Is_Turn   Is_Signal  \\\n",
       "0                        Yes  0.000000      Bus_stop      Turn  Not Signal   \n",
       "1                         No  1.289747  Not Bus_stop  Not Turn  Not Signal   \n",
       "2                        Yes  1.302277  Not Bus_stop  Not Turn  Not Signal   \n",
       "3                        Yes  2.083196      Bus_stop  Not Turn  Not Signal   \n",
       "4                        Yes  1.729536      Bus_stop  Not Turn      Signal   \n",
       "\n",
       "    Is_Congestion   Is_Adhoc  \n",
       "0      Congestion  Not Adhoc  \n",
       "1      Congestion  Not Adhoc  \n",
       "2      Congestion  Not Adhoc  \n",
       "3  Not Congestion  Not Adhoc  \n",
       "4  Not Congestion  Not Adhoc  "
      ]
     },
     "execution_count": 45,
     "metadata": {},
     "output_type": "execute_result"
    }
   ],
   "source": [
    "test_df.head()"
   ]
  },
  {
   "cell_type": "code",
   "execution_count": 46,
   "metadata": {},
   "outputs": [],
   "source": [
    "test_array = test_df[feature_names].values"
   ]
  },
  {
   "cell_type": "code",
   "execution_count": 47,
   "metadata": {},
   "outputs": [],
   "source": [
    "test_data = transform_categorical_features(test_array, encoder, les, categorical_features)\n",
    "test_class_names, test_labels = get_labels_for(poi_column, test_df)"
   ]
  },
  {
   "cell_type": "code",
   "execution_count": 48,
   "metadata": {},
   "outputs": [
    {
     "name": "stdout",
     "output_type": "stream",
     "text": [
      "Train Array: [3, 12, 2, 0.02429142213387779, 9.0, 0.08328487588758099, 2, 0.02429142213387779, 11.0, 0.07634446956361592, 0.10716247530839497, 0.7668821460142384, 0.12595537867736667, 0, 1.2897473552549503]\n",
      "Train data: [0.0, 0.0, 0.0, 1.0, 1.0, 0.0, 12, 2, 0.02429142213387779, 9.0, 0.08328487588758099, 2, 0.02429142213387779, 11.0, 0.07634446956361592, 0.10716247530839497, 0.7668821460142384, 0.12595537867736667, 1.2897473552549503]\n"
     ]
    },
    {
     "data": {
      "text/html": [
       "<div>\n",
       "<style scoped>\n",
       "    .dataframe tbody tr th:only-of-type {\n",
       "        vertical-align: middle;\n",
       "    }\n",
       "\n",
       "    .dataframe tbody tr th {\n",
       "        vertical-align: top;\n",
       "    }\n",
       "\n",
       "    .dataframe thead th {\n",
       "        text-align: right;\n",
       "    }\n",
       "</style>\n",
       "<table border=\"1\" class=\"dataframe\">\n",
       "  <thead>\n",
       "    <tr style=\"text-align: right;\">\n",
       "      <th></th>\n",
       "      <th>time_zone</th>\n",
       "      <th>stay_duration</th>\n",
       "      <th>wifi_count</th>\n",
       "      <th>edge_wifi_count</th>\n",
       "      <th>honk_duration</th>\n",
       "      <th>edge_honk_duration</th>\n",
       "      <th>d_wifi_count</th>\n",
       "      <th>d_edge_wifi_count</th>\n",
       "      <th>d_honk_duration</th>\n",
       "      <th>d_edge_honk_duration</th>\n",
       "      <th>human_made</th>\n",
       "      <th>natural_land</th>\n",
       "      <th>road_exist_percent</th>\n",
       "      <th>highly_populated_poi_exist</th>\n",
       "      <th>RSI</th>\n",
       "    </tr>\n",
       "  </thead>\n",
       "  <tbody>\n",
       "    <tr>\n",
       "      <th>1</th>\n",
       "      <td>Morning</td>\n",
       "      <td>12</td>\n",
       "      <td>2</td>\n",
       "      <td>0.024291</td>\n",
       "      <td>9.0</td>\n",
       "      <td>0.083285</td>\n",
       "      <td>2</td>\n",
       "      <td>0.024291</td>\n",
       "      <td>11.0</td>\n",
       "      <td>0.076344</td>\n",
       "      <td>0.107162</td>\n",
       "      <td>0.766882</td>\n",
       "      <td>0.125955</td>\n",
       "      <td>No</td>\n",
       "      <td>1.289747</td>\n",
       "    </tr>\n",
       "  </tbody>\n",
       "</table>\n",
       "</div>"
      ],
      "text/plain": [
       "  time_zone  stay_duration  wifi_count  edge_wifi_count  honk_duration  \\\n",
       "1   Morning             12           2         0.024291            9.0   \n",
       "\n",
       "   edge_honk_duration  d_wifi_count  d_edge_wifi_count  d_honk_duration  \\\n",
       "1            0.083285             2           0.024291             11.0   \n",
       "\n",
       "   d_edge_honk_duration  human_made  natural_land  road_exist_percent  \\\n",
       "1              0.076344    0.107162      0.766882            0.125955   \n",
       "\n",
       "  highly_populated_poi_exist       RSI  \n",
       "1                         No  1.289747  "
      ]
     },
     "execution_count": 48,
     "metadata": {},
     "output_type": "execute_result"
    }
   ],
   "source": [
    "print(f\"Train Array: {list(test_array[1])}\")\n",
    "print(f\"Train data: {list(test_data[1])}\")\n",
    "test_df[feature_names].iloc[1:2]"
   ]
  },
  {
   "cell_type": "code",
   "execution_count": 26,
   "metadata": {},
   "outputs": [],
   "source": [
    "assert test_data.shape[1] == train_data.shape[1]"
   ]
  },
  {
   "cell_type": "code",
   "execution_count": 27,
   "metadata": {
    "scrolled": true
   },
   "outputs": [
    {
     "name": "stdout",
     "output_type": "stream",
     "text": [
      "{'Early_Morning', 'Evening', 'Afternoon', 'Morning'}\n",
      "{'Evening', 'Afternoon', 'Morning'}\n",
      "{'Early_Morning'}\n"
     ]
    }
   ],
   "source": [
    "train_set = set()\n",
    "test_set = set()\n",
    "for i in train_df.time_zone:\n",
    "    train_set.add(i)\n",
    "for i in test_df.time_zone:\n",
    "    test_set.add(i)\n",
    "    \n",
    "print(train_set)\n",
    "print(test_set)\n",
    "print(train_set-test_set)"
   ]
  },
  {
   "cell_type": "code",
   "execution_count": 28,
   "metadata": {},
   "outputs": [],
   "source": [
    "test_predictions = model.predict(test_data)"
   ]
  },
  {
   "cell_type": "code",
   "execution_count": 29,
   "metadata": {},
   "outputs": [
    {
     "name": "stdout",
     "output_type": "stream",
     "text": [
      "For test: \n",
      "\tAccuracy: 0.8088235294117647\n",
      "\tPrecision: 0.8144257703081231\n",
      "\tRecall: 0.8088235294117647\n",
      "\tF1 score: 0.8025210084033613\n"
     ]
    }
   ],
   "source": [
    "get_performance_stats(\"test\", test_labels, test_predictions)"
   ]
  },
  {
   "cell_type": "code",
   "execution_count": 30,
   "metadata": {},
   "outputs": [
    {
     "name": "stdout",
     "output_type": "stream",
     "text": [
      "For train: \n",
      "\tAccuracy: 0.9254032258064516\n",
      "\tPrecision: 0.9254703449749915\n",
      "\tRecall: 0.9254032258064516\n",
      "\tF1 score: 0.9249866236496553\n"
     ]
    }
   ],
   "source": [
    "get_performance_stats(\"train\", train_labels, train_predictions)"
   ]
  },
  {
   "cell_type": "code",
   "execution_count": null,
   "metadata": {},
   "outputs": [],
   "source": [
    "test_df[poi_column]"
   ]
  },
  {
   "cell_type": "code",
   "execution_count": null,
   "metadata": {},
   "outputs": [],
   "source": [
    "dates = test_csv_df.start_date\n",
    "dates"
   ]
  },
  {
   "cell_type": "code",
   "execution_count": null,
   "metadata": {},
   "outputs": [],
   "source": [
    "test_predictions"
   ]
  },
  {
   "cell_type": "code",
   "execution_count": null,
   "metadata": {},
   "outputs": [],
   "source": []
  },
  {
   "cell_type": "code",
   "execution_count": null,
   "metadata": {},
   "outputs": [],
   "source": [
    "# convert_to_class_names(test_predictions, test_class_names)\n",
    "result_df = form_result_df(test_csv_df, convert_to_class_names(test_predictions, test_class_names))\n",
    "result_df"
   ]
  },
  {
   "cell_type": "code",
   "execution_count": null,
   "metadata": {},
   "outputs": [],
   "source": []
  },
  {
   "cell_type": "code",
   "execution_count": null,
   "metadata": {},
   "outputs": [],
   "source": []
  },
  {
   "cell_type": "code",
   "execution_count": null,
   "metadata": {},
   "outputs": [],
   "source": [
    "convert_to_class_names(test_predictions, test_class_names)"
   ]
  },
  {
   "cell_type": "code",
   "execution_count": null,
   "metadata": {},
   "outputs": [],
   "source": []
  }
 ],
 "metadata": {
  "kernelspec": {
   "display_name": "Python 3",
   "language": "python",
   "name": "python3"
  },
  "language_info": {
   "codemirror_mode": {
    "name": "ipython",
    "version": 3
   },
   "file_extension": ".py",
   "mimetype": "text/x-python",
   "name": "python",
   "nbconvert_exporter": "python",
   "pygments_lexer": "ipython3",
   "version": "3.7.3"
  }
 },
 "nbformat": 4,
 "nbformat_minor": 4
}
