{
 "cells": [
  {
   "cell_type": "code",
   "execution_count": 1,
   "metadata": {},
   "outputs": [],
   "source": [
    "import os\n",
    "import glob\n",
    "import pandas as pd\n",
    "import numpy as np\n",
    "import datetime\n",
    "import itertools\n",
    "from library.scoreCalculatorLibrary import calculate_score\n",
    "from library.correlationAndTtestLib import *"
   ]
  },
  {
   "cell_type": "code",
   "execution_count": 2,
   "metadata": {},
   "outputs": [],
   "source": [
    "def time_zone_cal(s):\n",
    "    '''\n",
    "    @param s: a string of format \"hh:mm:ss\"\n",
    "    \n",
    "    @return: a string denoting the timezone\n",
    "    '''\n",
    "    try:\n",
    "        hour=int(s.split(':')[0])\n",
    "    except:\n",
    "        hour=13 #for nan set to afternoon\n",
    "\n",
    "    if 6<hour<=9:\n",
    "        time_zone='Early_Morning'\n",
    "    elif 9<hour<=12:\n",
    "        time_zone='Morning'\n",
    "    elif 12<hour<=17:\n",
    "        time_zone='Afternoon'\n",
    "    elif 17<hour<=23:\n",
    "        time_zone='Evening'\n",
    "    return time_zone\n",
    "\n",
    "# converts hour:minute:seconds to seconds\n",
    "def time_as_int(timestr):\n",
    "    '''\n",
    "    @param timestr: a string of format \"hh:mm:ss\"\n",
    "    \n",
    "    @return: an integer denoting the time in seconds\n",
    "    '''\n",
    "    hh, mm, ss = timestr.split(\":\")\n",
    "    time_int = (int(hh)*3600)+(int(mm)*60)+int(ss)\n",
    "    return time_int\n",
    "\n",
    "def get_day_of_week(date_string, seperator=\"/\", date_format=\"mm/dd/yyyy\"):\n",
    "    '''\n",
    "    @param date_string: a string denoting a date\n",
    "    @param seperator (optional): a character which acts as seperator in the date_string. Default = \"/\"\n",
    "    @param date_format (optional): a string which denotes the format the date string is. Default = \"mm/dd/yyyy\"\n",
    "                                Supported values are : {\"dd/mm/yyyy\", \"mm/dd/yyyy\"}\n",
    "    \n",
    "    @return: a string denoting the day of week corressponding to the date denoted by date_string\n",
    "    '''\n",
    "    date_format_idxs = {'mm/dd/yyyy':{'date_idx': 1, 'month_idx': 0, 'year_idx': 2},\n",
    "                        'dd/mm/yyyy':{'date_idx': 0, 'month_idx': 1, 'year_idx': 2}}\n",
    "    try:\n",
    "        idx_dict = date_format_idxs[date_format]\n",
    "        date_arr = [int(val) for val in date_string.split(seperator)]\n",
    "        weekdays = {0:\"Monday\", 1:\"Tuesday\", 2:\"Wednesday\", 3:\"Thursday\", 4:\"Friday\", 5:\"Saturday\", 6:\"Sunday\"}\n",
    "        date = datetime.datetime(date_arr[idx_dict['year_idx']],\\\n",
    "                                 date_arr[idx_dict['month_idx']],\\\n",
    "                                 date_arr[idx_dict['date_idx']])\n",
    "        return weekdays[date.weekday()]\n",
    "    except KeyError:\n",
    "        raise ValueError(f\"{date_format} is not supported. Supported values are: {list(date_format_idxs.keys())}.\")"
   ]
  },
  {
   "cell_type": "code",
   "execution_count": 108,
   "metadata": {},
   "outputs": [],
   "source": [
    "#name = \"prantika_bus_stand\"\n",
    "#name = \"junction_mall\"\n",
    "#name = \"54ft_road\"\n",
    "#name = \"dvc_more\"\n",
    "name = \"station\""
   ]
  },
  {
   "cell_type": "code",
   "execution_count": 109,
   "metadata": {},
   "outputs": [],
   "source": [
    "parent_dir = r\"../data/54ft/\"\n",
    "log_dir = f\"../reports/54ft/{name}\"\n",
    "\n",
    "results_csv_name = f\"Predictions_merged_54ft_{name}_zone.csv\"\n",
    "\n",
    "welch_output = f\"across_date_across_timezone_analysis_{name}_zone.csv\"\n",
    "\n",
    "score_timezone_analysis_output = f\"score_timezone_analysis_{name}_zone.csv\"\n",
    "\n",
    "time_zones = [\"Early_Morning\", \"Morning\", \"Afternoon\", \"Evening\"]\n",
    "\n",
    "timezone_analysis_name = \"time_zone_analysis\""
   ]
  },
  {
   "cell_type": "code",
   "execution_count": 110,
   "metadata": {},
   "outputs": [],
   "source": [
    "os.makedirs(log_dir, exist_ok=True)\n",
    "os.makedirs(os.path.join(log_dir, timezone_analysis_name), exist_ok=True)"
   ]
  },
  {
   "cell_type": "code",
   "execution_count": 111,
   "metadata": {},
   "outputs": [],
   "source": [
    "result_df = pd.read_csv(os.path.join(parent_dir, results_csv_name))"
   ]
  },
  {
   "cell_type": "code",
   "execution_count": 112,
   "metadata": {},
   "outputs": [],
   "source": [
    "df = result_df.copy()\n",
    "df['time_zone'] = df['instance_start_time'].apply(lambda x: time_zone_cal(x))\n",
    "df[\"instance_start_time\"] = df[\"instance_start_time\"].apply(lambda x: time_as_int(x))\n",
    "df[\"instance_end_time\"] = df[\"instance_end_time\"].apply(lambda x: time_as_int(x))"
   ]
  },
  {
   "cell_type": "code",
   "execution_count": 113,
   "metadata": {},
   "outputs": [],
   "source": [
    "date_group = df.groupby('instance_date')\n",
    "\n",
    "whole_day_scores = {}\n",
    "whole_day_list_scores = {}\n",
    "whole_day_instance_counts = {}\n",
    "\n",
    "for date in list(date_group.groups):\n",
    "    temp_df = date_group.get_group(date).copy()\n",
    "    overall_score, list_scores, no_of_instances = calculate_score(temp_df)\n",
    "    # calculate_score() is defined in library.scoreCalculatorLibrary.py\n",
    "    whole_day_scores[date] = overall_score\n",
    "    whole_day_list_scores[date] = list_scores\n",
    "    whole_day_instance_counts[date] = no_of_instances"
   ]
  },
  {
   "cell_type": "code",
   "execution_count": 114,
   "metadata": {},
   "outputs": [
    {
     "output_type": "execute_result",
     "data": {
      "text/plain": [
       "         Date  Whole_Day\n",
       "0  09/14/2019  -0.085541\n",
       "1  09/15/2019  -0.654896\n",
       "2  09/16/2019  -0.199492\n",
       "3  09/17/2019  -2.120828\n",
       "4  09/20/2019   0.533685\n",
       "5  09/21/2019  -0.165343\n",
       "6  09/23/2019  -0.626753"
      ],
      "text/html": "<div>\n<style scoped>\n    .dataframe tbody tr th:only-of-type {\n        vertical-align: middle;\n    }\n\n    .dataframe tbody tr th {\n        vertical-align: top;\n    }\n\n    .dataframe thead th {\n        text-align: right;\n    }\n</style>\n<table border=\"1\" class=\"dataframe\">\n  <thead>\n    <tr style=\"text-align: right;\">\n      <th></th>\n      <th>Date</th>\n      <th>Whole_Day</th>\n    </tr>\n  </thead>\n  <tbody>\n    <tr>\n      <td>0</td>\n      <td>09/14/2019</td>\n      <td>-0.085541</td>\n    </tr>\n    <tr>\n      <td>1</td>\n      <td>09/15/2019</td>\n      <td>-0.654896</td>\n    </tr>\n    <tr>\n      <td>2</td>\n      <td>09/16/2019</td>\n      <td>-0.199492</td>\n    </tr>\n    <tr>\n      <td>3</td>\n      <td>09/17/2019</td>\n      <td>-2.120828</td>\n    </tr>\n    <tr>\n      <td>4</td>\n      <td>09/20/2019</td>\n      <td>0.533685</td>\n    </tr>\n    <tr>\n      <td>5</td>\n      <td>09/21/2019</td>\n      <td>-0.165343</td>\n    </tr>\n    <tr>\n      <td>6</td>\n      <td>09/23/2019</td>\n      <td>-0.626753</td>\n    </tr>\n  </tbody>\n</table>\n</div>"
     },
     "metadata": {},
     "execution_count": 114
    }
   ],
   "source": [
    "whole_day_df = pd.DataFrame.from_dict(whole_day_scores, orient=\"index\", columns=[\"Whole_Day\"])\n",
    "whole_day_df = whole_day_df.reset_index()\n",
    "whole_day_df.columns = [\"Date\", \"Whole_Day\"]\n",
    "whole_day_df"
   ]
  },
  {
   "cell_type": "code",
   "execution_count": 115,
   "metadata": {},
   "outputs": [],
   "source": [
    "date_timezone_groups = df.groupby([\"instance_date\", \"time_zone\"])\n",
    "date_timezone_pairs = list(date_timezone_groups.groups.keys())"
   ]
  },
  {
   "cell_type": "code",
   "execution_count": 116,
   "metadata": {},
   "outputs": [],
   "source": [
    "date_timezone_scores = {}\n",
    "overall_scores = {}\n",
    "instance_counts = {}\n",
    "\n",
    "for pair in date_timezone_pairs:\n",
    "    date, timezone = pair\n",
    "    temp_df = date_timezone_groups.get_group(pair)\n",
    "    overall_score, list_scores, no_of_instances = calculate_score(temp_df)\n",
    "    # calculate_score() is defined in library.scoreCalculatorLibrary.py\n",
    "    date_timezone_scores[pair] = list_scores\n",
    "    overall_scores[pair] = overall_score\n",
    "    instance_counts[pair] = no_of_instances"
   ]
  },
  {
   "cell_type": "code",
   "execution_count": 117,
   "metadata": {
    "scrolled": true
   },
   "outputs": [
    {
     "output_type": "execute_result",
     "data": {
      "text/plain": [
       "         Date Early_Morning   Morning  Afternoon  Evening  Whole_Day       Day\n",
       "0  09/14/2019            NA -0.596332   0.447214       NA  -0.085541  Saturday\n",
       "1  09/15/2019            NA        NA  -1.344805        0  -0.654896    Sunday\n",
       "2  09/16/2019            NA -0.740045   0.000000        1  -0.199492    Monday\n",
       "3  09/17/2019            NA  -1.94145  -1.146641       NA  -2.120828   Tuesday\n",
       "4  09/20/2019            NA        NA   0.442955  0.33637   0.533685    Friday\n",
       "5  09/21/2019            NA  0.335791  -0.001245  -0.6341  -0.165343  Saturday\n",
       "6  09/23/2019            NA -0.534522  -0.471900        0  -0.626753    Monday"
      ],
      "text/html": "<div>\n<style scoped>\n    .dataframe tbody tr th:only-of-type {\n        vertical-align: middle;\n    }\n\n    .dataframe tbody tr th {\n        vertical-align: top;\n    }\n\n    .dataframe thead th {\n        text-align: right;\n    }\n</style>\n<table border=\"1\" class=\"dataframe\">\n  <thead>\n    <tr style=\"text-align: right;\">\n      <th></th>\n      <th>Date</th>\n      <th>Early_Morning</th>\n      <th>Morning</th>\n      <th>Afternoon</th>\n      <th>Evening</th>\n      <th>Whole_Day</th>\n      <th>Day</th>\n    </tr>\n  </thead>\n  <tbody>\n    <tr>\n      <td>0</td>\n      <td>09/14/2019</td>\n      <td>NA</td>\n      <td>-0.596332</td>\n      <td>0.447214</td>\n      <td>NA</td>\n      <td>-0.085541</td>\n      <td>Saturday</td>\n    </tr>\n    <tr>\n      <td>1</td>\n      <td>09/15/2019</td>\n      <td>NA</td>\n      <td>NA</td>\n      <td>-1.344805</td>\n      <td>0</td>\n      <td>-0.654896</td>\n      <td>Sunday</td>\n    </tr>\n    <tr>\n      <td>2</td>\n      <td>09/16/2019</td>\n      <td>NA</td>\n      <td>-0.740045</td>\n      <td>0.000000</td>\n      <td>1</td>\n      <td>-0.199492</td>\n      <td>Monday</td>\n    </tr>\n    <tr>\n      <td>3</td>\n      <td>09/17/2019</td>\n      <td>NA</td>\n      <td>-1.94145</td>\n      <td>-1.146641</td>\n      <td>NA</td>\n      <td>-2.120828</td>\n      <td>Tuesday</td>\n    </tr>\n    <tr>\n      <td>4</td>\n      <td>09/20/2019</td>\n      <td>NA</td>\n      <td>NA</td>\n      <td>0.442955</td>\n      <td>0.33637</td>\n      <td>0.533685</td>\n      <td>Friday</td>\n    </tr>\n    <tr>\n      <td>5</td>\n      <td>09/21/2019</td>\n      <td>NA</td>\n      <td>0.335791</td>\n      <td>-0.001245</td>\n      <td>-0.6341</td>\n      <td>-0.165343</td>\n      <td>Saturday</td>\n    </tr>\n    <tr>\n      <td>6</td>\n      <td>09/23/2019</td>\n      <td>NA</td>\n      <td>-0.534522</td>\n      <td>-0.471900</td>\n      <td>0</td>\n      <td>-0.626753</td>\n      <td>Monday</td>\n    </tr>\n  </tbody>\n</table>\n</div>"
     },
     "metadata": {},
     "execution_count": 117
    }
   ],
   "source": [
    "dates = {}\n",
    "for key in overall_scores:\n",
    "    date, timezone = key\n",
    "    dates[date] = dates.get(date, []) + [timezone]\n",
    "\n",
    "result_dict = {}\n",
    "result_dict[\"Date\"] = list(dates.keys())\n",
    "for timezone in time_zones:\n",
    "    result_dict[timezone] = []\n",
    "    \n",
    "for date in dates:\n",
    "    for timezone in time_zones:\n",
    "        result_dict[timezone].append(overall_scores.get((date, timezone), \"NA\"))\n",
    "\n",
    "\n",
    "result = pd.DataFrame.from_dict(result_dict)\n",
    "result = result.merge(whole_day_df)\n",
    "result[\"Day\"] = result[\"Date\"].apply(lambda x: get_day_of_week(x))\n",
    "result"
   ]
  },
  {
   "cell_type": "code",
   "execution_count": 118,
   "metadata": {},
   "outputs": [],
   "source": [
    "result.to_csv(os.path.join(log_dir, timezone_analysis_name, score_timezone_analysis_output), index=False)"
   ]
  },
  {
   "cell_type": "code",
   "execution_count": null,
   "metadata": {},
   "outputs": [],
   "source": []
  },
  {
   "cell_type": "markdown",
   "metadata": {},
   "source": [
    "## Welch T"
   ]
  },
  {
   "cell_type": "code",
   "execution_count": 119,
   "metadata": {},
   "outputs": [],
   "source": [
    "def form_welch_df(instance_scores, need_day = True):\n",
    "    '''\n",
    "    @param instance_scores: a dictionary of format '{date: [instance_score_1, instance_score_2, ...]}'\n",
    "    \n",
    "    @return: a pandas.DataFrame() object with columns '['Pair', 't_test_stat', 'p_value', 'Day']'\n",
    "    '''\n",
    "    welch_dict = welch_t(form_pairs_with_scores(instance_scores)) \n",
    "    # welch_t() and form_pairs_with_scores() is defined in library.correlationsAndTtestLib.py\n",
    "    df = pd.DataFrame(columns=[\"Pair\", \"t_test_stat\", \"p_value\"])\n",
    "    df[\"Pair\"] = list(welch_dict.keys())\n",
    "    df[\"t_test_stat\"] = [val[0] for val in welch_dict.values()]\n",
    "    df[\"p_value\"] = [val[1] for val in welch_dict.values()]\n",
    "    if need_day:\n",
    "        df[\"Day\"] = df['Pair'].apply(lambda x: (get_day_of_week(x[0]), get_day_of_week(x[1])))\n",
    "    return df\n",
    "\n",
    "\n",
    "def form_timezone_instance_scores(timezone):\n",
    "    '''\n",
    "    @param timezone: any value from [\"Early_Morning\", \"Morning\", \"Afternoon\", \"Evening\"]\n",
    "    \n",
    "    @return: a dictionary of format \"{date: [instance_score_1, instance_score_2, ...]}\",\n",
    "                 where each date is from common_timezone_dates of corressponding \"timezone\" param.\n",
    "    '''\n",
    "    dates = common_timezone_dates[timezone]\n",
    "    instance_scores = {}\n",
    "    for date in dates:\n",
    "        key = (date, timezone)\n",
    "        array1 = date_timezone_scores[key]\n",
    "        \n",
    "        assert len(array1) == instance_counts[key], f\"Wrong length for {key}. Actual:{len(array1)} \\\n",
    "        Expected: {instance_counts[key]}\"\n",
    "        \n",
    "        instance_scores[date] = array1\n",
    "    return instance_scores"
   ]
  },
  {
   "cell_type": "markdown",
   "metadata": {},
   "source": [
    "### 1. Inter dates common time zone"
   ]
  },
  {
   "cell_type": "code",
   "execution_count": 120,
   "metadata": {},
   "outputs": [],
   "source": [
    "common_timezone_dates = {}\n",
    "for timezone in time_zones:\n",
    "    for key in date_timezone_pairs:\n",
    "        if timezone in key:\n",
    "            common_timezone_dates[timezone] = common_timezone_dates.get(timezone, []) + [key[0]]\n",
    "# common_timezone_dates"
   ]
  },
  {
   "cell_type": "code",
   "execution_count": 121,
   "metadata": {},
   "outputs": [],
   "source": [
    "morning_instance_scores = form_timezone_instance_scores('Morning')\n",
    "afternoon_instance_scores = form_timezone_instance_scores('Afternoon')\n",
    "evening_instance_scores = form_timezone_instance_scores('Evening')"
   ]
  },
  {
   "cell_type": "code",
   "execution_count": 122,
   "metadata": {},
   "outputs": [
    {
     "output_type": "execute_result",
     "data": {
      "text/plain": [
       "                       Pair  t_test_stat   p_value                   Day\n",
       "0  (09/14/2019, 09/16/2019)    -0.031530  0.977939    (Saturday, Monday)\n",
       "1  (09/14/2019, 09/17/2019)     0.537876  0.674582   (Saturday, Tuesday)\n",
       "2  (09/14/2019, 09/21/2019)    -0.533685  0.638523  (Saturday, Saturday)\n",
       "3  (09/14/2019, 09/23/2019)    -0.147831  0.897509    (Saturday, Monday)\n",
       "4  (09/16/2019, 09/17/2019)     0.849656  0.460634     (Monday, Tuesday)\n",
       "5  (09/16/2019, 09/21/2019)    -0.618866  0.572514    (Monday, Saturday)\n",
       "6  (09/16/2019, 09/23/2019)    -0.154037  0.883533      (Monday, Monday)\n",
       "7  (09/17/2019, 09/21/2019)    -1.369816  0.282676   (Tuesday, Saturday)\n",
       "8  (09/17/2019, 09/23/2019)    -1.104315  0.312925     (Tuesday, Monday)\n",
       "9  (09/21/2019, 09/23/2019)     0.507199  0.639738    (Saturday, Monday)"
      ],
      "text/html": "<div>\n<style scoped>\n    .dataframe tbody tr th:only-of-type {\n        vertical-align: middle;\n    }\n\n    .dataframe tbody tr th {\n        vertical-align: top;\n    }\n\n    .dataframe thead th {\n        text-align: right;\n    }\n</style>\n<table border=\"1\" class=\"dataframe\">\n  <thead>\n    <tr style=\"text-align: right;\">\n      <th></th>\n      <th>Pair</th>\n      <th>t_test_stat</th>\n      <th>p_value</th>\n      <th>Day</th>\n    </tr>\n  </thead>\n  <tbody>\n    <tr>\n      <td>0</td>\n      <td>(09/14/2019, 09/16/2019)</td>\n      <td>-0.031530</td>\n      <td>0.977939</td>\n      <td>(Saturday, Monday)</td>\n    </tr>\n    <tr>\n      <td>1</td>\n      <td>(09/14/2019, 09/17/2019)</td>\n      <td>0.537876</td>\n      <td>0.674582</td>\n      <td>(Saturday, Tuesday)</td>\n    </tr>\n    <tr>\n      <td>2</td>\n      <td>(09/14/2019, 09/21/2019)</td>\n      <td>-0.533685</td>\n      <td>0.638523</td>\n      <td>(Saturday, Saturday)</td>\n    </tr>\n    <tr>\n      <td>3</td>\n      <td>(09/14/2019, 09/23/2019)</td>\n      <td>-0.147831</td>\n      <td>0.897509</td>\n      <td>(Saturday, Monday)</td>\n    </tr>\n    <tr>\n      <td>4</td>\n      <td>(09/16/2019, 09/17/2019)</td>\n      <td>0.849656</td>\n      <td>0.460634</td>\n      <td>(Monday, Tuesday)</td>\n    </tr>\n    <tr>\n      <td>5</td>\n      <td>(09/16/2019, 09/21/2019)</td>\n      <td>-0.618866</td>\n      <td>0.572514</td>\n      <td>(Monday, Saturday)</td>\n    </tr>\n    <tr>\n      <td>6</td>\n      <td>(09/16/2019, 09/23/2019)</td>\n      <td>-0.154037</td>\n      <td>0.883533</td>\n      <td>(Monday, Monday)</td>\n    </tr>\n    <tr>\n      <td>7</td>\n      <td>(09/17/2019, 09/21/2019)</td>\n      <td>-1.369816</td>\n      <td>0.282676</td>\n      <td>(Tuesday, Saturday)</td>\n    </tr>\n    <tr>\n      <td>8</td>\n      <td>(09/17/2019, 09/23/2019)</td>\n      <td>-1.104315</td>\n      <td>0.312925</td>\n      <td>(Tuesday, Monday)</td>\n    </tr>\n    <tr>\n      <td>9</td>\n      <td>(09/21/2019, 09/23/2019)</td>\n      <td>0.507199</td>\n      <td>0.639738</td>\n      <td>(Saturday, Monday)</td>\n    </tr>\n  </tbody>\n</table>\n</div>"
     },
     "metadata": {},
     "execution_count": 122
    }
   ],
   "source": [
    "morning_welch_df = form_welch_df(morning_instance_scores)\n",
    "morning_welch_df"
   ]
  },
  {
   "cell_type": "code",
   "execution_count": 123,
   "metadata": {},
   "outputs": [
    {
     "output_type": "execute_result",
     "data": {
      "text/plain": [
       "                        Pair  t_test_stat   p_value                   Day\n",
       "0   (09/14/2019, 09/15/2019)     1.272852  0.394723    (Saturday, Sunday)\n",
       "1   (09/14/2019, 09/16/2019)     0.200000  0.861242    (Saturday, Monday)\n",
       "2   (09/14/2019, 09/17/2019)     0.750397  0.561952   (Saturday, Tuesday)\n",
       "3   (09/14/2019, 09/20/2019)     0.001870  0.998678    (Saturday, Friday)\n",
       "4   (09/14/2019, 09/21/2019)     0.291631  0.802567  (Saturday, Saturday)\n",
       "5   (09/14/2019, 09/23/2019)     0.497809  0.677709    (Saturday, Monday)\n",
       "6   (09/15/2019, 09/16/2019)    -0.732726  0.586458      (Sunday, Monday)\n",
       "7   (09/15/2019, 09/17/2019)    -1.019052  0.358822     (Sunday, Tuesday)\n",
       "8   (09/15/2019, 09/20/2019)    -1.267304  0.396288      (Sunday, Friday)\n",
       "9   (09/15/2019, 09/21/2019)    -1.554124  0.182004    (Sunday, Saturday)\n",
       "10  (09/15/2019, 09/23/2019)    -1.232890  0.274066      (Sunday, Monday)\n",
       "11  (09/16/2019, 09/17/2019)     0.341666  0.783050     (Monday, Tuesday)\n",
       "12  (09/16/2019, 09/20/2019)    -0.198222  0.862430      (Monday, Friday)\n",
       "13  (09/16/2019, 09/21/2019)     0.000430  0.999711    (Monday, Saturday)\n",
       "14  (09/16/2019, 09/23/2019)     0.161096  0.892859      (Monday, Monday)\n",
       "15  (09/17/2019, 09/20/2019)    -0.746243  0.563930     (Tuesday, Friday)\n",
       "16  (09/17/2019, 09/21/2019)    -0.690054  0.510027   (Tuesday, Saturday)\n",
       "17  (09/17/2019, 09/23/2019)    -0.364189  0.725047     (Tuesday, Monday)\n",
       "18  (09/20/2019, 09/21/2019)     0.288735  0.804506    (Friday, Saturday)\n",
       "19  (09/20/2019, 09/23/2019)     0.494458  0.679735      (Friday, Monday)\n",
       "20  (09/21/2019, 09/23/2019)     0.298382  0.773027    (Saturday, Monday)"
      ],
      "text/html": "<div>\n<style scoped>\n    .dataframe tbody tr th:only-of-type {\n        vertical-align: middle;\n    }\n\n    .dataframe tbody tr th {\n        vertical-align: top;\n    }\n\n    .dataframe thead th {\n        text-align: right;\n    }\n</style>\n<table border=\"1\" class=\"dataframe\">\n  <thead>\n    <tr style=\"text-align: right;\">\n      <th></th>\n      <th>Pair</th>\n      <th>t_test_stat</th>\n      <th>p_value</th>\n      <th>Day</th>\n    </tr>\n  </thead>\n  <tbody>\n    <tr>\n      <td>0</td>\n      <td>(09/14/2019, 09/15/2019)</td>\n      <td>1.272852</td>\n      <td>0.394723</td>\n      <td>(Saturday, Sunday)</td>\n    </tr>\n    <tr>\n      <td>1</td>\n      <td>(09/14/2019, 09/16/2019)</td>\n      <td>0.200000</td>\n      <td>0.861242</td>\n      <td>(Saturday, Monday)</td>\n    </tr>\n    <tr>\n      <td>2</td>\n      <td>(09/14/2019, 09/17/2019)</td>\n      <td>0.750397</td>\n      <td>0.561952</td>\n      <td>(Saturday, Tuesday)</td>\n    </tr>\n    <tr>\n      <td>3</td>\n      <td>(09/14/2019, 09/20/2019)</td>\n      <td>0.001870</td>\n      <td>0.998678</td>\n      <td>(Saturday, Friday)</td>\n    </tr>\n    <tr>\n      <td>4</td>\n      <td>(09/14/2019, 09/21/2019)</td>\n      <td>0.291631</td>\n      <td>0.802567</td>\n      <td>(Saturday, Saturday)</td>\n    </tr>\n    <tr>\n      <td>5</td>\n      <td>(09/14/2019, 09/23/2019)</td>\n      <td>0.497809</td>\n      <td>0.677709</td>\n      <td>(Saturday, Monday)</td>\n    </tr>\n    <tr>\n      <td>6</td>\n      <td>(09/15/2019, 09/16/2019)</td>\n      <td>-0.732726</td>\n      <td>0.586458</td>\n      <td>(Sunday, Monday)</td>\n    </tr>\n    <tr>\n      <td>7</td>\n      <td>(09/15/2019, 09/17/2019)</td>\n      <td>-1.019052</td>\n      <td>0.358822</td>\n      <td>(Sunday, Tuesday)</td>\n    </tr>\n    <tr>\n      <td>8</td>\n      <td>(09/15/2019, 09/20/2019)</td>\n      <td>-1.267304</td>\n      <td>0.396288</td>\n      <td>(Sunday, Friday)</td>\n    </tr>\n    <tr>\n      <td>9</td>\n      <td>(09/15/2019, 09/21/2019)</td>\n      <td>-1.554124</td>\n      <td>0.182004</td>\n      <td>(Sunday, Saturday)</td>\n    </tr>\n    <tr>\n      <td>10</td>\n      <td>(09/15/2019, 09/23/2019)</td>\n      <td>-1.232890</td>\n      <td>0.274066</td>\n      <td>(Sunday, Monday)</td>\n    </tr>\n    <tr>\n      <td>11</td>\n      <td>(09/16/2019, 09/17/2019)</td>\n      <td>0.341666</td>\n      <td>0.783050</td>\n      <td>(Monday, Tuesday)</td>\n    </tr>\n    <tr>\n      <td>12</td>\n      <td>(09/16/2019, 09/20/2019)</td>\n      <td>-0.198222</td>\n      <td>0.862430</td>\n      <td>(Monday, Friday)</td>\n    </tr>\n    <tr>\n      <td>13</td>\n      <td>(09/16/2019, 09/21/2019)</td>\n      <td>0.000430</td>\n      <td>0.999711</td>\n      <td>(Monday, Saturday)</td>\n    </tr>\n    <tr>\n      <td>14</td>\n      <td>(09/16/2019, 09/23/2019)</td>\n      <td>0.161096</td>\n      <td>0.892859</td>\n      <td>(Monday, Monday)</td>\n    </tr>\n    <tr>\n      <td>15</td>\n      <td>(09/17/2019, 09/20/2019)</td>\n      <td>-0.746243</td>\n      <td>0.563930</td>\n      <td>(Tuesday, Friday)</td>\n    </tr>\n    <tr>\n      <td>16</td>\n      <td>(09/17/2019, 09/21/2019)</td>\n      <td>-0.690054</td>\n      <td>0.510027</td>\n      <td>(Tuesday, Saturday)</td>\n    </tr>\n    <tr>\n      <td>17</td>\n      <td>(09/17/2019, 09/23/2019)</td>\n      <td>-0.364189</td>\n      <td>0.725047</td>\n      <td>(Tuesday, Monday)</td>\n    </tr>\n    <tr>\n      <td>18</td>\n      <td>(09/20/2019, 09/21/2019)</td>\n      <td>0.288735</td>\n      <td>0.804506</td>\n      <td>(Friday, Saturday)</td>\n    </tr>\n    <tr>\n      <td>19</td>\n      <td>(09/20/2019, 09/23/2019)</td>\n      <td>0.494458</td>\n      <td>0.679735</td>\n      <td>(Friday, Monday)</td>\n    </tr>\n    <tr>\n      <td>20</td>\n      <td>(09/21/2019, 09/23/2019)</td>\n      <td>0.298382</td>\n      <td>0.773027</td>\n      <td>(Saturday, Monday)</td>\n    </tr>\n  </tbody>\n</table>\n</div>"
     },
     "metadata": {},
     "execution_count": 123
    }
   ],
   "source": [
    "afternoon_welch_df = form_welch_df(afternoon_instance_scores)\n",
    "afternoon_welch_df"
   ]
  },
  {
   "cell_type": "code",
   "execution_count": 124,
   "metadata": {},
   "outputs": [
    {
     "output_type": "execute_result",
     "data": {
      "text/plain": [
       "                       Pair  t_test_stat   p_value                 Day\n",
       "0  (09/15/2019, 09/16/2019)          NaN       NaN    (Sunday, Monday)\n",
       "1  (09/15/2019, 09/20/2019)    -0.201970  0.848363    (Sunday, Friday)\n",
       "2  (09/15/2019, 09/21/2019)     0.347492  0.740984  (Sunday, Saturday)\n",
       "3  (09/15/2019, 09/23/2019)     0.000000  1.000000    (Sunday, Monday)\n",
       "4  (09/16/2019, 09/20/2019)          NaN       NaN    (Monday, Friday)\n",
       "5  (09/16/2019, 09/21/2019)          NaN       NaN  (Monday, Saturday)\n",
       "6  (09/16/2019, 09/23/2019)          NaN       NaN    (Monday, Monday)\n",
       "7  (09/20/2019, 09/21/2019)     0.565587  0.602538  (Friday, Saturday)\n",
       "8  (09/20/2019, 09/23/2019)     0.201970  0.849812    (Friday, Monday)\n",
       "9  (09/21/2019, 09/23/2019)    -0.347492  0.745598  (Saturday, Monday)"
      ],
      "text/html": "<div>\n<style scoped>\n    .dataframe tbody tr th:only-of-type {\n        vertical-align: middle;\n    }\n\n    .dataframe tbody tr th {\n        vertical-align: top;\n    }\n\n    .dataframe thead th {\n        text-align: right;\n    }\n</style>\n<table border=\"1\" class=\"dataframe\">\n  <thead>\n    <tr style=\"text-align: right;\">\n      <th></th>\n      <th>Pair</th>\n      <th>t_test_stat</th>\n      <th>p_value</th>\n      <th>Day</th>\n    </tr>\n  </thead>\n  <tbody>\n    <tr>\n      <td>0</td>\n      <td>(09/15/2019, 09/16/2019)</td>\n      <td>NaN</td>\n      <td>NaN</td>\n      <td>(Sunday, Monday)</td>\n    </tr>\n    <tr>\n      <td>1</td>\n      <td>(09/15/2019, 09/20/2019)</td>\n      <td>-0.201970</td>\n      <td>0.848363</td>\n      <td>(Sunday, Friday)</td>\n    </tr>\n    <tr>\n      <td>2</td>\n      <td>(09/15/2019, 09/21/2019)</td>\n      <td>0.347492</td>\n      <td>0.740984</td>\n      <td>(Sunday, Saturday)</td>\n    </tr>\n    <tr>\n      <td>3</td>\n      <td>(09/15/2019, 09/23/2019)</td>\n      <td>0.000000</td>\n      <td>1.000000</td>\n      <td>(Sunday, Monday)</td>\n    </tr>\n    <tr>\n      <td>4</td>\n      <td>(09/16/2019, 09/20/2019)</td>\n      <td>NaN</td>\n      <td>NaN</td>\n      <td>(Monday, Friday)</td>\n    </tr>\n    <tr>\n      <td>5</td>\n      <td>(09/16/2019, 09/21/2019)</td>\n      <td>NaN</td>\n      <td>NaN</td>\n      <td>(Monday, Saturday)</td>\n    </tr>\n    <tr>\n      <td>6</td>\n      <td>(09/16/2019, 09/23/2019)</td>\n      <td>NaN</td>\n      <td>NaN</td>\n      <td>(Monday, Monday)</td>\n    </tr>\n    <tr>\n      <td>7</td>\n      <td>(09/20/2019, 09/21/2019)</td>\n      <td>0.565587</td>\n      <td>0.602538</td>\n      <td>(Friday, Saturday)</td>\n    </tr>\n    <tr>\n      <td>8</td>\n      <td>(09/20/2019, 09/23/2019)</td>\n      <td>0.201970</td>\n      <td>0.849812</td>\n      <td>(Friday, Monday)</td>\n    </tr>\n    <tr>\n      <td>9</td>\n      <td>(09/21/2019, 09/23/2019)</td>\n      <td>-0.347492</td>\n      <td>0.745598</td>\n      <td>(Saturday, Monday)</td>\n    </tr>\n  </tbody>\n</table>\n</div>"
     },
     "metadata": {},
     "execution_count": 124
    }
   ],
   "source": [
    "evening_welch_df = form_welch_df(evening_instance_scores)\n",
    "evening_welch_df"
   ]
  },
  {
   "cell_type": "code",
   "execution_count": null,
   "metadata": {},
   "outputs": [],
   "source": []
  },
  {
   "cell_type": "code",
   "execution_count": null,
   "metadata": {},
   "outputs": [],
   "source": []
  },
  {
   "cell_type": "markdown",
   "metadata": {},
   "source": [
    "### 2. Inter time zone common dates"
   ]
  },
  {
   "cell_type": "code",
   "execution_count": 125,
   "metadata": {},
   "outputs": [
    {
     "output_type": "stream",
     "name": "stdout",
     "text": [
      "For 09/14/2019, Saturday\n                   Pair  t_test_stat   p_value\n0  (Morning, Afternoon)    -0.559529  0.632537\n\nFor 09/15/2019, Sunday\n                   Pair  t_test_stat   p_value\n0  (Afternoon, Evening)    -1.202592  0.298513\n\nFor 09/16/2019, Monday\n                   Pair  t_test_stat   p_value\n0  (Morning, Afternoon)    -0.267477  0.823291\n1    (Morning, Evening)          NaN       NaN\n2  (Afternoon, Evening)          NaN       NaN\n\nFor 09/17/2019, Tuesday\n                   Pair  t_test_stat   p_value\n0  (Morning, Afternoon)    -0.944556  0.367991\n\nFor 09/20/2019, Friday\n                   Pair  t_test_stat   p_value\n0  (Afternoon, Evening)     0.082705  0.940916\n\nFor 09/21/2019, Saturday\n                   Pair  t_test_stat   p_value\n0  (Morning, Afternoon)     0.230028  0.829507\n1    (Morning, Evening)     0.565203  0.602771\n2  (Afternoon, Evening)     0.415660  0.690494\n\nFor 09/23/2019, Monday\n                   Pair  t_test_stat   p_value\n0  (Morning, Afternoon)    -0.046133  0.964335\n1    (Morning, Evening)    -0.283315  0.791053\n2  (Afternoon, Evening)    -0.246784  0.817380\n\n"
     ]
    }
   ],
   "source": [
    "for i, row in result.iterrows():\n",
    "    print(f\"For {row['Date']}, {row['Day']}\")\n",
    "    day_instance_scores = {}\n",
    "    for timezone in time_zones:\n",
    "        if row[timezone] != 'NA' and timezone != 'Early_Morning':\n",
    "            if timezone == 'Morning':\n",
    "                temp = morning_instance_scores.get(row['Date'], 0)\n",
    "            elif timezone == 'Afternoon':\n",
    "                temp = afternoon_instance_scores.get(row['Date'], 0)\n",
    "            elif timezone == 'Evening':\n",
    "                temp = evening_instance_scores.get(row['Date'], 0)\n",
    "            if temp != 0:\n",
    "                day_instance_scores[timezone] = temp\n",
    "#     print(day_instance_scores)\n",
    "    day_welch_df = form_welch_df(day_instance_scores, False)\n",
    "    print(day_welch_df, end='\\n\\n')"
   ]
  },
  {
   "cell_type": "code",
   "execution_count": 126,
   "metadata": {},
   "outputs": [],
   "source": [
    "# time_zones"
   ]
  },
  {
   "cell_type": "markdown",
   "metadata": {},
   "source": [
    "### 3. Across dates accross timezones"
   ]
  },
  {
   "cell_type": "code",
   "execution_count": 127,
   "metadata": {},
   "outputs": [
    {
     "output_type": "stream",
     "name": "stdout",
     "text": [
      "136\n"
     ]
    }
   ],
   "source": [
    "all_across_date_across_timezone_pairs = set(itertools.combinations(date_timezone_scores.keys(), 2))\n",
    "print(len(all_across_date_across_timezone_pairs))"
   ]
  },
  {
   "cell_type": "code",
   "execution_count": 128,
   "metadata": {},
   "outputs": [
    {
     "output_type": "stream",
     "name": "stdout",
     "text": [
      "41\n"
     ]
    }
   ],
   "source": [
    "inter_date_cross_timezone_pairs = set() # different date same timezone\n",
    "\n",
    "# Adding inter date cross 'Morning' pairs to the set\n",
    "for pair in morning_welch_df['Pair']:\n",
    "    date1, date2 = pair\n",
    "    inter_date_cross_timezone_pairs.add(((date1, 'Morning'), (date2, 'Morning')))\n",
    "\n",
    "# Adding inter date cross 'Afternoon' pairs to the set\n",
    "for pair in afternoon_welch_df['Pair']:\n",
    "    date1, date2 = pair\n",
    "    inter_date_cross_timezone_pairs.add(((date1, 'Afternoon'), (date2, 'Afternoon')))\n",
    "\n",
    "    \n",
    "# Adding inter date cross 'Evening' pairs to the set\n",
    "for pair in evening_welch_df['Pair']:\n",
    "    date1, date2 = pair\n",
    "    inter_date_cross_timezone_pairs.add(((date1, 'Evening'), (date2, 'Evening')))\n",
    "    \n",
    "print(len(inter_date_cross_timezone_pairs))"
   ]
  },
  {
   "cell_type": "code",
   "execution_count": 129,
   "metadata": {},
   "outputs": [
    {
     "output_type": "stream",
     "name": "stdout",
     "text": [
      "13\n"
     ]
    }
   ],
   "source": [
    "intra_date_cross_timezone = set() # same date different timezone\n",
    "\n",
    "for pair in all_across_date_across_timezone_pairs:\n",
    "    if pair[0][0] == pair[1][0]: # both tuples have same date\n",
    "        intra_date_cross_timezone.add(pair)\n",
    "        \n",
    "print(len(intra_date_cross_timezone))"
   ]
  },
  {
   "cell_type": "code",
   "execution_count": 130,
   "metadata": {},
   "outputs": [
    {
     "output_type": "execute_result",
     "data": {
      "text/plain": [
       "82"
      ]
     },
     "metadata": {},
     "execution_count": 130
    }
   ],
   "source": [
    "\"\"\"\n",
    "If Set_whole = Set_A + Set_B + Set_C,\n",
    "then, Set_C = Set_whole - Set_A - Set_B\n",
    "\"\"\"\n",
    "\n",
    "across_date_across_timezone_pairs = all_across_date_across_timezone_pairs \\\n",
    "                                    - intra_date_cross_timezone \\\n",
    "                                    - inter_date_cross_timezone_pairs\n",
    "\n",
    "len(across_date_across_timezone_pairs)"
   ]
  },
  {
   "cell_type": "code",
   "execution_count": 131,
   "metadata": {},
   "outputs": [],
   "source": [
    "across_date_across_timezone_instance_scores = {}\n",
    "for pair in across_date_across_timezone_pairs:\n",
    "    across_date_across_timezone_instance_scores[pair] = (date_timezone_scores[pair[0]], date_timezone_scores[pair[1]])"
   ]
  },
  {
   "cell_type": "code",
   "execution_count": 132,
   "metadata": {},
   "outputs": [],
   "source": [
    "across_date_across_timezone_welch = welch_t(across_date_across_timezone_instance_scores)\n",
    "\n",
    "across_date_across_timezone_welch_df = pd.DataFrame(columns=[\"Pair\", \"t_test_stat\", \"p_value\"])\n",
    "across_date_across_timezone_welch_df[\"Pair\"] = list(across_date_across_timezone_welch.keys())\n",
    "across_date_across_timezone_welch_df[\"t_test_stat\"] = [val[0] for val in across_date_across_timezone_welch.values()]\n",
    "across_date_across_timezone_welch_df[\"p_value\"] = [val[1] for val in across_date_across_timezone_welch.values()]\n",
    "across_date_across_timezone_welch_df['Day'] = across_date_across_timezone_welch_df[\"Pair\"].apply(\\\n",
    "                                                        lambda x: (get_day_of_week(x[0][0]),\\\n",
    "                                                                   get_day_of_week(x[1][0])))"
   ]
  },
  {
   "cell_type": "code",
   "execution_count": 133,
   "metadata": {},
   "outputs": [
    {
     "output_type": "execute_result",
     "data": {
      "text/plain": [
       "                                                Pair  t_test_stat   p_value  \\\n",
       "0   ((09/14/2019, Morning), (09/23/2019, Afternoon))    -0.181505  0.874671   \n",
       "1   ((09/15/2019, Evening), (09/20/2019, Afternoon))    -0.261602  0.815538   \n",
       "2   ((09/20/2019, Evening), (09/23/2019, Afternoon))     0.472750  0.662209   \n",
       "3   ((09/14/2019, Morning), (09/21/2019, Afternoon))    -0.395877  0.733564   \n",
       "4   ((09/15/2019, Evening), (09/16/2019, Afternoon))     0.000000  1.000000   \n",
       "..                                               ...          ...       ...   \n",
       "77    ((09/17/2019, Morning), (09/20/2019, Evening))    -1.370144  0.282593   \n",
       "78    ((09/16/2019, Evening), (09/17/2019, Morning))          NaN       NaN   \n",
       "79    ((09/17/2019, Morning), (09/23/2019, Evening))    -1.145644  0.350019   \n",
       "80    ((09/16/2019, Morning), (09/20/2019, Evening))    -0.619243  0.572294   \n",
       "81  ((09/15/2019, Afternoon), (09/17/2019, Morning))    -0.172063  0.876377   \n",
       "\n",
       "                     Day  \n",
       "0     (Saturday, Monday)  \n",
       "1       (Sunday, Friday)  \n",
       "2       (Friday, Monday)  \n",
       "3   (Saturday, Saturday)  \n",
       "4       (Sunday, Monday)  \n",
       "..                   ...  \n",
       "77     (Tuesday, Friday)  \n",
       "78     (Monday, Tuesday)  \n",
       "79     (Tuesday, Monday)  \n",
       "80      (Monday, Friday)  \n",
       "81     (Sunday, Tuesday)  \n",
       "\n",
       "[82 rows x 4 columns]"
      ],
      "text/html": "<div>\n<style scoped>\n    .dataframe tbody tr th:only-of-type {\n        vertical-align: middle;\n    }\n\n    .dataframe tbody tr th {\n        vertical-align: top;\n    }\n\n    .dataframe thead th {\n        text-align: right;\n    }\n</style>\n<table border=\"1\" class=\"dataframe\">\n  <thead>\n    <tr style=\"text-align: right;\">\n      <th></th>\n      <th>Pair</th>\n      <th>t_test_stat</th>\n      <th>p_value</th>\n      <th>Day</th>\n    </tr>\n  </thead>\n  <tbody>\n    <tr>\n      <td>0</td>\n      <td>((09/14/2019, Morning), (09/23/2019, Afternoon))</td>\n      <td>-0.181505</td>\n      <td>0.874671</td>\n      <td>(Saturday, Monday)</td>\n    </tr>\n    <tr>\n      <td>1</td>\n      <td>((09/15/2019, Evening), (09/20/2019, Afternoon))</td>\n      <td>-0.261602</td>\n      <td>0.815538</td>\n      <td>(Sunday, Friday)</td>\n    </tr>\n    <tr>\n      <td>2</td>\n      <td>((09/20/2019, Evening), (09/23/2019, Afternoon))</td>\n      <td>0.472750</td>\n      <td>0.662209</td>\n      <td>(Friday, Monday)</td>\n    </tr>\n    <tr>\n      <td>3</td>\n      <td>((09/14/2019, Morning), (09/21/2019, Afternoon))</td>\n      <td>-0.395877</td>\n      <td>0.733564</td>\n      <td>(Saturday, Saturday)</td>\n    </tr>\n    <tr>\n      <td>4</td>\n      <td>((09/15/2019, Evening), (09/16/2019, Afternoon))</td>\n      <td>0.000000</td>\n      <td>1.000000</td>\n      <td>(Sunday, Monday)</td>\n    </tr>\n    <tr>\n      <td>...</td>\n      <td>...</td>\n      <td>...</td>\n      <td>...</td>\n      <td>...</td>\n    </tr>\n    <tr>\n      <td>77</td>\n      <td>((09/17/2019, Morning), (09/20/2019, Evening))</td>\n      <td>-1.370144</td>\n      <td>0.282593</td>\n      <td>(Tuesday, Friday)</td>\n    </tr>\n    <tr>\n      <td>78</td>\n      <td>((09/16/2019, Evening), (09/17/2019, Morning))</td>\n      <td>NaN</td>\n      <td>NaN</td>\n      <td>(Monday, Tuesday)</td>\n    </tr>\n    <tr>\n      <td>79</td>\n      <td>((09/17/2019, Morning), (09/23/2019, Evening))</td>\n      <td>-1.145644</td>\n      <td>0.350019</td>\n      <td>(Tuesday, Monday)</td>\n    </tr>\n    <tr>\n      <td>80</td>\n      <td>((09/16/2019, Morning), (09/20/2019, Evening))</td>\n      <td>-0.619243</td>\n      <td>0.572294</td>\n      <td>(Monday, Friday)</td>\n    </tr>\n    <tr>\n      <td>81</td>\n      <td>((09/15/2019, Afternoon), (09/17/2019, Morning))</td>\n      <td>-0.172063</td>\n      <td>0.876377</td>\n      <td>(Sunday, Tuesday)</td>\n    </tr>\n  </tbody>\n</table>\n<p>82 rows × 4 columns</p>\n</div>"
     },
     "metadata": {},
     "execution_count": 133
    }
   ],
   "source": [
    "across_date_across_timezone_welch_df.to_csv(os.path.join(log_dir,\\\n",
    "                                                         timezone_analysis_name,\\\n",
    "                                                         welch_output),\\\n",
    "                                           index=False)\n",
    "# change csv name\n",
    "\n",
    "across_date_across_timezone_welch_df"
   ]
  },
  {
   "cell_type": "code",
   "execution_count": null,
   "metadata": {},
   "outputs": [],
   "source": []
  },
  {
   "cell_type": "code",
   "execution_count": null,
   "metadata": {},
   "outputs": [],
   "source": []
  },
  {
   "cell_type": "code",
   "execution_count": null,
   "metadata": {},
   "outputs": [],
   "source": []
  },
  {
   "cell_type": "code",
   "execution_count": null,
   "metadata": {},
   "outputs": [],
   "source": []
  }
 ],
 "metadata": {
  "kernelspec": {
   "display_name": "Python 3",
   "language": "python",
   "name": "python3"
  },
  "language_info": {
   "codemirror_mode": {
    "name": "ipython",
    "version": 3
   },
   "file_extension": ".py",
   "mimetype": "text/x-python",
   "name": "python",
   "nbconvert_exporter": "python",
   "pygments_lexer": "ipython3",
   "version": "3.7.4-final"
  }
 },
 "nbformat": 4,
 "nbformat_minor": 4
}