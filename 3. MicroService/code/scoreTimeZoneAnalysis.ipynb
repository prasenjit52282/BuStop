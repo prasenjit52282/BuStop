{
 "cells": [
  {
   "cell_type": "code",
   "execution_count": 1,
   "metadata": {},
   "outputs": [],
   "source": [
    "import os\n",
    "import glob\n",
    "import pandas as pd\n",
    "import numpy as np\n",
    "import datetime\n",
    "import itertools\n",
    "from library.scoreCalculatorLibrary import calculate_score\n",
    "from library.correlationAndTtestLib import *"
   ]
  },
  {
   "cell_type": "code",
   "execution_count": 2,
   "metadata": {},
   "outputs": [],
   "source": [
    "def time_zone_cal(s):\n",
    "    '''\n",
    "    @param s: a string of format \"hh:mm:ss\"\n",
    "    \n",
    "    @return: a string denoting the timezone\n",
    "    '''\n",
    "    hour=int(s.split(':')[0])\n",
    "\n",
    "    if 6<hour<=9:\n",
    "        time_zone='Early_Morning'\n",
    "    elif 9<hour<=12:\n",
    "        time_zone='Morning'\n",
    "    elif 12<hour<=17:\n",
    "        time_zone='Afternoon'\n",
    "    elif 17<hour<=23:\n",
    "        time_zone='Evening'\n",
    "    return time_zone\n",
    "\n",
    "# converts hour:minute:seconds to seconds\n",
    "def time_as_int(timestr):\n",
    "    '''\n",
    "    @param timestr: a string of format \"hh:mm:ss\"\n",
    "    \n",
    "    @return: an integer denoting the time in seconds\n",
    "    '''\n",
    "    hh, mm, ss = timestr.split(\":\")\n",
    "    time_int = (int(hh)*3600)+(int(mm)*60)+int(ss)\n",
    "    return time_int\n",
    "\n",
    "def get_day_of_week(date_string, seperator=\"/\", date_format=\"mm/dd/yyyy\"):\n",
    "    '''\n",
    "    @param date_string: a string denoting a date\n",
    "    @param seperator (optional): a character which acts as seperator in the date_string. Default = \"/\"\n",
    "    @param date_format (optional): a string which denotes the format the date string is. Default = \"mm/dd/yyyy\"\n",
    "                                Supported values are : {\"dd/mm/yyyy\", \"mm/dd/yyyy\"}\n",
    "    \n",
    "    @return: a string denoting the day of week corressponding to the date denoted by date_string\n",
    "    '''\n",
    "    date_format_idxs = {'mm/dd/yyyy':{'date_idx': 1, 'month_idx': 0, 'year_idx': 2},\n",
    "                        'dd/mm/yyyy':{'date_idx': 0, 'month_idx': 1, 'year_idx': 2}}\n",
    "    try:\n",
    "        idx_dict = date_format_idxs[date_format]\n",
    "        date_arr = [int(val) for val in date_string.split(seperator)]\n",
    "        weekdays = {0:\"Monday\", 1:\"Tuesday\", 2:\"Wednesday\", 3:\"Thursday\", 4:\"Friday\", 5:\"Saturday\", 6:\"Sunday\"}\n",
    "        date = datetime.datetime(date_arr[idx_dict['year_idx']],\\\n",
    "                                 date_arr[idx_dict['month_idx']],\\\n",
    "                                 date_arr[idx_dict['date_idx']])\n",
    "        return weekdays[date.weekday()]\n",
    "    except KeyError:\n",
    "        raise ValueError(f\"{date_format} is not supported. Supported values are: {list(date_format_idxs.keys())}.\")"
   ]
  },
  {
   "cell_type": "code",
   "execution_count": 3,
   "metadata": {},
   "outputs": [],
   "source": [
    "# name = \"prantika_bus_stand\"\n",
    "# name = \"junction_mall\"\n",
    "name = \"54ft_road\"\n",
    "# name = \"dvc_more\"\n",
    "# name = \"station\""
   ]
  },
  {
   "cell_type": "code",
   "execution_count": 4,
   "metadata": {},
   "outputs": [],
   "source": [
    "parent_dir = r\"../data/54ft/\"\n",
    "log_dir = f\"../reports/54ft/{name}\"\n",
    "\n",
    "results_csv_name = f\"Predictions_merged_54ft_{name}_zone.csv\"\n",
    "\n",
    "welch_output = f\"across_date_across_timezone_analysis_{name}_zone.csv\"\n",
    "\n",
    "score_timezone_analysis_output = f\"score_timezone_analysis_{name}_zone.csv\"\n",
    "\n",
    "time_zones = [\"Early_Morning\", \"Morning\", \"Afternoon\", \"Evening\"]\n",
    "\n",
    "timezone_analysis_name = \"time_zone_analysis\""
   ]
  },
  {
   "cell_type": "code",
   "execution_count": 5,
   "metadata": {},
   "outputs": [],
   "source": [
    "os.makedirs(log_dir, exist_ok=True)\n",
    "os.makedirs(os.path.join(log_dir, timezone_analysis_name), exist_ok=True)"
   ]
  },
  {
   "cell_type": "code",
   "execution_count": 6,
   "metadata": {},
   "outputs": [],
   "source": [
    "result_df = pd.read_csv(os.path.join(parent_dir, results_csv_name))"
   ]
  },
  {
   "cell_type": "code",
   "execution_count": 7,
   "metadata": {},
   "outputs": [],
   "source": [
    "df = result_df.copy()\n",
    "df['time_zone'] = df['instance_start_time'].apply(lambda x: time_zone_cal(x))\n",
    "df[\"instance_start_time\"] = df[\"instance_start_time\"].apply(lambda x: time_as_int(x))\n",
    "df[\"instance_end_time\"] = df[\"instance_end_time\"].apply(lambda x: time_as_int(x))"
   ]
  },
  {
   "cell_type": "code",
   "execution_count": 8,
   "metadata": {},
   "outputs": [],
   "source": [
    "date_group = df.groupby('instance_date')\n",
    "\n",
    "whole_day_scores = {}\n",
    "whole_day_list_scores = {}\n",
    "whole_day_instance_counts = {}\n",
    "\n",
    "for date in list(date_group.groups):\n",
    "    temp_df = date_group.get_group(date).copy()\n",
    "    overall_score, list_scores, no_of_instances = calculate_score(temp_df)\n",
    "    # calculate_score() is defined in library.scoreCalculatorLibrary.py\n",
    "    whole_day_scores[date] = overall_score\n",
    "    whole_day_list_scores[date] = list_scores\n",
    "    whole_day_instance_counts[date] = no_of_instances"
   ]
  },
  {
   "cell_type": "code",
   "execution_count": 9,
   "metadata": {},
   "outputs": [
    {
     "output_type": "execute_result",
     "data": {
      "text/plain": [
       "         Date  Whole_Day\n",
       "0  09/14/2019   0.000000\n",
       "1  09/15/2019  -1.000000\n",
       "2  09/16/2019   0.774597\n",
       "3  09/17/2019   0.886451\n",
       "4  09/20/2019   0.000000\n",
       "5  09/21/2019   1.500000\n",
       "6  09/23/2019   0.654654"
      ],
      "text/html": "<div>\n<style scoped>\n    .dataframe tbody tr th:only-of-type {\n        vertical-align: middle;\n    }\n\n    .dataframe tbody tr th {\n        vertical-align: top;\n    }\n\n    .dataframe thead th {\n        text-align: right;\n    }\n</style>\n<table border=\"1\" class=\"dataframe\">\n  <thead>\n    <tr style=\"text-align: right;\">\n      <th></th>\n      <th>Date</th>\n      <th>Whole_Day</th>\n    </tr>\n  </thead>\n  <tbody>\n    <tr>\n      <td>0</td>\n      <td>09/14/2019</td>\n      <td>0.000000</td>\n    </tr>\n    <tr>\n      <td>1</td>\n      <td>09/15/2019</td>\n      <td>-1.000000</td>\n    </tr>\n    <tr>\n      <td>2</td>\n      <td>09/16/2019</td>\n      <td>0.774597</td>\n    </tr>\n    <tr>\n      <td>3</td>\n      <td>09/17/2019</td>\n      <td>0.886451</td>\n    </tr>\n    <tr>\n      <td>4</td>\n      <td>09/20/2019</td>\n      <td>0.000000</td>\n    </tr>\n    <tr>\n      <td>5</td>\n      <td>09/21/2019</td>\n      <td>1.500000</td>\n    </tr>\n    <tr>\n      <td>6</td>\n      <td>09/23/2019</td>\n      <td>0.654654</td>\n    </tr>\n  </tbody>\n</table>\n</div>"
     },
     "metadata": {},
     "execution_count": 9
    }
   ],
   "source": [
    "whole_day_df = pd.DataFrame.from_dict(whole_day_scores, orient=\"index\", columns=[\"Whole_Day\"])\n",
    "whole_day_df = whole_day_df.reset_index()\n",
    "whole_day_df.columns = [\"Date\", \"Whole_Day\"]\n",
    "whole_day_df"
   ]
  },
  {
   "cell_type": "code",
   "execution_count": 10,
   "metadata": {},
   "outputs": [],
   "source": [
    "date_timezone_groups = df.groupby([\"instance_date\", \"time_zone\"])\n",
    "date_timezone_pairs = list(date_timezone_groups.groups.keys())"
   ]
  },
  {
   "cell_type": "code",
   "execution_count": 11,
   "metadata": {},
   "outputs": [],
   "source": [
    "date_timezone_scores = {}\n",
    "overall_scores = {}\n",
    "instance_counts = {}\n",
    "\n",
    "for pair in date_timezone_pairs:\n",
    "    date, timezone = pair\n",
    "    temp_df = date_timezone_groups.get_group(pair)\n",
    "    overall_score, list_scores, no_of_instances = calculate_score(temp_df)\n",
    "    # calculate_score() is defined in library.scoreCalculatorLibrary.py\n",
    "    date_timezone_scores[pair] = list_scores\n",
    "    overall_scores[pair] = overall_score\n",
    "    instance_counts[pair] = no_of_instances"
   ]
  },
  {
   "cell_type": "code",
   "execution_count": 12,
   "metadata": {
    "scrolled": true
   },
   "outputs": [
    {
     "output_type": "execute_result",
     "data": {
      "text/plain": [
       "         Date Early_Morning   Morning  Afternoon  Evening  Whole_Day       Day\n",
       "0  09/14/2019            NA  0.447214  -0.577350       NA   0.000000  Saturday\n",
       "1  09/15/2019            NA        NA  -1.133893        0  -1.000000    Sunday\n",
       "2  09/16/2019            NA         0   0.707107  0.57735   0.774597    Monday\n",
       "3  09/17/2019            NA -0.151476   1.632993        0   0.886451   Tuesday\n",
       "4  09/20/2019            NA        NA   0.000000        0   0.000000    Friday\n",
       "5  09/21/2019            NA  0.447214   1.414214  0.57735   1.500000  Saturday\n",
       "6  09/23/2019            NA  0.333333   0.632456        0   0.654654    Monday"
      ],
      "text/html": "<div>\n<style scoped>\n    .dataframe tbody tr th:only-of-type {\n        vertical-align: middle;\n    }\n\n    .dataframe tbody tr th {\n        vertical-align: top;\n    }\n\n    .dataframe thead th {\n        text-align: right;\n    }\n</style>\n<table border=\"1\" class=\"dataframe\">\n  <thead>\n    <tr style=\"text-align: right;\">\n      <th></th>\n      <th>Date</th>\n      <th>Early_Morning</th>\n      <th>Morning</th>\n      <th>Afternoon</th>\n      <th>Evening</th>\n      <th>Whole_Day</th>\n      <th>Day</th>\n    </tr>\n  </thead>\n  <tbody>\n    <tr>\n      <td>0</td>\n      <td>09/14/2019</td>\n      <td>NA</td>\n      <td>0.447214</td>\n      <td>-0.577350</td>\n      <td>NA</td>\n      <td>0.000000</td>\n      <td>Saturday</td>\n    </tr>\n    <tr>\n      <td>1</td>\n      <td>09/15/2019</td>\n      <td>NA</td>\n      <td>NA</td>\n      <td>-1.133893</td>\n      <td>0</td>\n      <td>-1.000000</td>\n      <td>Sunday</td>\n    </tr>\n    <tr>\n      <td>2</td>\n      <td>09/16/2019</td>\n      <td>NA</td>\n      <td>0</td>\n      <td>0.707107</td>\n      <td>0.57735</td>\n      <td>0.774597</td>\n      <td>Monday</td>\n    </tr>\n    <tr>\n      <td>3</td>\n      <td>09/17/2019</td>\n      <td>NA</td>\n      <td>-0.151476</td>\n      <td>1.632993</td>\n      <td>0</td>\n      <td>0.886451</td>\n      <td>Tuesday</td>\n    </tr>\n    <tr>\n      <td>4</td>\n      <td>09/20/2019</td>\n      <td>NA</td>\n      <td>NA</td>\n      <td>0.000000</td>\n      <td>0</td>\n      <td>0.000000</td>\n      <td>Friday</td>\n    </tr>\n    <tr>\n      <td>5</td>\n      <td>09/21/2019</td>\n      <td>NA</td>\n      <td>0.447214</td>\n      <td>1.414214</td>\n      <td>0.57735</td>\n      <td>1.500000</td>\n      <td>Saturday</td>\n    </tr>\n    <tr>\n      <td>6</td>\n      <td>09/23/2019</td>\n      <td>NA</td>\n      <td>0.333333</td>\n      <td>0.632456</td>\n      <td>0</td>\n      <td>0.654654</td>\n      <td>Monday</td>\n    </tr>\n  </tbody>\n</table>\n</div>"
     },
     "metadata": {},
     "execution_count": 12
    }
   ],
   "source": [
    "dates = {}\n",
    "for key in overall_scores:\n",
    "    date, timezone = key\n",
    "    dates[date] = dates.get(date, []) + [timezone]\n",
    "\n",
    "result_dict = {}\n",
    "result_dict[\"Date\"] = list(dates.keys())\n",
    "for timezone in time_zones:\n",
    "    result_dict[timezone] = []\n",
    "    \n",
    "for date in dates:\n",
    "    for timezone in time_zones:\n",
    "        result_dict[timezone].append(overall_scores.get((date, timezone), \"NA\"))\n",
    "\n",
    "\n",
    "result = pd.DataFrame.from_dict(result_dict)\n",
    "result = result.merge(whole_day_df)\n",
    "result[\"Day\"] = result[\"Date\"].apply(lambda x: get_day_of_week(x))\n",
    "result"
   ]
  },
  {
   "cell_type": "code",
   "execution_count": 13,
   "metadata": {},
   "outputs": [],
   "source": [
    "result.to_csv(os.path.join(log_dir, timezone_analysis_name, score_timezone_analysis_output), index=False)"
   ]
  },
  {
   "cell_type": "code",
   "execution_count": null,
   "metadata": {},
   "outputs": [],
   "source": []
  },
  {
   "cell_type": "markdown",
   "metadata": {},
   "source": [
    "## Welch T"
   ]
  },
  {
   "cell_type": "code",
   "execution_count": 14,
   "metadata": {},
   "outputs": [],
   "source": [
    "def form_welch_df(instance_scores, need_day = True):\n",
    "    '''\n",
    "    @param instance_scores: a dictionary of format '{date: [instance_score_1, instance_score_2, ...]}'\n",
    "    \n",
    "    @return: a pandas.DataFrame() object with columns '['Pair', 't_test_stat', 'p_value', 'Day']'\n",
    "    '''\n",
    "    welch_dict = welch_t(form_pairs_with_scores(instance_scores)) \n",
    "    # welch_t() and form_pairs_with_scores() is defined in library.correlationsAndTtestLib.py\n",
    "    df = pd.DataFrame(columns=[\"Pair\", \"t_test_stat\", \"p_value\"])\n",
    "    df[\"Pair\"] = list(welch_dict.keys())\n",
    "    df[\"t_test_stat\"] = [val[0] for val in welch_dict.values()]\n",
    "    df[\"p_value\"] = [val[1] for val in welch_dict.values()]\n",
    "    if need_day:\n",
    "        df[\"Day\"] = df['Pair'].apply(lambda x: (get_day_of_week(x[0]), get_day_of_week(x[1])))\n",
    "    return df\n",
    "\n",
    "\n",
    "def form_timezone_instance_scores(timezone):\n",
    "    '''\n",
    "    @param timezone: any value from [\"Early_Morning\", \"Morning\", \"Afternoon\", \"Evening\"]\n",
    "    \n",
    "    @return: a dictionary of format \"{date: [instance_score_1, instance_score_2, ...]}\",\n",
    "                 where each date is from common_timezone_dates of corressponding \"timezone\" param.\n",
    "    '''\n",
    "    dates = common_timezone_dates[timezone]\n",
    "    instance_scores = {}\n",
    "    for date in dates:\n",
    "        key = (date, timezone)\n",
    "        array1 = date_timezone_scores[key]\n",
    "        \n",
    "        assert len(array1) == instance_counts[key], f\"Wrong length for {key}. Actual:{len(array1)} \\\n",
    "        Expected: {instance_counts[key]}\"\n",
    "        \n",
    "        instance_scores[date] = array1\n",
    "    return instance_scores"
   ]
  },
  {
   "cell_type": "markdown",
   "metadata": {},
   "source": [
    "### 1. Inter dates common time zone"
   ]
  },
  {
   "cell_type": "code",
   "execution_count": 15,
   "metadata": {},
   "outputs": [],
   "source": [
    "common_timezone_dates = {}\n",
    "for timezone in time_zones:\n",
    "    for key in date_timezone_pairs:\n",
    "        if timezone in key:\n",
    "            common_timezone_dates[timezone] = common_timezone_dates.get(timezone, []) + [key[0]]\n",
    "# common_timezone_dates"
   ]
  },
  {
   "cell_type": "code",
   "execution_count": 16,
   "metadata": {},
   "outputs": [],
   "source": [
    "morning_instance_scores = form_timezone_instance_scores('Morning')\n",
    "afternoon_instance_scores = form_timezone_instance_scores('Afternoon')\n",
    "evening_instance_scores = form_timezone_instance_scores('Evening')"
   ]
  },
  {
   "cell_type": "code",
   "execution_count": 17,
   "metadata": {},
   "outputs": [
    {
     "output_type": "execute_result",
     "data": {
      "text/plain": [
       "                       Pair  t_test_stat   p_value                   Day\n",
       "0  (09/14/2019, 09/16/2019)     0.264135  0.799989    (Saturday, Monday)\n",
       "1  (09/14/2019, 09/17/2019)     0.417426  0.687615   (Saturday, Tuesday)\n",
       "2  (09/14/2019, 09/21/2019)     0.000000  1.000000  (Saturday, Saturday)\n",
       "3  (09/14/2019, 09/23/2019)     0.147442  0.886387    (Saturday, Monday)\n",
       "4  (09/16/2019, 09/17/2019)     0.072052  0.945268     (Monday, Tuesday)\n",
       "5  (09/16/2019, 09/21/2019)    -0.264135  0.799989    (Monday, Saturday)\n",
       "6  (09/16/2019, 09/23/2019)    -0.164399  0.875441      (Monday, Monday)\n",
       "7  (09/17/2019, 09/21/2019)    -0.417426  0.687615   (Tuesday, Saturday)\n",
       "8  (09/17/2019, 09/23/2019)    -0.327240  0.747737     (Tuesday, Monday)\n",
       "9  (09/21/2019, 09/23/2019)     0.147442  0.886387    (Saturday, Monday)"
      ],
      "text/html": "<div>\n<style scoped>\n    .dataframe tbody tr th:only-of-type {\n        vertical-align: middle;\n    }\n\n    .dataframe tbody tr th {\n        vertical-align: top;\n    }\n\n    .dataframe thead th {\n        text-align: right;\n    }\n</style>\n<table border=\"1\" class=\"dataframe\">\n  <thead>\n    <tr style=\"text-align: right;\">\n      <th></th>\n      <th>Pair</th>\n      <th>t_test_stat</th>\n      <th>p_value</th>\n      <th>Day</th>\n    </tr>\n  </thead>\n  <tbody>\n    <tr>\n      <td>0</td>\n      <td>(09/14/2019, 09/16/2019)</td>\n      <td>0.264135</td>\n      <td>0.799989</td>\n      <td>(Saturday, Monday)</td>\n    </tr>\n    <tr>\n      <td>1</td>\n      <td>(09/14/2019, 09/17/2019)</td>\n      <td>0.417426</td>\n      <td>0.687615</td>\n      <td>(Saturday, Tuesday)</td>\n    </tr>\n    <tr>\n      <td>2</td>\n      <td>(09/14/2019, 09/21/2019)</td>\n      <td>0.000000</td>\n      <td>1.000000</td>\n      <td>(Saturday, Saturday)</td>\n    </tr>\n    <tr>\n      <td>3</td>\n      <td>(09/14/2019, 09/23/2019)</td>\n      <td>0.147442</td>\n      <td>0.886387</td>\n      <td>(Saturday, Monday)</td>\n    </tr>\n    <tr>\n      <td>4</td>\n      <td>(09/16/2019, 09/17/2019)</td>\n      <td>0.072052</td>\n      <td>0.945268</td>\n      <td>(Monday, Tuesday)</td>\n    </tr>\n    <tr>\n      <td>5</td>\n      <td>(09/16/2019, 09/21/2019)</td>\n      <td>-0.264135</td>\n      <td>0.799989</td>\n      <td>(Monday, Saturday)</td>\n    </tr>\n    <tr>\n      <td>6</td>\n      <td>(09/16/2019, 09/23/2019)</td>\n      <td>-0.164399</td>\n      <td>0.875441</td>\n      <td>(Monday, Monday)</td>\n    </tr>\n    <tr>\n      <td>7</td>\n      <td>(09/17/2019, 09/21/2019)</td>\n      <td>-0.417426</td>\n      <td>0.687615</td>\n      <td>(Tuesday, Saturday)</td>\n    </tr>\n    <tr>\n      <td>8</td>\n      <td>(09/17/2019, 09/23/2019)</td>\n      <td>-0.327240</td>\n      <td>0.747737</td>\n      <td>(Tuesday, Monday)</td>\n    </tr>\n    <tr>\n      <td>9</td>\n      <td>(09/21/2019, 09/23/2019)</td>\n      <td>0.147442</td>\n      <td>0.886387</td>\n      <td>(Saturday, Monday)</td>\n    </tr>\n  </tbody>\n</table>\n</div>"
     },
     "metadata": {},
     "execution_count": 17
    }
   ],
   "source": [
    "morning_welch_df = form_welch_df(morning_instance_scores)\n",
    "morning_welch_df"
   ]
  },
  {
   "cell_type": "code",
   "execution_count": 18,
   "metadata": {},
   "outputs": [
    {
     "output_type": "execute_result",
     "data": {
      "text/plain": [
       "                        Pair  t_test_stat   p_value                   Day\n",
       "0   (09/14/2019, 09/15/2019)     0.125000  0.907738    (Saturday, Sunday)\n",
       "1   (09/14/2019, 09/16/2019)    -0.767031  0.494199    (Saturday, Monday)\n",
       "2   (09/14/2019, 09/17/2019)    -1.341641  0.270892   (Saturday, Tuesday)\n",
       "3   (09/14/2019, 09/20/2019)    -0.447214  0.684287    (Saturday, Friday)\n",
       "4   (09/14/2019, 09/21/2019)    -1.122048  0.342813  (Saturday, Saturday)\n",
       "5   (09/14/2019, 09/23/2019)    -0.718421  0.523825    (Saturday, Monday)\n",
       "6   (09/15/2019, 09/16/2019)    -1.305952  0.214366      (Sunday, Monday)\n",
       "7   (09/15/2019, 09/17/2019)    -2.203000  0.049827     (Sunday, Tuesday)\n",
       "8   (09/15/2019, 09/20/2019)    -0.862044  0.403493      (Sunday, Friday)\n",
       "9   (09/15/2019, 09/21/2019)    -1.882938  0.083153    (Sunday, Saturday)\n",
       "10  (09/15/2019, 09/23/2019)    -1.275854  0.223452      (Sunday, Monday)\n",
       "11  (09/16/2019, 09/17/2019)    -0.841726  0.416491     (Monday, Tuesday)\n",
       "12  (09/16/2019, 09/20/2019)     0.505035  0.620748      (Monday, Friday)\n",
       "13  (09/16/2019, 09/21/2019)    -0.509175  0.618657    (Monday, Saturday)\n",
       "14  (09/16/2019, 09/23/2019)     0.101936  0.920147      (Monday, Monday)\n",
       "15  (09/17/2019, 09/20/2019)     1.414214  0.181056     (Tuesday, Friday)\n",
       "16  (09/17/2019, 09/21/2019)     0.356753  0.727686   (Tuesday, Saturday)\n",
       "17  (09/17/2019, 09/23/2019)     1.000000  0.335978     (Tuesday, Monday)\n",
       "18  (09/20/2019, 09/21/2019)    -1.070259  0.300564    (Friday, Saturday)\n",
       "19  (09/20/2019, 09/23/2019)    -0.428571  0.673322      (Friday, Monday)\n",
       "20  (09/21/2019, 09/23/2019)     0.648795  0.525824    (Saturday, Monday)"
      ],
      "text/html": "<div>\n<style scoped>\n    .dataframe tbody tr th:only-of-type {\n        vertical-align: middle;\n    }\n\n    .dataframe tbody tr th {\n        vertical-align: top;\n    }\n\n    .dataframe thead th {\n        text-align: right;\n    }\n</style>\n<table border=\"1\" class=\"dataframe\">\n  <thead>\n    <tr style=\"text-align: right;\">\n      <th></th>\n      <th>Pair</th>\n      <th>t_test_stat</th>\n      <th>p_value</th>\n      <th>Day</th>\n    </tr>\n  </thead>\n  <tbody>\n    <tr>\n      <td>0</td>\n      <td>(09/14/2019, 09/15/2019)</td>\n      <td>0.125000</td>\n      <td>0.907738</td>\n      <td>(Saturday, Sunday)</td>\n    </tr>\n    <tr>\n      <td>1</td>\n      <td>(09/14/2019, 09/16/2019)</td>\n      <td>-0.767031</td>\n      <td>0.494199</td>\n      <td>(Saturday, Monday)</td>\n    </tr>\n    <tr>\n      <td>2</td>\n      <td>(09/14/2019, 09/17/2019)</td>\n      <td>-1.341641</td>\n      <td>0.270892</td>\n      <td>(Saturday, Tuesday)</td>\n    </tr>\n    <tr>\n      <td>3</td>\n      <td>(09/14/2019, 09/20/2019)</td>\n      <td>-0.447214</td>\n      <td>0.684287</td>\n      <td>(Saturday, Friday)</td>\n    </tr>\n    <tr>\n      <td>4</td>\n      <td>(09/14/2019, 09/21/2019)</td>\n      <td>-1.122048</td>\n      <td>0.342813</td>\n      <td>(Saturday, Saturday)</td>\n    </tr>\n    <tr>\n      <td>5</td>\n      <td>(09/14/2019, 09/23/2019)</td>\n      <td>-0.718421</td>\n      <td>0.523825</td>\n      <td>(Saturday, Monday)</td>\n    </tr>\n    <tr>\n      <td>6</td>\n      <td>(09/15/2019, 09/16/2019)</td>\n      <td>-1.305952</td>\n      <td>0.214366</td>\n      <td>(Sunday, Monday)</td>\n    </tr>\n    <tr>\n      <td>7</td>\n      <td>(09/15/2019, 09/17/2019)</td>\n      <td>-2.203000</td>\n      <td>0.049827</td>\n      <td>(Sunday, Tuesday)</td>\n    </tr>\n    <tr>\n      <td>8</td>\n      <td>(09/15/2019, 09/20/2019)</td>\n      <td>-0.862044</td>\n      <td>0.403493</td>\n      <td>(Sunday, Friday)</td>\n    </tr>\n    <tr>\n      <td>9</td>\n      <td>(09/15/2019, 09/21/2019)</td>\n      <td>-1.882938</td>\n      <td>0.083153</td>\n      <td>(Sunday, Saturday)</td>\n    </tr>\n    <tr>\n      <td>10</td>\n      <td>(09/15/2019, 09/23/2019)</td>\n      <td>-1.275854</td>\n      <td>0.223452</td>\n      <td>(Sunday, Monday)</td>\n    </tr>\n    <tr>\n      <td>11</td>\n      <td>(09/16/2019, 09/17/2019)</td>\n      <td>-0.841726</td>\n      <td>0.416491</td>\n      <td>(Monday, Tuesday)</td>\n    </tr>\n    <tr>\n      <td>12</td>\n      <td>(09/16/2019, 09/20/2019)</td>\n      <td>0.505035</td>\n      <td>0.620748</td>\n      <td>(Monday, Friday)</td>\n    </tr>\n    <tr>\n      <td>13</td>\n      <td>(09/16/2019, 09/21/2019)</td>\n      <td>-0.509175</td>\n      <td>0.618657</td>\n      <td>(Monday, Saturday)</td>\n    </tr>\n    <tr>\n      <td>14</td>\n      <td>(09/16/2019, 09/23/2019)</td>\n      <td>0.101936</td>\n      <td>0.920147</td>\n      <td>(Monday, Monday)</td>\n    </tr>\n    <tr>\n      <td>15</td>\n      <td>(09/17/2019, 09/20/2019)</td>\n      <td>1.414214</td>\n      <td>0.181056</td>\n      <td>(Tuesday, Friday)</td>\n    </tr>\n    <tr>\n      <td>16</td>\n      <td>(09/17/2019, 09/21/2019)</td>\n      <td>0.356753</td>\n      <td>0.727686</td>\n      <td>(Tuesday, Saturday)</td>\n    </tr>\n    <tr>\n      <td>17</td>\n      <td>(09/17/2019, 09/23/2019)</td>\n      <td>1.000000</td>\n      <td>0.335978</td>\n      <td>(Tuesday, Monday)</td>\n    </tr>\n    <tr>\n      <td>18</td>\n      <td>(09/20/2019, 09/21/2019)</td>\n      <td>-1.070259</td>\n      <td>0.300564</td>\n      <td>(Friday, Saturday)</td>\n    </tr>\n    <tr>\n      <td>19</td>\n      <td>(09/20/2019, 09/23/2019)</td>\n      <td>-0.428571</td>\n      <td>0.673322</td>\n      <td>(Friday, Monday)</td>\n    </tr>\n    <tr>\n      <td>20</td>\n      <td>(09/21/2019, 09/23/2019)</td>\n      <td>0.648795</td>\n      <td>0.525824</td>\n      <td>(Saturday, Monday)</td>\n    </tr>\n  </tbody>\n</table>\n</div>"
     },
     "metadata": {},
     "execution_count": 18
    }
   ],
   "source": [
    "afternoon_welch_df = form_welch_df(afternoon_instance_scores)\n",
    "afternoon_welch_df"
   ]
  },
  {
   "cell_type": "code",
   "execution_count": 19,
   "metadata": {},
   "outputs": [
    {
     "output_type": "execute_result",
     "data": {
      "text/plain": [
       "                        Pair  t_test_stat   p_value                  Day\n",
       "0   (09/15/2019, 09/16/2019)     -0.27735  0.808768     (Sunday, Monday)\n",
       "1   (09/15/2019, 09/17/2019)      0.00000  1.000000    (Sunday, Tuesday)\n",
       "2   (09/15/2019, 09/20/2019)      0.00000  1.000000     (Sunday, Friday)\n",
       "3   (09/15/2019, 09/21/2019)     -0.27735  0.808768   (Sunday, Saturday)\n",
       "4   (09/15/2019, 09/23/2019)      0.00000  1.000000     (Sunday, Monday)\n",
       "5   (09/16/2019, 09/17/2019)      0.27735  0.808768    (Monday, Tuesday)\n",
       "6   (09/16/2019, 09/20/2019)      0.27735  0.808768     (Monday, Friday)\n",
       "7   (09/16/2019, 09/21/2019)      0.00000  1.000000   (Monday, Saturday)\n",
       "8   (09/16/2019, 09/23/2019)      0.27735  0.808768     (Monday, Monday)\n",
       "9   (09/17/2019, 09/20/2019)      0.00000  1.000000    (Tuesday, Friday)\n",
       "10  (09/17/2019, 09/21/2019)     -0.27735  0.808768  (Tuesday, Saturday)\n",
       "11  (09/17/2019, 09/23/2019)      0.00000  1.000000    (Tuesday, Monday)\n",
       "12  (09/20/2019, 09/21/2019)     -0.27735  0.808768   (Friday, Saturday)\n",
       "13  (09/20/2019, 09/23/2019)      0.00000  1.000000     (Friday, Monday)\n",
       "14  (09/21/2019, 09/23/2019)      0.27735  0.808768   (Saturday, Monday)"
      ],
      "text/html": "<div>\n<style scoped>\n    .dataframe tbody tr th:only-of-type {\n        vertical-align: middle;\n    }\n\n    .dataframe tbody tr th {\n        vertical-align: top;\n    }\n\n    .dataframe thead th {\n        text-align: right;\n    }\n</style>\n<table border=\"1\" class=\"dataframe\">\n  <thead>\n    <tr style=\"text-align: right;\">\n      <th></th>\n      <th>Pair</th>\n      <th>t_test_stat</th>\n      <th>p_value</th>\n      <th>Day</th>\n    </tr>\n  </thead>\n  <tbody>\n    <tr>\n      <td>0</td>\n      <td>(09/15/2019, 09/16/2019)</td>\n      <td>-0.27735</td>\n      <td>0.808768</td>\n      <td>(Sunday, Monday)</td>\n    </tr>\n    <tr>\n      <td>1</td>\n      <td>(09/15/2019, 09/17/2019)</td>\n      <td>0.00000</td>\n      <td>1.000000</td>\n      <td>(Sunday, Tuesday)</td>\n    </tr>\n    <tr>\n      <td>2</td>\n      <td>(09/15/2019, 09/20/2019)</td>\n      <td>0.00000</td>\n      <td>1.000000</td>\n      <td>(Sunday, Friday)</td>\n    </tr>\n    <tr>\n      <td>3</td>\n      <td>(09/15/2019, 09/21/2019)</td>\n      <td>-0.27735</td>\n      <td>0.808768</td>\n      <td>(Sunday, Saturday)</td>\n    </tr>\n    <tr>\n      <td>4</td>\n      <td>(09/15/2019, 09/23/2019)</td>\n      <td>0.00000</td>\n      <td>1.000000</td>\n      <td>(Sunday, Monday)</td>\n    </tr>\n    <tr>\n      <td>5</td>\n      <td>(09/16/2019, 09/17/2019)</td>\n      <td>0.27735</td>\n      <td>0.808768</td>\n      <td>(Monday, Tuesday)</td>\n    </tr>\n    <tr>\n      <td>6</td>\n      <td>(09/16/2019, 09/20/2019)</td>\n      <td>0.27735</td>\n      <td>0.808768</td>\n      <td>(Monday, Friday)</td>\n    </tr>\n    <tr>\n      <td>7</td>\n      <td>(09/16/2019, 09/21/2019)</td>\n      <td>0.00000</td>\n      <td>1.000000</td>\n      <td>(Monday, Saturday)</td>\n    </tr>\n    <tr>\n      <td>8</td>\n      <td>(09/16/2019, 09/23/2019)</td>\n      <td>0.27735</td>\n      <td>0.808768</td>\n      <td>(Monday, Monday)</td>\n    </tr>\n    <tr>\n      <td>9</td>\n      <td>(09/17/2019, 09/20/2019)</td>\n      <td>0.00000</td>\n      <td>1.000000</td>\n      <td>(Tuesday, Friday)</td>\n    </tr>\n    <tr>\n      <td>10</td>\n      <td>(09/17/2019, 09/21/2019)</td>\n      <td>-0.27735</td>\n      <td>0.808768</td>\n      <td>(Tuesday, Saturday)</td>\n    </tr>\n    <tr>\n      <td>11</td>\n      <td>(09/17/2019, 09/23/2019)</td>\n      <td>0.00000</td>\n      <td>1.000000</td>\n      <td>(Tuesday, Monday)</td>\n    </tr>\n    <tr>\n      <td>12</td>\n      <td>(09/20/2019, 09/21/2019)</td>\n      <td>-0.27735</td>\n      <td>0.808768</td>\n      <td>(Friday, Saturday)</td>\n    </tr>\n    <tr>\n      <td>13</td>\n      <td>(09/20/2019, 09/23/2019)</td>\n      <td>0.00000</td>\n      <td>1.000000</td>\n      <td>(Friday, Monday)</td>\n    </tr>\n    <tr>\n      <td>14</td>\n      <td>(09/21/2019, 09/23/2019)</td>\n      <td>0.27735</td>\n      <td>0.808768</td>\n      <td>(Saturday, Monday)</td>\n    </tr>\n  </tbody>\n</table>\n</div>"
     },
     "metadata": {},
     "execution_count": 19
    }
   ],
   "source": [
    "evening_welch_df = form_welch_df(evening_instance_scores)\n",
    "evening_welch_df"
   ]
  },
  {
   "cell_type": "code",
   "execution_count": null,
   "metadata": {},
   "outputs": [],
   "source": []
  },
  {
   "cell_type": "code",
   "execution_count": null,
   "metadata": {},
   "outputs": [],
   "source": []
  },
  {
   "cell_type": "markdown",
   "metadata": {},
   "source": [
    "### 2. Inter time zone common dates"
   ]
  },
  {
   "cell_type": "code",
   "execution_count": 20,
   "metadata": {},
   "outputs": [
    {
     "output_type": "stream",
     "name": "stdout",
     "text": [
      "For 09/14/2019, Saturday\n                   Pair  t_test_stat   p_value\n0  (Morning, Afternoon)     0.644658  0.553139\n\nFor 09/15/2019, Sunday\n                   Pair  t_test_stat   p_value\n0  (Afternoon, Evening)     -0.40209  0.744201\n\nFor 09/16/2019, Monday\n                   Pair  t_test_stat   p_value\n0  (Morning, Afternoon)    -0.365729  0.728185\n1    (Morning, Evening)    -0.377964  0.722788\n2  (Afternoon, Evening)    -0.109576  0.919073\n\nFor 09/17/2019, Tuesday\n                   Pair  t_test_stat   p_value\n0  (Morning, Afternoon)    -1.508524  0.156540\n1    (Morning, Evening)    -0.045641  0.969828\n2  (Afternoon, Evening)     0.632456  0.624074\n\nFor 09/20/2019, Friday\n                   Pair  t_test_stat  p_value\n0  (Afternoon, Evening)          0.0      1.0\n\nFor 09/21/2019, Saturday\n                   Pair  t_test_stat   p_value\n0  (Morning, Afternoon)    -0.509175  0.625242\n1    (Morning, Evening)    -0.161165  0.879525\n2  (Afternoon, Evening)     0.224410  0.836720\n\nFor 09/23/2019, Monday\n                   Pair  t_test_stat   p_value\n0  (Morning, Afternoon)    -0.185296  0.855227\n1    (Morning, Evening)     0.104828  0.930683\n2  (Afternoon, Evening)     0.190117  0.875839\n\n"
     ]
    }
   ],
   "source": [
    "for i, row in result.iterrows():\n",
    "    print(f\"For {row['Date']}, {row['Day']}\")\n",
    "    day_instance_scores = {}\n",
    "    for timezone in time_zones:\n",
    "        if row[timezone] != 'NA' and timezone != 'Early_Morning':\n",
    "            if timezone == 'Morning':\n",
    "                temp = morning_instance_scores.get(row['Date'], 0)\n",
    "            elif timezone == 'Afternoon':\n",
    "                temp = afternoon_instance_scores.get(row['Date'], 0)\n",
    "            elif timezone == 'Evening':\n",
    "                temp = evening_instance_scores.get(row['Date'], 0)\n",
    "            if temp != 0:\n",
    "                day_instance_scores[timezone] = temp\n",
    "#     print(day_instance_scores)\n",
    "    day_welch_df = form_welch_df(day_instance_scores, False)\n",
    "    print(day_welch_df, end='\\n\\n')"
   ]
  },
  {
   "cell_type": "code",
   "execution_count": 21,
   "metadata": {},
   "outputs": [],
   "source": [
    "# time_zones"
   ]
  },
  {
   "cell_type": "markdown",
   "metadata": {},
   "source": [
    "### 3. Across dates accross timezones"
   ]
  },
  {
   "cell_type": "code",
   "execution_count": 22,
   "metadata": {},
   "outputs": [
    {
     "output_type": "stream",
     "name": "stdout",
     "text": [
      "153\n"
     ]
    }
   ],
   "source": [
    "all_across_date_across_timezone_pairs = set(itertools.combinations(date_timezone_scores.keys(), 2))\n",
    "print(len(all_across_date_across_timezone_pairs))"
   ]
  },
  {
   "cell_type": "code",
   "execution_count": 23,
   "metadata": {},
   "outputs": [
    {
     "output_type": "stream",
     "name": "stdout",
     "text": [
      "46\n"
     ]
    }
   ],
   "source": [
    "inter_date_cross_timezone_pairs = set() # different date same timezone\n",
    "\n",
    "# Adding inter date cross 'Morning' pairs to the set\n",
    "for pair in morning_welch_df['Pair']:\n",
    "    date1, date2 = pair\n",
    "    inter_date_cross_timezone_pairs.add(((date1, 'Morning'), (date2, 'Morning')))\n",
    "\n",
    "# Adding inter date cross 'Afternoon' pairs to the set\n",
    "for pair in afternoon_welch_df['Pair']:\n",
    "    date1, date2 = pair\n",
    "    inter_date_cross_timezone_pairs.add(((date1, 'Afternoon'), (date2, 'Afternoon')))\n",
    "\n",
    "    \n",
    "# Adding inter date cross 'Evening' pairs to the set\n",
    "for pair in evening_welch_df['Pair']:\n",
    "    date1, date2 = pair\n",
    "    inter_date_cross_timezone_pairs.add(((date1, 'Evening'), (date2, 'Evening')))\n",
    "    \n",
    "print(len(inter_date_cross_timezone_pairs))"
   ]
  },
  {
   "cell_type": "code",
   "execution_count": 24,
   "metadata": {},
   "outputs": [
    {
     "output_type": "stream",
     "name": "stdout",
     "text": [
      "15\n"
     ]
    }
   ],
   "source": [
    "intra_date_cross_timezone = set() # same date different timezone\n",
    "\n",
    "for pair in all_across_date_across_timezone_pairs:\n",
    "    if pair[0][0] == pair[1][0]: # both tuples have same date\n",
    "        intra_date_cross_timezone.add(pair)\n",
    "        \n",
    "print(len(intra_date_cross_timezone))"
   ]
  },
  {
   "cell_type": "code",
   "execution_count": 25,
   "metadata": {},
   "outputs": [
    {
     "output_type": "execute_result",
     "data": {
      "text/plain": [
       "92"
      ]
     },
     "metadata": {},
     "execution_count": 25
    }
   ],
   "source": [
    "\"\"\"\n",
    "If Set_whole = Set_A + Set_B + Set_C,\n",
    "then, Set_C = Set_whole - Set_A - Set_B\n",
    "\"\"\"\n",
    "\n",
    "across_date_across_timezone_pairs = all_across_date_across_timezone_pairs \\\n",
    "                                    - intra_date_cross_timezone \\\n",
    "                                    - inter_date_cross_timezone_pairs\n",
    "\n",
    "len(across_date_across_timezone_pairs)"
   ]
  },
  {
   "cell_type": "code",
   "execution_count": 26,
   "metadata": {},
   "outputs": [],
   "source": [
    "across_date_across_timezone_instance_scores = {}\n",
    "for pair in across_date_across_timezone_pairs:\n",
    "    across_date_across_timezone_instance_scores[pair] = (date_timezone_scores[pair[0]], date_timezone_scores[pair[1]])"
   ]
  },
  {
   "cell_type": "code",
   "execution_count": 27,
   "metadata": {},
   "outputs": [],
   "source": [
    "across_date_across_timezone_welch = welch_t(across_date_across_timezone_instance_scores)\n",
    "\n",
    "across_date_across_timezone_welch_df = pd.DataFrame(columns=[\"Pair\", \"t_test_stat\", \"p_value\"])\n",
    "across_date_across_timezone_welch_df[\"Pair\"] = list(across_date_across_timezone_welch.keys())\n",
    "across_date_across_timezone_welch_df[\"t_test_stat\"] = [val[0] for val in across_date_across_timezone_welch.values()]\n",
    "across_date_across_timezone_welch_df[\"p_value\"] = [val[1] for val in across_date_across_timezone_welch.values()]\n",
    "across_date_across_timezone_welch_df['Day'] = across_date_across_timezone_welch_df[\"Pair\"].apply(\\\n",
    "                                                        lambda x: (get_day_of_week(x[0][0]),\\\n",
    "                                                                   get_day_of_week(x[1][0])))"
   ]
  },
  {
   "cell_type": "code",
   "execution_count": 28,
   "metadata": {},
   "outputs": [
    {
     "output_type": "execute_result",
     "data": {
      "text/plain": [
       "                                                Pair  t_test_stat   p_value  \\\n",
       "0   ((09/14/2019, Afternoon), (09/17/2019, Morning))    -0.381804  0.727277   \n",
       "1   ((09/16/2019, Afternoon), (09/17/2019, Evening))     0.234772  0.846280   \n",
       "2   ((09/14/2019, Afternoon), (09/20/2019, Evening))    -0.277350  0.808768   \n",
       "3   ((09/21/2019, Evening), (09/23/2019, Afternoon))     0.179605  0.868781   \n",
       "4     ((09/14/2019, Morning), (09/16/2019, Evening))    -0.161165  0.879525   \n",
       "..                                               ...          ...       ...   \n",
       "87  ((09/17/2019, Afternoon), (09/23/2019, Evening))     0.632456  0.624074   \n",
       "88  ((09/21/2019, Afternoon), (09/23/2019, Morning))     0.809834  0.430696   \n",
       "89  ((09/15/2019, Evening), (09/21/2019, Afternoon))    -0.475191  0.705513   \n",
       "90  ((09/14/2019, Afternoon), (09/21/2019, Evening))    -0.707107  0.518519   \n",
       "91    ((09/16/2019, Morning), (09/17/2019, Evening))     0.000000  1.000000   \n",
       "\n",
       "                     Day  \n",
       "0    (Saturday, Tuesday)  \n",
       "1      (Monday, Tuesday)  \n",
       "2     (Saturday, Friday)  \n",
       "3     (Saturday, Monday)  \n",
       "4     (Saturday, Monday)  \n",
       "..                   ...  \n",
       "87     (Tuesday, Monday)  \n",
       "88    (Saturday, Monday)  \n",
       "89    (Sunday, Saturday)  \n",
       "90  (Saturday, Saturday)  \n",
       "91     (Monday, Tuesday)  \n",
       "\n",
       "[92 rows x 4 columns]"
      ],
      "text/html": "<div>\n<style scoped>\n    .dataframe tbody tr th:only-of-type {\n        vertical-align: middle;\n    }\n\n    .dataframe tbody tr th {\n        vertical-align: top;\n    }\n\n    .dataframe thead th {\n        text-align: right;\n    }\n</style>\n<table border=\"1\" class=\"dataframe\">\n  <thead>\n    <tr style=\"text-align: right;\">\n      <th></th>\n      <th>Pair</th>\n      <th>t_test_stat</th>\n      <th>p_value</th>\n      <th>Day</th>\n    </tr>\n  </thead>\n  <tbody>\n    <tr>\n      <td>0</td>\n      <td>((09/14/2019, Afternoon), (09/17/2019, Morning))</td>\n      <td>-0.381804</td>\n      <td>0.727277</td>\n      <td>(Saturday, Tuesday)</td>\n    </tr>\n    <tr>\n      <td>1</td>\n      <td>((09/16/2019, Afternoon), (09/17/2019, Evening))</td>\n      <td>0.234772</td>\n      <td>0.846280</td>\n      <td>(Monday, Tuesday)</td>\n    </tr>\n    <tr>\n      <td>2</td>\n      <td>((09/14/2019, Afternoon), (09/20/2019, Evening))</td>\n      <td>-0.277350</td>\n      <td>0.808768</td>\n      <td>(Saturday, Friday)</td>\n    </tr>\n    <tr>\n      <td>3</td>\n      <td>((09/21/2019, Evening), (09/23/2019, Afternoon))</td>\n      <td>0.179605</td>\n      <td>0.868781</td>\n      <td>(Saturday, Monday)</td>\n    </tr>\n    <tr>\n      <td>4</td>\n      <td>((09/14/2019, Morning), (09/16/2019, Evening))</td>\n      <td>-0.161165</td>\n      <td>0.879525</td>\n      <td>(Saturday, Monday)</td>\n    </tr>\n    <tr>\n      <td>...</td>\n      <td>...</td>\n      <td>...</td>\n      <td>...</td>\n      <td>...</td>\n    </tr>\n    <tr>\n      <td>87</td>\n      <td>((09/17/2019, Afternoon), (09/23/2019, Evening))</td>\n      <td>0.632456</td>\n      <td>0.624074</td>\n      <td>(Tuesday, Monday)</td>\n    </tr>\n    <tr>\n      <td>88</td>\n      <td>((09/21/2019, Afternoon), (09/23/2019, Morning))</td>\n      <td>0.809834</td>\n      <td>0.430696</td>\n      <td>(Saturday, Monday)</td>\n    </tr>\n    <tr>\n      <td>89</td>\n      <td>((09/15/2019, Evening), (09/21/2019, Afternoon))</td>\n      <td>-0.475191</td>\n      <td>0.705513</td>\n      <td>(Sunday, Saturday)</td>\n    </tr>\n    <tr>\n      <td>90</td>\n      <td>((09/14/2019, Afternoon), (09/21/2019, Evening))</td>\n      <td>-0.707107</td>\n      <td>0.518519</td>\n      <td>(Saturday, Saturday)</td>\n    </tr>\n    <tr>\n      <td>91</td>\n      <td>((09/16/2019, Morning), (09/17/2019, Evening))</td>\n      <td>0.000000</td>\n      <td>1.000000</td>\n      <td>(Monday, Tuesday)</td>\n    </tr>\n  </tbody>\n</table>\n<p>92 rows × 4 columns</p>\n</div>"
     },
     "metadata": {},
     "execution_count": 28
    }
   ],
   "source": [
    "across_date_across_timezone_welch_df.to_csv(os.path.join(log_dir,\\\n",
    "                                                         timezone_analysis_name,\\\n",
    "                                                         welch_output),\\\n",
    "                                           index=False)\n",
    "# change csv name\n",
    "\n",
    "across_date_across_timezone_welch_df"
   ]
  },
  {
   "cell_type": "code",
   "execution_count": null,
   "metadata": {},
   "outputs": [],
   "source": []
  }
 ],
 "metadata": {
  "kernelspec": {
   "display_name": "Python 3",
   "language": "python",
   "name": "python3"
  },
  "language_info": {
   "codemirror_mode": {
    "name": "ipython",
    "version": 3
   },
   "file_extension": ".py",
   "mimetype": "text/x-python",
   "name": "python",
   "nbconvert_exporter": "python",
   "pygments_lexer": "ipython3",
   "version": "3.7.4-final"
  }
 },
 "nbformat": 4,
 "nbformat_minor": 4
}