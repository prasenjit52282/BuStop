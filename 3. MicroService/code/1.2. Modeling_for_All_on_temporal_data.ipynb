{
 "cells": [
  {
   "cell_type": "markdown",
   "metadata": {},
   "source": [
    "# Imports"
   ]
  },
  {
   "cell_type": "code",
   "execution_count": 1,
   "metadata": {},
   "outputs": [],
   "source": [
    "from sklearn.ensemble import RandomForestClassifier\n",
    "from sklearn.metrics import *\n",
    "from imblearn.over_sampling import SMOTE\n",
    "import pandas as pd\n",
    "import os"
   ]
  },
  {
   "cell_type": "markdown",
   "metadata": {},
   "source": [
    "## Constants"
   ]
  },
  {
   "cell_type": "code",
   "execution_count": 2,
   "metadata": {},
   "outputs": [],
   "source": [
    "parent_dir = r\"../data/54ft/\"\n",
    "train_df_name = r\"54ft_train.csv\"\n",
    "\n",
    "#feature # binding\n",
    "F=\\\n",
    "    {1:'stay_duration', #f1\n",
    "     2:'mfcc0',3:'mfcc1',4:'mfcc2',5:'mfcc3',6:'mfcc4', #f2,f3,f4,f5,f6\n",
    "     7:'wifi_count', 8:'edge_wifi_count', #f7,f8\n",
    "     9:'RSI', #f9\n",
    "     10:'human_made', 11:'natural_land',12:'road_exist_percent',13:'highly_populated_poi_exist'#f10,f11,f12,f13\n",
    "    }\n",
    "\n",
    "selected_feat=\\\n",
    "    {\n",
    "        'Is_Bus_stop':[F[e] for e in [1,2,3,4,5,6,7,8]],\n",
    "        'Is_Turn':[F[e] for e in [1,2,3,4,5,6,7,8]],\n",
    "        'Is_Signal':[F[e] for e in [1,2,3,4,5,6,7,8]],\n",
    "        'Is_Congestion':[F[e] for e in [1,2,3,4,5,6,7,8]],\n",
    "        'Is_Adhoc':[F[e] for e in [1,2,3,4,5,6,7,8]]\n",
    "    }\n",
    "\n",
    "\n",
    "#file Names\n",
    "zone_names=list(map(lambda e:f\"{e}_test_split.csv\",[\"station\",\"dvc_more\",\"54ft_road\",\"junction_mall\",\"prantika_bus_stand\"]))\n",
    "\n",
    "_7day_test=[\"54ft_test.csv\"]"
   ]
  },
  {
   "cell_type": "code",
   "execution_count": 3,
   "metadata": {},
   "outputs": [],
   "source": [
    "#Modeling function\n",
    "def get_metrics_from_the_model(train,labels_train,test,labels_test,poi,zone):\n",
    "    rf=RandomForestClassifier(n_estimators=100,max_depth=8,random_state=42)\n",
    "    rf.fit(train, labels_train)\n",
    "\n",
    "    pred_train= rf.predict(train)\n",
    "    pred_test= rf.predict(test)\n",
    "    \n",
    "    performance={'poi':poi,'zone':zone,\n",
    "                 'tr_acc':accuracy_score(labels_train,pred_train),\n",
    "                 'tr_precision':precision_score(labels_train,pred_train,average='weighted'),\n",
    "                 'tr_recall':recall_score(labels_train,pred_train,average='weighted'),\n",
    "                 'tr_f1-score':f1_score(labels_train,pred_train,average='weighted'),\n",
    "\n",
    "                 'te_acc':accuracy_score(labels_test,pred_test),\n",
    "                 'te_precision':precision_score(labels_test, pred_test,average='weighted'),\n",
    "                 'te_recall':recall_score(labels_test, pred_test,average='weighted'),\n",
    "                 'te_f1-score':f1_score(labels_test, pred_test,average='weighted')}\n",
    "    return performance,pred_test\n",
    "    "
   ]
  },
  {
   "cell_type": "markdown",
   "metadata": {},
   "source": [
    "## Modeling"
   ]
  },
  {
   "cell_type": "code",
   "execution_count": 4,
   "metadata": {},
   "outputs": [
    {
     "output_type": "stream",
     "name": "stdout",
     "text": [
      "Completed for POI:Is_Bus_stop and Zone:station\n",
      "Completed for POI:Is_Bus_stop and Zone:dvc_more\n",
      "Completed for POI:Is_Bus_stop and Zone:54ft_road\n",
      "Completed for POI:Is_Bus_stop and Zone:junction_mall\n",
      "Completed for POI:Is_Bus_stop and Zone:prantika_bus_stand\n",
      "Completed for POI:Is_Bus_stop and Zone:54ft_test\n",
      "Completed for POI:Is_Turn and Zone:station\n",
      "Completed for POI:Is_Turn and Zone:dvc_more\n",
      "Completed for POI:Is_Turn and Zone:54ft_road\n",
      "Completed for POI:Is_Turn and Zone:junction_mall\n",
      "Completed for POI:Is_Turn and Zone:prantika_bus_stand\n",
      "Completed for POI:Is_Turn and Zone:54ft_test\n",
      "Completed for POI:Is_Signal and Zone:station\n",
      "Completed for POI:Is_Signal and Zone:dvc_more\n",
      "Completed for POI:Is_Signal and Zone:54ft_road\n",
      "Completed for POI:Is_Signal and Zone:junction_mall\n",
      "Completed for POI:Is_Signal and Zone:prantika_bus_stand\n",
      "Completed for POI:Is_Signal and Zone:54ft_test\n",
      "Completed for POI:Is_Congestion and Zone:station\n",
      "Completed for POI:Is_Congestion and Zone:dvc_more\n",
      "Completed for POI:Is_Congestion and Zone:54ft_road\n",
      "Completed for POI:Is_Congestion and Zone:junction_mall\n",
      "Completed for POI:Is_Congestion and Zone:prantika_bus_stand\n",
      "Completed for POI:Is_Congestion and Zone:54ft_test\n",
      "Completed for POI:Is_Adhoc and Zone:station\n",
      "Completed for POI:Is_Adhoc and Zone:dvc_more\n",
      "Completed for POI:Is_Adhoc and Zone:54ft_road\n",
      "Completed for POI:Is_Adhoc and Zone:junction_mall\n",
      "Completed for POI:Is_Adhoc and Zone:prantika_bus_stand\n",
      "Completed for POI:Is_Adhoc and Zone:54ft_test\n"
     ]
    }
   ],
   "source": [
    "perf=[] #performance list\n",
    "\n",
    "\n",
    "for poi_column in ['Is_Bus_stop','Is_Turn','Is_Signal','Is_Congestion','Is_Adhoc']:\n",
    "    feature_names=selected_feat[poi_column] #feature selection\n",
    "\n",
    "    for test_df_name in (zone_names+_7day_test):#iterator name\n",
    "\n",
    "        zoneName=test_df_name.split('_test_split.csv')[0].split('.')[0]\n",
    "        #output_result_filename = f\"{poi_column}_test_result_{zoneName}_zone.csv\"\n",
    "\n",
    "        #train_data_processing\n",
    "        train_csv_df = pd.read_csv(os.path.join(parent_dir, train_df_name))\n",
    "        train_df = train_csv_df[feature_names+[poi_column]]\n",
    "\n",
    "        #test data processing\n",
    "        test_csv_df = pd.read_csv(os.path.join(parent_dir, test_df_name))\n",
    "        test_df = test_csv_df[feature_names+[poi_column]]\n",
    "\n",
    "\n",
    "        #SMOTE on training data & get features ,labels\n",
    "        X = train_df[feature_names].copy()\n",
    "        y = train_df[poi_column].copy()\n",
    "\n",
    "        smote = SMOTE()\n",
    "        X_resampled, y_resampled = smote.fit_sample(X, y)\n",
    "        train_data = X_resampled.copy()\n",
    "        train_labels = y_resampled.copy()\n",
    "\n",
    "        #Test set get features & labels\n",
    "        test_data = test_df[feature_names].values\n",
    "        test_labels = test_df[poi_column].values\n",
    "\n",
    "        #Training with Random Forest\n",
    "        performance,pred_test=get_metrics_from_the_model(train_data,train_labels,test_data,test_labels,poi_column,zoneName)\n",
    "\n",
    "        #adding to performance list\n",
    "        perf.append(performance)\n",
    "\n",
    "        #creating prediction file\n",
    "        # test_csv_df[f'Prediction {poi_column}']=pred_test\n",
    "        # result_df=test_csv_df[['start_date','start_time','end_time',f'Prediction {poi_column}']].copy()\n",
    "        # result_df.columns=['instance_date', 'instance_start_time', 'instance_end_time',f'Prediction {poi_column}']\n",
    "        # result_df.to_csv(os.path.join(parent_dir, output_result_filename), index=False)\n",
    "\n",
    "        print(f'Completed for POI:{poi_column} and Zone:{zoneName}') #get results of length:{result_df.shape[0]}')"
   ]
  },
  {
   "source": [
    "# Saving Performance for all Modelings"
   ],
   "cell_type": "markdown",
   "metadata": {}
  },
  {
   "cell_type": "code",
   "execution_count": 5,
   "metadata": {},
   "outputs": [
    {
     "output_type": "execute_result",
     "data": {
      "text/plain": [
       "              poi                zone    tr_acc  tr_precision  tr_recall  \\\n",
       "0     Is_Bus_stop             station  0.800333      0.801127   0.800333   \n",
       "1     Is_Bus_stop            dvc_more  0.809333      0.810216   0.809333   \n",
       "2     Is_Bus_stop           54ft_road  0.805000      0.806281   0.805000   \n",
       "3     Is_Bus_stop       junction_mall  0.794000      0.794301   0.794000   \n",
       "4     Is_Bus_stop  prantika_bus_stand  0.799333      0.799950   0.799333   \n",
       "5     Is_Bus_stop           54ft_test  0.803667      0.804170   0.803667   \n",
       "6         Is_Turn             station  0.839814      0.844865   0.839814   \n",
       "7         Is_Turn            dvc_more  0.819551      0.824657   0.819551   \n",
       "8         Is_Turn           54ft_road  0.824480      0.831037   0.824480   \n",
       "9         Is_Turn       junction_mall  0.825849      0.831289   0.825849   \n",
       "10        Is_Turn  prantika_bus_stand  0.832968      0.837694   0.832968   \n",
       "11        Is_Turn           54ft_test  0.812979      0.815683   0.812979   \n",
       "12      Is_Signal             station  0.883579      0.889765   0.883579   \n",
       "13      Is_Signal            dvc_more  0.882059      0.889635   0.882059   \n",
       "14      Is_Signal           54ft_road  0.885100      0.893130   0.885100   \n",
       "15      Is_Signal       junction_mall  0.891182      0.898550   0.891182   \n",
       "16      Is_Signal  prantika_bus_stand  0.891616      0.899884   0.891616   \n",
       "17      Is_Signal           54ft_test  0.886403      0.894262   0.886403   \n",
       "18  Is_Congestion             station  0.771099      0.776024   0.771099   \n",
       "19  Is_Congestion            dvc_more  0.780510      0.782241   0.780510   \n",
       "20  Is_Congestion           54ft_road  0.769277      0.772317   0.769277   \n",
       "21  Is_Congestion       junction_mall  0.778689      0.784480   0.778689   \n",
       "22  Is_Congestion  prantika_bus_stand  0.778992      0.782755   0.778992   \n",
       "23  Is_Congestion           54ft_test  0.787492      0.792061   0.787492   \n",
       "24       Is_Adhoc             station  0.815625      0.820869   0.815625   \n",
       "25       Is_Adhoc            dvc_more  0.807102      0.809825   0.807102   \n",
       "26       Is_Adhoc           54ft_road  0.821875      0.825711   0.821875   \n",
       "27       Is_Adhoc       junction_mall  0.812500      0.818123   0.812500   \n",
       "28       Is_Adhoc  prantika_bus_stand  0.817614      0.819356   0.817614   \n",
       "29       Is_Adhoc           54ft_test  0.819034      0.823166   0.819034   \n",
       "\n",
       "    tr_f1-score    te_acc  te_precision  te_recall  te_f1-score  \n",
       "0      0.800202  0.840000      0.844118   0.840000     0.836111  \n",
       "1      0.809198  0.649351      0.721179   0.649351     0.667769  \n",
       "2      0.804796  0.681564      0.685263   0.681564     0.682884  \n",
       "3      0.793947  0.842105      0.848042   0.842105     0.844429  \n",
       "4      0.799230  0.701149      0.935751   0.701149     0.796039  \n",
       "5      0.803585  0.662013      0.678638   0.662013     0.666052  \n",
       "6      0.839225  0.640000      0.857725   0.640000     0.711842  \n",
       "7      0.818839  0.571429      0.611003   0.571429     0.583815  \n",
       "8      0.823606  0.508380      0.820770   0.508380     0.602427  \n",
       "9      0.825131  0.539474      0.797737   0.539474     0.572574  \n",
       "10     0.832382  0.517241      0.502973   0.517241     0.505863  \n",
       "11     0.812578  0.584864      0.648354   0.584864     0.605740  \n",
       "12     0.883116  0.860000      1.000000   0.860000     0.924731  \n",
       "13     0.881483  0.844156      0.910797   0.844156     0.874212  \n",
       "14     0.884510  0.597765      1.000000   0.597765     0.748252  \n",
       "15     0.890676  0.381579      0.768698   0.381579     0.404698  \n",
       "16     0.891053  0.793103      1.000000   0.793103     0.884615  \n",
       "17     0.885834  0.713446      0.921359   0.713446     0.786196  \n",
       "18     0.770073  0.560000      0.736027   0.560000     0.625863  \n",
       "19     0.780173  0.818182      0.944056   0.818182     0.876623  \n",
       "20     0.768632  0.882682      0.988159   0.882682     0.932447  \n",
       "21     0.777556  0.644737      0.967105   0.644737     0.773684  \n",
       "22     0.778254  0.862069      1.000000   0.862069     0.925926  \n",
       "23     0.786658  0.801616      0.950793   0.801616     0.868655  \n",
       "24     0.814869  0.600000      0.597284   0.600000     0.594745  \n",
       "25     0.806677  0.623377      0.675605   0.623377     0.641823  \n",
       "26     0.821349  0.620112      0.620112   0.620112     0.620112  \n",
       "27     0.811668  0.776316      0.751454   0.776316     0.755684  \n",
       "28     0.817365  0.540230      0.551103   0.540230     0.538405  \n",
       "29     0.818454  0.598090      0.597571   0.598090     0.597815  "
      ],
      "text/html": "<div>\n<style scoped>\n    .dataframe tbody tr th:only-of-type {\n        vertical-align: middle;\n    }\n\n    .dataframe tbody tr th {\n        vertical-align: top;\n    }\n\n    .dataframe thead th {\n        text-align: right;\n    }\n</style>\n<table border=\"1\" class=\"dataframe\">\n  <thead>\n    <tr style=\"text-align: right;\">\n      <th></th>\n      <th>poi</th>\n      <th>zone</th>\n      <th>tr_acc</th>\n      <th>tr_precision</th>\n      <th>tr_recall</th>\n      <th>tr_f1-score</th>\n      <th>te_acc</th>\n      <th>te_precision</th>\n      <th>te_recall</th>\n      <th>te_f1-score</th>\n    </tr>\n  </thead>\n  <tbody>\n    <tr>\n      <td>0</td>\n      <td>Is_Bus_stop</td>\n      <td>station</td>\n      <td>0.800333</td>\n      <td>0.801127</td>\n      <td>0.800333</td>\n      <td>0.800202</td>\n      <td>0.840000</td>\n      <td>0.844118</td>\n      <td>0.840000</td>\n      <td>0.836111</td>\n    </tr>\n    <tr>\n      <td>1</td>\n      <td>Is_Bus_stop</td>\n      <td>dvc_more</td>\n      <td>0.809333</td>\n      <td>0.810216</td>\n      <td>0.809333</td>\n      <td>0.809198</td>\n      <td>0.649351</td>\n      <td>0.721179</td>\n      <td>0.649351</td>\n      <td>0.667769</td>\n    </tr>\n    <tr>\n      <td>2</td>\n      <td>Is_Bus_stop</td>\n      <td>54ft_road</td>\n      <td>0.805000</td>\n      <td>0.806281</td>\n      <td>0.805000</td>\n      <td>0.804796</td>\n      <td>0.681564</td>\n      <td>0.685263</td>\n      <td>0.681564</td>\n      <td>0.682884</td>\n    </tr>\n    <tr>\n      <td>3</td>\n      <td>Is_Bus_stop</td>\n      <td>junction_mall</td>\n      <td>0.794000</td>\n      <td>0.794301</td>\n      <td>0.794000</td>\n      <td>0.793947</td>\n      <td>0.842105</td>\n      <td>0.848042</td>\n      <td>0.842105</td>\n      <td>0.844429</td>\n    </tr>\n    <tr>\n      <td>4</td>\n      <td>Is_Bus_stop</td>\n      <td>prantika_bus_stand</td>\n      <td>0.799333</td>\n      <td>0.799950</td>\n      <td>0.799333</td>\n      <td>0.799230</td>\n      <td>0.701149</td>\n      <td>0.935751</td>\n      <td>0.701149</td>\n      <td>0.796039</td>\n    </tr>\n    <tr>\n      <td>5</td>\n      <td>Is_Bus_stop</td>\n      <td>54ft_test</td>\n      <td>0.803667</td>\n      <td>0.804170</td>\n      <td>0.803667</td>\n      <td>0.803585</td>\n      <td>0.662013</td>\n      <td>0.678638</td>\n      <td>0.662013</td>\n      <td>0.666052</td>\n    </tr>\n    <tr>\n      <td>6</td>\n      <td>Is_Turn</td>\n      <td>station</td>\n      <td>0.839814</td>\n      <td>0.844865</td>\n      <td>0.839814</td>\n      <td>0.839225</td>\n      <td>0.640000</td>\n      <td>0.857725</td>\n      <td>0.640000</td>\n      <td>0.711842</td>\n    </tr>\n    <tr>\n      <td>7</td>\n      <td>Is_Turn</td>\n      <td>dvc_more</td>\n      <td>0.819551</td>\n      <td>0.824657</td>\n      <td>0.819551</td>\n      <td>0.818839</td>\n      <td>0.571429</td>\n      <td>0.611003</td>\n      <td>0.571429</td>\n      <td>0.583815</td>\n    </tr>\n    <tr>\n      <td>8</td>\n      <td>Is_Turn</td>\n      <td>54ft_road</td>\n      <td>0.824480</td>\n      <td>0.831037</td>\n      <td>0.824480</td>\n      <td>0.823606</td>\n      <td>0.508380</td>\n      <td>0.820770</td>\n      <td>0.508380</td>\n      <td>0.602427</td>\n    </tr>\n    <tr>\n      <td>9</td>\n      <td>Is_Turn</td>\n      <td>junction_mall</td>\n      <td>0.825849</td>\n      <td>0.831289</td>\n      <td>0.825849</td>\n      <td>0.825131</td>\n      <td>0.539474</td>\n      <td>0.797737</td>\n      <td>0.539474</td>\n      <td>0.572574</td>\n    </tr>\n    <tr>\n      <td>10</td>\n      <td>Is_Turn</td>\n      <td>prantika_bus_stand</td>\n      <td>0.832968</td>\n      <td>0.837694</td>\n      <td>0.832968</td>\n      <td>0.832382</td>\n      <td>0.517241</td>\n      <td>0.502973</td>\n      <td>0.517241</td>\n      <td>0.505863</td>\n    </tr>\n    <tr>\n      <td>11</td>\n      <td>Is_Turn</td>\n      <td>54ft_test</td>\n      <td>0.812979</td>\n      <td>0.815683</td>\n      <td>0.812979</td>\n      <td>0.812578</td>\n      <td>0.584864</td>\n      <td>0.648354</td>\n      <td>0.584864</td>\n      <td>0.605740</td>\n    </tr>\n    <tr>\n      <td>12</td>\n      <td>Is_Signal</td>\n      <td>station</td>\n      <td>0.883579</td>\n      <td>0.889765</td>\n      <td>0.883579</td>\n      <td>0.883116</td>\n      <td>0.860000</td>\n      <td>1.000000</td>\n      <td>0.860000</td>\n      <td>0.924731</td>\n    </tr>\n    <tr>\n      <td>13</td>\n      <td>Is_Signal</td>\n      <td>dvc_more</td>\n      <td>0.882059</td>\n      <td>0.889635</td>\n      <td>0.882059</td>\n      <td>0.881483</td>\n      <td>0.844156</td>\n      <td>0.910797</td>\n      <td>0.844156</td>\n      <td>0.874212</td>\n    </tr>\n    <tr>\n      <td>14</td>\n      <td>Is_Signal</td>\n      <td>54ft_road</td>\n      <td>0.885100</td>\n      <td>0.893130</td>\n      <td>0.885100</td>\n      <td>0.884510</td>\n      <td>0.597765</td>\n      <td>1.000000</td>\n      <td>0.597765</td>\n      <td>0.748252</td>\n    </tr>\n    <tr>\n      <td>15</td>\n      <td>Is_Signal</td>\n      <td>junction_mall</td>\n      <td>0.891182</td>\n      <td>0.898550</td>\n      <td>0.891182</td>\n      <td>0.890676</td>\n      <td>0.381579</td>\n      <td>0.768698</td>\n      <td>0.381579</td>\n      <td>0.404698</td>\n    </tr>\n    <tr>\n      <td>16</td>\n      <td>Is_Signal</td>\n      <td>prantika_bus_stand</td>\n      <td>0.891616</td>\n      <td>0.899884</td>\n      <td>0.891616</td>\n      <td>0.891053</td>\n      <td>0.793103</td>\n      <td>1.000000</td>\n      <td>0.793103</td>\n      <td>0.884615</td>\n    </tr>\n    <tr>\n      <td>17</td>\n      <td>Is_Signal</td>\n      <td>54ft_test</td>\n      <td>0.886403</td>\n      <td>0.894262</td>\n      <td>0.886403</td>\n      <td>0.885834</td>\n      <td>0.713446</td>\n      <td>0.921359</td>\n      <td>0.713446</td>\n      <td>0.786196</td>\n    </tr>\n    <tr>\n      <td>18</td>\n      <td>Is_Congestion</td>\n      <td>station</td>\n      <td>0.771099</td>\n      <td>0.776024</td>\n      <td>0.771099</td>\n      <td>0.770073</td>\n      <td>0.560000</td>\n      <td>0.736027</td>\n      <td>0.560000</td>\n      <td>0.625863</td>\n    </tr>\n    <tr>\n      <td>19</td>\n      <td>Is_Congestion</td>\n      <td>dvc_more</td>\n      <td>0.780510</td>\n      <td>0.782241</td>\n      <td>0.780510</td>\n      <td>0.780173</td>\n      <td>0.818182</td>\n      <td>0.944056</td>\n      <td>0.818182</td>\n      <td>0.876623</td>\n    </tr>\n    <tr>\n      <td>20</td>\n      <td>Is_Congestion</td>\n      <td>54ft_road</td>\n      <td>0.769277</td>\n      <td>0.772317</td>\n      <td>0.769277</td>\n      <td>0.768632</td>\n      <td>0.882682</td>\n      <td>0.988159</td>\n      <td>0.882682</td>\n      <td>0.932447</td>\n    </tr>\n    <tr>\n      <td>21</td>\n      <td>Is_Congestion</td>\n      <td>junction_mall</td>\n      <td>0.778689</td>\n      <td>0.784480</td>\n      <td>0.778689</td>\n      <td>0.777556</td>\n      <td>0.644737</td>\n      <td>0.967105</td>\n      <td>0.644737</td>\n      <td>0.773684</td>\n    </tr>\n    <tr>\n      <td>22</td>\n      <td>Is_Congestion</td>\n      <td>prantika_bus_stand</td>\n      <td>0.778992</td>\n      <td>0.782755</td>\n      <td>0.778992</td>\n      <td>0.778254</td>\n      <td>0.862069</td>\n      <td>1.000000</td>\n      <td>0.862069</td>\n      <td>0.925926</td>\n    </tr>\n    <tr>\n      <td>23</td>\n      <td>Is_Congestion</td>\n      <td>54ft_test</td>\n      <td>0.787492</td>\n      <td>0.792061</td>\n      <td>0.787492</td>\n      <td>0.786658</td>\n      <td>0.801616</td>\n      <td>0.950793</td>\n      <td>0.801616</td>\n      <td>0.868655</td>\n    </tr>\n    <tr>\n      <td>24</td>\n      <td>Is_Adhoc</td>\n      <td>station</td>\n      <td>0.815625</td>\n      <td>0.820869</td>\n      <td>0.815625</td>\n      <td>0.814869</td>\n      <td>0.600000</td>\n      <td>0.597284</td>\n      <td>0.600000</td>\n      <td>0.594745</td>\n    </tr>\n    <tr>\n      <td>25</td>\n      <td>Is_Adhoc</td>\n      <td>dvc_more</td>\n      <td>0.807102</td>\n      <td>0.809825</td>\n      <td>0.807102</td>\n      <td>0.806677</td>\n      <td>0.623377</td>\n      <td>0.675605</td>\n      <td>0.623377</td>\n      <td>0.641823</td>\n    </tr>\n    <tr>\n      <td>26</td>\n      <td>Is_Adhoc</td>\n      <td>54ft_road</td>\n      <td>0.821875</td>\n      <td>0.825711</td>\n      <td>0.821875</td>\n      <td>0.821349</td>\n      <td>0.620112</td>\n      <td>0.620112</td>\n      <td>0.620112</td>\n      <td>0.620112</td>\n    </tr>\n    <tr>\n      <td>27</td>\n      <td>Is_Adhoc</td>\n      <td>junction_mall</td>\n      <td>0.812500</td>\n      <td>0.818123</td>\n      <td>0.812500</td>\n      <td>0.811668</td>\n      <td>0.776316</td>\n      <td>0.751454</td>\n      <td>0.776316</td>\n      <td>0.755684</td>\n    </tr>\n    <tr>\n      <td>28</td>\n      <td>Is_Adhoc</td>\n      <td>prantika_bus_stand</td>\n      <td>0.817614</td>\n      <td>0.819356</td>\n      <td>0.817614</td>\n      <td>0.817365</td>\n      <td>0.540230</td>\n      <td>0.551103</td>\n      <td>0.540230</td>\n      <td>0.538405</td>\n    </tr>\n    <tr>\n      <td>29</td>\n      <td>Is_Adhoc</td>\n      <td>54ft_test</td>\n      <td>0.819034</td>\n      <td>0.823166</td>\n      <td>0.819034</td>\n      <td>0.818454</td>\n      <td>0.598090</td>\n      <td>0.597571</td>\n      <td>0.598090</td>\n      <td>0.597815</td>\n    </tr>\n  </tbody>\n</table>\n</div>"
     },
     "metadata": {},
     "execution_count": 5
    }
   ],
   "source": [
    "df=pd.DataFrame(perf)\n",
    "df.to_csv(os.path.join(parent_dir, 'modeling_performance_temporal.csv'),index=False)\n",
    "df"
   ]
  },
  {
   "cell_type": "code",
   "execution_count": 6,
   "metadata": {},
   "outputs": [],
   "source": [
    "#NICE"
   ]
  },
  {
   "source": [
    "# On only Testing Dataset"
   ],
   "cell_type": "markdown",
   "metadata": {}
  },
  {
   "cell_type": "code",
   "execution_count": 9,
   "metadata": {},
   "outputs": [
    {
     "output_type": "execute_result",
     "data": {
      "text/plain": [
       "              poi       zone    tr_acc  tr_precision  tr_recall  tr_f1-score  \\\n",
       "5     Is_Bus_stop  54ft_test  0.803667      0.804170   0.803667     0.803585   \n",
       "11        Is_Turn  54ft_test  0.812979      0.815683   0.812979     0.812578   \n",
       "17      Is_Signal  54ft_test  0.886403      0.894262   0.886403     0.885834   \n",
       "23  Is_Congestion  54ft_test  0.787492      0.792061   0.787492     0.786658   \n",
       "29       Is_Adhoc  54ft_test  0.819034      0.823166   0.819034     0.818454   \n",
       "\n",
       "      te_acc  te_precision  te_recall  te_f1-score  \n",
       "5   0.662013      0.678638   0.662013     0.666052  \n",
       "11  0.584864      0.648354   0.584864     0.605740  \n",
       "17  0.713446      0.921359   0.713446     0.786196  \n",
       "23  0.801616      0.950793   0.801616     0.868655  \n",
       "29  0.598090      0.597571   0.598090     0.597815  "
      ],
      "text/html": "<div>\n<style scoped>\n    .dataframe tbody tr th:only-of-type {\n        vertical-align: middle;\n    }\n\n    .dataframe tbody tr th {\n        vertical-align: top;\n    }\n\n    .dataframe thead th {\n        text-align: right;\n    }\n</style>\n<table border=\"1\" class=\"dataframe\">\n  <thead>\n    <tr style=\"text-align: right;\">\n      <th></th>\n      <th>poi</th>\n      <th>zone</th>\n      <th>tr_acc</th>\n      <th>tr_precision</th>\n      <th>tr_recall</th>\n      <th>tr_f1-score</th>\n      <th>te_acc</th>\n      <th>te_precision</th>\n      <th>te_recall</th>\n      <th>te_f1-score</th>\n    </tr>\n  </thead>\n  <tbody>\n    <tr>\n      <td>5</td>\n      <td>Is_Bus_stop</td>\n      <td>54ft_test</td>\n      <td>0.803667</td>\n      <td>0.804170</td>\n      <td>0.803667</td>\n      <td>0.803585</td>\n      <td>0.662013</td>\n      <td>0.678638</td>\n      <td>0.662013</td>\n      <td>0.666052</td>\n    </tr>\n    <tr>\n      <td>11</td>\n      <td>Is_Turn</td>\n      <td>54ft_test</td>\n      <td>0.812979</td>\n      <td>0.815683</td>\n      <td>0.812979</td>\n      <td>0.812578</td>\n      <td>0.584864</td>\n      <td>0.648354</td>\n      <td>0.584864</td>\n      <td>0.605740</td>\n    </tr>\n    <tr>\n      <td>17</td>\n      <td>Is_Signal</td>\n      <td>54ft_test</td>\n      <td>0.886403</td>\n      <td>0.894262</td>\n      <td>0.886403</td>\n      <td>0.885834</td>\n      <td>0.713446</td>\n      <td>0.921359</td>\n      <td>0.713446</td>\n      <td>0.786196</td>\n    </tr>\n    <tr>\n      <td>23</td>\n      <td>Is_Congestion</td>\n      <td>54ft_test</td>\n      <td>0.787492</td>\n      <td>0.792061</td>\n      <td>0.787492</td>\n      <td>0.786658</td>\n      <td>0.801616</td>\n      <td>0.950793</td>\n      <td>0.801616</td>\n      <td>0.868655</td>\n    </tr>\n    <tr>\n      <td>29</td>\n      <td>Is_Adhoc</td>\n      <td>54ft_test</td>\n      <td>0.819034</td>\n      <td>0.823166</td>\n      <td>0.819034</td>\n      <td>0.818454</td>\n      <td>0.598090</td>\n      <td>0.597571</td>\n      <td>0.598090</td>\n      <td>0.597815</td>\n    </tr>\n  </tbody>\n</table>\n</div>"
     },
     "metadata": {},
     "execution_count": 9
    }
   ],
   "source": [
    "df_pref_testset=df[df.zone=='54ft_test'].copy()\n",
    "df_pref_testset.to_csv(os.path.join(parent_dir, 'modeling_performance_on_testset_temporal.csv'),index=False)\n",
    "df_pref_testset"
   ]
  },
  {
   "cell_type": "code",
   "execution_count": 10,
   "metadata": {},
   "outputs": [
    {
     "output_type": "stream",
     "name": "stdout",
     "text": [
      "Mean f1: 0.7048915344955882 Std f1: 0.11856842296933302\n"
     ]
    }
   ],
   "source": [
    "print('Mean f1:',df_pref_testset['te_f1-score'].mean(),'Std f1:',df_pref_testset['te_f1-score'].std())"
   ]
  },
  {
   "cell_type": "code",
   "execution_count": 9,
   "metadata": {},
   "outputs": [],
   "source": [
    "#DONE"
   ]
  }
 ],
 "metadata": {
  "kernelspec": {
   "display_name": "Python 3",
   "language": "python",
   "name": "python3"
  },
  "language_info": {
   "codemirror_mode": {
    "name": "ipython",
    "version": 3
   },
   "file_extension": ".py",
   "mimetype": "text/x-python",
   "name": "python",
   "nbconvert_exporter": "python",
   "pygments_lexer": "ipython3",
   "version": "3.7.4-final"
  }
 },
 "nbformat": 4,
 "nbformat_minor": 4
}