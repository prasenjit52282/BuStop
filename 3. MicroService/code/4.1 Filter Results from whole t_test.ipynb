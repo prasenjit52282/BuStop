{
 "metadata": {
  "language_info": {
   "codemirror_mode": {
    "name": "ipython",
    "version": 3
   },
   "file_extension": ".py",
   "mimetype": "text/x-python",
   "name": "python",
   "nbconvert_exporter": "python",
   "pygments_lexer": "ipython3",
   "version": "3.7.9-final"
  },
  "orig_nbformat": 2,
  "kernelspec": {
   "name": "python3",
   "display_name": "Python 3.7.9 64-bit ('myenv': conda)",
   "metadata": {
    "interpreter": {
     "hash": "60bffd1f21bedd6f03d40aa91927a6e1df6d5f5962e4ebdfb14713a17f668098"
    }
   }
  }
 },
 "nbformat": 4,
 "nbformat_minor": 2,
 "cells": [
  {
   "cell_type": "code",
   "execution_count": 1,
   "metadata": {},
   "outputs": [],
   "source": [
    "import numpy as np \n",
    "import pandas as pd \n",
    "from itertools import combinations,product"
   ]
  },
  {
   "cell_type": "code",
   "execution_count": 2,
   "metadata": {},
   "outputs": [],
   "source": [
    "df=pd.read_csv(\"../reports/welch_t_test/whole_comb_t_test.csv\")"
   ]
  },
  {
   "source": [
    "# Q1. DateWise t_test results where Zone & timeZone is irrelavent"
   ],
   "cell_type": "markdown",
   "metadata": {}
  },
  {
   "cell_type": "code",
   "execution_count": 3,
   "metadata": {},
   "outputs": [],
   "source": [
    "dates=['2019-09-14','2019-09-15','2019-09-16','2019-09-17','2019-09-20','2019-09-21','2019-09-23']"
   ]
  },
  {
   "cell_type": "code",
   "execution_count": 4,
   "metadata": {},
   "outputs": [],
   "source": [
    "res1= pd.concat([df[(df.left_date==date[0]) & (df.right_date==date[1]) & (df.left_zone=='54ft_test') & (df.right_zone=='54ft_test') & (df.left_time_zone=='*') & (df.right_time_zone=='*')] for date in combinations(dates,2)],axis=0)\n",
    "\n",
    "res1.to_csv(\"../reports/observ/DateWise.csv\",index=False)"
   ]
  },
  {
   "source": [
    "# Q2. Date * , Zone (Loop) , TZ (Comb)"
   ],
   "cell_type": "markdown",
   "metadata": {}
  },
  {
   "cell_type": "code",
   "execution_count": 5,
   "metadata": {},
   "outputs": [],
   "source": [
    "zone=['54ft_road','dvc_more','junction_mall','prantika_bus_stand','station','54ft_test']\n",
    "timezone=['Early_Morning','Morning','Afternoon','Evening']"
   ]
  },
  {
   "cell_type": "code",
   "execution_count": 6,
   "metadata": {},
   "outputs": [],
   "source": [
    "req_subset=list(product(zone,list(combinations(timezone,2))))\n",
    "\n",
    "\n",
    "res2= pd.concat([df[(df.left_date=='*') & (df.right_date=='*') & (df.left_zone==comb[0]) & (df.right_zone==comb[0]) & (df.left_time_zone==comb[1][0]) & (df.right_time_zone==comb[1][1])] for comb in req_subset],axis=0)\n",
    "\n",
    "res2.to_csv(\"../reports/observ/date_all_same_zone_across_tz.csv\",index=False)"
   ]
  },
  {
   "source": [
    "# Q3. Date *, Zone(comb), TZ(loop)"
   ],
   "cell_type": "markdown",
   "metadata": {}
  },
  {
   "cell_type": "code",
   "execution_count": 7,
   "metadata": {},
   "outputs": [],
   "source": [
    "req_subset=list(product(timezone,list(combinations(zone[:-1],2))))\n",
    "\n",
    "\n",
    "res3= pd.concat([df[(df.left_date=='*') & (df.right_date=='*') & (df.left_zone==comb[1][0]) & (df.right_zone==comb[1][1]) & (df.left_time_zone==comb[0]) & (df.right_time_zone==comb[0])] for comb in req_subset],axis=0)\n",
    "\n",
    "res3.to_csv(\"../reports/observ/date_all_same_tz_across_zone.csv\",index=False)"
   ]
  },
  {
   "source": [
    "# Q4. Date * , Zone(Comb), TZ(Comb)"
   ],
   "cell_type": "markdown",
   "metadata": {}
  },
  {
   "cell_type": "code",
   "execution_count": 8,
   "metadata": {},
   "outputs": [],
   "source": [
    "req_subset=list(product(list(combinations(timezone,2)),list(combinations(zone[:-1],2))))\n",
    "\n",
    "res4= pd.concat([df[(df.left_date=='*') & (df.right_date=='*') & (df.left_zone==comb[1][0]) & (df.right_zone==comb[1][1]) & (df.left_time_zone==comb[0][0]) & (df.right_time_zone==comb[0][1])] for comb in req_subset],axis=0)\n",
    "\n",
    "res4.to_csv(\"../reports/observ/date_all_across_tz_across_zone.csv\",index=False)"
   ]
  },
  {
   "cell_type": "code",
   "execution_count": 9,
   "metadata": {},
   "outputs": [],
   "source": [
    "#NICE"
   ]
  }
 ]
}