{
 "cells": [
  {
   "cell_type": "code",
   "execution_count": 1,
   "metadata": {},
   "outputs": [],
   "source": [
    "import os\n",
    "import pandas as pd \n",
    "import numpy as np "
   ]
  },
  {
   "cell_type": "code",
   "execution_count": 2,
   "metadata": {},
   "outputs": [],
   "source": [
    "# parent directory path\n",
    "parent_dir = r\"../data/54ft/\"\n",
    "\n",
    "# input csv for 54ft or similar\n",
    "analysed_csv = r\"DataSet_54F_mfcc.csv\"\n",
    "\n",
    "# output csv names\n",
    "train_output = r\"54ft_train.csv\"\n",
    "test_output = r\"54ft_test.csv\"\n",
    "\n",
    "# Test days from the last of the collected data\n",
    "test_days_from_first=7 #first n days out of 20 days"
   ]
  },
  {
   "cell_type": "markdown",
   "metadata": {},
   "source": [
    "# Data "
   ]
  },
  {
   "cell_type": "code",
   "execution_count": 3,
   "metadata": {},
   "outputs": [],
   "source": [
    "df= pd.read_csv(os.path.join(parent_dir, analysed_csv)) #reading whole dataset\n",
    "\n",
    "#formating dates for sorting  yyyy-mm-dd format to filter last 7 days...\n",
    "dates_arr=df.start_date.apply(lambda e:\"-\".join(np.array(e.split(\"/\"))[[2,0,1]]))\n",
    "sorted_unique_dates=sorted(dates_arr.unique()) #sorted unique days from dates array"
   ]
  },
  {
   "cell_type": "markdown",
   "metadata": {},
   "source": [
    "# Splitting Dataset into Training & Testing Part"
   ]
  },
  {
   "cell_type": "code",
   "execution_count": 4,
   "metadata": {},
   "outputs": [],
   "source": [
    "#train data is that part which is not in the first n days\n",
    "train_df=df[dates_arr.apply(lambda e:e not in  sorted_unique_dates[:test_days_from_first])].copy()\n",
    "\n",
    "#test part is that part which is in the first n days\n",
    "test_df=df[dates_arr.apply(lambda e:e in  sorted_unique_dates[:test_days_from_first])].copy()"
   ]
  },
  {
   "cell_type": "markdown",
   "metadata": {},
   "source": [
    "test_days_from_last=N \n",
    "\n",
    "#train data is that part which is not in the last n days\n",
    "train_df=df[dates_arr.apply(lambda e:e not in  sorted_unique_dates[-test_days_from_last:])].copy()\n",
    "\n",
    "#test part is that part which is in the first n days\n",
    "test_df=df[dates_arr.apply(lambda e:e in  sorted_unique_dates[-test_days_from_last:])].copy()"
   ]
  },
  {
   "cell_type": "code",
   "execution_count": 5,
   "metadata": {},
   "outputs": [],
   "source": [
    "train_df.to_csv(os.path.join(parent_dir, train_output), index=False)\n",
    "test_df.to_csv(os.path.join(parent_dir, test_output), index=False)"
   ]
  },
  {
   "cell_type": "code",
   "execution_count": 6,
   "metadata": {},
   "outputs": [],
   "source": [
    "#NICE"
   ]
  }
 ],
 "metadata": {
  "kernelspec": {
   "display_name": "Python 3 (ipykernel)",
   "language": "python",
   "name": "python3"
  },
  "language_info": {
   "codemirror_mode": {
    "name": "ipython",
    "version": 3
   },
   "file_extension": ".py",
   "mimetype": "text/x-python",
   "name": "python",
   "nbconvert_exporter": "python",
   "pygments_lexer": "ipython3",
   "version": "3.8.12"
  }
 },
 "nbformat": 4,
 "nbformat_minor": 4
}
