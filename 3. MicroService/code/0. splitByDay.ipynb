{
 "cells": [
  {
   "cell_type": "code",
   "execution_count": 1,
   "metadata": {},
   "outputs": [],
   "source": [
    "from library.daySplitLib import splitDays\n",
    "import os"
   ]
  },
  {
   "cell_type": "code",
   "execution_count": 2,
   "metadata": {},
   "outputs": [],
   "source": [
    "# parent directory path\n",
    "parent_dir = r\"../data/54ft/\"\n",
    "\n",
    "# input csv for 54ft or similar\n",
    "analysed_csv = r\"DataSet_54F_mfcc.csv\"\n",
    "\n",
    "# output csv names\n",
    "train_output = r\"54ft_train.csv\"\n",
    "test_output = r\"54ft_test.csv\"\n",
    "\n",
    "# Train split percentage\n",
    "train_split = 0.65"
   ]
  },
  {
   "cell_type": "code",
   "execution_count": 3,
   "metadata": {},
   "outputs": [
    {
     "output_type": "stream",
     "name": "stdout",
     "text": [
      "Total number of days recorded: 20\n",
      "Days in training set: 13\n",
      "Days in training set: 7\n",
      "Total instances in processed df: 3840\n",
      "Total instances in training df: 2480\n",
      "Total instances in testing df: 1360\n"
     ]
    }
   ],
   "source": [
    "# Method signature : splitDays(path_to_processed_csv, train_split_ratio=0.7, day_column_name=\"start_date\")\n",
    "#\n",
    "# Params: path_to_analysed_csv: String = Path to the processed csv obtained after raw preprocessing\n",
    "#         train_split_ratio: float/int = To specify the percentage of data to keep in the training split.\n",
    "#                                           The testing split ratio is the complementary of this.\n",
    "#         day_column_name: String = To specify the column name of the date column in processed csv\n",
    "#\n",
    "# Return: train split, test split: pd.DataFrame, pd.DataFrame\n",
    "\n",
    "train_df, test_df = splitDays(os.path.join(parent_dir, analysed_csv), train_split)"
   ]
  },
  {
   "cell_type": "code",
   "execution_count": 4,
   "metadata": {},
   "outputs": [],
   "source": [
    "train_df.to_csv(os.path.join(parent_dir, train_output), index=False)\n",
    "test_df.to_csv(os.path.join(parent_dir, test_output), index=False)"
   ]
  },
  {
   "cell_type": "code",
   "execution_count": null,
   "metadata": {},
   "outputs": [],
   "source": []
  },
  {
   "cell_type": "code",
   "execution_count": null,
   "metadata": {},
   "outputs": [],
   "source": []
  }
 ],
 "metadata": {
  "kernelspec": {
   "display_name": "Python 3",
   "language": "python",
   "name": "python3"
  },
  "language_info": {
   "codemirror_mode": {
    "name": "ipython",
    "version": 3
   },
   "file_extension": ".py",
   "mimetype": "text/x-python",
   "name": "python",
   "nbconvert_exporter": "python",
   "pygments_lexer": "ipython3",
   "version": "3.7.4-final"
  }
 },
 "nbformat": 4,
 "nbformat_minor": 4
}