{
 "metadata": {
  "language_info": {
   "codemirror_mode": {
    "name": "ipython",
    "version": 3
   },
   "file_extension": ".py",
   "mimetype": "text/x-python",
   "name": "python",
   "nbconvert_exporter": "python",
   "pygments_lexer": "ipython3",
   "version": "3.7.4-final"
  },
  "orig_nbformat": 2,
  "kernelspec": {
   "name": "python3",
   "display_name": "Python 3",
   "language": "python"
  }
 },
 "nbformat": 4,
 "nbformat_minor": 2,
 "cells": [
  {
   "cell_type": "code",
   "execution_count": 1,
   "metadata": {},
   "outputs": [],
   "source": [
    "import os\n",
    "import glob\n",
    "import pandas as pd\n",
    "import matplotlib.pyplot as plt \n",
    "%matplotlib inline"
   ]
  },
  {
   "cell_type": "code",
   "execution_count": 2,
   "metadata": {},
   "outputs": [],
   "source": [
    "input_dir=r\"../reports/54ft/\"\n",
    "\n",
    "#file Name\n",
    "zone_names=list(map(lambda e:f\"{e}_test_split.csv\",[\"station\",\"dvc_more\",\"54ft_road\",\"junction_mall\",\"prantika_bus_stand\"]))\n",
    "\n",
    "_7day_test=[\"54ft_test.csv\"]"
   ]
  },
  {
   "source": [
    "# Plotting Boxplots"
   ],
   "cell_type": "markdown",
   "metadata": {}
  },
  {
   "cell_type": "code",
   "execution_count": 3,
   "metadata": {},
   "outputs": [
    {
     "output_type": "stream",
     "name": "stdout",
     "text": [
      "Saving Box plot for Zone: station\n",
      "Saving Box plot for Zone: dvc_more\n",
      "Saving Box plot for Zone: 54ft_road\n",
      "Saving Box plot for Zone: junction_mall\n",
      "Saving Box plot for Zone: prantika_bus_stand\n",
      "Saving Box plot for Zone: 54ft_test\n"
     ]
    }
   ],
   "source": [
    "for test_df_name in (zone_names+_7day_test):#iterator name\n",
    "    zoneName=test_df_name.split('_test_split.csv')[0].split('.')[0]\n",
    "\n",
    "    files=glob.glob(input_dir + zoneName + \"/DateWise/*.csv\")\n",
    "    fig, ax = plt.subplots(figsize=(10,7))\n",
    "\n",
    "    ax.boxplot([pd.read_csv(f).scores for f in files],positions=[i for i in range(len(files))],showfliers=False,notch=False,patch_artist=True, boxprops=dict(linewidth=3.0,color='black',facecolor=\"lightblue\"),\n",
    "                whiskerprops = dict(linestyle='-',linewidth=3.0, color='black'),\n",
    "                capprops=dict(linestyle='-',linewidth=3.0, color='black'),\n",
    "                medianprops=dict(linestyle='-',linewidth=3.0, color='orange')\n",
    "            )\n",
    "    ax.set_xticklabels([f.split(os.path.sep)[1].split(\".\")[0] for f in files], rotation=40, ha='right')\n",
    "\n",
    "    plt.ylabel(\"Scores\",fontsize=22, fontweight='bold')\n",
    "    plt.xlabel(\"Date\",fontsize=22, fontweight='bold')\n",
    "    plt.yticks(fontsize=22, fontweight='bold')\n",
    "    plt.xticks(fontsize=22, fontweight='bold')\n",
    "    plt.tight_layout()\n",
    "    plt.grid()\n",
    "    plt.close()\n",
    "\n",
    "\n",
    "    fig.savefig(input_dir + zoneName+f\"/score_boxplot_{zoneName}.png\") #saving to output path\n",
    "    print(f\"Saving Box plot for Zone: {zoneName}\")"
   ]
  },
  {
   "cell_type": "code",
   "execution_count": null,
   "metadata": {},
   "outputs": [],
   "source": [
    "#NICE"
   ]
  }
 ]
}