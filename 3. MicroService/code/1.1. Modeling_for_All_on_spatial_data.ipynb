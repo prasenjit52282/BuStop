{
 "cells": [
  {
   "cell_type": "markdown",
   "metadata": {},
   "source": [
    "# Imports"
   ]
  },
  {
   "cell_type": "code",
   "execution_count": 1,
   "metadata": {},
   "outputs": [],
   "source": [
    "from sklearn.ensemble import RandomForestClassifier\n",
    "from sklearn.metrics import *\n",
    "from imblearn.over_sampling import SMOTE\n",
    "import pandas as pd\n",
    "import os"
   ]
  },
  {
   "cell_type": "markdown",
   "metadata": {},
   "source": [
    "## Constants"
   ]
  },
  {
   "cell_type": "code",
   "execution_count": 2,
   "metadata": {},
   "outputs": [],
   "source": [
    "parent_dir = r\"../data/54ft/\"\n",
    "train_df_name = r\"54ft_train.csv\"\n",
    "\n",
    "#feature # binding\n",
    "F=\\\n",
    "    {1:'stay_duration', #f1\n",
    "     2:'mfcc0',3:'mfcc1',4:'mfcc2',5:'mfcc3',6:'mfcc4', #f2,f3,f4,f5,f6\n",
    "     7:'wifi_count', 8:'edge_wifi_count', #f7,f8\n",
    "     9:'RSI', #f9\n",
    "     10:'human_made', 11:'natural_land',12:'road_exist_percent',13:'highly_populated_poi_exist'#f10,f11,f12,f13\n",
    "    }\n",
    "\n",
    "selected_feat=\\\n",
    "    {\n",
    "        'Is_Bus_stop':[F[e] for e in [9,10,11,12,13]],\n",
    "        'Is_Turn':[F[e] for e in [9,10,11,12,13]],\n",
    "        'Is_Signal':[F[e] for e in [9,10,11,12,13]],\n",
    "        'Is_Congestion':[F[e] for e in [9,10,11,12,13]],\n",
    "        'Is_Adhoc':[F[e] for e in [9,10,11,12,13]]\n",
    "    }\n",
    "\n",
    "\n",
    "#file Names\n",
    "zone_names=list(map(lambda e:f\"{e}_test_split.csv\",[\"station\",\"dvc_more\",\"54ft_road\",\"junction_mall\",\"prantika_bus_stand\"]))\n",
    "\n",
    "_7day_test=[\"54ft_test.csv\"]"
   ]
  },
  {
   "cell_type": "code",
   "execution_count": 3,
   "metadata": {},
   "outputs": [],
   "source": [
    "#Modeling function\n",
    "def get_metrics_from_the_model(train,labels_train,test,labels_test,poi,zone):\n",
    "    rf=RandomForestClassifier(n_estimators=100,max_depth=8,random_state=42)\n",
    "    rf.fit(train, labels_train)\n",
    "\n",
    "    pred_train= rf.predict(train)\n",
    "    pred_test= rf.predict(test)\n",
    "    \n",
    "    performance={'poi':poi,'zone':zone,\n",
    "                 'tr_acc':accuracy_score(labels_train,pred_train),\n",
    "                 'tr_precision':precision_score(labels_train,pred_train,average='weighted'),\n",
    "                 'tr_recall':recall_score(labels_train,pred_train,average='weighted'),\n",
    "                 'tr_f1-score':f1_score(labels_train,pred_train,average='weighted'),\n",
    "\n",
    "                 'te_acc':accuracy_score(labels_test,pred_test),\n",
    "                 'te_precision':precision_score(labels_test, pred_test,average='weighted'),\n",
    "                 'te_recall':recall_score(labels_test, pred_test,average='weighted'),\n",
    "                 'te_f1-score':f1_score(labels_test, pred_test,average='weighted')}\n",
    "    return performance,pred_test\n",
    "    "
   ]
  },
  {
   "cell_type": "markdown",
   "metadata": {},
   "source": [
    "## Modeling"
   ]
  },
  {
   "cell_type": "code",
   "execution_count": 4,
   "metadata": {},
   "outputs": [
    {
     "output_type": "stream",
     "name": "stdout",
     "text": [
      "Completed for POI:Is_Bus_stop and Zone:station\n",
      "Completed for POI:Is_Bus_stop and Zone:dvc_more\n",
      "Completed for POI:Is_Bus_stop and Zone:54ft_road\n",
      "Completed for POI:Is_Bus_stop and Zone:junction_mall\n",
      "Completed for POI:Is_Bus_stop and Zone:prantika_bus_stand\n",
      "Completed for POI:Is_Bus_stop and Zone:54ft_test\n",
      "Completed for POI:Is_Turn and Zone:station\n",
      "Completed for POI:Is_Turn and Zone:dvc_more\n",
      "Completed for POI:Is_Turn and Zone:54ft_road\n",
      "Completed for POI:Is_Turn and Zone:junction_mall\n",
      "Completed for POI:Is_Turn and Zone:prantika_bus_stand\n",
      "Completed for POI:Is_Turn and Zone:54ft_test\n",
      "Completed for POI:Is_Signal and Zone:station\n",
      "Completed for POI:Is_Signal and Zone:dvc_more\n",
      "Completed for POI:Is_Signal and Zone:54ft_road\n",
      "Completed for POI:Is_Signal and Zone:junction_mall\n",
      "Completed for POI:Is_Signal and Zone:prantika_bus_stand\n",
      "Completed for POI:Is_Signal and Zone:54ft_test\n",
      "Completed for POI:Is_Congestion and Zone:station\n",
      "Completed for POI:Is_Congestion and Zone:dvc_more\n",
      "Completed for POI:Is_Congestion and Zone:54ft_road\n",
      "Completed for POI:Is_Congestion and Zone:junction_mall\n",
      "Completed for POI:Is_Congestion and Zone:prantika_bus_stand\n",
      "Completed for POI:Is_Congestion and Zone:54ft_test\n",
      "Completed for POI:Is_Adhoc and Zone:station\n",
      "Completed for POI:Is_Adhoc and Zone:dvc_more\n",
      "Completed for POI:Is_Adhoc and Zone:54ft_road\n",
      "Completed for POI:Is_Adhoc and Zone:junction_mall\n",
      "Completed for POI:Is_Adhoc and Zone:prantika_bus_stand\n",
      "Completed for POI:Is_Adhoc and Zone:54ft_test\n"
     ]
    }
   ],
   "source": [
    "perf=[] #performance list\n",
    "\n",
    "\n",
    "for poi_column in ['Is_Bus_stop','Is_Turn','Is_Signal','Is_Congestion','Is_Adhoc']:\n",
    "    feature_names=selected_feat[poi_column] #feature selection\n",
    "\n",
    "    for test_df_name in (zone_names+_7day_test):#iterator name\n",
    "\n",
    "        zoneName=test_df_name.split('_test_split.csv')[0].split('.')[0]\n",
    "        #output_result_filename = f\"{poi_column}_test_result_{zoneName}_zone.csv\"\n",
    "\n",
    "        #train_data_processing\n",
    "        train_csv_df = pd.read_csv(os.path.join(parent_dir, train_df_name))\n",
    "        train_df = train_csv_df[feature_names+[poi_column]]\n",
    "\n",
    "        #test data processing\n",
    "        test_csv_df = pd.read_csv(os.path.join(parent_dir, test_df_name))\n",
    "        test_df = test_csv_df[feature_names+[poi_column]]\n",
    "\n",
    "\n",
    "        #SMOTE on training data & get features ,labels\n",
    "        X = train_df[feature_names].copy()\n",
    "        y = train_df[poi_column].copy()\n",
    "\n",
    "        smote = SMOTE()\n",
    "        X_resampled, y_resampled = smote.fit_sample(X, y)\n",
    "        train_data = X_resampled.copy()\n",
    "        train_labels = y_resampled.copy()\n",
    "\n",
    "        #Test set get features & labels\n",
    "        test_data = test_df[feature_names].values\n",
    "        test_labels = test_df[poi_column].values\n",
    "\n",
    "        #Training with Random Forest\n",
    "        performance,pred_test=get_metrics_from_the_model(train_data,train_labels,test_data,test_labels,poi_column,zoneName)\n",
    "\n",
    "        #adding to performance list\n",
    "        perf.append(performance)\n",
    "\n",
    "        #creating prediction file\n",
    "        # test_csv_df[f'Prediction {poi_column}']=pred_test\n",
    "        # result_df=test_csv_df[['start_date','start_time','end_time',f'Prediction {poi_column}']].copy()\n",
    "        # result_df.columns=['instance_date', 'instance_start_time', 'instance_end_time',f'Prediction {poi_column}']\n",
    "        # result_df.to_csv(os.path.join(parent_dir, output_result_filename), index=False)\n",
    "\n",
    "        print(f'Completed for POI:{poi_column} and Zone:{zoneName}') #get results of length:{result_df.shape[0]}')"
   ]
  },
  {
   "source": [
    "# Saving Performance for all Modelings"
   ],
   "cell_type": "markdown",
   "metadata": {}
  },
  {
   "cell_type": "code",
   "execution_count": 5,
   "metadata": {},
   "outputs": [
    {
     "output_type": "execute_result",
     "data": {
      "text/plain": [
       "              poi                zone    tr_acc  tr_precision  tr_recall  \\\n",
       "0     Is_Bus_stop             station  0.935333      0.936638   0.935333   \n",
       "1     Is_Bus_stop            dvc_more  0.932000      0.933631   0.932000   \n",
       "2     Is_Bus_stop           54ft_road  0.938667      0.939680   0.938667   \n",
       "3     Is_Bus_stop       junction_mall  0.933667      0.934586   0.933667   \n",
       "4     Is_Bus_stop  prantika_bus_stand  0.930000      0.931695   0.930000   \n",
       "5     Is_Bus_stop           54ft_test  0.931000      0.932736   0.931000   \n",
       "6         Is_Turn             station  0.913472      0.915033   0.913472   \n",
       "7         Is_Turn            dvc_more  0.910460      0.912784   0.910460   \n",
       "8         Is_Turn           54ft_road  0.907174      0.908853   0.907174   \n",
       "9         Is_Turn       junction_mall  0.906079      0.908053   0.906079   \n",
       "10        Is_Turn  prantika_bus_stand  0.898686      0.900533   0.898686   \n",
       "11        Is_Turn           54ft_test  0.906079      0.908311   0.906079   \n",
       "12      Is_Signal             station  0.932667      0.939547   0.932667   \n",
       "13      Is_Signal            dvc_more  0.926151      0.935203   0.926151   \n",
       "14      Is_Signal           54ft_road  0.942224      0.947417   0.942224   \n",
       "15      Is_Signal       junction_mall  0.942441      0.947101   0.942441   \n",
       "16      Is_Signal  prantika_bus_stand  0.933102      0.940184   0.933102   \n",
       "17      Is_Signal           54ft_test  0.935925      0.942052   0.935925   \n",
       "18  Is_Congestion             station  0.854281      0.860249   0.854281   \n",
       "19  Is_Congestion            dvc_more  0.851548      0.855200   0.851548   \n",
       "20  Is_Congestion           54ft_road  0.849727      0.854908   0.849727   \n",
       "21  Is_Congestion       junction_mall  0.850941      0.855136   0.850941   \n",
       "22  Is_Congestion  prantika_bus_stand  0.849120      0.853388   0.849120   \n",
       "23  Is_Congestion           54ft_test  0.858227      0.864320   0.858227   \n",
       "24       Is_Adhoc             station  0.864489      0.864503   0.864489   \n",
       "25       Is_Adhoc            dvc_more  0.859659      0.860645   0.859659   \n",
       "26       Is_Adhoc           54ft_road  0.865909      0.867094   0.865909   \n",
       "27       Is_Adhoc       junction_mall  0.860511      0.861750   0.860511   \n",
       "28       Is_Adhoc  prantika_bus_stand  0.855682      0.856494   0.855682   \n",
       "29       Is_Adhoc           54ft_test  0.866193      0.866267   0.866193   \n",
       "\n",
       "    tr_f1-score    te_acc  te_precision  te_recall  te_f1-score  \n",
       "0      0.935285  0.740000      0.791133   0.740000     0.740936  \n",
       "1      0.931936  0.896104      0.896104   0.896104     0.896104  \n",
       "2      0.938631  0.921788      0.928155   0.921788     0.920451  \n",
       "3      0.933632  0.960526      0.962533   0.960526     0.959441  \n",
       "4      0.929931  0.942529      0.931440   0.942529     0.936952  \n",
       "5      0.930931  0.873622      0.884774   0.873622     0.875023  \n",
       "6      0.913391  0.980000      0.980435   0.980000     0.978999  \n",
       "7      0.910334  0.740260      0.728390   0.740260     0.719184  \n",
       "8      0.907079  0.949721      0.961981   0.949721     0.953255  \n",
       "9      0.905965  0.934211      0.933103   0.934211     0.933421  \n",
       "10     0.898569  0.873563      0.902538   0.873563     0.873931  \n",
       "11     0.905950  0.864071      0.888625   0.864071     0.869257  \n",
       "12     0.932403  0.900000      1.000000   0.900000     0.947368  \n",
       "13     0.925765  0.935065      0.898154   0.935065     0.916238  \n",
       "14     0.942056  1.000000      1.000000   1.000000     1.000000  \n",
       "15     0.942291  0.618421      0.850889   0.618421     0.658975  \n",
       "16     0.932831  0.793103      1.000000   0.793103     0.884615  \n",
       "17     0.935703  0.861866      0.948779   0.861866     0.891200  \n",
       "18     0.853674  0.640000      0.806248   0.640000     0.693888  \n",
       "19     0.851166  0.870130      0.945793   0.870130     0.906385  \n",
       "20     0.849176  0.698324      0.994515   0.698324     0.816804  \n",
       "21     0.850500  0.052632      0.987022   0.052632     0.076267  \n",
       "22     0.848663  0.045977      1.000000   0.045977     0.087912  \n",
       "23     0.857632  0.603233      0.959858   0.603233     0.731588  \n",
       "24     0.864487  0.740000      0.739545   0.740000     0.739475  \n",
       "25     0.859563  0.675325      0.736535   0.675325     0.693002  \n",
       "26     0.865801  0.860335      0.881908   0.860335     0.854379  \n",
       "27     0.860392  0.776316      0.827018   0.776316     0.690542  \n",
       "28     0.855600  0.586207      0.710856   0.586207     0.538535  \n",
       "29     0.866186  0.739162      0.740128   0.739162     0.734675  "
      ],
      "text/html": "<div>\n<style scoped>\n    .dataframe tbody tr th:only-of-type {\n        vertical-align: middle;\n    }\n\n    .dataframe tbody tr th {\n        vertical-align: top;\n    }\n\n    .dataframe thead th {\n        text-align: right;\n    }\n</style>\n<table border=\"1\" class=\"dataframe\">\n  <thead>\n    <tr style=\"text-align: right;\">\n      <th></th>\n      <th>poi</th>\n      <th>zone</th>\n      <th>tr_acc</th>\n      <th>tr_precision</th>\n      <th>tr_recall</th>\n      <th>tr_f1-score</th>\n      <th>te_acc</th>\n      <th>te_precision</th>\n      <th>te_recall</th>\n      <th>te_f1-score</th>\n    </tr>\n  </thead>\n  <tbody>\n    <tr>\n      <td>0</td>\n      <td>Is_Bus_stop</td>\n      <td>station</td>\n      <td>0.935333</td>\n      <td>0.936638</td>\n      <td>0.935333</td>\n      <td>0.935285</td>\n      <td>0.740000</td>\n      <td>0.791133</td>\n      <td>0.740000</td>\n      <td>0.740936</td>\n    </tr>\n    <tr>\n      <td>1</td>\n      <td>Is_Bus_stop</td>\n      <td>dvc_more</td>\n      <td>0.932000</td>\n      <td>0.933631</td>\n      <td>0.932000</td>\n      <td>0.931936</td>\n      <td>0.896104</td>\n      <td>0.896104</td>\n      <td>0.896104</td>\n      <td>0.896104</td>\n    </tr>\n    <tr>\n      <td>2</td>\n      <td>Is_Bus_stop</td>\n      <td>54ft_road</td>\n      <td>0.938667</td>\n      <td>0.939680</td>\n      <td>0.938667</td>\n      <td>0.938631</td>\n      <td>0.921788</td>\n      <td>0.928155</td>\n      <td>0.921788</td>\n      <td>0.920451</td>\n    </tr>\n    <tr>\n      <td>3</td>\n      <td>Is_Bus_stop</td>\n      <td>junction_mall</td>\n      <td>0.933667</td>\n      <td>0.934586</td>\n      <td>0.933667</td>\n      <td>0.933632</td>\n      <td>0.960526</td>\n      <td>0.962533</td>\n      <td>0.960526</td>\n      <td>0.959441</td>\n    </tr>\n    <tr>\n      <td>4</td>\n      <td>Is_Bus_stop</td>\n      <td>prantika_bus_stand</td>\n      <td>0.930000</td>\n      <td>0.931695</td>\n      <td>0.930000</td>\n      <td>0.929931</td>\n      <td>0.942529</td>\n      <td>0.931440</td>\n      <td>0.942529</td>\n      <td>0.936952</td>\n    </tr>\n    <tr>\n      <td>5</td>\n      <td>Is_Bus_stop</td>\n      <td>54ft_test</td>\n      <td>0.931000</td>\n      <td>0.932736</td>\n      <td>0.931000</td>\n      <td>0.930931</td>\n      <td>0.873622</td>\n      <td>0.884774</td>\n      <td>0.873622</td>\n      <td>0.875023</td>\n    </tr>\n    <tr>\n      <td>6</td>\n      <td>Is_Turn</td>\n      <td>station</td>\n      <td>0.913472</td>\n      <td>0.915033</td>\n      <td>0.913472</td>\n      <td>0.913391</td>\n      <td>0.980000</td>\n      <td>0.980435</td>\n      <td>0.980000</td>\n      <td>0.978999</td>\n    </tr>\n    <tr>\n      <td>7</td>\n      <td>Is_Turn</td>\n      <td>dvc_more</td>\n      <td>0.910460</td>\n      <td>0.912784</td>\n      <td>0.910460</td>\n      <td>0.910334</td>\n      <td>0.740260</td>\n      <td>0.728390</td>\n      <td>0.740260</td>\n      <td>0.719184</td>\n    </tr>\n    <tr>\n      <td>8</td>\n      <td>Is_Turn</td>\n      <td>54ft_road</td>\n      <td>0.907174</td>\n      <td>0.908853</td>\n      <td>0.907174</td>\n      <td>0.907079</td>\n      <td>0.949721</td>\n      <td>0.961981</td>\n      <td>0.949721</td>\n      <td>0.953255</td>\n    </tr>\n    <tr>\n      <td>9</td>\n      <td>Is_Turn</td>\n      <td>junction_mall</td>\n      <td>0.906079</td>\n      <td>0.908053</td>\n      <td>0.906079</td>\n      <td>0.905965</td>\n      <td>0.934211</td>\n      <td>0.933103</td>\n      <td>0.934211</td>\n      <td>0.933421</td>\n    </tr>\n    <tr>\n      <td>10</td>\n      <td>Is_Turn</td>\n      <td>prantika_bus_stand</td>\n      <td>0.898686</td>\n      <td>0.900533</td>\n      <td>0.898686</td>\n      <td>0.898569</td>\n      <td>0.873563</td>\n      <td>0.902538</td>\n      <td>0.873563</td>\n      <td>0.873931</td>\n    </tr>\n    <tr>\n      <td>11</td>\n      <td>Is_Turn</td>\n      <td>54ft_test</td>\n      <td>0.906079</td>\n      <td>0.908311</td>\n      <td>0.906079</td>\n      <td>0.905950</td>\n      <td>0.864071</td>\n      <td>0.888625</td>\n      <td>0.864071</td>\n      <td>0.869257</td>\n    </tr>\n    <tr>\n      <td>12</td>\n      <td>Is_Signal</td>\n      <td>station</td>\n      <td>0.932667</td>\n      <td>0.939547</td>\n      <td>0.932667</td>\n      <td>0.932403</td>\n      <td>0.900000</td>\n      <td>1.000000</td>\n      <td>0.900000</td>\n      <td>0.947368</td>\n    </tr>\n    <tr>\n      <td>13</td>\n      <td>Is_Signal</td>\n      <td>dvc_more</td>\n      <td>0.926151</td>\n      <td>0.935203</td>\n      <td>0.926151</td>\n      <td>0.925765</td>\n      <td>0.935065</td>\n      <td>0.898154</td>\n      <td>0.935065</td>\n      <td>0.916238</td>\n    </tr>\n    <tr>\n      <td>14</td>\n      <td>Is_Signal</td>\n      <td>54ft_road</td>\n      <td>0.942224</td>\n      <td>0.947417</td>\n      <td>0.942224</td>\n      <td>0.942056</td>\n      <td>1.000000</td>\n      <td>1.000000</td>\n      <td>1.000000</td>\n      <td>1.000000</td>\n    </tr>\n    <tr>\n      <td>15</td>\n      <td>Is_Signal</td>\n      <td>junction_mall</td>\n      <td>0.942441</td>\n      <td>0.947101</td>\n      <td>0.942441</td>\n      <td>0.942291</td>\n      <td>0.618421</td>\n      <td>0.850889</td>\n      <td>0.618421</td>\n      <td>0.658975</td>\n    </tr>\n    <tr>\n      <td>16</td>\n      <td>Is_Signal</td>\n      <td>prantika_bus_stand</td>\n      <td>0.933102</td>\n      <td>0.940184</td>\n      <td>0.933102</td>\n      <td>0.932831</td>\n      <td>0.793103</td>\n      <td>1.000000</td>\n      <td>0.793103</td>\n      <td>0.884615</td>\n    </tr>\n    <tr>\n      <td>17</td>\n      <td>Is_Signal</td>\n      <td>54ft_test</td>\n      <td>0.935925</td>\n      <td>0.942052</td>\n      <td>0.935925</td>\n      <td>0.935703</td>\n      <td>0.861866</td>\n      <td>0.948779</td>\n      <td>0.861866</td>\n      <td>0.891200</td>\n    </tr>\n    <tr>\n      <td>18</td>\n      <td>Is_Congestion</td>\n      <td>station</td>\n      <td>0.854281</td>\n      <td>0.860249</td>\n      <td>0.854281</td>\n      <td>0.853674</td>\n      <td>0.640000</td>\n      <td>0.806248</td>\n      <td>0.640000</td>\n      <td>0.693888</td>\n    </tr>\n    <tr>\n      <td>19</td>\n      <td>Is_Congestion</td>\n      <td>dvc_more</td>\n      <td>0.851548</td>\n      <td>0.855200</td>\n      <td>0.851548</td>\n      <td>0.851166</td>\n      <td>0.870130</td>\n      <td>0.945793</td>\n      <td>0.870130</td>\n      <td>0.906385</td>\n    </tr>\n    <tr>\n      <td>20</td>\n      <td>Is_Congestion</td>\n      <td>54ft_road</td>\n      <td>0.849727</td>\n      <td>0.854908</td>\n      <td>0.849727</td>\n      <td>0.849176</td>\n      <td>0.698324</td>\n      <td>0.994515</td>\n      <td>0.698324</td>\n      <td>0.816804</td>\n    </tr>\n    <tr>\n      <td>21</td>\n      <td>Is_Congestion</td>\n      <td>junction_mall</td>\n      <td>0.850941</td>\n      <td>0.855136</td>\n      <td>0.850941</td>\n      <td>0.850500</td>\n      <td>0.052632</td>\n      <td>0.987022</td>\n      <td>0.052632</td>\n      <td>0.076267</td>\n    </tr>\n    <tr>\n      <td>22</td>\n      <td>Is_Congestion</td>\n      <td>prantika_bus_stand</td>\n      <td>0.849120</td>\n      <td>0.853388</td>\n      <td>0.849120</td>\n      <td>0.848663</td>\n      <td>0.045977</td>\n      <td>1.000000</td>\n      <td>0.045977</td>\n      <td>0.087912</td>\n    </tr>\n    <tr>\n      <td>23</td>\n      <td>Is_Congestion</td>\n      <td>54ft_test</td>\n      <td>0.858227</td>\n      <td>0.864320</td>\n      <td>0.858227</td>\n      <td>0.857632</td>\n      <td>0.603233</td>\n      <td>0.959858</td>\n      <td>0.603233</td>\n      <td>0.731588</td>\n    </tr>\n    <tr>\n      <td>24</td>\n      <td>Is_Adhoc</td>\n      <td>station</td>\n      <td>0.864489</td>\n      <td>0.864503</td>\n      <td>0.864489</td>\n      <td>0.864487</td>\n      <td>0.740000</td>\n      <td>0.739545</td>\n      <td>0.740000</td>\n      <td>0.739475</td>\n    </tr>\n    <tr>\n      <td>25</td>\n      <td>Is_Adhoc</td>\n      <td>dvc_more</td>\n      <td>0.859659</td>\n      <td>0.860645</td>\n      <td>0.859659</td>\n      <td>0.859563</td>\n      <td>0.675325</td>\n      <td>0.736535</td>\n      <td>0.675325</td>\n      <td>0.693002</td>\n    </tr>\n    <tr>\n      <td>26</td>\n      <td>Is_Adhoc</td>\n      <td>54ft_road</td>\n      <td>0.865909</td>\n      <td>0.867094</td>\n      <td>0.865909</td>\n      <td>0.865801</td>\n      <td>0.860335</td>\n      <td>0.881908</td>\n      <td>0.860335</td>\n      <td>0.854379</td>\n    </tr>\n    <tr>\n      <td>27</td>\n      <td>Is_Adhoc</td>\n      <td>junction_mall</td>\n      <td>0.860511</td>\n      <td>0.861750</td>\n      <td>0.860511</td>\n      <td>0.860392</td>\n      <td>0.776316</td>\n      <td>0.827018</td>\n      <td>0.776316</td>\n      <td>0.690542</td>\n    </tr>\n    <tr>\n      <td>28</td>\n      <td>Is_Adhoc</td>\n      <td>prantika_bus_stand</td>\n      <td>0.855682</td>\n      <td>0.856494</td>\n      <td>0.855682</td>\n      <td>0.855600</td>\n      <td>0.586207</td>\n      <td>0.710856</td>\n      <td>0.586207</td>\n      <td>0.538535</td>\n    </tr>\n    <tr>\n      <td>29</td>\n      <td>Is_Adhoc</td>\n      <td>54ft_test</td>\n      <td>0.866193</td>\n      <td>0.866267</td>\n      <td>0.866193</td>\n      <td>0.866186</td>\n      <td>0.739162</td>\n      <td>0.740128</td>\n      <td>0.739162</td>\n      <td>0.734675</td>\n    </tr>\n  </tbody>\n</table>\n</div>"
     },
     "metadata": {},
     "execution_count": 5
    }
   ],
   "source": [
    "df=pd.DataFrame(perf)\n",
    "df.to_csv(os.path.join(parent_dir, 'modeling_performance_spatial.csv'),index=False)\n",
    "df"
   ]
  },
  {
   "cell_type": "code",
   "execution_count": 6,
   "metadata": {},
   "outputs": [],
   "source": [
    "#NICE"
   ]
  },
  {
   "source": [
    "# On only Testing Dataset"
   ],
   "cell_type": "markdown",
   "metadata": {}
  },
  {
   "cell_type": "code",
   "execution_count": 7,
   "metadata": {},
   "outputs": [
    {
     "output_type": "execute_result",
     "data": {
      "text/plain": [
       "              poi       zone    tr_acc  tr_precision  tr_recall  tr_f1-score  \\\n",
       "5     Is_Bus_stop  54ft_test  0.931000      0.932736   0.931000     0.930931   \n",
       "11        Is_Turn  54ft_test  0.906079      0.908311   0.906079     0.905950   \n",
       "17      Is_Signal  54ft_test  0.935925      0.942052   0.935925     0.935703   \n",
       "23  Is_Congestion  54ft_test  0.858227      0.864320   0.858227     0.857632   \n",
       "29       Is_Adhoc  54ft_test  0.866193      0.866267   0.866193     0.866186   \n",
       "\n",
       "      te_acc  te_precision  te_recall  te_f1-score  \n",
       "5   0.873622      0.884774   0.873622     0.875023  \n",
       "11  0.864071      0.888625   0.864071     0.869257  \n",
       "17  0.861866      0.948779   0.861866     0.891200  \n",
       "23  0.603233      0.959858   0.603233     0.731588  \n",
       "29  0.739162      0.740128   0.739162     0.734675  "
      ],
      "text/html": "<div>\n<style scoped>\n    .dataframe tbody tr th:only-of-type {\n        vertical-align: middle;\n    }\n\n    .dataframe tbody tr th {\n        vertical-align: top;\n    }\n\n    .dataframe thead th {\n        text-align: right;\n    }\n</style>\n<table border=\"1\" class=\"dataframe\">\n  <thead>\n    <tr style=\"text-align: right;\">\n      <th></th>\n      <th>poi</th>\n      <th>zone</th>\n      <th>tr_acc</th>\n      <th>tr_precision</th>\n      <th>tr_recall</th>\n      <th>tr_f1-score</th>\n      <th>te_acc</th>\n      <th>te_precision</th>\n      <th>te_recall</th>\n      <th>te_f1-score</th>\n    </tr>\n  </thead>\n  <tbody>\n    <tr>\n      <td>5</td>\n      <td>Is_Bus_stop</td>\n      <td>54ft_test</td>\n      <td>0.931000</td>\n      <td>0.932736</td>\n      <td>0.931000</td>\n      <td>0.930931</td>\n      <td>0.873622</td>\n      <td>0.884774</td>\n      <td>0.873622</td>\n      <td>0.875023</td>\n    </tr>\n    <tr>\n      <td>11</td>\n      <td>Is_Turn</td>\n      <td>54ft_test</td>\n      <td>0.906079</td>\n      <td>0.908311</td>\n      <td>0.906079</td>\n      <td>0.905950</td>\n      <td>0.864071</td>\n      <td>0.888625</td>\n      <td>0.864071</td>\n      <td>0.869257</td>\n    </tr>\n    <tr>\n      <td>17</td>\n      <td>Is_Signal</td>\n      <td>54ft_test</td>\n      <td>0.935925</td>\n      <td>0.942052</td>\n      <td>0.935925</td>\n      <td>0.935703</td>\n      <td>0.861866</td>\n      <td>0.948779</td>\n      <td>0.861866</td>\n      <td>0.891200</td>\n    </tr>\n    <tr>\n      <td>23</td>\n      <td>Is_Congestion</td>\n      <td>54ft_test</td>\n      <td>0.858227</td>\n      <td>0.864320</td>\n      <td>0.858227</td>\n      <td>0.857632</td>\n      <td>0.603233</td>\n      <td>0.959858</td>\n      <td>0.603233</td>\n      <td>0.731588</td>\n    </tr>\n    <tr>\n      <td>29</td>\n      <td>Is_Adhoc</td>\n      <td>54ft_test</td>\n      <td>0.866193</td>\n      <td>0.866267</td>\n      <td>0.866193</td>\n      <td>0.866186</td>\n      <td>0.739162</td>\n      <td>0.740128</td>\n      <td>0.739162</td>\n      <td>0.734675</td>\n    </tr>\n  </tbody>\n</table>\n</div>"
     },
     "metadata": {},
     "execution_count": 7
    }
   ],
   "source": [
    "df_pref_testset=df[df.zone=='54ft_test'].copy()\n",
    "df_pref_testset.to_csv(os.path.join(parent_dir, 'modeling_performance_on_testset_spatial.csv'),index=False)\n",
    "df_pref_testset"
   ]
  },
  {
   "cell_type": "code",
   "execution_count": 8,
   "metadata": {},
   "outputs": [
    {
     "output_type": "stream",
     "name": "stdout",
     "text": [
      "Mean f1: 0.8203486319911791 Std f1: 0.08003064801609631\n"
     ]
    }
   ],
   "source": [
    "print('Mean f1:',df_pref_testset['te_f1-score'].mean(),'Std f1:',df_pref_testset['te_f1-score'].std())"
   ]
  },
  {
   "cell_type": "code",
   "execution_count": 9,
   "metadata": {},
   "outputs": [],
   "source": [
    "#DONE"
   ]
  }
 ],
 "metadata": {
  "kernelspec": {
   "display_name": "Python 3",
   "language": "python",
   "name": "python3"
  },
  "language_info": {
   "codemirror_mode": {
    "name": "ipython",
    "version": 3
   },
   "file_extension": ".py",
   "mimetype": "text/x-python",
   "name": "python",
   "nbconvert_exporter": "python",
   "pygments_lexer": "ipython3",
   "version": "3.7.4-final"
  }
 },
 "nbformat": 4,
 "nbformat_minor": 4
}