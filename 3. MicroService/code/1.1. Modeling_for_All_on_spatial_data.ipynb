{
 "cells": [
  {
   "cell_type": "markdown",
   "metadata": {},
   "source": [
    "# Imports"
   ]
  },
  {
   "cell_type": "code",
   "execution_count": 1,
   "metadata": {},
   "outputs": [],
   "source": [
    "from sklearn.ensemble import RandomForestClassifier\n",
    "from sklearn.metrics import *\n",
    "from imblearn.over_sampling import SMOTE\n",
    "import pandas as pd\n",
    "import os"
   ]
  },
  {
   "cell_type": "markdown",
   "metadata": {},
   "source": [
    "## Constants"
   ]
  },
  {
   "cell_type": "code",
   "execution_count": 2,
   "metadata": {},
   "outputs": [],
   "source": [
    "parent_dir = r\"../data/54ft/\"\n",
    "train_df_name = r\"54ft_train.csv\"\n",
    "\n",
    "#feature # binding\n",
    "F=\\\n",
    "    {1:'stay_duration', #f1\n",
    "     2:'mfcc0',3:'mfcc1',4:'mfcc2',5:'mfcc3',6:'mfcc4', #f2,f3,f4,f5,f6\n",
    "     7:'wifi_count', 8:'edge_wifi_count', #f7,f8\n",
    "     9:'RSI', #f9\n",
    "     10:'human_made', 11:'natural_land',12:'road_exist_percent',13:'highly_populated_poi_exist'#f10,f11,f12,f13\n",
    "    }\n",
    "\n",
    "selected_feat=\\\n",
    "    {\n",
    "        'Is_Bus_stop':[F[e] for e in [9,10,11,12,13]],\n",
    "        'Is_Turn':[F[e] for e in [9,10,11,12,13]],\n",
    "        'Is_Signal':[F[e] for e in [9,10,11,12,13]],\n",
    "        'Is_Congestion':[F[e] for e in [9,10,11,12,13]],\n",
    "        'Is_Adhoc':[F[e] for e in [9,10,11,12,13]]\n",
    "    }\n",
    "\n",
    "\n",
    "#file Names\n",
    "zone_names=list(map(lambda e:f\"{e}_test_split.csv\",[\"station\",\"dvc_more\",\"54ft_road\",\"junction_mall\",\"prantika_bus_stand\"]))\n",
    "\n",
    "_7day_test=[\"54ft_test.csv\"]"
   ]
  },
  {
   "cell_type": "code",
   "execution_count": 3,
   "metadata": {},
   "outputs": [],
   "source": [
    "#Modeling function (md#6)\n",
    "def get_metrics_from_the_model(train,labels_train,test,labels_test,poi,zone):\n",
    "    rf=RandomForestClassifier(n_estimators=100,max_depth=8,random_state=42) \n",
    "    rf.fit(train, labels_train)\n",
    "\n",
    "    pred_train= rf.predict(train)\n",
    "    pred_test= rf.predict(test)\n",
    "    \n",
    "    performance={'poi':poi,'zone':zone,\n",
    "                 'tr_acc':accuracy_score(labels_train,pred_train),\n",
    "                 'tr_precision':precision_score(labels_train,pred_train,average='weighted'),\n",
    "                 'tr_recall':recall_score(labels_train,pred_train,average='weighted'),\n",
    "                 'tr_f1-score':f1_score(labels_train,pred_train,average='weighted'),\n",
    "\n",
    "                 'te_acc':accuracy_score(labels_test,pred_test),\n",
    "                 'te_precision':precision_score(labels_test, pred_test,average='weighted'),\n",
    "                 'te_recall':recall_score(labels_test, pred_test,average='weighted'),\n",
    "                 'te_f1-score':f1_score(labels_test, pred_test,average='weighted')}\n",
    "    return performance,pred_test\n",
    "    "
   ]
  },
  {
   "cell_type": "markdown",
   "metadata": {},
   "source": [
    "## Modeling"
   ]
  },
  {
   "cell_type": "code",
   "execution_count": 4,
   "metadata": {},
   "outputs": [
    {
     "output_type": "stream",
     "name": "stdout",
     "text": [
      "Completed for POI:Is_Bus_stop and Zone:station\n",
      "Completed for POI:Is_Bus_stop and Zone:dvc_more\n",
      "Completed for POI:Is_Bus_stop and Zone:54ft_road\n",
      "Completed for POI:Is_Bus_stop and Zone:junction_mall\n",
      "Completed for POI:Is_Bus_stop and Zone:prantika_bus_stand\n",
      "Completed for POI:Is_Bus_stop and Zone:54ft_test\n",
      "Completed for POI:Is_Turn and Zone:station\n",
      "Completed for POI:Is_Turn and Zone:dvc_more\n",
      "Completed for POI:Is_Turn and Zone:54ft_road\n",
      "Completed for POI:Is_Turn and Zone:junction_mall\n",
      "Completed for POI:Is_Turn and Zone:prantika_bus_stand\n",
      "Completed for POI:Is_Turn and Zone:54ft_test\n",
      "Completed for POI:Is_Signal and Zone:station\n",
      "Completed for POI:Is_Signal and Zone:dvc_more\n",
      "Completed for POI:Is_Signal and Zone:54ft_road\n",
      "Completed for POI:Is_Signal and Zone:junction_mall\n",
      "Completed for POI:Is_Signal and Zone:prantika_bus_stand\n",
      "Completed for POI:Is_Signal and Zone:54ft_test\n",
      "Completed for POI:Is_Congestion and Zone:station\n",
      "Completed for POI:Is_Congestion and Zone:dvc_more\n",
      "Completed for POI:Is_Congestion and Zone:54ft_road\n",
      "Completed for POI:Is_Congestion and Zone:junction_mall\n",
      "Completed for POI:Is_Congestion and Zone:prantika_bus_stand\n",
      "Completed for POI:Is_Congestion and Zone:54ft_test\n",
      "Completed for POI:Is_Adhoc and Zone:station\n",
      "Completed for POI:Is_Adhoc and Zone:dvc_more\n",
      "Completed for POI:Is_Adhoc and Zone:54ft_road\n",
      "Completed for POI:Is_Adhoc and Zone:junction_mall\n",
      "Completed for POI:Is_Adhoc and Zone:prantika_bus_stand\n",
      "Completed for POI:Is_Adhoc and Zone:54ft_test\n"
     ]
    }
   ],
   "source": [
    "perf=[] #performance list\n",
    "\n",
    "\n",
    "for poi_column in ['Is_Bus_stop','Is_Turn','Is_Signal','Is_Congestion','Is_Adhoc']:\n",
    "    feature_names=selected_feat[poi_column] #feature selection\n",
    "\n",
    "    for test_df_name in (zone_names+_7day_test):#iterator name\n",
    "\n",
    "        zoneName=test_df_name.split('_test_split.csv')[0].split('.')[0]\n",
    "        #output_result_filename = f\"{poi_column}_test_result_{zoneName}_zone.csv\"\n",
    "\n",
    "        #train_data_processing\n",
    "        train_csv_df = pd.read_csv(os.path.join(parent_dir, train_df_name))\n",
    "        train_df = train_csv_df[feature_names+[poi_column]]\n",
    "\n",
    "        #test data processing\n",
    "        test_csv_df = pd.read_csv(os.path.join(parent_dir, test_df_name))\n",
    "        test_df = test_csv_df[feature_names+[poi_column]]\n",
    "\n",
    "\n",
    "        #SMOTE on training data & get features ,labels\n",
    "        X = train_df[feature_names].copy()\n",
    "        y = train_df[poi_column].copy()\n",
    "\n",
    "        smote = SMOTE()\n",
    "        X_resampled, y_resampled = smote.fit_sample(X, y)\n",
    "        train_data = X_resampled.copy()\n",
    "        train_labels = y_resampled.copy()\n",
    "\n",
    "        #Test set get features & labels\n",
    "        test_data = test_df[feature_names].values\n",
    "        test_labels = test_df[poi_column].values\n",
    "\n",
    "        #Training with Random Forest\n",
    "        performance,pred_test=get_metrics_from_the_model(train_data,train_labels,test_data,test_labels,poi_column,zoneName)\n",
    "\n",
    "        #adding to performance list\n",
    "        perf.append(performance)\n",
    "\n",
    "        #creating prediction file\n",
    "        # test_csv_df[f'Prediction {poi_column}']=pred_test\n",
    "        # result_df=test_csv_df[['start_date','start_time','end_time',f'Prediction {poi_column}']].copy()\n",
    "        # result_df.columns=['instance_date', 'instance_start_time', 'instance_end_time',f'Prediction {poi_column}']\n",
    "        # result_df.to_csv(os.path.join(parent_dir, output_result_filename), index=False)\n",
    "\n",
    "        print(f'Completed for POI:{poi_column} and Zone:{zoneName}') #get results of length:{result_df.shape[0]}')"
   ]
  },
  {
   "source": [
    "# Saving Performance for all Modelings"
   ],
   "cell_type": "markdown",
   "metadata": {}
  },
  {
   "cell_type": "code",
   "execution_count": 5,
   "metadata": {},
   "outputs": [
    {
     "output_type": "execute_result",
     "data": {
      "text/plain": [
       "              poi                zone    tr_acc  tr_precision  tr_recall  \\\n",
       "0     Is_Bus_stop             station  0.868333      0.871341   0.868333   \n",
       "1     Is_Bus_stop            dvc_more  0.867000      0.867824   0.867000   \n",
       "2     Is_Bus_stop           54ft_road  0.865333      0.867382   0.865333   \n",
       "3     Is_Bus_stop       junction_mall  0.885000      0.886360   0.885000   \n",
       "4     Is_Bus_stop  prantika_bus_stand  0.872667      0.873576   0.872667   \n",
       "5     Is_Bus_stop           54ft_test  0.870667      0.873217   0.870667   \n",
       "6         Is_Turn             station  0.853505      0.859459   0.853505   \n",
       "7         Is_Turn            dvc_more  0.854053      0.860329   0.854053   \n",
       "8         Is_Turn           54ft_road  0.856243      0.860438   0.856243   \n",
       "9         Is_Turn       junction_mall  0.850219      0.855425   0.850219   \n",
       "10        Is_Turn  prantika_bus_stand  0.853505      0.857668   0.853505   \n",
       "11        Is_Turn           54ft_test  0.853505      0.858857   0.853505   \n",
       "12      Is_Signal             station  0.882711      0.901343   0.882711   \n",
       "13      Is_Signal            dvc_more  0.885534      0.905189   0.885534   \n",
       "14      Is_Signal           54ft_road  0.892050      0.908283   0.892050   \n",
       "15      Is_Signal       junction_mall  0.883579      0.903216   0.883579   \n",
       "16      Is_Signal  prantika_bus_stand  0.887055      0.905740   0.887055   \n",
       "17      Is_Signal           54ft_test  0.885969      0.904680   0.885969   \n",
       "18  Is_Congestion             station  0.797207      0.801838   0.797207   \n",
       "19  Is_Congestion            dvc_more  0.788100      0.794350   0.788100   \n",
       "20  Is_Congestion           54ft_road  0.788403      0.795039   0.788403   \n",
       "21  Is_Congestion       junction_mall  0.790832      0.794630   0.790832   \n",
       "22  Is_Congestion  prantika_bus_stand  0.806618      0.812880   0.806618   \n",
       "23  Is_Congestion           54ft_test  0.803886      0.808161   0.803886   \n",
       "24       Is_Adhoc             station  0.792898      0.793649   0.792898   \n",
       "25       Is_Adhoc            dvc_more  0.802841      0.803861   0.802841   \n",
       "26       Is_Adhoc           54ft_road  0.790625      0.792397   0.790625   \n",
       "27       Is_Adhoc       junction_mall  0.801989      0.803067   0.801989   \n",
       "28       Is_Adhoc  prantika_bus_stand  0.797159      0.798789   0.797159   \n",
       "29       Is_Adhoc           54ft_test  0.807102      0.807925   0.807102   \n",
       "\n",
       "    tr_f1-score    te_acc  te_precision  te_recall  te_f1-score  \n",
       "0      0.868066  0.640000      0.736765   0.640000     0.631884  \n",
       "1      0.866925  0.870130      0.867023   0.870130     0.865534  \n",
       "2      0.865145  0.793296      0.847156   0.793296     0.774327  \n",
       "3      0.884899  0.855263      0.879026   0.855263     0.834285  \n",
       "4      0.872589  0.942529      0.931440   0.942529     0.936952  \n",
       "5      0.870445  0.821455      0.834990   0.821455     0.823527  \n",
       "6      0.852896  0.940000      0.943750   0.940000     0.928111  \n",
       "7      0.853414  0.675325      0.636073   0.675325     0.626214  \n",
       "8      0.855824  0.944134      0.959313   0.944134     0.948501  \n",
       "9      0.849669  0.921053      0.918991   0.921053     0.919068  \n",
       "10     0.853077  0.724138      0.832674   0.724138     0.714360  \n",
       "11     0.852957  0.806025      0.856384   0.806025     0.815665  \n",
       "12     0.881333  0.880000      1.000000   0.880000     0.936170  \n",
       "13     0.884129  0.896104      0.896104   0.896104     0.896104  \n",
       "14     0.890967  1.000000      1.000000   1.000000     1.000000  \n",
       "15     0.882145  0.552632      0.815042   0.552632     0.596942  \n",
       "16     0.885739  0.275862      1.000000   0.275862     0.432432  \n",
       "17     0.884635  0.754592      0.940712   0.754592     0.816403  \n",
       "18     0.796426  0.440000      0.792054   0.440000     0.508455  \n",
       "19     0.786969  0.870130      0.962086   0.870130     0.909762  \n",
       "20     0.787207  0.659218      0.994504   0.659218     0.788966  \n",
       "21     0.790156  0.026316      0.987018   0.026316     0.026316  \n",
       "22     0.805646  0.034483      1.000000   0.034483     0.066667  \n",
       "23     0.803203  0.576782      0.956554   0.576782     0.710990  \n",
       "24     0.792765  0.600000      0.611189   0.600000     0.565775  \n",
       "25     0.802675  0.597403      0.701974   0.597403     0.622160  \n",
       "26     0.790307  0.804469      0.832358   0.804469     0.792507  \n",
       "27     0.801812  0.815789      0.851608   0.815789     0.767096  \n",
       "28     0.796882  0.563218      0.668455   0.563218     0.512898  \n",
       "29     0.806973  0.698751      0.696862   0.698751     0.695918  "
      ],
      "text/html": "<div>\n<style scoped>\n    .dataframe tbody tr th:only-of-type {\n        vertical-align: middle;\n    }\n\n    .dataframe tbody tr th {\n        vertical-align: top;\n    }\n\n    .dataframe thead th {\n        text-align: right;\n    }\n</style>\n<table border=\"1\" class=\"dataframe\">\n  <thead>\n    <tr style=\"text-align: right;\">\n      <th></th>\n      <th>poi</th>\n      <th>zone</th>\n      <th>tr_acc</th>\n      <th>tr_precision</th>\n      <th>tr_recall</th>\n      <th>tr_f1-score</th>\n      <th>te_acc</th>\n      <th>te_precision</th>\n      <th>te_recall</th>\n      <th>te_f1-score</th>\n    </tr>\n  </thead>\n  <tbody>\n    <tr>\n      <td>0</td>\n      <td>Is_Bus_stop</td>\n      <td>station</td>\n      <td>0.868333</td>\n      <td>0.871341</td>\n      <td>0.868333</td>\n      <td>0.868066</td>\n      <td>0.640000</td>\n      <td>0.736765</td>\n      <td>0.640000</td>\n      <td>0.631884</td>\n    </tr>\n    <tr>\n      <td>1</td>\n      <td>Is_Bus_stop</td>\n      <td>dvc_more</td>\n      <td>0.867000</td>\n      <td>0.867824</td>\n      <td>0.867000</td>\n      <td>0.866925</td>\n      <td>0.870130</td>\n      <td>0.867023</td>\n      <td>0.870130</td>\n      <td>0.865534</td>\n    </tr>\n    <tr>\n      <td>2</td>\n      <td>Is_Bus_stop</td>\n      <td>54ft_road</td>\n      <td>0.865333</td>\n      <td>0.867382</td>\n      <td>0.865333</td>\n      <td>0.865145</td>\n      <td>0.793296</td>\n      <td>0.847156</td>\n      <td>0.793296</td>\n      <td>0.774327</td>\n    </tr>\n    <tr>\n      <td>3</td>\n      <td>Is_Bus_stop</td>\n      <td>junction_mall</td>\n      <td>0.885000</td>\n      <td>0.886360</td>\n      <td>0.885000</td>\n      <td>0.884899</td>\n      <td>0.855263</td>\n      <td>0.879026</td>\n      <td>0.855263</td>\n      <td>0.834285</td>\n    </tr>\n    <tr>\n      <td>4</td>\n      <td>Is_Bus_stop</td>\n      <td>prantika_bus_stand</td>\n      <td>0.872667</td>\n      <td>0.873576</td>\n      <td>0.872667</td>\n      <td>0.872589</td>\n      <td>0.942529</td>\n      <td>0.931440</td>\n      <td>0.942529</td>\n      <td>0.936952</td>\n    </tr>\n    <tr>\n      <td>5</td>\n      <td>Is_Bus_stop</td>\n      <td>54ft_test</td>\n      <td>0.870667</td>\n      <td>0.873217</td>\n      <td>0.870667</td>\n      <td>0.870445</td>\n      <td>0.821455</td>\n      <td>0.834990</td>\n      <td>0.821455</td>\n      <td>0.823527</td>\n    </tr>\n    <tr>\n      <td>6</td>\n      <td>Is_Turn</td>\n      <td>station</td>\n      <td>0.853505</td>\n      <td>0.859459</td>\n      <td>0.853505</td>\n      <td>0.852896</td>\n      <td>0.940000</td>\n      <td>0.943750</td>\n      <td>0.940000</td>\n      <td>0.928111</td>\n    </tr>\n    <tr>\n      <td>7</td>\n      <td>Is_Turn</td>\n      <td>dvc_more</td>\n      <td>0.854053</td>\n      <td>0.860329</td>\n      <td>0.854053</td>\n      <td>0.853414</td>\n      <td>0.675325</td>\n      <td>0.636073</td>\n      <td>0.675325</td>\n      <td>0.626214</td>\n    </tr>\n    <tr>\n      <td>8</td>\n      <td>Is_Turn</td>\n      <td>54ft_road</td>\n      <td>0.856243</td>\n      <td>0.860438</td>\n      <td>0.856243</td>\n      <td>0.855824</td>\n      <td>0.944134</td>\n      <td>0.959313</td>\n      <td>0.944134</td>\n      <td>0.948501</td>\n    </tr>\n    <tr>\n      <td>9</td>\n      <td>Is_Turn</td>\n      <td>junction_mall</td>\n      <td>0.850219</td>\n      <td>0.855425</td>\n      <td>0.850219</td>\n      <td>0.849669</td>\n      <td>0.921053</td>\n      <td>0.918991</td>\n      <td>0.921053</td>\n      <td>0.919068</td>\n    </tr>\n    <tr>\n      <td>10</td>\n      <td>Is_Turn</td>\n      <td>prantika_bus_stand</td>\n      <td>0.853505</td>\n      <td>0.857668</td>\n      <td>0.853505</td>\n      <td>0.853077</td>\n      <td>0.724138</td>\n      <td>0.832674</td>\n      <td>0.724138</td>\n      <td>0.714360</td>\n    </tr>\n    <tr>\n      <td>11</td>\n      <td>Is_Turn</td>\n      <td>54ft_test</td>\n      <td>0.853505</td>\n      <td>0.858857</td>\n      <td>0.853505</td>\n      <td>0.852957</td>\n      <td>0.806025</td>\n      <td>0.856384</td>\n      <td>0.806025</td>\n      <td>0.815665</td>\n    </tr>\n    <tr>\n      <td>12</td>\n      <td>Is_Signal</td>\n      <td>station</td>\n      <td>0.882711</td>\n      <td>0.901343</td>\n      <td>0.882711</td>\n      <td>0.881333</td>\n      <td>0.880000</td>\n      <td>1.000000</td>\n      <td>0.880000</td>\n      <td>0.936170</td>\n    </tr>\n    <tr>\n      <td>13</td>\n      <td>Is_Signal</td>\n      <td>dvc_more</td>\n      <td>0.885534</td>\n      <td>0.905189</td>\n      <td>0.885534</td>\n      <td>0.884129</td>\n      <td>0.896104</td>\n      <td>0.896104</td>\n      <td>0.896104</td>\n      <td>0.896104</td>\n    </tr>\n    <tr>\n      <td>14</td>\n      <td>Is_Signal</td>\n      <td>54ft_road</td>\n      <td>0.892050</td>\n      <td>0.908283</td>\n      <td>0.892050</td>\n      <td>0.890967</td>\n      <td>1.000000</td>\n      <td>1.000000</td>\n      <td>1.000000</td>\n      <td>1.000000</td>\n    </tr>\n    <tr>\n      <td>15</td>\n      <td>Is_Signal</td>\n      <td>junction_mall</td>\n      <td>0.883579</td>\n      <td>0.903216</td>\n      <td>0.883579</td>\n      <td>0.882145</td>\n      <td>0.552632</td>\n      <td>0.815042</td>\n      <td>0.552632</td>\n      <td>0.596942</td>\n    </tr>\n    <tr>\n      <td>16</td>\n      <td>Is_Signal</td>\n      <td>prantika_bus_stand</td>\n      <td>0.887055</td>\n      <td>0.905740</td>\n      <td>0.887055</td>\n      <td>0.885739</td>\n      <td>0.275862</td>\n      <td>1.000000</td>\n      <td>0.275862</td>\n      <td>0.432432</td>\n    </tr>\n    <tr>\n      <td>17</td>\n      <td>Is_Signal</td>\n      <td>54ft_test</td>\n      <td>0.885969</td>\n      <td>0.904680</td>\n      <td>0.885969</td>\n      <td>0.884635</td>\n      <td>0.754592</td>\n      <td>0.940712</td>\n      <td>0.754592</td>\n      <td>0.816403</td>\n    </tr>\n    <tr>\n      <td>18</td>\n      <td>Is_Congestion</td>\n      <td>station</td>\n      <td>0.797207</td>\n      <td>0.801838</td>\n      <td>0.797207</td>\n      <td>0.796426</td>\n      <td>0.440000</td>\n      <td>0.792054</td>\n      <td>0.440000</td>\n      <td>0.508455</td>\n    </tr>\n    <tr>\n      <td>19</td>\n      <td>Is_Congestion</td>\n      <td>dvc_more</td>\n      <td>0.788100</td>\n      <td>0.794350</td>\n      <td>0.788100</td>\n      <td>0.786969</td>\n      <td>0.870130</td>\n      <td>0.962086</td>\n      <td>0.870130</td>\n      <td>0.909762</td>\n    </tr>\n    <tr>\n      <td>20</td>\n      <td>Is_Congestion</td>\n      <td>54ft_road</td>\n      <td>0.788403</td>\n      <td>0.795039</td>\n      <td>0.788403</td>\n      <td>0.787207</td>\n      <td>0.659218</td>\n      <td>0.994504</td>\n      <td>0.659218</td>\n      <td>0.788966</td>\n    </tr>\n    <tr>\n      <td>21</td>\n      <td>Is_Congestion</td>\n      <td>junction_mall</td>\n      <td>0.790832</td>\n      <td>0.794630</td>\n      <td>0.790832</td>\n      <td>0.790156</td>\n      <td>0.026316</td>\n      <td>0.987018</td>\n      <td>0.026316</td>\n      <td>0.026316</td>\n    </tr>\n    <tr>\n      <td>22</td>\n      <td>Is_Congestion</td>\n      <td>prantika_bus_stand</td>\n      <td>0.806618</td>\n      <td>0.812880</td>\n      <td>0.806618</td>\n      <td>0.805646</td>\n      <td>0.034483</td>\n      <td>1.000000</td>\n      <td>0.034483</td>\n      <td>0.066667</td>\n    </tr>\n    <tr>\n      <td>23</td>\n      <td>Is_Congestion</td>\n      <td>54ft_test</td>\n      <td>0.803886</td>\n      <td>0.808161</td>\n      <td>0.803886</td>\n      <td>0.803203</td>\n      <td>0.576782</td>\n      <td>0.956554</td>\n      <td>0.576782</td>\n      <td>0.710990</td>\n    </tr>\n    <tr>\n      <td>24</td>\n      <td>Is_Adhoc</td>\n      <td>station</td>\n      <td>0.792898</td>\n      <td>0.793649</td>\n      <td>0.792898</td>\n      <td>0.792765</td>\n      <td>0.600000</td>\n      <td>0.611189</td>\n      <td>0.600000</td>\n      <td>0.565775</td>\n    </tr>\n    <tr>\n      <td>25</td>\n      <td>Is_Adhoc</td>\n      <td>dvc_more</td>\n      <td>0.802841</td>\n      <td>0.803861</td>\n      <td>0.802841</td>\n      <td>0.802675</td>\n      <td>0.597403</td>\n      <td>0.701974</td>\n      <td>0.597403</td>\n      <td>0.622160</td>\n    </tr>\n    <tr>\n      <td>26</td>\n      <td>Is_Adhoc</td>\n      <td>54ft_road</td>\n      <td>0.790625</td>\n      <td>0.792397</td>\n      <td>0.790625</td>\n      <td>0.790307</td>\n      <td>0.804469</td>\n      <td>0.832358</td>\n      <td>0.804469</td>\n      <td>0.792507</td>\n    </tr>\n    <tr>\n      <td>27</td>\n      <td>Is_Adhoc</td>\n      <td>junction_mall</td>\n      <td>0.801989</td>\n      <td>0.803067</td>\n      <td>0.801989</td>\n      <td>0.801812</td>\n      <td>0.815789</td>\n      <td>0.851608</td>\n      <td>0.815789</td>\n      <td>0.767096</td>\n    </tr>\n    <tr>\n      <td>28</td>\n      <td>Is_Adhoc</td>\n      <td>prantika_bus_stand</td>\n      <td>0.797159</td>\n      <td>0.798789</td>\n      <td>0.797159</td>\n      <td>0.796882</td>\n      <td>0.563218</td>\n      <td>0.668455</td>\n      <td>0.563218</td>\n      <td>0.512898</td>\n    </tr>\n    <tr>\n      <td>29</td>\n      <td>Is_Adhoc</td>\n      <td>54ft_test</td>\n      <td>0.807102</td>\n      <td>0.807925</td>\n      <td>0.807102</td>\n      <td>0.806973</td>\n      <td>0.698751</td>\n      <td>0.696862</td>\n      <td>0.698751</td>\n      <td>0.695918</td>\n    </tr>\n  </tbody>\n</table>\n</div>"
     },
     "metadata": {},
     "execution_count": 5
    }
   ],
   "source": [
    "df=pd.DataFrame(perf)\n",
    "df.to_csv(os.path.join(parent_dir, 'modeling_performance_spatial.csv'),index=False)\n",
    "df"
   ]
  },
  {
   "cell_type": "code",
   "execution_count": 6,
   "metadata": {},
   "outputs": [],
   "source": [
    "#NICE"
   ]
  },
  {
   "source": [
    "# On only Testing Dataset"
   ],
   "cell_type": "markdown",
   "metadata": {}
  },
  {
   "cell_type": "code",
   "execution_count": 9,
   "metadata": {},
   "outputs": [
    {
     "output_type": "execute_result",
     "data": {
      "text/plain": [
       "              poi       zone    tr_acc  tr_precision  tr_recall  tr_f1-score  \\\n",
       "5     Is_Bus_stop  54ft_test  0.870667      0.873217   0.870667     0.870445   \n",
       "11        Is_Turn  54ft_test  0.853505      0.858857   0.853505     0.852957   \n",
       "17      Is_Signal  54ft_test  0.885969      0.904680   0.885969     0.884635   \n",
       "23  Is_Congestion  54ft_test  0.803886      0.808161   0.803886     0.803203   \n",
       "29       Is_Adhoc  54ft_test  0.807102      0.807925   0.807102     0.806973   \n",
       "\n",
       "      te_acc  te_precision  te_recall  te_f1-score  \n",
       "5   0.821455      0.834990   0.821455     0.823527  \n",
       "11  0.806025      0.856384   0.806025     0.815665  \n",
       "17  0.754592      0.940712   0.754592     0.816403  \n",
       "23  0.576782      0.956554   0.576782     0.710990  \n",
       "29  0.698751      0.696862   0.698751     0.695918  "
      ],
      "text/html": "<div>\n<style scoped>\n    .dataframe tbody tr th:only-of-type {\n        vertical-align: middle;\n    }\n\n    .dataframe tbody tr th {\n        vertical-align: top;\n    }\n\n    .dataframe thead th {\n        text-align: right;\n    }\n</style>\n<table border=\"1\" class=\"dataframe\">\n  <thead>\n    <tr style=\"text-align: right;\">\n      <th></th>\n      <th>poi</th>\n      <th>zone</th>\n      <th>tr_acc</th>\n      <th>tr_precision</th>\n      <th>tr_recall</th>\n      <th>tr_f1-score</th>\n      <th>te_acc</th>\n      <th>te_precision</th>\n      <th>te_recall</th>\n      <th>te_f1-score</th>\n    </tr>\n  </thead>\n  <tbody>\n    <tr>\n      <td>5</td>\n      <td>Is_Bus_stop</td>\n      <td>54ft_test</td>\n      <td>0.870667</td>\n      <td>0.873217</td>\n      <td>0.870667</td>\n      <td>0.870445</td>\n      <td>0.821455</td>\n      <td>0.834990</td>\n      <td>0.821455</td>\n      <td>0.823527</td>\n    </tr>\n    <tr>\n      <td>11</td>\n      <td>Is_Turn</td>\n      <td>54ft_test</td>\n      <td>0.853505</td>\n      <td>0.858857</td>\n      <td>0.853505</td>\n      <td>0.852957</td>\n      <td>0.806025</td>\n      <td>0.856384</td>\n      <td>0.806025</td>\n      <td>0.815665</td>\n    </tr>\n    <tr>\n      <td>17</td>\n      <td>Is_Signal</td>\n      <td>54ft_test</td>\n      <td>0.885969</td>\n      <td>0.904680</td>\n      <td>0.885969</td>\n      <td>0.884635</td>\n      <td>0.754592</td>\n      <td>0.940712</td>\n      <td>0.754592</td>\n      <td>0.816403</td>\n    </tr>\n    <tr>\n      <td>23</td>\n      <td>Is_Congestion</td>\n      <td>54ft_test</td>\n      <td>0.803886</td>\n      <td>0.808161</td>\n      <td>0.803886</td>\n      <td>0.803203</td>\n      <td>0.576782</td>\n      <td>0.956554</td>\n      <td>0.576782</td>\n      <td>0.710990</td>\n    </tr>\n    <tr>\n      <td>29</td>\n      <td>Is_Adhoc</td>\n      <td>54ft_test</td>\n      <td>0.807102</td>\n      <td>0.807925</td>\n      <td>0.807102</td>\n      <td>0.806973</td>\n      <td>0.698751</td>\n      <td>0.696862</td>\n      <td>0.698751</td>\n      <td>0.695918</td>\n    </tr>\n  </tbody>\n</table>\n</div>"
     },
     "metadata": {},
     "execution_count": 9
    }
   ],
   "source": [
    "df_pref_testset=df[df.zone=='54ft_test'].copy()\n",
    "df_pref_testset.to_csv(os.path.join(parent_dir, 'modeling_performance_on_testset_spatial.csv'),index=False)\n",
    "df_pref_testset"
   ]
  },
  {
   "cell_type": "code",
   "execution_count": 10,
   "metadata": {},
   "outputs": [
    {
     "output_type": "stream",
     "name": "stdout",
     "text": [
      "Mean f1: 0.772500657088298 Std f1: 0.0633297170435552\n"
     ]
    }
   ],
   "source": [
    "print('Mean f1:',df_pref_testset['te_f1-score'].mean(),'Std f1:',df_pref_testset['te_f1-score'].std())"
   ]
  },
  {
   "cell_type": "code",
   "execution_count": 9,
   "metadata": {},
   "outputs": [],
   "source": [
    "#DONE"
   ]
  }
 ],
 "metadata": {
  "kernelspec": {
   "display_name": "Python 3",
   "language": "python",
   "name": "python3"
  },
  "language_info": {
   "codemirror_mode": {
    "name": "ipython",
    "version": 3
   },
   "file_extension": ".py",
   "mimetype": "text/x-python",
   "name": "python",
   "nbconvert_exporter": "python",
   "pygments_lexer": "ipython3",
   "version": "3.7.4-final"
  }
 },
 "nbformat": 4,
 "nbformat_minor": 4
}