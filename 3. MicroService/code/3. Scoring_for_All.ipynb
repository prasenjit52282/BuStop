{
 "metadata": {
  "language_info": {
   "codemirror_mode": {
    "name": "ipython",
    "version": 3
   },
   "file_extension": ".py",
   "mimetype": "text/x-python",
   "name": "python",
   "nbconvert_exporter": "python",
   "pygments_lexer": "ipython3",
   "version": "3.7.4-final"
  },
  "orig_nbformat": 2,
  "kernelspec": {
   "name": "python3",
   "display_name": "Python 3",
   "language": "python"
  }
 },
 "nbformat": 4,
 "nbformat_minor": 2,
 "cells": [
  {
   "cell_type": "code",
   "execution_count": 1,
   "metadata": {},
   "outputs": [],
   "source": [
    "import os\n",
    "import pandas as pd\n",
    "import pickle\n",
    "from library.scoreCalculatorLibrary import calculate_score"
   ]
  },
  {
   "cell_type": "code",
   "execution_count": 2,
   "metadata": {},
   "outputs": [],
   "source": [
    "input_dir = r\"../data/54ft/\"\n",
    "output_dir=r\"../reports/54ft/\"\n",
    "\n",
    "#file Name\n",
    "zone_names=list(map(lambda e:f\"{e}_test_split.csv\",[\"station\",\"dvc_more\",\"54ft_road\",\"junction_mall\",\"prantika_bus_stand\"]))\n",
    "\n",
    "_7day_test=[\"54ft_test.csv\"]"
   ]
  },
  {
   "cell_type": "code",
   "execution_count": 3,
   "metadata": {},
   "outputs": [],
   "source": [
    "#Helper functions\n",
    "def remove_with_respect_to_poi_df(df,bus=0,turn=0,signal=0,congestion=0,adhoc=0):\n",
    "    return df[~((df['Prediction Is_Bus_stop']==bus)&(df['Prediction Is_Turn']==turn)&(df['Prediction Is_Signal']==signal)&(df['Prediction Is_Congestion']==congestion)&(df['Prediction Is_Adhoc']==adhoc))]\n",
    "\n",
    "# converts hour:minute:seconds to seconds\n",
    "def time_as_int(timestr):\n",
    "    hh, mm, ss = timestr.split(\":\")\n",
    "    time_int = (int(hh)*3600)+(int(mm)*60)+int(ss)\n",
    "    return time_int"
   ]
  },
  {
   "source": [
    "# Scoring"
   ],
   "cell_type": "markdown",
   "metadata": {}
  },
  {
   "cell_type": "code",
   "execution_count": 4,
   "metadata": {},
   "outputs": [
    {
     "output_type": "stream",
     "name": "stdout",
     "text": [
      "ON ZONE: station ON DATE:2019-06-28\n",
      "ON ZONE: station ON DATE:2019-06-30\n",
      "ON ZONE: station ON DATE:2019-07-01\n",
      "ON ZONE: station ON DATE:2019-07-02\n",
      "ON ZONE: station ON DATE:2019-07-03\n",
      "ON ZONE: station ON DATE:2019-07-04\n",
      "ON ZONE: station ON DATE:2019-07-05\n",
      "ON ZONE: dvc_more ON DATE:2019-06-28\n",
      "ON ZONE: dvc_more ON DATE:2019-06-30\n",
      "ON ZONE: dvc_more ON DATE:2019-07-01\n",
      "ON ZONE: dvc_more ON DATE:2019-07-02\n",
      "ON ZONE: dvc_more ON DATE:2019-07-03\n",
      "ON ZONE: dvc_more ON DATE:2019-07-04\n",
      "ON ZONE: dvc_more ON DATE:2019-07-05\n",
      "ON ZONE: 54ft_road ON DATE:2019-06-28\n",
      "ON ZONE: 54ft_road ON DATE:2019-06-30\n",
      "ON ZONE: 54ft_road ON DATE:2019-07-01\n",
      "ON ZONE: 54ft_road ON DATE:2019-07-02\n",
      "ON ZONE: 54ft_road ON DATE:2019-07-03\n",
      "ON ZONE: 54ft_road ON DATE:2019-07-04\n",
      "ON ZONE: 54ft_road ON DATE:2019-07-05\n",
      "ON ZONE: junction_mall ON DATE:2019-06-28\n",
      "ON ZONE: junction_mall ON DATE:2019-06-30\n",
      "ON ZONE: junction_mall ON DATE:2019-07-01\n",
      "ON ZONE: junction_mall ON DATE:2019-07-02\n",
      "ON ZONE: junction_mall ON DATE:2019-07-03\n",
      "ON ZONE: junction_mall ON DATE:2019-07-04\n",
      "ON ZONE: junction_mall ON DATE:2019-07-05\n",
      "ON ZONE: prantika_bus_stand ON DATE:2019-06-28\n",
      "ON ZONE: prantika_bus_stand ON DATE:2019-06-30\n",
      "ON ZONE: prantika_bus_stand ON DATE:2019-07-01\n",
      "ON ZONE: prantika_bus_stand ON DATE:2019-07-02\n",
      "ON ZONE: prantika_bus_stand ON DATE:2019-07-03\n",
      "ON ZONE: prantika_bus_stand ON DATE:2019-07-04\n",
      "ON ZONE: prantika_bus_stand ON DATE:2019-07-05\n",
      "ON ZONE: 54ft_test ON DATE:2019-06-28\n",
      "ON ZONE: 54ft_test ON DATE:2019-06-30\n",
      "ON ZONE: 54ft_test ON DATE:2019-07-01\n",
      "ON ZONE: 54ft_test ON DATE:2019-07-02\n",
      "ON ZONE: 54ft_test ON DATE:2019-07-03\n",
      "ON ZONE: 54ft_test ON DATE:2019-07-04\n",
      "ON ZONE: 54ft_test ON DATE:2019-07-05\n"
     ]
    }
   ],
   "source": [
    "overall=[] #overall array\n",
    "\n",
    "for test_df_name in (zone_names+_7day_test):#iterator name\n",
    "\n",
    "    zoneName=test_df_name.split('_test_split.csv')[0].split('.')[0]\n",
    "    input_filename = os.path.join(input_dir,f\"Predictions_merged_54ft_{zoneName}_zone.csv\")\n",
    "\n",
    "    os.makedirs(output_dir + zoneName, exist_ok=True) #outer directory\n",
    "    os.makedirs(output_dir + zoneName + \"/DateWise\", exist_ok=True) #date inner scores\n",
    "\n",
    "\n",
    "    #Getting the data for Zone to score\n",
    "    df=pd.read_csv(input_filename)\n",
    "    df=remove_with_respect_to_poi_df(df,bus=0,turn=1,signal=0,congestion=0,adhoc=0) #filter only turn\n",
    "    df=remove_with_respect_to_poi_df(df,bus=0,turn=0,signal=0,congestion=0,adhoc=0) #filter no poi\n",
    "\n",
    "\n",
    "    df['start_time']=df[\"instance_start_time\"].copy() #copying start_time\n",
    "    df['end_time']=df[\"instance_end_time\"].copy() #copying end_time\n",
    "\n",
    "    df[\"instance_start_time\"] = df[\"instance_start_time\"].apply(lambda x: time_as_int(x)) #convert to sec\n",
    "    df[\"instance_end_time\"] = df[\"instance_end_time\"].apply(lambda x: time_as_int(x)) #convert to sec\n",
    "\n",
    "\n",
    "    date_groups=df.groupby('instance_date') #date wise groups\n",
    "\n",
    "    for date in date_groups.groups.keys(): #loop over dates\n",
    "        date_data=date_groups.get_group(date) #get date data\n",
    "        overall_score, list_scores, no_of_instances = calculate_score(date_data) #cal score\n",
    "        date_data['scores']=list_scores #record scores\n",
    "\n",
    "        d=date.split(\"/\")                   #date formating\n",
    "        d='-'.join([d[e] for e in [2,0,1]]) #date formating\n",
    "\n",
    "        #saving scores for all instances of a perticular day\n",
    "        date_data[['start_time','end_time','scores']].to_csv(output_dir + zoneName + \"/DateWise\"+f\"/{d}.csv\",index=False)\n",
    "\n",
    "        print(f\"ON ZONE: {zoneName} ON DATE:{d}\")\n",
    "\n",
    "        #appending to overall array \"date scores\"\n",
    "        overall.append({'zone':zoneName,'date':d,'overall_score':overall_score})\n",
    "\n",
    "#saving overall scores over days\n",
    "pd.DataFrame(overall).to_csv(output_dir +\"/overall.csv\",index=False)\n"
   ]
  },
  {
   "cell_type": "code",
   "execution_count": 5,
   "metadata": {},
   "outputs": [],
   "source": [
    "#NICE"
   ]
  }
 ]
}