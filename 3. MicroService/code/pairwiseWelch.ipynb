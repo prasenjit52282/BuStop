{
 "cells": [
  {
   "cell_type": "code",
   "execution_count": 1,
   "metadata": {},
   "outputs": [],
   "source": [
    "import os\n",
    "import pandas as pd\n",
    "import numpy as np\n",
    "from library.correlationAndTtestLib import *"
   ]
  },
  {
   "cell_type": "code",
   "execution_count": 2,
   "metadata": {},
   "outputs": [],
   "source": [
    "zones = [\"prantika_bus_stand\", \"junction_mall\", \"54ft_road\", \"dvc_more\", \"station\"]\n",
    "log_dir = r\"../reports/54ft/\"\n",
    "instance_wise_scores_dir = \"instance_wise_scores\"\n",
    "\n",
    "dates = [\"14_09_2019\", \"15_09_2019\", \"16_09_2019\", \"17_09_2019\", \"20_09_2019\", \"21_09_2019\", \"23_09_2019\"]"
   ]
  },
  {
   "cell_type": "code",
   "execution_count": 3,
   "metadata": {},
   "outputs": [],
   "source": [
    "zone_timezone_analysis_dfs = []\n",
    "for zone in zones:\n",
    "    path = os.path.join(log_dir, zone, f\"time_zone_analysis/score_timezone_analysis_{zone}_zone.csv\")\n",
    "    zone_timezone_analysis_dfs.append(pd.read_csv(path))"
   ]
  },
  {
   "cell_type": "code",
   "execution_count": 4,
   "metadata": {},
   "outputs": [
    {
     "output_type": "stream",
     "name": "stdout",
     "text": [
      "For zones (prantika_bus_stand, junction_mall)\nWelch's (t_test_stat, p_value): (-7.0193048208353135, 1.572239451823567e-05)\n\nFor zones (prantika_bus_stand, 54ft_road)\nWelch's (t_test_stat, p_value): (-4.362650094132237, 0.0009845566068146705)\n\nFor zones (prantika_bus_stand, dvc_more)\nWelch's (t_test_stat, p_value): (-0.7799980002164539, 0.4505371371098362)\n\nFor zones (prantika_bus_stand, station)\nWelch's (t_test_stat, p_value): (-1.5470578113625464, 0.1478089061309609)\n\nFor zones (junction_mall, 54ft_road)\nWelch's (t_test_stat, p_value): (2.93984483856172, 0.012378863648771712)\n\nFor zones (junction_mall, dvc_more)\nWelch's (t_test_stat, p_value): (6.37112047025312, 3.728427639761087e-05)\n\nFor zones (junction_mall, station)\nWelch's (t_test_stat, p_value): (5.406960215288552, 0.00016912485800592205)\n\nFor zones (54ft_road, dvc_more)\nWelch's (t_test_stat, p_value): (3.6374990349154794, 0.0034804076090614615)\n\nFor zones (54ft_road, station)\nWelch's (t_test_stat, p_value): (2.720448092881168, 0.018938706747107813)\n\nFor zones (dvc_more, station)\nWelch's (t_test_stat, p_value): (-0.7990981120215561, 0.43978366124702284)\n\n"
     ]
    }
   ],
   "source": [
    "for i in range(len(zones) - 1):\n",
    "    for j in range(i + 1, len(zones)):\n",
    "        array_1, array_2 = zone_timezone_analysis_dfs[i]['Whole_Day'], zone_timezone_analysis_dfs[j]['Whole_Day']\n",
    "        zonal_welch_t_result = welch_t_test(array_1, array_2)\n",
    "        print(f\"For zones ({zones[i]}, {zones[j]})\\nWelch's (t_test_stat, p_value): {zonal_welch_t_result}\\n\")"
   ]
  },
  {
   "cell_type": "code",
   "execution_count": null,
   "metadata": {},
   "outputs": [],
   "source": []
  }
 ],
 "metadata": {
  "kernelspec": {
   "display_name": "Python 3",
   "language": "python",
   "name": "python3"
  },
  "language_info": {
   "codemirror_mode": {
    "name": "ipython",
    "version": 3
   },
   "file_extension": ".py",
   "mimetype": "text/x-python",
   "name": "python",
   "nbconvert_exporter": "python",
   "pygments_lexer": "ipython3",
   "version": "3.7.4-final"
  }
 },
 "nbformat": 4,
 "nbformat_minor": 4
}