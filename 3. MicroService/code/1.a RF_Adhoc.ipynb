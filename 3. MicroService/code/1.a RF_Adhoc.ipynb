{
 "cells": [
  {
   "cell_type": "markdown",
   "metadata": {},
   "source": [
    "# Imports"
   ]
  },
  {
   "cell_type": "code",
   "execution_count": 1,
   "metadata": {},
   "outputs": [],
   "source": [
    "from library.dataPreprocessLib import *\n",
    "from library.resultsLib import *\n",
    "from sklearn.ensemble import RandomForestClassifier\n",
    "from imblearn.over_sampling import SMOTE\n",
    "import os"
   ]
  },
  {
   "cell_type": "markdown",
   "metadata": {},
   "source": [
    "# Data Preprocessing"
   ]
  },
  {
   "cell_type": "markdown",
   "metadata": {},
   "source": [
    "## Feature Selection and Loading Data"
   ]
  },
  {
   "cell_type": "code",
   "execution_count": 2,
   "metadata": {},
   "outputs": [],
   "source": [
    "# name = \"prantika_bus_stand\"\n",
    "# name = \"junction_mall\"\n",
    "name = \"54ft_road\"\n",
    "# name = \"dvc_more\"\n",
    "# name = \"station\""
   ]
  },
  {
   "cell_type": "code",
   "execution_count": 3,
   "metadata": {},
   "outputs": [],
   "source": [
    "parent_dir = r\"../data/54ft/\"\n",
    "train_df_name = r\"54ft_train.csv\"\n",
    "test_df_name = f\"{name}_test_split.csv\""
   ]
  },
  {
   "cell_type": "code",
   "execution_count": 4,
   "metadata": {},
   "outputs": [],
   "source": [
    "poi_column = 'Is_Adhoc'\n",
    "output_result_filename = f\"{poi_column}_test_result_{name}_zone.csv\""
   ]
  },
  {
   "cell_type": "code",
   "execution_count": 5,
   "metadata": {},
   "outputs": [],
   "source": [
    "#feature # binding\n",
    "F=\\\n",
    "    {1:'stay_duration', #f1\n",
    "     2:'mfcc0',3:'mfcc1',4:'mfcc2',5:'mfcc3',6:'mfcc4', #f2,f3,f4,f5,f6\n",
    "     7:'wifi_count', 8:'edge_wifi_count', #f7,f8\n",
    "     9:'RSI', #f9\n",
    "     10:'human_made', 11:'natural_land',12:'road_exist_percent',13:'highly_populated_poi_exist'#f10,f11,f12,f13\n",
    "    }\n",
    "\n",
    "\n",
    "\n",
    "feature_names=[F[e] for e in [10,11,1,12,2]]"
   ]
  },
  {
   "cell_type": "markdown",
   "metadata": {},
   "source": [
    "### Training Data"
   ]
  },
  {
   "cell_type": "code",
   "execution_count": 6,
   "metadata": {},
   "outputs": [
    {
     "output_type": "execute_result",
     "data": {
      "text/plain": [
       "   human_made  natural_land  stay_duration  road_exist_percent      mfcc0  \\\n",
       "0    0.111232      0.636805              6            0.251963  39.288479   \n",
       "1    0.124869      0.666587             10            0.208544  42.699326   \n",
       "2    0.100360      0.743668            130            0.155972  70.480301   \n",
       "3    0.100911      0.730013             13            0.169076  76.429749   \n",
       "4    0.117394      0.487688              9            0.183064  71.429588   \n",
       "\n",
       "   Is_Adhoc  \n",
       "0         1  \n",
       "1         0  \n",
       "2         0  \n",
       "3         1  \n",
       "4         0  "
      ],
      "text/html": "<div>\n<style scoped>\n    .dataframe tbody tr th:only-of-type {\n        vertical-align: middle;\n    }\n\n    .dataframe tbody tr th {\n        vertical-align: top;\n    }\n\n    .dataframe thead th {\n        text-align: right;\n    }\n</style>\n<table border=\"1\" class=\"dataframe\">\n  <thead>\n    <tr style=\"text-align: right;\">\n      <th></th>\n      <th>human_made</th>\n      <th>natural_land</th>\n      <th>stay_duration</th>\n      <th>road_exist_percent</th>\n      <th>mfcc0</th>\n      <th>Is_Adhoc</th>\n    </tr>\n  </thead>\n  <tbody>\n    <tr>\n      <td>0</td>\n      <td>0.111232</td>\n      <td>0.636805</td>\n      <td>6</td>\n      <td>0.251963</td>\n      <td>39.288479</td>\n      <td>1</td>\n    </tr>\n    <tr>\n      <td>1</td>\n      <td>0.124869</td>\n      <td>0.666587</td>\n      <td>10</td>\n      <td>0.208544</td>\n      <td>42.699326</td>\n      <td>0</td>\n    </tr>\n    <tr>\n      <td>2</td>\n      <td>0.100360</td>\n      <td>0.743668</td>\n      <td>130</td>\n      <td>0.155972</td>\n      <td>70.480301</td>\n      <td>0</td>\n    </tr>\n    <tr>\n      <td>3</td>\n      <td>0.100911</td>\n      <td>0.730013</td>\n      <td>13</td>\n      <td>0.169076</td>\n      <td>76.429749</td>\n      <td>1</td>\n    </tr>\n    <tr>\n      <td>4</td>\n      <td>0.117394</td>\n      <td>0.487688</td>\n      <td>9</td>\n      <td>0.183064</td>\n      <td>71.429588</td>\n      <td>0</td>\n    </tr>\n  </tbody>\n</table>\n</div>"
     },
     "metadata": {},
     "execution_count": 6
    }
   ],
   "source": [
    "train_csv_df = pd.read_csv(os.path.join(parent_dir, train_df_name))\n",
    "train_df = train_csv_df[feature_names+[poi_column]]\n",
    "train_df.head()"
   ]
  },
  {
   "cell_type": "markdown",
   "metadata": {},
   "source": [
    "### Testing Data"
   ]
  },
  {
   "cell_type": "code",
   "execution_count": 7,
   "metadata": {},
   "outputs": [
    {
     "output_type": "execute_result",
     "data": {
      "text/plain": [
       "   human_made  natural_land  stay_duration  road_exist_percent      mfcc0  \\\n",
       "0    0.228177      0.500080             11            0.271135  69.060471   \n",
       "1    0.200089      0.459261              2            0.268251  86.484085   \n",
       "2    0.254925      0.459994              8            0.285081  73.721138   \n",
       "3    0.218173      0.510915              8            0.270912  48.402252   \n",
       "4    0.228172      0.489662             13            0.277140  68.970947   \n",
       "\n",
       "   Is_Adhoc  \n",
       "0         0  \n",
       "1         1  \n",
       "2         1  \n",
       "3         0  \n",
       "4         0  "
      ],
      "text/html": "<div>\n<style scoped>\n    .dataframe tbody tr th:only-of-type {\n        vertical-align: middle;\n    }\n\n    .dataframe tbody tr th {\n        vertical-align: top;\n    }\n\n    .dataframe thead th {\n        text-align: right;\n    }\n</style>\n<table border=\"1\" class=\"dataframe\">\n  <thead>\n    <tr style=\"text-align: right;\">\n      <th></th>\n      <th>human_made</th>\n      <th>natural_land</th>\n      <th>stay_duration</th>\n      <th>road_exist_percent</th>\n      <th>mfcc0</th>\n      <th>Is_Adhoc</th>\n    </tr>\n  </thead>\n  <tbody>\n    <tr>\n      <td>0</td>\n      <td>0.228177</td>\n      <td>0.500080</td>\n      <td>11</td>\n      <td>0.271135</td>\n      <td>69.060471</td>\n      <td>0</td>\n    </tr>\n    <tr>\n      <td>1</td>\n      <td>0.200089</td>\n      <td>0.459261</td>\n      <td>2</td>\n      <td>0.268251</td>\n      <td>86.484085</td>\n      <td>1</td>\n    </tr>\n    <tr>\n      <td>2</td>\n      <td>0.254925</td>\n      <td>0.459994</td>\n      <td>8</td>\n      <td>0.285081</td>\n      <td>73.721138</td>\n      <td>1</td>\n    </tr>\n    <tr>\n      <td>3</td>\n      <td>0.218173</td>\n      <td>0.510915</td>\n      <td>8</td>\n      <td>0.270912</td>\n      <td>48.402252</td>\n      <td>0</td>\n    </tr>\n    <tr>\n      <td>4</td>\n      <td>0.228172</td>\n      <td>0.489662</td>\n      <td>13</td>\n      <td>0.277140</td>\n      <td>68.970947</td>\n      <td>0</td>\n    </tr>\n  </tbody>\n</table>\n</div>"
     },
     "metadata": {},
     "execution_count": 7
    }
   ],
   "source": [
    "test_csv_df = pd.read_csv(os.path.join(parent_dir, test_df_name))\n",
    "test_df = test_csv_df[feature_names+[poi_column]]\n",
    "test_df.head()"
   ]
  },
  {
   "cell_type": "markdown",
   "metadata": {},
   "source": [
    "### Seperating target column and input columns"
   ]
  },
  {
   "cell_type": "code",
   "execution_count": 8,
   "metadata": {},
   "outputs": [],
   "source": [
    "X = train_df[feature_names].copy()\n",
    "y = train_df[poi_column].copy()"
   ]
  },
  {
   "cell_type": "markdown",
   "metadata": {},
   "source": [
    "## Using SMOTE"
   ]
  },
  {
   "cell_type": "code",
   "execution_count": 9,
   "metadata": {},
   "outputs": [],
   "source": [
    "smote = SMOTE()"
   ]
  },
  {
   "cell_type": "code",
   "execution_count": 10,
   "metadata": {},
   "outputs": [
    {
     "output_type": "stream",
     "name": "stdout",
     "text": [
      "(2480, 5)\n(2480,)\n(2942, 5)\n(2942,)\n"
     ]
    }
   ],
   "source": [
    "X_resampled, y_resampled = smote.fit_sample(X, y)\n",
    "print(X.shape)\n",
    "print(y.shape)\n",
    "print(X_resampled.shape)\n",
    "print(y_resampled.shape)"
   ]
  },
  {
   "cell_type": "markdown",
   "metadata": {},
   "source": [
    "## Categorical data Transformation"
   ]
  },
  {
   "cell_type": "markdown",
   "metadata": {},
   "source": [
    "### For train data"
   ]
  },
  {
   "cell_type": "code",
   "execution_count": 11,
   "metadata": {},
   "outputs": [],
   "source": [
    "train_data = X_resampled.copy()\n",
    "train_labels = y_resampled.copy()"
   ]
  },
  {
   "cell_type": "markdown",
   "metadata": {},
   "source": [
    "### For test data"
   ]
  },
  {
   "cell_type": "code",
   "execution_count": 12,
   "metadata": {},
   "outputs": [],
   "source": [
    "test_data = test_df[feature_names].values\n",
    "test_labels = test_df[poi_column].values"
   ]
  },
  {
   "cell_type": "markdown",
   "metadata": {},
   "source": [
    "# Training"
   ]
  },
  {
   "cell_type": "code",
   "execution_count": 13,
   "metadata": {},
   "outputs": [],
   "source": [
    "model = RandomForestClassifier(n_estimators=20,max_depth=8)\n",
    "model.fit(train_data, train_labels)\n",
    "train_predictions = model.predict(train_data) # for training performance stat"
   ]
  },
  {
   "cell_type": "markdown",
   "metadata": {},
   "source": [
    "# Testing"
   ]
  },
  {
   "cell_type": "code",
   "execution_count": 14,
   "metadata": {},
   "outputs": [],
   "source": [
    "assert test_data.shape[1] == train_data.shape[1], \"Train and Test Data shape mismatch\"\n",
    "test_predictions = model.predict(test_data)"
   ]
  },
  {
   "cell_type": "markdown",
   "metadata": {},
   "source": [
    "# Performance Stat"
   ]
  },
  {
   "cell_type": "markdown",
   "metadata": {},
   "source": [
    "## Training Performance"
   ]
  },
  {
   "cell_type": "code",
   "execution_count": 15,
   "metadata": {},
   "outputs": [
    {
     "output_type": "stream",
     "name": "stdout",
     "text": [
      "For train: \n\tAccuracy: 0.8558803535010198\n\tPrecision: 0.8558829849918547\n\tRecall: 0.8558803535010198\n\tF1 score: 0.855880087086042\n              precision    recall  f1-score   support\n\n           0       0.86      0.85      0.86      1471\n           1       0.85      0.86      0.86      1471\n\n    accuracy                           0.86      2942\n   macro avg       0.86      0.86      0.86      2942\nweighted avg       0.86      0.86      0.86      2942\n\n"
     ]
    }
   ],
   "source": [
    "get_performance_stats(\"train\", train_labels, train_predictions)"
   ]
  },
  {
   "cell_type": "markdown",
   "metadata": {},
   "source": [
    "## Testing Performance"
   ]
  },
  {
   "cell_type": "code",
   "execution_count": 16,
   "metadata": {},
   "outputs": [
    {
     "output_type": "stream",
     "name": "stdout",
     "text": [
      "For test: \n\tAccuracy: 0.7551020408163265\n\tPrecision: 0.8069727891156464\n\tRecall: 0.7551020408163265\n\tF1 score: 0.7659863945578231\n              precision    recall  f1-score   support\n\n           0       0.91      0.73      0.81        70\n           1       0.55      0.82      0.66        28\n\n    accuracy                           0.76        98\n   macro avg       0.73      0.77      0.73        98\nweighted avg       0.81      0.76      0.77        98\n\n"
     ]
    }
   ],
   "source": [
    "get_performance_stats(\"test\", test_labels, test_predictions)"
   ]
  },
  {
   "cell_type": "markdown",
   "metadata": {},
   "source": [
    "### Confusion Matrix"
   ]
  },
  {
   "cell_type": "code",
   "execution_count": 18,
   "metadata": {},
   "outputs": [
    {
     "output_type": "display_data",
     "data": {
      "text/plain": "<Figure size 432x288 with 2 Axes>",
      "image/png": "[encoded data removed]"
     },
     "metadata": {
      "needs_background": "light"
     }
    }
   ],
   "source": [
    "from sklearn.metrics import plot_confusion_matrix\n",
    "import matplotlib.pyplot as plt\n",
    "disp = plot_confusion_matrix(model, test_data, test_labels, cmap=plt.cm.Blues)\n",
    "disp.ax_.set_title(f'total: {len(test_data)}')\n",
    "plt.show()"
   ]
  },
  {
   "cell_type": "markdown",
   "metadata": {},
   "source": [
    "### Check & Save Predicitons"
   ]
  },
  {
   "cell_type": "code",
   "execution_count": 19,
   "metadata": {},
   "outputs": [
    {
     "output_type": "execute_result",
     "data": {
      "text/plain": [
       "  instance_date instance_start_time instance_end_time  Prediction Is_Adhoc\n",
       "0    09/14/2019            12:36:15          12:36:26                    0\n",
       "1    09/14/2019            12:36:38          12:36:39                    1\n",
       "2    09/14/2019            17:16:49          17:16:56                    1\n",
       "3    09/14/2019            17:17:33          17:17:40                    1\n",
       "4    09/14/2019            17:18:04          17:18:19                    0"
      ],
      "text/html": "<div>\n<style scoped>\n    .dataframe tbody tr th:only-of-type {\n        vertical-align: middle;\n    }\n\n    .dataframe tbody tr th {\n        vertical-align: top;\n    }\n\n    .dataframe thead th {\n        text-align: right;\n    }\n</style>\n<table border=\"1\" class=\"dataframe\">\n  <thead>\n    <tr style=\"text-align: right;\">\n      <th></th>\n      <th>instance_date</th>\n      <th>instance_start_time</th>\n      <th>instance_end_time</th>\n      <th>Prediction Is_Adhoc</th>\n    </tr>\n  </thead>\n  <tbody>\n    <tr>\n      <td>0</td>\n      <td>09/14/2019</td>\n      <td>12:36:15</td>\n      <td>12:36:26</td>\n      <td>0</td>\n    </tr>\n    <tr>\n      <td>1</td>\n      <td>09/14/2019</td>\n      <td>12:36:38</td>\n      <td>12:36:39</td>\n      <td>1</td>\n    </tr>\n    <tr>\n      <td>2</td>\n      <td>09/14/2019</td>\n      <td>17:16:49</td>\n      <td>17:16:56</td>\n      <td>1</td>\n    </tr>\n    <tr>\n      <td>3</td>\n      <td>09/14/2019</td>\n      <td>17:17:33</td>\n      <td>17:17:40</td>\n      <td>1</td>\n    </tr>\n    <tr>\n      <td>4</td>\n      <td>09/14/2019</td>\n      <td>17:18:04</td>\n      <td>17:18:19</td>\n      <td>0</td>\n    </tr>\n  </tbody>\n</table>\n</div>"
     },
     "metadata": {},
     "execution_count": 19
    }
   ],
   "source": [
    "result_df = form_result_df(test_csv_df, test_predictions, poi_column)\n",
    "result_df.head()"
   ]
  },
  {
   "cell_type": "code",
   "execution_count": 20,
   "metadata": {},
   "outputs": [],
   "source": [
    "result_df.to_csv(os.path.join(parent_dir, output_result_filename), index=False)"
   ]
  },
  {
   "cell_type": "code",
   "execution_count": 21,
   "metadata": {},
   "outputs": [
    {
     "output_type": "execute_result",
     "data": {
      "text/plain": [
       "array([0, 1, 1, 0, 0, 1, 0, 0, 1, 0, 0, 0, 0, 1, 0, 0, 0, 1, 0, 0, 1, 1,\n",
       "       0, 1, 0, 0, 0, 0, 0, 0, 0, 0, 1, 0, 1, 0, 0, 1, 0, 0, 0, 1, 0, 0,\n",
       "       0, 0, 0, 0, 0, 1, 0, 0, 1, 0, 0, 0, 1, 0, 0, 0, 0, 1, 1, 0, 0, 1,\n",
       "       0, 0, 0, 0, 0, 0, 0, 1, 0, 0, 0, 1, 0, 1, 1, 1, 0, 0, 0, 0, 1, 0,\n",
       "       1, 0, 0, 0, 0, 1, 0, 0, 1, 0], dtype=int64)"
      ]
     },
     "metadata": {},
     "execution_count": 21
    }
   ],
   "source": [
    "test_labels"
   ]
  },
  {
   "cell_type": "code",
   "execution_count": 22,
   "metadata": {},
   "outputs": [
    {
     "output_type": "execute_result",
     "data": {
      "text/plain": [
       "array([0, 1, 1, 1, 0, 1, 0, 0, 1, 0, 1, 1, 1, 1, 0, 1, 0, 1, 0, 0, 1, 1,\n",
       "       0, 1, 0, 0, 1, 0, 0, 1, 0, 0, 1, 0, 0, 0, 0, 1, 0, 1, 1, 1, 0, 0,\n",
       "       0, 0, 0, 1, 0, 1, 0, 1, 1, 0, 0, 0, 1, 1, 0, 1, 0, 1, 1, 0, 0, 1,\n",
       "       0, 0, 0, 0, 0, 0, 1, 1, 0, 0, 0, 1, 0, 0, 1, 1, 0, 1, 0, 1, 0, 1,\n",
       "       0, 0, 0, 1, 0, 1, 0, 0, 0, 1], dtype=int64)"
      ]
     },
     "metadata": {},
     "execution_count": 22
    }
   ],
   "source": [
    "test_predictions"
   ]
  },
  {
   "cell_type": "code",
   "execution_count": null,
   "metadata": {},
   "outputs": [],
   "source": []
  }
 ],
 "metadata": {
  "kernelspec": {
   "display_name": "Python 3",
   "language": "python",
   "name": "python3"
  },
  "language_info": {
   "codemirror_mode": {
    "name": "ipython",
    "version": 3
   },
   "file_extension": ".py",
   "mimetype": "text/x-python",
   "name": "python",
   "nbconvert_exporter": "python",
   "pygments_lexer": "ipython3",
   "version": "3.7.4-final"
  }
 },
 "nbformat": 4,
 "nbformat_minor": 4
}