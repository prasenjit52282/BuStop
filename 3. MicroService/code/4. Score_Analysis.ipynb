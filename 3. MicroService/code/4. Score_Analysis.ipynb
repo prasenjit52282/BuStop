{
 "cells": [
  {
   "cell_type": "code",
   "execution_count": 1,
   "metadata": {},
   "outputs": [],
   "source": [
    "import glob\n",
    "import numpy as np\n",
    "import pandas as pd \n",
    "import tqdm\n",
    "from scipy import stats\n",
    "from itertools import combinations,product"
   ]
  },
  {
   "cell_type": "markdown",
   "metadata": {},
   "source": [
    "# Constants"
   ]
  },
  {
   "cell_type": "code",
   "execution_count": 2,
   "metadata": {},
   "outputs": [],
   "source": [
    "parent_dir=r\"../reports/54ft/\"\n",
    "\n",
    "#date=['2019-09-14','2019-09-15','2019-09-16','2019-09-17','2019-09-20','2019-09-21','2019-09-23','*'] #last N days\n",
    "date=['2019-06-28','2019-06-30','2019-07-01','2019-07-02','2019-07-03','2019-07-04','2019-07-05','*'] #first N days\n",
    "timezone=['Early_Morning','Morning','Afternoon','Evening','*']\n",
    "zone=['54ft_road','dvc_more','junction_mall','prantika_bus_stand','station','54ft_test']#i.e All=54ft_test"
   ]
  },
  {
   "cell_type": "code",
   "execution_count": 3,
   "metadata": {},
   "outputs": [],
   "source": [
    "def time_zone_cal(s):\n",
    "    hour=int(s.split(':')[0])\n",
    "    if 6<hour<=9:\n",
    "        time_zone='Early_Morning'\n",
    "    elif 9<hour<=12:\n",
    "        time_zone='Morning'\n",
    "    elif 12<hour<=17:\n",
    "        time_zone='Afternoon'\n",
    "    elif 17<hour<=23:\n",
    "        time_zone='Evening'\n",
    "    return time_zone\n",
    "\n",
    "\n",
    "#Resouree Locator Function\n",
    "def get_chunk_of_data_on_resource_locator(file1):\n",
    "    files=glob.glob(parent_dir+f\"{file1[2]}/DateWise/{file1[0]}.csv\")\n",
    "    if len(files)==0:\n",
    "        return 'file_not_available' # for those where a date is missing\n",
    "    #otherwise\n",
    "    df=pd.concat([pd.read_csv(f) for f in files],axis=0) #reading files w.r.to dates or * &  zone\n",
    "    return df[df.start_time.map(time_zone_cal).apply(lambda e:True if file1[1]=='*' else e==file1[1])].copy() #filtering w.r.to time_zone or *"
   ]
  },
  {
   "cell_type": "markdown",
   "metadata": {},
   "source": [
    "# Cross Product"
   ]
  },
  {
   "cell_type": "code",
   "execution_count": 4,
   "metadata": {},
   "outputs": [],
   "source": [
    "cross_prod=list(product(date,timezone,zone))"
   ]
  },
  {
   "cell_type": "markdown",
   "metadata": {},
   "source": [
    "# Combinations"
   ]
  },
  {
   "cell_type": "code",
   "execution_count": 5,
   "metadata": {},
   "outputs": [],
   "source": [
    "def welch_t_test(array1, array2):\n",
    "    return tuple(stats.ttest_ind(array1, array2, equal_var=False))"
   ]
  },
  {
   "cell_type": "code",
   "execution_count": 6,
   "metadata": {},
   "outputs": [],
   "source": [
    "def welch_t_prep(com):\n",
    "    left=get_chunk_of_data_on_resource_locator(com[0])\n",
    "    right=get_chunk_of_data_on_resource_locator(com[1])\n",
    "    if ((left is'file_not_available') or (right is'file_not_available')): #if any of the file is not available\n",
    "        fnA='file_not_available'\n",
    "        return  [*com[0],fnA if left is fnA else left.shape[0],*com[1],fnA if right is fnA else right.shape[0],np.nan,np.nan]\n",
    "        \n",
    "    if(left.shape[0]<6 or right.shape[0]<6): #skipping tests for array of length<6\n",
    "        return  [*com[0],left.shape[0],*com[1],right.shape[0],np.nan,np.nan]\n",
    "    else:\n",
    "        t_test_res=welch_t_test(left.scores,right.scores) #t_test\n",
    "        return [*com[0],left.shape[0],*com[1],right.shape[0],*t_test_res]"
   ]
  },
  {
   "cell_type": "code",
   "execution_count": 7,
   "metadata": {},
   "outputs": [
    {
     "output_type": "stream",
     "name": "stderr",
     "text": [
      "100%|██████████| 28680/28680 [07:06<00:00, 67.28it/s]\n"
     ]
    }
   ],
   "source": [
    "comb_res=[]\n",
    "all_combinations=list(combinations(cross_prod,2))\n",
    "\n",
    "\n",
    "for comb in tqdm.tqdm(all_combinations):\n",
    "    comb_res.append(welch_t_prep(comb))"
   ]
  },
  {
   "cell_type": "markdown",
   "metadata": {},
   "source": [
    "# Converting to DataFrame"
   ]
  },
  {
   "cell_type": "code",
   "execution_count": 8,
   "metadata": {},
   "outputs": [],
   "source": [
    "df=pd.DataFrame(comb_res,columns=['left_date','left_time_zone','left_zone','left_count',\n",
    "                                  'right_date','right_time_zone','right_zone','right_count',\n",
    "                                  't_stat','p_value'])"
   ]
  },
  {
   "cell_type": "code",
   "execution_count": 9,
   "metadata": {},
   "outputs": [],
   "source": [
    "df.to_csv(\"../reports/welch_t_test/whole_comb_t_test.csv\",index=False)\n",
    "df.dropna().to_csv(\"../reports/welch_t_test/possible_comb_t_test.csv\",index=False)\n",
    "df[df['p_value']<0.05].to_csv(\"../reports/welch_t_test/significant_comb_t_test.csv\",index=False)"
   ]
  },
  {
   "cell_type": "code",
   "execution_count": 11,
   "metadata": {},
   "outputs": [],
   "source": [
    "#NICE"
   ]
  }
 ],
 "metadata": {
  "kernelspec": {
   "display_name": "Python 3",
   "language": "python",
   "name": "python3"
  },
  "language_info": {
   "codemirror_mode": {
    "name": "ipython",
    "version": 3
   },
   "file_extension": ".py",
   "mimetype": "text/x-python",
   "name": "python",
   "nbconvert_exporter": "python",
   "pygments_lexer": "ipython3",
   "version": "3.7.4-final"
  }
 },
 "nbformat": 4,
 "nbformat_minor": 4
}