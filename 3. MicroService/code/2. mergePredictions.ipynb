{
 "cells": [
  {
   "cell_type": "code",
   "execution_count": 1,
   "metadata": {},
   "outputs": [],
   "source": [
    "import os\n",
    "import glob\n",
    "import pandas as pd"
   ]
  },
  {
   "source": [
    "# Constants"
   ],
   "cell_type": "markdown",
   "metadata": {}
  },
  {
   "cell_type": "code",
   "execution_count": 2,
   "metadata": {},
   "outputs": [],
   "source": [
    "parent_dir = r\"../data/54ft/\"\n",
    "#file Name\n",
    "zone_names=list(map(lambda e:f\"{e}_test_split.csv\",[\"station\",\"dvc_more\",\"54ft_road\",\"junction_mall\",\"prantika_bus_stand\"]))\n",
    "\n",
    "_7day_test=[\"54ft_test.csv\"]"
   ]
  },
  {
   "cell_type": "code",
   "execution_count": 3,
   "metadata": {},
   "outputs": [],
   "source": [
    "#helper functions\n",
    "def merge_dfs(parent_dir,result_filename_pattern):\n",
    "    test_result_csv_paths = glob.glob(os.path.join(parent_dir, result_filename_pattern))\n",
    "    all_df = pd.concat([pd.read_csv(df) for df in test_result_csv_paths], axis = 1)\n",
    "    all_df = all_df.loc[:, ~all_df.columns.duplicated()].copy()\n",
    "    return all_df"
   ]
  },
  {
   "cell_type": "code",
   "execution_count": 4,
   "metadata": {},
   "outputs": [
    {
     "output_type": "stream",
     "name": "stdout",
     "text": [
      "Merged for Zone: station\n",
      "Merged for Zone: dvc_more\n",
      "Merged for Zone: 54ft_road\n",
      "Merged for Zone: junction_mall\n",
      "Merged for Zone: prantika_bus_stand\n",
      "Merged for Zone: 54ft_test\n"
     ]
    }
   ],
   "source": [
    "for test_df_name in (zone_names+_7day_test):#iterator name\n",
    "\n",
    "    zoneName=test_df_name.split('_test_split.csv')[0].split('.')[0]\n",
    "    result_filename_pattern = f\"*_test_result_{zoneName}_zone.csv\"\n",
    "    output_filename = f\"Predictions_merged_54ft_{zoneName}_zone.csv\"\n",
    "\n",
    "    merge_dfs(parent_dir,result_filename_pattern).to_csv(os.path.join(parent_dir, output_filename), index=False)\n",
    "    print(f\"Merged for Zone: {zoneName}\")"
   ]
  },
  {
   "cell_type": "code",
   "execution_count": 5,
   "metadata": {
    "scrolled": true
   },
   "outputs": [],
   "source": [
    "#NICE"
   ]
  }
 ],
 "metadata": {
  "kernelspec": {
   "display_name": "Python 3",
   "language": "python",
   "name": "python3"
  },
  "language_info": {
   "codemirror_mode": {
    "name": "ipython",
    "version": 3
   },
   "file_extension": ".py",
   "mimetype": "text/x-python",
   "name": "python",
   "nbconvert_exporter": "python",
   "pygments_lexer": "ipython3",
   "version": "3.7.4-final"
  }
 },
 "nbformat": 4,
 "nbformat_minor": 4
}