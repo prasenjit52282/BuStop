{
 "cells": [
  {
   "cell_type": "code",
   "execution_count": 1,
   "metadata": {},
   "outputs": [],
   "source": [
    "import os\n",
    "import glob\n",
    "import pandas as pd"
   ]
  },
  {
   "cell_type": "code",
   "execution_count": 2,
   "metadata": {},
   "outputs": [],
   "source": [
    "# name = \"prantika_bus_stand\"\n",
    "# name = \"junction_mall\"\n",
    "name = \"54ft_road\"\n",
    "# name = \"dvc_more\"\n",
    "# name = \"station\""
   ]
  },
  {
   "cell_type": "code",
   "execution_count": 3,
   "metadata": {},
   "outputs": [],
   "source": [
    "parent_dir = r\"../data/54ft/\"\n",
    "result_filename_pattern = f\"*_test_result_{name}_zone.csv\"\n",
    "output_filename = f\"Predictions_merged_54ft_{name}_zone.csv\""
   ]
  },
  {
   "cell_type": "code",
   "execution_count": 4,
   "metadata": {},
   "outputs": [],
   "source": [
    "test_result_csv_paths = glob.glob(os.path.join(parent_dir, result_filename_pattern))"
   ]
  },
  {
   "cell_type": "code",
   "execution_count": 5,
   "metadata": {},
   "outputs": [
    {
     "output_type": "execute_result",
     "data": {
      "text/plain": [
       "5"
      ]
     },
     "metadata": {},
     "execution_count": 5
    }
   ],
   "source": [
    "len(test_result_csv_paths)"
   ]
  },
  {
   "cell_type": "code",
   "execution_count": 6,
   "metadata": {},
   "outputs": [],
   "source": [
    "def get_dfs(paths):\n",
    "    all_dfs = []\n",
    "    for path in paths:\n",
    "        all_dfs.append(pd.read_csv(path))\n",
    "    return all_dfs"
   ]
  },
  {
   "cell_type": "code",
   "execution_count": 7,
   "metadata": {},
   "outputs": [],
   "source": [
    "def merge_dfs(df_list):\n",
    "    all_df = pd.concat(df_list, axis = 1)\n",
    "    all_df = all_df.loc[:, ~all_df.columns.duplicated()].copy()\n",
    "    return all_df"
   ]
  },
  {
   "cell_type": "code",
   "execution_count": 8,
   "metadata": {},
   "outputs": [],
   "source": [
    "dfs = get_dfs(test_result_csv_paths)"
   ]
  },
  {
   "cell_type": "code",
   "execution_count": 9,
   "metadata": {
    "scrolled": true
   },
   "outputs": [
    {
     "output_type": "execute_result",
     "data": {
      "text/plain": [
       "   instance_date instance_start_time instance_end_time  Prediction Is_Adhoc  \\\n",
       "0     09/14/2019            12:36:15          12:36:26                    0   \n",
       "1     09/14/2019            12:36:38          12:36:39                    1   \n",
       "2     09/14/2019            17:16:49          17:16:56                    1   \n",
       "3     09/14/2019            17:17:33          17:17:40                    1   \n",
       "4     09/14/2019            17:18:04          17:18:19                    0   \n",
       "..           ...                 ...               ...                  ...   \n",
       "93    09/23/2019            17:06:17          17:06:22                    1   \n",
       "94    09/23/2019            17:06:37          17:06:48                    0   \n",
       "95    09/23/2019            17:07:12          17:07:27                    0   \n",
       "96    09/23/2019            17:08:01          17:08:06                    0   \n",
       "97    09/23/2019            17:08:14          17:08:26                    1   \n",
       "\n",
       "    Prediction Is_Bus_stop  Prediction Is_Congestion  Prediction Is_Signal  \\\n",
       "0                        1                         0                     0   \n",
       "1                        0                         0                     0   \n",
       "2                        0                         0                     0   \n",
       "3                        1                         0                     0   \n",
       "4                        1                         0                     0   \n",
       "..                     ...                       ...                   ...   \n",
       "93                       0                         0                     0   \n",
       "94                       1                         0                     0   \n",
       "95                       1                         0                     0   \n",
       "96                       1                         0                     0   \n",
       "97                       1                         0                     0   \n",
       "\n",
       "    Prediction Is_Turn  \n",
       "0                    0  \n",
       "1                    0  \n",
       "2                    0  \n",
       "3                    0  \n",
       "4                    0  \n",
       "..                 ...  \n",
       "93                   0  \n",
       "94                   0  \n",
       "95                   0  \n",
       "96                   0  \n",
       "97                   0  \n",
       "\n",
       "[98 rows x 8 columns]"
      ],
      "text/html": "<div>\n<style scoped>\n    .dataframe tbody tr th:only-of-type {\n        vertical-align: middle;\n    }\n\n    .dataframe tbody tr th {\n        vertical-align: top;\n    }\n\n    .dataframe thead th {\n        text-align: right;\n    }\n</style>\n<table border=\"1\" class=\"dataframe\">\n  <thead>\n    <tr style=\"text-align: right;\">\n      <th></th>\n      <th>instance_date</th>\n      <th>instance_start_time</th>\n      <th>instance_end_time</th>\n      <th>Prediction Is_Adhoc</th>\n      <th>Prediction Is_Bus_stop</th>\n      <th>Prediction Is_Congestion</th>\n      <th>Prediction Is_Signal</th>\n      <th>Prediction Is_Turn</th>\n    </tr>\n  </thead>\n  <tbody>\n    <tr>\n      <td>0</td>\n      <td>09/14/2019</td>\n      <td>12:36:15</td>\n      <td>12:36:26</td>\n      <td>0</td>\n      <td>1</td>\n      <td>0</td>\n      <td>0</td>\n      <td>0</td>\n    </tr>\n    <tr>\n      <td>1</td>\n      <td>09/14/2019</td>\n      <td>12:36:38</td>\n      <td>12:36:39</td>\n      <td>1</td>\n      <td>0</td>\n      <td>0</td>\n      <td>0</td>\n      <td>0</td>\n    </tr>\n    <tr>\n      <td>2</td>\n      <td>09/14/2019</td>\n      <td>17:16:49</td>\n      <td>17:16:56</td>\n      <td>1</td>\n      <td>0</td>\n      <td>0</td>\n      <td>0</td>\n      <td>0</td>\n    </tr>\n    <tr>\n      <td>3</td>\n      <td>09/14/2019</td>\n      <td>17:17:33</td>\n      <td>17:17:40</td>\n      <td>1</td>\n      <td>1</td>\n      <td>0</td>\n      <td>0</td>\n      <td>0</td>\n    </tr>\n    <tr>\n      <td>4</td>\n      <td>09/14/2019</td>\n      <td>17:18:04</td>\n      <td>17:18:19</td>\n      <td>0</td>\n      <td>1</td>\n      <td>0</td>\n      <td>0</td>\n      <td>0</td>\n    </tr>\n    <tr>\n      <td>...</td>\n      <td>...</td>\n      <td>...</td>\n      <td>...</td>\n      <td>...</td>\n      <td>...</td>\n      <td>...</td>\n      <td>...</td>\n      <td>...</td>\n    </tr>\n    <tr>\n      <td>93</td>\n      <td>09/23/2019</td>\n      <td>17:06:17</td>\n      <td>17:06:22</td>\n      <td>1</td>\n      <td>0</td>\n      <td>0</td>\n      <td>0</td>\n      <td>0</td>\n    </tr>\n    <tr>\n      <td>94</td>\n      <td>09/23/2019</td>\n      <td>17:06:37</td>\n      <td>17:06:48</td>\n      <td>0</td>\n      <td>1</td>\n      <td>0</td>\n      <td>0</td>\n      <td>0</td>\n    </tr>\n    <tr>\n      <td>95</td>\n      <td>09/23/2019</td>\n      <td>17:07:12</td>\n      <td>17:07:27</td>\n      <td>0</td>\n      <td>1</td>\n      <td>0</td>\n      <td>0</td>\n      <td>0</td>\n    </tr>\n    <tr>\n      <td>96</td>\n      <td>09/23/2019</td>\n      <td>17:08:01</td>\n      <td>17:08:06</td>\n      <td>0</td>\n      <td>1</td>\n      <td>0</td>\n      <td>0</td>\n      <td>0</td>\n    </tr>\n    <tr>\n      <td>97</td>\n      <td>09/23/2019</td>\n      <td>17:08:14</td>\n      <td>17:08:26</td>\n      <td>1</td>\n      <td>1</td>\n      <td>0</td>\n      <td>0</td>\n      <td>0</td>\n    </tr>\n  </tbody>\n</table>\n<p>98 rows × 8 columns</p>\n</div>"
     },
     "metadata": {},
     "execution_count": 9
    }
   ],
   "source": [
    "merged = merge_dfs(dfs)\n",
    "merged"
   ]
  },
  {
   "cell_type": "code",
   "execution_count": 10,
   "metadata": {},
   "outputs": [],
   "source": [
    "merged.to_csv(os.path.join(parent_dir, output_filename), index=False)"
   ]
  }
 ],
 "metadata": {
  "kernelspec": {
   "display_name": "Python 3",
   "language": "python",
   "name": "python3"
  },
  "language_info": {
   "codemirror_mode": {
    "name": "ipython",
    "version": 3
   },
   "file_extension": ".py",
   "mimetype": "text/x-python",
   "name": "python",
   "nbconvert_exporter": "python",
   "pygments_lexer": "ipython3",
   "version": "3.7.4-final"
  }
 },
 "nbformat": 4,
 "nbformat_minor": 4
}