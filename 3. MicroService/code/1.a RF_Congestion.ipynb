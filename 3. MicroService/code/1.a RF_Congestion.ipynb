{
 "cells": [
  {
   "cell_type": "markdown",
   "metadata": {},
   "source": [
    "# Imports"
   ]
  },
  {
   "cell_type": "code",
   "execution_count": 1,
   "metadata": {},
   "outputs": [],
   "source": [
    "from library.dataPreprocessLib import *\n",
    "from library.resultsLib import *\n",
    "from sklearn.ensemble import RandomForestClassifier\n",
    "from imblearn.over_sampling import SMOTE\n",
    "import os"
   ]
  },
  {
   "cell_type": "markdown",
   "metadata": {},
   "source": [
    "# Data Preprocessing"
   ]
  },
  {
   "cell_type": "markdown",
   "metadata": {},
   "source": [
    "## Feature Selection and Loading Data"
   ]
  },
  {
   "cell_type": "code",
   "execution_count": 2,
   "metadata": {},
   "outputs": [],
   "source": [
    "# name = \"prantika_bus_stand\"\n",
    "# name = \"junction_mall\"\n",
    "name = \"54ft_road\"\n",
    "# name = \"dvc_more\"\n",
    "#name = \"station\""
   ]
  },
  {
   "cell_type": "code",
   "execution_count": 3,
   "metadata": {},
   "outputs": [],
   "source": [
    "parent_dir = r\"../data/54ft/\"\n",
    "train_df_name = r\"54ft_train.csv\"\n",
    "test_df_name = f\"{name}_test_split.csv\""
   ]
  },
  {
   "cell_type": "code",
   "execution_count": 4,
   "metadata": {},
   "outputs": [],
   "source": [
    "poi_column = 'Is_Congestion'\n",
    "output_result_filename = f\"{poi_column}_test_result_{name}_zone.csv\""
   ]
  },
  {
   "cell_type": "code",
   "execution_count": 5,
   "metadata": {},
   "outputs": [],
   "source": [
    "#feature # binding\n",
    "F=\\\n",
    "    {1:'stay_duration', #f1\n",
    "     2:'mfcc0',3:'mfcc1',4:'mfcc2',5:'mfcc3',6:'mfcc4', #f2,f3,f4,f5,f6\n",
    "     7:'wifi_count', 8:'edge_wifi_count', #f7,f8\n",
    "     9:'RSI', #f9\n",
    "     10:'human_made', 11:'natural_land',12:'road_exist_percent',13:'highly_populated_poi_exist'#f10,f11,f12,f13\n",
    "    }\n",
    "\n",
    "\n",
    "\n",
    "feature_names=[F[e] for e in [2,11,10,9,12,8,6,1]]"
   ]
  },
  {
   "cell_type": "markdown",
   "metadata": {},
   "source": [
    "### Training Data"
   ]
  },
  {
   "cell_type": "code",
   "execution_count": 6,
   "metadata": {},
   "outputs": [
    {
     "output_type": "execute_result",
     "data": {
      "text/plain": [
       "       mfcc0  natural_land  human_made       RSI  road_exist_percent  \\\n",
       "0  39.288479      0.636805    0.111232  0.000000            0.251963   \n",
       "1  42.699326      0.666587    0.124869  2.715045            0.208544   \n",
       "2  70.480301      0.743668    0.100360  2.422751            0.155972   \n",
       "3  76.429749      0.730013    0.100911  3.040420            0.169076   \n",
       "4  71.429588      0.487688    0.117394  1.780860            0.183064   \n",
       "\n",
       "   edge_wifi_count     mfcc4  stay_duration  Is_Congestion  \n",
       "0         0.000000  7.541212              6              0  \n",
       "1         0.015468  8.094163             10              0  \n",
       "2         0.027800  6.575349            130              0  \n",
       "3         0.000000  7.560440             13              0  \n",
       "4         0.002818  8.189456              9              0  "
      ],
      "text/html": "<div>\n<style scoped>\n    .dataframe tbody tr th:only-of-type {\n        vertical-align: middle;\n    }\n\n    .dataframe tbody tr th {\n        vertical-align: top;\n    }\n\n    .dataframe thead th {\n        text-align: right;\n    }\n</style>\n<table border=\"1\" class=\"dataframe\">\n  <thead>\n    <tr style=\"text-align: right;\">\n      <th></th>\n      <th>mfcc0</th>\n      <th>natural_land</th>\n      <th>human_made</th>\n      <th>RSI</th>\n      <th>road_exist_percent</th>\n      <th>edge_wifi_count</th>\n      <th>mfcc4</th>\n      <th>stay_duration</th>\n      <th>Is_Congestion</th>\n    </tr>\n  </thead>\n  <tbody>\n    <tr>\n      <td>0</td>\n      <td>39.288479</td>\n      <td>0.636805</td>\n      <td>0.111232</td>\n      <td>0.000000</td>\n      <td>0.251963</td>\n      <td>0.000000</td>\n      <td>7.541212</td>\n      <td>6</td>\n      <td>0</td>\n    </tr>\n    <tr>\n      <td>1</td>\n      <td>42.699326</td>\n      <td>0.666587</td>\n      <td>0.124869</td>\n      <td>2.715045</td>\n      <td>0.208544</td>\n      <td>0.015468</td>\n      <td>8.094163</td>\n      <td>10</td>\n      <td>0</td>\n    </tr>\n    <tr>\n      <td>2</td>\n      <td>70.480301</td>\n      <td>0.743668</td>\n      <td>0.100360</td>\n      <td>2.422751</td>\n      <td>0.155972</td>\n      <td>0.027800</td>\n      <td>6.575349</td>\n      <td>130</td>\n      <td>0</td>\n    </tr>\n    <tr>\n      <td>3</td>\n      <td>76.429749</td>\n      <td>0.730013</td>\n      <td>0.100911</td>\n      <td>3.040420</td>\n      <td>0.169076</td>\n      <td>0.000000</td>\n      <td>7.560440</td>\n      <td>13</td>\n      <td>0</td>\n    </tr>\n    <tr>\n      <td>4</td>\n      <td>71.429588</td>\n      <td>0.487688</td>\n      <td>0.117394</td>\n      <td>1.780860</td>\n      <td>0.183064</td>\n      <td>0.002818</td>\n      <td>8.189456</td>\n      <td>9</td>\n      <td>0</td>\n    </tr>\n  </tbody>\n</table>\n</div>"
     },
     "metadata": {},
     "execution_count": 6
    }
   ],
   "source": [
    "train_csv_df = pd.read_csv(os.path.join(parent_dir, train_df_name))\n",
    "train_df = train_csv_df[feature_names+[poi_column]]\n",
    "train_df.head()"
   ]
  },
  {
   "cell_type": "markdown",
   "metadata": {},
   "source": [
    "### Testing Data"
   ]
  },
  {
   "cell_type": "code",
   "execution_count": 7,
   "metadata": {},
   "outputs": [
    {
     "output_type": "execute_result",
     "data": {
      "text/plain": [
       "       mfcc0  natural_land  human_made        RSI  road_exist_percent  \\\n",
       "0  69.060471      0.500080    0.228177  16.869160            0.271135   \n",
       "1  86.484085      0.459261    0.200089   1.625491            0.268251   \n",
       "2  73.721138      0.459994    0.254925   1.346294            0.285081   \n",
       "3  48.402252      0.510915    0.218173   1.388512            0.270912   \n",
       "4  68.970947      0.489662    0.228172   1.421124            0.277140   \n",
       "\n",
       "   edge_wifi_count     mfcc4  stay_duration  Is_Congestion  \n",
       "0         0.011578 -3.515217             11              0  \n",
       "1         0.000000 -1.677307              2              0  \n",
       "2         0.037472 -1.502949              8              0  \n",
       "3         0.047988 -3.286928              8              0  \n",
       "4         0.036448 -5.212214             13              0  "
      ],
      "text/html": "<div>\n<style scoped>\n    .dataframe tbody tr th:only-of-type {\n        vertical-align: middle;\n    }\n\n    .dataframe tbody tr th {\n        vertical-align: top;\n    }\n\n    .dataframe thead th {\n        text-align: right;\n    }\n</style>\n<table border=\"1\" class=\"dataframe\">\n  <thead>\n    <tr style=\"text-align: right;\">\n      <th></th>\n      <th>mfcc0</th>\n      <th>natural_land</th>\n      <th>human_made</th>\n      <th>RSI</th>\n      <th>road_exist_percent</th>\n      <th>edge_wifi_count</th>\n      <th>mfcc4</th>\n      <th>stay_duration</th>\n      <th>Is_Congestion</th>\n    </tr>\n  </thead>\n  <tbody>\n    <tr>\n      <td>0</td>\n      <td>69.060471</td>\n      <td>0.500080</td>\n      <td>0.228177</td>\n      <td>16.869160</td>\n      <td>0.271135</td>\n      <td>0.011578</td>\n      <td>-3.515217</td>\n      <td>11</td>\n      <td>0</td>\n    </tr>\n    <tr>\n      <td>1</td>\n      <td>86.484085</td>\n      <td>0.459261</td>\n      <td>0.200089</td>\n      <td>1.625491</td>\n      <td>0.268251</td>\n      <td>0.000000</td>\n      <td>-1.677307</td>\n      <td>2</td>\n      <td>0</td>\n    </tr>\n    <tr>\n      <td>2</td>\n      <td>73.721138</td>\n      <td>0.459994</td>\n      <td>0.254925</td>\n      <td>1.346294</td>\n      <td>0.285081</td>\n      <td>0.037472</td>\n      <td>-1.502949</td>\n      <td>8</td>\n      <td>0</td>\n    </tr>\n    <tr>\n      <td>3</td>\n      <td>48.402252</td>\n      <td>0.510915</td>\n      <td>0.218173</td>\n      <td>1.388512</td>\n      <td>0.270912</td>\n      <td>0.047988</td>\n      <td>-3.286928</td>\n      <td>8</td>\n      <td>0</td>\n    </tr>\n    <tr>\n      <td>4</td>\n      <td>68.970947</td>\n      <td>0.489662</td>\n      <td>0.228172</td>\n      <td>1.421124</td>\n      <td>0.277140</td>\n      <td>0.036448</td>\n      <td>-5.212214</td>\n      <td>13</td>\n      <td>0</td>\n    </tr>\n  </tbody>\n</table>\n</div>"
     },
     "metadata": {},
     "execution_count": 7
    }
   ],
   "source": [
    "test_csv_df = pd.read_csv(os.path.join(parent_dir, test_df_name))\n",
    "test_df = test_csv_df[feature_names+[poi_column]]\n",
    "test_df.head()"
   ]
  },
  {
   "cell_type": "markdown",
   "metadata": {},
   "source": [
    "### Seperating target column and input columns"
   ]
  },
  {
   "cell_type": "code",
   "execution_count": 8,
   "metadata": {},
   "outputs": [],
   "source": [
    "X = train_df[feature_names].copy()\n",
    "y = train_df[poi_column].copy()"
   ]
  },
  {
   "cell_type": "markdown",
   "metadata": {},
   "source": [
    "## Using SMOTE"
   ]
  },
  {
   "cell_type": "code",
   "execution_count": 9,
   "metadata": {},
   "outputs": [],
   "source": [
    "smote = SMOTE()"
   ]
  },
  {
   "cell_type": "code",
   "execution_count": 10,
   "metadata": {},
   "outputs": [
    {
     "output_type": "stream",
     "name": "stdout",
     "text": [
      "(2480, 8)\n(2480,)\n(4492, 8)\n(4492,)\n"
     ]
    }
   ],
   "source": [
    "X_resampled, y_resampled = smote.fit_sample(X, y)\n",
    "print(X.shape)\n",
    "print(y.shape)\n",
    "print(X_resampled.shape)\n",
    "print(y_resampled.shape)"
   ]
  },
  {
   "cell_type": "markdown",
   "metadata": {},
   "source": [
    "## Categorical data Transformation"
   ]
  },
  {
   "cell_type": "markdown",
   "metadata": {},
   "source": [
    "### For train data"
   ]
  },
  {
   "cell_type": "code",
   "execution_count": 11,
   "metadata": {},
   "outputs": [],
   "source": [
    "train_data = X_resampled.copy()\n",
    "train_labels = y_resampled.copy()"
   ]
  },
  {
   "cell_type": "markdown",
   "metadata": {},
   "source": [
    "### For test data"
   ]
  },
  {
   "cell_type": "code",
   "execution_count": 12,
   "metadata": {},
   "outputs": [],
   "source": [
    "test_data = test_df[feature_names].values\n",
    "test_labels = test_df[poi_column].values"
   ]
  },
  {
   "cell_type": "markdown",
   "metadata": {},
   "source": [
    "# Training"
   ]
  },
  {
   "cell_type": "code",
   "execution_count": 13,
   "metadata": {},
   "outputs": [],
   "source": [
    "model = RandomForestClassifier(n_estimators=20,max_depth=8)\n",
    "model.fit(train_data, train_labels)\n",
    "train_predictions = model.predict(train_data) # for training performance stat"
   ]
  },
  {
   "cell_type": "markdown",
   "metadata": {},
   "source": [
    "# Testing"
   ]
  },
  {
   "cell_type": "code",
   "execution_count": 14,
   "metadata": {},
   "outputs": [],
   "source": [
    "assert test_data.shape[1] == train_data.shape[1]\n",
    "test_predictions = model.predict(test_data)"
   ]
  },
  {
   "cell_type": "markdown",
   "metadata": {},
   "source": [
    "# Performance Stat"
   ]
  },
  {
   "cell_type": "markdown",
   "metadata": {},
   "source": [
    "## Training Performance"
   ]
  },
  {
   "cell_type": "code",
   "execution_count": 15,
   "metadata": {},
   "outputs": [
    {
     "output_type": "stream",
     "name": "stdout",
     "text": [
      "For train: \n\tAccuracy: 0.9102849510240427\n\tPrecision: 0.911183609943874\n\tRecall: 0.9102849510240427\n\tF1 score: 0.9102359052313034\n              precision    recall  f1-score   support\n\n           0       0.93      0.89      0.91      2246\n           1       0.89      0.93      0.91      2246\n\n    accuracy                           0.91      4492\n   macro avg       0.91      0.91      0.91      4492\nweighted avg       0.91      0.91      0.91      4492\n\n"
     ]
    }
   ],
   "source": [
    "get_performance_stats(\"train\", train_labels, train_predictions)"
   ]
  },
  {
   "cell_type": "markdown",
   "metadata": {},
   "source": [
    "## Testing Performance"
   ]
  },
  {
   "cell_type": "code",
   "execution_count": 16,
   "metadata": {},
   "outputs": [
    {
     "output_type": "stream",
     "name": "stdout",
     "text": [
      "For test: \n\tAccuracy: 0.9081632653061225\n\tPrecision: 0.9028930253420049\n\tRecall: 0.9081632653061225\n\tF1 score: 0.9053557334536024\n              precision    recall  f1-score   support\n\n           0       0.95      0.96      0.95        90\n           1       0.43      0.38      0.40         8\n\n    accuracy                           0.91        98\n   macro avg       0.69      0.67      0.68        98\nweighted avg       0.90      0.91      0.91        98\n\n"
     ]
    }
   ],
   "source": [
    "get_performance_stats(\"test\", test_labels, test_predictions)"
   ]
  },
  {
   "cell_type": "markdown",
   "metadata": {},
   "source": [
    "### Confusion Matrix"
   ]
  },
  {
   "cell_type": "code",
   "execution_count": 18,
   "metadata": {},
   "outputs": [
    {
     "output_type": "display_data",
     "data": {
      "text/plain": "<Figure size 432x288 with 2 Axes>",
      "image/png": "[encoded data removed]"
     },
     "metadata": {
      "needs_background": "light"
     }
    }
   ],
   "source": [
    "from sklearn.metrics import plot_confusion_matrix\n",
    "import matplotlib.pyplot as plt\n",
    "disp = plot_confusion_matrix(model, test_data, test_labels, cmap=plt.cm.Blues)\n",
    "disp.ax_.set_title(f'total: {len(test_data)}')\n",
    "plt.show()"
   ]
  },
  {
   "cell_type": "markdown",
   "metadata": {},
   "source": [
    "### Check & Save Predicitons"
   ]
  },
  {
   "cell_type": "code",
   "execution_count": 19,
   "metadata": {},
   "outputs": [
    {
     "output_type": "execute_result",
     "data": {
      "text/plain": [
       "  instance_date instance_start_time instance_end_time  \\\n",
       "0    09/14/2019            12:36:15          12:36:26   \n",
       "1    09/14/2019            12:36:38          12:36:39   \n",
       "2    09/14/2019            17:16:49          17:16:56   \n",
       "3    09/14/2019            17:17:33          17:17:40   \n",
       "4    09/14/2019            17:18:04          17:18:19   \n",
       "\n",
       "   Prediction Is_Congestion  \n",
       "0                         0  \n",
       "1                         0  \n",
       "2                         0  \n",
       "3                         0  \n",
       "4                         0  "
      ],
      "text/html": "<div>\n<style scoped>\n    .dataframe tbody tr th:only-of-type {\n        vertical-align: middle;\n    }\n\n    .dataframe tbody tr th {\n        vertical-align: top;\n    }\n\n    .dataframe thead th {\n        text-align: right;\n    }\n</style>\n<table border=\"1\" class=\"dataframe\">\n  <thead>\n    <tr style=\"text-align: right;\">\n      <th></th>\n      <th>instance_date</th>\n      <th>instance_start_time</th>\n      <th>instance_end_time</th>\n      <th>Prediction Is_Congestion</th>\n    </tr>\n  </thead>\n  <tbody>\n    <tr>\n      <td>0</td>\n      <td>09/14/2019</td>\n      <td>12:36:15</td>\n      <td>12:36:26</td>\n      <td>0</td>\n    </tr>\n    <tr>\n      <td>1</td>\n      <td>09/14/2019</td>\n      <td>12:36:38</td>\n      <td>12:36:39</td>\n      <td>0</td>\n    </tr>\n    <tr>\n      <td>2</td>\n      <td>09/14/2019</td>\n      <td>17:16:49</td>\n      <td>17:16:56</td>\n      <td>0</td>\n    </tr>\n    <tr>\n      <td>3</td>\n      <td>09/14/2019</td>\n      <td>17:17:33</td>\n      <td>17:17:40</td>\n      <td>0</td>\n    </tr>\n    <tr>\n      <td>4</td>\n      <td>09/14/2019</td>\n      <td>17:18:04</td>\n      <td>17:18:19</td>\n      <td>0</td>\n    </tr>\n  </tbody>\n</table>\n</div>"
     },
     "metadata": {},
     "execution_count": 19
    }
   ],
   "source": [
    "result_df = form_result_df(test_csv_df, test_predictions, poi_column)\n",
    "result_df.head()"
   ]
  },
  {
   "cell_type": "code",
   "execution_count": 20,
   "metadata": {},
   "outputs": [],
   "source": [
    "result_df.to_csv(os.path.join(parent_dir, output_result_filename), index=False)"
   ]
  },
  {
   "cell_type": "code",
   "execution_count": 21,
   "metadata": {
    "scrolled": true
   },
   "outputs": [
    {
     "output_type": "execute_result",
     "data": {
      "text/plain": [
       "array([0, 0, 0, 0, 0, 0, 0, 0, 0, 1, 1, 0, 0, 0, 0, 0, 0, 0, 0, 0, 0, 0,\n",
       "       0, 0, 0, 0, 1, 0, 0, 0, 0, 0, 0, 0, 0, 0, 0, 0, 0, 1, 0, 0, 0, 1,\n",
       "       0, 0, 1, 1, 0, 0, 0, 0, 0, 0, 0, 0, 0, 0, 0, 0, 0, 0, 0, 0, 0, 0,\n",
       "       0, 0, 0, 0, 0, 0, 1, 0, 0, 0, 0, 0, 0, 0, 0, 0, 0, 0, 0, 0, 0, 0,\n",
       "       0, 0, 0, 0, 0, 0, 0, 0, 0, 0], dtype=int64)"
      ]
     },
     "metadata": {},
     "execution_count": 21
    }
   ],
   "source": [
    "test_labels"
   ]
  },
  {
   "cell_type": "code",
   "execution_count": 22,
   "metadata": {
    "scrolled": true
   },
   "outputs": [
    {
     "output_type": "execute_result",
     "data": {
      "text/plain": [
       "array([0, 0, 0, 0, 0, 0, 0, 0, 0, 1, 1, 0, 0, 0, 0, 0, 0, 0, 0, 0, 0, 0,\n",
       "       0, 0, 0, 0, 1, 0, 0, 0, 0, 0, 0, 0, 1, 0, 0, 0, 0, 0, 0, 0, 0, 0,\n",
       "       0, 0, 0, 0, 0, 0, 0, 0, 0, 0, 0, 0, 0, 0, 0, 0, 0, 0, 0, 0, 0, 0,\n",
       "       0, 0, 0, 0, 0, 0, 0, 1, 0, 0, 0, 0, 0, 1, 1, 0, 0, 0, 0, 0, 0, 0,\n",
       "       0, 0, 0, 0, 0, 0, 0, 0, 0, 0], dtype=int64)"
      ]
     },
     "metadata": {},
     "execution_count": 22
    }
   ],
   "source": [
    "test_predictions"
   ]
  },
  {
   "cell_type": "code",
   "execution_count": null,
   "metadata": {},
   "outputs": [],
   "source": []
  }
 ],
 "metadata": {
  "kernelspec": {
   "display_name": "Python 3",
   "language": "python",
   "name": "python3"
  },
  "language_info": {
   "codemirror_mode": {
    "name": "ipython",
    "version": 3
   },
   "file_extension": ".py",
   "mimetype": "text/x-python",
   "name": "python",
   "nbconvert_exporter": "python",
   "pygments_lexer": "ipython3",
   "version": "3.7.4-final"
  }
 },
 "nbformat": 4,
 "nbformat_minor": 4
}