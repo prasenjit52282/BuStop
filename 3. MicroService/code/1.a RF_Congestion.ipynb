{
 "cells": [
  {
   "cell_type": "markdown",
   "metadata": {},
   "source": [
    "# Imports"
   ]
  },
  {
   "cell_type": "code",
   "execution_count": 1,
   "metadata": {},
   "outputs": [],
   "source": [
    "from library.dataPreprocessLib import *\n",
    "from library.resultsLib import *\n",
    "from sklearn.ensemble import RandomForestClassifier\n",
    "from imblearn.over_sampling import SMOTE\n",
    "import os"
   ]
  },
  {
   "cell_type": "markdown",
   "metadata": {},
   "source": [
    "# Data Preprocessing"
   ]
  },
  {
   "cell_type": "markdown",
   "metadata": {},
   "source": [
    "## Feature Selection and Loading Data"
   ]
  },
  {
   "cell_type": "code",
   "execution_count": 83,
   "metadata": {},
   "outputs": [],
   "source": [
    "#name = \"prantika_bus_stand\"\n",
    "#name = \"junction_mall\"\n",
    "#name = \"54ft_road\"\n",
    "#name = \"dvc_more\"\n",
    "name = \"station\""
   ]
  },
  {
   "cell_type": "code",
   "execution_count": 84,
   "metadata": {},
   "outputs": [],
   "source": [
    "parent_dir = r\"../data/54ft/\"\n",
    "train_df_name = r\"54ft_train.csv\"\n",
    "test_df_name = f\"{name}_test_split.csv\""
   ]
  },
  {
   "cell_type": "code",
   "execution_count": 85,
   "metadata": {},
   "outputs": [],
   "source": [
    "poi_column = 'Is_Congestion'\n",
    "output_result_filename = f\"{poi_column}_test_result_{name}_zone.csv\""
   ]
  },
  {
   "cell_type": "code",
   "execution_count": 86,
   "metadata": {},
   "outputs": [],
   "source": [
    "#feature # binding\n",
    "F=\\\n",
    "    {1:'stay_duration', #f1\n",
    "     2:'mfcc0',3:'mfcc1',4:'mfcc2',5:'mfcc3',6:'mfcc4', #f2,f3,f4,f5,f6\n",
    "     7:'wifi_count', 8:'edge_wifi_count', #f7,f8\n",
    "     9:'RSI', #f9\n",
    "     10:'human_made', 11:'natural_land',12:'road_exist_percent',13:'highly_populated_poi_exist'#f10,f11,f12,f13\n",
    "    }\n",
    "\n",
    "\n",
    "\n",
    "feature_names=[F[e] for e in [2,11,10,9,12,8,6,1]]"
   ]
  },
  {
   "cell_type": "markdown",
   "metadata": {},
   "source": [
    "### Training Data"
   ]
  },
  {
   "cell_type": "code",
   "execution_count": 87,
   "metadata": {},
   "outputs": [
    {
     "output_type": "execute_result",
     "data": {
      "text/plain": [
       "       mfcc0  natural_land  human_made       RSI  road_exist_percent  \\\n",
       "0  39.288479      0.636805    0.111232  0.000000            0.251963   \n",
       "1  42.699326      0.666587    0.124869  2.715045            0.208544   \n",
       "2  70.480301      0.743668    0.100360  2.422751            0.155972   \n",
       "3  76.429749      0.730013    0.100911  3.040420            0.169076   \n",
       "4  71.429588      0.487688    0.117394  1.780860            0.183064   \n",
       "\n",
       "   edge_wifi_count     mfcc4  stay_duration  Is_Congestion  \n",
       "0         0.000000  7.541212              6              0  \n",
       "1         0.015468  8.094163             10              0  \n",
       "2         0.027800  6.575349            130              0  \n",
       "3         0.000000  7.560440             13              0  \n",
       "4         0.002818  8.189456              9              0  "
      ],
      "text/html": "<div>\n<style scoped>\n    .dataframe tbody tr th:only-of-type {\n        vertical-align: middle;\n    }\n\n    .dataframe tbody tr th {\n        vertical-align: top;\n    }\n\n    .dataframe thead th {\n        text-align: right;\n    }\n</style>\n<table border=\"1\" class=\"dataframe\">\n  <thead>\n    <tr style=\"text-align: right;\">\n      <th></th>\n      <th>mfcc0</th>\n      <th>natural_land</th>\n      <th>human_made</th>\n      <th>RSI</th>\n      <th>road_exist_percent</th>\n      <th>edge_wifi_count</th>\n      <th>mfcc4</th>\n      <th>stay_duration</th>\n      <th>Is_Congestion</th>\n    </tr>\n  </thead>\n  <tbody>\n    <tr>\n      <td>0</td>\n      <td>39.288479</td>\n      <td>0.636805</td>\n      <td>0.111232</td>\n      <td>0.000000</td>\n      <td>0.251963</td>\n      <td>0.000000</td>\n      <td>7.541212</td>\n      <td>6</td>\n      <td>0</td>\n    </tr>\n    <tr>\n      <td>1</td>\n      <td>42.699326</td>\n      <td>0.666587</td>\n      <td>0.124869</td>\n      <td>2.715045</td>\n      <td>0.208544</td>\n      <td>0.015468</td>\n      <td>8.094163</td>\n      <td>10</td>\n      <td>0</td>\n    </tr>\n    <tr>\n      <td>2</td>\n      <td>70.480301</td>\n      <td>0.743668</td>\n      <td>0.100360</td>\n      <td>2.422751</td>\n      <td>0.155972</td>\n      <td>0.027800</td>\n      <td>6.575349</td>\n      <td>130</td>\n      <td>0</td>\n    </tr>\n    <tr>\n      <td>3</td>\n      <td>76.429749</td>\n      <td>0.730013</td>\n      <td>0.100911</td>\n      <td>3.040420</td>\n      <td>0.169076</td>\n      <td>0.000000</td>\n      <td>7.560440</td>\n      <td>13</td>\n      <td>0</td>\n    </tr>\n    <tr>\n      <td>4</td>\n      <td>71.429588</td>\n      <td>0.487688</td>\n      <td>0.117394</td>\n      <td>1.780860</td>\n      <td>0.183064</td>\n      <td>0.002818</td>\n      <td>8.189456</td>\n      <td>9</td>\n      <td>0</td>\n    </tr>\n  </tbody>\n</table>\n</div>"
     },
     "metadata": {},
     "execution_count": 87
    }
   ],
   "source": [
    "train_csv_df = pd.read_csv(os.path.join(parent_dir, train_df_name))\n",
    "train_df = train_csv_df[feature_names+[poi_column]]\n",
    "train_df.head()"
   ]
  },
  {
   "cell_type": "markdown",
   "metadata": {},
   "source": [
    "### Testing Data"
   ]
  },
  {
   "cell_type": "code",
   "execution_count": 88,
   "metadata": {},
   "outputs": [
    {
     "output_type": "execute_result",
     "data": {
      "text/plain": [
       "       mfcc0  natural_land  human_made        RSI  road_exist_percent  \\\n",
       "0  46.814274      0.692291    0.122769   0.000000            0.182053   \n",
       "1  85.492668      0.766882    0.107162   1.289747            0.125955   \n",
       "2  80.570160      0.697338    0.160116  32.959722            0.142546   \n",
       "3  59.378181      0.700820    0.112501   4.292388            0.175124   \n",
       "4  44.661961      0.730924    0.124594   1.737973            0.144481   \n",
       "\n",
       "   edge_wifi_count     mfcc4  stay_duration  Is_Congestion  \n",
       "0         0.000000 -4.031920            105              1  \n",
       "1         0.024291 -3.588506             12              1  \n",
       "2         0.000000 -6.036549             95              1  \n",
       "3         0.012752 -4.283316            102              1  \n",
       "4         0.007056  3.639375              4              1  "
      ],
      "text/html": "<div>\n<style scoped>\n    .dataframe tbody tr th:only-of-type {\n        vertical-align: middle;\n    }\n\n    .dataframe tbody tr th {\n        vertical-align: top;\n    }\n\n    .dataframe thead th {\n        text-align: right;\n    }\n</style>\n<table border=\"1\" class=\"dataframe\">\n  <thead>\n    <tr style=\"text-align: right;\">\n      <th></th>\n      <th>mfcc0</th>\n      <th>natural_land</th>\n      <th>human_made</th>\n      <th>RSI</th>\n      <th>road_exist_percent</th>\n      <th>edge_wifi_count</th>\n      <th>mfcc4</th>\n      <th>stay_duration</th>\n      <th>Is_Congestion</th>\n    </tr>\n  </thead>\n  <tbody>\n    <tr>\n      <td>0</td>\n      <td>46.814274</td>\n      <td>0.692291</td>\n      <td>0.122769</td>\n      <td>0.000000</td>\n      <td>0.182053</td>\n      <td>0.000000</td>\n      <td>-4.031920</td>\n      <td>105</td>\n      <td>1</td>\n    </tr>\n    <tr>\n      <td>1</td>\n      <td>85.492668</td>\n      <td>0.766882</td>\n      <td>0.107162</td>\n      <td>1.289747</td>\n      <td>0.125955</td>\n      <td>0.024291</td>\n      <td>-3.588506</td>\n      <td>12</td>\n      <td>1</td>\n    </tr>\n    <tr>\n      <td>2</td>\n      <td>80.570160</td>\n      <td>0.697338</td>\n      <td>0.160116</td>\n      <td>32.959722</td>\n      <td>0.142546</td>\n      <td>0.000000</td>\n      <td>-6.036549</td>\n      <td>95</td>\n      <td>1</td>\n    </tr>\n    <tr>\n      <td>3</td>\n      <td>59.378181</td>\n      <td>0.700820</td>\n      <td>0.112501</td>\n      <td>4.292388</td>\n      <td>0.175124</td>\n      <td>0.012752</td>\n      <td>-4.283316</td>\n      <td>102</td>\n      <td>1</td>\n    </tr>\n    <tr>\n      <td>4</td>\n      <td>44.661961</td>\n      <td>0.730924</td>\n      <td>0.124594</td>\n      <td>1.737973</td>\n      <td>0.144481</td>\n      <td>0.007056</td>\n      <td>3.639375</td>\n      <td>4</td>\n      <td>1</td>\n    </tr>\n  </tbody>\n</table>\n</div>"
     },
     "metadata": {},
     "execution_count": 88
    }
   ],
   "source": [
    "test_csv_df = pd.read_csv(os.path.join(parent_dir, test_df_name))\n",
    "test_df = test_csv_df[feature_names+[poi_column]]\n",
    "test_df.head()"
   ]
  },
  {
   "cell_type": "markdown",
   "metadata": {},
   "source": [
    "### Seperating target column and input columns"
   ]
  },
  {
   "cell_type": "code",
   "execution_count": 89,
   "metadata": {},
   "outputs": [],
   "source": [
    "X = train_df[feature_names].copy()\n",
    "y = train_df[poi_column].copy()"
   ]
  },
  {
   "cell_type": "markdown",
   "metadata": {},
   "source": [
    "## Using SMOTE"
   ]
  },
  {
   "cell_type": "code",
   "execution_count": 90,
   "metadata": {},
   "outputs": [],
   "source": [
    "smote = SMOTE()"
   ]
  },
  {
   "cell_type": "code",
   "execution_count": 91,
   "metadata": {},
   "outputs": [
    {
     "output_type": "stream",
     "name": "stdout",
     "text": [
      "(2480, 8)\n(2480,)\n(4492, 8)\n(4492,)\n"
     ]
    }
   ],
   "source": [
    "X_resampled, y_resampled = smote.fit_sample(X, y)\n",
    "print(X.shape)\n",
    "print(y.shape)\n",
    "print(X_resampled.shape)\n",
    "print(y_resampled.shape)"
   ]
  },
  {
   "cell_type": "markdown",
   "metadata": {},
   "source": [
    "## Categorical data Transformation"
   ]
  },
  {
   "cell_type": "markdown",
   "metadata": {},
   "source": [
    "### For train data"
   ]
  },
  {
   "cell_type": "code",
   "execution_count": 92,
   "metadata": {},
   "outputs": [],
   "source": [
    "train_data = X_resampled.copy()\n",
    "train_labels = y_resampled.copy()"
   ]
  },
  {
   "cell_type": "markdown",
   "metadata": {},
   "source": [
    "### For test data"
   ]
  },
  {
   "cell_type": "code",
   "execution_count": 93,
   "metadata": {},
   "outputs": [],
   "source": [
    "test_data = test_df[feature_names].values\n",
    "test_labels = test_df[poi_column].values"
   ]
  },
  {
   "cell_type": "markdown",
   "metadata": {},
   "source": [
    "# Training"
   ]
  },
  {
   "cell_type": "code",
   "execution_count": 94,
   "metadata": {},
   "outputs": [],
   "source": [
    "model = RandomForestClassifier(n_estimators=20,max_depth=8)\n",
    "model.fit(train_data, train_labels)\n",
    "train_predictions = model.predict(train_data) # for training performance stat"
   ]
  },
  {
   "cell_type": "markdown",
   "metadata": {},
   "source": [
    "# Testing"
   ]
  },
  {
   "cell_type": "code",
   "execution_count": 95,
   "metadata": {},
   "outputs": [],
   "source": [
    "assert test_data.shape[1] == train_data.shape[1]\n",
    "test_predictions = model.predict(test_data)"
   ]
  },
  {
   "cell_type": "markdown",
   "metadata": {},
   "source": [
    "# Performance Stat"
   ]
  },
  {
   "cell_type": "markdown",
   "metadata": {},
   "source": [
    "## Training Performance"
   ]
  },
  {
   "cell_type": "code",
   "execution_count": 96,
   "metadata": {},
   "outputs": [
    {
     "output_type": "stream",
     "name": "stdout",
     "text": [
      "For train: \n\tAccuracy: 0.9102849510240427\n\tPrecision: 0.911908327669572\n\tRecall: 0.9102849510240427\n\tF1 score: 0.9101964695925223\n              precision    recall  f1-score   support\n\n           0       0.94      0.88      0.91      2246\n           1       0.89      0.94      0.91      2246\n\n    accuracy                           0.91      4492\n   macro avg       0.91      0.91      0.91      4492\nweighted avg       0.91      0.91      0.91      4492\n\n"
     ]
    }
   ],
   "source": [
    "get_performance_stats(\"train\", train_labels, train_predictions)"
   ]
  },
  {
   "cell_type": "markdown",
   "metadata": {},
   "source": [
    "## Testing Performance"
   ]
  },
  {
   "cell_type": "code",
   "execution_count": 97,
   "metadata": {},
   "outputs": [
    {
     "output_type": "stream",
     "name": "stdout",
     "text": [
      "For test: \n\tAccuracy: 0.6944444444444444\n\tPrecision: 0.8824307500778088\n\tRecall: 0.6944444444444444\n\tF1 score: 0.7677459075764159\n              precision    recall  f1-score   support\n\n           0       0.10      0.40      0.15         5\n           1       0.94      0.72      0.81        67\n\n    accuracy                           0.69        72\n   macro avg       0.52      0.56      0.48        72\nweighted avg       0.88      0.69      0.77        72\n\n"
     ]
    }
   ],
   "source": [
    "get_performance_stats(\"test\", test_labels, test_predictions)"
   ]
  },
  {
   "cell_type": "markdown",
   "metadata": {},
   "source": [
    "### Confusion Matrix"
   ]
  },
  {
   "cell_type": "code",
   "execution_count": 98,
   "metadata": {},
   "outputs": [
    {
     "output_type": "display_data",
     "data": {
      "text/plain": "<Figure size 432x288 with 2 Axes>",
      "image/png": "[encoded data removed]"
     },
     "metadata": {
      "needs_background": "light"
     }
    }
   ],
   "source": [
    "from sklearn.metrics import plot_confusion_matrix\n",
    "import matplotlib.pyplot as plt\n",
    "disp = plot_confusion_matrix(model, test_data, test_labels, cmap=plt.cm.Blues)\n",
    "disp.ax_.set_title(f'total: {len(test_data)}')\n",
    "plt.show()"
   ]
  },
  {
   "cell_type": "markdown",
   "metadata": {},
   "source": [
    "### Check & Save Predicitons"
   ]
  },
  {
   "cell_type": "code",
   "execution_count": 99,
   "metadata": {},
   "outputs": [
    {
     "output_type": "execute_result",
     "data": {
      "text/plain": [
       "  instance_date instance_start_time instance_end_time  \\\n",
       "0    09/14/2019            12:04:16          12:06:01   \n",
       "1    09/14/2019            12:06:36          12:06:47   \n",
       "2    09/14/2019            16:39:20          16:40:54   \n",
       "3    09/14/2019            16:45:03          16:46:45   \n",
       "4    09/14/2019            11:39:46          11:39:49   \n",
       "\n",
       "   Prediction Is_Congestion  \n",
       "0                         0  \n",
       "1                         0  \n",
       "2                         1  \n",
       "3                         1  \n",
       "4                         0  "
      ],
      "text/html": "<div>\n<style scoped>\n    .dataframe tbody tr th:only-of-type {\n        vertical-align: middle;\n    }\n\n    .dataframe tbody tr th {\n        vertical-align: top;\n    }\n\n    .dataframe thead th {\n        text-align: right;\n    }\n</style>\n<table border=\"1\" class=\"dataframe\">\n  <thead>\n    <tr style=\"text-align: right;\">\n      <th></th>\n      <th>instance_date</th>\n      <th>instance_start_time</th>\n      <th>instance_end_time</th>\n      <th>Prediction Is_Congestion</th>\n    </tr>\n  </thead>\n  <tbody>\n    <tr>\n      <td>0</td>\n      <td>09/14/2019</td>\n      <td>12:04:16</td>\n      <td>12:06:01</td>\n      <td>0</td>\n    </tr>\n    <tr>\n      <td>1</td>\n      <td>09/14/2019</td>\n      <td>12:06:36</td>\n      <td>12:06:47</td>\n      <td>0</td>\n    </tr>\n    <tr>\n      <td>2</td>\n      <td>09/14/2019</td>\n      <td>16:39:20</td>\n      <td>16:40:54</td>\n      <td>1</td>\n    </tr>\n    <tr>\n      <td>3</td>\n      <td>09/14/2019</td>\n      <td>16:45:03</td>\n      <td>16:46:45</td>\n      <td>1</td>\n    </tr>\n    <tr>\n      <td>4</td>\n      <td>09/14/2019</td>\n      <td>11:39:46</td>\n      <td>11:39:49</td>\n      <td>0</td>\n    </tr>\n  </tbody>\n</table>\n</div>"
     },
     "metadata": {},
     "execution_count": 99
    }
   ],
   "source": [
    "result_df = form_result_df(test_csv_df, test_predictions, poi_column)\n",
    "result_df.head()"
   ]
  },
  {
   "cell_type": "code",
   "execution_count": 100,
   "metadata": {},
   "outputs": [],
   "source": [
    "result_df.to_csv(os.path.join(parent_dir, output_result_filename), index=False)"
   ]
  },
  {
   "cell_type": "code",
   "execution_count": 101,
   "metadata": {
    "scrolled": true
   },
   "outputs": [
    {
     "output_type": "execute_result",
     "data": {
      "text/plain": [
       "array([1, 1, 1, 1, 1, 1, 1, 1, 1, 1, 1, 1, 1, 1, 1, 1, 1, 1, 1, 1, 1, 1,\n",
       "       1, 1, 1, 1, 0, 1, 1, 1, 1, 0, 1, 1, 1, 1, 1, 1, 1, 1, 1, 1, 1, 1,\n",
       "       1, 1, 1, 1, 1, 1, 1, 1, 1, 1, 0, 0, 1, 1, 1, 1, 1, 1, 0, 1, 1, 1,\n",
       "       1, 1, 1, 1, 1, 1], dtype=int64)"
      ]
     },
     "metadata": {},
     "execution_count": 101
    }
   ],
   "source": [
    "test_labels"
   ]
  },
  {
   "cell_type": "code",
   "execution_count": 102,
   "metadata": {
    "scrolled": true
   },
   "outputs": [
    {
     "output_type": "execute_result",
     "data": {
      "text/plain": [
       "array([0, 0, 1, 1, 0, 0, 1, 0, 1, 1, 1, 0, 0, 0, 1, 0, 1, 0, 0, 1, 1, 1,\n",
       "       1, 1, 1, 1, 1, 1, 1, 0, 1, 0, 1, 1, 1, 1, 0, 0, 1, 0, 1, 0, 1, 1,\n",
       "       0, 1, 1, 1, 0, 1, 1, 1, 1, 1, 1, 1, 1, 1, 1, 1, 0, 1, 0, 1, 1, 1,\n",
       "       1, 1, 1, 1, 1, 1], dtype=int64)"
      ]
     },
     "metadata": {},
     "execution_count": 102
    }
   ],
   "source": [
    "test_predictions"
   ]
  },
  {
   "cell_type": "code",
   "execution_count": null,
   "metadata": {},
   "outputs": [],
   "source": []
  },
  {
   "cell_type": "code",
   "execution_count": null,
   "metadata": {},
   "outputs": [],
   "source": []
  }
 ],
 "metadata": {
  "kernelspec": {
   "display_name": "Python 3",
   "language": "python",
   "name": "python3"
  },
  "language_info": {
   "codemirror_mode": {
    "name": "ipython",
    "version": 3
   },
   "file_extension": ".py",
   "mimetype": "text/x-python",
   "name": "python",
   "nbconvert_exporter": "python",
   "pygments_lexer": "ipython3",
   "version": "3.7.4-final"
  }
 },
 "nbformat": 4,
 "nbformat_minor": 4
}