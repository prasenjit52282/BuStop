{
 "cells": [
  {
   "cell_type": "code",
   "execution_count": 1,
   "metadata": {},
   "outputs": [],
   "source": [
    "import os\n",
    "import pandas as pd\n",
    "from library.Haversine import *"
   ]
  },
  {
   "cell_type": "code",
   "execution_count": 2,
   "metadata": {},
   "outputs": [],
   "source": [
    "# use the Haversine class from library.Haversine to calculate the distance between\n",
    "#     two lon/lat coordnate pairs.\n",
    "#     output distance available in kilometers, meters, miles, and feet.\n",
    "#     example usage: Haversine([lon1,lat1],[lon2,lat2]).feet"
   ]
  },
  {
   "cell_type": "code",
   "execution_count": 3,
   "metadata": {},
   "outputs": [],
   "source": [
    "# name = \"prantika_bus_stand\"\n",
    "# name = \"junction_mall\"\n",
    "name = \"54ft_road\"\n",
    "# name = \"dvc_more\"\n",
    "# name = \"station\""
   ]
  },
  {
   "cell_type": "code",
   "execution_count": 4,
   "metadata": {},
   "outputs": [],
   "source": [
    "# parent directory path\n",
    "parent_dir = r\"../data/54ft/\"\n",
    "\n",
    "input_file_name = r\"54ft_test.csv\"\n",
    "\n",
    "# output_file_name = r\"zone_test_split.csv\"\n",
    "# output_file_name = r\"junction_mall_test_split.csv\"\n",
    "output_file_name = f\"{name}_test_split.csv\""
   ]
  },
  {
   "cell_type": "code",
   "execution_count": 5,
   "metadata": {},
   "outputs": [],
   "source": [
    "# zone_coordinates = (87.2960593711539,23.53582545) # city center coordinates\n",
    "# zone_coordinates = (87.297590, 23.535409) # city center bus stand coordinates\n",
    "\n",
    "# zone_coordinates = (87.293241, 23.539163) # junction mall coordinates\n",
    "# zone_coordinates = (87.2830, 23.5644) # prantika bus stand coordinates\n",
    "\n",
    "\n",
    "zone_coordinates = {\n",
    "    \"prantika_bus_stand\": (87.2830, 23.5644),\n",
    "    \"junction_mall\": (87.293241, 23.539163),\n",
    "    \"54ft_road\": (87.2851056, 23.55004358),\n",
    "    \"dvc_more\": (87.3111255417424, 23.528288907417224),\n",
    "    \"station\": (87.3168871, 23.49477442)\n",
    "}[name]\n",
    "\n",
    "radius = 260.0 # in meters"
   ]
  },
  {
   "cell_type": "code",
   "execution_count": 6,
   "metadata": {},
   "outputs": [],
   "source": [
    "test_df = pd.read_csv(os.path.join(parent_dir, input_file_name))"
   ]
  },
  {
   "cell_type": "code",
   "execution_count": 7,
   "metadata": {},
   "outputs": [],
   "source": [
    "in_zone = []\n",
    "for idx, row in test_df.iterrows():\n",
    "    if Haversine(zone_coordinates, (row.long, row.lat)).meters < radius:\n",
    "        in_zone.append(True)\n",
    "    else:\n",
    "        in_zone.append(False)"
   ]
  },
  {
   "cell_type": "code",
   "execution_count": 8,
   "metadata": {},
   "outputs": [],
   "source": [
    "test_df['In_zone'] = in_zone"
   ]
  },
  {
   "cell_type": "code",
   "execution_count": 9,
   "metadata": {},
   "outputs": [],
   "source": [
    "zone_df = test_df.groupby('In_zone').get_group(True) "
   ]
  },
  {
   "cell_type": "code",
   "execution_count": 10,
   "metadata": {},
   "outputs": [
    {
     "output_type": "execute_result",
     "data": {
      "text/plain": [
       "98"
      ]
     },
     "metadata": {},
     "execution_count": 10
    }
   ],
   "source": [
    "len(zone_df)"
   ]
  },
  {
   "cell_type": "code",
   "execution_count": 11,
   "metadata": {},
   "outputs": [
    {
     "output_type": "execute_result",
     "data": {
      "text/plain": [
       "      start_date        lat       long  stay_duration       mfcc0      mfcc1  \\\n",
       "23    09/14/2019  23.551144  87.285870             11   69.060471   1.155933   \n",
       "24    09/14/2019  23.551626  87.286258              2   86.484085  15.136234   \n",
       "64    09/14/2019  23.548212  87.283592              8   73.721138   8.371500   \n",
       "65    09/14/2019  23.550040  87.285021              8   48.402252  14.604517   \n",
       "66    09/14/2019  23.551263  87.285931             13   68.970947   3.706505   \n",
       "...          ...        ...        ...            ...         ...        ...   \n",
       "1330  09/23/2019  23.551833  87.286554              5   89.021294  14.428521   \n",
       "1331  09/23/2019  23.551245  87.286089             11   77.366684  14.579510   \n",
       "1332  09/23/2019  23.550138  87.285181             16   99.749329   8.935989   \n",
       "1333  09/23/2019  23.548594  87.283979              6  109.548195  11.182590   \n",
       "1334  09/23/2019  23.548303  87.283731             10   94.860451  10.097707   \n",
       "\n",
       "          mfcc2     mfcc3     mfcc4  wifi_count  ...        RSI  human_made  \\\n",
       "23    -2.284586 -2.765030 -3.515217           2  ...  16.869160    0.228177   \n",
       "24     5.761366 -1.411293 -1.677307           0  ...   1.625491    0.200089   \n",
       "64     7.963136  4.848304 -1.502949           0  ...   1.346294    0.254925   \n",
       "65     6.148217  1.876018 -3.286928           1  ...   1.388512    0.218173   \n",
       "66    -0.678427 -5.149258 -5.212214           4  ...   1.421124    0.228172   \n",
       "...         ...       ...       ...         ...  ...        ...         ...   \n",
       "1330  -3.273911 -3.299683 -3.416161           2  ...   1.904960    0.198130   \n",
       "1331  14.245343  1.371291 -3.272427           2  ...   1.761653    0.226583   \n",
       "1332   5.625085  1.942746 -2.660204           1  ...   1.589818    0.209552   \n",
       "1333   9.001755 -2.192352 -4.746701           0  ...   1.548819    0.238517   \n",
       "1334   5.679198 -3.579080 -3.606967           1  ...   2.616745    0.254756   \n",
       "\n",
       "      natural_land  road_exist_percent  highly_populated_poi_exist  \\\n",
       "23        0.500080            0.271135                         1.0   \n",
       "24        0.459261            0.268251                         1.0   \n",
       "64        0.459994            0.285081                         0.0   \n",
       "65        0.510915            0.270912                         0.0   \n",
       "66        0.489662            0.277140                         1.0   \n",
       "...            ...                 ...                         ...   \n",
       "1330      0.406801            0.256243                         1.0   \n",
       "1331      0.478897            0.275517                         1.0   \n",
       "1332      0.517842            0.272605                         0.0   \n",
       "1333      0.485738            0.275745                         0.0   \n",
       "1334      0.464504            0.280741                         0.0   \n",
       "\n",
       "      Is_Bus_stop  Is_Turn  Is_Signal  Is_Congestion  Is_Adhoc  \n",
       "23              1        0          0              0         0  \n",
       "24              0        0          0              0         1  \n",
       "64              0        0          0              0         1  \n",
       "65              1        0          0              0         0  \n",
       "66              1        0          0              0         0  \n",
       "...           ...      ...        ...            ...       ...  \n",
       "1330            0        0          0              0         1  \n",
       "1331            1        0          0              0         0  \n",
       "1332            1        0          0              0         0  \n",
       "1333            0        0          0              0         1  \n",
       "1334            1        0          0              0         0  \n",
       "\n",
       "[98 rows x 21 columns]"
      ],
      "text/html": "<div>\n<style scoped>\n    .dataframe tbody tr th:only-of-type {\n        vertical-align: middle;\n    }\n\n    .dataframe tbody tr th {\n        vertical-align: top;\n    }\n\n    .dataframe thead th {\n        text-align: right;\n    }\n</style>\n<table border=\"1\" class=\"dataframe\">\n  <thead>\n    <tr style=\"text-align: right;\">\n      <th></th>\n      <th>start_date</th>\n      <th>lat</th>\n      <th>long</th>\n      <th>stay_duration</th>\n      <th>mfcc0</th>\n      <th>mfcc1</th>\n      <th>mfcc2</th>\n      <th>mfcc3</th>\n      <th>mfcc4</th>\n      <th>wifi_count</th>\n      <th>...</th>\n      <th>RSI</th>\n      <th>human_made</th>\n      <th>natural_land</th>\n      <th>road_exist_percent</th>\n      <th>highly_populated_poi_exist</th>\n      <th>Is_Bus_stop</th>\n      <th>Is_Turn</th>\n      <th>Is_Signal</th>\n      <th>Is_Congestion</th>\n      <th>Is_Adhoc</th>\n    </tr>\n  </thead>\n  <tbody>\n    <tr>\n      <td>23</td>\n      <td>09/14/2019</td>\n      <td>23.551144</td>\n      <td>87.285870</td>\n      <td>11</td>\n      <td>69.060471</td>\n      <td>1.155933</td>\n      <td>-2.284586</td>\n      <td>-2.765030</td>\n      <td>-3.515217</td>\n      <td>2</td>\n      <td>...</td>\n      <td>16.869160</td>\n      <td>0.228177</td>\n      <td>0.500080</td>\n      <td>0.271135</td>\n      <td>1.0</td>\n      <td>1</td>\n      <td>0</td>\n      <td>0</td>\n      <td>0</td>\n      <td>0</td>\n    </tr>\n    <tr>\n      <td>24</td>\n      <td>09/14/2019</td>\n      <td>23.551626</td>\n      <td>87.286258</td>\n      <td>2</td>\n      <td>86.484085</td>\n      <td>15.136234</td>\n      <td>5.761366</td>\n      <td>-1.411293</td>\n      <td>-1.677307</td>\n      <td>0</td>\n      <td>...</td>\n      <td>1.625491</td>\n      <td>0.200089</td>\n      <td>0.459261</td>\n      <td>0.268251</td>\n      <td>1.0</td>\n      <td>0</td>\n      <td>0</td>\n      <td>0</td>\n      <td>0</td>\n      <td>1</td>\n    </tr>\n    <tr>\n      <td>64</td>\n      <td>09/14/2019</td>\n      <td>23.548212</td>\n      <td>87.283592</td>\n      <td>8</td>\n      <td>73.721138</td>\n      <td>8.371500</td>\n      <td>7.963136</td>\n      <td>4.848304</td>\n      <td>-1.502949</td>\n      <td>0</td>\n      <td>...</td>\n      <td>1.346294</td>\n      <td>0.254925</td>\n      <td>0.459994</td>\n      <td>0.285081</td>\n      <td>0.0</td>\n      <td>0</td>\n      <td>0</td>\n      <td>0</td>\n      <td>0</td>\n      <td>1</td>\n    </tr>\n    <tr>\n      <td>65</td>\n      <td>09/14/2019</td>\n      <td>23.550040</td>\n      <td>87.285021</td>\n      <td>8</td>\n      <td>48.402252</td>\n      <td>14.604517</td>\n      <td>6.148217</td>\n      <td>1.876018</td>\n      <td>-3.286928</td>\n      <td>1</td>\n      <td>...</td>\n      <td>1.388512</td>\n      <td>0.218173</td>\n      <td>0.510915</td>\n      <td>0.270912</td>\n      <td>0.0</td>\n      <td>1</td>\n      <td>0</td>\n      <td>0</td>\n      <td>0</td>\n      <td>0</td>\n    </tr>\n    <tr>\n      <td>66</td>\n      <td>09/14/2019</td>\n      <td>23.551263</td>\n      <td>87.285931</td>\n      <td>13</td>\n      <td>68.970947</td>\n      <td>3.706505</td>\n      <td>-0.678427</td>\n      <td>-5.149258</td>\n      <td>-5.212214</td>\n      <td>4</td>\n      <td>...</td>\n      <td>1.421124</td>\n      <td>0.228172</td>\n      <td>0.489662</td>\n      <td>0.277140</td>\n      <td>1.0</td>\n      <td>1</td>\n      <td>0</td>\n      <td>0</td>\n      <td>0</td>\n      <td>0</td>\n    </tr>\n    <tr>\n      <td>...</td>\n      <td>...</td>\n      <td>...</td>\n      <td>...</td>\n      <td>...</td>\n      <td>...</td>\n      <td>...</td>\n      <td>...</td>\n      <td>...</td>\n      <td>...</td>\n      <td>...</td>\n      <td>...</td>\n      <td>...</td>\n      <td>...</td>\n      <td>...</td>\n      <td>...</td>\n      <td>...</td>\n      <td>...</td>\n      <td>...</td>\n      <td>...</td>\n      <td>...</td>\n      <td>...</td>\n    </tr>\n    <tr>\n      <td>1330</td>\n      <td>09/23/2019</td>\n      <td>23.551833</td>\n      <td>87.286554</td>\n      <td>5</td>\n      <td>89.021294</td>\n      <td>14.428521</td>\n      <td>-3.273911</td>\n      <td>-3.299683</td>\n      <td>-3.416161</td>\n      <td>2</td>\n      <td>...</td>\n      <td>1.904960</td>\n      <td>0.198130</td>\n      <td>0.406801</td>\n      <td>0.256243</td>\n      <td>1.0</td>\n      <td>0</td>\n      <td>0</td>\n      <td>0</td>\n      <td>0</td>\n      <td>1</td>\n    </tr>\n    <tr>\n      <td>1331</td>\n      <td>09/23/2019</td>\n      <td>23.551245</td>\n      <td>87.286089</td>\n      <td>11</td>\n      <td>77.366684</td>\n      <td>14.579510</td>\n      <td>14.245343</td>\n      <td>1.371291</td>\n      <td>-3.272427</td>\n      <td>2</td>\n      <td>...</td>\n      <td>1.761653</td>\n      <td>0.226583</td>\n      <td>0.478897</td>\n      <td>0.275517</td>\n      <td>1.0</td>\n      <td>1</td>\n      <td>0</td>\n      <td>0</td>\n      <td>0</td>\n      <td>0</td>\n    </tr>\n    <tr>\n      <td>1332</td>\n      <td>09/23/2019</td>\n      <td>23.550138</td>\n      <td>87.285181</td>\n      <td>16</td>\n      <td>99.749329</td>\n      <td>8.935989</td>\n      <td>5.625085</td>\n      <td>1.942746</td>\n      <td>-2.660204</td>\n      <td>1</td>\n      <td>...</td>\n      <td>1.589818</td>\n      <td>0.209552</td>\n      <td>0.517842</td>\n      <td>0.272605</td>\n      <td>0.0</td>\n      <td>1</td>\n      <td>0</td>\n      <td>0</td>\n      <td>0</td>\n      <td>0</td>\n    </tr>\n    <tr>\n      <td>1333</td>\n      <td>09/23/2019</td>\n      <td>23.548594</td>\n      <td>87.283979</td>\n      <td>6</td>\n      <td>109.548195</td>\n      <td>11.182590</td>\n      <td>9.001755</td>\n      <td>-2.192352</td>\n      <td>-4.746701</td>\n      <td>0</td>\n      <td>...</td>\n      <td>1.548819</td>\n      <td>0.238517</td>\n      <td>0.485738</td>\n      <td>0.275745</td>\n      <td>0.0</td>\n      <td>0</td>\n      <td>0</td>\n      <td>0</td>\n      <td>0</td>\n      <td>1</td>\n    </tr>\n    <tr>\n      <td>1334</td>\n      <td>09/23/2019</td>\n      <td>23.548303</td>\n      <td>87.283731</td>\n      <td>10</td>\n      <td>94.860451</td>\n      <td>10.097707</td>\n      <td>5.679198</td>\n      <td>-3.579080</td>\n      <td>-3.606967</td>\n      <td>1</td>\n      <td>...</td>\n      <td>2.616745</td>\n      <td>0.254756</td>\n      <td>0.464504</td>\n      <td>0.280741</td>\n      <td>0.0</td>\n      <td>1</td>\n      <td>0</td>\n      <td>0</td>\n      <td>0</td>\n      <td>0</td>\n    </tr>\n  </tbody>\n</table>\n<p>98 rows × 21 columns</p>\n</div>"
     },
     "metadata": {},
     "execution_count": 11
    }
   ],
   "source": [
    "zone_df = zone_df[zone_df.columns[:-1]]\n",
    "zone_df"
   ]
  },
  {
   "cell_type": "code",
   "execution_count": 12,
   "metadata": {},
   "outputs": [
    {
     "output_type": "execute_result",
     "data": {
      "text/plain": [
       "Index(['start_date', 'lat', 'long', 'stay_duration', 'mfcc0', 'mfcc1', 'mfcc2',\n",
       "       'mfcc3', 'mfcc4', 'wifi_count', 'edge_wifi_count', 'RSI', 'human_made',\n",
       "       'natural_land', 'road_exist_percent', 'highly_populated_poi_exist',\n",
       "       'Is_Bus_stop', 'Is_Turn', 'Is_Signal', 'Is_Congestion', 'Is_Adhoc'],\n",
       "      dtype='object')"
      ]
     },
     "metadata": {},
     "execution_count": 12
    }
   ],
   "source": [
    "zone_df.columns"
   ]
  },
  {
   "cell_type": "code",
   "execution_count": 13,
   "metadata": {},
   "outputs": [],
   "source": [
    "zone_df.to_csv(os.path.join(parent_dir, output_file_name), index=False)"
   ]
  },
  {
   "cell_type": "code",
   "execution_count": null,
   "metadata": {},
   "outputs": [],
   "source": []
  }
 ],
 "metadata": {
  "kernelspec": {
   "display_name": "Python 3",
   "language": "python",
   "name": "python3"
  },
  "language_info": {
   "codemirror_mode": {
    "name": "ipython",
    "version": 3
   },
   "file_extension": ".py",
   "mimetype": "text/x-python",
   "name": "python",
   "nbconvert_exporter": "python",
   "pygments_lexer": "ipython3",
   "version": "3.7.4-final"
  }
 },
 "nbformat": 4,
 "nbformat_minor": 4
}