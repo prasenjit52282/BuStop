{
 "cells": [
  {
   "cell_type": "code",
   "execution_count": 1,
   "metadata": {},
   "outputs": [],
   "source": [
    "import os\n",
    "import pandas as pd\n",
    "from library.Haversine import *"
   ]
  },
  {
   "cell_type": "code",
   "execution_count": 2,
   "metadata": {},
   "outputs": [],
   "source": [
    "# use the Haversine class from library.Haversine to calculate the distance between\n",
    "#     two lon/lat coordnate pairs.\n",
    "#     output distance available in kilometers, meters, miles, and feet.\n",
    "#     example usage: Haversine([lon1,lat1],[lon2,lat2]).feet"
   ]
  },
  {
   "cell_type": "code",
   "execution_count": 47,
   "metadata": {},
   "outputs": [],
   "source": [
    "#name = \"prantika_bus_stand\"\n",
    "#name = \"junction_mall\"\n",
    "#name = \"54ft_road\"\n",
    "#name = \"dvc_more\"\n",
    "name = \"station\""
   ]
  },
  {
   "cell_type": "code",
   "execution_count": 48,
   "metadata": {},
   "outputs": [],
   "source": [
    "# parent directory path\n",
    "parent_dir = r\"../data/54ft/\"\n",
    "\n",
    "input_file_name = r\"54ft_test.csv\"\n",
    "\n",
    "# output_file_name = r\"zone_test_split.csv\"\n",
    "# output_file_name = r\"junction_mall_test_split.csv\"\n",
    "output_file_name = f\"{name}_test_split.csv\""
   ]
  },
  {
   "cell_type": "code",
   "execution_count": 49,
   "metadata": {},
   "outputs": [],
   "source": [
    "# zone_coordinates = (87.2960593711539,23.53582545) # city center coordinates\n",
    "# zone_coordinates = (87.297590, 23.535409) # city center bus stand coordinates\n",
    "\n",
    "# zone_coordinates = (87.293241, 23.539163) # junction mall coordinates\n",
    "# zone_coordinates = (87.2830, 23.5644) # prantika bus stand coordinates\n",
    "\n",
    "\n",
    "zone_coordinates = {\n",
    "    \"prantika_bus_stand\": (87.2830, 23.5644),\n",
    "    \"junction_mall\": (87.293241, 23.539163),\n",
    "    \"54ft_road\": (87.2851056, 23.55004358),\n",
    "    \"dvc_more\": (87.3111255417424, 23.528288907417224),\n",
    "    \"station\": (87.3168871, 23.49477442)\n",
    "}[name]\n",
    "\n",
    "radius = 260.0 # in meters"
   ]
  },
  {
   "cell_type": "code",
   "execution_count": 50,
   "metadata": {},
   "outputs": [],
   "source": [
    "test_df = pd.read_csv(os.path.join(parent_dir, input_file_name))"
   ]
  },
  {
   "cell_type": "code",
   "execution_count": 51,
   "metadata": {},
   "outputs": [],
   "source": [
    "in_zone = []\n",
    "for idx, row in test_df.iterrows():\n",
    "    if Haversine(zone_coordinates, (row.long, row.lat)).meters < radius:\n",
    "        in_zone.append(True)\n",
    "    else:\n",
    "        in_zone.append(False)"
   ]
  },
  {
   "cell_type": "code",
   "execution_count": 52,
   "metadata": {},
   "outputs": [],
   "source": [
    "test_df['In_zone'] = in_zone"
   ]
  },
  {
   "cell_type": "code",
   "execution_count": 53,
   "metadata": {},
   "outputs": [],
   "source": [
    "zone_df = test_df.groupby('In_zone').get_group(True) "
   ]
  },
  {
   "cell_type": "code",
   "execution_count": 54,
   "metadata": {},
   "outputs": [
    {
     "output_type": "execute_result",
     "data": {
      "text/plain": [
       "72"
      ]
     },
     "metadata": {},
     "execution_count": 54
    }
   ],
   "source": [
    "len(zone_df)"
   ]
  },
  {
   "cell_type": "code",
   "execution_count": 55,
   "metadata": {},
   "outputs": [
    {
     "output_type": "execute_result",
     "data": {
      "text/plain": [
       "      start_date        lat       long start_time  end_time  stay_duration  \\\n",
       "0     09/14/2019  23.493346  87.316521   12:04:16  12:06:01            105   \n",
       "1     09/14/2019  23.495495  87.314942   12:06:36  12:06:47             12   \n",
       "34    09/14/2019  23.494503  87.317019   16:39:20  16:40:54             95   \n",
       "35    09/14/2019  23.493230  87.316356   16:45:03  16:46:45            102   \n",
       "109   09/14/2019  23.495499  87.315772   11:39:46  11:39:49              4   \n",
       "...          ...        ...        ...        ...       ...            ...   \n",
       "1277  09/23/2019  23.495178  87.316404   11:18:40  11:18:41              2   \n",
       "1317  09/23/2019  23.495473  87.315723   15:40:24  15:40:36              9   \n",
       "1318  09/23/2019  23.495228  87.316418   15:40:46  15:40:51              5   \n",
       "1358  09/23/2019  23.495560  87.315638   17:48:28  17:48:37             10   \n",
       "1359  09/23/2019  23.495188  87.316408   17:48:50  17:48:54              5   \n",
       "\n",
       "           mfcc0      mfcc1      mfcc2      mfcc3  ...        RSI  human_made  \\\n",
       "0      46.814274   0.407686  -1.202456  -3.447918  ...   0.000000    0.122769   \n",
       "1      85.492668  -2.336247  -2.579506  -3.294860  ...   1.289747    0.107162   \n",
       "34     80.570160  -1.616064  -2.284942  -5.876969  ...  32.959722    0.160116   \n",
       "35     59.378181  13.455494  -2.046212  -3.745565  ...   4.292388    0.112501   \n",
       "109    44.661961  35.317913  17.567953  14.049755  ...   1.737973    0.124594   \n",
       "...          ...        ...        ...        ...  ...        ...         ...   \n",
       "1277   76.340775   6.533066  -3.801190  -4.060399  ...   1.689673    0.141592   \n",
       "1317   67.016403  16.542610   0.410804  -0.373785  ...   1.448238    0.128601   \n",
       "1318   75.397652  21.889668   1.691028   0.144764  ...   1.561785    0.138874   \n",
       "1358  156.591766  25.255072   4.329640  -2.886589  ...   1.571455    0.122203   \n",
       "1359  166.367783  24.913294   9.571708  -0.837002  ...   1.618889    0.141447   \n",
       "\n",
       "      natural_land  road_exist_percent  highly_populated_poi_exist  \\\n",
       "0         0.692291            0.182053                         1.0   \n",
       "1         0.766882            0.125955                         0.0   \n",
       "34        0.697338            0.142546                         0.0   \n",
       "35        0.700820            0.175124                         1.0   \n",
       "109       0.730924            0.144481                         0.0   \n",
       "...            ...                 ...                         ...   \n",
       "1277      0.718653            0.139755                         0.0   \n",
       "1317      0.728713            0.142685                         0.0   \n",
       "1318      0.721933            0.139193                         0.0   \n",
       "1358      0.738000            0.139797                         0.0   \n",
       "1359      0.718994            0.139559                         0.0   \n",
       "\n",
       "      Is_Bus_stop  Is_Turn  Is_Signal  Is_Congestion  Is_Adhoc  \n",
       "0               1        1          0              1         0  \n",
       "1               0        0          0              1         0  \n",
       "34              1        0          0              1         0  \n",
       "35              1        1          0              1         0  \n",
       "109             0        0          1              1         0  \n",
       "...           ...      ...        ...            ...       ...  \n",
       "1277            0        0          0              1         0  \n",
       "1317            0        0          1              1         0  \n",
       "1318            0        0          0              1         0  \n",
       "1358            0        0          1              1         0  \n",
       "1359            0        0          0              1         0  \n",
       "\n",
       "[72 rows x 23 columns]"
      ],
      "text/html": "<div>\n<style scoped>\n    .dataframe tbody tr th:only-of-type {\n        vertical-align: middle;\n    }\n\n    .dataframe tbody tr th {\n        vertical-align: top;\n    }\n\n    .dataframe thead th {\n        text-align: right;\n    }\n</style>\n<table border=\"1\" class=\"dataframe\">\n  <thead>\n    <tr style=\"text-align: right;\">\n      <th></th>\n      <th>start_date</th>\n      <th>lat</th>\n      <th>long</th>\n      <th>start_time</th>\n      <th>end_time</th>\n      <th>stay_duration</th>\n      <th>mfcc0</th>\n      <th>mfcc1</th>\n      <th>mfcc2</th>\n      <th>mfcc3</th>\n      <th>...</th>\n      <th>RSI</th>\n      <th>human_made</th>\n      <th>natural_land</th>\n      <th>road_exist_percent</th>\n      <th>highly_populated_poi_exist</th>\n      <th>Is_Bus_stop</th>\n      <th>Is_Turn</th>\n      <th>Is_Signal</th>\n      <th>Is_Congestion</th>\n      <th>Is_Adhoc</th>\n    </tr>\n  </thead>\n  <tbody>\n    <tr>\n      <td>0</td>\n      <td>09/14/2019</td>\n      <td>23.493346</td>\n      <td>87.316521</td>\n      <td>12:04:16</td>\n      <td>12:06:01</td>\n      <td>105</td>\n      <td>46.814274</td>\n      <td>0.407686</td>\n      <td>-1.202456</td>\n      <td>-3.447918</td>\n      <td>...</td>\n      <td>0.000000</td>\n      <td>0.122769</td>\n      <td>0.692291</td>\n      <td>0.182053</td>\n      <td>1.0</td>\n      <td>1</td>\n      <td>1</td>\n      <td>0</td>\n      <td>1</td>\n      <td>0</td>\n    </tr>\n    <tr>\n      <td>1</td>\n      <td>09/14/2019</td>\n      <td>23.495495</td>\n      <td>87.314942</td>\n      <td>12:06:36</td>\n      <td>12:06:47</td>\n      <td>12</td>\n      <td>85.492668</td>\n      <td>-2.336247</td>\n      <td>-2.579506</td>\n      <td>-3.294860</td>\n      <td>...</td>\n      <td>1.289747</td>\n      <td>0.107162</td>\n      <td>0.766882</td>\n      <td>0.125955</td>\n      <td>0.0</td>\n      <td>0</td>\n      <td>0</td>\n      <td>0</td>\n      <td>1</td>\n      <td>0</td>\n    </tr>\n    <tr>\n      <td>34</td>\n      <td>09/14/2019</td>\n      <td>23.494503</td>\n      <td>87.317019</td>\n      <td>16:39:20</td>\n      <td>16:40:54</td>\n      <td>95</td>\n      <td>80.570160</td>\n      <td>-1.616064</td>\n      <td>-2.284942</td>\n      <td>-5.876969</td>\n      <td>...</td>\n      <td>32.959722</td>\n      <td>0.160116</td>\n      <td>0.697338</td>\n      <td>0.142546</td>\n      <td>0.0</td>\n      <td>1</td>\n      <td>0</td>\n      <td>0</td>\n      <td>1</td>\n      <td>0</td>\n    </tr>\n    <tr>\n      <td>35</td>\n      <td>09/14/2019</td>\n      <td>23.493230</td>\n      <td>87.316356</td>\n      <td>16:45:03</td>\n      <td>16:46:45</td>\n      <td>102</td>\n      <td>59.378181</td>\n      <td>13.455494</td>\n      <td>-2.046212</td>\n      <td>-3.745565</td>\n      <td>...</td>\n      <td>4.292388</td>\n      <td>0.112501</td>\n      <td>0.700820</td>\n      <td>0.175124</td>\n      <td>1.0</td>\n      <td>1</td>\n      <td>1</td>\n      <td>0</td>\n      <td>1</td>\n      <td>0</td>\n    </tr>\n    <tr>\n      <td>109</td>\n      <td>09/14/2019</td>\n      <td>23.495499</td>\n      <td>87.315772</td>\n      <td>11:39:46</td>\n      <td>11:39:49</td>\n      <td>4</td>\n      <td>44.661961</td>\n      <td>35.317913</td>\n      <td>17.567953</td>\n      <td>14.049755</td>\n      <td>...</td>\n      <td>1.737973</td>\n      <td>0.124594</td>\n      <td>0.730924</td>\n      <td>0.144481</td>\n      <td>0.0</td>\n      <td>0</td>\n      <td>0</td>\n      <td>1</td>\n      <td>1</td>\n      <td>0</td>\n    </tr>\n    <tr>\n      <td>...</td>\n      <td>...</td>\n      <td>...</td>\n      <td>...</td>\n      <td>...</td>\n      <td>...</td>\n      <td>...</td>\n      <td>...</td>\n      <td>...</td>\n      <td>...</td>\n      <td>...</td>\n      <td>...</td>\n      <td>...</td>\n      <td>...</td>\n      <td>...</td>\n      <td>...</td>\n      <td>...</td>\n      <td>...</td>\n      <td>...</td>\n      <td>...</td>\n      <td>...</td>\n      <td>...</td>\n    </tr>\n    <tr>\n      <td>1277</td>\n      <td>09/23/2019</td>\n      <td>23.495178</td>\n      <td>87.316404</td>\n      <td>11:18:40</td>\n      <td>11:18:41</td>\n      <td>2</td>\n      <td>76.340775</td>\n      <td>6.533066</td>\n      <td>-3.801190</td>\n      <td>-4.060399</td>\n      <td>...</td>\n      <td>1.689673</td>\n      <td>0.141592</td>\n      <td>0.718653</td>\n      <td>0.139755</td>\n      <td>0.0</td>\n      <td>0</td>\n      <td>0</td>\n      <td>0</td>\n      <td>1</td>\n      <td>0</td>\n    </tr>\n    <tr>\n      <td>1317</td>\n      <td>09/23/2019</td>\n      <td>23.495473</td>\n      <td>87.315723</td>\n      <td>15:40:24</td>\n      <td>15:40:36</td>\n      <td>9</td>\n      <td>67.016403</td>\n      <td>16.542610</td>\n      <td>0.410804</td>\n      <td>-0.373785</td>\n      <td>...</td>\n      <td>1.448238</td>\n      <td>0.128601</td>\n      <td>0.728713</td>\n      <td>0.142685</td>\n      <td>0.0</td>\n      <td>0</td>\n      <td>0</td>\n      <td>1</td>\n      <td>1</td>\n      <td>0</td>\n    </tr>\n    <tr>\n      <td>1318</td>\n      <td>09/23/2019</td>\n      <td>23.495228</td>\n      <td>87.316418</td>\n      <td>15:40:46</td>\n      <td>15:40:51</td>\n      <td>5</td>\n      <td>75.397652</td>\n      <td>21.889668</td>\n      <td>1.691028</td>\n      <td>0.144764</td>\n      <td>...</td>\n      <td>1.561785</td>\n      <td>0.138874</td>\n      <td>0.721933</td>\n      <td>0.139193</td>\n      <td>0.0</td>\n      <td>0</td>\n      <td>0</td>\n      <td>0</td>\n      <td>1</td>\n      <td>0</td>\n    </tr>\n    <tr>\n      <td>1358</td>\n      <td>09/23/2019</td>\n      <td>23.495560</td>\n      <td>87.315638</td>\n      <td>17:48:28</td>\n      <td>17:48:37</td>\n      <td>10</td>\n      <td>156.591766</td>\n      <td>25.255072</td>\n      <td>4.329640</td>\n      <td>-2.886589</td>\n      <td>...</td>\n      <td>1.571455</td>\n      <td>0.122203</td>\n      <td>0.738000</td>\n      <td>0.139797</td>\n      <td>0.0</td>\n      <td>0</td>\n      <td>0</td>\n      <td>1</td>\n      <td>1</td>\n      <td>0</td>\n    </tr>\n    <tr>\n      <td>1359</td>\n      <td>09/23/2019</td>\n      <td>23.495188</td>\n      <td>87.316408</td>\n      <td>17:48:50</td>\n      <td>17:48:54</td>\n      <td>5</td>\n      <td>166.367783</td>\n      <td>24.913294</td>\n      <td>9.571708</td>\n      <td>-0.837002</td>\n      <td>...</td>\n      <td>1.618889</td>\n      <td>0.141447</td>\n      <td>0.718994</td>\n      <td>0.139559</td>\n      <td>0.0</td>\n      <td>0</td>\n      <td>0</td>\n      <td>0</td>\n      <td>1</td>\n      <td>0</td>\n    </tr>\n  </tbody>\n</table>\n<p>72 rows × 23 columns</p>\n</div>"
     },
     "metadata": {},
     "execution_count": 55
    }
   ],
   "source": [
    "zone_df = zone_df[zone_df.columns[:-1]]\n",
    "zone_df"
   ]
  },
  {
   "cell_type": "code",
   "execution_count": 56,
   "metadata": {},
   "outputs": [
    {
     "output_type": "execute_result",
     "data": {
      "text/plain": [
       "Index(['start_date', 'lat', 'long', 'start_time', 'end_time', 'stay_duration',\n",
       "       'mfcc0', 'mfcc1', 'mfcc2', 'mfcc3', 'mfcc4', 'wifi_count',\n",
       "       'edge_wifi_count', 'RSI', 'human_made', 'natural_land',\n",
       "       'road_exist_percent', 'highly_populated_poi_exist', 'Is_Bus_stop',\n",
       "       'Is_Turn', 'Is_Signal', 'Is_Congestion', 'Is_Adhoc'],\n",
       "      dtype='object')"
      ]
     },
     "metadata": {},
     "execution_count": 56
    }
   ],
   "source": [
    "zone_df.columns"
   ]
  },
  {
   "cell_type": "code",
   "execution_count": 57,
   "metadata": {},
   "outputs": [],
   "source": [
    "zone_df.to_csv(os.path.join(parent_dir, output_file_name), index=False)"
   ]
  },
  {
   "cell_type": "code",
   "execution_count": null,
   "metadata": {},
   "outputs": [],
   "source": []
  },
  {
   "cell_type": "code",
   "execution_count": null,
   "metadata": {},
   "outputs": [],
   "source": []
  }
 ],
 "metadata": {
  "kernelspec": {
   "display_name": "Python 3",
   "language": "python",
   "name": "python3"
  },
  "language_info": {
   "codemirror_mode": {
    "name": "ipython",
    "version": 3
   },
   "file_extension": ".py",
   "mimetype": "text/x-python",
   "name": "python",
   "nbconvert_exporter": "python",
   "pygments_lexer": "ipython3",
   "version": "3.7.4-final"
  }
 },
 "nbformat": 4,
 "nbformat_minor": 4
}