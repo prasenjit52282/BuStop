{
 "cells": [
  {
   "cell_type": "code",
   "execution_count": 1,
   "metadata": {},
   "outputs": [],
   "source": [
    "import os\n",
    "import pandas as pd\n",
    "from library.Haversine import *"
   ]
  },
  {
   "cell_type": "code",
   "execution_count": 2,
   "metadata": {},
   "outputs": [],
   "source": [
    "# use the Haversine class from library.Haversine to calculate the distance between\n",
    "#     two lon/lat coordnate pairs.\n",
    "#     output distance available in kilometers, meters, miles, and feet.\n",
    "#     example usage: Haversine([lon1,lat1],[lon2,lat2]).feet"
   ]
  },
  {
   "cell_type": "code",
   "execution_count": 3,
   "metadata": {},
   "outputs": [],
   "source": [
    "# parent directory path\n",
    "parent_dir = r\"../data/54ft/\"\n",
    "input_file_name = r\"54ft_test.csv\"\n",
    "\n",
    "radius=400 # radious is 260 meters\n",
    "zones = {\n",
    "    \"prantika_bus_stand\": (87.2830, 23.5644),\n",
    "    \"junction_mall\": (87.293241, 23.539163),\n",
    "    \"54ft_road\": (87.2851056, 23.55004358),\n",
    "    \"dvc_more\": (87.3111255417424, 23.528288907417224),\n",
    "    \"station\": (87.3168871, 23.49477442)\n",
    "}"
   ]
  },
  {
   "cell_type": "code",
   "execution_count": 4,
   "metadata": {},
   "outputs": [
    {
     "output_type": "stream",
     "name": "stdout",
     "text": [
      "Completed Zone:  prantika_bus_stand  Got data:  87 Got dates:7\n",
      "Completed Zone:  junction_mall  Got data:  76 Got dates:7\n",
      "Completed Zone:  54ft_road  Got data:  179 Got dates:7\n",
      "Completed Zone:  dvc_more  Got data:  77 Got dates:7\n",
      "Completed Zone:  station  Got data:  50 Got dates:7\n"
     ]
    }
   ],
   "source": [
    "for name in zones.keys():\n",
    "    # output_file_name = r\"zone_test_split.csv\"\n",
    "    # output_file_name = r\"junction_mall_test_split.csv\"\n",
    "    output_file_name = f\"{name}_test_split.csv\"\n",
    "\n",
    "    test_df = pd.read_csv(os.path.join(parent_dir, input_file_name))\n",
    "\n",
    "    zone_df=test_df[test_df[['long','lat']].apply(lambda tup:Haversine(zones[name], (tup[0], tup[1])).meters < radius,axis=1)].copy() \n",
    "\n",
    "    zone_df.to_csv(os.path.join(parent_dir, output_file_name), index=False)\n",
    "    no_days=len(zone_df.start_date.unique())\n",
    "    print(\"Completed Zone: \",name,\" Got data: \",zone_df.shape[0],f\"Got dates:{no_days}\")"
   ]
  },
  {
   "cell_type": "code",
   "execution_count": 11,
   "metadata": {},
   "outputs": [],
   "source": [
    "#NICE"
   ]
  }
 ],
 "metadata": {
  "kernelspec": {
   "display_name": "Python 3",
   "language": "python",
   "name": "python3"
  },
  "language_info": {
   "codemirror_mode": {
    "name": "ipython",
    "version": 3
   },
   "file_extension": ".py",
   "mimetype": "text/x-python",
   "name": "python",
   "nbconvert_exporter": "python",
   "pygments_lexer": "ipython3",
   "version": "3.7.4-final"
  }
 },
 "nbformat": 4,
 "nbformat_minor": 4
}