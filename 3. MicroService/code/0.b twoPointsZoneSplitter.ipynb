{
 "cells": [
  {
   "cell_type": "code",
   "execution_count": 1,
   "metadata": {},
   "outputs": [],
   "source": [
    "import os\n",
    "import pandas as pd"
   ]
  },
  {
   "cell_type": "code",
   "execution_count": 2,
   "metadata": {},
   "outputs": [],
   "source": [
    "name = \"\""
   ]
  },
  {
   "cell_type": "code",
   "execution_count": 3,
   "metadata": {},
   "outputs": [],
   "source": [
    "start_coordinates = (23.539163, 87.293241) # (lat, lon)\n",
    "end_coordinates = (23.535409, 87.297590) # (lat, lon)\n",
    "\n",
    "# parent directory path\n",
    "parent_dir = r\"../data/54ft/\"\n",
    "\n",
    "input_file_name = r\"54ft_test.csv\"\n",
    "\n",
    "output_file_name = f\"{name}_range_test_split.csv\""
   ]
  },
  {
   "cell_type": "code",
   "execution_count": 4,
   "metadata": {},
   "outputs": [],
   "source": [
    "test_df = pd.read_csv(os.path.join(parent_dir, input_file_name))"
   ]
  },
  {
   "cell_type": "code",
   "execution_count": 5,
   "metadata": {},
   "outputs": [],
   "source": [
    "in_zone = []\n",
    "for idx, row in test_df.iterrows():\n",
    "    if (row.long > start_coordinates[1] and row.long < end_coordinates[1] \\\n",
    "    or row.long < start_coordinates[1] and row.long > end_coordinates[1]) \\\n",
    "    and (row.lat > start_coordinates[0] and row.lat < end_coordinates[0] \\\n",
    "    or row.lat < start_coordinates[0] and row.lat > end_coordinates[0]):\n",
    "        in_zone.append(True)\n",
    "    else:\n",
    "        in_zone.append(False)"
   ]
  },
  {
   "cell_type": "code",
   "execution_count": 6,
   "metadata": {},
   "outputs": [],
   "source": [
    "test_df['In_zone'] = in_zone"
   ]
  },
  {
   "cell_type": "code",
   "execution_count": 7,
   "metadata": {},
   "outputs": [],
   "source": [
    "zone_df = test_df.groupby('In_zone').get_group(True) "
   ]
  },
  {
   "cell_type": "code",
   "execution_count": 8,
   "metadata": {},
   "outputs": [
    {
     "output_type": "execute_result",
     "data": {
      "text/plain": [
       "      start_date        lat       long start_time  end_time  stay_duration  \\\n",
       "16    09/14/2019  23.535854  87.295969   12:26:12  12:26:54             43   \n",
       "17    09/14/2019  23.537806  87.296798   12:27:34  12:28:15             41   \n",
       "53    09/14/2019  23.536071  87.295953   17:07:47  17:08:59             67   \n",
       "54    09/14/2019  23.537697  87.296755   17:09:30  17:09:35              5   \n",
       "55    09/14/2019  23.538395  87.295474   17:09:58  17:10:14             17   \n",
       "...          ...        ...        ...        ...       ...            ...   \n",
       "1341  09/23/2019  23.536715  87.294649   17:17:21  17:18:30             69   \n",
       "1342  09/23/2019  23.536353  87.295276   17:19:07  17:20:41             75   \n",
       "1343  09/23/2019  23.535610  87.296582   17:20:49  17:20:50              2   \n",
       "1344  09/23/2019  23.535691  87.297548   17:21:01  17:24:03            179   \n",
       "1346  09/23/2019  23.535802  87.295860   17:29:48  17:30:18             29   \n",
       "\n",
       "           mfcc0      mfcc1     mfcc2     mfcc3  ...       RSI  human_made  \\\n",
       "16     44.049171   8.453500  7.118871  1.835827  ...  1.720191    0.127289   \n",
       "17     51.297695   3.336028 -2.439512 -3.558453  ...  1.807630    0.262314   \n",
       "53     59.249382   7.940420  3.259254  2.607730  ...  2.253896    0.152050   \n",
       "54     69.541245  13.947309  0.345785 -2.447356  ...  1.470581    0.264284   \n",
       "55     82.624741  16.185921 -1.121069 -4.342972  ...  1.509510    0.227869   \n",
       "...          ...        ...       ...       ...  ...       ...         ...   \n",
       "1341  106.854149  20.123116  6.126777 -0.374462  ...  1.772920    0.165600   \n",
       "1342   91.001778   3.633026 -3.091036 -4.676865  ...  5.577229    0.155507   \n",
       "1343   87.271729  22.836933  7.580320 -0.492141  ...  1.898233    0.175428   \n",
       "1344   85.050789  -3.699151 -5.764900 -6.368126  ...  0.000000    0.215600   \n",
       "1346   48.248089  12.688448 -3.414327 -5.274352  ...  7.613202    0.112492   \n",
       "\n",
       "      natural_land  road_exist_percent  highly_populated_poi_exist  \\\n",
       "16        0.572371            0.300340                         0.0   \n",
       "17        0.549018            0.183302                         1.0   \n",
       "53        0.552185            0.290403                         1.0   \n",
       "54        0.546204            0.184279                         1.0   \n",
       "55        0.573556            0.192509                         1.0   \n",
       "...            ...                 ...                         ...   \n",
       "1341      0.552622            0.275720                         1.0   \n",
       "1342      0.551185            0.287273                         1.0   \n",
       "1343      0.535778            0.288794                         0.0   \n",
       "1344      0.544353            0.235296                         1.0   \n",
       "1346      0.583594            0.303915                         0.0   \n",
       "\n",
       "      Is_Bus_stop  Is_Turn  Is_Signal  Is_Congestion  Is_Adhoc  \n",
       "16              0        1          0              1         0  \n",
       "17              1        0          0              1         0  \n",
       "53              0        1          0              1         0  \n",
       "54              1        1          0              1         0  \n",
       "55              0        1          0              1         0  \n",
       "...           ...      ...        ...            ...       ...  \n",
       "1341            0        0          0              1         0  \n",
       "1342            0        0          0              1         0  \n",
       "1343            0        0          0              1         0  \n",
       "1344            1        0          0              1         0  \n",
       "1346            0        1          1              1         0  \n",
       "\n",
       "[139 rows x 23 columns]"
      ],
      "text/html": "<div>\n<style scoped>\n    .dataframe tbody tr th:only-of-type {\n        vertical-align: middle;\n    }\n\n    .dataframe tbody tr th {\n        vertical-align: top;\n    }\n\n    .dataframe thead th {\n        text-align: right;\n    }\n</style>\n<table border=\"1\" class=\"dataframe\">\n  <thead>\n    <tr style=\"text-align: right;\">\n      <th></th>\n      <th>start_date</th>\n      <th>lat</th>\n      <th>long</th>\n      <th>start_time</th>\n      <th>end_time</th>\n      <th>stay_duration</th>\n      <th>mfcc0</th>\n      <th>mfcc1</th>\n      <th>mfcc2</th>\n      <th>mfcc3</th>\n      <th>...</th>\n      <th>RSI</th>\n      <th>human_made</th>\n      <th>natural_land</th>\n      <th>road_exist_percent</th>\n      <th>highly_populated_poi_exist</th>\n      <th>Is_Bus_stop</th>\n      <th>Is_Turn</th>\n      <th>Is_Signal</th>\n      <th>Is_Congestion</th>\n      <th>Is_Adhoc</th>\n    </tr>\n  </thead>\n  <tbody>\n    <tr>\n      <td>16</td>\n      <td>09/14/2019</td>\n      <td>23.535854</td>\n      <td>87.295969</td>\n      <td>12:26:12</td>\n      <td>12:26:54</td>\n      <td>43</td>\n      <td>44.049171</td>\n      <td>8.453500</td>\n      <td>7.118871</td>\n      <td>1.835827</td>\n      <td>...</td>\n      <td>1.720191</td>\n      <td>0.127289</td>\n      <td>0.572371</td>\n      <td>0.300340</td>\n      <td>0.0</td>\n      <td>0</td>\n      <td>1</td>\n      <td>0</td>\n      <td>1</td>\n      <td>0</td>\n    </tr>\n    <tr>\n      <td>17</td>\n      <td>09/14/2019</td>\n      <td>23.537806</td>\n      <td>87.296798</td>\n      <td>12:27:34</td>\n      <td>12:28:15</td>\n      <td>41</td>\n      <td>51.297695</td>\n      <td>3.336028</td>\n      <td>-2.439512</td>\n      <td>-3.558453</td>\n      <td>...</td>\n      <td>1.807630</td>\n      <td>0.262314</td>\n      <td>0.549018</td>\n      <td>0.183302</td>\n      <td>1.0</td>\n      <td>1</td>\n      <td>0</td>\n      <td>0</td>\n      <td>1</td>\n      <td>0</td>\n    </tr>\n    <tr>\n      <td>53</td>\n      <td>09/14/2019</td>\n      <td>23.536071</td>\n      <td>87.295953</td>\n      <td>17:07:47</td>\n      <td>17:08:59</td>\n      <td>67</td>\n      <td>59.249382</td>\n      <td>7.940420</td>\n      <td>3.259254</td>\n      <td>2.607730</td>\n      <td>...</td>\n      <td>2.253896</td>\n      <td>0.152050</td>\n      <td>0.552185</td>\n      <td>0.290403</td>\n      <td>1.0</td>\n      <td>0</td>\n      <td>1</td>\n      <td>0</td>\n      <td>1</td>\n      <td>0</td>\n    </tr>\n    <tr>\n      <td>54</td>\n      <td>09/14/2019</td>\n      <td>23.537697</td>\n      <td>87.296755</td>\n      <td>17:09:30</td>\n      <td>17:09:35</td>\n      <td>5</td>\n      <td>69.541245</td>\n      <td>13.947309</td>\n      <td>0.345785</td>\n      <td>-2.447356</td>\n      <td>...</td>\n      <td>1.470581</td>\n      <td>0.264284</td>\n      <td>0.546204</td>\n      <td>0.184279</td>\n      <td>1.0</td>\n      <td>1</td>\n      <td>1</td>\n      <td>0</td>\n      <td>1</td>\n      <td>0</td>\n    </tr>\n    <tr>\n      <td>55</td>\n      <td>09/14/2019</td>\n      <td>23.538395</td>\n      <td>87.295474</td>\n      <td>17:09:58</td>\n      <td>17:10:14</td>\n      <td>17</td>\n      <td>82.624741</td>\n      <td>16.185921</td>\n      <td>-1.121069</td>\n      <td>-4.342972</td>\n      <td>...</td>\n      <td>1.509510</td>\n      <td>0.227869</td>\n      <td>0.573556</td>\n      <td>0.192509</td>\n      <td>1.0</td>\n      <td>0</td>\n      <td>1</td>\n      <td>0</td>\n      <td>1</td>\n      <td>0</td>\n    </tr>\n    <tr>\n      <td>...</td>\n      <td>...</td>\n      <td>...</td>\n      <td>...</td>\n      <td>...</td>\n      <td>...</td>\n      <td>...</td>\n      <td>...</td>\n      <td>...</td>\n      <td>...</td>\n      <td>...</td>\n      <td>...</td>\n      <td>...</td>\n      <td>...</td>\n      <td>...</td>\n      <td>...</td>\n      <td>...</td>\n      <td>...</td>\n      <td>...</td>\n      <td>...</td>\n      <td>...</td>\n      <td>...</td>\n    </tr>\n    <tr>\n      <td>1341</td>\n      <td>09/23/2019</td>\n      <td>23.536715</td>\n      <td>87.294649</td>\n      <td>17:17:21</td>\n      <td>17:18:30</td>\n      <td>69</td>\n      <td>106.854149</td>\n      <td>20.123116</td>\n      <td>6.126777</td>\n      <td>-0.374462</td>\n      <td>...</td>\n      <td>1.772920</td>\n      <td>0.165600</td>\n      <td>0.552622</td>\n      <td>0.275720</td>\n      <td>1.0</td>\n      <td>0</td>\n      <td>0</td>\n      <td>0</td>\n      <td>1</td>\n      <td>0</td>\n    </tr>\n    <tr>\n      <td>1342</td>\n      <td>09/23/2019</td>\n      <td>23.536353</td>\n      <td>87.295276</td>\n      <td>17:19:07</td>\n      <td>17:20:41</td>\n      <td>75</td>\n      <td>91.001778</td>\n      <td>3.633026</td>\n      <td>-3.091036</td>\n      <td>-4.676865</td>\n      <td>...</td>\n      <td>5.577229</td>\n      <td>0.155507</td>\n      <td>0.551185</td>\n      <td>0.287273</td>\n      <td>1.0</td>\n      <td>0</td>\n      <td>0</td>\n      <td>0</td>\n      <td>1</td>\n      <td>0</td>\n    </tr>\n    <tr>\n      <td>1343</td>\n      <td>09/23/2019</td>\n      <td>23.535610</td>\n      <td>87.296582</td>\n      <td>17:20:49</td>\n      <td>17:20:50</td>\n      <td>2</td>\n      <td>87.271729</td>\n      <td>22.836933</td>\n      <td>7.580320</td>\n      <td>-0.492141</td>\n      <td>...</td>\n      <td>1.898233</td>\n      <td>0.175428</td>\n      <td>0.535778</td>\n      <td>0.288794</td>\n      <td>0.0</td>\n      <td>0</td>\n      <td>0</td>\n      <td>0</td>\n      <td>1</td>\n      <td>0</td>\n    </tr>\n    <tr>\n      <td>1344</td>\n      <td>09/23/2019</td>\n      <td>23.535691</td>\n      <td>87.297548</td>\n      <td>17:21:01</td>\n      <td>17:24:03</td>\n      <td>179</td>\n      <td>85.050789</td>\n      <td>-3.699151</td>\n      <td>-5.764900</td>\n      <td>-6.368126</td>\n      <td>...</td>\n      <td>0.000000</td>\n      <td>0.215600</td>\n      <td>0.544353</td>\n      <td>0.235296</td>\n      <td>1.0</td>\n      <td>1</td>\n      <td>0</td>\n      <td>0</td>\n      <td>1</td>\n      <td>0</td>\n    </tr>\n    <tr>\n      <td>1346</td>\n      <td>09/23/2019</td>\n      <td>23.535802</td>\n      <td>87.295860</td>\n      <td>17:29:48</td>\n      <td>17:30:18</td>\n      <td>29</td>\n      <td>48.248089</td>\n      <td>12.688448</td>\n      <td>-3.414327</td>\n      <td>-5.274352</td>\n      <td>...</td>\n      <td>7.613202</td>\n      <td>0.112492</td>\n      <td>0.583594</td>\n      <td>0.303915</td>\n      <td>0.0</td>\n      <td>0</td>\n      <td>1</td>\n      <td>1</td>\n      <td>1</td>\n      <td>0</td>\n    </tr>\n  </tbody>\n</table>\n<p>139 rows × 23 columns</p>\n</div>"
     },
     "metadata": {},
     "execution_count": 8
    }
   ],
   "source": [
    "zone_df = zone_df[zone_df.columns[:-1]]\n",
    "zone_df"
   ]
  },
  {
   "cell_type": "code",
   "execution_count": 9,
   "metadata": {},
   "outputs": [
    {
     "output_type": "execute_result",
     "data": {
      "text/plain": [
       "Index(['start_date', 'lat', 'long', 'start_time', 'end_time', 'stay_duration',\n",
       "       'mfcc0', 'mfcc1', 'mfcc2', 'mfcc3', 'mfcc4', 'wifi_count',\n",
       "       'edge_wifi_count', 'RSI', 'human_made', 'natural_land',\n",
       "       'road_exist_percent', 'highly_populated_poi_exist', 'Is_Bus_stop',\n",
       "       'Is_Turn', 'Is_Signal', 'Is_Congestion', 'Is_Adhoc'],\n",
       "      dtype='object')"
      ]
     },
     "metadata": {},
     "execution_count": 9
    }
   ],
   "source": [
    "zone_df.columns"
   ]
  },
  {
   "cell_type": "code",
   "execution_count": 10,
   "metadata": {},
   "outputs": [],
   "source": [
    "zone_df.to_csv(os.path.join(parent_dir, output_file_name), index=False)"
   ]
  },
  {
   "cell_type": "code",
   "execution_count": null,
   "metadata": {},
   "outputs": [],
   "source": []
  }
 ],
 "metadata": {
  "kernelspec": {
   "display_name": "Python 3",
   "language": "python",
   "name": "python3"
  },
  "language_info": {
   "codemirror_mode": {
    "name": "ipython",
    "version": 3
   },
   "file_extension": ".py",
   "mimetype": "text/x-python",
   "name": "python",
   "nbconvert_exporter": "python",
   "pygments_lexer": "ipython3",
   "version": "3.7.4-final"
  }
 },
 "nbformat": 4,
 "nbformat_minor": 4
}