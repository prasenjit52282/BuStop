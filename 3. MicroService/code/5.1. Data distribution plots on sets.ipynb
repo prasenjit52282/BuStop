{
 "metadata": {
  "language_info": {
   "codemirror_mode": {
    "name": "ipython",
    "version": 3
   },
   "file_extension": ".py",
   "mimetype": "text/x-python",
   "name": "python",
   "nbconvert_exporter": "python",
   "pygments_lexer": "ipython3",
   "version": "3.7.9-final"
  },
  "orig_nbformat": 2,
  "kernelspec": {
   "name": "python3",
   "display_name": "Python 3.7.9 64-bit ('myenv': conda)",
   "metadata": {
    "interpreter": {
     "hash": "60bffd1f21bedd6f03d40aa91927a6e1df6d5f5962e4ebdfb14713a17f668098"
    }
   }
  }
 },
 "nbformat": 4,
 "nbformat_minor": 2,
 "cells": [
  {
   "cell_type": "code",
   "execution_count": 1,
   "metadata": {},
   "outputs": [],
   "source": [
    "import numpy as np \n",
    "import pandas as pd \n",
    "import matplotlib.pyplot as plt \n",
    "%matplotlib inline"
   ]
  },
  {
   "source": [
    "# Data"
   ],
   "cell_type": "markdown",
   "metadata": {}
  },
  {
   "cell_type": "code",
   "execution_count": 2,
   "metadata": {},
   "outputs": [],
   "source": [
    "train_df=pd.read_csv(\"../data/54ft/54ft_train.csv\")\n",
    "test_df=pd.read_csv(\"../data/54ft/54ft_test.csv\")"
   ]
  },
  {
   "source": [
    "# Distributions plotter"
   ],
   "cell_type": "markdown",
   "metadata": {}
  },
  {
   "cell_type": "code",
   "execution_count": 3,
   "metadata": {},
   "outputs": [],
   "source": [
    "def get_distribution_of_Poi_in_data(train_df):\n",
    "    fig, ax = plt.subplots(figsize=(11,7))\n",
    "\n",
    "    pos=np.array([2,4,6,8,10])*1.4\n",
    "    sep=0.8\n",
    "\n",
    "    bp1=\\\n",
    "    ax.bar(\n",
    "            x=pos,\n",
    "            height=[sum(train_df.Is_Bus_stop==1),\n",
    "            sum(train_df.Is_Turn==1),\n",
    "            sum(train_df.Is_Signal==1),\n",
    "            sum(train_df.Is_Congestion==1),\n",
    "            sum(train_df.Is_Adhoc==1)],\n",
    "            ec='k',linewidth =3.0\n",
    "            )\n",
    "\n",
    "    bp2=\\\n",
    "    ax.bar(\n",
    "            x=[e+sep for e in pos],\n",
    "            height=[sum(train_df.Is_Bus_stop==0),\n",
    "            sum(train_df.Is_Turn==0),\n",
    "            sum(train_df.Is_Signal==0),\n",
    "            sum(train_df.Is_Congestion==0),\n",
    "            sum(train_df.Is_Adhoc==0)],\n",
    "            ec='k',linewidth =3.0\n",
    "            )\n",
    "\n",
    "\n",
    "    ax.legend([bp1[0], bp2[0]], ['Class', 'Not Class'],prop={'size':22,'weight':'bold'},loc='upper right')\n",
    "\n",
    "    ax.set_xlabel(\"PoI\",fontsize=22, fontweight='bold')\n",
    "    ax.set_ylabel(\"# Instances\",fontsize=22, fontweight='bold')\n",
    "\n",
    "    ax.set_xticks([p+0.43 for p in pos])\n",
    "    ax.set_xticklabels(['Bus Stop','Turn','Signal','Congestion','Ad-hoc'],fontsize=22, fontweight='bold')\n",
    "    plt.yticks(fontsize=22, fontweight='bold')\n",
    "    plt.tight_layout()\n",
    "    plt.grid()\n",
    "    plt.close()\n",
    "    return fig"
   ]
  },
  {
   "cell_type": "code",
   "execution_count": 4,
   "metadata": {},
   "outputs": [],
   "source": [
    "get_distribution_of_Poi_in_data(train_df).savefig(\"../reports/observ/train13_dist.png\")\n",
    "get_distribution_of_Poi_in_data(test_df).savefig(\"../reports/observ/test7_dist.png\")"
   ]
  },
  {
   "cell_type": "code",
   "execution_count": 5,
   "metadata": {},
   "outputs": [],
   "source": [
    "#NICE"
   ]
  }
 ]
}