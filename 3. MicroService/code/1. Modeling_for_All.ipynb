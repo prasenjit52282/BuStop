{
 "cells": [
  {
   "cell_type": "markdown",
   "metadata": {},
   "source": [
    "# Imports"
   ]
  },
  {
   "cell_type": "code",
   "execution_count": 1,
   "metadata": {},
   "outputs": [],
   "source": [
    "from sklearn.ensemble import RandomForestClassifier\n",
    "from sklearn.metrics import *\n",
    "from imblearn.over_sampling import SMOTE\n",
    "import pandas as pd\n",
    "import os"
   ]
  },
  {
   "cell_type": "markdown",
   "metadata": {},
   "source": [
    "## Constants"
   ]
  },
  {
   "cell_type": "code",
   "execution_count": 2,
   "metadata": {},
   "outputs": [],
   "source": [
    "parent_dir = r\"../data/54ft/\"\n",
    "train_df_name = r\"54ft_train.csv\"\n",
    "\n",
    "#feature # binding\n",
    "F=\\\n",
    "    {1:'stay_duration', #f1\n",
    "     2:'mfcc0',3:'mfcc1',4:'mfcc2',5:'mfcc3',6:'mfcc4', #f2,f3,f4,f5,f6\n",
    "     7:'wifi_count', 8:'edge_wifi_count', #f7,f8\n",
    "     9:'RSI', #f9\n",
    "     10:'human_made', 11:'natural_land',12:'road_exist_percent',13:'highly_populated_poi_exist'#f10,f11,f12,f13\n",
    "    }\n",
    "\n",
    "selected_feat=\\\n",
    "    {\n",
    "        'Is_Bus_stop':[F[e] for e in [10,12,11,1,8]],\n",
    "        'Is_Turn':[F[e] for e in [10,12,11,1,8,9]],\n",
    "        'Is_Signal':[F[e] for e in [12,11,10,8,9]],\n",
    "        'Is_Congestion':[F[e] for e in [2,11,10,9,12,8,6,1]],\n",
    "        'Is_Adhoc':[F[e] for e in [10,11,1,12,2]]\n",
    "    }\n",
    "\n",
    "\n",
    "#file Names\n",
    "zone_names=list(map(lambda e:f\"{e}_test_split.csv\",[\"station\",\"dvc_more\",\"54ft_road\",\"junction_mall\",\"prantika_bus_stand\"]))\n",
    "\n",
    "_7day_test=[\"54ft_test.csv\"]"
   ]
  },
  {
   "cell_type": "code",
   "execution_count": 3,
   "metadata": {},
   "outputs": [],
   "source": [
    "#Modeling function\n",
    "def get_metrics_from_the_model(train,labels_train,test,labels_test,poi,zone):\n",
    "    rf=RandomForestClassifier(n_estimators=100,max_depth=8,random_state=42)\n",
    "    rf.fit(train, labels_train)\n",
    "\n",
    "    pred_train= rf.predict(train)\n",
    "    pred_test= rf.predict(test)\n",
    "    \n",
    "    performance={'poi':poi,'zone':zone,\n",
    "                 'tr_acc':accuracy_score(labels_train,pred_train),\n",
    "                 'tr_precision':precision_score(labels_train,pred_train,average='weighted'),\n",
    "                 'tr_recall':recall_score(labels_train,pred_train,average='weighted'),\n",
    "                 'tr_f1-score':f1_score(labels_train,pred_train,average='weighted'),\n",
    "\n",
    "                 'te_acc':accuracy_score(labels_test,pred_test),\n",
    "                 'te_precision':precision_score(labels_test, pred_test,average='weighted'),\n",
    "                 'te_recall':recall_score(labels_test, pred_test,average='weighted'),\n",
    "                 'te_f1-score':f1_score(labels_test, pred_test,average='weighted')}\n",
    "    return performance,pred_test\n",
    "    "
   ]
  },
  {
   "cell_type": "markdown",
   "metadata": {},
   "source": [
    "## Modeling"
   ]
  },
  {
   "cell_type": "code",
   "execution_count": 4,
   "metadata": {},
   "outputs": [
    {
     "output_type": "stream",
     "name": "stdout",
     "text": [
      "Completed for POI:Is_Bus_stop and Zone:station get results of length:50\n",
      "Completed for POI:Is_Bus_stop and Zone:dvc_more get results of length:77\n",
      "Completed for POI:Is_Bus_stop and Zone:54ft_road get results of length:179\n",
      "Completed for POI:Is_Bus_stop and Zone:junction_mall get results of length:76\n",
      "Completed for POI:Is_Bus_stop and Zone:prantika_bus_stand get results of length:87\n",
      "Completed for POI:Is_Bus_stop and Zone:54ft_test get results of length:1361\n",
      "Completed for POI:Is_Turn and Zone:station get results of length:50\n",
      "Completed for POI:Is_Turn and Zone:dvc_more get results of length:77\n",
      "Completed for POI:Is_Turn and Zone:54ft_road get results of length:179\n",
      "Completed for POI:Is_Turn and Zone:junction_mall get results of length:76\n",
      "Completed for POI:Is_Turn and Zone:prantika_bus_stand get results of length:87\n",
      "Completed for POI:Is_Turn and Zone:54ft_test get results of length:1361\n",
      "Completed for POI:Is_Signal and Zone:station get results of length:50\n",
      "Completed for POI:Is_Signal and Zone:dvc_more get results of length:77\n",
      "Completed for POI:Is_Signal and Zone:54ft_road get results of length:179\n",
      "Completed for POI:Is_Signal and Zone:junction_mall get results of length:76\n",
      "Completed for POI:Is_Signal and Zone:prantika_bus_stand get results of length:87\n",
      "Completed for POI:Is_Signal and Zone:54ft_test get results of length:1361\n",
      "Completed for POI:Is_Congestion and Zone:station get results of length:50\n",
      "Completed for POI:Is_Congestion and Zone:dvc_more get results of length:77\n",
      "Completed for POI:Is_Congestion and Zone:54ft_road get results of length:179\n",
      "Completed for POI:Is_Congestion and Zone:junction_mall get results of length:76\n",
      "Completed for POI:Is_Congestion and Zone:prantika_bus_stand get results of length:87\n",
      "Completed for POI:Is_Congestion and Zone:54ft_test get results of length:1361\n",
      "Completed for POI:Is_Adhoc and Zone:station get results of length:50\n",
      "Completed for POI:Is_Adhoc and Zone:dvc_more get results of length:77\n",
      "Completed for POI:Is_Adhoc and Zone:54ft_road get results of length:179\n",
      "Completed for POI:Is_Adhoc and Zone:junction_mall get results of length:76\n",
      "Completed for POI:Is_Adhoc and Zone:prantika_bus_stand get results of length:87\n",
      "Completed for POI:Is_Adhoc and Zone:54ft_test get results of length:1361\n"
     ]
    }
   ],
   "source": [
    "perf=[] #performance list\n",
    "\n",
    "\n",
    "for poi_column in ['Is_Bus_stop','Is_Turn','Is_Signal','Is_Congestion','Is_Adhoc']:\n",
    "    feature_names=selected_feat[poi_column] #feature selection\n",
    "\n",
    "    for test_df_name in (zone_names+_7day_test):#iterator name\n",
    "\n",
    "        zoneName=test_df_name.split('_test_split.csv')[0].split('.')[0]\n",
    "        output_result_filename = f\"{poi_column}_test_result_{zoneName}_zone.csv\"\n",
    "\n",
    "        #train_data_processing\n",
    "        train_csv_df = pd.read_csv(os.path.join(parent_dir, train_df_name))\n",
    "        train_df = train_csv_df[feature_names+[poi_column]]\n",
    "\n",
    "        #test data processing\n",
    "        test_csv_df = pd.read_csv(os.path.join(parent_dir, test_df_name))\n",
    "        test_df = test_csv_df[feature_names+[poi_column]]\n",
    "\n",
    "\n",
    "        #SMOTE on training data & get features ,labels\n",
    "        X = train_df[feature_names].copy()\n",
    "        y = train_df[poi_column].copy()\n",
    "\n",
    "        smote = SMOTE()\n",
    "        X_resampled, y_resampled = smote.fit_sample(X, y)\n",
    "        train_data = X_resampled.copy()\n",
    "        train_labels = y_resampled.copy()\n",
    "\n",
    "        #Test set get features & labels\n",
    "        test_data = test_df[feature_names].values\n",
    "        test_labels = test_df[poi_column].values\n",
    "\n",
    "        #Training with Random Forest\n",
    "        performance,pred_test=get_metrics_from_the_model(train_data,train_labels,test_data,test_labels,poi_column,zoneName)\n",
    "\n",
    "        #adding to performance list\n",
    "        perf.append(performance)\n",
    "\n",
    "        #creating prediction file\n",
    "        test_csv_df[f'Prediction {poi_column}']=pred_test\n",
    "        result_df=test_csv_df[['start_date','start_time','end_time',f'Prediction {poi_column}']].copy()\n",
    "        result_df.columns=['instance_date', 'instance_start_time', 'instance_end_time',f'Prediction {poi_column}']\n",
    "        result_df.to_csv(os.path.join(parent_dir, output_result_filename), index=False)\n",
    "\n",
    "        print(f'Completed for POI:{poi_column} and Zone:{zoneName} get results of length:{result_df.shape[0]}')"
   ]
  },
  {
   "source": [
    "# Saving Performance for all Modelings"
   ],
   "cell_type": "markdown",
   "metadata": {}
  },
  {
   "cell_type": "code",
   "execution_count": 5,
   "metadata": {},
   "outputs": [
    {
     "output_type": "execute_result",
     "data": {
      "text/plain": [
       "              poi                zone    tr_acc  tr_precision  tr_recall  \\\n",
       "0     Is_Bus_stop             station  0.909667      0.910925   0.909667   \n",
       "1     Is_Bus_stop            dvc_more  0.920000      0.921259   0.920000   \n",
       "2     Is_Bus_stop           54ft_road  0.924667      0.925393   0.924667   \n",
       "3     Is_Bus_stop       junction_mall  0.915667      0.916548   0.915667   \n",
       "4     Is_Bus_stop  prantika_bus_stand  0.914333      0.915606   0.914333   \n",
       "5     Is_Bus_stop           54ft_test  0.918000      0.919315   0.918000   \n",
       "6         Is_Turn             station  0.906627      0.909812   0.906627   \n",
       "7         Is_Turn            dvc_more  0.912103      0.914791   0.912103   \n",
       "8         Is_Turn           54ft_road  0.908543      0.912031   0.908543   \n",
       "9         Is_Turn       junction_mall  0.906900      0.909740   0.906900   \n",
       "10        Is_Turn  prantika_bus_stand  0.903067      0.906508   0.903067   \n",
       "11        Is_Turn           54ft_test  0.909639      0.911598   0.909639   \n",
       "12      Is_Signal             station  0.950043      0.952120   0.950043   \n",
       "13      Is_Signal            dvc_more  0.952215      0.953992   0.952215   \n",
       "14      Is_Signal           54ft_road  0.942441      0.945573   0.942441   \n",
       "15      Is_Signal       junction_mall  0.949609      0.952074   0.949609   \n",
       "16      Is_Signal  prantika_bus_stand  0.953736      0.955856   0.953736   \n",
       "17      Is_Signal           54ft_test  0.953084      0.954766   0.953084   \n",
       "18  Is_Congestion             station  0.871281      0.873609   0.871281   \n",
       "19  Is_Congestion            dvc_more  0.871281      0.873906   0.871281   \n",
       "20  Is_Congestion           54ft_road  0.871585      0.875539   0.871585   \n",
       "21  Is_Congestion       junction_mall  0.866120      0.868901   0.866120   \n",
       "22  Is_Congestion  prantika_bus_stand  0.879174      0.881131   0.879174   \n",
       "23  Is_Congestion           54ft_test  0.874621      0.878419   0.874621   \n",
       "24       Is_Adhoc             station  0.820739      0.822581   0.820739   \n",
       "25       Is_Adhoc            dvc_more  0.828125      0.828722   0.828125   \n",
       "26       Is_Adhoc           54ft_road  0.832386      0.836059   0.832386   \n",
       "27       Is_Adhoc       junction_mall  0.812500      0.813024   0.812500   \n",
       "28       Is_Adhoc  prantika_bus_stand  0.822727      0.823902   0.822727   \n",
       "29       Is_Adhoc           54ft_test  0.821307      0.822637   0.821307   \n",
       "\n",
       "    tr_f1-score    te_acc  te_precision  te_recall  te_f1-score  \n",
       "0      0.909597  0.940000      0.945455   0.940000     0.938996  \n",
       "1      0.919940  0.870130      0.870130   0.870130     0.870130  \n",
       "2      0.924634  0.832402      0.863109   0.832402     0.822708  \n",
       "3      0.915622  0.907895      0.906741   0.907895     0.907121  \n",
       "4      0.914268  0.827586      0.941528   0.827586     0.877327  \n",
       "5      0.917936  0.833946      0.843071   0.833946     0.835620  \n",
       "6      0.906445  0.980000      0.980435   0.980000     0.978999  \n",
       "7      0.911960  0.701299      0.678623   0.701299     0.673460  \n",
       "8      0.908349  0.932961      0.940518   0.932961     0.935891  \n",
       "9      0.906739  0.921053      0.921053   0.921053     0.921053  \n",
       "10     0.902861  0.747126      0.762452   0.747126     0.748467  \n",
       "11     0.909531  0.816312      0.842597   0.816312     0.823200  \n",
       "12     0.949986  1.000000      1.000000   1.000000     1.000000  \n",
       "13     0.952169  0.935065      0.898154   0.935065     0.916238  \n",
       "14     0.942340  1.000000      1.000000   1.000000     1.000000  \n",
       "15     0.949540  0.565789      0.817755   0.565789     0.609972  \n",
       "16     0.953682  0.885057      1.000000   0.885057     0.939024  \n",
       "17     0.953041  0.923586      0.955377   0.923586     0.934381  \n",
       "18     0.871080  0.680000      0.740420   0.680000     0.707751  \n",
       "19     0.871055  0.883117      0.946197   0.883117     0.913569  \n",
       "20     0.871246  0.860335      0.987998   0.860335     0.919758  \n",
       "21     0.865867  0.526316      0.962773   0.526316     0.680581  \n",
       "22     0.879019  0.609195      1.000000   0.609195     0.757143  \n",
       "23     0.874305  0.775900      0.948050   0.775900     0.852733  \n",
       "24     0.820482  0.780000      0.799559   0.780000     0.772879  \n",
       "25     0.828047  0.649351      0.666102   0.649351     0.656844  \n",
       "26     0.831927  0.843575      0.853401   0.843575     0.838921  \n",
       "27     0.812422  0.855263      0.852731   0.855263     0.853814  \n",
       "28     0.822566  0.586207      0.587922   0.586207     0.586755  \n",
       "29     0.821122  0.720794      0.719805   0.720794     0.720073  "
      ],
      "text/html": "<div>\n<style scoped>\n    .dataframe tbody tr th:only-of-type {\n        vertical-align: middle;\n    }\n\n    .dataframe tbody tr th {\n        vertical-align: top;\n    }\n\n    .dataframe thead th {\n        text-align: right;\n    }\n</style>\n<table border=\"1\" class=\"dataframe\">\n  <thead>\n    <tr style=\"text-align: right;\">\n      <th></th>\n      <th>poi</th>\n      <th>zone</th>\n      <th>tr_acc</th>\n      <th>tr_precision</th>\n      <th>tr_recall</th>\n      <th>tr_f1-score</th>\n      <th>te_acc</th>\n      <th>te_precision</th>\n      <th>te_recall</th>\n      <th>te_f1-score</th>\n    </tr>\n  </thead>\n  <tbody>\n    <tr>\n      <td>0</td>\n      <td>Is_Bus_stop</td>\n      <td>station</td>\n      <td>0.909667</td>\n      <td>0.910925</td>\n      <td>0.909667</td>\n      <td>0.909597</td>\n      <td>0.940000</td>\n      <td>0.945455</td>\n      <td>0.940000</td>\n      <td>0.938996</td>\n    </tr>\n    <tr>\n      <td>1</td>\n      <td>Is_Bus_stop</td>\n      <td>dvc_more</td>\n      <td>0.920000</td>\n      <td>0.921259</td>\n      <td>0.920000</td>\n      <td>0.919940</td>\n      <td>0.870130</td>\n      <td>0.870130</td>\n      <td>0.870130</td>\n      <td>0.870130</td>\n    </tr>\n    <tr>\n      <td>2</td>\n      <td>Is_Bus_stop</td>\n      <td>54ft_road</td>\n      <td>0.924667</td>\n      <td>0.925393</td>\n      <td>0.924667</td>\n      <td>0.924634</td>\n      <td>0.832402</td>\n      <td>0.863109</td>\n      <td>0.832402</td>\n      <td>0.822708</td>\n    </tr>\n    <tr>\n      <td>3</td>\n      <td>Is_Bus_stop</td>\n      <td>junction_mall</td>\n      <td>0.915667</td>\n      <td>0.916548</td>\n      <td>0.915667</td>\n      <td>0.915622</td>\n      <td>0.907895</td>\n      <td>0.906741</td>\n      <td>0.907895</td>\n      <td>0.907121</td>\n    </tr>\n    <tr>\n      <td>4</td>\n      <td>Is_Bus_stop</td>\n      <td>prantika_bus_stand</td>\n      <td>0.914333</td>\n      <td>0.915606</td>\n      <td>0.914333</td>\n      <td>0.914268</td>\n      <td>0.827586</td>\n      <td>0.941528</td>\n      <td>0.827586</td>\n      <td>0.877327</td>\n    </tr>\n    <tr>\n      <td>5</td>\n      <td>Is_Bus_stop</td>\n      <td>54ft_test</td>\n      <td>0.918000</td>\n      <td>0.919315</td>\n      <td>0.918000</td>\n      <td>0.917936</td>\n      <td>0.833946</td>\n      <td>0.843071</td>\n      <td>0.833946</td>\n      <td>0.835620</td>\n    </tr>\n    <tr>\n      <td>6</td>\n      <td>Is_Turn</td>\n      <td>station</td>\n      <td>0.906627</td>\n      <td>0.909812</td>\n      <td>0.906627</td>\n      <td>0.906445</td>\n      <td>0.980000</td>\n      <td>0.980435</td>\n      <td>0.980000</td>\n      <td>0.978999</td>\n    </tr>\n    <tr>\n      <td>7</td>\n      <td>Is_Turn</td>\n      <td>dvc_more</td>\n      <td>0.912103</td>\n      <td>0.914791</td>\n      <td>0.912103</td>\n      <td>0.911960</td>\n      <td>0.701299</td>\n      <td>0.678623</td>\n      <td>0.701299</td>\n      <td>0.673460</td>\n    </tr>\n    <tr>\n      <td>8</td>\n      <td>Is_Turn</td>\n      <td>54ft_road</td>\n      <td>0.908543</td>\n      <td>0.912031</td>\n      <td>0.908543</td>\n      <td>0.908349</td>\n      <td>0.932961</td>\n      <td>0.940518</td>\n      <td>0.932961</td>\n      <td>0.935891</td>\n    </tr>\n    <tr>\n      <td>9</td>\n      <td>Is_Turn</td>\n      <td>junction_mall</td>\n      <td>0.906900</td>\n      <td>0.909740</td>\n      <td>0.906900</td>\n      <td>0.906739</td>\n      <td>0.921053</td>\n      <td>0.921053</td>\n      <td>0.921053</td>\n      <td>0.921053</td>\n    </tr>\n    <tr>\n      <td>10</td>\n      <td>Is_Turn</td>\n      <td>prantika_bus_stand</td>\n      <td>0.903067</td>\n      <td>0.906508</td>\n      <td>0.903067</td>\n      <td>0.902861</td>\n      <td>0.747126</td>\n      <td>0.762452</td>\n      <td>0.747126</td>\n      <td>0.748467</td>\n    </tr>\n    <tr>\n      <td>11</td>\n      <td>Is_Turn</td>\n      <td>54ft_test</td>\n      <td>0.909639</td>\n      <td>0.911598</td>\n      <td>0.909639</td>\n      <td>0.909531</td>\n      <td>0.816312</td>\n      <td>0.842597</td>\n      <td>0.816312</td>\n      <td>0.823200</td>\n    </tr>\n    <tr>\n      <td>12</td>\n      <td>Is_Signal</td>\n      <td>station</td>\n      <td>0.950043</td>\n      <td>0.952120</td>\n      <td>0.950043</td>\n      <td>0.949986</td>\n      <td>1.000000</td>\n      <td>1.000000</td>\n      <td>1.000000</td>\n      <td>1.000000</td>\n    </tr>\n    <tr>\n      <td>13</td>\n      <td>Is_Signal</td>\n      <td>dvc_more</td>\n      <td>0.952215</td>\n      <td>0.953992</td>\n      <td>0.952215</td>\n      <td>0.952169</td>\n      <td>0.935065</td>\n      <td>0.898154</td>\n      <td>0.935065</td>\n      <td>0.916238</td>\n    </tr>\n    <tr>\n      <td>14</td>\n      <td>Is_Signal</td>\n      <td>54ft_road</td>\n      <td>0.942441</td>\n      <td>0.945573</td>\n      <td>0.942441</td>\n      <td>0.942340</td>\n      <td>1.000000</td>\n      <td>1.000000</td>\n      <td>1.000000</td>\n      <td>1.000000</td>\n    </tr>\n    <tr>\n      <td>15</td>\n      <td>Is_Signal</td>\n      <td>junction_mall</td>\n      <td>0.949609</td>\n      <td>0.952074</td>\n      <td>0.949609</td>\n      <td>0.949540</td>\n      <td>0.565789</td>\n      <td>0.817755</td>\n      <td>0.565789</td>\n      <td>0.609972</td>\n    </tr>\n    <tr>\n      <td>16</td>\n      <td>Is_Signal</td>\n      <td>prantika_bus_stand</td>\n      <td>0.953736</td>\n      <td>0.955856</td>\n      <td>0.953736</td>\n      <td>0.953682</td>\n      <td>0.885057</td>\n      <td>1.000000</td>\n      <td>0.885057</td>\n      <td>0.939024</td>\n    </tr>\n    <tr>\n      <td>17</td>\n      <td>Is_Signal</td>\n      <td>54ft_test</td>\n      <td>0.953084</td>\n      <td>0.954766</td>\n      <td>0.953084</td>\n      <td>0.953041</td>\n      <td>0.923586</td>\n      <td>0.955377</td>\n      <td>0.923586</td>\n      <td>0.934381</td>\n    </tr>\n    <tr>\n      <td>18</td>\n      <td>Is_Congestion</td>\n      <td>station</td>\n      <td>0.871281</td>\n      <td>0.873609</td>\n      <td>0.871281</td>\n      <td>0.871080</td>\n      <td>0.680000</td>\n      <td>0.740420</td>\n      <td>0.680000</td>\n      <td>0.707751</td>\n    </tr>\n    <tr>\n      <td>19</td>\n      <td>Is_Congestion</td>\n      <td>dvc_more</td>\n      <td>0.871281</td>\n      <td>0.873906</td>\n      <td>0.871281</td>\n      <td>0.871055</td>\n      <td>0.883117</td>\n      <td>0.946197</td>\n      <td>0.883117</td>\n      <td>0.913569</td>\n    </tr>\n    <tr>\n      <td>20</td>\n      <td>Is_Congestion</td>\n      <td>54ft_road</td>\n      <td>0.871585</td>\n      <td>0.875539</td>\n      <td>0.871585</td>\n      <td>0.871246</td>\n      <td>0.860335</td>\n      <td>0.987998</td>\n      <td>0.860335</td>\n      <td>0.919758</td>\n    </tr>\n    <tr>\n      <td>21</td>\n      <td>Is_Congestion</td>\n      <td>junction_mall</td>\n      <td>0.866120</td>\n      <td>0.868901</td>\n      <td>0.866120</td>\n      <td>0.865867</td>\n      <td>0.526316</td>\n      <td>0.962773</td>\n      <td>0.526316</td>\n      <td>0.680581</td>\n    </tr>\n    <tr>\n      <td>22</td>\n      <td>Is_Congestion</td>\n      <td>prantika_bus_stand</td>\n      <td>0.879174</td>\n      <td>0.881131</td>\n      <td>0.879174</td>\n      <td>0.879019</td>\n      <td>0.609195</td>\n      <td>1.000000</td>\n      <td>0.609195</td>\n      <td>0.757143</td>\n    </tr>\n    <tr>\n      <td>23</td>\n      <td>Is_Congestion</td>\n      <td>54ft_test</td>\n      <td>0.874621</td>\n      <td>0.878419</td>\n      <td>0.874621</td>\n      <td>0.874305</td>\n      <td>0.775900</td>\n      <td>0.948050</td>\n      <td>0.775900</td>\n      <td>0.852733</td>\n    </tr>\n    <tr>\n      <td>24</td>\n      <td>Is_Adhoc</td>\n      <td>station</td>\n      <td>0.820739</td>\n      <td>0.822581</td>\n      <td>0.820739</td>\n      <td>0.820482</td>\n      <td>0.780000</td>\n      <td>0.799559</td>\n      <td>0.780000</td>\n      <td>0.772879</td>\n    </tr>\n    <tr>\n      <td>25</td>\n      <td>Is_Adhoc</td>\n      <td>dvc_more</td>\n      <td>0.828125</td>\n      <td>0.828722</td>\n      <td>0.828125</td>\n      <td>0.828047</td>\n      <td>0.649351</td>\n      <td>0.666102</td>\n      <td>0.649351</td>\n      <td>0.656844</td>\n    </tr>\n    <tr>\n      <td>26</td>\n      <td>Is_Adhoc</td>\n      <td>54ft_road</td>\n      <td>0.832386</td>\n      <td>0.836059</td>\n      <td>0.832386</td>\n      <td>0.831927</td>\n      <td>0.843575</td>\n      <td>0.853401</td>\n      <td>0.843575</td>\n      <td>0.838921</td>\n    </tr>\n    <tr>\n      <td>27</td>\n      <td>Is_Adhoc</td>\n      <td>junction_mall</td>\n      <td>0.812500</td>\n      <td>0.813024</td>\n      <td>0.812500</td>\n      <td>0.812422</td>\n      <td>0.855263</td>\n      <td>0.852731</td>\n      <td>0.855263</td>\n      <td>0.853814</td>\n    </tr>\n    <tr>\n      <td>28</td>\n      <td>Is_Adhoc</td>\n      <td>prantika_bus_stand</td>\n      <td>0.822727</td>\n      <td>0.823902</td>\n      <td>0.822727</td>\n      <td>0.822566</td>\n      <td>0.586207</td>\n      <td>0.587922</td>\n      <td>0.586207</td>\n      <td>0.586755</td>\n    </tr>\n    <tr>\n      <td>29</td>\n      <td>Is_Adhoc</td>\n      <td>54ft_test</td>\n      <td>0.821307</td>\n      <td>0.822637</td>\n      <td>0.821307</td>\n      <td>0.821122</td>\n      <td>0.720794</td>\n      <td>0.719805</td>\n      <td>0.720794</td>\n      <td>0.720073</td>\n    </tr>\n  </tbody>\n</table>\n</div>"
     },
     "metadata": {},
     "execution_count": 5
    }
   ],
   "source": [
    "df=pd.DataFrame(perf)\n",
    "df.to_csv(os.path.join(parent_dir, 'modeling_performance.csv'),index=False)\n",
    "df"
   ]
  },
  {
   "cell_type": "code",
   "execution_count": 6,
   "metadata": {},
   "outputs": [],
   "source": [
    "#NICE"
   ]
  },
  {
   "source": [
    "# On only Testing Dataset"
   ],
   "cell_type": "markdown",
   "metadata": {}
  },
  {
   "cell_type": "code",
   "execution_count": 9,
   "metadata": {},
   "outputs": [
    {
     "output_type": "execute_result",
     "data": {
      "text/plain": [
       "              poi       zone    tr_acc  tr_precision  tr_recall  tr_f1-score  \\\n",
       "5     Is_Bus_stop  54ft_test  0.918000      0.919315   0.918000     0.917936   \n",
       "11        Is_Turn  54ft_test  0.909639      0.911598   0.909639     0.909531   \n",
       "17      Is_Signal  54ft_test  0.953084      0.954766   0.953084     0.953041   \n",
       "23  Is_Congestion  54ft_test  0.874621      0.878419   0.874621     0.874305   \n",
       "29       Is_Adhoc  54ft_test  0.821307      0.822637   0.821307     0.821122   \n",
       "\n",
       "      te_acc  te_precision  te_recall  te_f1-score  \n",
       "5   0.833946      0.843071   0.833946     0.835620  \n",
       "11  0.816312      0.842597   0.816312     0.823200  \n",
       "17  0.923586      0.955377   0.923586     0.934381  \n",
       "23  0.775900      0.948050   0.775900     0.852733  \n",
       "29  0.720794      0.719805   0.720794     0.720073  "
      ],
      "text/html": "<div>\n<style scoped>\n    .dataframe tbody tr th:only-of-type {\n        vertical-align: middle;\n    }\n\n    .dataframe tbody tr th {\n        vertical-align: top;\n    }\n\n    .dataframe thead th {\n        text-align: right;\n    }\n</style>\n<table border=\"1\" class=\"dataframe\">\n  <thead>\n    <tr style=\"text-align: right;\">\n      <th></th>\n      <th>poi</th>\n      <th>zone</th>\n      <th>tr_acc</th>\n      <th>tr_precision</th>\n      <th>tr_recall</th>\n      <th>tr_f1-score</th>\n      <th>te_acc</th>\n      <th>te_precision</th>\n      <th>te_recall</th>\n      <th>te_f1-score</th>\n    </tr>\n  </thead>\n  <tbody>\n    <tr>\n      <td>5</td>\n      <td>Is_Bus_stop</td>\n      <td>54ft_test</td>\n      <td>0.918000</td>\n      <td>0.919315</td>\n      <td>0.918000</td>\n      <td>0.917936</td>\n      <td>0.833946</td>\n      <td>0.843071</td>\n      <td>0.833946</td>\n      <td>0.835620</td>\n    </tr>\n    <tr>\n      <td>11</td>\n      <td>Is_Turn</td>\n      <td>54ft_test</td>\n      <td>0.909639</td>\n      <td>0.911598</td>\n      <td>0.909639</td>\n      <td>0.909531</td>\n      <td>0.816312</td>\n      <td>0.842597</td>\n      <td>0.816312</td>\n      <td>0.823200</td>\n    </tr>\n    <tr>\n      <td>17</td>\n      <td>Is_Signal</td>\n      <td>54ft_test</td>\n      <td>0.953084</td>\n      <td>0.954766</td>\n      <td>0.953084</td>\n      <td>0.953041</td>\n      <td>0.923586</td>\n      <td>0.955377</td>\n      <td>0.923586</td>\n      <td>0.934381</td>\n    </tr>\n    <tr>\n      <td>23</td>\n      <td>Is_Congestion</td>\n      <td>54ft_test</td>\n      <td>0.874621</td>\n      <td>0.878419</td>\n      <td>0.874621</td>\n      <td>0.874305</td>\n      <td>0.775900</td>\n      <td>0.948050</td>\n      <td>0.775900</td>\n      <td>0.852733</td>\n    </tr>\n    <tr>\n      <td>29</td>\n      <td>Is_Adhoc</td>\n      <td>54ft_test</td>\n      <td>0.821307</td>\n      <td>0.822637</td>\n      <td>0.821307</td>\n      <td>0.821122</td>\n      <td>0.720794</td>\n      <td>0.719805</td>\n      <td>0.720794</td>\n      <td>0.720073</td>\n    </tr>\n  </tbody>\n</table>\n</div>"
     },
     "metadata": {},
     "execution_count": 9
    }
   ],
   "source": [
    "df_pref_testset=df[df.zone=='54ft_test'].copy()\n",
    "df_pref_testset.to_csv(os.path.join(parent_dir, 'modeling_performance_on_testset.csv'),index=False)\n",
    "df_pref_testset"
   ]
  },
  {
   "cell_type": "code",
   "execution_count": 10,
   "metadata": {},
   "outputs": [
    {
     "output_type": "stream",
     "name": "stdout",
     "text": [
      "Mean f1: 0.8332015446456082 Std f1: 0.07668541468615514\n"
     ]
    }
   ],
   "source": [
    "print('Mean f1:',df_pref_testset['te_f1-score'].mean(),'Std f1:',df_pref_testset['te_f1-score'].std())"
   ]
  },
  {
   "cell_type": "code",
   "execution_count": 9,
   "metadata": {},
   "outputs": [],
   "source": [
    "#DONE"
   ]
  }
 ],
 "metadata": {
  "kernelspec": {
   "display_name": "Python 3",
   "language": "python",
   "name": "python3"
  },
  "language_info": {
   "codemirror_mode": {
    "name": "ipython",
    "version": 3
   },
   "file_extension": ".py",
   "mimetype": "text/x-python",
   "name": "python",
   "nbconvert_exporter": "python",
   "pygments_lexer": "ipython3",
   "version": "3.7.4-final"
  }
 },
 "nbformat": 4,
 "nbformat_minor": 4
}