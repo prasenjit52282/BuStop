{
 "cells": [
  {
   "cell_type": "markdown",
   "metadata": {},
   "source": [
    "# Imports"
   ]
  },
  {
   "cell_type": "code",
   "execution_count": 1,
   "metadata": {},
   "outputs": [],
   "source": [
    "from sklearn.ensemble import RandomForestClassifier\n",
    "from sklearn.metrics import *\n",
    "from imblearn.over_sampling import SMOTE\n",
    "import pandas as pd\n",
    "import os"
   ]
  },
  {
   "cell_type": "markdown",
   "metadata": {},
   "source": [
    "## Constants"
   ]
  },
  {
   "cell_type": "code",
   "execution_count": 2,
   "metadata": {},
   "outputs": [],
   "source": [
    "parent_dir = r\"../data/54ft/\"\n",
    "train_df_name = r\"54ft_train.csv\"\n",
    "\n",
    "#feature # binding\n",
    "F=\\\n",
    "    {1:'stay_duration', #f1\n",
    "     2:'mfcc0',3:'mfcc1',4:'mfcc2',5:'mfcc3',6:'mfcc4', #f2,f3,f4,f5,f6\n",
    "     7:'wifi_count', 8:'edge_wifi_count', #f7,f8\n",
    "     9:'RSI', #f9\n",
    "     10:'human_made', 11:'natural_land',12:'road_exist_percent',13:'highly_populated_poi_exist'#f10,f11,f12,f13\n",
    "    }\n",
    "\n",
    "selected_feat=\\\n",
    "    {\n",
    "        'Is_Bus_stop':[F[e] for e in [10,12,11,1,8]],\n",
    "        'Is_Turn':[F[e] for e in [10,12,11,1,8,9]],\n",
    "        'Is_Signal':[F[e] for e in [12,11,10,8,9]],\n",
    "        'Is_Congestion':[F[e] for e in [2,11,10,9,12,8,6,1]],\n",
    "        'Is_Adhoc':[F[e] for e in [10,11,1,12,2]]\n",
    "    }\n",
    "\n",
    "\n",
    "#file Names\n",
    "zone_names=list(map(lambda e:f\"{e}_test_split.csv\",[\"station\",\"dvc_more\",\"54ft_road\",\"junction_mall\",\"prantika_bus_stand\"]))\n",
    "\n",
    "_7day_test=[\"54ft_test.csv\"]"
   ]
  },
  {
   "cell_type": "code",
   "execution_count": 3,
   "metadata": {},
   "outputs": [],
   "source": [
    "#Modeling function\n",
    "def get_metrics_from_the_model(train,labels_train,test,labels_test,poi,zone):\n",
    "    rf=RandomForestClassifier(n_estimators=100,max_depth=8,random_state=42)\n",
    "    rf.fit(train, labels_train)\n",
    "\n",
    "    pred_train= rf.predict(train)\n",
    "    pred_test= rf.predict(test)\n",
    "    \n",
    "    performance={'poi':poi,'zone':zone,\n",
    "                 'tr_acc':accuracy_score(labels_train,pred_train),\n",
    "                 'tr_precision':precision_score(labels_train,pred_train,average='weighted'),\n",
    "                 'tr_recall':recall_score(labels_train,pred_train,average='weighted'),\n",
    "                 'tr_f1-score':f1_score(labels_train,pred_train,average='weighted'),\n",
    "\n",
    "                 'te_acc':accuracy_score(labels_test,pred_test),\n",
    "                 'te_precision':precision_score(labels_test, pred_test,average='weighted'),\n",
    "                 'te_recall':recall_score(labels_test, pred_test,average='weighted'),\n",
    "                 'te_f1-score':f1_score(labels_test, pred_test,average='weighted')}\n",
    "    return performance,pred_test\n",
    "    "
   ]
  },
  {
   "cell_type": "markdown",
   "metadata": {},
   "source": [
    "## Modeling"
   ]
  },
  {
   "cell_type": "code",
   "execution_count": 4,
   "metadata": {},
   "outputs": [
    {
     "output_type": "stream",
     "name": "stdout",
     "text": [
      "Completed for POI:Is_Bus_stop and Zone:station get results of length:32\n",
      "Completed for POI:Is_Bus_stop and Zone:dvc_more get results of length:69\n",
      "Completed for POI:Is_Bus_stop and Zone:54ft_road get results of length:105\n",
      "Completed for POI:Is_Bus_stop and Zone:junction_mall get results of length:57\n",
      "Completed for POI:Is_Bus_stop and Zone:prantika_bus_stand get results of length:57\n",
      "Completed for POI:Is_Bus_stop and Zone:54ft_test get results of length:1361\n",
      "Completed for POI:Is_Turn and Zone:station get results of length:32\n",
      "Completed for POI:Is_Turn and Zone:dvc_more get results of length:69\n",
      "Completed for POI:Is_Turn and Zone:54ft_road get results of length:105\n",
      "Completed for POI:Is_Turn and Zone:junction_mall get results of length:57\n",
      "Completed for POI:Is_Turn and Zone:prantika_bus_stand get results of length:57\n",
      "Completed for POI:Is_Turn and Zone:54ft_test get results of length:1361\n",
      "Completed for POI:Is_Signal and Zone:station get results of length:32\n",
      "Completed for POI:Is_Signal and Zone:dvc_more get results of length:69\n",
      "Completed for POI:Is_Signal and Zone:54ft_road get results of length:105\n",
      "Completed for POI:Is_Signal and Zone:junction_mall get results of length:57\n",
      "Completed for POI:Is_Signal and Zone:prantika_bus_stand get results of length:57\n",
      "Completed for POI:Is_Signal and Zone:54ft_test get results of length:1361\n",
      "Completed for POI:Is_Congestion and Zone:station get results of length:32\n",
      "Completed for POI:Is_Congestion and Zone:dvc_more get results of length:69\n",
      "Completed for POI:Is_Congestion and Zone:54ft_road get results of length:105\n",
      "Completed for POI:Is_Congestion and Zone:junction_mall get results of length:57\n",
      "Completed for POI:Is_Congestion and Zone:prantika_bus_stand get results of length:57\n",
      "Completed for POI:Is_Congestion and Zone:54ft_test get results of length:1361\n",
      "Completed for POI:Is_Adhoc and Zone:station get results of length:32\n",
      "Completed for POI:Is_Adhoc and Zone:dvc_more get results of length:69\n",
      "Completed for POI:Is_Adhoc and Zone:54ft_road get results of length:105\n",
      "Completed for POI:Is_Adhoc and Zone:junction_mall get results of length:57\n",
      "Completed for POI:Is_Adhoc and Zone:prantika_bus_stand get results of length:57\n",
      "Completed for POI:Is_Adhoc and Zone:54ft_test get results of length:1361\n"
     ]
    }
   ],
   "source": [
    "perf=[] #performance list\n",
    "\n",
    "\n",
    "for poi_column in ['Is_Bus_stop','Is_Turn','Is_Signal','Is_Congestion','Is_Adhoc']:\n",
    "    feature_names=selected_feat[poi_column] #feature selection\n",
    "\n",
    "    for test_df_name in (zone_names+_7day_test):#iterator name\n",
    "\n",
    "        zoneName=test_df_name.split('_test_split.csv')[0].split('.')[0]\n",
    "        output_result_filename = f\"{poi_column}_test_result_{zoneName}_zone.csv\"\n",
    "\n",
    "        #train_data_processing\n",
    "        train_csv_df = pd.read_csv(os.path.join(parent_dir, train_df_name))\n",
    "        train_df = train_csv_df[feature_names+[poi_column]]\n",
    "\n",
    "        #test data processing\n",
    "        test_csv_df = pd.read_csv(os.path.join(parent_dir, test_df_name))\n",
    "        test_df = test_csv_df[feature_names+[poi_column]]\n",
    "\n",
    "\n",
    "        #SMOTE on training data & get features ,labels\n",
    "        X = train_df[feature_names].copy()\n",
    "        y = train_df[poi_column].copy()\n",
    "\n",
    "        smote = SMOTE()\n",
    "        X_resampled, y_resampled = smote.fit_sample(X, y)\n",
    "        train_data = X_resampled.copy()\n",
    "        train_labels = y_resampled.copy()\n",
    "\n",
    "        #Test set get features & labels\n",
    "        test_data = test_df[feature_names].values\n",
    "        test_labels = test_df[poi_column].values\n",
    "\n",
    "        #Training with Random Forest\n",
    "        performance,pred_test=get_metrics_from_the_model(train_data,train_labels,test_data,test_labels,poi_column,zoneName)\n",
    "\n",
    "        #adding to performance list\n",
    "        perf.append(performance)\n",
    "\n",
    "        #creating prediction file\n",
    "        test_csv_df[f'Prediction {poi_column}']=pred_test\n",
    "        result_df=test_csv_df[['start_date','start_time','end_time',f'Prediction {poi_column}']].copy()\n",
    "        result_df.columns=['instance_date', 'instance_start_time', 'instance_end_time',f'Prediction {poi_column}']\n",
    "        result_df.to_csv(os.path.join(parent_dir, output_result_filename), index=False)\n",
    "\n",
    "        print(f'Completed for POI:{poi_column} and Zone:{zoneName} get results of length:{result_df.shape[0]}')"
   ]
  },
  {
   "source": [
    "# Saving Performance for all Modelings"
   ],
   "cell_type": "markdown",
   "metadata": {}
  },
  {
   "cell_type": "code",
   "execution_count": 5,
   "metadata": {},
   "outputs": [
    {
     "output_type": "execute_result",
     "data": {
      "text/plain": [
       "              poi                zone    tr_acc  tr_precision  tr_recall  \\\n",
       "0     Is_Bus_stop             station  0.919000      0.920165   0.919000   \n",
       "1     Is_Bus_stop            dvc_more  0.918000      0.918626   0.918000   \n",
       "2     Is_Bus_stop           54ft_road  0.916000      0.916667   0.916000   \n",
       "3     Is_Bus_stop       junction_mall  0.914667      0.915910   0.914667   \n",
       "4     Is_Bus_stop  prantika_bus_stand  0.910333      0.911203   0.910333   \n",
       "5     Is_Bus_stop           54ft_test  0.920000      0.921451   0.920000   \n",
       "6         Is_Turn             station  0.911555      0.914024   0.911555   \n",
       "7         Is_Turn            dvc_more  0.911281      0.913065   0.911281   \n",
       "8         Is_Turn           54ft_road  0.910734      0.913025   0.910734   \n",
       "9         Is_Turn       junction_mall  0.908543      0.912374   0.908543   \n",
       "10        Is_Turn  prantika_bus_stand  0.910460      0.912852   0.910460   \n",
       "11        Is_Turn           54ft_test  0.907448      0.911357   0.907448   \n",
       "12      Is_Signal             station  0.953084      0.954671   0.953084   \n",
       "13      Is_Signal            dvc_more  0.950478      0.952890   0.950478   \n",
       "14      Is_Signal           54ft_road  0.950478      0.952297   0.950478   \n",
       "15      Is_Signal       junction_mall  0.955039      0.957112   0.955039   \n",
       "16      Is_Signal  prantika_bus_stand  0.955908      0.957878   0.955908   \n",
       "17      Is_Signal           54ft_test  0.949826      0.952264   0.949826   \n",
       "18  Is_Congestion             station  0.877353      0.880425   0.877353   \n",
       "19  Is_Congestion            dvc_more  0.871281      0.873537   0.871281   \n",
       "20  Is_Congestion           54ft_road  0.876746      0.880245   0.876746   \n",
       "21  Is_Congestion       junction_mall  0.869763      0.872814   0.869763   \n",
       "22  Is_Congestion  prantika_bus_stand  0.873406      0.875366   0.873406   \n",
       "23  Is_Congestion           54ft_test  0.873103      0.877923   0.873103   \n",
       "24       Is_Adhoc             station  0.827273      0.829540   0.827273   \n",
       "25       Is_Adhoc            dvc_more  0.832386      0.837187   0.832386   \n",
       "26       Is_Adhoc           54ft_road  0.832102      0.835267   0.832102   \n",
       "27       Is_Adhoc       junction_mall  0.828409      0.831215   0.828409   \n",
       "28       Is_Adhoc  prantika_bus_stand  0.828693      0.830103   0.828693   \n",
       "29       Is_Adhoc           54ft_test  0.838068      0.842055   0.838068   \n",
       "\n",
       "    tr_f1-score    te_acc  te_precision  te_recall  te_f1-score  \n",
       "0      0.918944  0.968750      0.969792   0.968750     0.965890  \n",
       "1      0.917969  0.840580      0.838731   0.840580     0.839457  \n",
       "2      0.915966  0.819048      0.857249   0.819048     0.794642  \n",
       "3      0.914603  0.894737      0.894737   0.894737     0.894737  \n",
       "4      0.910286  0.894737      0.963563   0.894737     0.927875  \n",
       "5      0.919931  0.842028      0.850547   0.842028     0.843583  \n",
       "6      0.911423  0.968750      0.969866   0.968750     0.967298  \n",
       "7      0.911186  0.782609      0.785851   0.782609     0.755214  \n",
       "8      0.910610  1.000000      1.000000   1.000000     1.000000  \n",
       "9      0.908330  0.912281      0.941303   0.912281     0.922965  \n",
       "10     0.910330  0.771930      0.772125   0.771930     0.771789  \n",
       "11     0.907228  0.815577      0.843348   0.815577     0.822692  \n",
       "12     0.953043  1.000000      1.000000   1.000000     1.000000  \n",
       "13     0.950412  0.956522      0.914934   0.956522     0.935266  \n",
       "14     0.950428  1.000000      1.000000   1.000000     1.000000  \n",
       "15     0.954988  0.508772      0.799220   0.508772     0.528580  \n",
       "16     0.955860  0.947368      1.000000   0.947368     0.972973  \n",
       "17     0.949759  0.918442      0.954166   0.918442     0.930594  \n",
       "18     0.877105  0.531250      0.688021   0.531250     0.592850  \n",
       "19     0.871086  0.884058      0.969612   0.884058     0.924861  \n",
       "20     0.876461  0.990476      1.000000   0.990476     0.995215  \n",
       "21     0.869496  0.508772      0.949708   0.508772     0.662587  \n",
       "22     0.873241  0.701754      1.000000   0.701754     0.824742  \n",
       "23     0.872697  0.759001      0.948379   0.759001     0.842166  \n",
       "24     0.826975  0.625000      0.704412   0.625000     0.643750  \n",
       "25     0.831788  0.695652      0.701667   0.695652     0.698523  \n",
       "26     0.831705  0.866667      0.865183   0.866667     0.865572  \n",
       "27     0.828045  0.824561      0.834296   0.824561     0.828321  \n",
       "28     0.828510  0.526316      0.522556   0.526316     0.520367  \n",
       "29     0.837595  0.722263      0.723635   0.722263     0.722761  "
      ],
      "text/html": "<div>\n<style scoped>\n    .dataframe tbody tr th:only-of-type {\n        vertical-align: middle;\n    }\n\n    .dataframe tbody tr th {\n        vertical-align: top;\n    }\n\n    .dataframe thead th {\n        text-align: right;\n    }\n</style>\n<table border=\"1\" class=\"dataframe\">\n  <thead>\n    <tr style=\"text-align: right;\">\n      <th></th>\n      <th>poi</th>\n      <th>zone</th>\n      <th>tr_acc</th>\n      <th>tr_precision</th>\n      <th>tr_recall</th>\n      <th>tr_f1-score</th>\n      <th>te_acc</th>\n      <th>te_precision</th>\n      <th>te_recall</th>\n      <th>te_f1-score</th>\n    </tr>\n  </thead>\n  <tbody>\n    <tr>\n      <td>0</td>\n      <td>Is_Bus_stop</td>\n      <td>station</td>\n      <td>0.919000</td>\n      <td>0.920165</td>\n      <td>0.919000</td>\n      <td>0.918944</td>\n      <td>0.968750</td>\n      <td>0.969792</td>\n      <td>0.968750</td>\n      <td>0.965890</td>\n    </tr>\n    <tr>\n      <td>1</td>\n      <td>Is_Bus_stop</td>\n      <td>dvc_more</td>\n      <td>0.918000</td>\n      <td>0.918626</td>\n      <td>0.918000</td>\n      <td>0.917969</td>\n      <td>0.840580</td>\n      <td>0.838731</td>\n      <td>0.840580</td>\n      <td>0.839457</td>\n    </tr>\n    <tr>\n      <td>2</td>\n      <td>Is_Bus_stop</td>\n      <td>54ft_road</td>\n      <td>0.916000</td>\n      <td>0.916667</td>\n      <td>0.916000</td>\n      <td>0.915966</td>\n      <td>0.819048</td>\n      <td>0.857249</td>\n      <td>0.819048</td>\n      <td>0.794642</td>\n    </tr>\n    <tr>\n      <td>3</td>\n      <td>Is_Bus_stop</td>\n      <td>junction_mall</td>\n      <td>0.914667</td>\n      <td>0.915910</td>\n      <td>0.914667</td>\n      <td>0.914603</td>\n      <td>0.894737</td>\n      <td>0.894737</td>\n      <td>0.894737</td>\n      <td>0.894737</td>\n    </tr>\n    <tr>\n      <td>4</td>\n      <td>Is_Bus_stop</td>\n      <td>prantika_bus_stand</td>\n      <td>0.910333</td>\n      <td>0.911203</td>\n      <td>0.910333</td>\n      <td>0.910286</td>\n      <td>0.894737</td>\n      <td>0.963563</td>\n      <td>0.894737</td>\n      <td>0.927875</td>\n    </tr>\n    <tr>\n      <td>5</td>\n      <td>Is_Bus_stop</td>\n      <td>54ft_test</td>\n      <td>0.920000</td>\n      <td>0.921451</td>\n      <td>0.920000</td>\n      <td>0.919931</td>\n      <td>0.842028</td>\n      <td>0.850547</td>\n      <td>0.842028</td>\n      <td>0.843583</td>\n    </tr>\n    <tr>\n      <td>6</td>\n      <td>Is_Turn</td>\n      <td>station</td>\n      <td>0.911555</td>\n      <td>0.914024</td>\n      <td>0.911555</td>\n      <td>0.911423</td>\n      <td>0.968750</td>\n      <td>0.969866</td>\n      <td>0.968750</td>\n      <td>0.967298</td>\n    </tr>\n    <tr>\n      <td>7</td>\n      <td>Is_Turn</td>\n      <td>dvc_more</td>\n      <td>0.911281</td>\n      <td>0.913065</td>\n      <td>0.911281</td>\n      <td>0.911186</td>\n      <td>0.782609</td>\n      <td>0.785851</td>\n      <td>0.782609</td>\n      <td>0.755214</td>\n    </tr>\n    <tr>\n      <td>8</td>\n      <td>Is_Turn</td>\n      <td>54ft_road</td>\n      <td>0.910734</td>\n      <td>0.913025</td>\n      <td>0.910734</td>\n      <td>0.910610</td>\n      <td>1.000000</td>\n      <td>1.000000</td>\n      <td>1.000000</td>\n      <td>1.000000</td>\n    </tr>\n    <tr>\n      <td>9</td>\n      <td>Is_Turn</td>\n      <td>junction_mall</td>\n      <td>0.908543</td>\n      <td>0.912374</td>\n      <td>0.908543</td>\n      <td>0.908330</td>\n      <td>0.912281</td>\n      <td>0.941303</td>\n      <td>0.912281</td>\n      <td>0.922965</td>\n    </tr>\n    <tr>\n      <td>10</td>\n      <td>Is_Turn</td>\n      <td>prantika_bus_stand</td>\n      <td>0.910460</td>\n      <td>0.912852</td>\n      <td>0.910460</td>\n      <td>0.910330</td>\n      <td>0.771930</td>\n      <td>0.772125</td>\n      <td>0.771930</td>\n      <td>0.771789</td>\n    </tr>\n    <tr>\n      <td>11</td>\n      <td>Is_Turn</td>\n      <td>54ft_test</td>\n      <td>0.907448</td>\n      <td>0.911357</td>\n      <td>0.907448</td>\n      <td>0.907228</td>\n      <td>0.815577</td>\n      <td>0.843348</td>\n      <td>0.815577</td>\n      <td>0.822692</td>\n    </tr>\n    <tr>\n      <td>12</td>\n      <td>Is_Signal</td>\n      <td>station</td>\n      <td>0.953084</td>\n      <td>0.954671</td>\n      <td>0.953084</td>\n      <td>0.953043</td>\n      <td>1.000000</td>\n      <td>1.000000</td>\n      <td>1.000000</td>\n      <td>1.000000</td>\n    </tr>\n    <tr>\n      <td>13</td>\n      <td>Is_Signal</td>\n      <td>dvc_more</td>\n      <td>0.950478</td>\n      <td>0.952890</td>\n      <td>0.950478</td>\n      <td>0.950412</td>\n      <td>0.956522</td>\n      <td>0.914934</td>\n      <td>0.956522</td>\n      <td>0.935266</td>\n    </tr>\n    <tr>\n      <td>14</td>\n      <td>Is_Signal</td>\n      <td>54ft_road</td>\n      <td>0.950478</td>\n      <td>0.952297</td>\n      <td>0.950478</td>\n      <td>0.950428</td>\n      <td>1.000000</td>\n      <td>1.000000</td>\n      <td>1.000000</td>\n      <td>1.000000</td>\n    </tr>\n    <tr>\n      <td>15</td>\n      <td>Is_Signal</td>\n      <td>junction_mall</td>\n      <td>0.955039</td>\n      <td>0.957112</td>\n      <td>0.955039</td>\n      <td>0.954988</td>\n      <td>0.508772</td>\n      <td>0.799220</td>\n      <td>0.508772</td>\n      <td>0.528580</td>\n    </tr>\n    <tr>\n      <td>16</td>\n      <td>Is_Signal</td>\n      <td>prantika_bus_stand</td>\n      <td>0.955908</td>\n      <td>0.957878</td>\n      <td>0.955908</td>\n      <td>0.955860</td>\n      <td>0.947368</td>\n      <td>1.000000</td>\n      <td>0.947368</td>\n      <td>0.972973</td>\n    </tr>\n    <tr>\n      <td>17</td>\n      <td>Is_Signal</td>\n      <td>54ft_test</td>\n      <td>0.949826</td>\n      <td>0.952264</td>\n      <td>0.949826</td>\n      <td>0.949759</td>\n      <td>0.918442</td>\n      <td>0.954166</td>\n      <td>0.918442</td>\n      <td>0.930594</td>\n    </tr>\n    <tr>\n      <td>18</td>\n      <td>Is_Congestion</td>\n      <td>station</td>\n      <td>0.877353</td>\n      <td>0.880425</td>\n      <td>0.877353</td>\n      <td>0.877105</td>\n      <td>0.531250</td>\n      <td>0.688021</td>\n      <td>0.531250</td>\n      <td>0.592850</td>\n    </tr>\n    <tr>\n      <td>19</td>\n      <td>Is_Congestion</td>\n      <td>dvc_more</td>\n      <td>0.871281</td>\n      <td>0.873537</td>\n      <td>0.871281</td>\n      <td>0.871086</td>\n      <td>0.884058</td>\n      <td>0.969612</td>\n      <td>0.884058</td>\n      <td>0.924861</td>\n    </tr>\n    <tr>\n      <td>20</td>\n      <td>Is_Congestion</td>\n      <td>54ft_road</td>\n      <td>0.876746</td>\n      <td>0.880245</td>\n      <td>0.876746</td>\n      <td>0.876461</td>\n      <td>0.990476</td>\n      <td>1.000000</td>\n      <td>0.990476</td>\n      <td>0.995215</td>\n    </tr>\n    <tr>\n      <td>21</td>\n      <td>Is_Congestion</td>\n      <td>junction_mall</td>\n      <td>0.869763</td>\n      <td>0.872814</td>\n      <td>0.869763</td>\n      <td>0.869496</td>\n      <td>0.508772</td>\n      <td>0.949708</td>\n      <td>0.508772</td>\n      <td>0.662587</td>\n    </tr>\n    <tr>\n      <td>22</td>\n      <td>Is_Congestion</td>\n      <td>prantika_bus_stand</td>\n      <td>0.873406</td>\n      <td>0.875366</td>\n      <td>0.873406</td>\n      <td>0.873241</td>\n      <td>0.701754</td>\n      <td>1.000000</td>\n      <td>0.701754</td>\n      <td>0.824742</td>\n    </tr>\n    <tr>\n      <td>23</td>\n      <td>Is_Congestion</td>\n      <td>54ft_test</td>\n      <td>0.873103</td>\n      <td>0.877923</td>\n      <td>0.873103</td>\n      <td>0.872697</td>\n      <td>0.759001</td>\n      <td>0.948379</td>\n      <td>0.759001</td>\n      <td>0.842166</td>\n    </tr>\n    <tr>\n      <td>24</td>\n      <td>Is_Adhoc</td>\n      <td>station</td>\n      <td>0.827273</td>\n      <td>0.829540</td>\n      <td>0.827273</td>\n      <td>0.826975</td>\n      <td>0.625000</td>\n      <td>0.704412</td>\n      <td>0.625000</td>\n      <td>0.643750</td>\n    </tr>\n    <tr>\n      <td>25</td>\n      <td>Is_Adhoc</td>\n      <td>dvc_more</td>\n      <td>0.832386</td>\n      <td>0.837187</td>\n      <td>0.832386</td>\n      <td>0.831788</td>\n      <td>0.695652</td>\n      <td>0.701667</td>\n      <td>0.695652</td>\n      <td>0.698523</td>\n    </tr>\n    <tr>\n      <td>26</td>\n      <td>Is_Adhoc</td>\n      <td>54ft_road</td>\n      <td>0.832102</td>\n      <td>0.835267</td>\n      <td>0.832102</td>\n      <td>0.831705</td>\n      <td>0.866667</td>\n      <td>0.865183</td>\n      <td>0.866667</td>\n      <td>0.865572</td>\n    </tr>\n    <tr>\n      <td>27</td>\n      <td>Is_Adhoc</td>\n      <td>junction_mall</td>\n      <td>0.828409</td>\n      <td>0.831215</td>\n      <td>0.828409</td>\n      <td>0.828045</td>\n      <td>0.824561</td>\n      <td>0.834296</td>\n      <td>0.824561</td>\n      <td>0.828321</td>\n    </tr>\n    <tr>\n      <td>28</td>\n      <td>Is_Adhoc</td>\n      <td>prantika_bus_stand</td>\n      <td>0.828693</td>\n      <td>0.830103</td>\n      <td>0.828693</td>\n      <td>0.828510</td>\n      <td>0.526316</td>\n      <td>0.522556</td>\n      <td>0.526316</td>\n      <td>0.520367</td>\n    </tr>\n    <tr>\n      <td>29</td>\n      <td>Is_Adhoc</td>\n      <td>54ft_test</td>\n      <td>0.838068</td>\n      <td>0.842055</td>\n      <td>0.838068</td>\n      <td>0.837595</td>\n      <td>0.722263</td>\n      <td>0.723635</td>\n      <td>0.722263</td>\n      <td>0.722761</td>\n    </tr>\n  </tbody>\n</table>\n</div>"
     },
     "metadata": {},
     "execution_count": 5
    }
   ],
   "source": [
    "df=pd.DataFrame(perf)\n",
    "df.to_csv(os.path.join(parent_dir, 'modeling_performance.csv'),index=False)\n",
    "df"
   ]
  },
  {
   "cell_type": "code",
   "execution_count": 6,
   "metadata": {},
   "outputs": [],
   "source": [
    "#NICE"
   ]
  },
  {
   "source": [
    "# On only Testing Dataset"
   ],
   "cell_type": "markdown",
   "metadata": {}
  },
  {
   "cell_type": "code",
   "execution_count": 7,
   "metadata": {},
   "outputs": [
    {
     "output_type": "execute_result",
     "data": {
      "text/plain": [
       "              poi       zone    tr_acc  tr_precision  tr_recall  tr_f1-score  \\\n",
       "5     Is_Bus_stop  54ft_test  0.920000      0.921451   0.920000     0.919931   \n",
       "11        Is_Turn  54ft_test  0.907448      0.911357   0.907448     0.907228   \n",
       "17      Is_Signal  54ft_test  0.949826      0.952264   0.949826     0.949759   \n",
       "23  Is_Congestion  54ft_test  0.873103      0.877923   0.873103     0.872697   \n",
       "29       Is_Adhoc  54ft_test  0.838068      0.842055   0.838068     0.837595   \n",
       "\n",
       "      te_acc  te_precision  te_recall  te_f1-score  \n",
       "5   0.842028      0.850547   0.842028     0.843583  \n",
       "11  0.815577      0.843348   0.815577     0.822692  \n",
       "17  0.918442      0.954166   0.918442     0.930594  \n",
       "23  0.759001      0.948379   0.759001     0.842166  \n",
       "29  0.722263      0.723635   0.722263     0.722761  "
      ],
      "text/html": "<div>\n<style scoped>\n    .dataframe tbody tr th:only-of-type {\n        vertical-align: middle;\n    }\n\n    .dataframe tbody tr th {\n        vertical-align: top;\n    }\n\n    .dataframe thead th {\n        text-align: right;\n    }\n</style>\n<table border=\"1\" class=\"dataframe\">\n  <thead>\n    <tr style=\"text-align: right;\">\n      <th></th>\n      <th>poi</th>\n      <th>zone</th>\n      <th>tr_acc</th>\n      <th>tr_precision</th>\n      <th>tr_recall</th>\n      <th>tr_f1-score</th>\n      <th>te_acc</th>\n      <th>te_precision</th>\n      <th>te_recall</th>\n      <th>te_f1-score</th>\n    </tr>\n  </thead>\n  <tbody>\n    <tr>\n      <td>5</td>\n      <td>Is_Bus_stop</td>\n      <td>54ft_test</td>\n      <td>0.920000</td>\n      <td>0.921451</td>\n      <td>0.920000</td>\n      <td>0.919931</td>\n      <td>0.842028</td>\n      <td>0.850547</td>\n      <td>0.842028</td>\n      <td>0.843583</td>\n    </tr>\n    <tr>\n      <td>11</td>\n      <td>Is_Turn</td>\n      <td>54ft_test</td>\n      <td>0.907448</td>\n      <td>0.911357</td>\n      <td>0.907448</td>\n      <td>0.907228</td>\n      <td>0.815577</td>\n      <td>0.843348</td>\n      <td>0.815577</td>\n      <td>0.822692</td>\n    </tr>\n    <tr>\n      <td>17</td>\n      <td>Is_Signal</td>\n      <td>54ft_test</td>\n      <td>0.949826</td>\n      <td>0.952264</td>\n      <td>0.949826</td>\n      <td>0.949759</td>\n      <td>0.918442</td>\n      <td>0.954166</td>\n      <td>0.918442</td>\n      <td>0.930594</td>\n    </tr>\n    <tr>\n      <td>23</td>\n      <td>Is_Congestion</td>\n      <td>54ft_test</td>\n      <td>0.873103</td>\n      <td>0.877923</td>\n      <td>0.873103</td>\n      <td>0.872697</td>\n      <td>0.759001</td>\n      <td>0.948379</td>\n      <td>0.759001</td>\n      <td>0.842166</td>\n    </tr>\n    <tr>\n      <td>29</td>\n      <td>Is_Adhoc</td>\n      <td>54ft_test</td>\n      <td>0.838068</td>\n      <td>0.842055</td>\n      <td>0.838068</td>\n      <td>0.837595</td>\n      <td>0.722263</td>\n      <td>0.723635</td>\n      <td>0.722263</td>\n      <td>0.722761</td>\n    </tr>\n  </tbody>\n</table>\n</div>"
     },
     "metadata": {},
     "execution_count": 7
    }
   ],
   "source": [
    "df_pref_testset=df[df.zone=='54ft_test'].copy()\n",
    "df_pref_testset.to_csv(os.path.join(parent_dir, 'modeling_performance_on_testset.csv'),index=False)\n",
    "df_pref_testset"
   ]
  },
  {
   "cell_type": "code",
   "execution_count": 8,
   "metadata": {},
   "outputs": [
    {
     "output_type": "stream",
     "name": "stdout",
     "text": [
      "Mean f1: 0.8323590043190267 Std f1: 0.07412399086590624\n"
     ]
    }
   ],
   "source": [
    "print('Mean f1:',df_pref_testset['te_f1-score'].mean(),'Std f1:',df_pref_testset['te_f1-score'].std())"
   ]
  },
  {
   "cell_type": "code",
   "execution_count": 9,
   "metadata": {},
   "outputs": [],
   "source": [
    "#DONE"
   ]
  }
 ],
 "metadata": {
  "kernelspec": {
   "display_name": "Python 3",
   "language": "python",
   "name": "python3"
  },
  "language_info": {
   "codemirror_mode": {
    "name": "ipython",
    "version": 3
   },
   "file_extension": ".py",
   "mimetype": "text/x-python",
   "name": "python",
   "nbconvert_exporter": "python",
   "pygments_lexer": "ipython3",
   "version": "3.7.4-final"
  }
 },
 "nbformat": 4,
 "nbformat_minor": 4
}