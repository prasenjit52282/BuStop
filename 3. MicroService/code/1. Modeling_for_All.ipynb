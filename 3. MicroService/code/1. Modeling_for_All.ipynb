{
 "cells": [
  {
   "cell_type": "markdown",
   "metadata": {},
   "source": [
    "# Imports"
   ]
  },
  {
   "cell_type": "code",
   "execution_count": 1,
   "metadata": {},
   "outputs": [],
   "source": [
    "from sklearn.ensemble import RandomForestClassifier\n",
    "from sklearn.metrics import *\n",
    "from imblearn.over_sampling import SMOTE\n",
    "import pandas as pd\n",
    "import os"
   ]
  },
  {
   "cell_type": "markdown",
   "metadata": {},
   "source": [
    "## Constants"
   ]
  },
  {
   "cell_type": "code",
   "execution_count": 2,
   "metadata": {},
   "outputs": [],
   "source": [
    "parent_dir = r\"../data/54ft/\"\n",
    "train_df_name = r\"54ft_train.csv\"\n",
    "\n",
    "#feature # binding\n",
    "F=\\\n",
    "    {1:'stay_duration', #f1\n",
    "     2:'mfcc0',3:'mfcc1',4:'mfcc2',5:'mfcc3',6:'mfcc4', #f2,f3,f4,f5,f6\n",
    "     7:'wifi_count', 8:'edge_wifi_count', #f7,f8\n",
    "     9:'RSI', #f9\n",
    "     10:'human_made', 11:'natural_land',12:'road_exist_percent',13:'highly_populated_poi_exist'#f10,f11,f12,f13\n",
    "    }\n",
    "\n",
    "selected_feat=\\\n",
    "    {\n",
    "        'Is_Bus_stop':[F[e] for e in [10,12,11,1,8]],\n",
    "        'Is_Turn':[F[e] for e in [10,12,11,1,8,9]],\n",
    "        'Is_Signal':[F[e] for e in [12,11,10,8,9]],\n",
    "        'Is_Congestion':[F[e] for e in [2,11,10,9,12,8,6,1]],\n",
    "        'Is_Adhoc':[F[e] for e in [10,11,1,12,2]]\n",
    "    }\n",
    "\n",
    "\n",
    "#file Names\n",
    "zone_names=list(map(lambda e:f\"{e}_test_split.csv\",[\"station\",\"dvc_more\",\"54ft_road\",\"junction_mall\",\"prantika_bus_stand\"]))\n",
    "\n",
    "_7day_test=[\"54ft_test.csv\"]"
   ]
  },
  {
   "cell_type": "code",
   "execution_count": 3,
   "metadata": {},
   "outputs": [],
   "source": [
    "#Modeling function\n",
    "def get_metrics_from_the_model(train,labels_train,test,labels_test,poi,zone):\n",
    "    rf=RandomForestClassifier(n_estimators=100,max_depth=8)\n",
    "    rf.fit(train, labels_train)\n",
    "\n",
    "    pred_train= rf.predict(train)\n",
    "    pred_test= rf.predict(test)\n",
    "    \n",
    "    performance={'poi':poi,'zone':zone,\n",
    "                 'tr_acc':accuracy_score(labels_train,pred_train),\n",
    "                 'tr_precision':precision_score(labels_train,pred_train,average='weighted'),\n",
    "                 'tr_recall':recall_score(labels_train,pred_train,average='weighted'),\n",
    "                 'tr_f1-score':f1_score(labels_train,pred_train,average='weighted'),\n",
    "\n",
    "                 'te_acc':accuracy_score(labels_test,pred_test),\n",
    "                 'te_precision':precision_score(labels_test, pred_test,average='weighted'),\n",
    "                 'te_recall':recall_score(labels_test, pred_test,average='weighted'),\n",
    "                 'te_f1-score':f1_score(labels_test, pred_test,average='weighted')}\n",
    "    return performance,pred_test\n",
    "    "
   ]
  },
  {
   "cell_type": "markdown",
   "metadata": {},
   "source": [
    "## Modeling"
   ]
  },
  {
   "cell_type": "code",
   "execution_count": 4,
   "metadata": {},
   "outputs": [
    {
     "output_type": "stream",
     "name": "stdout",
     "text": [
      "Completed for POI:Is_Bus_stop and Zone:station get results of length:72\n",
      "Completed for POI:Is_Bus_stop and Zone:dvc_more get results of length:68\n",
      "Completed for POI:Is_Bus_stop and Zone:54ft_road get results of length:98\n",
      "Completed for POI:Is_Bus_stop and Zone:junction_mall get results of length:54\n",
      "Completed for POI:Is_Bus_stop and Zone:prantika_bus_stand get results of length:61\n",
      "Completed for POI:Is_Bus_stop and Zone:54ft_test get results of length:1360\n",
      "Completed for POI:Is_Turn and Zone:station get results of length:72\n",
      "Completed for POI:Is_Turn and Zone:dvc_more get results of length:68\n",
      "Completed for POI:Is_Turn and Zone:54ft_road get results of length:98\n",
      "Completed for POI:Is_Turn and Zone:junction_mall get results of length:54\n",
      "Completed for POI:Is_Turn and Zone:prantika_bus_stand get results of length:61\n",
      "Completed for POI:Is_Turn and Zone:54ft_test get results of length:1360\n",
      "Completed for POI:Is_Signal and Zone:station get results of length:72\n",
      "Completed for POI:Is_Signal and Zone:dvc_more get results of length:68\n",
      "Completed for POI:Is_Signal and Zone:54ft_road get results of length:98\n",
      "Completed for POI:Is_Signal and Zone:junction_mall get results of length:54\n",
      "Completed for POI:Is_Signal and Zone:prantika_bus_stand get results of length:61\n",
      "Completed for POI:Is_Signal and Zone:54ft_test get results of length:1360\n",
      "Completed for POI:Is_Congestion and Zone:station get results of length:72\n",
      "Completed for POI:Is_Congestion and Zone:dvc_more get results of length:68\n",
      "Completed for POI:Is_Congestion and Zone:54ft_road get results of length:98\n",
      "Completed for POI:Is_Congestion and Zone:junction_mall get results of length:54\n",
      "Completed for POI:Is_Congestion and Zone:prantika_bus_stand get results of length:61\n",
      "Completed for POI:Is_Congestion and Zone:54ft_test get results of length:1360\n",
      "Completed for POI:Is_Adhoc and Zone:station get results of length:72\n",
      "Completed for POI:Is_Adhoc and Zone:dvc_more get results of length:68\n",
      "Completed for POI:Is_Adhoc and Zone:54ft_road get results of length:98\n",
      "Completed for POI:Is_Adhoc and Zone:junction_mall get results of length:54\n",
      "Completed for POI:Is_Adhoc and Zone:prantika_bus_stand get results of length:61\n",
      "Completed for POI:Is_Adhoc and Zone:54ft_test get results of length:1360\n"
     ]
    }
   ],
   "source": [
    "perf=[] #performance list\n",
    "\n",
    "\n",
    "for poi_column in ['Is_Bus_stop','Is_Turn','Is_Signal','Is_Congestion','Is_Adhoc']:\n",
    "    feature_names=selected_feat[poi_column] #feature selection\n",
    "\n",
    "    for test_df_name in (zone_names+_7day_test):#iterator name\n",
    "\n",
    "        zoneName=test_df_name.split('_test_split.csv')[0].split('.')[0]\n",
    "        output_result_filename = f\"{poi_column}_test_result_{zoneName}_zone.csv\"\n",
    "\n",
    "        #train_data_processing\n",
    "        train_csv_df = pd.read_csv(os.path.join(parent_dir, train_df_name))\n",
    "        train_df = train_csv_df[feature_names+[poi_column]]\n",
    "\n",
    "        #test data processing\n",
    "        test_csv_df = pd.read_csv(os.path.join(parent_dir, test_df_name))\n",
    "        test_df = test_csv_df[feature_names+[poi_column]]\n",
    "\n",
    "\n",
    "        #SMOTE on training data & get features ,labels\n",
    "        X = train_df[feature_names].copy()\n",
    "        y = train_df[poi_column].copy()\n",
    "\n",
    "        smote = SMOTE()\n",
    "        X_resampled, y_resampled = smote.fit_sample(X, y)\n",
    "        train_data = X_resampled.copy()\n",
    "        train_labels = y_resampled.copy()\n",
    "\n",
    "        #Test set get features & labels\n",
    "        test_data = test_df[feature_names].values\n",
    "        test_labels = test_df[poi_column].values\n",
    "\n",
    "        #Training with Random Forest\n",
    "        performance,pred_test=get_metrics_from_the_model(train_data,train_labels,test_data,test_labels,poi_column,zoneName)\n",
    "\n",
    "        #adding to performance list\n",
    "        perf.append(performance)\n",
    "\n",
    "        #creating prediction file\n",
    "        test_csv_df[f'Prediction {poi_column}']=pred_test\n",
    "        result_df=test_csv_df[['start_date','start_time','end_time',f'Prediction {poi_column}']].copy()\n",
    "        result_df.columns=['instance_date', 'instance_start_time', 'instance_end_time',f'Prediction {poi_column}']\n",
    "        result_df.to_csv(os.path.join(parent_dir, output_result_filename), index=False)\n",
    "\n",
    "        print(f'Completed for POI:{poi_column} and Zone:{zoneName} get results of length:{result_df.shape[0]}')"
   ]
  },
  {
   "source": [
    "# Saving Performance for all Modelings"
   ],
   "cell_type": "markdown",
   "metadata": {}
  },
  {
   "cell_type": "code",
   "execution_count": 5,
   "metadata": {},
   "outputs": [
    {
     "output_type": "execute_result",
     "data": {
      "text/plain": [
       "              poi                zone    tr_acc  tr_precision  tr_recall  \\\n",
       "0     Is_Bus_stop             station  0.923584      0.925145   0.923584   \n",
       "1     Is_Bus_stop            dvc_more  0.916996      0.918467   0.916996   \n",
       "2     Is_Bus_stop           54ft_road  0.926219      0.927790   0.926219   \n",
       "3     Is_Bus_stop       junction_mall  0.919302      0.920559   0.919302   \n",
       "4     Is_Bus_stop  prantika_bus_stand  0.916337      0.917678   0.916337   \n",
       "5     Is_Bus_stop           54ft_test  0.923254      0.924714   0.923254   \n",
       "6         Is_Turn             station  0.920648      0.922704   0.920648   \n",
       "7         Is_Turn            dvc_more  0.920648      0.922973   0.920648   \n",
       "8         Is_Turn           54ft_road  0.922021      0.924459   0.922021   \n",
       "9         Is_Turn       junction_mall  0.916529      0.918470   0.916529   \n",
       "10        Is_Turn  prantika_bus_stand  0.924492      0.926375   0.924492   \n",
       "11        Is_Turn           54ft_test  0.919001      0.921825   0.919001   \n",
       "12      Is_Signal             station  0.957254      0.958288   0.957254   \n",
       "13      Is_Signal            dvc_more  0.957470      0.958523   0.957470   \n",
       "14      Is_Signal           54ft_road  0.956606      0.957476   0.956606   \n",
       "15      Is_Signal       junction_mall  0.954016      0.955300   0.954016   \n",
       "16      Is_Signal  prantika_bus_stand  0.954879      0.955852   0.954879   \n",
       "17      Is_Signal           54ft_test  0.957470      0.958600   0.957470   \n",
       "18  Is_Congestion             station  0.912289      0.913391   0.912289   \n",
       "19  Is_Congestion            dvc_more  0.908727      0.909936   0.908727   \n",
       "20  Is_Congestion           54ft_road  0.908949      0.910856   0.908949   \n",
       "21  Is_Congestion       junction_mall  0.905610      0.906292   0.905610   \n",
       "22  Is_Congestion  prantika_bus_stand  0.914737      0.915945   0.914737   \n",
       "23  Is_Congestion           54ft_test  0.911398      0.912576   0.911398   \n",
       "24       Is_Adhoc             station  0.850782      0.851696   0.850782   \n",
       "25       Is_Adhoc            dvc_more  0.853161      0.853350   0.853161   \n",
       "26       Is_Adhoc           54ft_road  0.844663      0.846566   0.844663   \n",
       "27       Is_Adhoc       junction_mall  0.851801      0.852146   0.851801   \n",
       "28       Is_Adhoc  prantika_bus_stand  0.844324      0.844897   0.844324   \n",
       "29       Is_Adhoc           54ft_test  0.850782      0.851601   0.850782   \n",
       "\n",
       "    tr_f1-score    te_acc  te_precision  te_recall  te_f1-score  \n",
       "0      0.923513  0.847222      0.848420   0.847222     0.836850  \n",
       "1      0.916923  0.926471      0.933407   0.926471     0.923039  \n",
       "2      0.926151  0.867347      0.876029   0.867347     0.869365  \n",
       "3      0.919241  0.851852      0.863360   0.851852     0.844786  \n",
       "4      0.916270  0.934426      1.000000   0.934426     0.966102  \n",
       "5      0.923188  0.863971      0.865345   0.863971     0.864406  \n",
       "6      0.920551  0.930556      0.950980   0.930556     0.935032  \n",
       "7      0.920539  0.779412      0.776726   0.779412     0.776462  \n",
       "8      0.921909  1.000000      1.000000   1.000000     1.000000  \n",
       "9      0.916433  0.851852      0.874644   0.851852     0.808642  \n",
       "10     0.924409  0.836066      0.878100   0.836066     0.832940  \n",
       "11     0.918865  0.819853      0.850861   0.819853     0.827401  \n",
       "12     0.957230  0.847222      0.840346   0.847222     0.841858  \n",
       "13     0.957445  0.970588      0.970588   0.970588     0.970588  \n",
       "14     0.956586  1.000000      1.000000   1.000000     1.000000  \n",
       "15     0.953983  0.481481      0.819121   0.481481     0.461456  \n",
       "16     0.954855  0.836066      1.000000   0.836066     0.910714  \n",
       "17     0.957444  0.897794      0.946857   0.897794     0.914007  \n",
       "18     0.912230  0.777778      0.908972   0.777778     0.827455  \n",
       "19     0.908659  0.544118      0.791922   0.544118     0.616801  \n",
       "20     0.908843  0.806122      0.876084   0.806122     0.835918  \n",
       "21     0.905570  0.629630      0.909465   0.629630     0.744108  \n",
       "22     0.914675  0.639344      0.969945   0.639344     0.750604  \n",
       "23     0.911335  0.606618      0.607106   0.606618     0.606822  \n",
       "24     0.850685  0.694444      0.974537   0.694444     0.795234  \n",
       "25     0.853142  0.632353      0.596678   0.632353     0.608328  \n",
       "26     0.844450  0.775510      0.860714   0.775510     0.786341  \n",
       "27     0.851765  0.666667      0.966667   0.666667     0.768147  \n",
       "28     0.844259  0.573770      0.956284   0.573770     0.717213  \n",
       "29     0.850695  0.697059      0.783996   0.697059     0.720387  "
      ],
      "text/html": "<div>\n<style scoped>\n    .dataframe tbody tr th:only-of-type {\n        vertical-align: middle;\n    }\n\n    .dataframe tbody tr th {\n        vertical-align: top;\n    }\n\n    .dataframe thead th {\n        text-align: right;\n    }\n</style>\n<table border=\"1\" class=\"dataframe\">\n  <thead>\n    <tr style=\"text-align: right;\">\n      <th></th>\n      <th>poi</th>\n      <th>zone</th>\n      <th>tr_acc</th>\n      <th>tr_precision</th>\n      <th>tr_recall</th>\n      <th>tr_f1-score</th>\n      <th>te_acc</th>\n      <th>te_precision</th>\n      <th>te_recall</th>\n      <th>te_f1-score</th>\n    </tr>\n  </thead>\n  <tbody>\n    <tr>\n      <td>0</td>\n      <td>Is_Bus_stop</td>\n      <td>station</td>\n      <td>0.923584</td>\n      <td>0.925145</td>\n      <td>0.923584</td>\n      <td>0.923513</td>\n      <td>0.847222</td>\n      <td>0.848420</td>\n      <td>0.847222</td>\n      <td>0.836850</td>\n    </tr>\n    <tr>\n      <td>1</td>\n      <td>Is_Bus_stop</td>\n      <td>dvc_more</td>\n      <td>0.916996</td>\n      <td>0.918467</td>\n      <td>0.916996</td>\n      <td>0.916923</td>\n      <td>0.926471</td>\n      <td>0.933407</td>\n      <td>0.926471</td>\n      <td>0.923039</td>\n    </tr>\n    <tr>\n      <td>2</td>\n      <td>Is_Bus_stop</td>\n      <td>54ft_road</td>\n      <td>0.926219</td>\n      <td>0.927790</td>\n      <td>0.926219</td>\n      <td>0.926151</td>\n      <td>0.867347</td>\n      <td>0.876029</td>\n      <td>0.867347</td>\n      <td>0.869365</td>\n    </tr>\n    <tr>\n      <td>3</td>\n      <td>Is_Bus_stop</td>\n      <td>junction_mall</td>\n      <td>0.919302</td>\n      <td>0.920559</td>\n      <td>0.919302</td>\n      <td>0.919241</td>\n      <td>0.851852</td>\n      <td>0.863360</td>\n      <td>0.851852</td>\n      <td>0.844786</td>\n    </tr>\n    <tr>\n      <td>4</td>\n      <td>Is_Bus_stop</td>\n      <td>prantika_bus_stand</td>\n      <td>0.916337</td>\n      <td>0.917678</td>\n      <td>0.916337</td>\n      <td>0.916270</td>\n      <td>0.934426</td>\n      <td>1.000000</td>\n      <td>0.934426</td>\n      <td>0.966102</td>\n    </tr>\n    <tr>\n      <td>5</td>\n      <td>Is_Bus_stop</td>\n      <td>54ft_test</td>\n      <td>0.923254</td>\n      <td>0.924714</td>\n      <td>0.923254</td>\n      <td>0.923188</td>\n      <td>0.863971</td>\n      <td>0.865345</td>\n      <td>0.863971</td>\n      <td>0.864406</td>\n    </tr>\n    <tr>\n      <td>6</td>\n      <td>Is_Turn</td>\n      <td>station</td>\n      <td>0.920648</td>\n      <td>0.922704</td>\n      <td>0.920648</td>\n      <td>0.920551</td>\n      <td>0.930556</td>\n      <td>0.950980</td>\n      <td>0.930556</td>\n      <td>0.935032</td>\n    </tr>\n    <tr>\n      <td>7</td>\n      <td>Is_Turn</td>\n      <td>dvc_more</td>\n      <td>0.920648</td>\n      <td>0.922973</td>\n      <td>0.920648</td>\n      <td>0.920539</td>\n      <td>0.779412</td>\n      <td>0.776726</td>\n      <td>0.779412</td>\n      <td>0.776462</td>\n    </tr>\n    <tr>\n      <td>8</td>\n      <td>Is_Turn</td>\n      <td>54ft_road</td>\n      <td>0.922021</td>\n      <td>0.924459</td>\n      <td>0.922021</td>\n      <td>0.921909</td>\n      <td>1.000000</td>\n      <td>1.000000</td>\n      <td>1.000000</td>\n      <td>1.000000</td>\n    </tr>\n    <tr>\n      <td>9</td>\n      <td>Is_Turn</td>\n      <td>junction_mall</td>\n      <td>0.916529</td>\n      <td>0.918470</td>\n      <td>0.916529</td>\n      <td>0.916433</td>\n      <td>0.851852</td>\n      <td>0.874644</td>\n      <td>0.851852</td>\n      <td>0.808642</td>\n    </tr>\n    <tr>\n      <td>10</td>\n      <td>Is_Turn</td>\n      <td>prantika_bus_stand</td>\n      <td>0.924492</td>\n      <td>0.926375</td>\n      <td>0.924492</td>\n      <td>0.924409</td>\n      <td>0.836066</td>\n      <td>0.878100</td>\n      <td>0.836066</td>\n      <td>0.832940</td>\n    </tr>\n    <tr>\n      <td>11</td>\n      <td>Is_Turn</td>\n      <td>54ft_test</td>\n      <td>0.919001</td>\n      <td>0.921825</td>\n      <td>0.919001</td>\n      <td>0.918865</td>\n      <td>0.819853</td>\n      <td>0.850861</td>\n      <td>0.819853</td>\n      <td>0.827401</td>\n    </tr>\n    <tr>\n      <td>12</td>\n      <td>Is_Signal</td>\n      <td>station</td>\n      <td>0.957254</td>\n      <td>0.958288</td>\n      <td>0.957254</td>\n      <td>0.957230</td>\n      <td>0.847222</td>\n      <td>0.840346</td>\n      <td>0.847222</td>\n      <td>0.841858</td>\n    </tr>\n    <tr>\n      <td>13</td>\n      <td>Is_Signal</td>\n      <td>dvc_more</td>\n      <td>0.957470</td>\n      <td>0.958523</td>\n      <td>0.957470</td>\n      <td>0.957445</td>\n      <td>0.970588</td>\n      <td>0.970588</td>\n      <td>0.970588</td>\n      <td>0.970588</td>\n    </tr>\n    <tr>\n      <td>14</td>\n      <td>Is_Signal</td>\n      <td>54ft_road</td>\n      <td>0.956606</td>\n      <td>0.957476</td>\n      <td>0.956606</td>\n      <td>0.956586</td>\n      <td>1.000000</td>\n      <td>1.000000</td>\n      <td>1.000000</td>\n      <td>1.000000</td>\n    </tr>\n    <tr>\n      <td>15</td>\n      <td>Is_Signal</td>\n      <td>junction_mall</td>\n      <td>0.954016</td>\n      <td>0.955300</td>\n      <td>0.954016</td>\n      <td>0.953983</td>\n      <td>0.481481</td>\n      <td>0.819121</td>\n      <td>0.481481</td>\n      <td>0.461456</td>\n    </tr>\n    <tr>\n      <td>16</td>\n      <td>Is_Signal</td>\n      <td>prantika_bus_stand</td>\n      <td>0.954879</td>\n      <td>0.955852</td>\n      <td>0.954879</td>\n      <td>0.954855</td>\n      <td>0.836066</td>\n      <td>1.000000</td>\n      <td>0.836066</td>\n      <td>0.910714</td>\n    </tr>\n    <tr>\n      <td>17</td>\n      <td>Is_Signal</td>\n      <td>54ft_test</td>\n      <td>0.957470</td>\n      <td>0.958600</td>\n      <td>0.957470</td>\n      <td>0.957444</td>\n      <td>0.897794</td>\n      <td>0.946857</td>\n      <td>0.897794</td>\n      <td>0.914007</td>\n    </tr>\n    <tr>\n      <td>18</td>\n      <td>Is_Congestion</td>\n      <td>station</td>\n      <td>0.912289</td>\n      <td>0.913391</td>\n      <td>0.912289</td>\n      <td>0.912230</td>\n      <td>0.777778</td>\n      <td>0.908972</td>\n      <td>0.777778</td>\n      <td>0.827455</td>\n    </tr>\n    <tr>\n      <td>19</td>\n      <td>Is_Congestion</td>\n      <td>dvc_more</td>\n      <td>0.908727</td>\n      <td>0.909936</td>\n      <td>0.908727</td>\n      <td>0.908659</td>\n      <td>0.544118</td>\n      <td>0.791922</td>\n      <td>0.544118</td>\n      <td>0.616801</td>\n    </tr>\n    <tr>\n      <td>20</td>\n      <td>Is_Congestion</td>\n      <td>54ft_road</td>\n      <td>0.908949</td>\n      <td>0.910856</td>\n      <td>0.908949</td>\n      <td>0.908843</td>\n      <td>0.806122</td>\n      <td>0.876084</td>\n      <td>0.806122</td>\n      <td>0.835918</td>\n    </tr>\n    <tr>\n      <td>21</td>\n      <td>Is_Congestion</td>\n      <td>junction_mall</td>\n      <td>0.905610</td>\n      <td>0.906292</td>\n      <td>0.905610</td>\n      <td>0.905570</td>\n      <td>0.629630</td>\n      <td>0.909465</td>\n      <td>0.629630</td>\n      <td>0.744108</td>\n    </tr>\n    <tr>\n      <td>22</td>\n      <td>Is_Congestion</td>\n      <td>prantika_bus_stand</td>\n      <td>0.914737</td>\n      <td>0.915945</td>\n      <td>0.914737</td>\n      <td>0.914675</td>\n      <td>0.639344</td>\n      <td>0.969945</td>\n      <td>0.639344</td>\n      <td>0.750604</td>\n    </tr>\n    <tr>\n      <td>23</td>\n      <td>Is_Congestion</td>\n      <td>54ft_test</td>\n      <td>0.911398</td>\n      <td>0.912576</td>\n      <td>0.911398</td>\n      <td>0.911335</td>\n      <td>0.606618</td>\n      <td>0.607106</td>\n      <td>0.606618</td>\n      <td>0.606822</td>\n    </tr>\n    <tr>\n      <td>24</td>\n      <td>Is_Adhoc</td>\n      <td>station</td>\n      <td>0.850782</td>\n      <td>0.851696</td>\n      <td>0.850782</td>\n      <td>0.850685</td>\n      <td>0.694444</td>\n      <td>0.974537</td>\n      <td>0.694444</td>\n      <td>0.795234</td>\n    </tr>\n    <tr>\n      <td>25</td>\n      <td>Is_Adhoc</td>\n      <td>dvc_more</td>\n      <td>0.853161</td>\n      <td>0.853350</td>\n      <td>0.853161</td>\n      <td>0.853142</td>\n      <td>0.632353</td>\n      <td>0.596678</td>\n      <td>0.632353</td>\n      <td>0.608328</td>\n    </tr>\n    <tr>\n      <td>26</td>\n      <td>Is_Adhoc</td>\n      <td>54ft_road</td>\n      <td>0.844663</td>\n      <td>0.846566</td>\n      <td>0.844663</td>\n      <td>0.844450</td>\n      <td>0.775510</td>\n      <td>0.860714</td>\n      <td>0.775510</td>\n      <td>0.786341</td>\n    </tr>\n    <tr>\n      <td>27</td>\n      <td>Is_Adhoc</td>\n      <td>junction_mall</td>\n      <td>0.851801</td>\n      <td>0.852146</td>\n      <td>0.851801</td>\n      <td>0.851765</td>\n      <td>0.666667</td>\n      <td>0.966667</td>\n      <td>0.666667</td>\n      <td>0.768147</td>\n    </tr>\n    <tr>\n      <td>28</td>\n      <td>Is_Adhoc</td>\n      <td>prantika_bus_stand</td>\n      <td>0.844324</td>\n      <td>0.844897</td>\n      <td>0.844324</td>\n      <td>0.844259</td>\n      <td>0.573770</td>\n      <td>0.956284</td>\n      <td>0.573770</td>\n      <td>0.717213</td>\n    </tr>\n    <tr>\n      <td>29</td>\n      <td>Is_Adhoc</td>\n      <td>54ft_test</td>\n      <td>0.850782</td>\n      <td>0.851601</td>\n      <td>0.850782</td>\n      <td>0.850695</td>\n      <td>0.697059</td>\n      <td>0.783996</td>\n      <td>0.697059</td>\n      <td>0.720387</td>\n    </tr>\n  </tbody>\n</table>\n</div>"
     },
     "metadata": {},
     "execution_count": 5
    }
   ],
   "source": [
    "df=pd.DataFrame(perf)\n",
    "df.to_csv(os.path.join(parent_dir, 'modeling_performance.csv'),index=False)\n",
    "df"
   ]
  },
  {
   "cell_type": "code",
   "execution_count": 6,
   "metadata": {},
   "outputs": [],
   "source": [
    "#NICE"
   ]
  }
 ],
 "metadata": {
  "kernelspec": {
   "display_name": "Python 3",
   "language": "python",
   "name": "python3"
  },
  "language_info": {
   "codemirror_mode": {
    "name": "ipython",
    "version": 3
   },
   "file_extension": ".py",
   "mimetype": "text/x-python",
   "name": "python",
   "nbconvert_exporter": "python",
   "pygments_lexer": "ipython3",
   "version": "3.7.4-final"
  }
 },
 "nbformat": 4,
 "nbformat_minor": 4
}