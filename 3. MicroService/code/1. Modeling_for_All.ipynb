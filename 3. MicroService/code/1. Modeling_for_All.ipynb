{
 "cells": [
  {
   "cell_type": "markdown",
   "metadata": {},
   "source": [
    "# Imports"
   ]
  },
  {
   "cell_type": "code",
   "execution_count": 1,
   "metadata": {},
   "outputs": [],
   "source": [
    "from sklearn.ensemble import RandomForestClassifier\n",
    "from sklearn.metrics import *\n",
    "from imblearn.over_sampling import SMOTE\n",
    "import pandas as pd\n",
    "import os"
   ]
  },
  {
   "cell_type": "markdown",
   "metadata": {},
   "source": [
    "## Constants"
   ]
  },
  {
   "cell_type": "code",
   "execution_count": 2,
   "metadata": {},
   "outputs": [],
   "source": [
    "parent_dir = r\"../data/54ft/\"\n",
    "train_df_name = r\"54ft_train.csv\"\n",
    "\n",
    "#feature # binding\n",
    "F=\\\n",
    "    {1:'stay_duration', #f1\n",
    "     2:'mfcc0',3:'mfcc1',4:'mfcc2',5:'mfcc3',6:'mfcc4', #f2,f3,f4,f5,f6\n",
    "     7:'wifi_count', 8:'edge_wifi_count', #f7,f8\n",
    "     9:'RSI', #f9\n",
    "     10:'human_made', 11:'natural_land',12:'road_exist_percent',13:'highly_populated_poi_exist'#f10,f11,f12,f13\n",
    "    }\n",
    "\n",
    "selected_feat=\\\n",
    "    {\n",
    "        'Is_Bus_stop':[F[e] for e in [10,12,11,1,8]],\n",
    "        'Is_Turn':[F[e] for e in [10,12,11,1,8,9]],\n",
    "        'Is_Signal':[F[e] for e in [12,11,10,8,9]],\n",
    "        'Is_Congestion':[F[e] for e in [2,11,10,9,12,8,6,1]],\n",
    "        'Is_Adhoc':[F[e] for e in [10,11,1,12,2]]\n",
    "    }\n",
    "\n",
    "\n",
    "#file Names\n",
    "zone_names=list(map(lambda e:f\"{e}_test_split.csv\",[\"station\",\"dvc_more\",\"54ft_road\",\"junction_mall\",\"prantika_bus_stand\"]))\n",
    "\n",
    "_7day_test=[\"54ft_test.csv\"]"
   ]
  },
  {
   "cell_type": "code",
   "execution_count": 3,
   "metadata": {},
   "outputs": [],
   "source": [
    "#Modeling function\n",
    "def get_metrics_from_the_model(train,labels_train,test,labels_test,poi,zone):\n",
    "    rf=RandomForestClassifier(n_estimators=100,max_depth=8,random_state=42)\n",
    "    rf.fit(train, labels_train)\n",
    "\n",
    "    pred_train= rf.predict(train)\n",
    "    pred_test= rf.predict(test)\n",
    "    \n",
    "    performance={'poi':poi,'zone':zone,\n",
    "                 'tr_acc':accuracy_score(labels_train,pred_train),\n",
    "                 'tr_precision':precision_score(labels_train,pred_train,average='weighted'),\n",
    "                 'tr_recall':recall_score(labels_train,pred_train,average='weighted'),\n",
    "                 'tr_f1-score':f1_score(labels_train,pred_train,average='weighted'),\n",
    "\n",
    "                 'te_acc':accuracy_score(labels_test,pred_test),\n",
    "                 'te_precision':precision_score(labels_test, pred_test,average='weighted'),\n",
    "                 'te_recall':recall_score(labels_test, pred_test,average='weighted'),\n",
    "                 'te_f1-score':f1_score(labels_test, pred_test,average='weighted')}\n",
    "    return performance,pred_test\n",
    "    "
   ]
  },
  {
   "cell_type": "markdown",
   "metadata": {},
   "source": [
    "## Modeling"
   ]
  },
  {
   "cell_type": "code",
   "execution_count": 4,
   "metadata": {},
   "outputs": [
    {
     "output_type": "stream",
     "name": "stdout",
     "text": [
      "Completed for POI:Is_Bus_stop and Zone:station get results of length:50\n",
      "Completed for POI:Is_Bus_stop and Zone:dvc_more get results of length:77\n",
      "Completed for POI:Is_Bus_stop and Zone:54ft_road get results of length:179\n",
      "Completed for POI:Is_Bus_stop and Zone:junction_mall get results of length:76\n",
      "Completed for POI:Is_Bus_stop and Zone:prantika_bus_stand get results of length:87\n",
      "Completed for POI:Is_Bus_stop and Zone:54ft_test get results of length:1361\n",
      "Completed for POI:Is_Turn and Zone:station get results of length:50\n",
      "Completed for POI:Is_Turn and Zone:dvc_more get results of length:77\n",
      "Completed for POI:Is_Turn and Zone:54ft_road get results of length:179\n",
      "Completed for POI:Is_Turn and Zone:junction_mall get results of length:76\n",
      "Completed for POI:Is_Turn and Zone:prantika_bus_stand get results of length:87\n",
      "Completed for POI:Is_Turn and Zone:54ft_test get results of length:1361\n",
      "Completed for POI:Is_Signal and Zone:station get results of length:50\n",
      "Completed for POI:Is_Signal and Zone:dvc_more get results of length:77\n",
      "Completed for POI:Is_Signal and Zone:54ft_road get results of length:179\n",
      "Completed for POI:Is_Signal and Zone:junction_mall get results of length:76\n",
      "Completed for POI:Is_Signal and Zone:prantika_bus_stand get results of length:87\n",
      "Completed for POI:Is_Signal and Zone:54ft_test get results of length:1361\n",
      "Completed for POI:Is_Congestion and Zone:station get results of length:50\n",
      "Completed for POI:Is_Congestion and Zone:dvc_more get results of length:77\n",
      "Completed for POI:Is_Congestion and Zone:54ft_road get results of length:179\n",
      "Completed for POI:Is_Congestion and Zone:junction_mall get results of length:76\n",
      "Completed for POI:Is_Congestion and Zone:prantika_bus_stand get results of length:87\n",
      "Completed for POI:Is_Congestion and Zone:54ft_test get results of length:1361\n",
      "Completed for POI:Is_Adhoc and Zone:station get results of length:50\n",
      "Completed for POI:Is_Adhoc and Zone:dvc_more get results of length:77\n",
      "Completed for POI:Is_Adhoc and Zone:54ft_road get results of length:179\n",
      "Completed for POI:Is_Adhoc and Zone:junction_mall get results of length:76\n",
      "Completed for POI:Is_Adhoc and Zone:prantika_bus_stand get results of length:87\n",
      "Completed for POI:Is_Adhoc and Zone:54ft_test get results of length:1361\n"
     ]
    }
   ],
   "source": [
    "perf=[] #performance list\n",
    "\n",
    "\n",
    "for poi_column in ['Is_Bus_stop','Is_Turn','Is_Signal','Is_Congestion','Is_Adhoc']:\n",
    "    feature_names=selected_feat[poi_column] #feature selection\n",
    "\n",
    "    for test_df_name in (zone_names+_7day_test):#iterator name\n",
    "\n",
    "        zoneName=test_df_name.split('_test_split.csv')[0].split('.')[0]\n",
    "        output_result_filename = f\"{poi_column}_test_result_{zoneName}_zone.csv\"\n",
    "\n",
    "        #train_data_processing\n",
    "        train_csv_df = pd.read_csv(os.path.join(parent_dir, train_df_name))\n",
    "        train_df = train_csv_df[feature_names+[poi_column]]\n",
    "\n",
    "        #test data processing\n",
    "        test_csv_df = pd.read_csv(os.path.join(parent_dir, test_df_name))\n",
    "        test_df = test_csv_df[feature_names+[poi_column]]\n",
    "\n",
    "\n",
    "        #SMOTE on training data & get features ,labels\n",
    "        X = train_df[feature_names].copy()\n",
    "        y = train_df[poi_column].copy()\n",
    "\n",
    "        smote = SMOTE()\n",
    "        X_resampled, y_resampled = smote.fit_sample(X, y)\n",
    "        train_data = X_resampled.copy()\n",
    "        train_labels = y_resampled.copy()\n",
    "\n",
    "        #Test set get features & labels\n",
    "        test_data = test_df[feature_names].values\n",
    "        test_labels = test_df[poi_column].values\n",
    "\n",
    "        #Training with Random Forest\n",
    "        performance,pred_test=get_metrics_from_the_model(train_data,train_labels,test_data,test_labels,poi_column,zoneName)\n",
    "\n",
    "        #adding to performance list\n",
    "        perf.append(performance)\n",
    "\n",
    "        #creating prediction file\n",
    "        test_csv_df[f'Prediction {poi_column}']=pred_test\n",
    "        result_df=test_csv_df[['start_date','start_time','end_time',f'Prediction {poi_column}']].copy()\n",
    "        result_df.columns=['instance_date', 'instance_start_time', 'instance_end_time',f'Prediction {poi_column}']\n",
    "        result_df.to_csv(os.path.join(parent_dir, output_result_filename), index=False)\n",
    "\n",
    "        print(f'Completed for POI:{poi_column} and Zone:{zoneName} get results of length:{result_df.shape[0]}')"
   ]
  },
  {
   "source": [
    "# Saving Performance for all Modelings"
   ],
   "cell_type": "markdown",
   "metadata": {}
  },
  {
   "cell_type": "code",
   "execution_count": 5,
   "metadata": {},
   "outputs": [
    {
     "output_type": "execute_result",
     "data": {
      "text/plain": [
       "              poi                zone    tr_acc  tr_precision  tr_recall  \\\n",
       "0     Is_Bus_stop             station  0.917333      0.917958   0.917333   \n",
       "1     Is_Bus_stop            dvc_more  0.916667      0.917475   0.916667   \n",
       "2     Is_Bus_stop           54ft_road  0.915667      0.916355   0.915667   \n",
       "3     Is_Bus_stop       junction_mall  0.916000      0.916908   0.916000   \n",
       "4     Is_Bus_stop  prantika_bus_stand  0.910333      0.911718   0.910333   \n",
       "5     Is_Bus_stop           54ft_test  0.921667      0.922412   0.921667   \n",
       "6         Is_Turn             station  0.911281      0.914384   0.911281   \n",
       "7         Is_Turn            dvc_more  0.912103      0.914505   0.912103   \n",
       "8         Is_Turn           54ft_road  0.911829      0.914479   0.911829   \n",
       "9         Is_Turn       junction_mall  0.910186      0.913688   0.910186   \n",
       "10        Is_Turn  prantika_bus_stand  0.905531      0.908630   0.905531   \n",
       "11        Is_Turn           54ft_test  0.911008      0.914474   0.911008   \n",
       "12      Is_Signal             station  0.950478      0.952833   0.950478   \n",
       "13      Is_Signal            dvc_more  0.951998      0.954332   0.951998   \n",
       "14      Is_Signal           54ft_road  0.953953      0.955889   0.953953   \n",
       "15      Is_Signal       junction_mall  0.950043      0.952453   0.950043   \n",
       "16      Is_Signal  prantika_bus_stand  0.946785      0.949753   0.946785   \n",
       "17      Is_Signal           54ft_test  0.949609      0.952628   0.949609   \n",
       "18  Is_Congestion             station  0.863995      0.865567   0.863995   \n",
       "19  Is_Congestion            dvc_more  0.874621      0.876269   0.874621   \n",
       "20  Is_Congestion           54ft_road  0.875835      0.879021   0.875835   \n",
       "21  Is_Congestion       junction_mall  0.864602      0.867333   0.864602   \n",
       "22  Is_Congestion  prantika_bus_stand  0.875531      0.878588   0.875531   \n",
       "23  Is_Congestion           54ft_test  0.869156      0.872040   0.869156   \n",
       "24       Is_Adhoc             station  0.817045      0.819064   0.817045   \n",
       "25       Is_Adhoc            dvc_more  0.815909      0.817642   0.815909   \n",
       "26       Is_Adhoc           54ft_road  0.834091      0.836602   0.834091   \n",
       "27       Is_Adhoc       junction_mall  0.818466      0.820827   0.818466   \n",
       "28       Is_Adhoc  prantika_bus_stand  0.823011      0.827454   0.823011   \n",
       "29       Is_Adhoc           54ft_test  0.823864      0.826562   0.823864   \n",
       "\n",
       "    tr_f1-score    te_acc  te_precision  te_recall  te_f1-score  \n",
       "0      0.917302  0.920000      0.929412   0.920000     0.918056  \n",
       "1      0.916626  0.870130      0.867349   0.870130     0.868022  \n",
       "2      0.915632  0.854749      0.883577   0.854749     0.847272  \n",
       "3      0.915954  0.907895      0.906741   0.907895     0.907121  \n",
       "4      0.910258  0.804598      0.940475   0.804598     0.863252  \n",
       "5      0.921632  0.838354      0.850705   0.838354     0.840185  \n",
       "6      0.911115  1.000000      1.000000   1.000000     1.000000  \n",
       "7      0.911975  0.701299      0.678623   0.701299     0.673460  \n",
       "8      0.911688  0.938547      0.947726   0.938547     0.941810  \n",
       "9      0.909996  0.868421      0.894205   0.868421     0.875346  \n",
       "10     0.905352  0.770115      0.775576   0.770115     0.771220  \n",
       "11     0.910821  0.822190      0.848158   0.822190     0.828858  \n",
       "12     0.950413  1.000000      1.000000   1.000000     1.000000  \n",
       "13     0.951937  0.948052      0.898802   0.948052     0.922771  \n",
       "14     0.953904  1.000000      1.000000   1.000000     1.000000  \n",
       "15     0.949977  0.592105      0.823088   0.592105     0.635456  \n",
       "16     0.946697  0.896552      1.000000   0.896552     0.945455  \n",
       "17     0.949525  0.909625      0.951446   0.909625     0.924011  \n",
       "18     0.863849  0.640000      0.731310   0.640000     0.680500  \n",
       "19     0.874483  0.870130      0.945793   0.870130     0.906385  \n",
       "20     0.875573  0.860335      0.987998   0.860335     0.919758  \n",
       "21     0.864350  0.486842      0.960873   0.486842     0.646251  \n",
       "22     0.875279  0.586207      1.000000   0.586207     0.739130  \n",
       "23     0.868902  0.782513      0.948285   0.782513     0.856827  \n",
       "24     0.816756  0.760000      0.763803   0.760000     0.756847  \n",
       "25     0.815658  0.662338      0.673200   0.662338     0.667362  \n",
       "26     0.833781  0.793296      0.813816   0.793296     0.782008  \n",
       "27     0.818131  0.802632      0.815243   0.802632     0.807603  \n",
       "28     0.822409  0.574713      0.573957   0.574713     0.574259  \n",
       "29     0.823499  0.708303      0.709359   0.708303     0.708720  "
      ],
      "text/html": "<div>\n<style scoped>\n    .dataframe tbody tr th:only-of-type {\n        vertical-align: middle;\n    }\n\n    .dataframe tbody tr th {\n        vertical-align: top;\n    }\n\n    .dataframe thead th {\n        text-align: right;\n    }\n</style>\n<table border=\"1\" class=\"dataframe\">\n  <thead>\n    <tr style=\"text-align: right;\">\n      <th></th>\n      <th>poi</th>\n      <th>zone</th>\n      <th>tr_acc</th>\n      <th>tr_precision</th>\n      <th>tr_recall</th>\n      <th>tr_f1-score</th>\n      <th>te_acc</th>\n      <th>te_precision</th>\n      <th>te_recall</th>\n      <th>te_f1-score</th>\n    </tr>\n  </thead>\n  <tbody>\n    <tr>\n      <td>0</td>\n      <td>Is_Bus_stop</td>\n      <td>station</td>\n      <td>0.917333</td>\n      <td>0.917958</td>\n      <td>0.917333</td>\n      <td>0.917302</td>\n      <td>0.920000</td>\n      <td>0.929412</td>\n      <td>0.920000</td>\n      <td>0.918056</td>\n    </tr>\n    <tr>\n      <td>1</td>\n      <td>Is_Bus_stop</td>\n      <td>dvc_more</td>\n      <td>0.916667</td>\n      <td>0.917475</td>\n      <td>0.916667</td>\n      <td>0.916626</td>\n      <td>0.870130</td>\n      <td>0.867349</td>\n      <td>0.870130</td>\n      <td>0.868022</td>\n    </tr>\n    <tr>\n      <td>2</td>\n      <td>Is_Bus_stop</td>\n      <td>54ft_road</td>\n      <td>0.915667</td>\n      <td>0.916355</td>\n      <td>0.915667</td>\n      <td>0.915632</td>\n      <td>0.854749</td>\n      <td>0.883577</td>\n      <td>0.854749</td>\n      <td>0.847272</td>\n    </tr>\n    <tr>\n      <td>3</td>\n      <td>Is_Bus_stop</td>\n      <td>junction_mall</td>\n      <td>0.916000</td>\n      <td>0.916908</td>\n      <td>0.916000</td>\n      <td>0.915954</td>\n      <td>0.907895</td>\n      <td>0.906741</td>\n      <td>0.907895</td>\n      <td>0.907121</td>\n    </tr>\n    <tr>\n      <td>4</td>\n      <td>Is_Bus_stop</td>\n      <td>prantika_bus_stand</td>\n      <td>0.910333</td>\n      <td>0.911718</td>\n      <td>0.910333</td>\n      <td>0.910258</td>\n      <td>0.804598</td>\n      <td>0.940475</td>\n      <td>0.804598</td>\n      <td>0.863252</td>\n    </tr>\n    <tr>\n      <td>5</td>\n      <td>Is_Bus_stop</td>\n      <td>54ft_test</td>\n      <td>0.921667</td>\n      <td>0.922412</td>\n      <td>0.921667</td>\n      <td>0.921632</td>\n      <td>0.838354</td>\n      <td>0.850705</td>\n      <td>0.838354</td>\n      <td>0.840185</td>\n    </tr>\n    <tr>\n      <td>6</td>\n      <td>Is_Turn</td>\n      <td>station</td>\n      <td>0.911281</td>\n      <td>0.914384</td>\n      <td>0.911281</td>\n      <td>0.911115</td>\n      <td>1.000000</td>\n      <td>1.000000</td>\n      <td>1.000000</td>\n      <td>1.000000</td>\n    </tr>\n    <tr>\n      <td>7</td>\n      <td>Is_Turn</td>\n      <td>dvc_more</td>\n      <td>0.912103</td>\n      <td>0.914505</td>\n      <td>0.912103</td>\n      <td>0.911975</td>\n      <td>0.701299</td>\n      <td>0.678623</td>\n      <td>0.701299</td>\n      <td>0.673460</td>\n    </tr>\n    <tr>\n      <td>8</td>\n      <td>Is_Turn</td>\n      <td>54ft_road</td>\n      <td>0.911829</td>\n      <td>0.914479</td>\n      <td>0.911829</td>\n      <td>0.911688</td>\n      <td>0.938547</td>\n      <td>0.947726</td>\n      <td>0.938547</td>\n      <td>0.941810</td>\n    </tr>\n    <tr>\n      <td>9</td>\n      <td>Is_Turn</td>\n      <td>junction_mall</td>\n      <td>0.910186</td>\n      <td>0.913688</td>\n      <td>0.910186</td>\n      <td>0.909996</td>\n      <td>0.868421</td>\n      <td>0.894205</td>\n      <td>0.868421</td>\n      <td>0.875346</td>\n    </tr>\n    <tr>\n      <td>10</td>\n      <td>Is_Turn</td>\n      <td>prantika_bus_stand</td>\n      <td>0.905531</td>\n      <td>0.908630</td>\n      <td>0.905531</td>\n      <td>0.905352</td>\n      <td>0.770115</td>\n      <td>0.775576</td>\n      <td>0.770115</td>\n      <td>0.771220</td>\n    </tr>\n    <tr>\n      <td>11</td>\n      <td>Is_Turn</td>\n      <td>54ft_test</td>\n      <td>0.911008</td>\n      <td>0.914474</td>\n      <td>0.911008</td>\n      <td>0.910821</td>\n      <td>0.822190</td>\n      <td>0.848158</td>\n      <td>0.822190</td>\n      <td>0.828858</td>\n    </tr>\n    <tr>\n      <td>12</td>\n      <td>Is_Signal</td>\n      <td>station</td>\n      <td>0.950478</td>\n      <td>0.952833</td>\n      <td>0.950478</td>\n      <td>0.950413</td>\n      <td>1.000000</td>\n      <td>1.000000</td>\n      <td>1.000000</td>\n      <td>1.000000</td>\n    </tr>\n    <tr>\n      <td>13</td>\n      <td>Is_Signal</td>\n      <td>dvc_more</td>\n      <td>0.951998</td>\n      <td>0.954332</td>\n      <td>0.951998</td>\n      <td>0.951937</td>\n      <td>0.948052</td>\n      <td>0.898802</td>\n      <td>0.948052</td>\n      <td>0.922771</td>\n    </tr>\n    <tr>\n      <td>14</td>\n      <td>Is_Signal</td>\n      <td>54ft_road</td>\n      <td>0.953953</td>\n      <td>0.955889</td>\n      <td>0.953953</td>\n      <td>0.953904</td>\n      <td>1.000000</td>\n      <td>1.000000</td>\n      <td>1.000000</td>\n      <td>1.000000</td>\n    </tr>\n    <tr>\n      <td>15</td>\n      <td>Is_Signal</td>\n      <td>junction_mall</td>\n      <td>0.950043</td>\n      <td>0.952453</td>\n      <td>0.950043</td>\n      <td>0.949977</td>\n      <td>0.592105</td>\n      <td>0.823088</td>\n      <td>0.592105</td>\n      <td>0.635456</td>\n    </tr>\n    <tr>\n      <td>16</td>\n      <td>Is_Signal</td>\n      <td>prantika_bus_stand</td>\n      <td>0.946785</td>\n      <td>0.949753</td>\n      <td>0.946785</td>\n      <td>0.946697</td>\n      <td>0.896552</td>\n      <td>1.000000</td>\n      <td>0.896552</td>\n      <td>0.945455</td>\n    </tr>\n    <tr>\n      <td>17</td>\n      <td>Is_Signal</td>\n      <td>54ft_test</td>\n      <td>0.949609</td>\n      <td>0.952628</td>\n      <td>0.949609</td>\n      <td>0.949525</td>\n      <td>0.909625</td>\n      <td>0.951446</td>\n      <td>0.909625</td>\n      <td>0.924011</td>\n    </tr>\n    <tr>\n      <td>18</td>\n      <td>Is_Congestion</td>\n      <td>station</td>\n      <td>0.863995</td>\n      <td>0.865567</td>\n      <td>0.863995</td>\n      <td>0.863849</td>\n      <td>0.640000</td>\n      <td>0.731310</td>\n      <td>0.640000</td>\n      <td>0.680500</td>\n    </tr>\n    <tr>\n      <td>19</td>\n      <td>Is_Congestion</td>\n      <td>dvc_more</td>\n      <td>0.874621</td>\n      <td>0.876269</td>\n      <td>0.874621</td>\n      <td>0.874483</td>\n      <td>0.870130</td>\n      <td>0.945793</td>\n      <td>0.870130</td>\n      <td>0.906385</td>\n    </tr>\n    <tr>\n      <td>20</td>\n      <td>Is_Congestion</td>\n      <td>54ft_road</td>\n      <td>0.875835</td>\n      <td>0.879021</td>\n      <td>0.875835</td>\n      <td>0.875573</td>\n      <td>0.860335</td>\n      <td>0.987998</td>\n      <td>0.860335</td>\n      <td>0.919758</td>\n    </tr>\n    <tr>\n      <td>21</td>\n      <td>Is_Congestion</td>\n      <td>junction_mall</td>\n      <td>0.864602</td>\n      <td>0.867333</td>\n      <td>0.864602</td>\n      <td>0.864350</td>\n      <td>0.486842</td>\n      <td>0.960873</td>\n      <td>0.486842</td>\n      <td>0.646251</td>\n    </tr>\n    <tr>\n      <td>22</td>\n      <td>Is_Congestion</td>\n      <td>prantika_bus_stand</td>\n      <td>0.875531</td>\n      <td>0.878588</td>\n      <td>0.875531</td>\n      <td>0.875279</td>\n      <td>0.586207</td>\n      <td>1.000000</td>\n      <td>0.586207</td>\n      <td>0.739130</td>\n    </tr>\n    <tr>\n      <td>23</td>\n      <td>Is_Congestion</td>\n      <td>54ft_test</td>\n      <td>0.869156</td>\n      <td>0.872040</td>\n      <td>0.869156</td>\n      <td>0.868902</td>\n      <td>0.782513</td>\n      <td>0.948285</td>\n      <td>0.782513</td>\n      <td>0.856827</td>\n    </tr>\n    <tr>\n      <td>24</td>\n      <td>Is_Adhoc</td>\n      <td>station</td>\n      <td>0.817045</td>\n      <td>0.819064</td>\n      <td>0.817045</td>\n      <td>0.816756</td>\n      <td>0.760000</td>\n      <td>0.763803</td>\n      <td>0.760000</td>\n      <td>0.756847</td>\n    </tr>\n    <tr>\n      <td>25</td>\n      <td>Is_Adhoc</td>\n      <td>dvc_more</td>\n      <td>0.815909</td>\n      <td>0.817642</td>\n      <td>0.815909</td>\n      <td>0.815658</td>\n      <td>0.662338</td>\n      <td>0.673200</td>\n      <td>0.662338</td>\n      <td>0.667362</td>\n    </tr>\n    <tr>\n      <td>26</td>\n      <td>Is_Adhoc</td>\n      <td>54ft_road</td>\n      <td>0.834091</td>\n      <td>0.836602</td>\n      <td>0.834091</td>\n      <td>0.833781</td>\n      <td>0.793296</td>\n      <td>0.813816</td>\n      <td>0.793296</td>\n      <td>0.782008</td>\n    </tr>\n    <tr>\n      <td>27</td>\n      <td>Is_Adhoc</td>\n      <td>junction_mall</td>\n      <td>0.818466</td>\n      <td>0.820827</td>\n      <td>0.818466</td>\n      <td>0.818131</td>\n      <td>0.802632</td>\n      <td>0.815243</td>\n      <td>0.802632</td>\n      <td>0.807603</td>\n    </tr>\n    <tr>\n      <td>28</td>\n      <td>Is_Adhoc</td>\n      <td>prantika_bus_stand</td>\n      <td>0.823011</td>\n      <td>0.827454</td>\n      <td>0.823011</td>\n      <td>0.822409</td>\n      <td>0.574713</td>\n      <td>0.573957</td>\n      <td>0.574713</td>\n      <td>0.574259</td>\n    </tr>\n    <tr>\n      <td>29</td>\n      <td>Is_Adhoc</td>\n      <td>54ft_test</td>\n      <td>0.823864</td>\n      <td>0.826562</td>\n      <td>0.823864</td>\n      <td>0.823499</td>\n      <td>0.708303</td>\n      <td>0.709359</td>\n      <td>0.708303</td>\n      <td>0.708720</td>\n    </tr>\n  </tbody>\n</table>\n</div>"
     },
     "metadata": {},
     "execution_count": 5
    }
   ],
   "source": [
    "df=pd.DataFrame(perf)\n",
    "df.to_csv(os.path.join(parent_dir, 'modeling_performance.csv'),index=False)\n",
    "df"
   ]
  },
  {
   "cell_type": "code",
   "execution_count": 6,
   "metadata": {},
   "outputs": [],
   "source": [
    "#NICE"
   ]
  },
  {
   "source": [
    "# On only Testing Dataset"
   ],
   "cell_type": "markdown",
   "metadata": {}
  },
  {
   "cell_type": "code",
   "execution_count": 7,
   "metadata": {},
   "outputs": [
    {
     "output_type": "execute_result",
     "data": {
      "text/plain": [
       "              poi       zone    tr_acc  tr_precision  tr_recall  tr_f1-score  \\\n",
       "5     Is_Bus_stop  54ft_test  0.921667      0.922412   0.921667     0.921632   \n",
       "11        Is_Turn  54ft_test  0.911008      0.914474   0.911008     0.910821   \n",
       "17      Is_Signal  54ft_test  0.949609      0.952628   0.949609     0.949525   \n",
       "23  Is_Congestion  54ft_test  0.869156      0.872040   0.869156     0.868902   \n",
       "29       Is_Adhoc  54ft_test  0.823864      0.826562   0.823864     0.823499   \n",
       "\n",
       "      te_acc  te_precision  te_recall  te_f1-score  \n",
       "5   0.838354      0.850705   0.838354     0.840185  \n",
       "11  0.822190      0.848158   0.822190     0.828858  \n",
       "17  0.909625      0.951446   0.909625     0.924011  \n",
       "23  0.782513      0.948285   0.782513     0.856827  \n",
       "29  0.708303      0.709359   0.708303     0.708720  "
      ],
      "text/html": "<div>\n<style scoped>\n    .dataframe tbody tr th:only-of-type {\n        vertical-align: middle;\n    }\n\n    .dataframe tbody tr th {\n        vertical-align: top;\n    }\n\n    .dataframe thead th {\n        text-align: right;\n    }\n</style>\n<table border=\"1\" class=\"dataframe\">\n  <thead>\n    <tr style=\"text-align: right;\">\n      <th></th>\n      <th>poi</th>\n      <th>zone</th>\n      <th>tr_acc</th>\n      <th>tr_precision</th>\n      <th>tr_recall</th>\n      <th>tr_f1-score</th>\n      <th>te_acc</th>\n      <th>te_precision</th>\n      <th>te_recall</th>\n      <th>te_f1-score</th>\n    </tr>\n  </thead>\n  <tbody>\n    <tr>\n      <td>5</td>\n      <td>Is_Bus_stop</td>\n      <td>54ft_test</td>\n      <td>0.921667</td>\n      <td>0.922412</td>\n      <td>0.921667</td>\n      <td>0.921632</td>\n      <td>0.838354</td>\n      <td>0.850705</td>\n      <td>0.838354</td>\n      <td>0.840185</td>\n    </tr>\n    <tr>\n      <td>11</td>\n      <td>Is_Turn</td>\n      <td>54ft_test</td>\n      <td>0.911008</td>\n      <td>0.914474</td>\n      <td>0.911008</td>\n      <td>0.910821</td>\n      <td>0.822190</td>\n      <td>0.848158</td>\n      <td>0.822190</td>\n      <td>0.828858</td>\n    </tr>\n    <tr>\n      <td>17</td>\n      <td>Is_Signal</td>\n      <td>54ft_test</td>\n      <td>0.949609</td>\n      <td>0.952628</td>\n      <td>0.949609</td>\n      <td>0.949525</td>\n      <td>0.909625</td>\n      <td>0.951446</td>\n      <td>0.909625</td>\n      <td>0.924011</td>\n    </tr>\n    <tr>\n      <td>23</td>\n      <td>Is_Congestion</td>\n      <td>54ft_test</td>\n      <td>0.869156</td>\n      <td>0.872040</td>\n      <td>0.869156</td>\n      <td>0.868902</td>\n      <td>0.782513</td>\n      <td>0.948285</td>\n      <td>0.782513</td>\n      <td>0.856827</td>\n    </tr>\n    <tr>\n      <td>29</td>\n      <td>Is_Adhoc</td>\n      <td>54ft_test</td>\n      <td>0.823864</td>\n      <td>0.826562</td>\n      <td>0.823864</td>\n      <td>0.823499</td>\n      <td>0.708303</td>\n      <td>0.709359</td>\n      <td>0.708303</td>\n      <td>0.708720</td>\n    </tr>\n  </tbody>\n</table>\n</div>"
     },
     "metadata": {},
     "execution_count": 7
    }
   ],
   "source": [
    "df_pref_testset=df[df.zone=='54ft_test'].copy()\n",
    "df_pref_testset.to_csv(os.path.join(parent_dir, 'modeling_performance_on_testset.csv'),index=False)\n",
    "df_pref_testset"
   ]
  },
  {
   "cell_type": "code",
   "execution_count": 8,
   "metadata": {},
   "outputs": [
    {
     "output_type": "stream",
     "name": "stdout",
     "text": [
      "Mean f1: 0.8317201121905864 Std f1: 0.0780332268657584\n"
     ]
    }
   ],
   "source": [
    "print('Mean f1:',df_pref_testset['te_f1-score'].mean(),'Std f1:',df_pref_testset['te_f1-score'].std())"
   ]
  },
  {
   "cell_type": "code",
   "execution_count": 9,
   "metadata": {},
   "outputs": [],
   "source": [
    "#DONE"
   ]
  }
 ],
 "metadata": {
  "kernelspec": {
   "display_name": "Python 3",
   "language": "python",
   "name": "python3"
  },
  "language_info": {
   "codemirror_mode": {
    "name": "ipython",
    "version": 3
   },
   "file_extension": ".py",
   "mimetype": "text/x-python",
   "name": "python",
   "nbconvert_exporter": "python",
   "pygments_lexer": "ipython3",
   "version": "3.7.4-final"
  }
 },
 "nbformat": 4,
 "nbformat_minor": 4
}