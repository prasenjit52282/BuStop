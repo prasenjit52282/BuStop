{
 "cells": [
  {
   "cell_type": "markdown",
   "metadata": {},
   "source": [
    "# Imports"
   ]
  },
  {
   "cell_type": "code",
   "execution_count": 1,
   "metadata": {},
   "outputs": [],
   "source": [
    "from sklearn.ensemble import RandomForestClassifier\n",
    "from sklearn.metrics import *\n",
    "from imblearn.over_sampling import SMOTE\n",
    "import pandas as pd\n",
    "import os"
   ]
  },
  {
   "cell_type": "markdown",
   "metadata": {},
   "source": [
    "## Constants"
   ]
  },
  {
   "cell_type": "code",
   "execution_count": 2,
   "metadata": {},
   "outputs": [],
   "source": [
    "parent_dir = r\"../data/54ft/\"\n",
    "train_df_name = r\"54ft_train.csv\"\n",
    "\n",
    "#feature # binding\n",
    "F=\\\n",
    "    {1:'stay_duration', #f1\n",
    "     2:'mfcc0',3:'mfcc1',4:'mfcc2',5:'mfcc3',6:'mfcc4', #f2,f3,f4,f5,f6\n",
    "     7:'wifi_count', 8:'edge_wifi_count', #f7,f8\n",
    "     9:'RSI', #f9\n",
    "     10:'human_made', 11:'natural_land',12:'road_exist_percent',13:'highly_populated_poi_exist'#f10,f11,f12,f13\n",
    "    }\n",
    "\n",
    "selected_feat=\\\n",
    "    {\n",
    "        'Is_Bus_stop':[F[e] for e in [10,12,11,1,8]],\n",
    "        'Is_Turn':[F[e] for e in [10,12,11,1,8,9]],\n",
    "        'Is_Signal':[F[e] for e in [12,11,10,8,9]],\n",
    "        'Is_Congestion':[F[e] for e in [2,11,10,9,12,8,6,1]],\n",
    "        'Is_Adhoc':[F[e] for e in [10,11,1,12,2]]\n",
    "    }\n",
    "\n",
    "\n",
    "#file Names\n",
    "zone_names=list(map(lambda e:f\"{e}_test_split.csv\",[\"station\",\"dvc_more\",\"54ft_road\",\"junction_mall\",\"prantika_bus_stand\"]))\n",
    "\n",
    "_7day_test=[\"54ft_test.csv\"]"
   ]
  },
  {
   "cell_type": "code",
   "execution_count": 3,
   "metadata": {},
   "outputs": [],
   "source": [
    "#Modeling function\n",
    "def get_metrics_from_the_model(train,labels_train,test,labels_test,poi,zone):\n",
    "    rf=RandomForestClassifier(n_estimators=100,max_depth=8)\n",
    "    rf.fit(train, labels_train)\n",
    "\n",
    "    pred_train= rf.predict(train)\n",
    "    pred_test= rf.predict(test)\n",
    "    \n",
    "    performance={'poi':poi,'zone':zone,\n",
    "                 'tr_acc':accuracy_score(labels_train,pred_train),\n",
    "                 'tr_precision':precision_score(labels_train,pred_train,average='weighted'),\n",
    "                 'tr_recall':recall_score(labels_train,pred_train,average='weighted'),\n",
    "                 'tr_f1-score':f1_score(labels_train,pred_train,average='weighted'),\n",
    "\n",
    "                 'te_acc':accuracy_score(labels_test,pred_test),\n",
    "                 'te_precision':precision_score(labels_test, pred_test,average='weighted'),\n",
    "                 'te_recall':recall_score(labels_test, pred_test,average='weighted'),\n",
    "                 'te_f1-score':f1_score(labels_test, pred_test,average='weighted')}\n",
    "    return performance,pred_test\n",
    "    "
   ]
  },
  {
   "cell_type": "markdown",
   "metadata": {},
   "source": [
    "## Modeling"
   ]
  },
  {
   "cell_type": "code",
   "execution_count": 4,
   "metadata": {},
   "outputs": [
    {
     "output_type": "stream",
     "name": "stdout",
     "text": [
      "Completed for POI:Is_Bus_stop and Zone:station get results of length:72\n",
      "Completed for POI:Is_Bus_stop and Zone:dvc_more get results of length:68\n",
      "Completed for POI:Is_Bus_stop and Zone:54ft_road get results of length:98\n",
      "Completed for POI:Is_Bus_stop and Zone:junction_mall get results of length:54\n",
      "Completed for POI:Is_Bus_stop and Zone:prantika_bus_stand get results of length:61\n",
      "Completed for POI:Is_Bus_stop and Zone:54ft_test get results of length:1360\n",
      "Completed for POI:Is_Turn and Zone:station get results of length:72\n",
      "Completed for POI:Is_Turn and Zone:dvc_more get results of length:68\n",
      "Completed for POI:Is_Turn and Zone:54ft_road get results of length:98\n",
      "Completed for POI:Is_Turn and Zone:junction_mall get results of length:54\n",
      "Completed for POI:Is_Turn and Zone:prantika_bus_stand get results of length:61\n",
      "Completed for POI:Is_Turn and Zone:54ft_test get results of length:1360\n",
      "Completed for POI:Is_Signal and Zone:station get results of length:72\n",
      "Completed for POI:Is_Signal and Zone:dvc_more get results of length:68\n",
      "Completed for POI:Is_Signal and Zone:54ft_road get results of length:98\n",
      "Completed for POI:Is_Signal and Zone:junction_mall get results of length:54\n",
      "Completed for POI:Is_Signal and Zone:prantika_bus_stand get results of length:61\n",
      "Completed for POI:Is_Signal and Zone:54ft_test get results of length:1360\n",
      "Completed for POI:Is_Congestion and Zone:station get results of length:72\n",
      "Completed for POI:Is_Congestion and Zone:dvc_more get results of length:68\n",
      "Completed for POI:Is_Congestion and Zone:54ft_road get results of length:98\n",
      "Completed for POI:Is_Congestion and Zone:junction_mall get results of length:54\n",
      "Completed for POI:Is_Congestion and Zone:prantika_bus_stand get results of length:61\n",
      "Completed for POI:Is_Congestion and Zone:54ft_test get results of length:1360\n",
      "Completed for POI:Is_Adhoc and Zone:station get results of length:72\n",
      "Completed for POI:Is_Adhoc and Zone:dvc_more get results of length:68\n",
      "Completed for POI:Is_Adhoc and Zone:54ft_road get results of length:98\n",
      "Completed for POI:Is_Adhoc and Zone:junction_mall get results of length:54\n",
      "Completed for POI:Is_Adhoc and Zone:prantika_bus_stand get results of length:61\n",
      "Completed for POI:Is_Adhoc and Zone:54ft_test get results of length:1360\n"
     ]
    }
   ],
   "source": [
    "perf=[] #performance list\n",
    "\n",
    "\n",
    "for poi_column in ['Is_Bus_stop','Is_Turn','Is_Signal','Is_Congestion','Is_Adhoc']:\n",
    "    feature_names=selected_feat[poi_column] #feature selection\n",
    "\n",
    "    for test_df_name in (zone_names+_7day_test):#iterator name\n",
    "\n",
    "        zoneName=test_df_name.split('_test_split.csv')[0].split('.')[0]\n",
    "        output_result_filename = f\"{poi_column}_test_result_{zoneName}_zone.csv\"\n",
    "\n",
    "        #train_data_processing\n",
    "        train_csv_df = pd.read_csv(os.path.join(parent_dir, train_df_name))\n",
    "        train_df = train_csv_df[feature_names+[poi_column]]\n",
    "\n",
    "        #test data processing\n",
    "        test_csv_df = pd.read_csv(os.path.join(parent_dir, test_df_name))\n",
    "        test_df = test_csv_df[feature_names+[poi_column]]\n",
    "\n",
    "\n",
    "        #SMOTE on training data & get features ,labels\n",
    "        X = train_df[feature_names].copy()\n",
    "        y = train_df[poi_column].copy()\n",
    "\n",
    "        smote = SMOTE()\n",
    "        X_resampled, y_resampled = smote.fit_sample(X, y)\n",
    "        train_data = X_resampled.copy()\n",
    "        train_labels = y_resampled.copy()\n",
    "\n",
    "        #Test set get features & labels\n",
    "        test_data = test_df[feature_names].values\n",
    "        test_labels = test_df[poi_column].values\n",
    "\n",
    "        #Training with Random Forest\n",
    "        performance,pred_test=get_metrics_from_the_model(train_data,train_labels,test_data,test_labels,poi_column,zoneName)\n",
    "\n",
    "        #adding to performance list\n",
    "        perf.append(performance)\n",
    "\n",
    "        #creating prediction file\n",
    "        test_csv_df[f'Prediction {poi_column}']=pred_test\n",
    "        result_df=test_csv_df[['start_date','start_time','end_time',f'Prediction {poi_column}']].copy()\n",
    "        result_df.columns=['instance_date', 'instance_start_time', 'instance_end_time',f'Prediction {poi_column}']\n",
    "        result_df.to_csv(os.path.join(parent_dir, output_result_filename), index=False)\n",
    "\n",
    "        print(f'Completed for POI:{poi_column} and Zone:{zoneName} get results of length:{result_df.shape[0]}')"
   ]
  },
  {
   "source": [
    "# Saving Performance for all Modelings"
   ],
   "cell_type": "markdown",
   "metadata": {}
  },
  {
   "cell_type": "code",
   "execution_count": 5,
   "metadata": {},
   "outputs": [
    {
     "output_type": "execute_result",
     "data": {
      "text/plain": [
       "              poi                zone    tr_acc  tr_precision  tr_recall  \\\n",
       "0     Is_Bus_stop             station  0.923254      0.924235   0.923254   \n",
       "1     Is_Bus_stop            dvc_more  0.921278      0.922481   0.921278   \n",
       "2     Is_Bus_stop           54ft_road  0.921937      0.923202   0.921937   \n",
       "3     Is_Bus_stop       junction_mall  0.924242      0.925146   0.924242   \n",
       "4     Is_Bus_stop  prantika_bus_stand  0.924242      0.925545   0.924242   \n",
       "5     Is_Bus_stop           54ft_test  0.917984      0.918953   0.917984   \n",
       "6         Is_Turn             station  0.922570      0.923848   0.922570   \n",
       "7         Is_Turn            dvc_more  0.916804      0.918090   0.916804   \n",
       "8         Is_Turn           54ft_road  0.914607      0.917793   0.914607   \n",
       "9         Is_Turn       junction_mall  0.921746      0.923377   0.921746   \n",
       "10        Is_Turn  prantika_bus_stand  0.922570      0.925083   0.922570   \n",
       "11        Is_Turn           54ft_test  0.921746      0.924218   0.921746   \n",
       "12      Is_Signal             station  0.961788      0.962739   0.961788   \n",
       "13      Is_Signal            dvc_more  0.956606      0.957657   0.956606   \n",
       "14      Is_Signal           54ft_road  0.956822      0.958011   0.956822   \n",
       "15      Is_Signal       junction_mall  0.957686      0.958959   0.957686   \n",
       "16      Is_Signal  prantika_bus_stand  0.954879      0.955816   0.954879   \n",
       "17      Is_Signal           54ft_test  0.958117      0.959434   0.958117   \n",
       "18  Is_Congestion             station  0.909840      0.912286   0.909840   \n",
       "19  Is_Congestion            dvc_more  0.908949      0.910062   0.908949   \n",
       "20  Is_Congestion           54ft_road  0.910953      0.912697   0.910953   \n",
       "21  Is_Congestion       junction_mall  0.904274      0.905282   0.904274   \n",
       "22  Is_Congestion  prantika_bus_stand  0.912289      0.914287   0.912289   \n",
       "23  Is_Congestion           54ft_test  0.908949      0.910261   0.908949   \n",
       "24       Is_Adhoc             station  0.850782      0.851426   0.850782   \n",
       "25       Is_Adhoc            dvc_more  0.852141      0.852964   0.852141   \n",
       "26       Is_Adhoc           54ft_road  0.843644      0.844380   0.843644   \n",
       "27       Is_Adhoc       junction_mall  0.854181      0.854543   0.854181   \n",
       "28       Is_Adhoc  prantika_bus_stand  0.851462      0.852282   0.851462   \n",
       "29       Is_Adhoc           54ft_test  0.847383      0.847500   0.847383   \n",
       "\n",
       "    tr_f1-score    te_acc  te_precision  te_recall  te_f1-score  \n",
       "0      0.923210  0.847222      0.848420   0.847222     0.836850  \n",
       "1      0.921222  0.926471      0.933407   0.926471     0.923039  \n",
       "2      0.921878  0.826531      0.827956   0.826531     0.827153  \n",
       "3      0.924202  0.833333      0.848655   0.833333     0.823434  \n",
       "4      0.924184  0.934426      1.000000   0.934426     0.966102  \n",
       "5      0.917937  0.865441      0.866807   0.865441     0.865872  \n",
       "6      0.922512  0.916667      0.933036   0.916667     0.921182  \n",
       "7      0.916740  0.750000      0.746201   0.750000     0.743725  \n",
       "8      0.914444  1.000000      1.000000   1.000000     1.000000  \n",
       "9      0.921671  0.851852      0.874644   0.851852     0.808642  \n",
       "10     0.922455  0.819672      0.839180   0.819672     0.818309  \n",
       "11     0.921632  0.838971      0.865897   0.838971     0.845375  \n",
       "12     0.961768  0.861111      0.856889   0.861111     0.849822  \n",
       "13     0.956581  0.985294      0.970804   0.985294     0.977996  \n",
       "14     0.956794  1.000000      1.000000   1.000000     1.000000  \n",
       "15     0.957656  0.500000      0.767857   0.500000     0.495712  \n",
       "16     0.954856  0.852459      1.000000   0.852459     0.920354  \n",
       "17     0.958087  0.891176      0.942971   0.891176     0.908694  \n",
       "18     0.909706  0.763889      0.907665   0.763889     0.817932  \n",
       "19     0.908887  0.602941      0.804517   0.602941     0.666787  \n",
       "20     0.910859  0.877551      0.890677   0.877551     0.883666  \n",
       "21     0.904215  0.648148      0.910911   0.648148     0.757387  \n",
       "22     0.912183  0.655738      0.970064   0.655738     0.763062  \n",
       "23     0.908876  0.598529      0.599889   0.598529     0.598956  \n",
       "24     0.850713  0.736111      0.974868   0.736111     0.824390  \n",
       "25     0.852055  0.544118      0.524804   0.544118     0.533633  \n",
       "26     0.843560  0.734694      0.833095   0.734694     0.747377  \n",
       "27     0.854144  0.666667      0.966667   0.666667     0.768147  \n",
       "28     0.851375  0.573770      0.956284   0.573770     0.717213  \n",
       "29     0.847370  0.683088      0.790377   0.683088     0.708801  "
      ],
      "text/html": "<div>\n<style scoped>\n    .dataframe tbody tr th:only-of-type {\n        vertical-align: middle;\n    }\n\n    .dataframe tbody tr th {\n        vertical-align: top;\n    }\n\n    .dataframe thead th {\n        text-align: right;\n    }\n</style>\n<table border=\"1\" class=\"dataframe\">\n  <thead>\n    <tr style=\"text-align: right;\">\n      <th></th>\n      <th>poi</th>\n      <th>zone</th>\n      <th>tr_acc</th>\n      <th>tr_precision</th>\n      <th>tr_recall</th>\n      <th>tr_f1-score</th>\n      <th>te_acc</th>\n      <th>te_precision</th>\n      <th>te_recall</th>\n      <th>te_f1-score</th>\n    </tr>\n  </thead>\n  <tbody>\n    <tr>\n      <td>0</td>\n      <td>Is_Bus_stop</td>\n      <td>station</td>\n      <td>0.923254</td>\n      <td>0.924235</td>\n      <td>0.923254</td>\n      <td>0.923210</td>\n      <td>0.847222</td>\n      <td>0.848420</td>\n      <td>0.847222</td>\n      <td>0.836850</td>\n    </tr>\n    <tr>\n      <td>1</td>\n      <td>Is_Bus_stop</td>\n      <td>dvc_more</td>\n      <td>0.921278</td>\n      <td>0.922481</td>\n      <td>0.921278</td>\n      <td>0.921222</td>\n      <td>0.926471</td>\n      <td>0.933407</td>\n      <td>0.926471</td>\n      <td>0.923039</td>\n    </tr>\n    <tr>\n      <td>2</td>\n      <td>Is_Bus_stop</td>\n      <td>54ft_road</td>\n      <td>0.921937</td>\n      <td>0.923202</td>\n      <td>0.921937</td>\n      <td>0.921878</td>\n      <td>0.826531</td>\n      <td>0.827956</td>\n      <td>0.826531</td>\n      <td>0.827153</td>\n    </tr>\n    <tr>\n      <td>3</td>\n      <td>Is_Bus_stop</td>\n      <td>junction_mall</td>\n      <td>0.924242</td>\n      <td>0.925146</td>\n      <td>0.924242</td>\n      <td>0.924202</td>\n      <td>0.833333</td>\n      <td>0.848655</td>\n      <td>0.833333</td>\n      <td>0.823434</td>\n    </tr>\n    <tr>\n      <td>4</td>\n      <td>Is_Bus_stop</td>\n      <td>prantika_bus_stand</td>\n      <td>0.924242</td>\n      <td>0.925545</td>\n      <td>0.924242</td>\n      <td>0.924184</td>\n      <td>0.934426</td>\n      <td>1.000000</td>\n      <td>0.934426</td>\n      <td>0.966102</td>\n    </tr>\n    <tr>\n      <td>5</td>\n      <td>Is_Bus_stop</td>\n      <td>54ft_test</td>\n      <td>0.917984</td>\n      <td>0.918953</td>\n      <td>0.917984</td>\n      <td>0.917937</td>\n      <td>0.865441</td>\n      <td>0.866807</td>\n      <td>0.865441</td>\n      <td>0.865872</td>\n    </tr>\n    <tr>\n      <td>6</td>\n      <td>Is_Turn</td>\n      <td>station</td>\n      <td>0.922570</td>\n      <td>0.923848</td>\n      <td>0.922570</td>\n      <td>0.922512</td>\n      <td>0.916667</td>\n      <td>0.933036</td>\n      <td>0.916667</td>\n      <td>0.921182</td>\n    </tr>\n    <tr>\n      <td>7</td>\n      <td>Is_Turn</td>\n      <td>dvc_more</td>\n      <td>0.916804</td>\n      <td>0.918090</td>\n      <td>0.916804</td>\n      <td>0.916740</td>\n      <td>0.750000</td>\n      <td>0.746201</td>\n      <td>0.750000</td>\n      <td>0.743725</td>\n    </tr>\n    <tr>\n      <td>8</td>\n      <td>Is_Turn</td>\n      <td>54ft_road</td>\n      <td>0.914607</td>\n      <td>0.917793</td>\n      <td>0.914607</td>\n      <td>0.914444</td>\n      <td>1.000000</td>\n      <td>1.000000</td>\n      <td>1.000000</td>\n      <td>1.000000</td>\n    </tr>\n    <tr>\n      <td>9</td>\n      <td>Is_Turn</td>\n      <td>junction_mall</td>\n      <td>0.921746</td>\n      <td>0.923377</td>\n      <td>0.921746</td>\n      <td>0.921671</td>\n      <td>0.851852</td>\n      <td>0.874644</td>\n      <td>0.851852</td>\n      <td>0.808642</td>\n    </tr>\n    <tr>\n      <td>10</td>\n      <td>Is_Turn</td>\n      <td>prantika_bus_stand</td>\n      <td>0.922570</td>\n      <td>0.925083</td>\n      <td>0.922570</td>\n      <td>0.922455</td>\n      <td>0.819672</td>\n      <td>0.839180</td>\n      <td>0.819672</td>\n      <td>0.818309</td>\n    </tr>\n    <tr>\n      <td>11</td>\n      <td>Is_Turn</td>\n      <td>54ft_test</td>\n      <td>0.921746</td>\n      <td>0.924218</td>\n      <td>0.921746</td>\n      <td>0.921632</td>\n      <td>0.838971</td>\n      <td>0.865897</td>\n      <td>0.838971</td>\n      <td>0.845375</td>\n    </tr>\n    <tr>\n      <td>12</td>\n      <td>Is_Signal</td>\n      <td>station</td>\n      <td>0.961788</td>\n      <td>0.962739</td>\n      <td>0.961788</td>\n      <td>0.961768</td>\n      <td>0.861111</td>\n      <td>0.856889</td>\n      <td>0.861111</td>\n      <td>0.849822</td>\n    </tr>\n    <tr>\n      <td>13</td>\n      <td>Is_Signal</td>\n      <td>dvc_more</td>\n      <td>0.956606</td>\n      <td>0.957657</td>\n      <td>0.956606</td>\n      <td>0.956581</td>\n      <td>0.985294</td>\n      <td>0.970804</td>\n      <td>0.985294</td>\n      <td>0.977996</td>\n    </tr>\n    <tr>\n      <td>14</td>\n      <td>Is_Signal</td>\n      <td>54ft_road</td>\n      <td>0.956822</td>\n      <td>0.958011</td>\n      <td>0.956822</td>\n      <td>0.956794</td>\n      <td>1.000000</td>\n      <td>1.000000</td>\n      <td>1.000000</td>\n      <td>1.000000</td>\n    </tr>\n    <tr>\n      <td>15</td>\n      <td>Is_Signal</td>\n      <td>junction_mall</td>\n      <td>0.957686</td>\n      <td>0.958959</td>\n      <td>0.957686</td>\n      <td>0.957656</td>\n      <td>0.500000</td>\n      <td>0.767857</td>\n      <td>0.500000</td>\n      <td>0.495712</td>\n    </tr>\n    <tr>\n      <td>16</td>\n      <td>Is_Signal</td>\n      <td>prantika_bus_stand</td>\n      <td>0.954879</td>\n      <td>0.955816</td>\n      <td>0.954879</td>\n      <td>0.954856</td>\n      <td>0.852459</td>\n      <td>1.000000</td>\n      <td>0.852459</td>\n      <td>0.920354</td>\n    </tr>\n    <tr>\n      <td>17</td>\n      <td>Is_Signal</td>\n      <td>54ft_test</td>\n      <td>0.958117</td>\n      <td>0.959434</td>\n      <td>0.958117</td>\n      <td>0.958087</td>\n      <td>0.891176</td>\n      <td>0.942971</td>\n      <td>0.891176</td>\n      <td>0.908694</td>\n    </tr>\n    <tr>\n      <td>18</td>\n      <td>Is_Congestion</td>\n      <td>station</td>\n      <td>0.909840</td>\n      <td>0.912286</td>\n      <td>0.909840</td>\n      <td>0.909706</td>\n      <td>0.763889</td>\n      <td>0.907665</td>\n      <td>0.763889</td>\n      <td>0.817932</td>\n    </tr>\n    <tr>\n      <td>19</td>\n      <td>Is_Congestion</td>\n      <td>dvc_more</td>\n      <td>0.908949</td>\n      <td>0.910062</td>\n      <td>0.908949</td>\n      <td>0.908887</td>\n      <td>0.602941</td>\n      <td>0.804517</td>\n      <td>0.602941</td>\n      <td>0.666787</td>\n    </tr>\n    <tr>\n      <td>20</td>\n      <td>Is_Congestion</td>\n      <td>54ft_road</td>\n      <td>0.910953</td>\n      <td>0.912697</td>\n      <td>0.910953</td>\n      <td>0.910859</td>\n      <td>0.877551</td>\n      <td>0.890677</td>\n      <td>0.877551</td>\n      <td>0.883666</td>\n    </tr>\n    <tr>\n      <td>21</td>\n      <td>Is_Congestion</td>\n      <td>junction_mall</td>\n      <td>0.904274</td>\n      <td>0.905282</td>\n      <td>0.904274</td>\n      <td>0.904215</td>\n      <td>0.648148</td>\n      <td>0.910911</td>\n      <td>0.648148</td>\n      <td>0.757387</td>\n    </tr>\n    <tr>\n      <td>22</td>\n      <td>Is_Congestion</td>\n      <td>prantika_bus_stand</td>\n      <td>0.912289</td>\n      <td>0.914287</td>\n      <td>0.912289</td>\n      <td>0.912183</td>\n      <td>0.655738</td>\n      <td>0.970064</td>\n      <td>0.655738</td>\n      <td>0.763062</td>\n    </tr>\n    <tr>\n      <td>23</td>\n      <td>Is_Congestion</td>\n      <td>54ft_test</td>\n      <td>0.908949</td>\n      <td>0.910261</td>\n      <td>0.908949</td>\n      <td>0.908876</td>\n      <td>0.598529</td>\n      <td>0.599889</td>\n      <td>0.598529</td>\n      <td>0.598956</td>\n    </tr>\n    <tr>\n      <td>24</td>\n      <td>Is_Adhoc</td>\n      <td>station</td>\n      <td>0.850782</td>\n      <td>0.851426</td>\n      <td>0.850782</td>\n      <td>0.850713</td>\n      <td>0.736111</td>\n      <td>0.974868</td>\n      <td>0.736111</td>\n      <td>0.824390</td>\n    </tr>\n    <tr>\n      <td>25</td>\n      <td>Is_Adhoc</td>\n      <td>dvc_more</td>\n      <td>0.852141</td>\n      <td>0.852964</td>\n      <td>0.852141</td>\n      <td>0.852055</td>\n      <td>0.544118</td>\n      <td>0.524804</td>\n      <td>0.544118</td>\n      <td>0.533633</td>\n    </tr>\n    <tr>\n      <td>26</td>\n      <td>Is_Adhoc</td>\n      <td>54ft_road</td>\n      <td>0.843644</td>\n      <td>0.844380</td>\n      <td>0.843644</td>\n      <td>0.843560</td>\n      <td>0.734694</td>\n      <td>0.833095</td>\n      <td>0.734694</td>\n      <td>0.747377</td>\n    </tr>\n    <tr>\n      <td>27</td>\n      <td>Is_Adhoc</td>\n      <td>junction_mall</td>\n      <td>0.854181</td>\n      <td>0.854543</td>\n      <td>0.854181</td>\n      <td>0.854144</td>\n      <td>0.666667</td>\n      <td>0.966667</td>\n      <td>0.666667</td>\n      <td>0.768147</td>\n    </tr>\n    <tr>\n      <td>28</td>\n      <td>Is_Adhoc</td>\n      <td>prantika_bus_stand</td>\n      <td>0.851462</td>\n      <td>0.852282</td>\n      <td>0.851462</td>\n      <td>0.851375</td>\n      <td>0.573770</td>\n      <td>0.956284</td>\n      <td>0.573770</td>\n      <td>0.717213</td>\n    </tr>\n    <tr>\n      <td>29</td>\n      <td>Is_Adhoc</td>\n      <td>54ft_test</td>\n      <td>0.847383</td>\n      <td>0.847500</td>\n      <td>0.847383</td>\n      <td>0.847370</td>\n      <td>0.683088</td>\n      <td>0.790377</td>\n      <td>0.683088</td>\n      <td>0.708801</td>\n    </tr>\n  </tbody>\n</table>\n</div>"
     },
     "metadata": {},
     "execution_count": 5
    }
   ],
   "source": [
    "df=pd.DataFrame(perf)\n",
    "df.to_csv(os.path.join(parent_dir, 'modeling_performance.csv'),index=False)\n",
    "df"
   ]
  },
  {
   "cell_type": "code",
   "execution_count": 6,
   "metadata": {},
   "outputs": [],
   "source": [
    "#NICE"
   ]
  }
 ],
 "metadata": {
  "kernelspec": {
   "display_name": "Python 3",
   "language": "python",
   "name": "python3"
  },
  "language_info": {
   "codemirror_mode": {
    "name": "ipython",
    "version": 3
   },
   "file_extension": ".py",
   "mimetype": "text/x-python",
   "name": "python",
   "nbconvert_exporter": "python",
   "pygments_lexer": "ipython3",
   "version": "3.7.4-final"
  }
 },
 "nbformat": 4,
 "nbformat_minor": 4
}