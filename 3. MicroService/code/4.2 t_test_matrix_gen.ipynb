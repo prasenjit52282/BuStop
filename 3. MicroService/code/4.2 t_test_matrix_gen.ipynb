{
 "metadata": {
  "language_info": {
   "codemirror_mode": {
    "name": "ipython",
    "version": 3
   },
   "file_extension": ".py",
   "mimetype": "text/x-python",
   "name": "python",
   "nbconvert_exporter": "python",
   "pygments_lexer": "ipython3",
   "version": "3.7.9-final"
  },
  "orig_nbformat": 2,
  "kernelspec": {
   "name": "python3",
   "display_name": "Python 3.7.9 64-bit ('myenv': conda)",
   "metadata": {
    "interpreter": {
     "hash": "60bffd1f21bedd6f03d40aa91927a6e1df6d5f5962e4ebdfb14713a17f668098"
    }
   }
  }
 },
 "nbformat": 4,
 "nbformat_minor": 2,
 "cells": [
  {
   "cell_type": "code",
   "execution_count": 1,
   "metadata": {},
   "outputs": [],
   "source": [
    "import numpy as np \n",
    "import pandas as pd \n",
    "from itertools import product"
   ]
  },
  {
   "cell_type": "code",
   "execution_count": 2,
   "metadata": {},
   "outputs": [],
   "source": [
    "df=pd.read_csv(\"../reports/welch_t_test/whole_comb_t_test.csv\")"
   ]
  },
  {
   "cell_type": "code",
   "execution_count": 3,
   "metadata": {},
   "outputs": [],
   "source": [
    "zone=['54ft_road','dvc_more','junction_mall','prantika_bus_stand','station']\n",
    "timezone=['Early_Morning','Morning','Afternoon','Evening']\n",
    "\n",
    "#axis creation\n",
    "axis=list(product(zone,timezone))"
   ]
  },
  {
   "cell_type": "code",
   "execution_count": 4,
   "metadata": {},
   "outputs": [],
   "source": [
    "#helper function\n",
    "def get_pair_value(row,col):\n",
    "\n",
    "    data_row_per1=df[(df.left_date=='*') & (df.right_date=='*') & (df.left_zone==row[0]) & (df.right_zone==col[0]) & (df.left_time_zone==row[1]) & (df.right_time_zone==col[1])]\n",
    "\n",
    "    data_row_per2=df[(df.left_date=='*') & (df.right_date=='*') & (df.left_zone==col[0]) & (df.right_zone==row[0]) & (df.left_time_zone==col[1]) & (df.right_time_zone==row[1])]\n",
    "\n",
    "    if data_row_per1.shape[0]>data_row_per2.shape[0]:\n",
    "        data_row=data_row_per1.copy()\n",
    "    elif data_row_per1.shape[0]<data_row_per2.shape[0]:\n",
    "        data_row=data_row_per2.copy()\n",
    "    else:\n",
    "        data_row=data_row_per1.copy()\n",
    "\n",
    "    if(row[0]==col[0] and row[1]==col[1]):\n",
    "        val=0 #Pair values are same\n",
    "    elif(data_row.dropna().shape[0]==0):\n",
    "        val= 'N' #Pair is not possible\n",
    "    elif(data_row.p_value.values[0]>=0.05):\n",
    "        val= -1 #Pair is not significant\n",
    "    elif(data_row.p_value.values[0]<0.05):\n",
    "        val=+1 #Pair is significant\n",
    "    return val"
   ]
  },
  {
   "source": [
    "# Generating MATRIX"
   ],
   "cell_type": "markdown",
   "metadata": {}
  },
  {
   "cell_type": "code",
   "execution_count": 5,
   "metadata": {},
   "outputs": [],
   "source": [
    "#MATRIX Creation\n",
    "def get_matrix():\n",
    "    matrix=[]\n",
    "    for row in axis:\n",
    "        ROW=[]\n",
    "        for col in axis:\n",
    "            value= get_pair_value(row,col)\n",
    "            ROW.append(value)\n",
    "        matrix.append(ROW[:])\n",
    "    return np.array(matrix)"
   ]
  },
  {
   "cell_type": "code",
   "execution_count": 6,
   "metadata": {},
   "outputs": [],
   "source": [
    "matrix=get_matrix()"
   ]
  },
  {
   "source": [
    "# Saving Matrix"
   ],
   "cell_type": "markdown",
   "metadata": {}
  },
  {
   "cell_type": "code",
   "execution_count": 7,
   "metadata": {},
   "outputs": [],
   "source": [
    "tz_map={'Early_Morning':\"T1\",'Morning':\"T2\",'Afternoon':\"T3\",'Evening':\"T4\"}\n",
    "\n",
    "\n",
    "df_matrix=pd.DataFrame(data=matrix,\n",
    "columns=pd.MultiIndex.from_tuples([(e[0],tz_map[e[1]])for e in axis]),\n",
    "index=pd.MultiIndex.from_tuples([(e[0],tz_map[e[1]])for e in axis]))"
   ]
  },
  {
   "cell_type": "code",
   "execution_count": 11,
   "metadata": {},
   "outputs": [
    {
     "output_type": "execute_result",
     "data": {
      "text/plain": [
       "                      54ft_road             dvc_more              \\\n",
       "                             T1  T2  T3  T4       T1  T2  T3  T4   \n",
       "54ft_road          T1         0  -1  -1  -1        1   1  -1   1   \n",
       "                   T2        -1   0  -1  -1       -1  -1  -1  -1   \n",
       "                   T3        -1  -1   0  -1       -1  -1  -1  -1   \n",
       "                   T4        -1  -1  -1   0       -1  -1  -1  -1   \n",
       "dvc_more           T1         1  -1  -1  -1        0  -1  -1  -1   \n",
       "                   T2         1  -1  -1  -1       -1   0  -1  -1   \n",
       "                   T3        -1  -1  -1  -1       -1  -1   0  -1   \n",
       "                   T4         1  -1  -1  -1       -1  -1  -1   0   \n",
       "junction_mall      T1        -1  -1  -1  -1        1   1  -1   1   \n",
       "                   T2        -1  -1  -1  -1       -1  -1  -1  -1   \n",
       "                   T3        -1  -1  -1  -1       -1   1  -1  -1   \n",
       "                   T4        -1  -1  -1  -1       -1  -1  -1  -1   \n",
       "prantika_bus_stand T1         1   1   1   1        1  -1  -1  -1   \n",
       "                   T2         1   1   1   1       -1  -1  -1  -1   \n",
       "                   T3         1   1   1   1       -1  -1  -1  -1   \n",
       "                   T4         1  -1  -1  -1       -1  -1  -1  -1   \n",
       "station            T1         1   1  -1   1       -1  -1  -1  -1   \n",
       "                   T2        -1  -1  -1  -1       -1  -1  -1  -1   \n",
       "                   T3         1   1   1   1       -1  -1  -1  -1   \n",
       "                   T4         N   N   N   N        N   N   N   N   \n",
       "\n",
       "                      junction_mall             prantika_bus_stand          \\\n",
       "                                 T1  T2  T3  T4                 T1  T2  T3   \n",
       "54ft_road          T1            -1  -1  -1  -1                  1   1   1   \n",
       "                   T2            -1  -1  -1  -1                  1   1   1   \n",
       "                   T3            -1  -1  -1  -1                  1   1   1   \n",
       "                   T4            -1  -1  -1  -1                  1   1   1   \n",
       "dvc_more           T1             1  -1  -1  -1                  1  -1  -1   \n",
       "                   T2             1  -1   1  -1                 -1  -1  -1   \n",
       "                   T3            -1  -1  -1  -1                 -1  -1  -1   \n",
       "                   T4             1  -1  -1  -1                 -1  -1  -1   \n",
       "junction_mall      T1             0  -1  -1  -1                  1   1   1   \n",
       "                   T2            -1   0  -1  -1                  1   1   1   \n",
       "                   T3            -1  -1   0  -1                  1   1   1   \n",
       "                   T4            -1  -1  -1   0                  1  -1   1   \n",
       "prantika_bus_stand T1             1   1   1   1                  0  -1  -1   \n",
       "                   T2             1   1   1  -1                 -1   0  -1   \n",
       "                   T3             1   1   1   1                 -1  -1   0   \n",
       "                   T4             1  -1  -1  -1                 -1  -1  -1   \n",
       "station            T1             1   1   1  -1                 -1  -1  -1   \n",
       "                   T2            -1  -1  -1  -1                  1  -1  -1   \n",
       "                   T3             1   1   1  -1                 -1  -1  -1   \n",
       "                   T4             N   N   N   N                  N   N   N   \n",
       "\n",
       "                          station             \n",
       "                       T4      T1  T2  T3 T4  \n",
       "54ft_road          T1   1       1  -1   1  N  \n",
       "                   T2  -1       1  -1   1  N  \n",
       "                   T3  -1      -1  -1   1  N  \n",
       "                   T4  -1       1  -1   1  N  \n",
       "dvc_more           T1  -1      -1  -1  -1  N  \n",
       "                   T2  -1      -1  -1  -1  N  \n",
       "                   T3  -1      -1  -1  -1  N  \n",
       "                   T4  -1      -1  -1  -1  N  \n",
       "junction_mall      T1   1       1  -1   1  N  \n",
       "                   T2  -1       1  -1   1  N  \n",
       "                   T3  -1       1  -1   1  N  \n",
       "                   T4  -1      -1  -1  -1  N  \n",
       "prantika_bus_stand T1  -1      -1   1  -1  N  \n",
       "                   T2  -1      -1  -1  -1  N  \n",
       "                   T3  -1      -1  -1  -1  N  \n",
       "                   T4   0      -1  -1  -1  N  \n",
       "station            T1  -1       0  -1  -1  N  \n",
       "                   T2  -1      -1   0  -1  N  \n",
       "                   T3  -1      -1  -1   0  N  \n",
       "                   T4   N       N   N   N  0  "
      ],
      "text/html": "<div>\n<style scoped>\n    .dataframe tbody tr th:only-of-type {\n        vertical-align: middle;\n    }\n\n    .dataframe tbody tr th {\n        vertical-align: top;\n    }\n\n    .dataframe thead tr th {\n        text-align: left;\n    }\n</style>\n<table border=\"1\" class=\"dataframe\">\n  <thead>\n    <tr>\n      <th></th>\n      <th></th>\n      <th colspan=\"4\" halign=\"left\">54ft_road</th>\n      <th colspan=\"4\" halign=\"left\">dvc_more</th>\n      <th colspan=\"4\" halign=\"left\">junction_mall</th>\n      <th colspan=\"4\" halign=\"left\">prantika_bus_stand</th>\n      <th colspan=\"4\" halign=\"left\">station</th>\n    </tr>\n    <tr>\n      <th></th>\n      <th></th>\n      <th>T1</th>\n      <th>T2</th>\n      <th>T3</th>\n      <th>T4</th>\n      <th>T1</th>\n      <th>T2</th>\n      <th>T3</th>\n      <th>T4</th>\n      <th>T1</th>\n      <th>T2</th>\n      <th>T3</th>\n      <th>T4</th>\n      <th>T1</th>\n      <th>T2</th>\n      <th>T3</th>\n      <th>T4</th>\n      <th>T1</th>\n      <th>T2</th>\n      <th>T3</th>\n      <th>T4</th>\n    </tr>\n  </thead>\n  <tbody>\n    <tr>\n      <th rowspan=\"4\" valign=\"top\">54ft_road</th>\n      <th>T1</th>\n      <td>0</td>\n      <td>-1</td>\n      <td>-1</td>\n      <td>-1</td>\n      <td>1</td>\n      <td>1</td>\n      <td>-1</td>\n      <td>1</td>\n      <td>-1</td>\n      <td>-1</td>\n      <td>-1</td>\n      <td>-1</td>\n      <td>1</td>\n      <td>1</td>\n      <td>1</td>\n      <td>1</td>\n      <td>1</td>\n      <td>-1</td>\n      <td>1</td>\n      <td>N</td>\n    </tr>\n    <tr>\n      <th>T2</th>\n      <td>-1</td>\n      <td>0</td>\n      <td>-1</td>\n      <td>-1</td>\n      <td>-1</td>\n      <td>-1</td>\n      <td>-1</td>\n      <td>-1</td>\n      <td>-1</td>\n      <td>-1</td>\n      <td>-1</td>\n      <td>-1</td>\n      <td>1</td>\n      <td>1</td>\n      <td>1</td>\n      <td>-1</td>\n      <td>1</td>\n      <td>-1</td>\n      <td>1</td>\n      <td>N</td>\n    </tr>\n    <tr>\n      <th>T3</th>\n      <td>-1</td>\n      <td>-1</td>\n      <td>0</td>\n      <td>-1</td>\n      <td>-1</td>\n      <td>-1</td>\n      <td>-1</td>\n      <td>-1</td>\n      <td>-1</td>\n      <td>-1</td>\n      <td>-1</td>\n      <td>-1</td>\n      <td>1</td>\n      <td>1</td>\n      <td>1</td>\n      <td>-1</td>\n      <td>-1</td>\n      <td>-1</td>\n      <td>1</td>\n      <td>N</td>\n    </tr>\n    <tr>\n      <th>T4</th>\n      <td>-1</td>\n      <td>-1</td>\n      <td>-1</td>\n      <td>0</td>\n      <td>-1</td>\n      <td>-1</td>\n      <td>-1</td>\n      <td>-1</td>\n      <td>-1</td>\n      <td>-1</td>\n      <td>-1</td>\n      <td>-1</td>\n      <td>1</td>\n      <td>1</td>\n      <td>1</td>\n      <td>-1</td>\n      <td>1</td>\n      <td>-1</td>\n      <td>1</td>\n      <td>N</td>\n    </tr>\n    <tr>\n      <th rowspan=\"4\" valign=\"top\">dvc_more</th>\n      <th>T1</th>\n      <td>1</td>\n      <td>-1</td>\n      <td>-1</td>\n      <td>-1</td>\n      <td>0</td>\n      <td>-1</td>\n      <td>-1</td>\n      <td>-1</td>\n      <td>1</td>\n      <td>-1</td>\n      <td>-1</td>\n      <td>-1</td>\n      <td>1</td>\n      <td>-1</td>\n      <td>-1</td>\n      <td>-1</td>\n      <td>-1</td>\n      <td>-1</td>\n      <td>-1</td>\n      <td>N</td>\n    </tr>\n    <tr>\n      <th>T2</th>\n      <td>1</td>\n      <td>-1</td>\n      <td>-1</td>\n      <td>-1</td>\n      <td>-1</td>\n      <td>0</td>\n      <td>-1</td>\n      <td>-1</td>\n      <td>1</td>\n      <td>-1</td>\n      <td>1</td>\n      <td>-1</td>\n      <td>-1</td>\n      <td>-1</td>\n      <td>-1</td>\n      <td>-1</td>\n      <td>-1</td>\n      <td>-1</td>\n      <td>-1</td>\n      <td>N</td>\n    </tr>\n    <tr>\n      <th>T3</th>\n      <td>-1</td>\n      <td>-1</td>\n      <td>-1</td>\n      <td>-1</td>\n      <td>-1</td>\n      <td>-1</td>\n      <td>0</td>\n      <td>-1</td>\n      <td>-1</td>\n      <td>-1</td>\n      <td>-1</td>\n      <td>-1</td>\n      <td>-1</td>\n      <td>-1</td>\n      <td>-1</td>\n      <td>-1</td>\n      <td>-1</td>\n      <td>-1</td>\n      <td>-1</td>\n      <td>N</td>\n    </tr>\n    <tr>\n      <th>T4</th>\n      <td>1</td>\n      <td>-1</td>\n      <td>-1</td>\n      <td>-1</td>\n      <td>-1</td>\n      <td>-1</td>\n      <td>-1</td>\n      <td>0</td>\n      <td>1</td>\n      <td>-1</td>\n      <td>-1</td>\n      <td>-1</td>\n      <td>-1</td>\n      <td>-1</td>\n      <td>-1</td>\n      <td>-1</td>\n      <td>-1</td>\n      <td>-1</td>\n      <td>-1</td>\n      <td>N</td>\n    </tr>\n    <tr>\n      <th rowspan=\"4\" valign=\"top\">junction_mall</th>\n      <th>T1</th>\n      <td>-1</td>\n      <td>-1</td>\n      <td>-1</td>\n      <td>-1</td>\n      <td>1</td>\n      <td>1</td>\n      <td>-1</td>\n      <td>1</td>\n      <td>0</td>\n      <td>-1</td>\n      <td>-1</td>\n      <td>-1</td>\n      <td>1</td>\n      <td>1</td>\n      <td>1</td>\n      <td>1</td>\n      <td>1</td>\n      <td>-1</td>\n      <td>1</td>\n      <td>N</td>\n    </tr>\n    <tr>\n      <th>T2</th>\n      <td>-1</td>\n      <td>-1</td>\n      <td>-1</td>\n      <td>-1</td>\n      <td>-1</td>\n      <td>-1</td>\n      <td>-1</td>\n      <td>-1</td>\n      <td>-1</td>\n      <td>0</td>\n      <td>-1</td>\n      <td>-1</td>\n      <td>1</td>\n      <td>1</td>\n      <td>1</td>\n      <td>-1</td>\n      <td>1</td>\n      <td>-1</td>\n      <td>1</td>\n      <td>N</td>\n    </tr>\n    <tr>\n      <th>T3</th>\n      <td>-1</td>\n      <td>-1</td>\n      <td>-1</td>\n      <td>-1</td>\n      <td>-1</td>\n      <td>1</td>\n      <td>-1</td>\n      <td>-1</td>\n      <td>-1</td>\n      <td>-1</td>\n      <td>0</td>\n      <td>-1</td>\n      <td>1</td>\n      <td>1</td>\n      <td>1</td>\n      <td>-1</td>\n      <td>1</td>\n      <td>-1</td>\n      <td>1</td>\n      <td>N</td>\n    </tr>\n    <tr>\n      <th>T4</th>\n      <td>-1</td>\n      <td>-1</td>\n      <td>-1</td>\n      <td>-1</td>\n      <td>-1</td>\n      <td>-1</td>\n      <td>-1</td>\n      <td>-1</td>\n      <td>-1</td>\n      <td>-1</td>\n      <td>-1</td>\n      <td>0</td>\n      <td>1</td>\n      <td>-1</td>\n      <td>1</td>\n      <td>-1</td>\n      <td>-1</td>\n      <td>-1</td>\n      <td>-1</td>\n      <td>N</td>\n    </tr>\n    <tr>\n      <th rowspan=\"4\" valign=\"top\">prantika_bus_stand</th>\n      <th>T1</th>\n      <td>1</td>\n      <td>1</td>\n      <td>1</td>\n      <td>1</td>\n      <td>1</td>\n      <td>-1</td>\n      <td>-1</td>\n      <td>-1</td>\n      <td>1</td>\n      <td>1</td>\n      <td>1</td>\n      <td>1</td>\n      <td>0</td>\n      <td>-1</td>\n      <td>-1</td>\n      <td>-1</td>\n      <td>-1</td>\n      <td>1</td>\n      <td>-1</td>\n      <td>N</td>\n    </tr>\n    <tr>\n      <th>T2</th>\n      <td>1</td>\n      <td>1</td>\n      <td>1</td>\n      <td>1</td>\n      <td>-1</td>\n      <td>-1</td>\n      <td>-1</td>\n      <td>-1</td>\n      <td>1</td>\n      <td>1</td>\n      <td>1</td>\n      <td>-1</td>\n      <td>-1</td>\n      <td>0</td>\n      <td>-1</td>\n      <td>-1</td>\n      <td>-1</td>\n      <td>-1</td>\n      <td>-1</td>\n      <td>N</td>\n    </tr>\n    <tr>\n      <th>T3</th>\n      <td>1</td>\n      <td>1</td>\n      <td>1</td>\n      <td>1</td>\n      <td>-1</td>\n      <td>-1</td>\n      <td>-1</td>\n      <td>-1</td>\n      <td>1</td>\n      <td>1</td>\n      <td>1</td>\n      <td>1</td>\n      <td>-1</td>\n      <td>-1</td>\n      <td>0</td>\n      <td>-1</td>\n      <td>-1</td>\n      <td>-1</td>\n      <td>-1</td>\n      <td>N</td>\n    </tr>\n    <tr>\n      <th>T4</th>\n      <td>1</td>\n      <td>-1</td>\n      <td>-1</td>\n      <td>-1</td>\n      <td>-1</td>\n      <td>-1</td>\n      <td>-1</td>\n      <td>-1</td>\n      <td>1</td>\n      <td>-1</td>\n      <td>-1</td>\n      <td>-1</td>\n      <td>-1</td>\n      <td>-1</td>\n      <td>-1</td>\n      <td>0</td>\n      <td>-1</td>\n      <td>-1</td>\n      <td>-1</td>\n      <td>N</td>\n    </tr>\n    <tr>\n      <th rowspan=\"4\" valign=\"top\">station</th>\n      <th>T1</th>\n      <td>1</td>\n      <td>1</td>\n      <td>-1</td>\n      <td>1</td>\n      <td>-1</td>\n      <td>-1</td>\n      <td>-1</td>\n      <td>-1</td>\n      <td>1</td>\n      <td>1</td>\n      <td>1</td>\n      <td>-1</td>\n      <td>-1</td>\n      <td>-1</td>\n      <td>-1</td>\n      <td>-1</td>\n      <td>0</td>\n      <td>-1</td>\n      <td>-1</td>\n      <td>N</td>\n    </tr>\n    <tr>\n      <th>T2</th>\n      <td>-1</td>\n      <td>-1</td>\n      <td>-1</td>\n      <td>-1</td>\n      <td>-1</td>\n      <td>-1</td>\n      <td>-1</td>\n      <td>-1</td>\n      <td>-1</td>\n      <td>-1</td>\n      <td>-1</td>\n      <td>-1</td>\n      <td>1</td>\n      <td>-1</td>\n      <td>-1</td>\n      <td>-1</td>\n      <td>-1</td>\n      <td>0</td>\n      <td>-1</td>\n      <td>N</td>\n    </tr>\n    <tr>\n      <th>T3</th>\n      <td>1</td>\n      <td>1</td>\n      <td>1</td>\n      <td>1</td>\n      <td>-1</td>\n      <td>-1</td>\n      <td>-1</td>\n      <td>-1</td>\n      <td>1</td>\n      <td>1</td>\n      <td>1</td>\n      <td>-1</td>\n      <td>-1</td>\n      <td>-1</td>\n      <td>-1</td>\n      <td>-1</td>\n      <td>-1</td>\n      <td>-1</td>\n      <td>0</td>\n      <td>N</td>\n    </tr>\n    <tr>\n      <th>T4</th>\n      <td>N</td>\n      <td>N</td>\n      <td>N</td>\n      <td>N</td>\n      <td>N</td>\n      <td>N</td>\n      <td>N</td>\n      <td>N</td>\n      <td>N</td>\n      <td>N</td>\n      <td>N</td>\n      <td>N</td>\n      <td>N</td>\n      <td>N</td>\n      <td>N</td>\n      <td>N</td>\n      <td>N</td>\n      <td>N</td>\n      <td>N</td>\n      <td>0</td>\n    </tr>\n  </tbody>\n</table>\n</div>"
     },
     "metadata": {},
     "execution_count": 11
    }
   ],
   "source": [
    "df_matrix"
   ]
  },
  {
   "cell_type": "code",
   "execution_count": 12,
   "metadata": {},
   "outputs": [],
   "source": [
    "from pandas import ExcelWriter\n",
    "\n",
    "writer = ExcelWriter('../reports/observ/matrix.xlsx')\n",
    "df_matrix.to_excel(writer,'Sheet1')\n",
    "writer.save()"
   ]
  },
  {
   "cell_type": "code",
   "execution_count": 13,
   "metadata": {},
   "outputs": [],
   "source": [
    "#NICE"
   ]
  }
 ]
}