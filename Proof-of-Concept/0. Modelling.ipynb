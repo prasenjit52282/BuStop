{
 "cells": [
  {
   "cell_type": "code",
   "execution_count": 1,
   "metadata": {},
   "outputs": [],
   "source": [
    "import glob\n",
    "import pickle\n",
    "import numpy as np\n",
    "import pandas as pd\n",
    "from sklearn.ensemble import RandomForestClassifier\n",
    "from sklearn.metrics import *\n",
    "from imblearn.over_sampling import SMOTE\n",
    "from library.preprocessing import new_Processing_before_journal"
   ]
  },
  {
   "cell_type": "code",
   "execution_count": 2,
   "metadata": {},
   "outputs": [],
   "source": [
    "all_folders=glob.glob(\"./Trails/*/*/\")"
   ]
  },
  {
   "cell_type": "code",
   "execution_count": 3,
   "metadata": {},
   "outputs": [],
   "source": [
    "test_dates=['2019-06-28','2019-06-30','2019-07-01','2019-07-02','2019-07-03','2019-07-04','2019-07-05']\n",
    "formatted_test_dates=['-'.join(d.split(\"-\")[::-1]) for d in test_dates] #reversing order"
   ]
  },
  {
   "cell_type": "code",
   "execution_count": 4,
   "metadata": {},
   "outputs": [],
   "source": [
    "#train folders\n",
    "train_folders=[f for f in all_folders if f.split(\"\\\\\")[-2].split(\"_\")[0] not in formatted_test_dates]\n",
    "\n",
    "#test folders\n",
    "test_folders=[f for f in all_folders if f.split(\"\\\\\")[-2].split(\"_\")[0] in formatted_test_dates]"
   ]
  },
  {
   "cell_type": "markdown",
   "metadata": {},
   "source": [
    "# Modelling"
   ]
  },
  {
   "cell_type": "code",
   "execution_count": 5,
   "metadata": {},
   "outputs": [],
   "source": [
    "#trqining_data\n",
    "train_df=pd.concat([new_Processing_before_journal(e+\"ALL_DATA.csv\") for e in train_folders])#Raw data is processed\n",
    "\n",
    "#testing_data\n",
    "test_df=pd.concat([new_Processing_before_journal(e+\"ALL_DATA.csv\") for e in test_folders])#Raw data is processed\n"
   ]
  },
  {
   "cell_type": "code",
   "execution_count": 6,
   "metadata": {},
   "outputs": [],
   "source": [
    "#feature # binding\n",
    "F=\\\n",
    "    {1:'stay_duration', #f1\n",
    "     2:'mfcc0',3:'mfcc1',4:'mfcc2',5:'mfcc3',6:'mfcc4', #f2,f3,f4,f5,f6\n",
    "     7:'wifi_count', 8:'edge_wifi_count', #f7,f8\n",
    "     9:'RSI', #f9\n",
    "     10:'human_made', 11:'natural_land',12:'road_exist_percent',13:'highly_populated_poi_exist'#f10,f11,f12,f13\n",
    "    }\n",
    "\n",
    "selected_feat=\\\n",
    "    {\n",
    "        'Is_Bus_stop':[F[e] for e in [10,12,11,1,8]],\n",
    "        'Is_Turn':[F[e] for e in [10,12,11,1,8,9]],\n",
    "        'Is_Signal':[F[e] for e in [12,11,10,8,9]],\n",
    "        'Is_Congestion':[F[e] for e in [2,11,10,9,12,8,6,1]],\n",
    "        'Is_Adhoc':[F[e] for e in [10,11,1,12,2]]\n",
    "    }"
   ]
  },
  {
   "cell_type": "code",
   "execution_count": 7,
   "metadata": {},
   "outputs": [],
   "source": [
    "#Modeling function\n",
    "def get_metrics_from_the_model(train,labels_train,test,labels_test,poi):\n",
    "    rf=RandomForestClassifier(n_estimators=100,max_depth=8,random_state=42)\n",
    "    rf.fit(train, labels_train)\n",
    "\n",
    "    pred_train= rf.predict(train)\n",
    "    pred_test= rf.predict(test)\n",
    "    \n",
    "    performance={'poi':poi,\n",
    "                 'tr_acc':accuracy_score(labels_train,pred_train),\n",
    "                 'tr_precision':precision_score(labels_train,pred_train,average='weighted'),\n",
    "                 'tr_recall':recall_score(labels_train,pred_train,average='weighted'),\n",
    "                 'tr_f1-score':f1_score(labels_train,pred_train,average='weighted'),\n",
    "\n",
    "                 'te_acc':accuracy_score(labels_test,pred_test),\n",
    "                 'te_precision':precision_score(labels_test, pred_test,average='weighted'),\n",
    "                 'te_recall':recall_score(labels_test, pred_test,average='weighted'),\n",
    "                 'te_f1-score':f1_score(labels_test, pred_test,average='weighted')}\n",
    "    return performance,rf"
   ]
  },
  {
   "cell_type": "code",
   "execution_count": 8,
   "metadata": {},
   "outputs": [
    {
     "name": "stdout",
     "output_type": "stream",
     "text": [
      "Completed for POI:Is_Bus_stop\n",
      "Completed for POI:Is_Turn\n",
      "Completed for POI:Is_Signal\n",
      "Completed for POI:Is_Congestion\n",
      "Completed for POI:Is_Adhoc\n"
     ]
    }
   ],
   "source": [
    "perf=[] #performance list\n",
    "rfs={} #rf dict\n",
    "\n",
    "\n",
    "for poi_column in ['Is_Bus_stop','Is_Turn','Is_Signal','Is_Congestion','Is_Adhoc']:\n",
    "    feature_names=selected_feat[poi_column] #feature selection\n",
    "\n",
    "\n",
    "\n",
    "    #SMOTE on training data & get features ,labels\n",
    "    X = train_df[feature_names].copy()\n",
    "    y = train_df[poi_column].copy()\n",
    "\n",
    "    smote = SMOTE()\n",
    "    X_resampled, y_resampled = smote.fit_sample(X, y)\n",
    "    train_data = X_resampled.copy()\n",
    "    train_labels = y_resampled.copy()\n",
    "\n",
    "    #Test set get features & labels\n",
    "    test_data = test_df[feature_names].values\n",
    "    test_labels = test_df[poi_column].values\n",
    "\n",
    "    #Training with Random Forest\n",
    "    performance,rf=get_metrics_from_the_model(train_data,train_labels,test_data,test_labels,poi_column)\n",
    "\n",
    "    #adding to performance list\n",
    "    perf.append(performance)\n",
    "    rfs[poi_column]=rf\n",
    "\n",
    "    print(f'Completed for POI:{poi_column}')"
   ]
  },
  {
   "cell_type": "code",
   "execution_count": 9,
   "metadata": {},
   "outputs": [
    {
     "data": {
      "text/html": [
       "<div>\n",
       "<style scoped>\n",
       "    .dataframe tbody tr th:only-of-type {\n",
       "        vertical-align: middle;\n",
       "    }\n",
       "\n",
       "    .dataframe tbody tr th {\n",
       "        vertical-align: top;\n",
       "    }\n",
       "\n",
       "    .dataframe thead th {\n",
       "        text-align: right;\n",
       "    }\n",
       "</style>\n",
       "<table border=\"1\" class=\"dataframe\">\n",
       "  <thead>\n",
       "    <tr style=\"text-align: right;\">\n",
       "      <th></th>\n",
       "      <th>poi</th>\n",
       "      <th>tr_acc</th>\n",
       "      <th>tr_precision</th>\n",
       "      <th>tr_recall</th>\n",
       "      <th>tr_f1-score</th>\n",
       "      <th>te_acc</th>\n",
       "      <th>te_precision</th>\n",
       "      <th>te_recall</th>\n",
       "      <th>te_f1-score</th>\n",
       "    </tr>\n",
       "  </thead>\n",
       "  <tbody>\n",
       "    <tr>\n",
       "      <td>0</td>\n",
       "      <td>Is_Bus_stop</td>\n",
       "      <td>0.917000</td>\n",
       "      <td>0.917785</td>\n",
       "      <td>0.917000</td>\n",
       "      <td>0.916961</td>\n",
       "      <td>0.847906</td>\n",
       "      <td>0.857368</td>\n",
       "      <td>0.847906</td>\n",
       "      <td>0.849475</td>\n",
       "    </tr>\n",
       "    <tr>\n",
       "      <td>1</td>\n",
       "      <td>Is_Turn</td>\n",
       "      <td>0.908543</td>\n",
       "      <td>0.912643</td>\n",
       "      <td>0.908543</td>\n",
       "      <td>0.908316</td>\n",
       "      <td>0.817046</td>\n",
       "      <td>0.845914</td>\n",
       "      <td>0.817046</td>\n",
       "      <td>0.824259</td>\n",
       "    </tr>\n",
       "    <tr>\n",
       "      <td>2</td>\n",
       "      <td>Is_Signal</td>\n",
       "      <td>0.950261</td>\n",
       "      <td>0.952104</td>\n",
       "      <td>0.950261</td>\n",
       "      <td>0.950210</td>\n",
       "      <td>0.920647</td>\n",
       "      <td>0.953043</td>\n",
       "      <td>0.920647</td>\n",
       "      <td>0.931857</td>\n",
       "    </tr>\n",
       "    <tr>\n",
       "      <td>3</td>\n",
       "      <td>Is_Congestion</td>\n",
       "      <td>0.877353</td>\n",
       "      <td>0.879943</td>\n",
       "      <td>0.877353</td>\n",
       "      <td>0.877143</td>\n",
       "      <td>0.769287</td>\n",
       "      <td>0.950636</td>\n",
       "      <td>0.769287</td>\n",
       "      <td>0.848734</td>\n",
       "    </tr>\n",
       "    <tr>\n",
       "      <td>4</td>\n",
       "      <td>Is_Adhoc</td>\n",
       "      <td>0.818182</td>\n",
       "      <td>0.820573</td>\n",
       "      <td>0.818182</td>\n",
       "      <td>0.817842</td>\n",
       "      <td>0.717855</td>\n",
       "      <td>0.718685</td>\n",
       "      <td>0.717855</td>\n",
       "      <td>0.718194</td>\n",
       "    </tr>\n",
       "  </tbody>\n",
       "</table>\n",
       "</div>"
      ],
      "text/plain": [
       "             poi    tr_acc  tr_precision  tr_recall  tr_f1-score    te_acc  \\\n",
       "0    Is_Bus_stop  0.917000      0.917785   0.917000     0.916961  0.847906   \n",
       "1        Is_Turn  0.908543      0.912643   0.908543     0.908316  0.817046   \n",
       "2      Is_Signal  0.950261      0.952104   0.950261     0.950210  0.920647   \n",
       "3  Is_Congestion  0.877353      0.879943   0.877353     0.877143  0.769287   \n",
       "4       Is_Adhoc  0.818182      0.820573   0.818182     0.817842  0.717855   \n",
       "\n",
       "   te_precision  te_recall  te_f1-score  \n",
       "0      0.857368   0.847906     0.849475  \n",
       "1      0.845914   0.817046     0.824259  \n",
       "2      0.953043   0.920647     0.931857  \n",
       "3      0.950636   0.769287     0.848734  \n",
       "4      0.718685   0.717855     0.718194  "
      ]
     },
     "execution_count": 9,
     "metadata": {},
     "output_type": "execute_result"
    }
   ],
   "source": [
    "df=pd.DataFrame(perf)\n",
    "df.to_csv(\"./logs/model_performace.csv\",index=False)\n",
    "df"
   ]
  },
  {
   "cell_type": "code",
   "execution_count": 10,
   "metadata": {},
   "outputs": [],
   "source": [
    "#Saving Models\n",
    "with open('./logs/rfs.pickle', 'wb') as handle:\n",
    "    pickle.dump(rfs, handle, protocol=pickle.HIGHEST_PROTOCOL)"
   ]
  },
  {
   "cell_type": "code",
   "execution_count": 11,
   "metadata": {},
   "outputs": [],
   "source": [
    "#NICE"
   ]
  }
 ],
 "metadata": {
  "kernelspec": {
   "display_name": "Python 3",
   "language": "python",
   "name": "python3"
  },
  "language_info": {
   "codemirror_mode": {
    "name": "ipython",
    "version": 3
   },
   "file_extension": ".py",
   "mimetype": "text/x-python",
   "name": "python",
   "nbconvert_exporter": "python",
   "pygments_lexer": "ipython3",
   "version": "3.7.4"
  }
 },
 "nbformat": 4,
 "nbformat_minor": 2
}
