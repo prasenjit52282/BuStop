{
 "cells": [
  {
   "cell_type": "code",
   "execution_count": 1,
   "id": "e3a86247",
   "metadata": {},
   "outputs": [],
   "source": [
    "import glob\n",
    "import pandas as pd\n",
    "import numpy as np\n",
    "from geopy.distance import geodesic"
   ]
  },
  {
   "cell_type": "markdown",
   "id": "f7ba7766",
   "metadata": {},
   "source": [
    "# Files"
   ]
  },
  {
   "cell_type": "code",
   "execution_count": 2,
   "id": "fbd5a4f6",
   "metadata": {},
   "outputs": [],
   "source": [
    "all_folders=glob.glob(\"./Trails/*/*/\")\n",
    "\n",
    "test_dates=['2019-06-28','2019-06-30','2019-07-01','2019-07-02','2019-07-03','2019-07-04','2019-07-05']\n",
    "formatted_test_dates=['-'.join(d.split(\"-\")[::-1]) for d in test_dates] #reversing order\n",
    "\n",
    "get_date=lambda fname:fname.split(\"\\\\\")[-2].split(\"_\")[0]\n",
    "get_format_date=lambda fname: '-'.join(get_date(fname).split(\"-\")[::-1])\n",
    "\n",
    "\n",
    "test_pred_files=[]\n",
    "for date in test_dates:\n",
    "    test_pred_files.extend(glob.glob(\"./Trails/*/*/pred_time_from_prev*{}.csv\".format(date)))\n",
    "\n",
    "valid_test_pred_files=[]\n",
    "BS_files=[]\n",
    "ETA_files=[]\n",
    "for base in test_pred_files:\n",
    "    trail_type=\"down\" if \"down\" in base else \"up\"\n",
    "    date=base.split(\"\\\\\")[2]\n",
    "    try:\n",
    "        BS_files.append(glob.glob(f'./report/BS_Matrices/BS\\\\{trail_type}_{date}*.csv')[0])\n",
    "        ETA_files.append(glob.glob(f'./report/BS_Matrices/ETA\\\\{trail_type}_{date}*.csv')[0])\n",
    "        valid_test_pred_files.append(base)\n",
    "    except:\n",
    "        pass\n",
    "\n",
    "\n",
    "test_gps_files=[]\n",
    "for pred_file in valid_test_pred_files:\n",
    "    test_gps_files.append(pred_file.split(\"\\\\p\")[0]+\"\\\\GPS.csv\")\n",
    "    \n",
    "test_mu_files=[]\n",
    "for pred_file in valid_test_pred_files:\n",
    "    test_mu_files.append(glob.glob(pred_file.split(\"\\\\p\")[0]+\"\\\\mu_serv*.csv\")[0])\n",
    "\n",
    "test_file_pairs=list(zip(test_gps_files,valid_test_pred_files,test_mu_files,BS_files,ETA_files))"
   ]
  },
  {
   "cell_type": "markdown",
   "id": "888eca6c",
   "metadata": {},
   "source": [
    "# ROUTE DATA CALCULATION"
   ]
  },
  {
   "cell_type": "code",
   "execution_count": 3,
   "id": "0dc7b7d0",
   "metadata": {},
   "outputs": [],
   "source": [
    "def geodistance(pointA, pointB):\n",
    "    return geodesic(pointA, pointB).meters\n",
    "\n",
    "def get_Sec_from_datetime(dt):\n",
    "    timeStamp=pd.to_datetime(dt,format=\"%m/%d/%Y %H:%M:%S\")\n",
    "    return timeStamp.timestamp()\n",
    "\n",
    "def get_time_plus_delta(TIME,DELTA):\n",
    "    return str((pd.to_datetime(TIME)+datetime.timedelta(seconds=DELTA)).time())\n",
    "\n",
    "def process_GPS(f_name):\n",
    "    df=pd.read_csv(f_name)\n",
    "    start_lat,start_long,start_time=df[['#lat','long','time']].iloc[0]\n",
    "\n",
    "    next_hop_distance=[]\n",
    "    time_elapsed=[]\n",
    "    for next_lat,next_long,next_time in df[['#lat','long','time']].values:\n",
    "        next_hop_distance.append(geodistance((start_lat,start_long),(next_lat,next_long)))\n",
    "        time_elapsed.append(get_Sec_from_datetime(next_time)-get_Sec_from_datetime(start_time)+1e-9)\n",
    "        start_lat,start_long,start_time=next_lat,next_long,next_time\n",
    "\n",
    "    #next_hop_distance\n",
    "    #time_elapsed\n",
    "    df['next_hop_distance']=next_hop_distance\n",
    "    df['time_elapsed']=time_elapsed\n",
    "    df['start_time']=df.time.apply(lambda e:e.split(\" \")[1])\n",
    "    df['lat']=df['#lat']\n",
    "    return df[['lat','long','time_elapsed']].copy()\n",
    "\n",
    "def get_route_data(pair):\n",
    "    df_gps=process_GPS(pair[0])\n",
    "    df_bs=pd.read_csv(pair[3])\n",
    "    df_bs['skip']=df_bs.stay_duration.apply(lambda e: True if e==0 else False)\n",
    "    df_mu=pd.read_csv(pair[2])[['lat','long','Is_Turn','Is_Signal','Is_Congestion','Is_Adhoc','stay_duration']]\n",
    "\n",
    "    index=[]\n",
    "    ID=[]\n",
    "    TYPE=[]\n",
    "    DURATION=[]\n",
    "    SKIP=[]\n",
    "\n",
    "    for start_lat,start_long,bs_name,stay_duration,skip in df_bs[['b_lat','b_long','BS','stay_duration','skip']].values:\n",
    "        for ind,(lat,long, elps_time) in enumerate(df_gps[['lat','long','time_elapsed']].values):\n",
    "            if geodistance((lat,long),(start_lat,start_long))<=30:\n",
    "                index.append(ind)\n",
    "                TYPE.append(\"BUS\")\n",
    "                ID.append(bs_name)\n",
    "                DURATION.append(1 if stay_duration==0 else stay_duration)\n",
    "                SKIP.append(skip)\n",
    "                break\n",
    "\n",
    "    for start_lat,start_long,tur,sig,cong,adh,stay_duration in df_mu.values:\n",
    "        for ind,(lat,long, elps_time) in enumerate(df_gps[['lat','long','time_elapsed']].values):\n",
    "            if geodistance((lat,long),(start_lat,start_long))<=30:\n",
    "                if ind in index:break\n",
    "                index.append(ind)\n",
    "                typ=[]\n",
    "                if adh==1:\n",
    "                    typ.append(\"ADH\")\n",
    "                else:\n",
    "                    if tur==1:\n",
    "                        typ.append(\"TUR\")\n",
    "                    if sig==1:\n",
    "                        typ.append(\"SIG\")\n",
    "                    if cong==1:\n",
    "                        typ.append(\"CONG\")\n",
    "                        \n",
    "                if len(typ)==0:\n",
    "                    TYPE.append(\"TRAIL\")\n",
    "                    DURATION.append(1 if elps_time==0 else elps_time)\n",
    "                else:\n",
    "                    TYPE.append('_'.join(typ))\n",
    "                    DURATION.append(1 if stay_duration==0 else stay_duration)\n",
    "                ID.append(\"null\")\n",
    "                SKIP.append(\"null\")\n",
    "                break\n",
    "\n",
    "    df_gps['type']='TRAIL'\n",
    "    df_gps['Duration']=df_gps.time_elapsed\n",
    "\n",
    "    df_gps[\"ID\"]=\"null\"\n",
    "    df_gps[\"skip\"]=\"null\"\n",
    "\n",
    "    for idx,Id,Type,Dur,Skip in zip(index,ID,TYPE,DURATION,SKIP):\n",
    "        df_gps.loc[idx,\"ID\"]=Id;\n",
    "        df_gps.loc[idx,\"type\"]=Type;\n",
    "        df_gps.loc[idx,\"Duration\"]=Dur;\n",
    "        df_gps.loc[idx,\"skip\"]=Skip;\n",
    "\n",
    "    route_data=[]\n",
    "    for lat,long,Type,Id,Skip,Dur in df_gps[['lat','long','type','ID','skip','Duration']].values:\n",
    "        obj={}\n",
    "        obj[\"lat\"]=lat;obj[\"long\"]=long;\n",
    "        obj[\"type\"]=Type;\n",
    "        if Type==\"BUS\":\n",
    "            obj[\"id\"]=Id\n",
    "            obj[\"skip\"]=True if Skip==True else False\n",
    "        obj[\"duration\"]=np.ceil(Dur)\n",
    "        route_data.append(obj.copy())\n",
    "        \n",
    "    return route_data"
   ]
  },
  {
   "cell_type": "markdown",
   "id": "a611f614",
   "metadata": {},
   "source": [
    "# GT_DATA CALCULATION"
   ]
  },
  {
   "cell_type": "code",
   "execution_count": 4,
   "id": "4c9fb232",
   "metadata": {},
   "outputs": [],
   "source": [
    "def get_gt_data(pair):\n",
    "    file=pair[4]\n",
    "    ETA=pd.read_csv(file,index_col=\"Unnamed: 0\").values\n",
    "    TYPE= \"down\" if \"down\" in file else \"up\"\n",
    "    df=pd.read_csv(pair[3])[['b_lat','b_long','BS']]\n",
    "    df.columns=['lat','long','id']\n",
    "\n",
    "    gt_data=[]\n",
    "\n",
    "    for i,(lat,long,Id) in enumerate(df.values):\n",
    "        obj={}\n",
    "        obj[\"id\"]=Id\n",
    "        obj[\"lat\"]=lat\n",
    "        obj[\"long\"]=long\n",
    "        obj[\"ETA\"]=ETA[i].tolist()\n",
    "        gt_data.append(obj.copy())\n",
    "\n",
    "    return gt_data"
   ]
  },
  {
   "cell_type": "code",
   "execution_count": 5,
   "id": "b3431bbe",
   "metadata": {},
   "outputs": [],
   "source": [
    "pair=test_file_pairs[0]"
   ]
  },
  {
   "cell_type": "code",
   "execution_count": 6,
   "id": "50013475",
   "metadata": {},
   "outputs": [],
   "source": [
    "route=get_route_data(pair)\n",
    "gt=get_gt_data(pair)"
   ]
  },
  {
   "cell_type": "code",
   "execution_count": 7,
   "id": "566c8bd2",
   "metadata": {},
   "outputs": [],
   "source": [
    "import json"
   ]
  },
  {
   "cell_type": "code",
   "execution_count": 8,
   "id": "bb3a4cd1",
   "metadata": {},
   "outputs": [],
   "source": [
    "myobj=json.dumps({'route':route,'gt':gt})"
   ]
  },
  {
   "cell_type": "code",
   "execution_count": 9,
   "id": "1f7e3852",
   "metadata": {},
   "outputs": [],
   "source": [
    "with open(\"sample.json\", \"w\") as outfile:\n",
    "    outfile.write(myobj)"
   ]
  },
  {
   "cell_type": "code",
   "execution_count": null,
   "id": "4788abaf",
   "metadata": {},
   "outputs": [],
   "source": [
    "#NICE"
   ]
  }
 ],
 "metadata": {
  "kernelspec": {
   "display_name": "Python 3",
   "language": "python",
   "name": "python3"
  },
  "language_info": {
   "codemirror_mode": {
    "name": "ipython",
    "version": 3
   },
   "file_extension": ".py",
   "mimetype": "text/x-python",
   "name": "python",
   "nbconvert_exporter": "python",
   "pygments_lexer": "ipython3",
   "version": "3.8.8"
  }
 },
 "nbformat": 4,
 "nbformat_minor": 5
}
