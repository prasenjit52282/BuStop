{
 "cells": [
  {
   "cell_type": "code",
   "execution_count": 1,
   "metadata": {},
   "outputs": [],
   "source": [
    "import glob\n",
    "import pickle\n",
    "import numpy as np\n",
    "import pandas as pd\n",
    "from sklearn.linear_model import LogisticRegression\n",
    "from sklearn.metrics import *\n",
    "from imblearn.over_sampling import SMOTE\n",
    "from library.preprocessing import new_Processing_before_journal"
   ]
  },
  {
   "cell_type": "code",
   "execution_count": 2,
   "metadata": {},
   "outputs": [],
   "source": [
    "all_folders=glob.glob(\"./Trails/*/*/\")"
   ]
  },
  {
   "cell_type": "code",
   "execution_count": 3,
   "metadata": {},
   "outputs": [],
   "source": [
    "test_dates=['2019-06-28','2019-06-30','2019-07-01','2019-07-02','2019-07-03','2019-07-04','2019-07-05']\n",
    "formatted_test_dates=['-'.join(d.split(\"-\")[::-1]) for d in test_dates] #reversing order"
   ]
  },
  {
   "cell_type": "code",
   "execution_count": 4,
   "metadata": {},
   "outputs": [],
   "source": [
    "#train folders\n",
    "train_folders=[f for f in all_folders if f.split(\"\\\\\")[-2].split(\"_\")[0] not in formatted_test_dates]\n",
    "\n",
    "#test folders\n",
    "test_folders=[f for f in all_folders if f.split(\"\\\\\")[-2].split(\"_\")[0] in formatted_test_dates]"
   ]
  },
  {
   "cell_type": "markdown",
   "metadata": {},
   "source": [
    "# Modelling"
   ]
  },
  {
   "cell_type": "code",
   "execution_count": 5,
   "metadata": {},
   "outputs": [],
   "source": [
    "#trqining_data\n",
    "train_df=pd.concat([new_Processing_before_journal(e+\"ALL_DATA.csv\") for e in train_folders])#Raw data is processed\n",
    "\n",
    "#testing_data\n",
    "test_df=pd.concat([new_Processing_before_journal(e+\"ALL_DATA.csv\") for e in test_folders])#Raw data is processed\n"
   ]
  },
  {
   "cell_type": "code",
   "execution_count": 6,
   "metadata": {},
   "outputs": [],
   "source": [
    "#feature # binding\n",
    "F=\\\n",
    "    {1:'stay_duration', #f1\n",
    "     2:'mfcc0',3:'mfcc1',4:'mfcc2',5:'mfcc3',6:'mfcc4', #f2,f3,f4,f5,f6\n",
    "     7:'wifi_count', 8:'edge_wifi_count', #f7,f8\n",
    "     9:'RSI', #f9\n",
    "     10:'human_made', 11:'natural_land',12:'road_exist_percent',13:'highly_populated_poi_exist'#f10,f11,f12,f13\n",
    "    }\n",
    "\n",
    "selected_feat=\\\n",
    "    {\n",
    "        'Is_Bus_stop':[F[e] for e in range(1,14)],\n",
    "        'Is_Turn':[F[e] for e in range(1,14)],\n",
    "        'Is_Signal':[F[e] for e in range(1,14)],\n",
    "        'Is_Congestion':[F[e] for e in range(1,14)],\n",
    "        'Is_Adhoc':[F[e] for e in range(1,14)]\n",
    "    }"
   ]
  },
  {
   "cell_type": "code",
   "execution_count": 7,
   "metadata": {},
   "outputs": [],
   "source": [
    "#Modeling function\n",
    "def get_metrics_from_the_model(train,labels_train,test,labels_test,poi):\n",
    "    rf=LogisticRegression(random_state=42)\n",
    "    #print(labels_train)\n",
    "    rf.fit(train, labels_train)\n",
    "\n",
    "    pred_train= rf.predict(train)\n",
    "    pred_test= rf.predict(test)\n",
    "    \n",
    "    performance={'poi':poi,\n",
    "                 'tr_acc':accuracy_score(labels_train,pred_train),\n",
    "                 'tr_precision':precision_score(labels_train,pred_train,average='weighted'),\n",
    "                 'tr_recall':recall_score(labels_train,pred_train,average='weighted'),\n",
    "                 'tr_f1-score':f1_score(labels_train,pred_train,average='weighted'),\n",
    "\n",
    "                 'te_acc':accuracy_score(labels_test,pred_test),\n",
    "                 'te_precision':precision_score(labels_test, pred_test,average='weighted'),\n",
    "                 'te_recall':recall_score(labels_test, pred_test,average='weighted'),\n",
    "                 'te_f1-score':f1_score(labels_test, pred_test,average='weighted')}\n",
    "    return performance,rf"
   ]
  },
  {
   "cell_type": "code",
   "execution_count": 8,
   "metadata": {},
   "outputs": [
    {
     "name": "stderr",
     "output_type": "stream",
     "text": [
      "C:\\Users\\WER\\anaconda3\\envs\\myenv\\lib\\site-packages\\sklearn\\linear_model\\_logistic.py:814: ConvergenceWarning: lbfgs failed to converge (status=1):\n",
      "STOP: TOTAL NO. of ITERATIONS REACHED LIMIT.\n",
      "\n",
      "Increase the number of iterations (max_iter) or scale the data as shown in:\n",
      "    https://scikit-learn.org/stable/modules/preprocessing.html\n",
      "Please also refer to the documentation for alternative solver options:\n",
      "    https://scikit-learn.org/stable/modules/linear_model.html#logistic-regression\n",
      "  n_iter_i = _check_optimize_result(\n",
      "C:\\Users\\WER\\anaconda3\\envs\\myenv\\lib\\site-packages\\sklearn\\base.py:445: UserWarning: X does not have valid feature names, but LogisticRegression was fitted with feature names\n",
      "  warnings.warn(\n",
      "C:\\Users\\WER\\anaconda3\\envs\\myenv\\lib\\site-packages\\sklearn\\linear_model\\_logistic.py:814: ConvergenceWarning: lbfgs failed to converge (status=1):\n",
      "STOP: TOTAL NO. of ITERATIONS REACHED LIMIT.\n",
      "\n",
      "Increase the number of iterations (max_iter) or scale the data as shown in:\n",
      "    https://scikit-learn.org/stable/modules/preprocessing.html\n",
      "Please also refer to the documentation for alternative solver options:\n",
      "    https://scikit-learn.org/stable/modules/linear_model.html#logistic-regression\n",
      "  n_iter_i = _check_optimize_result(\n",
      "C:\\Users\\WER\\anaconda3\\envs\\myenv\\lib\\site-packages\\sklearn\\base.py:445: UserWarning: X does not have valid feature names, but LogisticRegression was fitted with feature names\n",
      "  warnings.warn(\n"
     ]
    },
    {
     "name": "stdout",
     "output_type": "stream",
     "text": [
      "Completed for POI:Is_Bus_stop\n",
      "Completed for POI:Is_Turn\n"
     ]
    },
    {
     "name": "stderr",
     "output_type": "stream",
     "text": [
      "C:\\Users\\WER\\anaconda3\\envs\\myenv\\lib\\site-packages\\sklearn\\linear_model\\_logistic.py:814: ConvergenceWarning: lbfgs failed to converge (status=1):\n",
      "STOP: TOTAL NO. of ITERATIONS REACHED LIMIT.\n",
      "\n",
      "Increase the number of iterations (max_iter) or scale the data as shown in:\n",
      "    https://scikit-learn.org/stable/modules/preprocessing.html\n",
      "Please also refer to the documentation for alternative solver options:\n",
      "    https://scikit-learn.org/stable/modules/linear_model.html#logistic-regression\n",
      "  n_iter_i = _check_optimize_result(\n",
      "C:\\Users\\WER\\anaconda3\\envs\\myenv\\lib\\site-packages\\sklearn\\base.py:445: UserWarning: X does not have valid feature names, but LogisticRegression was fitted with feature names\n",
      "  warnings.warn(\n",
      "C:\\Users\\WER\\anaconda3\\envs\\myenv\\lib\\site-packages\\sklearn\\linear_model\\_logistic.py:814: ConvergenceWarning: lbfgs failed to converge (status=1):\n",
      "STOP: TOTAL NO. of ITERATIONS REACHED LIMIT.\n",
      "\n",
      "Increase the number of iterations (max_iter) or scale the data as shown in:\n",
      "    https://scikit-learn.org/stable/modules/preprocessing.html\n",
      "Please also refer to the documentation for alternative solver options:\n",
      "    https://scikit-learn.org/stable/modules/linear_model.html#logistic-regression\n",
      "  n_iter_i = _check_optimize_result(\n",
      "C:\\Users\\WER\\anaconda3\\envs\\myenv\\lib\\site-packages\\sklearn\\base.py:445: UserWarning: X does not have valid feature names, but LogisticRegression was fitted with feature names\n",
      "  warnings.warn(\n"
     ]
    },
    {
     "name": "stdout",
     "output_type": "stream",
     "text": [
      "Completed for POI:Is_Signal\n",
      "Completed for POI:Is_Congestion\n",
      "Completed for POI:Is_Adhoc\n"
     ]
    },
    {
     "name": "stderr",
     "output_type": "stream",
     "text": [
      "C:\\Users\\WER\\anaconda3\\envs\\myenv\\lib\\site-packages\\sklearn\\linear_model\\_logistic.py:814: ConvergenceWarning: lbfgs failed to converge (status=1):\n",
      "STOP: TOTAL NO. of ITERATIONS REACHED LIMIT.\n",
      "\n",
      "Increase the number of iterations (max_iter) or scale the data as shown in:\n",
      "    https://scikit-learn.org/stable/modules/preprocessing.html\n",
      "Please also refer to the documentation for alternative solver options:\n",
      "    https://scikit-learn.org/stable/modules/linear_model.html#logistic-regression\n",
      "  n_iter_i = _check_optimize_result(\n",
      "C:\\Users\\WER\\anaconda3\\envs\\myenv\\lib\\site-packages\\sklearn\\base.py:445: UserWarning: X does not have valid feature names, but LogisticRegression was fitted with feature names\n",
      "  warnings.warn(\n"
     ]
    }
   ],
   "source": [
    "perf=[] #performance list\n",
    "rfs={} #rf dict\n",
    "\n",
    "\n",
    "for poi_column in ['Is_Bus_stop','Is_Turn','Is_Signal','Is_Congestion','Is_Adhoc']:\n",
    "    feature_names=selected_feat[poi_column] #feature selection\n",
    "\n",
    "\n",
    "\n",
    "    #SMOTE on training data & get features ,labels\n",
    "    X = train_df[feature_names].copy()\n",
    "    y = train_df[poi_column].copy()\n",
    "\n",
    "    smote = SMOTE(random_state=42)\n",
    "    X_resampled, y_resampled = smote.fit_resample(X, y)\n",
    "    train_data = X_resampled.copy()\n",
    "    train_labels = y_resampled.copy()\n",
    "\n",
    "    #Test set get features & labels\n",
    "    test_data = test_df[feature_names].values\n",
    "    test_labels = test_df[poi_column].values\n",
    "\n",
    "    #Training with Random Forest\n",
    "    performance,rf=get_metrics_from_the_model(train_data,train_labels,test_data,test_labels,poi_column)\n",
    "\n",
    "    #adding to performance list\n",
    "    perf.append(performance)\n",
    "    rfs[poi_column]=rf\n",
    "\n",
    "    print(f'Completed for POI:{poi_column}')"
   ]
  },
  {
   "cell_type": "code",
   "execution_count": 9,
   "metadata": {},
   "outputs": [
    {
     "data": {
      "text/html": [
       "<div>\n",
       "<style scoped>\n",
       "    .dataframe tbody tr th:only-of-type {\n",
       "        vertical-align: middle;\n",
       "    }\n",
       "\n",
       "    .dataframe tbody tr th {\n",
       "        vertical-align: top;\n",
       "    }\n",
       "\n",
       "    .dataframe thead th {\n",
       "        text-align: right;\n",
       "    }\n",
       "</style>\n",
       "<table border=\"1\" class=\"dataframe\">\n",
       "  <thead>\n",
       "    <tr style=\"text-align: right;\">\n",
       "      <th></th>\n",
       "      <th>poi</th>\n",
       "      <th>tr_acc</th>\n",
       "      <th>tr_precision</th>\n",
       "      <th>tr_recall</th>\n",
       "      <th>tr_f1-score</th>\n",
       "      <th>te_acc</th>\n",
       "      <th>te_precision</th>\n",
       "      <th>te_recall</th>\n",
       "      <th>te_f1-score</th>\n",
       "    </tr>\n",
       "  </thead>\n",
       "  <tbody>\n",
       "    <tr>\n",
       "      <th>0</th>\n",
       "      <td>Is_Bus_stop</td>\n",
       "      <td>0.604000</td>\n",
       "      <td>0.604359</td>\n",
       "      <td>0.604000</td>\n",
       "      <td>0.603659</td>\n",
       "      <td>0.548861</td>\n",
       "      <td>0.583550</td>\n",
       "      <td>0.548861</td>\n",
       "      <td>0.554058</td>\n",
       "    </tr>\n",
       "    <tr>\n",
       "      <th>1</th>\n",
       "      <td>Is_Turn</td>\n",
       "      <td>0.547645</td>\n",
       "      <td>0.547668</td>\n",
       "      <td>0.547645</td>\n",
       "      <td>0.547591</td>\n",
       "      <td>0.490816</td>\n",
       "      <td>0.615047</td>\n",
       "      <td>0.490816</td>\n",
       "      <td>0.517814</td>\n",
       "    </tr>\n",
       "    <tr>\n",
       "      <th>2</th>\n",
       "      <td>Is_Signal</td>\n",
       "      <td>0.625543</td>\n",
       "      <td>0.625680</td>\n",
       "      <td>0.625543</td>\n",
       "      <td>0.625441</td>\n",
       "      <td>0.512123</td>\n",
       "      <td>0.900788</td>\n",
       "      <td>0.512123</td>\n",
       "      <td>0.625524</td>\n",
       "    </tr>\n",
       "    <tr>\n",
       "      <th>3</th>\n",
       "      <td>Is_Congestion</td>\n",
       "      <td>0.620826</td>\n",
       "      <td>0.620942</td>\n",
       "      <td>0.620826</td>\n",
       "      <td>0.620735</td>\n",
       "      <td>0.800882</td>\n",
       "      <td>0.950769</td>\n",
       "      <td>0.800882</td>\n",
       "      <td>0.868209</td>\n",
       "    </tr>\n",
       "    <tr>\n",
       "      <th>4</th>\n",
       "      <td>Is_Adhoc</td>\n",
       "      <td>0.613068</td>\n",
       "      <td>0.622738</td>\n",
       "      <td>0.613068</td>\n",
       "      <td>0.605294</td>\n",
       "      <td>0.512858</td>\n",
       "      <td>0.542795</td>\n",
       "      <td>0.512858</td>\n",
       "      <td>0.504676</td>\n",
       "    </tr>\n",
       "  </tbody>\n",
       "</table>\n",
       "</div>"
      ],
      "text/plain": [
       "             poi    tr_acc  tr_precision  tr_recall  tr_f1-score    te_acc  \\\n",
       "0    Is_Bus_stop  0.604000      0.604359   0.604000     0.603659  0.548861   \n",
       "1        Is_Turn  0.547645      0.547668   0.547645     0.547591  0.490816   \n",
       "2      Is_Signal  0.625543      0.625680   0.625543     0.625441  0.512123   \n",
       "3  Is_Congestion  0.620826      0.620942   0.620826     0.620735  0.800882   \n",
       "4       Is_Adhoc  0.613068      0.622738   0.613068     0.605294  0.512858   \n",
       "\n",
       "   te_precision  te_recall  te_f1-score  \n",
       "0      0.583550   0.548861     0.554058  \n",
       "1      0.615047   0.490816     0.517814  \n",
       "2      0.900788   0.512123     0.625524  \n",
       "3      0.950769   0.800882     0.868209  \n",
       "4      0.542795   0.512858     0.504676  "
      ]
     },
     "execution_count": 9,
     "metadata": {},
     "output_type": "execute_result"
    }
   ],
   "source": [
    "df=pd.DataFrame(perf)\n",
    "df.to_csv(\"./logs/model_performace_logreg.csv\",index=False)\n",
    "df"
   ]
  },
  {
   "cell_type": "code",
   "execution_count": 10,
   "metadata": {},
   "outputs": [],
   "source": [
    "#Saving Models\n",
    "with open('./logs/logreg.pickle', 'wb') as handle:\n",
    "    pickle.dump(rfs, handle, protocol=pickle.HIGHEST_PROTOCOL)"
   ]
  },
  {
   "cell_type": "code",
   "execution_count": 11,
   "metadata": {},
   "outputs": [],
   "source": [
    "coefficient=[]\n",
    "for poi_column in rfs.keys():\n",
    "    coefficient.append(dict(zip(selected_feat[poi_column]+['bias'],[*rfs[poi_column].coef_[0], *rfs[poi_column].intercept_])))\n",
    "\n",
    "df=pd.DataFrame(coefficient,index=rfs.keys())[list(F.values())+['bias']]"
   ]
  },
  {
   "cell_type": "code",
   "execution_count": 12,
   "metadata": {},
   "outputs": [],
   "source": [
    "df.columns=[f'coef_f{e}' for e in F.keys()]+['bias']"
   ]
  },
  {
   "cell_type": "code",
   "execution_count": 13,
   "metadata": {},
   "outputs": [
    {
     "data": {
      "text/html": [
       "<div>\n",
       "<style scoped>\n",
       "    .dataframe tbody tr th:only-of-type {\n",
       "        vertical-align: middle;\n",
       "    }\n",
       "\n",
       "    .dataframe tbody tr th {\n",
       "        vertical-align: top;\n",
       "    }\n",
       "\n",
       "    .dataframe thead th {\n",
       "        text-align: right;\n",
       "    }\n",
       "</style>\n",
       "<table border=\"1\" class=\"dataframe\">\n",
       "  <thead>\n",
       "    <tr style=\"text-align: right;\">\n",
       "      <th></th>\n",
       "      <th>Is_Bus_stop</th>\n",
       "      <th>Is_Turn</th>\n",
       "      <th>Is_Signal</th>\n",
       "      <th>Is_Congestion</th>\n",
       "      <th>Is_Adhoc</th>\n",
       "    </tr>\n",
       "  </thead>\n",
       "  <tbody>\n",
       "    <tr>\n",
       "      <th>coef_f1</th>\n",
       "      <td>0.0013</td>\n",
       "      <td>0.0015</td>\n",
       "      <td>-0.0112</td>\n",
       "      <td>0.0043</td>\n",
       "      <td>0.0013</td>\n",
       "    </tr>\n",
       "    <tr>\n",
       "      <th>coef_f2</th>\n",
       "      <td>-0.0109</td>\n",
       "      <td>-0.0043</td>\n",
       "      <td>-0.0100</td>\n",
       "      <td>0.0112</td>\n",
       "      <td>0.0011</td>\n",
       "    </tr>\n",
       "    <tr>\n",
       "      <th>coef_f3</th>\n",
       "      <td>-0.0183</td>\n",
       "      <td>-0.0051</td>\n",
       "      <td>-0.0252</td>\n",
       "      <td>0.0147</td>\n",
       "      <td>0.0054</td>\n",
       "    </tr>\n",
       "    <tr>\n",
       "      <th>coef_f4</th>\n",
       "      <td>-0.0030</td>\n",
       "      <td>0.0112</td>\n",
       "      <td>-0.0197</td>\n",
       "      <td>0.0144</td>\n",
       "      <td>-0.0088</td>\n",
       "    </tr>\n",
       "    <tr>\n",
       "      <th>coef_f5</th>\n",
       "      <td>-0.0484</td>\n",
       "      <td>-0.0015</td>\n",
       "      <td>0.0096</td>\n",
       "      <td>-0.0668</td>\n",
       "      <td>0.0321</td>\n",
       "    </tr>\n",
       "    <tr>\n",
       "      <th>coef_f6</th>\n",
       "      <td>0.0529</td>\n",
       "      <td>-0.0163</td>\n",
       "      <td>0.0513</td>\n",
       "      <td>-0.0474</td>\n",
       "      <td>0.0012</td>\n",
       "    </tr>\n",
       "    <tr>\n",
       "      <th>coef_f7</th>\n",
       "      <td>0.0609</td>\n",
       "      <td>0.0086</td>\n",
       "      <td>0.0680</td>\n",
       "      <td>0.0508</td>\n",
       "      <td>-0.1517</td>\n",
       "    </tr>\n",
       "    <tr>\n",
       "      <th>coef_f8</th>\n",
       "      <td>0.1261</td>\n",
       "      <td>0.1453</td>\n",
       "      <td>1.1160</td>\n",
       "      <td>0.0803</td>\n",
       "      <td>-0.0662</td>\n",
       "    </tr>\n",
       "    <tr>\n",
       "      <th>coef_f9</th>\n",
       "      <td>-0.0137</td>\n",
       "      <td>-0.0116</td>\n",
       "      <td>-0.0018</td>\n",
       "      <td>0.0623</td>\n",
       "      <td>-0.0553</td>\n",
       "    </tr>\n",
       "    <tr>\n",
       "      <th>coef_f10</th>\n",
       "      <td>0.5162</td>\n",
       "      <td>-0.2090</td>\n",
       "      <td>-0.8386</td>\n",
       "      <td>-0.1327</td>\n",
       "      <td>0.0679</td>\n",
       "    </tr>\n",
       "    <tr>\n",
       "      <th>coef_f11</th>\n",
       "      <td>0.4042</td>\n",
       "      <td>0.0219</td>\n",
       "      <td>3.1561</td>\n",
       "      <td>-0.8394</td>\n",
       "      <td>0.1492</td>\n",
       "    </tr>\n",
       "    <tr>\n",
       "      <th>coef_f12</th>\n",
       "      <td>-0.1372</td>\n",
       "      <td>0.0382</td>\n",
       "      <td>0.2974</td>\n",
       "      <td>-0.1933</td>\n",
       "      <td>0.0293</td>\n",
       "    </tr>\n",
       "    <tr>\n",
       "      <th>coef_f13</th>\n",
       "      <td>0.2810</td>\n",
       "      <td>0.4190</td>\n",
       "      <td>-0.2648</td>\n",
       "      <td>0.1670</td>\n",
       "      <td>-0.2948</td>\n",
       "    </tr>\n",
       "    <tr>\n",
       "      <th>bias</th>\n",
       "      <td>0.4914</td>\n",
       "      <td>0.0036</td>\n",
       "      <td>-0.6550</td>\n",
       "      <td>-1.0562</td>\n",
       "      <td>0.2980</td>\n",
       "    </tr>\n",
       "  </tbody>\n",
       "</table>\n",
       "</div>"
      ],
      "text/plain": [
       "          Is_Bus_stop  Is_Turn  Is_Signal  Is_Congestion  Is_Adhoc\n",
       "coef_f1        0.0013   0.0015    -0.0112         0.0043    0.0013\n",
       "coef_f2       -0.0109  -0.0043    -0.0100         0.0112    0.0011\n",
       "coef_f3       -0.0183  -0.0051    -0.0252         0.0147    0.0054\n",
       "coef_f4       -0.0030   0.0112    -0.0197         0.0144   -0.0088\n",
       "coef_f5       -0.0484  -0.0015     0.0096        -0.0668    0.0321\n",
       "coef_f6        0.0529  -0.0163     0.0513        -0.0474    0.0012\n",
       "coef_f7        0.0609   0.0086     0.0680         0.0508   -0.1517\n",
       "coef_f8        0.1261   0.1453     1.1160         0.0803   -0.0662\n",
       "coef_f9       -0.0137  -0.0116    -0.0018         0.0623   -0.0553\n",
       "coef_f10       0.5162  -0.2090    -0.8386        -0.1327    0.0679\n",
       "coef_f11       0.4042   0.0219     3.1561        -0.8394    0.1492\n",
       "coef_f12      -0.1372   0.0382     0.2974        -0.1933    0.0293\n",
       "coef_f13       0.2810   0.4190    -0.2648         0.1670   -0.2948\n",
       "bias           0.4914   0.0036    -0.6550        -1.0562    0.2980"
      ]
     },
     "execution_count": 13,
     "metadata": {},
     "output_type": "execute_result"
    }
   ],
   "source": [
    "df.round(4).T.to_csv(\"./logs/logreg_coef.csv\")\n",
    "df.round(4).T"
   ]
  },
  {
   "cell_type": "code",
   "execution_count": 21,
   "metadata": {},
   "outputs": [],
   "source": [
    "import pandas as pd\n",
    "df=pd.read_csv(\"./logs/logreg_coef.csv\",index_col=\"Unnamed: 0\")[:-1]"
   ]
  },
  {
   "cell_type": "code",
   "execution_count": 39,
   "metadata": {},
   "outputs": [
    {
     "name": "stdout",
     "output_type": "stream",
     "text": [
      "Feature Importance Order according to BuStop\n"
     ]
    },
    {
     "data": {
      "text/plain": [
       "{'Is_Bus_stop': [10, 12, 11, 1, 8],\n",
       " 'Is_Turn': [10, 12, 11, 1, 8, 9],\n",
       " 'Is_Signal': [12, 11, 10, 8, 9],\n",
       " 'Is_Congestion': [2, 11, 10, 9, 12, 8, 6, 1],\n",
       " 'Is_Adhoc': [10, 11, 1, 12, 2]}"
      ]
     },
     "execution_count": 39,
     "metadata": {},
     "output_type": "execute_result"
    }
   ],
   "source": [
    "print(\"Feature Importance Order according to BuStop\")\n",
    "{'Is_Bus_stop':[10,12,11,1,8],\n",
    "'Is_Turn':[10,12,11,1,8,9],\n",
    "'Is_Signal':[12,11,10,8,9],\n",
    "'Is_Congestion':[2,11,10,9,12,8,6,1],\n",
    "'Is_Adhoc':[10,11,1,12,2]}"
   ]
  },
  {
   "cell_type": "code",
   "execution_count": 40,
   "metadata": {},
   "outputs": [
    {
     "name": "stdout",
     "output_type": "stream",
     "text": [
      "Feature Importance Order according to Logistic Regression\n"
     ]
    },
    {
     "data": {
      "text/plain": [
       "{'Is_Bus_stop': [10, 11, 13, 8, 7],\n",
       " 'Is_Turn': [13, 8, 12, 11, 4, 7],\n",
       " 'Is_Signal': [11, 8, 12, 7, 6],\n",
       " 'Is_Congestion': [13, 8, 9, 7, 3, 4, 2, 1],\n",
       " 'Is_Adhoc': [11, 10, 5, 12, 3]}"
      ]
     },
     "execution_count": 40,
     "metadata": {},
     "output_type": "execute_result"
    }
   ],
   "source": [
    "print(\"Feature Importance Order according to Logistic Regression\")\n",
    "{'Is_Bus_stop':[int(e.replace(\"coef_f\",\"\")) for e in df.Is_Bus_stop.sort_values(ascending=False)[:5].index.to_list()],\n",
    "'Is_Turn':[int(e.replace(\"coef_f\",\"\")) for e in df.Is_Turn.sort_values(ascending=False)[:6].index.to_list()],\n",
    "'Is_Signal':[int(e.replace(\"coef_f\",\"\")) for e in df.Is_Signal.sort_values(ascending=False)[:5].index.to_list()],\n",
    "'Is_Congestion':[int(e.replace(\"coef_f\",\"\")) for e in df.Is_Congestion.sort_values(ascending=False)[:8].index.to_list()],\n",
    "'Is_Adhoc':[int(e.replace(\"coef_f\",\"\")) for e in df.Is_Adhoc.sort_values(ascending=False)[:5].index.to_list()]}"
   ]
  },
  {
   "cell_type": "code",
   "execution_count": 14,
   "metadata": {},
   "outputs": [],
   "source": [
    "#NICE"
   ]
  }
 ],
 "metadata": {
  "kernelspec": {
   "display_name": "Python 3 (ipykernel)",
   "language": "python",
   "name": "python3"
  },
  "language_info": {
   "codemirror_mode": {
    "name": "ipython",
    "version": 3
   },
   "file_extension": ".py",
   "mimetype": "text/x-python",
   "name": "python",
   "nbconvert_exporter": "python",
   "pygments_lexer": "ipython3",
   "version": "3.8.12"
  }
 },
 "nbformat": 4,
 "nbformat_minor": 2
}
